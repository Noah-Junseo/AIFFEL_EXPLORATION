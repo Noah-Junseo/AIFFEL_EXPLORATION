{
 "cells": [
  {
   "cell_type": "markdown",
   "metadata": {},
   "source": [
    "# [E-04] LyricistAI\n",
    "\n",
    "\n",
    "### [루브릭]\n",
    "평가문항\t상세기준\n",
    "1. 가사 텍스트 생성 모델이 정상적으로 동작하는가?  \n",
    "  -텍스트 제너레이션 결과가 그럴듯한 문장으로 생성되는가?  \n",
    "      \n",
    "      \n",
    "2. 데이터의 전처리와 데이터셋 구성 과정이 체계적으로 진행되었는가?  \n",
    "  -특수문자 제거, 토크나이저 생성, 패딩처리 등의 과정이 빠짐없이 진행되었는가?  \n",
    "     \n",
    "     \n",
    "3. 텍스트 생성모델이 안정적으로 학습되었는가?  \n",
    "  -텍스트 생성모델의 validation loss가 2.2 이하로 낮아졌는가?  \n",
    "    \n",
    "### [학습 과정]\n",
    "1. 데이터 다운로드\n",
    "2. 데이터 읽어오기\n",
    "3. 데이터 정제\n",
    "4. 평가 데이터셋 분리\n",
    "5. 인공지능 만들기\n",
    "\n",
    "### [결과 및 회고]"
   ]
  },
  {
   "cell_type": "markdown",
   "metadata": {},
   "source": [
    "### 데이터 읽어오기"
   ]
  },
  {
   "cell_type": "code",
   "execution_count": 1,
   "metadata": {},
   "outputs": [
    {
     "name": "stdout",
     "output_type": "stream",
     "text": [
      "데이터 크기: 187088\n",
      "Examples:\n",
      " [\"Now I've heard there was a secret chord\", 'That David played, and it pleased the Lord', \"But you don't really care for music, do you?\", 'It goes like this', 'The fourth, the fifth', 'The minor fall, the major lift', 'The baffled king composing Hallelujah Hallelujah', 'Hallelujah', 'Hallelujah', 'Hallelujah Your faith was strong but you needed proof', 'You saw her bathing on the roof', 'Her beauty and the moonlight overthrew her', 'She tied you', 'To a kitchen chair', 'She broke your throne, and she cut your hair', 'And from your lips she drew the Hallelujah Hallelujah', 'Hallelujah', 'Hallelujah', 'Hallelujah You say I took the name in vain', \"I don't even know the name\", \"But if I did, well really, what's it to you?\", \"There's a blaze of light\", 'In every word', \"It doesn't matter which you heard\", 'The holy or the broken Hallelujah Hallelujah', 'Hallelujah', 'Hallelujah', \"Hallelujah I did my best, it wasn't much\", \"I couldn't feel, so I tried to touch\", \"I've told the truth, I didn't come to fool you\"]\n"
     ]
    }
   ],
   "source": [
    "import re                  \n",
    "import numpy as np         \n",
    "import tensorflow as tf \n",
    "import glob\n",
    "import os\n",
    "\n",
    "txt_file_path = os.getenv('HOME')+'/aiffel/lyricist/data/lyrics/*'\n",
    "\n",
    "txt_list = glob.glob(txt_file_path)\n",
    "\n",
    "raw_corpus = []\n",
    "\n",
    "# 여러개의 txt 파일을 모두 읽어서 raw_corpus 에 담습니다.\n",
    "for txt_file in txt_list:\n",
    "    with open(txt_file, \"r\") as f:\n",
    "        raw = f.read().splitlines()\n",
    "        raw_corpus.extend(raw)\n",
    "\n",
    "print(\"데이터 크기:\", len(raw_corpus))\n",
    "print(\"Examples:\\n\", raw_corpus[:30])"
   ]
  },
  {
   "cell_type": "markdown",
   "metadata": {},
   "source": [
    "### 데이터 정제하기"
   ]
  },
  {
   "cell_type": "code",
   "execution_count": 2,
   "metadata": {
    "scrolled": false
   },
   "outputs": [
    {
     "name": "stdout",
     "output_type": "stream",
     "text": [
      "Now I've heard there was a secret chord\n",
      "That David played, and it pleased the Lord\n",
      "But you don't really care for music, do you?\n",
      "It goes like this\n",
      "The fourth, the fifth\n",
      "The minor fall, the major lift\n",
      "The baffled king composing Hallelujah Hallelujah\n",
      "Hallelujah\n",
      "Hallelujah\n",
      "Hallelujah Your faith was strong but you needed proof\n",
      "You saw her bathing on the roof\n",
      "Her beauty and the moonlight overthrew her\n",
      "She tied you\n",
      "To a kitchen chair\n",
      "She broke your throne, and she cut your hair\n",
      "And from your lips she drew the Hallelujah Hallelujah\n",
      "Hallelujah\n",
      "Hallelujah\n",
      "Hallelujah You say I took the name in vain\n",
      "I don't even know the name\n",
      "But if I did, well really, what's it to you?\n",
      "There's a blaze of light\n",
      "In every word\n",
      "It doesn't matter which you heard\n",
      "The holy or the broken Hallelujah Hallelujah\n",
      "Hallelujah\n",
      "Hallelujah\n",
      "Hallelujah I did my best, it wasn't much\n",
      "I couldn't feel, so I tried to touch\n",
      "I've told the truth, I didn't come to fool you\n",
      "And even though\n"
     ]
    }
   ],
   "source": [
    "for idx, sentence in enumerate(raw_corpus):\n",
    "    if len(sentence) == 0: continue   # 길이가 0인 문장은 건너뜁니다.\n",
    "    #if sentence[0] == \"[\": continue   # 문장 처음이 '[' 인 문장은 건너뜁니다.\n",
    "    #if sentence[-1] == \"]\": continue  # 문장 끝이 ']' 인 문장은 건너뜁니다\n",
    "    if idx > 30: break   # 문장 30개만 확인\n",
    "    print(sentence)"
   ]
  },
  {
   "cell_type": "markdown",
   "metadata": {},
   "source": [
    "토큰화\n",
    "\n",
    "1. 문장 부호 양쪽에 공백을 추가\n",
    "2. 모든 문자들을 소문자로 변환\n",
    "3. 특수문자들은 모두 제거"
   ]
  },
  {
   "cell_type": "code",
   "execution_count": 3,
   "metadata": {},
   "outputs": [],
   "source": [
    "def preprocess_sentence(sentence):\n",
    "    sentence = sentence.lower().strip()       # 소문자로 바꾸고 양쪽 공백을 삭제\n",
    "  \n",
    "    # 아래 3단계를 거쳐 sentence는 스페이스 1개를 delimeter로 하는 소문자 단어 시퀀스로 바뀝니다.\n",
    "    sentence = re.sub(r\"([?.!,¿])\", r\" \\1 \", sentence)       # 패턴의 특수문자를 만나면 특수문자 양쪽에 공백을 추가\n",
    "    sentence = re.sub(r'[\" \"]+', \" \", sentence)              # 공백 패턴을 만나면 스페이스 1개로 치환\n",
    "    sentence = re.sub(r\"[^a-zA-Z?.!,¿]+\", \" \", sentence)  # a-zA-Z?.!,¿ 패턴을 제외한 모든 문자(공백문자까지도)를 스페이스 1개로 치환\n",
    "    \n",
    "    sentence = sentence.strip()\n",
    "\n",
    "    sentence = '<start> ' + sentence + ' <end>'      # 문장 앞뒤로 <start>와 <end>를 단어처럼 붙여줌\n",
    "    \n",
    "    if \"verse\" in sentence:\n",
    "        sentence = sentence.replace(\"verse\", \"\")\n",
    "    if \"chorus\" in sentence:\n",
    "        sentence = sentence.replace(\"chorus\", \"\")\n",
    "    \n",
    "    \n",
    "    return sentence\n"
   ]
  },
  {
   "cell_type": "code",
   "execution_count": 4,
   "metadata": {},
   "outputs": [
    {
     "name": "stdout",
     "output_type": "stream",
     "text": [
      "175950\n"
     ]
    }
   ],
   "source": [
    "corpus = []\n",
    "\n",
    "for sentence in raw_corpus:\n",
    "    if len(sentence) == 0: continue\n",
    "    if len(sentence) == 1: continue    \n",
    "    corpus.append(preprocess_sentence(sentence))\n",
    "corpus.remove('<start>  <end>')         \n",
    "\n",
    "corpus[:30]\n",
    "print(len(corpus))"
   ]
  },
  {
   "cell_type": "code",
   "execution_count": 5,
   "metadata": {},
   "outputs": [
    {
     "name": "stderr",
     "output_type": "stream",
     "text": [
      "/opt/conda/lib/python3.9/site-packages/numpy/lib/function_base.py:4454: VisibleDeprecationWarning: Creating an ndarray from ragged nested sequences (which is a list-or-tuple of lists-or-tuples-or ndarrays with different lengths or shapes) is deprecated. If you meant to do this, you must specify 'dtype=object' when creating the ndarray.\n",
      "  arr = asarray(arr)\n"
     ]
    },
    {
     "name": "stdout",
     "output_type": "stream",
     "text": [
      "152501\n",
      "[[   2   50    5 ...    0    0    0]\n",
      " [   2   92   12 ...    0    0    0]\n",
      " [   2   78  921 ...    0    0    0]\n",
      " ...\n",
      " [   5   22    9 ...   10 1013    3]\n",
      " [  37   15 9056 ...  876  642    3]\n",
      " [   2    7   34 ...    0    0    0]] <keras_preprocessing.text.Tokenizer object at 0x7efd5878c820>\n"
     ]
    }
   ],
   "source": [
    "def tokenize(corpus):\n",
    "    # 텐서플로우에서 제공하는 Tokenizer 패키지를 생성\n",
    "    tokenizer = tf.keras.preprocessing.text.Tokenizer(\n",
    "        num_words=15000,  # 전체 단어의 개수 \n",
    "        filters=' ',    # 별도로 전처리 로직을 추가할 수 있음. 이번에는 사용하지 안함\n",
    "        oov_token=\"<unk>\"  # out-of-vocabulary, 사전에 없었던 단어는 <unk> 처리\n",
    "    )\n",
    "    tokenizer.fit_on_texts(corpus)   # 구축한 corpus로부터 Tokenizer가 사전을 자동구축\n",
    "\n",
    "    # 이후 tokenizer를 활용하여 모델에 입력할 데이터셋을 구축하\n",
    "    tensor = tokenizer.texts_to_sequences(corpus)   # tokenizer는 구축한 사전으로부터 corpus를 해석해 Tensor로 변환.\n",
    "   \n",
    "    for num in tensor:\n",
    "        if len(num) >= 29:\n",
    "            tensor = np.delete(tensor, num)\n",
    "            \n",
    "    print(len(tensor))\n",
    "    tensor = tf.keras.preprocessing.sequence.pad_sequences(tensor, padding='post',maxlen=15)  \n",
    "\n",
    "    print(tensor,tokenizer)\n",
    "    return tensor, tokenizer\n",
    "\n",
    "    \n",
    "tensor, tokenizer = tokenize(corpus)"
   ]
  },
  {
   "cell_type": "code",
   "execution_count": 6,
   "metadata": {},
   "outputs": [
    {
     "name": "stdout",
     "output_type": "stream",
     "text": [
      "1 : <unk>\n",
      "2 : <start>\n",
      "3 : <end>\n",
      "4 : ,\n",
      "5 : i\n",
      "6 : the\n",
      "7 : you\n",
      "8 : and\n",
      "9 : a\n",
      "10 : to\n"
     ]
    }
   ],
   "source": [
    "# 단어 사전 어떻게 생겼는지 확인\n",
    "for idx in tokenizer.index_word:\n",
    "    print(idx, \":\", tokenizer.index_word[idx])\n",
    "\n",
    "    if idx >= 10: break"
   ]
  },
  {
   "cell_type": "code",
   "execution_count": 7,
   "metadata": {},
   "outputs": [
    {
     "name": "stdout",
     "output_type": "stream",
     "text": [
      "[   2   50    5   91  296   64   57    9  968 6044    3    0    0    0]\n",
      "[  50    5   91  296   64   57    9  968 6044    3    0    0    0    0]\n"
     ]
    }
   ],
   "source": [
    "src_input = tensor[:, :-1]  # tensor에서 마지막 토큰을 잘라내서 소스 문장을 생성. 마지막 토큰은 <end>가 아니라 <pad>일 가능성이 높다.\n",
    "tgt_input = tensor[:, 1:]    # tensor에서 <start>를 잘라내서 타겟 문장을 생성.\n",
    "\n",
    "print(src_input[0])\n",
    "print(tgt_input[0])"
   ]
  },
  {
   "cell_type": "code",
   "execution_count": 8,
   "metadata": {},
   "outputs": [],
   "source": [
    "from sklearn.model_selection import train_test_split\n",
    "\n",
    "enc_train, enc_val, dec_train, dec_val = train_test_split(src_input,\n",
    "                                                          tgt_input,\n",
    "                                                          train_size = 0.8)"
   ]
  },
  {
   "cell_type": "code",
   "execution_count": 9,
   "metadata": {},
   "outputs": [
    {
     "name": "stdout",
     "output_type": "stream",
     "text": [
      "Source Train: (122000, 14)\n",
      "Target Train: (122000, 14)\n"
     ]
    }
   ],
   "source": [
    "print(\"Source Train:\", enc_train.shape)\n",
    "print(\"Target Train:\", dec_train.shape)"
   ]
  },
  {
   "cell_type": "markdown",
   "metadata": {},
   "source": [
    "학습데이터 갯수가 122000개 이하이므로 이대로 학습을 시켜주겠습니다"
   ]
  },
  {
   "cell_type": "markdown",
   "metadata": {},
   "source": [
    "평가 데이터셋 만들기"
   ]
  },
  {
   "cell_type": "code",
   "execution_count": 10,
   "metadata": {},
   "outputs": [
    {
     "data": {
      "text/plain": [
       "<BatchDataset shapes: ((256, 14), (256, 14)), types: (tf.int32, tf.int32)>"
      ]
     },
     "execution_count": 10,
     "metadata": {},
     "output_type": "execute_result"
    }
   ],
   "source": [
    "BUFFER_SIZE = len(src_input)         \n",
    "BATCH_SIZE = 256                     \n",
    "steps_per_epoch = len(src_input) // BATCH_SIZE\n",
    "\n",
    "VOCAB_SIZE = tokenizer.num_words + 1    # tokenizer가 구축한 단어사전 내 15000개와, 여기 포함되지 않은 0:<pad>를 포함하여 15001개\n",
    "\n",
    "dataset = tf.data.Dataset.from_tensor_slices((src_input, tgt_input)).shuffle(BUFFER_SIZE)\n",
    "dataset = dataset.batch(BATCH_SIZE, drop_remainder=True)\n",
    "dataset"
   ]
  },
  {
   "cell_type": "markdown",
   "metadata": {},
   "source": [
    "인공지능 만들기"
   ]
  },
  {
   "cell_type": "code",
   "execution_count": 11,
   "metadata": {},
   "outputs": [],
   "source": [
    "class TextGenerator(tf.keras.Model):\n",
    "    def __init__(self, vocab_size, embedding_size, hidden_size):\n",
    "        super(TextGenerator, self).__init__()\n",
    "        \n",
    "        self.embedding = tf.keras.layers.Embedding(vocab_size, embedding_size)\n",
    "        self.rnn_1 = tf.keras.layers.LSTM(hidden_size, return_sequences=True)\n",
    "        self.rnn_2 = tf.keras.layers.LSTM(hidden_size, return_sequences=True)\n",
    "        self.drop  = tf.keras.layers.Dropout(0.5)\n",
    "        self.linear = tf.keras.layers.Dense(vocab_size)\n",
    "        \n",
    "    def call(self, x):\n",
    "        out = self.embedding(x)\n",
    "        out = self.rnn_1(out)\n",
    "        out = self.rnn_2(out)\n",
    "        out = self.drop(out)\n",
    "        out = self.linear(out)\n",
    "        \n",
    "        return out\n",
    "    \n",
    "embedding_size = 256\n",
    "hidden_size = 1024\n",
    "model = TextGenerator(tokenizer.num_words + 1, embedding_size , hidden_size)"
   ]
  },
  {
   "cell_type": "code",
   "execution_count": 12,
   "metadata": {},
   "outputs": [
    {
     "data": {
      "text/plain": [
       "<tf.Tensor: shape=(256, 14, 15001), dtype=float32, numpy=\n",
       "array([[[ 2.64854665e-04, -1.54421330e-04,  1.81756041e-04, ...,\n",
       "         -3.27119633e-04, -2.73513317e-04, -1.50728098e-04],\n",
       "        [ 6.35345699e-04, -6.81779929e-05,  3.84957995e-04, ...,\n",
       "         -5.16702945e-04, -1.44675520e-04, -2.14579035e-04],\n",
       "        [ 6.52917777e-04, -3.21432715e-04,  3.82908940e-04, ...,\n",
       "         -6.00533735e-04, -1.15710238e-04, -3.37158155e-04],\n",
       "        ...,\n",
       "        [ 6.42224797e-04, -8.33940518e-04,  6.00130006e-04, ...,\n",
       "         -4.30400338e-04, -8.63573572e-04,  2.23086361e-04],\n",
       "        [ 8.48118449e-04, -1.18168956e-03,  8.94331024e-04, ...,\n",
       "         -3.72861425e-04, -9.82851139e-04,  5.74046106e-04],\n",
       "        [ 1.04619726e-03, -1.52144046e-03,  1.17005093e-03, ...,\n",
       "         -3.38740268e-04, -1.09164231e-03,  9.50990652e-04]],\n",
       "\n",
       "       [[ 2.64854665e-04, -1.54421330e-04,  1.81756041e-04, ...,\n",
       "         -3.27119633e-04, -2.73513317e-04, -1.50728098e-04],\n",
       "        [ 5.52082551e-04, -1.62730357e-04,  3.54693126e-04, ...,\n",
       "         -4.44209785e-04, -4.94842534e-04,  5.11249782e-05],\n",
       "        [ 5.97904960e-04, -2.48856260e-04,  5.00135706e-04, ...,\n",
       "         -6.11330266e-04, -7.97429704e-04,  1.65480247e-04],\n",
       "        ...,\n",
       "        [ 7.06101710e-04, -1.45495730e-03,  1.31035538e-03, ...,\n",
       "         -7.28937855e-04, -1.09595770e-03,  5.42368332e-04],\n",
       "        [ 9.46636777e-04, -1.80846511e-03,  1.64946436e-03, ...,\n",
       "         -5.81030268e-04, -1.21664407e-03,  7.19577423e-04],\n",
       "        [ 1.15928077e-03, -2.13724980e-03,  1.94169465e-03, ...,\n",
       "         -4.45587357e-04, -1.31597940e-03,  9.65841813e-04]],\n",
       "\n",
       "       [[ 2.64854665e-04, -1.54421330e-04,  1.81756041e-04, ...,\n",
       "         -3.27119633e-04, -2.73513317e-04, -1.50728098e-04],\n",
       "        [ 4.06450825e-04, -4.25847335e-04,  5.88517170e-04, ...,\n",
       "         -6.54864649e-04, -3.33902106e-04, -1.69534716e-04],\n",
       "        [ 7.58547161e-04, -4.67138161e-04,  7.09117856e-04, ...,\n",
       "         -9.09549068e-04, -2.92187236e-04, -1.74834699e-04],\n",
       "        ...,\n",
       "        [ 1.08594354e-03, -7.37828261e-04, -5.08903293e-04, ...,\n",
       "         -7.73723368e-05, -9.73187562e-04,  1.04890787e-03],\n",
       "        [ 8.53908947e-04, -6.64639811e-04, -6.17990561e-04, ...,\n",
       "         -1.21800280e-04, -1.07579457e-03,  1.05197728e-03],\n",
       "        [ 6.78626238e-04, -5.77191822e-04, -4.06020496e-04, ...,\n",
       "         -3.04587855e-04, -1.39461213e-03,  1.02651946e-03]],\n",
       "\n",
       "       ...,\n",
       "\n",
       "       [[ 2.64854665e-04, -1.54421330e-04,  1.81756041e-04, ...,\n",
       "         -3.27119633e-04, -2.73513317e-04, -1.50728098e-04],\n",
       "        [ 3.15350771e-04, -2.60107510e-04,  3.40412022e-04, ...,\n",
       "         -7.00305041e-04, -1.82615913e-04, -2.23822266e-04],\n",
       "        [ 1.31082052e-04, -2.66927309e-05,  3.51248600e-04, ...,\n",
       "         -6.95110357e-04,  1.99653823e-05, -2.32457518e-04],\n",
       "        ...,\n",
       "        [-2.65468931e-04, -1.01512508e-03,  7.13746413e-04, ...,\n",
       "         -8.46441719e-04,  6.13239128e-04,  1.89755825e-04],\n",
       "        [-9.08857546e-05, -1.14521012e-03,  9.98703414e-04, ...,\n",
       "         -9.40029626e-04,  1.35631955e-04,  1.56273585e-04],\n",
       "        [ 2.09285732e-04, -1.37864996e-03,  1.32783619e-03, ...,\n",
       "         -9.18968755e-04, -2.40921960e-04,  1.62440701e-04]],\n",
       "\n",
       "       [[ 8.02941940e-05,  3.43580577e-05,  4.54035471e-05, ...,\n",
       "         -2.06698911e-04, -3.38189711e-05, -9.86534578e-05],\n",
       "        [ 2.84427777e-04,  1.57277213e-07, -5.35392137e-05, ...,\n",
       "         -3.05057940e-04,  1.56769675e-04, -1.04969411e-04],\n",
       "        [ 2.86093098e-04, -3.31979682e-04,  1.11756242e-04, ...,\n",
       "         -4.50355175e-04, -1.13443257e-05, -3.43942665e-05],\n",
       "        ...,\n",
       "        [-5.49025135e-04, -4.40416246e-04, -3.56341188e-04, ...,\n",
       "         -6.03972876e-04, -5.41652495e-04, -4.50404877e-05],\n",
       "        [-7.00612494e-04, -2.59302615e-04, -3.95501207e-04, ...,\n",
       "         -6.77191827e-04, -2.05624543e-04, -7.71068153e-05],\n",
       "        [-8.86764145e-04, -4.36503396e-05, -4.69007238e-04, ...,\n",
       "         -6.20182487e-04,  1.19136246e-04, -2.23866504e-04]],\n",
       "\n",
       "       [[ 8.86385315e-05,  2.85347196e-05,  1.92923486e-04, ...,\n",
       "          5.18145839e-07, -1.63371500e-04,  4.43287063e-05],\n",
       "        [ 1.17978030e-04,  1.87410405e-04,  2.74241957e-05, ...,\n",
       "         -1.06316453e-04, -9.22102263e-05,  8.56581755e-05],\n",
       "        [ 2.43756353e-04,  3.39092425e-04, -4.00163481e-05, ...,\n",
       "         -7.04434497e-05, -7.12067558e-05,  1.94678054e-04],\n",
       "        ...,\n",
       "        [-7.23296835e-04,  7.20626034e-04, -3.56883866e-05, ...,\n",
       "          9.10292729e-04,  8.52502359e-04,  7.95032247e-04],\n",
       "        [-7.24476529e-04,  8.65640061e-04, -9.40222308e-05, ...,\n",
       "          8.88817478e-04,  9.75116622e-04,  7.70246726e-04],\n",
       "        [-8.93806107e-04,  8.91312782e-04, -3.66157728e-05, ...,\n",
       "          1.00835669e-03,  9.95447976e-04,  9.33662639e-04]]],\n",
       "      dtype=float32)>"
      ]
     },
     "execution_count": 12,
     "metadata": {},
     "output_type": "execute_result"
    }
   ],
   "source": [
    "for src_sample, tgt_sample in dataset.take(1): break\n",
    "model(src_sample)"
   ]
  },
  {
   "cell_type": "code",
   "execution_count": 13,
   "metadata": {},
   "outputs": [
    {
     "name": "stdout",
     "output_type": "stream",
     "text": [
      "Model: \"text_generator\"\n",
      "_________________________________________________________________\n",
      "Layer (type)                 Output Shape              Param #   \n",
      "=================================================================\n",
      "embedding (Embedding)        multiple                  3840256   \n",
      "_________________________________________________________________\n",
      "lstm (LSTM)                  multiple                  5246976   \n",
      "_________________________________________________________________\n",
      "lstm_1 (LSTM)                multiple                  8392704   \n",
      "_________________________________________________________________\n",
      "dropout (Dropout)            multiple                  0         \n",
      "_________________________________________________________________\n",
      "dense (Dense)                multiple                  15376025  \n",
      "=================================================================\n",
      "Total params: 32,855,961\n",
      "Trainable params: 32,855,961\n",
      "Non-trainable params: 0\n",
      "_________________________________________________________________\n"
     ]
    }
   ],
   "source": [
    "model.summary()"
   ]
  },
  {
   "cell_type": "code",
   "execution_count": 22,
   "metadata": {
    "scrolled": false
   },
   "outputs": [
    {
     "name": "stdout",
     "output_type": "stream",
     "text": [
      "Epoch 1/10\n",
      "595/595 [==============================] - 116s 192ms/step - loss: 1.2890\n",
      "Epoch 2/10\n",
      "595/595 [==============================] - 113s 190ms/step - loss: 1.2680\n",
      "Epoch 3/10\n",
      "595/595 [==============================] - 114s 191ms/step - loss: 1.2523\n",
      "Epoch 4/10\n",
      "595/595 [==============================] - 114s 191ms/step - loss: 1.2373\n",
      "Epoch 5/10\n",
      "595/595 [==============================] - 114s 191ms/step - loss: 1.2254\n",
      "Epoch 6/10\n",
      "595/595 [==============================] - 114s 190ms/step - loss: 1.2116\n",
      "Epoch 7/10\n",
      "595/595 [==============================] - 114s 190ms/step - loss: 1.1989\n",
      "Epoch 8/10\n",
      "595/595 [==============================] - 113s 190ms/step - loss: 1.1884\n",
      "Epoch 9/10\n",
      "595/595 [==============================] - 113s 190ms/step - loss: 1.1782\n",
      "Epoch 10/10\n",
      "595/595 [==============================] - 113s 190ms/step - loss: 1.1689\n"
     ]
    },
    {
     "data": {
      "text/plain": [
       "<keras.callbacks.History at 0x7efc481d5e50>"
      ]
     },
     "execution_count": 22,
     "metadata": {},
     "output_type": "execute_result"
    }
   ],
   "source": [
    "optimizer = tf.keras.optimizers.Adam()\n",
    "loss = tf.keras.losses.SparseCategoricalCrossentropy(\n",
    "    from_logits=True,\n",
    "    reduction='none'\n",
    ")\n",
    "\n",
    "model.compile(loss=loss, optimizer=optimizer)\n",
    "model.fit(dataset, epochs=10)"
   ]
  },
  {
   "cell_type": "code",
   "execution_count": 23,
   "metadata": {},
   "outputs": [
    {
     "name": "stdout",
     "output_type": "stream",
     "text": [
      "954/954 - 12s - loss: 0.9314\n",
      "0.9313664436340332\n"
     ]
    }
   ],
   "source": [
    "results = model.evaluate(enc_val,  dec_val, verbose=2)\n",
    "\n",
    "print(results)"
   ]
  },
  {
   "cell_type": "markdown",
   "metadata": {},
   "source": [
    "잘 만들어졌는지 평가하기"
   ]
  },
  {
   "cell_type": "code",
   "execution_count": 24,
   "metadata": {},
   "outputs": [],
   "source": [
    "def generate_text(model, tokenizer, init_sentence=\"<start>\", max_len=20):\n",
    "    # 테스트를 위해서 입력받은 init_sentence도 일단 텐서로 변환.\n",
    "    test_input = tokenizer.texts_to_sequences([init_sentence])\n",
    "    test_tensor = tf.convert_to_tensor(test_input, dtype=tf.int64)\n",
    "    end_token = tokenizer.word_index[\"<end>\"]\n",
    "\n",
    "    # 텍스트를 실제로 생성할때는 루프를 돌면서 단어 하나씩 생성해야 합니다. \n",
    "    while True:\n",
    "        predict = model(test_tensor)  # 입력받은 문장의 텐서를 입력합니다. \n",
    "        predict_word = tf.argmax(tf.nn.softmax(predict, axis=-1), axis=-1)[:, -1]   # 우리 모델이 예측한 마지막 단어가 바로 새롭게 생성한 단어가 됩니다. \n",
    "\n",
    "        # 우리 모델이 새롭게 예측한 단어를 입력 문장의 뒤에 붙여 줍니다. \n",
    "        test_tensor = tf.concat([test_tensor, \n",
    "                                 tf.expand_dims(predict_word, axis=0)], axis=-1)\n",
    "\n",
    "        # 우리 모델이 <end>를 예측했거나, max_len에 도달하지 않았다면  while 루프를 또 돌면서 다음 단어를 예측해야 합니다.\n",
    "        if predict_word.numpy()[0] == end_token: break\n",
    "        if test_tensor.shape[1] >= max_len: break\n",
    "\n",
    "    generated = \"\"\n",
    "    # 생성된 tensor 안에 있는 word index를 tokenizer.index_word 사전을 통해 실제 단어로 하나씩 변환합니다. \n",
    "    for word_index in test_tensor[0].numpy():\n",
    "        generated += tokenizer.index_word[word_index] + \" \"\n",
    "\n",
    "    return generated   # 이것이 최종적으로 모델이 생성한 자연어 문장입니다."
   ]
  },
  {
   "cell_type": "code",
   "execution_count": 25,
   "metadata": {},
   "outputs": [
    {
     "data": {
      "text/plain": [
       "'<start> i love you <end> '"
      ]
     },
     "execution_count": 25,
     "metadata": {},
     "output_type": "execute_result"
    }
   ],
   "source": [
    "generate_text(model, tokenizer, init_sentence=\"<start> i love\")"
   ]
  },
  {
   "cell_type": "code",
   "execution_count": 26,
   "metadata": {},
   "outputs": [
    {
     "data": {
      "text/plain": [
       "'<start> i have a power , take back it s mine <end> '"
      ]
     },
     "execution_count": 26,
     "metadata": {},
     "output_type": "execute_result"
    }
   ],
   "source": [
    "generate_text(model, tokenizer, init_sentence=\"<start> i have\")"
   ]
  },
  {
   "cell_type": "code",
   "execution_count": 27,
   "metadata": {},
   "outputs": [
    {
     "data": {
      "text/plain": [
       "'<start> that you re a liar , a liar <end> '"
      ]
     },
     "execution_count": 27,
     "metadata": {},
     "output_type": "execute_result"
    }
   ],
   "source": [
    "generate_text(model, tokenizer, init_sentence=\"<start> that you\")"
   ]
  },
  {
   "cell_type": "code",
   "execution_count": 28,
   "metadata": {
    "scrolled": true
   },
   "outputs": [
    {
     "data": {
      "text/plain": [
       "'<start> what makes the world go round ? <end> '"
      ]
     },
     "execution_count": 28,
     "metadata": {},
     "output_type": "execute_result"
    }
   ],
   "source": [
    "generate_text(model, tokenizer, init_sentence=\"<start> what makes\")"
   ]
  },
  {
   "cell_type": "code",
   "execution_count": 29,
   "metadata": {},
   "outputs": [
    {
     "data": {
      "text/plain": [
       "'<start> i want to be your fantasy <end> '"
      ]
     },
     "execution_count": 29,
     "metadata": {},
     "output_type": "execute_result"
    }
   ],
   "source": [
    "generate_text(model, tokenizer, init_sentence=\"<start> i want \")"
   ]
  },
  {
   "cell_type": "code",
   "execution_count": 30,
   "metadata": {},
   "outputs": [
    {
     "data": {
      "text/plain": [
       "'<start> hey you , why you frontin <end> '"
      ]
     },
     "execution_count": 30,
     "metadata": {},
     "output_type": "execute_result"
    }
   ],
   "source": [
    "generate_text(model, tokenizer, init_sentence=\"<start> hey you\")"
   ]
  },
  {
   "cell_type": "code",
   "execution_count": 34,
   "metadata": {},
   "outputs": [
    {
     "data": {
      "text/plain": [
       "'<start> she s got me runnin round and round <end> '"
      ]
     },
     "execution_count": 34,
     "metadata": {},
     "output_type": "execute_result"
    }
   ],
   "source": [
    "generate_text(model, tokenizer, init_sentence=\"<start> she \")"
   ]
  },
  {
   "cell_type": "markdown",
   "metadata": {},
   "source": [
    "## [결과 및 회고]\n",
    "\n",
    "이번 프로젝트에서는 작사가 AI를 만들어 보았습니다.   \n",
    "결과적으로, __validation loss = 0.9313664436340332__ 까지 줄이는 모델을 만들 수 있었습니다. \n",
    "\n",
    "이번 프로젝트에서는 텍스트 데이터 전처리 과정의 중요성에 대해 배울 수 있었습니다.   \n",
    "전처리 과정에서 정규표현식을 사용하는 방법을 알게 되었고 (아직 익숙하지는 않지만...)\n",
    "노드에 나와있던 부분 이외에 처리해주어야 할 부분에 대해 더 생각해 볼 수 있었습니다. \n",
    "저는 __[verse], [chorus]라고 쓰여있는 부분을 제거__ 하는 과정을 추가해주었습니다. \n",
    "프로젝트의 목표는 split 하기 전 전체 학습 데이터셋이 124960개 이하가 되도록 전처리하는 것이었는데,  \n",
    "처음엔 maxlen=15 값을 부여해 padding을 하면 맞출수 있다고 생각했으나 그래도 데이터는 14만개 이상이었습니다.\n",
    "그래서 padding하기 전, __너무 긴 문장은 제거해주는 과정을 추가__ 해주었고, 목표를 달성할 수 있었습니다.  \n"
   ]
  }
 ],
 "metadata": {
  "kernelspec": {
   "display_name": "Python 3 (ipykernel)",
   "language": "python",
   "name": "python3"
  },
  "language_info": {
   "codemirror_mode": {
    "name": "ipython",
    "version": 3
   },
   "file_extension": ".py",
   "mimetype": "text/x-python",
   "name": "python",
   "nbconvert_exporter": "python",
   "pygments_lexer": "ipython3",
   "version": "3.9.7"
  }
 },
 "nbformat": 4,
 "nbformat_minor": 4
}
