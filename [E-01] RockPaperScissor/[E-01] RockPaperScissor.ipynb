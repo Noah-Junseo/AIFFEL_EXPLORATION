{
 "cells": [
  {
   "cell_type": "markdown",
   "id": "7fcf49f4",
   "metadata": {},
   "source": [
    "# Rock  Scissor Paper ! Ex_1 "
   ]
  },
  {
   "cell_type": "markdown",
   "id": "e542f6c8",
   "metadata": {},
   "source": [
    "왜 PIL을 써야 하는가 ??\n",
    "\n",
    "- 가위 바위 보 데이터 이미지 크기는 224 x 224 이지만, 프로젝트에서 요구하는것은 28x28 이기에, 사이즈를 줄이기 위함\n",
    "- 사이즈를 줄이기 위해 PIL Library 함수를 사용 하는 것이다.\n",
    "\n",
    "Glob 함수\n",
    "\n",
    "- 파일의 리스트를 뽑을 때 사용하며, 아래의 resize_images 함수에서 jpg에 해당하는 데이터를 리스트로 images 변수에 저장."
   ]
  },
  {
   "cell_type": "code",
   "execution_count": 1,
   "id": "885b00e9",
   "metadata": {},
   "outputs": [
    {
     "name": "stdout",
     "output_type": "stream",
     "text": [
      "PIL 라이브러리 import 완료!\n"
     ]
    }
   ],
   "source": [
    "from PIL import Image\n",
    "import os, glob\n",
    "import numpy as np\n",
    "import matplotlib.pyplot as plt\n",
    "import tensorflow as tf\n",
    "from tensorflow import keras\n",
    "\n",
    "print(\"PIL 라이브러리 import 완료!\")"
   ]
  },
  {
   "cell_type": "markdown",
   "id": "19ee7df7",
   "metadata": {},
   "source": [
    "# 1. 데이터 수집"
   ]
  },
  {
   "cell_type": "markdown",
   "id": "9d10abb7",
   "metadata": {},
   "source": [
    "- 데이터 만들기는 구글의 teachable machine 사이트를 통해 이미지를 쉽게 만들수 있다.\n",
    "- 이미지의 사이즈는 224x224 사이즈 이지만 앞서 말한 것 처럼 PIL 함수를 통해 MNIST와 동일한 28x28로 사이즈를 변경해서 사용 \n",
    "\n",
    "1-1 처음에는 다른 교육생들의 데이터를 취합하지 않고, 나만의 손사진으로 가위 바위 보 각각 1000장씩 촬영하였다.\n",
    "   - 데이터 수집을 하면서 조금더 다양성을 확보하기 위해, 이미지 회전 및 연속 촬영\n",
    "      \n",
    "1-2 test 데이터셋으로는 교육생들의 데이터를 가위 바위 보 각각 100장씩 준비 하였다.\n",
    "\n",
    "* 하지만 여기서 문제 발생 ! \n",
    "\n",
    "아래에도 설명을 하겠지만, train 데이터 정제가 필요 해보였다. 처음에 준비한 데이터는 뒤의 배경과 대상 object가 구분이 되기 힘들었는지,     \n",
    "좋은 성능을 나타내지 못했다.\n",
    "\n",
    "그래서 다시한번 복잡한 배경(패턴,색깔,모형)의 이미지를 모두 없앤, 흰색 배경에서 촬영한 이미지로 교체 \n",
    "\n",
    "이후 교육생데이터를 취합하여 각각 3000장씩 총 9000장의 데이터를 수집 했다."
   ]
  },
  {
   "cell_type": "code",
   "execution_count": 2,
   "id": "48678f63",
   "metadata": {},
   "outputs": [],
   "source": [
    "def resize_images(img_path):\n",
    "    images=glob.glob(img_path + \"/*.jpg\")  \n",
    "    \n",
    "    print(len(images), \" images to be resized.\")\n",
    "\n",
    "    # 파일마다 모두 28x28 사이즈로 바꾸어 저장합니다.\n",
    "    target_size=(28,28)\n",
    "    for img in images:\n",
    "        old_img=Image.open(img)\n",
    "        new_img=old_img.resize(target_size,Image.ANTIALIAS)\n",
    "        new_img.save(img, \"JPEG\")\n",
    "    \n",
    "    print(len(images), \" images resized.\")"
   ]
  },
  {
   "cell_type": "code",
   "execution_count": 3,
   "id": "9455eac1",
   "metadata": {},
   "outputs": [
    {
     "name": "stdout",
     "output_type": "stream",
     "text": [
      "3000  images to be resized.\n",
      "3000  images resized.\n",
      "가위 이미지 resize 완료!\n",
      "3000  images to be resized.\n",
      "3000  images resized.\n",
      "바위 이미지 resize 완료!\n",
      "3000  images to be resized.\n",
      "3000  images resized.\n",
      "보 이미지 resize 완료!\n"
     ]
    }
   ],
   "source": [
    "# 가위 이미지가 저장된 디렉토리 아래의 모든 jpg 파일을 읽어들여서\n",
    "image_dir_path = os.getenv(\"HOME\") + \"/aiffel/rock_scissor_paper/scissor\"\n",
    "resize_images(image_dir_path)\n",
    "\n",
    "print(\"가위 이미지 resize 완료!\")\n",
    "# 바위 이미지가 저장된 디렉토리 아래의 모든 jpg 파일을 읽어들여서\n",
    "image_dir_path = os.getenv(\"HOME\") + \"/aiffel/rock_scissor_paper/rock\"\n",
    "resize_images(image_dir_path)\n",
    "print(\"바위 이미지 resize 완료!\")\n",
    "\n",
    "# 보 이미지가 저장된 디렉토리 아래의 모든 jpg 파일을 읽어들여서\n",
    "image_dir_path = os.getenv(\"HOME\") + \"/aiffel/rock_scissor_paper/paper\"\n",
    "resize_images(image_dir_path)\n",
    "print(\"보 이미지 resize 완료!\")\n",
    "\n"
   ]
  },
  {
   "cell_type": "markdown",
   "id": "cc5cd786",
   "metadata": {},
   "source": [
    "- 이후에 알게된 사실이 였지만, def 함수이기에.. 가위 바위 보 사이즈 변경시 각각 아래의 함수를 넣어줄 필요없이, 상단에 한번만 사용하면된다.\n",
    "\n",
    "def resize_images(img_path):\n",
    "    images=glob.glob(img_path + \"/*.jpg\")  \n",
    "    \n",
    "    print(len(images), \" images to be resized.\")\n",
    "\n",
    "    target_size=(28,28)\n",
    "    for img in images:\n",
    "        old_img=Image.open(img)\n",
    "        new_img=old_img.resize(target_size,Image.ANTIALIAS)\n",
    "        new_img.save(img, \"JPEG\")\n",
    "    \n",
    "    print(len(images), \" images resized.\")\n",
    "    \n",
    "- 굳이 .. 3번이나 작성할 필요가 없었던 함수.."
   ]
  },
  {
   "cell_type": "markdown",
   "id": "1c4c91c2",
   "metadata": {},
   "source": [
    "# 1-2 데이터 전처리 : 병합, 변환, 불러오기"
   ]
  },
  {
   "cell_type": "markdown",
   "id": "ff5dcc55",
   "metadata": {},
   "source": [
    "- 숫자 손글씨 이미지 분류기는 mnist.load_data() 라는 함수로 데이터를 불러왔다.\n",
    "- 이와 같이, 가위 바위 보 데이터를 불러오는 load_data() 함수 만들기\n",
    "- load_data()함수는 노드에 있는 코드 활용\n",
    "\n",
    "라벨링시 가위:0, 바위:1, 보:2 로 라벨링 및 load_data() 함수를 통해 가위 바위 보 데이터를 불러옴"
   ]
  },
  {
   "cell_type": "code",
   "execution_count": 4,
   "id": "a8617c27",
   "metadata": {},
   "outputs": [],
   "source": [
    "import numpy as np\n",
    "\n",
    "def load_data(img_path, number_of_data=9000):  # 가위바위보 이미지 개수 총합에 주의하세요.\n",
    "    # 가위 : 0, 바위 : 1, 보 : 2\n",
    "    img_size=28\n",
    "    color=3\n",
    "    #이미지 데이터와 라벨(가위 : 0, 바위 : 1, 보 : 2) 데이터를 담을 행렬(matrix) 영역을 생성합니다.\n",
    "    imgs=np.zeros(number_of_data*img_size*img_size*color,dtype=np.int32).reshape(number_of_data,img_size,img_size,color)\n",
    "    labels=np.zeros(number_of_data,dtype=np.int32)\n",
    "\n",
    "    idx=0\n",
    "    \n",
    "    for file in glob.iglob(img_path+'/scissor/*.jpg'):\n",
    "        img = np.array(Image.open(file),dtype=np.int32)\n",
    "        imgs[idx,:,:,:]=img    # 데이터 영역에 이미지 행렬을 복사\n",
    "        labels[idx]=0   # 가위 : 0\n",
    "        idx=idx+1\n",
    "\n",
    "    for file in glob.iglob(img_path+'/rock/*.jpg'):\n",
    "        img = np.array(Image.open(file),dtype=np.int32)\n",
    "        imgs[idx,:,:,:]=img    # 데이터 영역에 이미지 행렬을 복사\n",
    "        labels[idx]=1   # 바위 : 1\n",
    "        idx=idx+1  \n",
    "    \n",
    "    for file in glob.iglob(img_path+'/paper/*.jpg'):\n",
    "        img = np.array(Image.open(file),dtype=np.int32)\n",
    "        imgs[idx,:,:,:]=img    # 데이터 영역에 이미지 행렬을 복사\n",
    "        labels[idx]=2   # 보 : 2\n",
    "        idx=idx+1\n",
    "        \n",
    "    print(\"학습데이터(x_train)의 이미지 개수는\", idx,\"입니다.\")\n",
    "    \n",
    "    return imgs, labels"
   ]
  },
  {
   "cell_type": "markdown",
   "id": "27705458",
   "metadata": {},
   "source": [
    "다음과 같이 입력값인 x_train 데이터는 (데이터개수, 이미지 크기 x, 이미지 크기 y, 채널수) 형태로 생성되며,\n",
    "\n",
    "컬러 이미지이기 때문에 R,G,B 값으로 표현되어 3개의 채널수가 생긴다.\n",
    "\n",
    "- x_train -> 학습할 이미지 저장\n",
    "- y_train -> 이미지 라벨 저장"
   ]
  },
  {
   "cell_type": "code",
   "execution_count": 5,
   "id": "e35f2fb9",
   "metadata": {},
   "outputs": [
    {
     "name": "stdout",
     "output_type": "stream",
     "text": [
      "학습데이터(x_train)의 이미지 개수는 9000 입니다.\n",
      "x_train shape: (9000, 28, 28, 3)\n",
      "y_train shape: (9000,)\n"
     ]
    }
   ],
   "source": [
    "image_dir_path = os.getenv(\"HOME\") + \"/aiffel/rock_scissor_paper\"\n",
    "(x_train, y_train)=load_data(image_dir_path)\n",
    "x_train_norm = x_train/255.0   # 입력은 0~1 사이의 값으로 정규화\n",
    "\n",
    "print(\"x_train shape: {}\".format(x_train.shape))\n",
    "print(\"y_train shape: {}\".format(y_train.shape))"
   ]
  },
  {
   "cell_type": "markdown",
   "id": "51657f25",
   "metadata": {},
   "source": [
    "불러온 전체 데이터를 train set과 validation set, test set으로 나누자.\n",
    "나누는 이유는 결론부터 말하자면 오버피팅 때문이다. \n",
    "\n",
    "현제 이글을 작성하기 전 10번의 모델을 가지고 여러가지 테스트를 진행 했었고,\n",
    "최종적으로 EX.01 가위바위보 프로젝트는 오버피팅을 어떻게 잡느냐가 중요한 포인트 였다.\n",
    "\n",
    "테스트 모델을 전부다 작성하기에는 너무 방대하기에 간략히 설명하겠다.\n",
    "- 데이터 수집 및 사이즈 개선 , 드롭아웃 , Regularization , epoch 수정 , 배치정규화 등.. 이있었다. \n",
    "\n",
    "epoch 수정을 하면서 알게된 사실은 과적합 해결을 위한 수단이 아니라 모니터링의 수단이라는 것을 알게되었다.\n",
    "\n",
    "- 순하게 epoch만 늘려주면 train data의 loss는 줄고 accuracy는 높아지기 때문에 train data의 loss와 accuracy는 valid 결과와 비교하기 위한 참고사항일 뿐이다. epoch 수를 늘리면 valid와 train loss가 교차하는 지점이 발생한다. \n",
    "\n",
    "- 일반적으로 valid loss가 감소하다가 증가하는 시점을 과적합으로 정의하기 때문에 이 지점에서 적당한 epoch을 결정한다. 이는 early stopping과도 관련이 있다. \n",
    "\n",
    "validation set은 학습이 이미 완료된 모델을 검증하기위한 dataset이다.\n",
    "\n",
    "test set은 학습과 검증이 완료된 모델의 성능을 평가하기위한 dataset이다.\n",
    "\n",
    "validation 참고글 ->  https://ganghee-lee.tistory.com/38 "
   ]
  },
  {
   "cell_type": "code",
   "execution_count": 6,
   "id": "158390cc",
   "metadata": {},
   "outputs": [],
   "source": [
    "def train_val_test_split(ds, ds_size, sd,train_split=0.6, val_split=0.2, test_split=0.2, shuffle=True):\n",
    "    assert (train_split + test_split + val_split) == 1\n",
    "    \n",
    "    if shuffle:\n",
    "        # trainning set, validation set, test set 을 동일하게 섞기 위해 seed 를 설정\n",
    "        ds_shuffled = np.random.RandomState(seed=sd).permutation(ds)\n",
    "    \n",
    "    train_size = int(train_split * ds_size)\n",
    "    val_size = int(val_split * ds_size)\n",
    "    \n",
    "    train_ds = ds_shuffled[0:train_size]    \n",
    "    val_ds = ds_shuffled[train_size:train_size+val_size]\n",
    "    test_ds = ds_shuffled[train_size+val_size:]\n",
    "    \n",
    "    return train_ds, val_ds, test_ds"
   ]
  },
  {
   "cell_type": "code",
   "execution_count": 7,
   "id": "832dfd4c",
   "metadata": {},
   "outputs": [],
   "source": [
    "x_train_new, x_val_new, x_test_new = train_val_test_split(x_train,9000,42)\n",
    "y_train_new, y_val_new, y_test_new = train_val_test_split(y_train,9000,42)"
   ]
  },
  {
   "cell_type": "code",
   "execution_count": 8,
   "id": "d679cd34",
   "metadata": {},
   "outputs": [
    {
     "name": "stdout",
     "output_type": "stream",
     "text": [
      "(5400, 28, 28, 3)\n",
      "(1800, 28, 28, 3)\n",
      "(1800, 28, 28, 3)\n"
     ]
    }
   ],
   "source": [
    "print(x_train_new.shape)\n",
    "print(x_val_new.shape)\n",
    "print(x_test_new.shape)"
   ]
  },
  {
   "cell_type": "code",
   "execution_count": 9,
   "id": "d1297e9f",
   "metadata": {},
   "outputs": [
    {
     "name": "stdout",
     "output_type": "stream",
     "text": [
      "(5400,)\n",
      "(1800,)\n",
      "(1800,)\n"
     ]
    }
   ],
   "source": [
    "print(y_train_new.shape)\n",
    "print(y_val_new.shape)\n",
    "print(y_test_new.shape)"
   ]
  },
  {
   "cell_type": "code",
   "execution_count": 10,
   "id": "b16ac316",
   "metadata": {},
   "outputs": [
    {
     "name": "stdout",
     "output_type": "stream",
     "text": [
      "라벨:  0\n"
     ]
    },
    {
     "data": {
      "image/png": "[encoded data removed]",
      "text/plain": [
       "<Figure size 432x288 with 1 Axes>"
      ]
     },
     "metadata": {
      "needs_background": "light"
     },
     "output_type": "display_data"
    }
   ],
   "source": [
    "plt.imshow(x_test_new[0])\n",
    "print('라벨: ', y_test_new[0])"
   ]
  },
  {
   "cell_type": "code",
   "execution_count": 11,
   "id": "df9333d5",
   "metadata": {},
   "outputs": [
    {
     "name": "stdout",
     "output_type": "stream",
     "text": [
      "라벨:  1\n"
     ]
    },
    {
     "data": {
      "image/png": "[encoded data removed]",
      "text/plain": [
       "<Figure size 432x288 with 1 Axes>"
      ]
     },
     "metadata": {
      "needs_background": "light"
     },
     "output_type": "display_data"
    }
   ],
   "source": [
    "plt.imshow(x_val_new[0])\n",
    "print('라벨: ', y_val_new[0])"
   ]
  },
  {
   "cell_type": "code",
   "execution_count": 12,
   "id": "01af2829",
   "metadata": {},
   "outputs": [
    {
     "name": "stdout",
     "output_type": "stream",
     "text": [
      "라벨:  0\n"
     ]
    },
    {
     "data": {
      "image/png": "[encoded data removed]",
      "text/plain": [
       "<Figure size 432x288 with 1 Axes>"
      ]
     },
     "metadata": {
      "needs_background": "light"
     },
     "output_type": "display_data"
    }
   ],
   "source": [
    "plt.imshow(x_train[500])\n",
    "print('라벨: ', y_train[500])"
   ]
  },
  {
   "cell_type": "markdown",
   "id": "21646bf3",
   "metadata": {},
   "source": [
    "- 이쯤에서 생기는 궁금증 !! 도대체 왜!? 이미지를 resize 하는 걸까?\n",
    "\n",
    "28x28 알아보기 힘들정도로 분류하기 힘들다고 생각하는데, 왜 !? \n",
    "\n",
    "아무리 생각해도 이해가 되지않는다. 데이터 학습시간 단축때문에? 그해답은 모델성능을 향상시킨 프로젝트에서 설명하도록 하겠다."
   ]
  },
  {
   "cell_type": "markdown",
   "id": "82bbf783",
   "metadata": {},
   "source": [
    "# 2. 모델 설계 및 학습"
   ]
  },
  {
   "cell_type": "markdown",
   "id": "39b5543b",
   "metadata": {},
   "source": [
    "tensorflow API를 이용해 가위바위보를 인식하는 딥러닝 모델을 설계 및 학습\n",
    "\n",
    "하이퍼파라미터를 바꿔가면서 성능이 가장 좋은 모델을 찾고, 직접 여러 Layer를 쌓아서 모델 정의\n",
    "\n",
    "Conv2D: 케라스에서 제공하는 Convolution 레이어로, 영상 처리에 주로 사용\n",
    "\n",
    "오버피팅을 잡기위해 Dropout을 사용하였지만, 효과가 있는지는 잘 모르겠다. \n",
    "\n",
    "저 코딩이 제대로 적용이 됬는지, 저렇게 사용하는것이 맞는지 아직 100% 이해하지 못했다. "
   ]
  },
  {
   "cell_type": "code",
   "execution_count": 89,
   "id": "6c6d5b7a",
   "metadata": {},
   "outputs": [
    {
     "name": "stdout",
     "output_type": "stream",
     "text": [
      "Model에 추가된 Layer 개수:  9\n",
      "Model: \"sequential_5\"\n",
      "_________________________________________________________________\n",
      "Layer (type)                 Output Shape              Param #   \n",
      "=================================================================\n",
      "conv2d_10 (Conv2D)           (None, 26, 26, 128)       3584      \n",
      "_________________________________________________________________\n",
      "max_pooling2d_10 (MaxPooling (None, 13, 13, 128)       0         \n",
      "_________________________________________________________________\n",
      "conv2d_11 (Conv2D)           (None, 11, 11, 256)       295168    \n",
      "_________________________________________________________________\n",
      "max_pooling2d_11 (MaxPooling (None, 5, 5, 256)         0         \n",
      "_________________________________________________________________\n",
      "flatten_5 (Flatten)          (None, 6400)              0         \n",
      "_________________________________________________________________\n",
      "dense_10 (Dense)             (None, 256)               1638656   \n",
      "_________________________________________________________________\n",
      "dropout_10 (Dropout)         (None, 256)               0         \n",
      "_________________________________________________________________\n",
      "dense_11 (Dense)             (None, 3)                 771       \n",
      "_________________________________________________________________\n",
      "dropout_11 (Dropout)         (None, 3)                 0         \n",
      "=================================================================\n",
      "Total params: 1,938,179\n",
      "Trainable params: 1,938,179\n",
      "Non-trainable params: 0\n",
      "_________________________________________________________________\n"
     ]
    }
   ],
   "source": [
    "import tensorflow as tf\n",
    "from tensorflow import keras\n",
    "import numpy as np\n",
    "\n",
    "from tensorflow.keras.models import Sequential\n",
    "from tensorflow.keras.layers import Dropout, Dense\n",
    "\n",
    "\n",
    "model=keras.models.Sequential()\n",
    "model.add(keras.layers.Conv2D(128, (3,3), activation='relu', input_shape=(28,28,3)))\n",
    "model.add(keras.layers.MaxPool2D(2,2))\n",
    "model.add(keras.layers.Conv2D(256, (3,3), activation='relu'))\n",
    "model.add(keras.layers.MaxPooling2D((2,2)))\n",
    "model.add(keras.layers.Flatten())\n",
    "model.add(keras.layers.Dense(256, activation='relu'))\n",
    "model.add(Dropout(0.2)) # 드롭아웃 추가. 비율은 20%\n",
    "model.add(keras.layers.Dense(3, activation='softmax'))\n",
    "model.add(Dropout(0.2)) # 드롭아웃 추가. 비율은 20%\n",
    "\n",
    "print('Model에 추가된 Layer 개수: ', len(model.layers))\n",
    "\n",
    "model.summary()"
   ]
  },
  {
   "cell_type": "markdown",
   "id": "d994e95d",
   "metadata": {},
   "source": [
    "딥러닝 학습\n",
    "- optimizer는 학습에서 실제로 파라미터를 갱신시키는 부분을 의미\n",
    "- adam(Adaptive Moment Estimation): 현재 가장 자주 사용되는 optimizer\n",
    "- loss는 loss function을 의미\n",
    "- sparse_categorical_crossentropy: 다중 분류 손실 함수\n",
    "\n",
    "\n",
    "\n",
    "모델을 학습 시키기 전에 데이터를 0~1 사이의 값으로 정규화"
   ]
  },
  {
   "cell_type": "code",
   "execution_count": 48,
   "id": "61a02b30",
   "metadata": {},
   "outputs": [],
   "source": [
    "x_train_new_norm = x_train_new / 255.0"
   ]
  },
  {
   "cell_type": "code",
   "execution_count": 90,
   "id": "9570fb76",
   "metadata": {
    "scrolled": true
   },
   "outputs": [
    {
     "name": "stdout",
     "output_type": "stream",
     "text": [
      "Epoch 1/13\n",
      "169/169 [==============================] - 1s 5ms/step - loss: 3.3464 - accuracy: 0.4565\n",
      "Epoch 2/13\n",
      "169/169 [==============================] - 1s 4ms/step - loss: 2.8861 - accuracy: 0.6080\n",
      "Epoch 3/13\n",
      "169/169 [==============================] - 1s 4ms/step - loss: 2.1182 - accuracy: 0.6804\n",
      "Epoch 4/13\n",
      "169/169 [==============================] - 1s 4ms/step - loss: 1.6271 - accuracy: 0.7074\n",
      "Epoch 5/13\n",
      "169/169 [==============================] - 1s 4ms/step - loss: 1.3701 - accuracy: 0.7274\n",
      "Epoch 6/13\n",
      "169/169 [==============================] - 1s 4ms/step - loss: 0.9795 - accuracy: 0.7596\n",
      "Epoch 7/13\n",
      "169/169 [==============================] - 1s 4ms/step - loss: 0.9363 - accuracy: 0.7591\n",
      "Epoch 8/13\n",
      "169/169 [==============================] - 1s 4ms/step - loss: 0.7425 - accuracy: 0.7680\n",
      "Epoch 9/13\n",
      "169/169 [==============================] - 1s 4ms/step - loss: 0.5854 - accuracy: 0.7813\n",
      "Epoch 10/13\n",
      "169/169 [==============================] - 1s 4ms/step - loss: 0.5642 - accuracy: 0.7761\n",
      "Epoch 11/13\n",
      "169/169 [==============================] - 1s 4ms/step - loss: 0.4985 - accuracy: 0.7931\n",
      "Epoch 12/13\n",
      "169/169 [==============================] - 1s 4ms/step - loss: 0.4624 - accuracy: 0.7843\n",
      "Epoch 13/13\n",
      "169/169 [==============================] - 1s 4ms/step - loss: 0.3486 - accuracy: 0.8046\n"
     ]
    },
    {
     "data": {
      "text/plain": [
       "<keras.callbacks.History at 0x7f83185d04c0>"
      ]
     },
     "execution_count": 90,
     "metadata": {},
     "output_type": "execute_result"
    }
   ],
   "source": [
    "model.compile(optimizer = 'adam',\n",
    "             loss = 'sparse_categorical_crossentropy',\n",
    "             metrics = ['accuracy'])\n",
    "\n",
    "model.fit(x_train_new_norm, y_train_new, epochs=13)"
   ]
  },
  {
   "cell_type": "markdown",
   "id": "f1fd9def",
   "metadata": {},
   "source": [
    "# Validation을 이용한 성능 평가"
   ]
  },
  {
   "cell_type": "markdown",
   "id": "a52e6079",
   "metadata": {},
   "source": [
    "- Validation을 이용하여 성능평가를 실행하여, 오버피팅의 문제를 막고, 하이퍼파라미터를 조정 할 수 있다."
   ]
  },
  {
   "cell_type": "code",
   "execution_count": 91,
   "id": "3d344e02",
   "metadata": {},
   "outputs": [
    {
     "name": "stdout",
     "output_type": "stream",
     "text": [
      "57/57 - 0s - loss: 3.4414 - accuracy: 0.7856\n",
      "test_loss : 3.4414005279541016\n",
      "test_accuracy : 0.7855555415153503\n"
     ]
    }
   ],
   "source": [
    "test_loss, test_accuracy = model.evaluate(x_val_new, y_val_new, verbose = 2)\n",
    "\n",
    "print(\"test_loss : {}\".format(test_loss))\n",
    "print(\"test_accuracy : {}\".format(test_accuracy))"
   ]
  },
  {
   "cell_type": "markdown",
   "id": "b3c9ad9b",
   "metadata": {},
   "source": [
    "# Test data 준비\n",
    "\n",
    " - 이과정의 설명은 생략하겠다. Train Data 준비와 같기 때문이다."
   ]
  },
  {
   "cell_type": "code",
   "execution_count": 79,
   "id": "cbd542c9",
   "metadata": {},
   "outputs": [
    {
     "name": "stdout",
     "output_type": "stream",
     "text": [
      "200  images to be resized.\n",
      "200  images resized.\n",
      "200  images to be resized.\n",
      "200  images resized.\n",
      "200  images to be resized.\n",
      "200  images resized.\n",
      "테스트 가위 이미지 resize 완료!\n",
      "테스트 바위 이미지 resize 완료!\n",
      "테스트 보 이미지 resize 완료!\n"
     ]
    }
   ],
   "source": [
    "# 테스트 가위 이미지가 저장된 디렉토리 아래의 모든 jpg 파일을 읽어들여서\n",
    "image_dir_path = os.getenv(\"HOME\") + \"/aiffel/rock_scissor_paper/test/scissor\"\n",
    "resize_images(image_dir_path)\n",
    "\n",
    "# 테스트 바위 이미지가 저장된 디렉토리 아래의 모든 jpg 파일을 읽어들여서\n",
    "image_dir_path = os.getenv(\"HOME\") + \"/aiffel/rock_scissor_paper/test/rock\"\n",
    "resize_images(image_dir_path)\n",
    "\n",
    "# 테스트 보 이미지가 저장된 디렉토리 아래의 모든 jpg 파일을 읽어들여서\n",
    "image_dir_path = os.getenv(\"HOME\") + \"/aiffel/rock_scissor_paper/test/paper\"\n",
    "resize_images(image_dir_path)\n",
    "\n",
    "\n",
    "print(\"테스트 가위 이미지 resize 완료!\")\n",
    "print(\"테스트 바위 이미지 resize 완료!\")\n",
    "print(\"테스트 보 이미지 resize 완료!\")"
   ]
  },
  {
   "cell_type": "code",
   "execution_count": 81,
   "id": "1de5af15",
   "metadata": {
    "scrolled": true
   },
   "outputs": [
    {
     "name": "stdout",
     "output_type": "stream",
     "text": [
      "테스트데이터(x_test)의 이미지 개수는 600 입니다.\n",
      "x_test shape: (600, 28, 28, 3)\n",
      "y_test shape: (600,)\n"
     ]
    }
   ],
   "source": [
    "def load_data(img_path, number_of_data=600):  # 가위바위보 이미지 개수 총합에 주의하세요.\n",
    "    # 가위 : 0, 바위 : 1, 보 : 2\n",
    "    img_size=28\n",
    "    color=3\n",
    "    #이미지 데이터와 라벨(가위 : 0, 바위 : 1, 보 : 2) 데이터를 담을 행렬(matrix) 영역을 생성합니다.\n",
    "    imgs=np.zeros(number_of_data*img_size*img_size*color,dtype=np.int32).reshape(number_of_data,img_size,img_size,color)\n",
    "    labels=np.zeros(number_of_data,dtype=np.int32)\n",
    "\n",
    "    idx=0\n",
    "    for file in glob.iglob(img_path+'/scissor/*.jpg'):\n",
    "        img = np.array(Image.open(file),dtype=np.int32)\n",
    "        imgs[idx,:,:,:]=img    # 데이터 영역에 이미지 행렬을 복사\n",
    "        labels[idx]=0   # 가위 : 0\n",
    "        idx=idx+1\n",
    "\n",
    "    for file in glob.iglob(img_path+'/rock/*.jpg'):\n",
    "        img = np.array(Image.open(file),dtype=np.int32)\n",
    "        imgs[idx,:,:,:]=img    # 데이터 영역에 이미지 행렬을 복사\n",
    "        labels[idx]=1   # 바위 : 1\n",
    "        idx=idx+1  \n",
    "    \n",
    "    for file in glob.iglob(img_path+'/paper/*.jpg'):\n",
    "        img = np.array(Image.open(file),dtype=np.int32)\n",
    "        imgs[idx,:,:,:]=img    # 데이터 영역에 이미지 행렬을 복사\n",
    "        labels[idx]=2   # 보 : 2\n",
    "        idx=idx+1\n",
    "        \n",
    "    print(\"테스트데이터(x_test)의 이미지 개수는\", idx,\"입니다.\")\n",
    "    return imgs, labels\n",
    "\n",
    "image_dir_path = os.getenv(\"HOME\") + \"/aiffel/rock_scissor_paper/test\"\n",
    "(x_test, y_test)=load_data(image_dir_path)\n",
    "x_test_norm = x_test/255.0   # 입력은 0~1 사이의 값으로 정규화\n",
    "\n",
    "print(\"x_test shape: {}\".format(x_test.shape))\n",
    "print(\"y_test shape: {}\".format(y_test.shape))"
   ]
  },
  {
   "cell_type": "markdown",
   "id": "38b74f12",
   "metadata": {},
   "source": [
    "# Test 최종 모델 성능 평가"
   ]
  },
  {
   "cell_type": "code",
   "execution_count": 92,
   "id": "df441b1c",
   "metadata": {
    "scrolled": true
   },
   "outputs": [
    {
     "name": "stdout",
     "output_type": "stream",
     "text": [
      "19/19 - 0s - loss: 2.7074 - accuracy: 0.7267\n",
      "test_loss: 2.7074129581451416 \n",
      "test_accuracy: 0.7266666889190674\n"
     ]
    }
   ],
   "source": [
    "test_loss, test_accuracy = model.evaluate(x_test_norm,y_test, verbose=2)\n",
    "print(\"test_loss: {} \".format(test_loss))\n",
    "print(\"test_accuracy: {}\".format(test_accuracy))"
   ]
  },
  {
   "cell_type": "markdown",
   "id": "15440c29",
   "metadata": {},
   "source": [
    "# 어떤 데이터를 잘못 예측했는지 확인하자!"
   ]
  },
  {
   "cell_type": "code",
   "execution_count": 27,
   "id": "c9d25447",
   "metadata": {},
   "outputs": [],
   "source": [
    "predicted_result = model.predict(x_test)  \n",
    "predicted_labels = np.argmax(predicted_result, axis=1)"
   ]
  },
  {
   "cell_type": "code",
   "execution_count": 28,
   "id": "63b944fb",
   "metadata": {},
   "outputs": [
    {
     "name": "stdout",
     "output_type": "stream",
     "text": [
      "예측확률분포: [1. 0. 0.]\n",
      "라벨: 1, 예측결과: 0\n"
     ]
    },
    {
     "data": {
      "image/png": "[encoded data removed]",
      "text/plain": [
       "<Figure size 432x288 with 1 Axes>"
      ]
     },
     "metadata": {
      "needs_background": "light"
     },
     "output_type": "display_data"
    },
    {
     "name": "stdout",
     "output_type": "stream",
     "text": [
      "예측확률분포: [0. 0. 1.]\n",
      "라벨: 0, 예측결과: 2\n"
     ]
    },
    {
     "data": {
      "image/png": "[encoded data removed]",
      "text/plain": [
       "<Figure size 432x288 with 1 Axes>"
      ]
     },
     "metadata": {
      "needs_background": "light"
     },
     "output_type": "display_data"
    },
    {
     "name": "stdout",
     "output_type": "stream",
     "text": [
      "예측확률분포: [0. 0. 1.]\n",
      "라벨: 0, 예측결과: 2\n"
     ]
    },
    {
     "data": {
      "image/png": "[encoded data removed]",
      "text/plain": [
       "<Figure size 432x288 with 1 Axes>"
      ]
     },
     "metadata": {
      "needs_background": "light"
     },
     "output_type": "display_data"
    },
    {
     "name": "stdout",
     "output_type": "stream",
     "text": [
      "예측확률분포: [0. 0. 1.]\n",
      "라벨: 1, 예측결과: 2\n"
     ]
    },
    {
     "data": {
      "image/png": "[encoded data removed]",
      "text/plain": [
       "<Figure size 432x288 with 1 Axes>"
      ]
     },
     "metadata": {
      "needs_background": "light"
     },
     "output_type": "display_data"
    },
    {
     "name": "stdout",
     "output_type": "stream",
     "text": [
      "예측확률분포: [0. 0. 1.]\n",
      "라벨: 0, 예측결과: 2\n"
     ]
    },
    {
     "data": {
      "image/png": "[encoded data removed]",
      "text/plain": [
       "<Figure size 432x288 with 1 Axes>"
      ]
     },
     "metadata": {
      "needs_background": "light"
     },
     "output_type": "display_data"
    }
   ],
   "source": [
    "import random\n",
    "wrong_predict_list=[]\n",
    "for i, _ in enumerate(predicted_labels):\n",
    "    # i번째 test_labels과 y_test이 다른 경우만 모음\n",
    "    if predicted_labels[i] != y_test[i]:\n",
    "        wrong_predict_list.append(i)\n",
    "\n",
    "# wrong_predict_list 에서 랜덤하게 5개만 뽑기\n",
    "samples = random.choices(population=wrong_predict_list, k=5)\n",
    "\n",
    "for n in samples:\n",
    "    print(\"예측확률분포: \" + str(predicted_result[n]))\n",
    "    print(\"라벨: \" + str(y_test[n]) + \", 예측결과: \" + str(predicted_labels[n]))\n",
    "    plt.imshow(x_test[n], cmap=plt.cm.binary)\n",
    "    plt.show()"
   ]
  },
  {
   "cell_type": "markdown",
   "id": "5022fc2b",
   "metadata": {},
   "source": [
    "# 후기\n",
    "\n",
    "\n",
    "- 여러번 시도를 하면서 에폭이 높다고 좋은것이 아니였다. 또한 훈련정확도가 높다고 테스트 정확도가 높은것도 아니였다.\n",
    "\n",
    "\n",
    "- Ex01 가위바위보 모델을 만들면서, LMS에서 배운것만으로는 좋은 성능의 모델을 만들수가 없었다.\n",
    "   - 정확도가 30% ~ 40% 더이상 벗어나지 않아서 매우매우 당황스러웠다.\n",
    "   - 결과값을 향상 시키기위해, 데이터를 무작정 많이 셋업해보기도 했으며, 사이즈를 변경을 했고, 최종적으로 도달한 결과는 데이터의 다양성이였다. \n",
    "   - 결과값이 처음으로 70%를 달성했을때, 기분이 좋았지만 학습을 시키면 시킬수록 결과값이 큰폭으로 변동이 심했다..\n",
    "  \n",
    "- 이런내용들을 해결하기 위해서는 오버피팅을 공부해야 했으며, 처음에는 재미있었지만 깊이 파고들수록 현자타임이...\n",
    "  \n",
    "   - 오버피팅을 해결하기 위해서는 여러가지 방법이 있었다.\n",
    "   \n",
    "** 정확도를 높이기 위해서 시도했던 과정 **\n",
    "\n",
    "- 복잡한 배경의 이미지나 평면상 구분이 어려운 이미지들을 삭제후 하얀색 배경의 이미지로 변경.\n",
    "- train 데이터셋 증가 ( 300장 -> 1000장 -> 3000장 -> 6000장 -> 9000장 )\n",
    "- train 데이터셋 사이즈 변경 ( 28x28 -> 112x112 -> 224x224 ) \n",
    "   - 224x224는 모델성능이 좋지않아서 구현할 수가없었다. 별도로 전이학습이라는 것을 통해야만 구현이 가능했다.\n",
    "- 데이터 다양성을 위해 교육생들의 가위,바위,보 사진을 train set에 추가 !! \n",
    "- 모델 하이퍼피라미터 조정 \n",
    "\n",
    "하지만 .. 결과값의 편차가 매우 심했기에 오버피팅 방지 및 epochs 최적화가 필요했다.\n",
    "\n",
    "- train 데이터셋의 40%중 20%를 validation 데이터셋으로 , 나머지 20%는 test 데이터셋으로 세분화하여 활용\n",
    "- 하이퍼파라미터 튜닝을 통해 validation 데이터셋에 활용하였고, 모델의 성능을 나타내는 지표들을 활용하여 더 나은 분류기를 만들기 위해 최적의 값을 찾으려고 했지만 실패..\n",
    "\n",
    "\n",
    "더 높은 성능의 모델을 구현하기 위해 어떻게 해야할까??\n",
    "\n",
    "- 드롭아웃 적용으로 결과값의 편차가 많이 줄었다. 처음에는 정확도가 70%였다가 40%로 급격하게 감소하였지만, 현재는 첫 학습시 정확도 72% ~ 최대 85%까지 결과값이 나타난다.\n",
    "\n",
    "- validation을 통해 최적의 하이퍼파라미터를 찾아야하지만.. 지금 내가 진행한것들이 맞는것인지 틀린것인지 아직도 판단이 서지않는다..\n",
    "\n",
    "어떻게하면 .. 90%이상의 정확도를 가진 성능의 모델을 구현할 수 있을까... 좀더 공부가 필요해보인다..\n",
    "\n",
    "\n"
   ]
  }
 ],
 "metadata": {
  "kernelspec": {
   "display_name": "Python 3 (ipykernel)",
   "language": "python",
   "name": "python3"
  },
  "language_info": {
   "codemirror_mode": {
    "name": "ipython",
    "version": 3
   },
   "file_extension": ".py",
   "mimetype": "text/x-python",
   "name": "python",
   "nbconvert_exporter": "python",
   "pygments_lexer": "ipython3",
   "version": "3.9.7"
  }
 },
 "nbformat": 4,
 "nbformat_minor": 5
}
