{
 "cells": [
  {
   "cell_type": "markdown",
   "metadata": {
    "id": "16z_rcsyF8GT"
   },
   "source": [
    "# 프로젝트 - Movielens 영화 SBR\n"
   ]
  },
  {
   "cell_type": "markdown",
   "id": "infectious-basics",
   "metadata": {},
   "source": [
    "###### LNS Exploration | 16. Movielens_SBR\n",
    "\n",
    "---\n",
    "\n",
    "**[Introduce]**\n",
    "\n",
    "\n",
    "* 전자상거래 플랫폼에서 자주 사용되는 Sassion Based Recommendation 기법을 활용해서, 영화추천 시스템을 만들어봅니다. \n",
    "* Session-Based Recommendation은 세션 데이터를 기반으로 유저가 다음에 클릭 또는 구매할 아이템을 예측하는 추천입니다.\n",
    "* Session이란 유저가 서비스를 이용하면서 발생하는 중요한 정보를 담은 데이터를 말하며, 서버 쪽에 저장됩니다. \n",
    "\n",
    "\n",
    "**[Data]**\n",
    "\n",
    "* 추천시스템의 MNIST, Movielens 데이터\n",
    "* 유저가 영화에 대해 평점을 매긴 데이터 중 MovieLens 1M Dataset 사용합니다.\n",
    "    \n",
    "These files contain 1,000,209 anonymous ratings of approximately 3,900 movies made by 6,040 MovieLens users who joined MovieLens in 2000.  \n",
    "\n",
    "* 우리가 사용할 ratings.dat 는 'UserId', 'ItemId', 'Rating', 'Time' 컬럼으로 구성됩니다.\n",
    "\n",
    "* 세션을 브라우저가 종료되기 전까지 유저의 행동을 담은 시퀀스 데이터와 같은 의미로 사용하겠습니다."
   ]
  },
  {
   "cell_type": "markdown",
   "id": "alike-female",
   "metadata": {},
   "source": [
    "# 1. Data Preprocess\n",
    "\n",
    "\n",
    "---\n",
    "\n",
    "```python\n",
    "\n",
    "SessionId : the total number of visits to your site — including both new and repeat visits  \n",
    "\n",
    "UserId : Users means the number of unique visitors to your site\n",
    "```\n",
    "\n",
    "\n",
    "\n",
    "\n",
    "많은 서비스 기업에서는 Collaborative filtering(CF) 알고리즘과, Content based(CB) 추천 방식을 사용합니다. 그러나 이 방식은 유저가 본 상품들의 순서를 고려하지 않으므로 global 취향은 잘 고려할 수 있지만, local 취향 즉, '현재 가장 관심을 갖는' 상품이 무엇인지는 잘 알 수 가 없습니다. 또한 순서를 고려하지 않기 때문에, 유저들의 구매 패턴을 알아낼 수 없는 문제가 있습니다. \n",
    "\n",
    "이때, Session Based Recommendation Model은 유저들이 선택했던 아이템의 순서를 고려해 학습합니다.\n",
    "\n",
    "---\n",
    "\n",
    "\n",
    "그런데 우리가 사용할 ratings.dat 에는 SessionId가 아닌, UserId가 제공되므로, SBR을 위해서 UserId를 어떻게 SessionId로 재해석할 지 고민해야 합니다. "
   ]
  },
  {
   "cell_type": "code",
   "execution_count": 1,
   "metadata": {},
   "outputs": [],
   "source": [
    "import time\n",
    "start_time = time.time()"
   ]
  },
  {
   "cell_type": "markdown",
   "metadata": {
    "id": "l7OspmFHIxmL"
   },
   "source": [
    "## 데이터 불러오기"
   ]
  },
  {
   "cell_type": "code",
   "execution_count": 2,
   "metadata": {
    "id": "i40imKfeHG6N"
   },
   "outputs": [],
   "source": [
    "import datetime as dt\n",
    "from pathlib import Path\n",
    "import os\n",
    "\n",
    "import numpy as np\n",
    "import pandas as pd\n",
    "import warnings\n",
    "warnings.filterwarnings('ignore')"
   ]
  },
  {
   "cell_type": "code",
   "execution_count": 3,
   "metadata": {
    "colab": {
     "base_uri": "https://localhost:8080/",
     "height": 419
    },
    "id": "QQd1s6kZIL2j",
    "outputId": "5390da7e-a590-4f11-f78a-1c231f06b08f"
   },
   "outputs": [
    {
     "data": {
      "text/html": [
       "<div>\n",
       "<style scoped>\n",
       "    .dataframe tbody tr th:only-of-type {\n",
       "        vertical-align: middle;\n",
       "    }\n",
       "\n",
       "    .dataframe tbody tr th {\n",
       "        vertical-align: top;\n",
       "    }\n",
       "\n",
       "    .dataframe thead th {\n",
       "        text-align: right;\n",
       "    }\n",
       "</style>\n",
       "<table border=\"1\" class=\"dataframe\">\n",
       "  <thead>\n",
       "    <tr style=\"text-align: right;\">\n",
       "      <th></th>\n",
       "      <th>UserId</th>\n",
       "      <th>ItemId</th>\n",
       "      <th>Rating</th>\n",
       "      <th>Time</th>\n",
       "    </tr>\n",
       "  </thead>\n",
       "  <tbody>\n",
       "    <tr>\n",
       "      <th>31</th>\n",
       "      <td>1</td>\n",
       "      <td>3186</td>\n",
       "      <td>4</td>\n",
       "      <td>978300019</td>\n",
       "    </tr>\n",
       "    <tr>\n",
       "      <th>22</th>\n",
       "      <td>1</td>\n",
       "      <td>1270</td>\n",
       "      <td>5</td>\n",
       "      <td>978300055</td>\n",
       "    </tr>\n",
       "    <tr>\n",
       "      <th>27</th>\n",
       "      <td>1</td>\n",
       "      <td>1721</td>\n",
       "      <td>4</td>\n",
       "      <td>978300055</td>\n",
       "    </tr>\n",
       "    <tr>\n",
       "      <th>37</th>\n",
       "      <td>1</td>\n",
       "      <td>1022</td>\n",
       "      <td>5</td>\n",
       "      <td>978300055</td>\n",
       "    </tr>\n",
       "    <tr>\n",
       "      <th>24</th>\n",
       "      <td>1</td>\n",
       "      <td>2340</td>\n",
       "      <td>3</td>\n",
       "      <td>978300103</td>\n",
       "    </tr>\n",
       "    <tr>\n",
       "      <th>...</th>\n",
       "      <td>...</td>\n",
       "      <td>...</td>\n",
       "      <td>...</td>\n",
       "      <td>...</td>\n",
       "    </tr>\n",
       "    <tr>\n",
       "      <th>1000019</th>\n",
       "      <td>6040</td>\n",
       "      <td>2917</td>\n",
       "      <td>4</td>\n",
       "      <td>997454429</td>\n",
       "    </tr>\n",
       "    <tr>\n",
       "      <th>999988</th>\n",
       "      <td>6040</td>\n",
       "      <td>1921</td>\n",
       "      <td>4</td>\n",
       "      <td>997454464</td>\n",
       "    </tr>\n",
       "    <tr>\n",
       "      <th>1000172</th>\n",
       "      <td>6040</td>\n",
       "      <td>1784</td>\n",
       "      <td>3</td>\n",
       "      <td>997454464</td>\n",
       "    </tr>\n",
       "    <tr>\n",
       "      <th>1000167</th>\n",
       "      <td>6040</td>\n",
       "      <td>161</td>\n",
       "      <td>3</td>\n",
       "      <td>997454486</td>\n",
       "    </tr>\n",
       "    <tr>\n",
       "      <th>1000042</th>\n",
       "      <td>6040</td>\n",
       "      <td>1221</td>\n",
       "      <td>4</td>\n",
       "      <td>998315055</td>\n",
       "    </tr>\n",
       "  </tbody>\n",
       "</table>\n",
       "<p>1000209 rows × 4 columns</p>\n",
       "</div>"
      ],
      "text/plain": [
       "         UserId  ItemId  Rating       Time\n",
       "31            1    3186       4  978300019\n",
       "22            1    1270       5  978300055\n",
       "27            1    1721       4  978300055\n",
       "37            1    1022       5  978300055\n",
       "24            1    2340       3  978300103\n",
       "...         ...     ...     ...        ...\n",
       "1000019    6040    2917       4  997454429\n",
       "999988     6040    1921       4  997454464\n",
       "1000172    6040    1784       3  997454464\n",
       "1000167    6040     161       3  997454486\n",
       "1000042    6040    1221       4  998315055\n",
       "\n",
       "[1000209 rows x 4 columns]"
      ]
     },
     "execution_count": 3,
     "metadata": {},
     "output_type": "execute_result"
    }
   ],
   "source": [
    "data_path = Path('C:/Users/Noah/aiffel/E16/yoochoose/data/')\n",
    "train_path = data_path / 'ratings.dat'\n",
    "\n",
    "def load_data(data_path: Path, nrows=None):\n",
    "    data = pd.read_csv(data_path, sep='::', header=None, usecols=[0, 1, 2, 3], dtype={0: np.int32, 1: np.int32, 2: np.int32}, nrows=nrows)\n",
    "    data.columns = ['UserId', 'ItemId', 'Rating', 'Time']\n",
    "    return data\n",
    "\n",
    "data = load_data(train_path, None)\n",
    "data.sort_values(['UserId', 'Time'], inplace=True)  # data를 id와 시간 순서로 정렬해줍니다.\n",
    "data"
   ]
  },
  {
   "cell_type": "markdown",
   "metadata": {
    "id": "ERoFYGdTfUCs"
   },
   "source": [
    "- `UserId` : 유저의 아이디\n",
    "- `ItmeId` : 영화의 아이디\n",
    "- `Rating` : 영화 평점\n",
    "- `Time` : 시간(UTC)\n"
   ]
  },
  {
   "cell_type": "markdown",
   "id": "confidential-constraint",
   "metadata": {},
   "source": [
    "```python\n",
    "* 명확한 1회 세션의 SessionId를 포함하지 않기 때문에 UserId 가 SessionId 역할을 해야 합니다. 어떻게 Session 단위로 해석해야 할까요?\n",
    "\n",
    "우선 groupby 메서드를 사용해서 각 유저가 시간당 몇회의 평가를 했는지 살펴보겠습니다. \n",
    "\n",
    "* Rating 정보를 어떻게 활용해야 할까요? \n",
    "\n",
    "rating은 유저가 영화에 대해 주는 별점으로 최저점1~ 최고점 5 의 값을 가집니다. \n",
    "직전에 봤던 영화에 1-2점의 평가를 한 경우엔 영화 추천에 의미가 없다고 판단하여 제거했습니다. 따라서 저희가 사용할 데이터는 3-5점의 평가를 받은 데이터입니다.\n",
    "\n",
    "* Time 항목에는 UTC time 가 포함되어, 1970 년 1월 1일부터 경과된 초단위 시간이 기재됩니다. \n",
    "\n",
    "datetime.datetime.fromtimestamp() 를 사용하여 년월일 단위로 표현합니다.\n",
    "```"
   ]
  },
  {
   "cell_type": "code",
   "execution_count": 4,
   "metadata": {
    "colab": {
     "base_uri": "https://localhost:8080/"
    },
    "id": "MpnhIcpgI3bc",
    "outputId": "e7778323-2c6d-4e8e-c0fc-70dad1e60cf0"
   },
   "outputs": [
    {
     "name": "stdout",
     "output_type": "stream",
     "text": [
      "유저 수:  6040\n",
      "영화 수:  3706\n"
     ]
    }
   ],
   "source": [
    "print(\"유저 수: \", data['UserId'].nunique())\n",
    "print(\"영화 수: \", data['ItemId'].nunique())"
   ]
  },
  {
   "cell_type": "code",
   "execution_count": 5,
   "metadata": {
    "colab": {
     "base_uri": "https://localhost:8080/"
    },
    "id": "ND9Q3f-HXTJ7",
    "outputId": "e8347acd-9354-4b45-d7fd-bd7f8a9bb026"
   },
   "outputs": [
    {
     "data": {
      "text/plain": [
       "UserId\n",
       "1        53\n",
       "2       129\n",
       "3        51\n",
       "4        21\n",
       "5       198\n",
       "       ... \n",
       "6036    888\n",
       "6037    202\n",
       "6038     20\n",
       "6039    123\n",
       "6040    341\n",
       "Length: 6040, dtype: int64"
      ]
     },
     "execution_count": 5,
     "metadata": {},
     "output_type": "execute_result"
    }
   ],
   "source": [
    "# 각 유저가 몇 개의 평가를 햇는지 확인\n",
    "session_length = data.groupby('UserId').size()\n",
    "session_length"
   ]
  },
  {
   "cell_type": "markdown",
   "metadata": {
    "id": "t5dyyb9LYGUi"
   },
   "source": [
    "- `session_length`는 `UserId`를 공유하는 데이터의 row 개수를 의미한다. 즉 한 사람 당 영화 몇 편을 평가 했는지를 의미한다."
   ]
  },
  {
   "cell_type": "code",
   "execution_count": 6,
   "metadata": {
    "colab": {
     "base_uri": "https://localhost:8080/"
    },
    "id": "cf24uLOEXoZy",
    "outputId": "2d9535a6-d83c-4920-eb81-ac6dbeeebe10"
   },
   "outputs": [
    {
     "name": "stdout",
     "output_type": "stream",
     "text": [
      "median:  96.0\n",
      "mean:  165.5975165562914\n"
     ]
    }
   ],
   "source": [
    "print(\"median: \", session_length.median())\n",
    "print(\"mean: \", session_length.mean())"
   ]
  },
  {
   "cell_type": "code",
   "execution_count": 7,
   "metadata": {
    "colab": {
     "base_uri": "https://localhost:8080/"
    },
    "id": "6L3diYJZXuTH",
    "outputId": "7bf49cf6-7ef3-4fbf-ac78-b7fd9dd48d16"
   },
   "outputs": [
    {
     "name": "stdout",
     "output_type": "stream",
     "text": [
      "min:  20\n",
      "max:  2314\n"
     ]
    }
   ],
   "source": [
    "print(\"min: \", session_length.min())\n",
    "print(\"max: \", session_length.max())"
   ]
  },
  {
   "cell_type": "code",
   "execution_count": 8,
   "metadata": {
    "colab": {
     "base_uri": "https://localhost:8080/"
    },
    "id": "tw8ZDcjZX5pG",
    "outputId": "6d1bfa17-386a-4226-ae3a-01ca37889de3"
   },
   "outputs": [
    {
     "name": "stdout",
     "output_type": "stream",
     "text": [
      "Quantile(0.999):  1343.181000000005\n"
     ]
    }
   ],
   "source": [
    "print(\"Quantile(0.999): \", session_length.quantile(0.999))"
   ]
  },
  {
   "cell_type": "markdown",
   "metadata": {
    "id": "kesvq45cZDdX"
   },
   "source": [
    "- 각 유저는 보통 96 ~ 165개의 평가를 남겼다.\n",
    "- 99.9%의 유저는 1343개 이하의 평가를 했다."
   ]
  },
  {
   "cell_type": "code",
   "execution_count": 9,
   "metadata": {
    "colab": {
     "base_uri": "https://localhost:8080/",
     "height": 419
    },
    "id": "UdXmjGVVYezr",
    "outputId": "02dc54c9-5407-45fa-9c57-a1c83d29a608"
   },
   "outputs": [
    {
     "data": {
      "text/html": [
       "<div>\n",
       "<style scoped>\n",
       "    .dataframe tbody tr th:only-of-type {\n",
       "        vertical-align: middle;\n",
       "    }\n",
       "\n",
       "    .dataframe tbody tr th {\n",
       "        vertical-align: top;\n",
       "    }\n",
       "\n",
       "    .dataframe thead th {\n",
       "        text-align: right;\n",
       "    }\n",
       "</style>\n",
       "<table border=\"1\" class=\"dataframe\">\n",
       "  <thead>\n",
       "    <tr style=\"text-align: right;\">\n",
       "      <th></th>\n",
       "      <th>UserId</th>\n",
       "      <th>ItemId</th>\n",
       "      <th>Rating</th>\n",
       "      <th>Time</th>\n",
       "    </tr>\n",
       "  </thead>\n",
       "  <tbody>\n",
       "    <tr>\n",
       "      <th>696969</th>\n",
       "      <td>4169</td>\n",
       "      <td>1268</td>\n",
       "      <td>5</td>\n",
       "      <td>965333392</td>\n",
       "    </tr>\n",
       "    <tr>\n",
       "      <th>697168</th>\n",
       "      <td>4169</td>\n",
       "      <td>2617</td>\n",
       "      <td>4</td>\n",
       "      <td>965333392</td>\n",
       "    </tr>\n",
       "    <tr>\n",
       "      <th>697185</th>\n",
       "      <td>4169</td>\n",
       "      <td>2628</td>\n",
       "      <td>4</td>\n",
       "      <td>965333392</td>\n",
       "    </tr>\n",
       "    <tr>\n",
       "      <th>697219</th>\n",
       "      <td>4169</td>\n",
       "      <td>2653</td>\n",
       "      <td>4</td>\n",
       "      <td>965333392</td>\n",
       "    </tr>\n",
       "    <tr>\n",
       "      <th>697275</th>\n",
       "      <td>4169</td>\n",
       "      <td>423</td>\n",
       "      <td>3</td>\n",
       "      <td>965333392</td>\n",
       "    </tr>\n",
       "    <tr>\n",
       "      <th>...</th>\n",
       "      <td>...</td>\n",
       "      <td>...</td>\n",
       "      <td>...</td>\n",
       "      <td>...</td>\n",
       "    </tr>\n",
       "    <tr>\n",
       "      <th>697882</th>\n",
       "      <td>4169</td>\n",
       "      <td>3754</td>\n",
       "      <td>2</td>\n",
       "      <td>1024174347</td>\n",
       "    </tr>\n",
       "    <tr>\n",
       "      <th>695702</th>\n",
       "      <td>4169</td>\n",
       "      <td>1413</td>\n",
       "      <td>3</td>\n",
       "      <td>1024175031</td>\n",
       "    </tr>\n",
       "    <tr>\n",
       "      <th>697358</th>\n",
       "      <td>4169</td>\n",
       "      <td>494</td>\n",
       "      <td>4</td>\n",
       "      <td>1024175760</td>\n",
       "    </tr>\n",
       "    <tr>\n",
       "      <th>695945</th>\n",
       "      <td>4169</td>\n",
       "      <td>1804</td>\n",
       "      <td>2</td>\n",
       "      <td>1024175783</td>\n",
       "    </tr>\n",
       "    <tr>\n",
       "      <th>696446</th>\n",
       "      <td>4169</td>\n",
       "      <td>1548</td>\n",
       "      <td>3</td>\n",
       "      <td>1024176337</td>\n",
       "    </tr>\n",
       "  </tbody>\n",
       "</table>\n",
       "<p>2314 rows × 4 columns</p>\n",
       "</div>"
      ],
      "text/plain": [
       "        UserId  ItemId  Rating        Time\n",
       "696969    4169    1268       5   965333392\n",
       "697168    4169    2617       4   965333392\n",
       "697185    4169    2628       4   965333392\n",
       "697219    4169    2653       4   965333392\n",
       "697275    4169     423       3   965333392\n",
       "...        ...     ...     ...         ...\n",
       "697882    4169    3754       2  1024174347\n",
       "695702    4169    1413       3  1024175031\n",
       "697358    4169     494       4  1024175760\n",
       "695945    4169    1804       2  1024175783\n",
       "696446    4169    1548       3  1024176337\n",
       "\n",
       "[2314 rows x 4 columns]"
      ]
     },
     "execution_count": 9,
     "metadata": {},
     "output_type": "execute_result"
    }
   ],
   "source": [
    "long_session = session_length[session_length == 2314].index[0]\n",
    "long_data = data[data['UserId'] == long_session]\n",
    "long_data"
   ]
  },
  {
   "cell_type": "markdown",
   "metadata": {
    "id": "kNC3DAMeZiDD"
   },
   "source": [
    "- 평가를 가장 많이 남긴 사람을 보면 2314개의 평가를 남겼는데 시간까지 보면 같은 시간에 여러 평가를 남긴 것을 볼 수 있다.\n",
    "- 예전에 본 영화들을 몰아서 평가하는 것일 수도 있다.\n",
    "- 평점을 최저점이나 최고점을 몰아서 주지 않은 점을 참조하여 이 데이터를 지우지 않고 남겨둔다."
   ]
  },
  {
   "cell_type": "markdown",
   "metadata": {
    "id": "sfOTW6wFaiGZ"
   },
   "source": [
    "### 세션길이 기준 하위 99.9%까지 분포 누적합 시각화"
   ]
  },
  {
   "cell_type": "code",
   "execution_count": 10,
   "metadata": {
    "colab": {
     "base_uri": "https://localhost:8080/"
    },
    "id": "eUoYfA54aOH2",
    "outputId": "c09d6f13-17ce-4c31-9956-6fd239570326",
    "scrolled": true
   },
   "outputs": [
    {
     "data": {
      "text/plain": [
       "20      0.014238\n",
       "21      0.029305\n",
       "22      0.042053\n",
       "23      0.055464\n",
       "24      0.068874\n",
       "          ...   \n",
       "1271    0.998179\n",
       "1277    0.998344\n",
       "1286    0.998510\n",
       "1302    0.998675\n",
       "1323    0.998841\n",
       "Length: 736, dtype: float64"
      ]
     },
     "execution_count": 10,
     "metadata": {},
     "output_type": "execute_result"
    }
   ],
   "source": [
    "length_count = session_length.groupby(session_length).size()\n",
    "length_percent_cumsum = length_count.cumsum() / length_count.sum()\n",
    "length_percent_cumsum_999 = length_percent_cumsum[length_percent_cumsum < 0.999]\n",
    "\n",
    "length_percent_cumsum_999"
   ]
  },
  {
   "cell_type": "markdown",
   "metadata": {},
   "source": [
    "## 색깔 바꿔본다고 여러번 실행해서 .. 그렇습니다 ;;"
   ]
  },
  {
   "cell_type": "code",
   "execution_count": 11,
   "metadata": {
    "colab": {
     "base_uri": "https://localhost:8080/",
     "height": 612
    },
    "id": "RCOoK4f5ZzW4",
    "outputId": "a55b2ae6-7854-49e4-ba92-6553708f0f2e"
   },
   "outputs": [
    {
     "data": {
      "image/png": "[encoded data removed]",
      "text/plain": [
       "<Figure size 1440x720 with 1 Axes>"
      ]
     },
     "metadata": {
      "needs_background": "light"
     },
     "output_type": "display_data"
    }
   ],
   "source": [
    "import matplotlib.pyplot as plt\n",
    "\n",
    "plt.figure(figsize=(20, 10))\n",
    "plt.bar(x=length_percent_cumsum_999.index,\n",
    "        height=length_percent_cumsum_999, color='pink')\n",
    "plt.xticks(length_percent_cumsum_999.index)\n",
    "plt.yticks(np.arange(0, 1.01, 0.05))\n",
    "plt.title('Cumsum Percentage Until 0.999', size=20)\n",
    "plt.show()"
   ]
  },
  {
   "cell_type": "code",
   "execution_count": 12,
   "metadata": {},
   "outputs": [
    {
     "data": {
      "text/plain": [
       "ItemId\n",
       "2858    3428\n",
       "260     2991\n",
       "1196    2990\n",
       "1210    2883\n",
       "480     2672\n",
       "2028    2653\n",
       "589     2649\n",
       "2571    2590\n",
       "1270    2583\n",
       "593     2578\n",
       "Name: UserId, dtype: int64"
      ]
     },
     "execution_count": 12,
     "metadata": {},
     "output_type": "execute_result"
    }
   ],
   "source": [
    "# 어떤 영화에 세션 수가 많은지 보겠습니다\n",
    "mv_count = data.groupby('ItemId')['UserId'].count()\n",
    "mv_count.sort_values(ascending=False).head(10)"
   ]
  },
  {
   "cell_type": "code",
   "execution_count": 13,
   "metadata": {},
   "outputs": [
    {
     "data": {
      "image/png": "[encoded data removed]",
      "text/plain": [
       "<Figure size 1440x720 with 1 Axes>"
      ]
     },
     "metadata": {
      "needs_background": "light"
     },
     "output_type": "display_data"
    }
   ],
   "source": [
    "plt.figure(figsize=(20,10))\n",
    "plt.hist(mv_count, bins=100, density=False, alpha=0.7, histtype='stepfilled')\n",
    "plt.show()"
   ]
  },
  {
   "cell_type": "markdown",
   "metadata": {
    "id": "JKwvF9yVFrks"
   },
   "source": [
    "## 데이터의 전처리"
   ]
  },
  {
   "cell_type": "code",
   "execution_count": 14,
   "metadata": {
    "id": "rMFsqvqI2Lfd"
   },
   "outputs": [],
   "source": [
    "# 데이터를 카피해준다\n",
    "data1 = data.copy()"
   ]
  },
  {
   "cell_type": "markdown",
   "metadata": {
    "id": "SIQoIr55bY_9"
   },
   "source": [
    "### 시간 전처리\n",
    "\n",
    "- [[Python] 시간 다루기 헷갈리는 부분 정리](https://journeytosth.tistory.com/29)\n",
    "\n",
    "**`datetime.fromtimestamp()` / `datetime.utcfromtimestamp()`**\n",
    "- datetime모듈의 datetime객체의 `fromtimestamp()`함수에 인자로 `time.time()`을 넘겨주면 현재 시간을 datetime객체로 변환해준다.\n",
    "- `utcfromtimestamp()` 함수에 `time.time()`을 넘겨주면 utc시간 객체로 반환해준다.\n"
   ]
  },
  {
   "cell_type": "code",
   "execution_count": 15,
   "metadata": {
    "colab": {
     "base_uri": "https://localhost:8080/",
     "height": 419
    },
    "id": "c6IRqjDrdkia",
    "outputId": "31ced4a2-0d2d-4f58-bb60-746f77b46085"
   },
   "outputs": [
    {
     "data": {
      "text/html": [
       "<div>\n",
       "<style scoped>\n",
       "    .dataframe tbody tr th:only-of-type {\n",
       "        vertical-align: middle;\n",
       "    }\n",
       "\n",
       "    .dataframe tbody tr th {\n",
       "        vertical-align: top;\n",
       "    }\n",
       "\n",
       "    .dataframe thead th {\n",
       "        text-align: right;\n",
       "    }\n",
       "</style>\n",
       "<table border=\"1\" class=\"dataframe\">\n",
       "  <thead>\n",
       "    <tr style=\"text-align: right;\">\n",
       "      <th></th>\n",
       "      <th>UserId</th>\n",
       "      <th>ItemId</th>\n",
       "      <th>Rating</th>\n",
       "      <th>Time</th>\n",
       "    </tr>\n",
       "  </thead>\n",
       "  <tbody>\n",
       "    <tr>\n",
       "      <th>31</th>\n",
       "      <td>1</td>\n",
       "      <td>3186</td>\n",
       "      <td>4</td>\n",
       "      <td>2000-12-31 22:00:19</td>\n",
       "    </tr>\n",
       "    <tr>\n",
       "      <th>22</th>\n",
       "      <td>1</td>\n",
       "      <td>1270</td>\n",
       "      <td>5</td>\n",
       "      <td>2000-12-31 22:00:55</td>\n",
       "    </tr>\n",
       "    <tr>\n",
       "      <th>27</th>\n",
       "      <td>1</td>\n",
       "      <td>1721</td>\n",
       "      <td>4</td>\n",
       "      <td>2000-12-31 22:00:55</td>\n",
       "    </tr>\n",
       "    <tr>\n",
       "      <th>37</th>\n",
       "      <td>1</td>\n",
       "      <td>1022</td>\n",
       "      <td>5</td>\n",
       "      <td>2000-12-31 22:00:55</td>\n",
       "    </tr>\n",
       "    <tr>\n",
       "      <th>24</th>\n",
       "      <td>1</td>\n",
       "      <td>2340</td>\n",
       "      <td>3</td>\n",
       "      <td>2000-12-31 22:01:43</td>\n",
       "    </tr>\n",
       "    <tr>\n",
       "      <th>...</th>\n",
       "      <td>...</td>\n",
       "      <td>...</td>\n",
       "      <td>...</td>\n",
       "      <td>...</td>\n",
       "    </tr>\n",
       "    <tr>\n",
       "      <th>1000019</th>\n",
       "      <td>6040</td>\n",
       "      <td>2917</td>\n",
       "      <td>4</td>\n",
       "      <td>2001-08-10 14:40:29</td>\n",
       "    </tr>\n",
       "    <tr>\n",
       "      <th>999988</th>\n",
       "      <td>6040</td>\n",
       "      <td>1921</td>\n",
       "      <td>4</td>\n",
       "      <td>2001-08-10 14:41:04</td>\n",
       "    </tr>\n",
       "    <tr>\n",
       "      <th>1000172</th>\n",
       "      <td>6040</td>\n",
       "      <td>1784</td>\n",
       "      <td>3</td>\n",
       "      <td>2001-08-10 14:41:04</td>\n",
       "    </tr>\n",
       "    <tr>\n",
       "      <th>1000167</th>\n",
       "      <td>6040</td>\n",
       "      <td>161</td>\n",
       "      <td>3</td>\n",
       "      <td>2001-08-10 14:41:26</td>\n",
       "    </tr>\n",
       "    <tr>\n",
       "      <th>1000042</th>\n",
       "      <td>6040</td>\n",
       "      <td>1221</td>\n",
       "      <td>4</td>\n",
       "      <td>2001-08-20 13:44:15</td>\n",
       "    </tr>\n",
       "  </tbody>\n",
       "</table>\n",
       "<p>1000209 rows × 4 columns</p>\n",
       "</div>"
      ],
      "text/plain": [
       "         UserId  ItemId  Rating                Time\n",
       "31            1    3186       4 2000-12-31 22:00:19\n",
       "22            1    1270       5 2000-12-31 22:00:55\n",
       "27            1    1721       4 2000-12-31 22:00:55\n",
       "37            1    1022       5 2000-12-31 22:00:55\n",
       "24            1    2340       3 2000-12-31 22:01:43\n",
       "...         ...     ...     ...                 ...\n",
       "1000019    6040    2917       4 2001-08-10 14:40:29\n",
       "999988     6040    1921       4 2001-08-10 14:41:04\n",
       "1000172    6040    1784       3 2001-08-10 14:41:04\n",
       "1000167    6040     161       3 2001-08-10 14:41:26\n",
       "1000042    6040    1221       4 2001-08-20 13:44:15\n",
       "\n",
       "[1000209 rows x 4 columns]"
      ]
     },
     "execution_count": 15,
     "metadata": {},
     "output_type": "execute_result"
    }
   ],
   "source": [
    "from datetime import datetime\n",
    "\n",
    "data1['Time'] = data1['Time'].map(lambda x: datetime.utcfromtimestamp(x))\n",
    "data1"
   ]
  },
  {
   "cell_type": "code",
   "execution_count": 16,
   "metadata": {
    "colab": {
     "base_uri": "https://localhost:8080/"
    },
    "id": "eh-fTF8OepGJ",
    "outputId": "819c6d1e-9a3d-4a52-8e61-f714f691bf24"
   },
   "outputs": [
    {
     "name": "stdout",
     "output_type": "stream",
     "text": [
      "2000-04-25 23:05:32\n",
      "2003-02-28 17:49:50\n"
     ]
    }
   ],
   "source": [
    "oldest, latest = data1['Time'].min(), data1['Time'].max()\n",
    "print(oldest)\n",
    "print(latest)"
   ]
  },
  {
   "cell_type": "markdown",
   "metadata": {
    "id": "48dmt5o712E_"
   },
   "source": [
    "### 3점 미만 데이터 삭제"
   ]
  },
  {
   "cell_type": "code",
   "execution_count": 17,
   "metadata": {
    "colab": {
     "base_uri": "https://localhost:8080/"
    },
    "id": "hrdNlE5p15a8",
    "outputId": "b2179290-88e2-4f76-d253-bf71e05b28ad"
   },
   "outputs": [
    {
     "name": "stdout",
     "output_type": "stream",
     "text": [
      "836478\n"
     ]
    }
   ],
   "source": [
    "data1 = data1[data1['Rating'] >= 3]\n",
    "print(len(data1))"
   ]
  },
  {
   "cell_type": "markdown",
   "metadata": {
    "id": "vag41j_q2sVx"
   },
   "source": [
    "### 세션 아이디 만들어주기\n",
    "\n",
    "\n"
   ]
  },
  {
   "cell_type": "code",
   "execution_count": 18,
   "metadata": {
    "id": "mAbiUT4-151L"
   },
   "outputs": [],
   "source": [
    "# 유저 아이디와 시간으로 세션 아이디 만들기\n",
    "data1['SessionId'] = data1.apply(lambda x: str(x['UserId']) + \" : \" + str(x['Time']), axis=1)\n",
    "session_unique = data1['SessionId'].unique() # 유니크한 값 뽑기\n",
    "session_to_idx = {v:k for k,v in enumerate(session_unique)} # 인덱스 만들기\n",
    "\n",
    "temp_session_data = data1['SessionId'].map(session_to_idx.get).dropna()\n",
    "data1['SessionId'] = temp_session_data"
   ]
  },
  {
   "cell_type": "code",
   "execution_count": 19,
   "metadata": {
    "colab": {
     "base_uri": "https://localhost:8080/",
     "height": 419
    },
    "id": "SQ2-Nk7x43B2",
    "outputId": "d9ee765b-727c-4b9e-fa40-ce9d341195fd"
   },
   "outputs": [
    {
     "data": {
      "text/html": [
       "<div>\n",
       "<style scoped>\n",
       "    .dataframe tbody tr th:only-of-type {\n",
       "        vertical-align: middle;\n",
       "    }\n",
       "\n",
       "    .dataframe tbody tr th {\n",
       "        vertical-align: top;\n",
       "    }\n",
       "\n",
       "    .dataframe thead th {\n",
       "        text-align: right;\n",
       "    }\n",
       "</style>\n",
       "<table border=\"1\" class=\"dataframe\">\n",
       "  <thead>\n",
       "    <tr style=\"text-align: right;\">\n",
       "      <th></th>\n",
       "      <th>UserId</th>\n",
       "      <th>ItemId</th>\n",
       "      <th>Rating</th>\n",
       "      <th>Time</th>\n",
       "      <th>SessionId</th>\n",
       "    </tr>\n",
       "  </thead>\n",
       "  <tbody>\n",
       "    <tr>\n",
       "      <th>31</th>\n",
       "      <td>1</td>\n",
       "      <td>3186</td>\n",
       "      <td>4</td>\n",
       "      <td>2000-12-31 22:00:19</td>\n",
       "      <td>0</td>\n",
       "    </tr>\n",
       "    <tr>\n",
       "      <th>22</th>\n",
       "      <td>1</td>\n",
       "      <td>1270</td>\n",
       "      <td>5</td>\n",
       "      <td>2000-12-31 22:00:55</td>\n",
       "      <td>1</td>\n",
       "    </tr>\n",
       "    <tr>\n",
       "      <th>27</th>\n",
       "      <td>1</td>\n",
       "      <td>1721</td>\n",
       "      <td>4</td>\n",
       "      <td>2000-12-31 22:00:55</td>\n",
       "      <td>1</td>\n",
       "    </tr>\n",
       "    <tr>\n",
       "      <th>37</th>\n",
       "      <td>1</td>\n",
       "      <td>1022</td>\n",
       "      <td>5</td>\n",
       "      <td>2000-12-31 22:00:55</td>\n",
       "      <td>1</td>\n",
       "    </tr>\n",
       "    <tr>\n",
       "      <th>24</th>\n",
       "      <td>1</td>\n",
       "      <td>2340</td>\n",
       "      <td>3</td>\n",
       "      <td>2000-12-31 22:01:43</td>\n",
       "      <td>2</td>\n",
       "    </tr>\n",
       "    <tr>\n",
       "      <th>...</th>\n",
       "      <td>...</td>\n",
       "      <td>...</td>\n",
       "      <td>...</td>\n",
       "      <td>...</td>\n",
       "      <td>...</td>\n",
       "    </tr>\n",
       "    <tr>\n",
       "      <th>1000019</th>\n",
       "      <td>6040</td>\n",
       "      <td>2917</td>\n",
       "      <td>4</td>\n",
       "      <td>2001-08-10 14:40:29</td>\n",
       "      <td>423404</td>\n",
       "    </tr>\n",
       "    <tr>\n",
       "      <th>999988</th>\n",
       "      <td>6040</td>\n",
       "      <td>1921</td>\n",
       "      <td>4</td>\n",
       "      <td>2001-08-10 14:41:04</td>\n",
       "      <td>423405</td>\n",
       "    </tr>\n",
       "    <tr>\n",
       "      <th>1000172</th>\n",
       "      <td>6040</td>\n",
       "      <td>1784</td>\n",
       "      <td>3</td>\n",
       "      <td>2001-08-10 14:41:04</td>\n",
       "      <td>423405</td>\n",
       "    </tr>\n",
       "    <tr>\n",
       "      <th>1000167</th>\n",
       "      <td>6040</td>\n",
       "      <td>161</td>\n",
       "      <td>3</td>\n",
       "      <td>2001-08-10 14:41:26</td>\n",
       "      <td>423406</td>\n",
       "    </tr>\n",
       "    <tr>\n",
       "      <th>1000042</th>\n",
       "      <td>6040</td>\n",
       "      <td>1221</td>\n",
       "      <td>4</td>\n",
       "      <td>2001-08-20 13:44:15</td>\n",
       "      <td>423407</td>\n",
       "    </tr>\n",
       "  </tbody>\n",
       "</table>\n",
       "<p>836478 rows × 5 columns</p>\n",
       "</div>"
      ],
      "text/plain": [
       "         UserId  ItemId  Rating                Time  SessionId\n",
       "31            1    3186       4 2000-12-31 22:00:19          0\n",
       "22            1    1270       5 2000-12-31 22:00:55          1\n",
       "27            1    1721       4 2000-12-31 22:00:55          1\n",
       "37            1    1022       5 2000-12-31 22:00:55          1\n",
       "24            1    2340       3 2000-12-31 22:01:43          2\n",
       "...         ...     ...     ...                 ...        ...\n",
       "1000019    6040    2917       4 2001-08-10 14:40:29     423404\n",
       "999988     6040    1921       4 2001-08-10 14:41:04     423405\n",
       "1000172    6040    1784       3 2001-08-10 14:41:04     423405\n",
       "1000167    6040     161       3 2001-08-10 14:41:26     423406\n",
       "1000042    6040    1221       4 2001-08-20 13:44:15     423407\n",
       "\n",
       "[836478 rows x 5 columns]"
      ]
     },
     "execution_count": 19,
     "metadata": {},
     "output_type": "execute_result"
    }
   ],
   "source": [
    "data1"
   ]
  },
  {
   "cell_type": "markdown",
   "metadata": {
    "id": "SoEpqBKw54t4"
   },
   "source": [
    "### 컬럼 삭제"
   ]
  },
  {
   "cell_type": "code",
   "execution_count": 20,
   "metadata": {
    "colab": {
     "base_uri": "https://localhost:8080/",
     "height": 419
    },
    "id": "v3sgnDT057CT",
    "outputId": "7e4f2bcc-256d-4b34-805c-32945a6a4dde"
   },
   "outputs": [
    {
     "data": {
      "text/html": [
       "<div>\n",
       "<style scoped>\n",
       "    .dataframe tbody tr th:only-of-type {\n",
       "        vertical-align: middle;\n",
       "    }\n",
       "\n",
       "    .dataframe tbody tr th {\n",
       "        vertical-align: top;\n",
       "    }\n",
       "\n",
       "    .dataframe thead th {\n",
       "        text-align: right;\n",
       "    }\n",
       "</style>\n",
       "<table border=\"1\" class=\"dataframe\">\n",
       "  <thead>\n",
       "    <tr style=\"text-align: right;\">\n",
       "      <th></th>\n",
       "      <th>SessionId</th>\n",
       "      <th>ItemId</th>\n",
       "      <th>Time</th>\n",
       "    </tr>\n",
       "  </thead>\n",
       "  <tbody>\n",
       "    <tr>\n",
       "      <th>31</th>\n",
       "      <td>0</td>\n",
       "      <td>3186</td>\n",
       "      <td>2000-12-31 22:00:19</td>\n",
       "    </tr>\n",
       "    <tr>\n",
       "      <th>22</th>\n",
       "      <td>1</td>\n",
       "      <td>1270</td>\n",
       "      <td>2000-12-31 22:00:55</td>\n",
       "    </tr>\n",
       "    <tr>\n",
       "      <th>27</th>\n",
       "      <td>1</td>\n",
       "      <td>1721</td>\n",
       "      <td>2000-12-31 22:00:55</td>\n",
       "    </tr>\n",
       "    <tr>\n",
       "      <th>37</th>\n",
       "      <td>1</td>\n",
       "      <td>1022</td>\n",
       "      <td>2000-12-31 22:00:55</td>\n",
       "    </tr>\n",
       "    <tr>\n",
       "      <th>24</th>\n",
       "      <td>2</td>\n",
       "      <td>2340</td>\n",
       "      <td>2000-12-31 22:01:43</td>\n",
       "    </tr>\n",
       "    <tr>\n",
       "      <th>...</th>\n",
       "      <td>...</td>\n",
       "      <td>...</td>\n",
       "      <td>...</td>\n",
       "    </tr>\n",
       "    <tr>\n",
       "      <th>1000019</th>\n",
       "      <td>423404</td>\n",
       "      <td>2917</td>\n",
       "      <td>2001-08-10 14:40:29</td>\n",
       "    </tr>\n",
       "    <tr>\n",
       "      <th>999988</th>\n",
       "      <td>423405</td>\n",
       "      <td>1921</td>\n",
       "      <td>2001-08-10 14:41:04</td>\n",
       "    </tr>\n",
       "    <tr>\n",
       "      <th>1000172</th>\n",
       "      <td>423405</td>\n",
       "      <td>1784</td>\n",
       "      <td>2001-08-10 14:41:04</td>\n",
       "    </tr>\n",
       "    <tr>\n",
       "      <th>1000167</th>\n",
       "      <td>423406</td>\n",
       "      <td>161</td>\n",
       "      <td>2001-08-10 14:41:26</td>\n",
       "    </tr>\n",
       "    <tr>\n",
       "      <th>1000042</th>\n",
       "      <td>423407</td>\n",
       "      <td>1221</td>\n",
       "      <td>2001-08-20 13:44:15</td>\n",
       "    </tr>\n",
       "  </tbody>\n",
       "</table>\n",
       "<p>836478 rows × 3 columns</p>\n",
       "</div>"
      ],
      "text/plain": [
       "         SessionId  ItemId                Time\n",
       "31               0    3186 2000-12-31 22:00:19\n",
       "22               1    1270 2000-12-31 22:00:55\n",
       "27               1    1721 2000-12-31 22:00:55\n",
       "37               1    1022 2000-12-31 22:00:55\n",
       "24               2    2340 2000-12-31 22:01:43\n",
       "...            ...     ...                 ...\n",
       "1000019     423404    2917 2001-08-10 14:40:29\n",
       "999988      423405    1921 2001-08-10 14:41:04\n",
       "1000172     423405    1784 2001-08-10 14:41:04\n",
       "1000167     423406     161 2001-08-10 14:41:26\n",
       "1000042     423407    1221 2001-08-20 13:44:15\n",
       "\n",
       "[836478 rows x 3 columns]"
      ]
     },
     "execution_count": 20,
     "metadata": {},
     "output_type": "execute_result"
    }
   ],
   "source": [
    "# 필요한 컬럼들만 남겨둔다\n",
    "data1 = data1[['SessionId', 'ItemId', 'Time']]\n",
    "data1"
   ]
  },
  {
   "cell_type": "markdown",
   "metadata": {
    "id": "DpwmEWkOn24N"
   },
   "source": [
    "### Data Cleansing\n",
    "\n",
    "short_session을 제거한 다음에 unpopular item을 제거하면 다시 길이가 1인 session이 생길 수 있다. 이를 위해 반복문을 통하여 지속적으로 제거해준다."
   ]
  },
  {
   "cell_type": "code",
   "execution_count": 21,
   "metadata": {
    "id": "TAlf3pbCohqU"
   },
   "outputs": [],
   "source": [
    "def cleanse_recursive(data: pd.DataFrame, shortest, least_click) -> pd.DataFrame:\n",
    "    while True:\n",
    "        before_len = len(data)\n",
    "        data = cleanse_short_session(data, shortest)\n",
    "        data = cleanse_unpopular_item(data, least_click)\n",
    "        after_len = len(data)\n",
    "        if before_len == after_len:\n",
    "            break\n",
    "    return data\n",
    "\n",
    "\n",
    "def cleanse_short_session(data: pd.DataFrame, shortest):\n",
    "    session_len = data.groupby('SessionId').size()\n",
    "    session_use = session_len[session_len >= shortest].index\n",
    "    data = data[data['SessionId'].isin(session_use)]\n",
    "    return data\n",
    "\n",
    "\n",
    "def cleanse_unpopular_item(data: pd.DataFrame, least_click):\n",
    "    item_popular = data.groupby('ItemId').size()\n",
    "    item_use = item_popular[item_popular >= least_click].index\n",
    "    data = data[data['ItemId'].isin(item_use)]\n",
    "    return data"
   ]
  },
  {
   "cell_type": "code",
   "execution_count": 22,
   "id": "thick-dressing",
   "metadata": {},
   "outputs": [],
   "source": [
    "user_length = data.groupby('UserId').size()   # 한 유저ID가 몇 개의 영화에 평점 데이터를 남겼는지"
   ]
  },
  {
   "cell_type": "code",
   "execution_count": 23,
   "id": "british-project",
   "metadata": {},
   "outputs": [
    {
     "data": {
      "image/png": "[encoded data removed]",
      "text/plain": [
       "<Figure size 1440x432 with 1 Axes>"
      ]
     },
     "metadata": {
      "needs_background": "light"
     },
     "output_type": "display_data"
    }
   ],
   "source": [
    "plt.figure(figsize=(20,6))\n",
    "plt.boxplot(user_length, vert=0)\n",
    "plt.show()"
   ]
  },
  {
   "cell_type": "code",
   "execution_count": 24,
   "metadata": {
    "colab": {
     "base_uri": "https://localhost:8080/",
     "height": 419
    },
    "id": "YaJCyMehopXu",
    "outputId": "aa706832-0c9c-4a61-9966-ad512539ce70"
   },
   "outputs": [
    {
     "data": {
      "text/html": [
       "<div>\n",
       "<style scoped>\n",
       "    .dataframe tbody tr th:only-of-type {\n",
       "        vertical-align: middle;\n",
       "    }\n",
       "\n",
       "    .dataframe tbody tr th {\n",
       "        vertical-align: top;\n",
       "    }\n",
       "\n",
       "    .dataframe thead th {\n",
       "        text-align: right;\n",
       "    }\n",
       "</style>\n",
       "<table border=\"1\" class=\"dataframe\">\n",
       "  <thead>\n",
       "    <tr style=\"text-align: right;\">\n",
       "      <th></th>\n",
       "      <th>SessionId</th>\n",
       "      <th>ItemId</th>\n",
       "      <th>Time</th>\n",
       "    </tr>\n",
       "  </thead>\n",
       "  <tbody>\n",
       "    <tr>\n",
       "      <th>22</th>\n",
       "      <td>1</td>\n",
       "      <td>1270</td>\n",
       "      <td>2000-12-31 22:00:55</td>\n",
       "    </tr>\n",
       "    <tr>\n",
       "      <th>27</th>\n",
       "      <td>1</td>\n",
       "      <td>1721</td>\n",
       "      <td>2000-12-31 22:00:55</td>\n",
       "    </tr>\n",
       "    <tr>\n",
       "      <th>37</th>\n",
       "      <td>1</td>\n",
       "      <td>1022</td>\n",
       "      <td>2000-12-31 22:00:55</td>\n",
       "    </tr>\n",
       "    <tr>\n",
       "      <th>7</th>\n",
       "      <td>5</td>\n",
       "      <td>2804</td>\n",
       "      <td>2000-12-31 22:11:59</td>\n",
       "    </tr>\n",
       "    <tr>\n",
       "      <th>47</th>\n",
       "      <td>5</td>\n",
       "      <td>1207</td>\n",
       "      <td>2000-12-31 22:11:59</td>\n",
       "    </tr>\n",
       "    <tr>\n",
       "      <th>...</th>\n",
       "      <td>...</td>\n",
       "      <td>...</td>\n",
       "      <td>...</td>\n",
       "    </tr>\n",
       "    <tr>\n",
       "      <th>1000162</th>\n",
       "      <td>423390</td>\n",
       "      <td>3362</td>\n",
       "      <td>2001-08-10 14:29:56</td>\n",
       "    </tr>\n",
       "    <tr>\n",
       "      <th>999917</th>\n",
       "      <td>423391</td>\n",
       "      <td>3421</td>\n",
       "      <td>2001-08-10 14:31:49</td>\n",
       "    </tr>\n",
       "    <tr>\n",
       "      <th>1000069</th>\n",
       "      <td>423391</td>\n",
       "      <td>1258</td>\n",
       "      <td>2001-08-10 14:31:49</td>\n",
       "    </tr>\n",
       "    <tr>\n",
       "      <th>999988</th>\n",
       "      <td>423405</td>\n",
       "      <td>1921</td>\n",
       "      <td>2001-08-10 14:41:04</td>\n",
       "    </tr>\n",
       "    <tr>\n",
       "      <th>1000172</th>\n",
       "      <td>423405</td>\n",
       "      <td>1784</td>\n",
       "      <td>2001-08-10 14:41:04</td>\n",
       "    </tr>\n",
       "  </tbody>\n",
       "</table>\n",
       "<p>615407 rows × 3 columns</p>\n",
       "</div>"
      ],
      "text/plain": [
       "         SessionId  ItemId                Time\n",
       "22               1    1270 2000-12-31 22:00:55\n",
       "27               1    1721 2000-12-31 22:00:55\n",
       "37               1    1022 2000-12-31 22:00:55\n",
       "7                5    2804 2000-12-31 22:11:59\n",
       "47               5    1207 2000-12-31 22:11:59\n",
       "...            ...     ...                 ...\n",
       "1000162     423390    3362 2001-08-10 14:29:56\n",
       "999917      423391    3421 2001-08-10 14:31:49\n",
       "1000069     423391    1258 2001-08-10 14:31:49\n",
       "999988      423405    1921 2001-08-10 14:41:04\n",
       "1000172     423405    1784 2001-08-10 14:41:04\n",
       "\n",
       "[615407 rows x 3 columns]"
      ]
     },
     "execution_count": 24,
     "metadata": {},
     "output_type": "execute_result"
    }
   ],
   "source": [
    "# 클릭이 10회 미만인 데이터는 삭제해준다\n",
    "data1 = cleanse_recursive(data1, shortest=2, least_click=10)\n",
    "data1"
   ]
  },
  {
   "cell_type": "markdown",
   "metadata": {
    "id": "giSleg8eqazh"
   },
   "source": [
    "### Train/Valid/Test Split\n",
    "\n",
    "추천 시스템은 **지금**을 잘 예측하는 것이 중요하다. 이러한 이유로 SBR에서는 기간에 따라 Train/Valid/Test 셋을 나눈다.\n",
    "\n",
    "- `Test`: 최근 한 달(30일)\n",
    "- `Train`: 세 달 이전의 모든 데이터\n",
    "- `Valid`: `Train`과 `Test` 사이 기간의 데이터 "
   ]
  },
  {
   "cell_type": "code",
   "execution_count": 25,
   "metadata": {
    "colab": {
     "base_uri": "https://localhost:8080/",
     "height": 419
    },
    "id": "0jZslQEUqwnv",
    "outputId": "2803f443-c282-43cc-ff2c-55c44679f05b"
   },
   "outputs": [
    {
     "data": {
      "text/html": [
       "<div>\n",
       "<style scoped>\n",
       "    .dataframe tbody tr th:only-of-type {\n",
       "        vertical-align: middle;\n",
       "    }\n",
       "\n",
       "    .dataframe tbody tr th {\n",
       "        vertical-align: top;\n",
       "    }\n",
       "\n",
       "    .dataframe thead th {\n",
       "        text-align: right;\n",
       "    }\n",
       "</style>\n",
       "<table border=\"1\" class=\"dataframe\">\n",
       "  <thead>\n",
       "    <tr style=\"text-align: right;\">\n",
       "      <th></th>\n",
       "      <th>SessionId</th>\n",
       "      <th>ItemId</th>\n",
       "      <th>Time</th>\n",
       "    </tr>\n",
       "  </thead>\n",
       "  <tbody>\n",
       "    <tr>\n",
       "      <th>53002</th>\n",
       "      <td>23569</td>\n",
       "      <td>145</td>\n",
       "      <td>2003-01-30 23:33:12</td>\n",
       "    </tr>\n",
       "    <tr>\n",
       "      <th>53058</th>\n",
       "      <td>23569</td>\n",
       "      <td>2699</td>\n",
       "      <td>2003-01-30 23:33:12</td>\n",
       "    </tr>\n",
       "    <tr>\n",
       "      <th>52934</th>\n",
       "      <td>23572</td>\n",
       "      <td>788</td>\n",
       "      <td>2003-01-30 23:37:06</td>\n",
       "    </tr>\n",
       "    <tr>\n",
       "      <th>53033</th>\n",
       "      <td>23572</td>\n",
       "      <td>185</td>\n",
       "      <td>2003-01-30 23:37:06</td>\n",
       "    </tr>\n",
       "    <tr>\n",
       "      <th>58660</th>\n",
       "      <td>26218</td>\n",
       "      <td>1503</td>\n",
       "      <td>2003-02-06 21:03:31</td>\n",
       "    </tr>\n",
       "    <tr>\n",
       "      <th>...</th>\n",
       "      <td>...</td>\n",
       "      <td>...</td>\n",
       "      <td>...</td>\n",
       "    </tr>\n",
       "    <tr>\n",
       "      <th>984807</th>\n",
       "      <td>417320</td>\n",
       "      <td>1300</td>\n",
       "      <td>2003-02-27 17:53:18</td>\n",
       "    </tr>\n",
       "    <tr>\n",
       "      <th>984501</th>\n",
       "      <td>417323</td>\n",
       "      <td>924</td>\n",
       "      <td>2003-02-27 17:54:22</td>\n",
       "    </tr>\n",
       "    <tr>\n",
       "      <th>984632</th>\n",
       "      <td>417323</td>\n",
       "      <td>3196</td>\n",
       "      <td>2003-02-27 17:54:22</td>\n",
       "    </tr>\n",
       "    <tr>\n",
       "      <th>984544</th>\n",
       "      <td>417331</td>\n",
       "      <td>3481</td>\n",
       "      <td>2003-02-27 18:04:50</td>\n",
       "    </tr>\n",
       "    <tr>\n",
       "      <th>984847</th>\n",
       "      <td>417331</td>\n",
       "      <td>3328</td>\n",
       "      <td>2003-02-27 18:04:50</td>\n",
       "    </tr>\n",
       "  </tbody>\n",
       "</table>\n",
       "<p>545 rows × 3 columns</p>\n",
       "</div>"
      ],
      "text/plain": [
       "        SessionId  ItemId                Time\n",
       "53002       23569     145 2003-01-30 23:33:12\n",
       "53058       23569    2699 2003-01-30 23:33:12\n",
       "52934       23572     788 2003-01-30 23:37:06\n",
       "53033       23572     185 2003-01-30 23:37:06\n",
       "58660       26218    1503 2003-02-06 21:03:31\n",
       "...           ...     ...                 ...\n",
       "984807     417320    1300 2003-02-27 17:53:18\n",
       "984501     417323     924 2003-02-27 17:54:22\n",
       "984632     417323    3196 2003-02-27 17:54:22\n",
       "984544     417331    3481 2003-02-27 18:04:50\n",
       "984847     417331    3328 2003-02-27 18:04:50\n",
       "\n",
       "[545 rows x 3 columns]"
      ]
     },
     "execution_count": 25,
     "metadata": {},
     "output_type": "execute_result"
    }
   ],
   "source": [
    "# 테스트 데이터는 최근 30일 기록\n",
    "test_begin = latest - dt.timedelta(30) \n",
    "test = data1[data1['Time'] > test_begin]\n",
    "test"
   ]
  },
  {
   "cell_type": "code",
   "execution_count": 26,
   "metadata": {
    "colab": {
     "base_uri": "https://localhost:8080/",
     "height": 419
    },
    "id": "V_31BqbttSXN",
    "outputId": "9739022a-51de-4646-eae0-c9a6732ca960"
   },
   "outputs": [
    {
     "data": {
      "text/html": [
       "<div>\n",
       "<style scoped>\n",
       "    .dataframe tbody tr th:only-of-type {\n",
       "        vertical-align: middle;\n",
       "    }\n",
       "\n",
       "    .dataframe tbody tr th {\n",
       "        vertical-align: top;\n",
       "    }\n",
       "\n",
       "    .dataframe thead th {\n",
       "        text-align: right;\n",
       "    }\n",
       "</style>\n",
       "<table border=\"1\" class=\"dataframe\">\n",
       "  <thead>\n",
       "    <tr style=\"text-align: right;\">\n",
       "      <th></th>\n",
       "      <th>SessionId</th>\n",
       "      <th>ItemId</th>\n",
       "      <th>Time</th>\n",
       "    </tr>\n",
       "  </thead>\n",
       "  <tbody>\n",
       "    <tr>\n",
       "      <th>22</th>\n",
       "      <td>1</td>\n",
       "      <td>1270</td>\n",
       "      <td>2000-12-31 22:00:55</td>\n",
       "    </tr>\n",
       "    <tr>\n",
       "      <th>27</th>\n",
       "      <td>1</td>\n",
       "      <td>1721</td>\n",
       "      <td>2000-12-31 22:00:55</td>\n",
       "    </tr>\n",
       "    <tr>\n",
       "      <th>37</th>\n",
       "      <td>1</td>\n",
       "      <td>1022</td>\n",
       "      <td>2000-12-31 22:00:55</td>\n",
       "    </tr>\n",
       "    <tr>\n",
       "      <th>7</th>\n",
       "      <td>5</td>\n",
       "      <td>2804</td>\n",
       "      <td>2000-12-31 22:11:59</td>\n",
       "    </tr>\n",
       "    <tr>\n",
       "      <th>47</th>\n",
       "      <td>5</td>\n",
       "      <td>1207</td>\n",
       "      <td>2000-12-31 22:11:59</td>\n",
       "    </tr>\n",
       "    <tr>\n",
       "      <th>...</th>\n",
       "      <td>...</td>\n",
       "      <td>...</td>\n",
       "      <td>...</td>\n",
       "    </tr>\n",
       "    <tr>\n",
       "      <th>1000162</th>\n",
       "      <td>423390</td>\n",
       "      <td>3362</td>\n",
       "      <td>2001-08-10 14:29:56</td>\n",
       "    </tr>\n",
       "    <tr>\n",
       "      <th>999917</th>\n",
       "      <td>423391</td>\n",
       "      <td>3421</td>\n",
       "      <td>2001-08-10 14:31:49</td>\n",
       "    </tr>\n",
       "    <tr>\n",
       "      <th>1000069</th>\n",
       "      <td>423391</td>\n",
       "      <td>1258</td>\n",
       "      <td>2001-08-10 14:31:49</td>\n",
       "    </tr>\n",
       "    <tr>\n",
       "      <th>999988</th>\n",
       "      <td>423405</td>\n",
       "      <td>1921</td>\n",
       "      <td>2001-08-10 14:41:04</td>\n",
       "    </tr>\n",
       "    <tr>\n",
       "      <th>1000172</th>\n",
       "      <td>423405</td>\n",
       "      <td>1784</td>\n",
       "      <td>2001-08-10 14:41:04</td>\n",
       "    </tr>\n",
       "  </tbody>\n",
       "</table>\n",
       "<p>613815 rows × 3 columns</p>\n",
       "</div>"
      ],
      "text/plain": [
       "         SessionId  ItemId                Time\n",
       "22               1    1270 2000-12-31 22:00:55\n",
       "27               1    1721 2000-12-31 22:00:55\n",
       "37               1    1022 2000-12-31 22:00:55\n",
       "7                5    2804 2000-12-31 22:11:59\n",
       "47               5    1207 2000-12-31 22:11:59\n",
       "...            ...     ...                 ...\n",
       "1000162     423390    3362 2001-08-10 14:29:56\n",
       "999917      423391    3421 2001-08-10 14:31:49\n",
       "1000069     423391    1258 2001-08-10 14:31:49\n",
       "999988      423405    1921 2001-08-10 14:41:04\n",
       "1000172     423405    1784 2001-08-10 14:41:04\n",
       "\n",
       "[613815 rows x 3 columns]"
      ]
     },
     "execution_count": 26,
     "metadata": {},
     "output_type": "execute_result"
    }
   ],
   "source": [
    "# train은 3달 이전의 모든 데이터\n",
    "train_begin = latest - dt.timedelta(90)\n",
    "train = data1[data1['Time'] < train_begin]\n",
    "train"
   ]
  },
  {
   "cell_type": "code",
   "execution_count": 27,
   "metadata": {
    "colab": {
     "base_uri": "https://localhost:8080/",
     "height": 419
    },
    "id": "-Hp8fASPtgxW",
    "outputId": "d5180b9a-c111-45c7-c7aa-c460378a827a"
   },
   "outputs": [
    {
     "data": {
      "text/html": [
       "<div>\n",
       "<style scoped>\n",
       "    .dataframe tbody tr th:only-of-type {\n",
       "        vertical-align: middle;\n",
       "    }\n",
       "\n",
       "    .dataframe tbody tr th {\n",
       "        vertical-align: top;\n",
       "    }\n",
       "\n",
       "    .dataframe thead th {\n",
       "        text-align: right;\n",
       "    }\n",
       "</style>\n",
       "<table border=\"1\" class=\"dataframe\">\n",
       "  <thead>\n",
       "    <tr style=\"text-align: right;\">\n",
       "      <th></th>\n",
       "      <th>SessionId</th>\n",
       "      <th>ItemId</th>\n",
       "      <th>Time</th>\n",
       "    </tr>\n",
       "  </thead>\n",
       "  <tbody>\n",
       "    <tr>\n",
       "      <th>5200</th>\n",
       "      <td>2542</td>\n",
       "      <td>2269</td>\n",
       "      <td>2002-12-22 08:05:50</td>\n",
       "    </tr>\n",
       "    <tr>\n",
       "      <th>5256</th>\n",
       "      <td>2542</td>\n",
       "      <td>1701</td>\n",
       "      <td>2002-12-22 08:05:50</td>\n",
       "    </tr>\n",
       "    <tr>\n",
       "      <th>5062</th>\n",
       "      <td>2549</td>\n",
       "      <td>1266</td>\n",
       "      <td>2002-12-22 08:18:29</td>\n",
       "    </tr>\n",
       "    <tr>\n",
       "      <th>5076</th>\n",
       "      <td>2549</td>\n",
       "      <td>595</td>\n",
       "      <td>2002-12-22 08:18:29</td>\n",
       "    </tr>\n",
       "    <tr>\n",
       "      <th>5126</th>\n",
       "      <td>2549</td>\n",
       "      <td>1295</td>\n",
       "      <td>2002-12-22 08:18:29</td>\n",
       "    </tr>\n",
       "    <tr>\n",
       "      <th>...</th>\n",
       "      <td>...</td>\n",
       "      <td>...</td>\n",
       "      <td>...</td>\n",
       "    </tr>\n",
       "    <tr>\n",
       "      <th>974738</th>\n",
       "      <td>412982</td>\n",
       "      <td>2005</td>\n",
       "      <td>2003-01-28 20:14:28</td>\n",
       "    </tr>\n",
       "    <tr>\n",
       "      <th>974310</th>\n",
       "      <td>412983</td>\n",
       "      <td>2115</td>\n",
       "      <td>2003-01-28 20:14:44</td>\n",
       "    </tr>\n",
       "    <tr>\n",
       "      <th>974333</th>\n",
       "      <td>412983</td>\n",
       "      <td>2140</td>\n",
       "      <td>2003-01-28 20:14:44</td>\n",
       "    </tr>\n",
       "    <tr>\n",
       "      <th>974210</th>\n",
       "      <td>412987</td>\n",
       "      <td>2413</td>\n",
       "      <td>2003-01-28 20:17:48</td>\n",
       "    </tr>\n",
       "    <tr>\n",
       "      <th>974716</th>\n",
       "      <td>412987</td>\n",
       "      <td>3704</td>\n",
       "      <td>2003-01-28 20:17:48</td>\n",
       "    </tr>\n",
       "  </tbody>\n",
       "</table>\n",
       "<p>1047 rows × 3 columns</p>\n",
       "</div>"
      ],
      "text/plain": [
       "        SessionId  ItemId                Time\n",
       "5200         2542    2269 2002-12-22 08:05:50\n",
       "5256         2542    1701 2002-12-22 08:05:50\n",
       "5062         2549    1266 2002-12-22 08:18:29\n",
       "5076         2549     595 2002-12-22 08:18:29\n",
       "5126         2549    1295 2002-12-22 08:18:29\n",
       "...           ...     ...                 ...\n",
       "974738     412982    2005 2003-01-28 20:14:28\n",
       "974310     412983    2115 2003-01-28 20:14:44\n",
       "974333     412983    2140 2003-01-28 20:14:44\n",
       "974210     412987    2413 2003-01-28 20:17:48\n",
       "974716     412987    3704 2003-01-28 20:17:48\n",
       "\n",
       "[1047 rows x 3 columns]"
      ]
     },
     "execution_count": 27,
     "metadata": {},
     "output_type": "execute_result"
    }
   ],
   "source": [
    "# valid는 train과 test 데이터 사이의 모든 데이터\n",
    "valid_condition = (data1['Time'] > train_begin) & (data1['Time'] < test_begin)\n",
    "valid = data1[valid_condition]\n",
    "valid"
   ]
  },
  {
   "cell_type": "code",
   "execution_count": 28,
   "metadata": {
    "id": "_tPHynmZuq9N"
   },
   "outputs": [],
   "source": [
    "# data에 대한 정보 출력하는 함수\n",
    "def stats_info(data: pd.DataFrame, status: str):\n",
    "    print(f'* {status} Set Stats Info\\n'\n",
    "          f'\\t Events: {len(data)}\\n'\n",
    "          f'\\t Sessions: {data[\"SessionId\"].nunique()}\\n'\n",
    "          f'\\t Items: {data[\"ItemId\"].nunique()}\\n'\n",
    "          f'\\t First Time : {data[\"Time\"].min()}\\n'\n",
    "          f'\\t Last Time : {data[\"Time\"].max()}\\n')"
   ]
  },
  {
   "cell_type": "code",
   "execution_count": 29,
   "metadata": {
    "colab": {
     "base_uri": "https://localhost:8080/"
    },
    "id": "l99alXpGpe3k",
    "outputId": "a2b79b95-3ed4-4bb5-b173-48a0bd4f7fed"
   },
   "outputs": [
    {
     "name": "stdout",
     "output_type": "stream",
     "text": [
      "* train Set Stats Info\n",
      "\t Events: 613815\n",
      "\t Sessions: 204121\n",
      "\t Items: 2933\n",
      "\t First Time : 2000-04-25 23:05:54\n",
      "\t Last Time : 2002-11-29 22:22:53\n",
      "\n",
      "* valid Set Stats Info\n",
      "\t Events: 1047\n",
      "\t Sessions: 396\n",
      "\t Items: 705\n",
      "\t First Time : 2002-12-01 16:08:30\n",
      "\t Last Time : 2003-01-29 00:11:54\n",
      "\n",
      "* test Set Stats Info\n",
      "\t Events: 545\n",
      "\t Sessions: 228\n",
      "\t Items: 458\n",
      "\t First Time : 2003-01-30 15:50:01\n",
      "\t Last Time : 2003-02-28 17:49:08\n",
      "\n"
     ]
    }
   ],
   "source": [
    "stats_info(train, 'train')\n",
    "stats_info(valid, 'valid')\n",
    "stats_info(test, 'test')"
   ]
  },
  {
   "cell_type": "code",
   "execution_count": 30,
   "metadata": {
    "id": "_ZHvIQebqNDi"
   },
   "outputs": [],
   "source": [
    "# train set에 없는 아이템이 val, test기간에 생길 수 있으므로 train data를 기준으로 인덱싱한다\n",
    "id2idx = {item_id : index for index, item_id in enumerate(train['ItemId'].unique())}\n",
    "\n",
    "def indexing(df, id2idx):\n",
    "    df['item_idx'] = df['ItemId'].map(lambda x: id2idx.get(x, -1))  # id2idx에 없는 아이템은 모르는 값(-1) 처리 해준다.\n",
    "    return df"
   ]
  },
  {
   "cell_type": "code",
   "execution_count": 31,
   "metadata": {
    "id": "CKXJc1Cav7hn"
   },
   "outputs": [],
   "source": [
    "train = indexing(train, id2idx)\n",
    "valid = indexing(valid, id2idx)\n",
    "test = indexing(test, id2idx)"
   ]
  },
  {
   "cell_type": "code",
   "execution_count": 32,
   "metadata": {
    "colab": {
     "base_uri": "https://localhost:8080/",
     "height": 419
    },
    "id": "Hvnfvi3EwCWp",
    "outputId": "2377eab2-91d9-41aa-8261-6a4f1b62c53b"
   },
   "outputs": [
    {
     "data": {
      "text/html": [
       "<div>\n",
       "<style scoped>\n",
       "    .dataframe tbody tr th:only-of-type {\n",
       "        vertical-align: middle;\n",
       "    }\n",
       "\n",
       "    .dataframe tbody tr th {\n",
       "        vertical-align: top;\n",
       "    }\n",
       "\n",
       "    .dataframe thead th {\n",
       "        text-align: right;\n",
       "    }\n",
       "</style>\n",
       "<table border=\"1\" class=\"dataframe\">\n",
       "  <thead>\n",
       "    <tr style=\"text-align: right;\">\n",
       "      <th></th>\n",
       "      <th>SessionId</th>\n",
       "      <th>ItemId</th>\n",
       "      <th>Time</th>\n",
       "      <th>item_idx</th>\n",
       "    </tr>\n",
       "  </thead>\n",
       "  <tbody>\n",
       "    <tr>\n",
       "      <th>22</th>\n",
       "      <td>1</td>\n",
       "      <td>1270</td>\n",
       "      <td>2000-12-31 22:00:55</td>\n",
       "      <td>0</td>\n",
       "    </tr>\n",
       "    <tr>\n",
       "      <th>27</th>\n",
       "      <td>1</td>\n",
       "      <td>1721</td>\n",
       "      <td>2000-12-31 22:00:55</td>\n",
       "      <td>1</td>\n",
       "    </tr>\n",
       "    <tr>\n",
       "      <th>37</th>\n",
       "      <td>1</td>\n",
       "      <td>1022</td>\n",
       "      <td>2000-12-31 22:00:55</td>\n",
       "      <td>2</td>\n",
       "    </tr>\n",
       "    <tr>\n",
       "      <th>7</th>\n",
       "      <td>5</td>\n",
       "      <td>2804</td>\n",
       "      <td>2000-12-31 22:11:59</td>\n",
       "      <td>3</td>\n",
       "    </tr>\n",
       "    <tr>\n",
       "      <th>47</th>\n",
       "      <td>5</td>\n",
       "      <td>1207</td>\n",
       "      <td>2000-12-31 22:11:59</td>\n",
       "      <td>4</td>\n",
       "    </tr>\n",
       "    <tr>\n",
       "      <th>...</th>\n",
       "      <td>...</td>\n",
       "      <td>...</td>\n",
       "      <td>...</td>\n",
       "      <td>...</td>\n",
       "    </tr>\n",
       "    <tr>\n",
       "      <th>1000162</th>\n",
       "      <td>423390</td>\n",
       "      <td>3362</td>\n",
       "      <td>2001-08-10 14:29:56</td>\n",
       "      <td>1069</td>\n",
       "    </tr>\n",
       "    <tr>\n",
       "      <th>999917</th>\n",
       "      <td>423391</td>\n",
       "      <td>3421</td>\n",
       "      <td>2001-08-10 14:31:49</td>\n",
       "      <td>132</td>\n",
       "    </tr>\n",
       "    <tr>\n",
       "      <th>1000069</th>\n",
       "      <td>423391</td>\n",
       "      <td>1258</td>\n",
       "      <td>2001-08-10 14:31:49</td>\n",
       "      <td>799</td>\n",
       "    </tr>\n",
       "    <tr>\n",
       "      <th>999988</th>\n",
       "      <td>423405</td>\n",
       "      <td>1921</td>\n",
       "      <td>2001-08-10 14:41:04</td>\n",
       "      <td>433</td>\n",
       "    </tr>\n",
       "    <tr>\n",
       "      <th>1000172</th>\n",
       "      <td>423405</td>\n",
       "      <td>1784</td>\n",
       "      <td>2001-08-10 14:41:04</td>\n",
       "      <td>55</td>\n",
       "    </tr>\n",
       "  </tbody>\n",
       "</table>\n",
       "<p>613815 rows × 4 columns</p>\n",
       "</div>"
      ],
      "text/plain": [
       "         SessionId  ItemId                Time  item_idx\n",
       "22               1    1270 2000-12-31 22:00:55         0\n",
       "27               1    1721 2000-12-31 22:00:55         1\n",
       "37               1    1022 2000-12-31 22:00:55         2\n",
       "7                5    2804 2000-12-31 22:11:59         3\n",
       "47               5    1207 2000-12-31 22:11:59         4\n",
       "...            ...     ...                 ...       ...\n",
       "1000162     423390    3362 2001-08-10 14:29:56      1069\n",
       "999917      423391    3421 2001-08-10 14:31:49       132\n",
       "1000069     423391    1258 2001-08-10 14:31:49       799\n",
       "999988      423405    1921 2001-08-10 14:41:04       433\n",
       "1000172     423405    1784 2001-08-10 14:41:04        55\n",
       "\n",
       "[613815 rows x 4 columns]"
      ]
     },
     "execution_count": 32,
     "metadata": {},
     "output_type": "execute_result"
    }
   ],
   "source": [
    "train"
   ]
  },
  {
   "cell_type": "code",
   "execution_count": 33,
   "metadata": {
    "colab": {
     "base_uri": "https://localhost:8080/",
     "height": 419
    },
    "id": "mWViy_jrwDX4",
    "outputId": "dac03c94-2912-4404-e6fc-4607da3d6742"
   },
   "outputs": [
    {
     "data": {
      "text/html": [
       "<div>\n",
       "<style scoped>\n",
       "    .dataframe tbody tr th:only-of-type {\n",
       "        vertical-align: middle;\n",
       "    }\n",
       "\n",
       "    .dataframe tbody tr th {\n",
       "        vertical-align: top;\n",
       "    }\n",
       "\n",
       "    .dataframe thead th {\n",
       "        text-align: right;\n",
       "    }\n",
       "</style>\n",
       "<table border=\"1\" class=\"dataframe\">\n",
       "  <thead>\n",
       "    <tr style=\"text-align: right;\">\n",
       "      <th></th>\n",
       "      <th>SessionId</th>\n",
       "      <th>ItemId</th>\n",
       "      <th>Time</th>\n",
       "      <th>item_idx</th>\n",
       "    </tr>\n",
       "  </thead>\n",
       "  <tbody>\n",
       "    <tr>\n",
       "      <th>5200</th>\n",
       "      <td>2542</td>\n",
       "      <td>2269</td>\n",
       "      <td>2002-12-22 08:05:50</td>\n",
       "      <td>2536</td>\n",
       "    </tr>\n",
       "    <tr>\n",
       "      <th>5256</th>\n",
       "      <td>2542</td>\n",
       "      <td>1701</td>\n",
       "      <td>2002-12-22 08:05:50</td>\n",
       "      <td>1504</td>\n",
       "    </tr>\n",
       "    <tr>\n",
       "      <th>5062</th>\n",
       "      <td>2549</td>\n",
       "      <td>1266</td>\n",
       "      <td>2002-12-22 08:18:29</td>\n",
       "      <td>1015</td>\n",
       "    </tr>\n",
       "    <tr>\n",
       "      <th>5076</th>\n",
       "      <td>2549</td>\n",
       "      <td>595</td>\n",
       "      <td>2002-12-22 08:18:29</td>\n",
       "      <td>21</td>\n",
       "    </tr>\n",
       "    <tr>\n",
       "      <th>5126</th>\n",
       "      <td>2549</td>\n",
       "      <td>1295</td>\n",
       "      <td>2002-12-22 08:18:29</td>\n",
       "      <td>1483</td>\n",
       "    </tr>\n",
       "    <tr>\n",
       "      <th>...</th>\n",
       "      <td>...</td>\n",
       "      <td>...</td>\n",
       "      <td>...</td>\n",
       "      <td>...</td>\n",
       "    </tr>\n",
       "    <tr>\n",
       "      <th>974738</th>\n",
       "      <td>412982</td>\n",
       "      <td>2005</td>\n",
       "      <td>2003-01-28 20:14:28</td>\n",
       "      <td>476</td>\n",
       "    </tr>\n",
       "    <tr>\n",
       "      <th>974310</th>\n",
       "      <td>412983</td>\n",
       "      <td>2115</td>\n",
       "      <td>2003-01-28 20:14:44</td>\n",
       "      <td>129</td>\n",
       "    </tr>\n",
       "    <tr>\n",
       "      <th>974333</th>\n",
       "      <td>412983</td>\n",
       "      <td>2140</td>\n",
       "      <td>2003-01-28 20:14:44</td>\n",
       "      <td>518</td>\n",
       "    </tr>\n",
       "    <tr>\n",
       "      <th>974210</th>\n",
       "      <td>412987</td>\n",
       "      <td>2413</td>\n",
       "      <td>2003-01-28 20:17:48</td>\n",
       "      <td>837</td>\n",
       "    </tr>\n",
       "    <tr>\n",
       "      <th>974716</th>\n",
       "      <td>412987</td>\n",
       "      <td>3704</td>\n",
       "      <td>2003-01-28 20:17:48</td>\n",
       "      <td>710</td>\n",
       "    </tr>\n",
       "  </tbody>\n",
       "</table>\n",
       "<p>1047 rows × 4 columns</p>\n",
       "</div>"
      ],
      "text/plain": [
       "        SessionId  ItemId                Time  item_idx\n",
       "5200         2542    2269 2002-12-22 08:05:50      2536\n",
       "5256         2542    1701 2002-12-22 08:05:50      1504\n",
       "5062         2549    1266 2002-12-22 08:18:29      1015\n",
       "5076         2549     595 2002-12-22 08:18:29        21\n",
       "5126         2549    1295 2002-12-22 08:18:29      1483\n",
       "...           ...     ...                 ...       ...\n",
       "974738     412982    2005 2003-01-28 20:14:28       476\n",
       "974310     412983    2115 2003-01-28 20:14:44       129\n",
       "974333     412983    2140 2003-01-28 20:14:44       518\n",
       "974210     412987    2413 2003-01-28 20:17:48       837\n",
       "974716     412987    3704 2003-01-28 20:17:48       710\n",
       "\n",
       "[1047 rows x 4 columns]"
      ]
     },
     "execution_count": 33,
     "metadata": {},
     "output_type": "execute_result"
    }
   ],
   "source": [
    "valid"
   ]
  },
  {
   "cell_type": "code",
   "execution_count": 34,
   "metadata": {
    "colab": {
     "base_uri": "https://localhost:8080/",
     "height": 419
    },
    "id": "KnzhVgQ_wE5p",
    "outputId": "b7b3eb17-d083-4bf1-8a46-07c1b168192d"
   },
   "outputs": [
    {
     "data": {
      "text/html": [
       "<div>\n",
       "<style scoped>\n",
       "    .dataframe tbody tr th:only-of-type {\n",
       "        vertical-align: middle;\n",
       "    }\n",
       "\n",
       "    .dataframe tbody tr th {\n",
       "        vertical-align: top;\n",
       "    }\n",
       "\n",
       "    .dataframe thead th {\n",
       "        text-align: right;\n",
       "    }\n",
       "</style>\n",
       "<table border=\"1\" class=\"dataframe\">\n",
       "  <thead>\n",
       "    <tr style=\"text-align: right;\">\n",
       "      <th></th>\n",
       "      <th>SessionId</th>\n",
       "      <th>ItemId</th>\n",
       "      <th>Time</th>\n",
       "      <th>item_idx</th>\n",
       "    </tr>\n",
       "  </thead>\n",
       "  <tbody>\n",
       "    <tr>\n",
       "      <th>53002</th>\n",
       "      <td>23569</td>\n",
       "      <td>145</td>\n",
       "      <td>2003-01-30 23:33:12</td>\n",
       "      <td>1773</td>\n",
       "    </tr>\n",
       "    <tr>\n",
       "      <th>53058</th>\n",
       "      <td>23569</td>\n",
       "      <td>2699</td>\n",
       "      <td>2003-01-30 23:33:12</td>\n",
       "      <td>301</td>\n",
       "    </tr>\n",
       "    <tr>\n",
       "      <th>52934</th>\n",
       "      <td>23572</td>\n",
       "      <td>788</td>\n",
       "      <td>2003-01-30 23:37:06</td>\n",
       "      <td>1438</td>\n",
       "    </tr>\n",
       "    <tr>\n",
       "      <th>53033</th>\n",
       "      <td>23572</td>\n",
       "      <td>185</td>\n",
       "      <td>2003-01-30 23:37:06</td>\n",
       "      <td>1262</td>\n",
       "    </tr>\n",
       "    <tr>\n",
       "      <th>58660</th>\n",
       "      <td>26218</td>\n",
       "      <td>1503</td>\n",
       "      <td>2003-02-06 21:03:31</td>\n",
       "      <td>2597</td>\n",
       "    </tr>\n",
       "    <tr>\n",
       "      <th>...</th>\n",
       "      <td>...</td>\n",
       "      <td>...</td>\n",
       "      <td>...</td>\n",
       "      <td>...</td>\n",
       "    </tr>\n",
       "    <tr>\n",
       "      <th>984807</th>\n",
       "      <td>417320</td>\n",
       "      <td>1300</td>\n",
       "      <td>2003-02-27 17:53:18</td>\n",
       "      <td>1101</td>\n",
       "    </tr>\n",
       "    <tr>\n",
       "      <th>984501</th>\n",
       "      <td>417323</td>\n",
       "      <td>924</td>\n",
       "      <td>2003-02-27 17:54:22</td>\n",
       "      <td>687</td>\n",
       "    </tr>\n",
       "    <tr>\n",
       "      <th>984632</th>\n",
       "      <td>417323</td>\n",
       "      <td>3196</td>\n",
       "      <td>2003-02-27 17:54:22</td>\n",
       "      <td>1216</td>\n",
       "    </tr>\n",
       "    <tr>\n",
       "      <th>984544</th>\n",
       "      <td>417331</td>\n",
       "      <td>3481</td>\n",
       "      <td>2003-02-27 18:04:50</td>\n",
       "      <td>296</td>\n",
       "    </tr>\n",
       "    <tr>\n",
       "      <th>984847</th>\n",
       "      <td>417331</td>\n",
       "      <td>3328</td>\n",
       "      <td>2003-02-27 18:04:50</td>\n",
       "      <td>1545</td>\n",
       "    </tr>\n",
       "  </tbody>\n",
       "</table>\n",
       "<p>545 rows × 4 columns</p>\n",
       "</div>"
      ],
      "text/plain": [
       "        SessionId  ItemId                Time  item_idx\n",
       "53002       23569     145 2003-01-30 23:33:12      1773\n",
       "53058       23569    2699 2003-01-30 23:33:12       301\n",
       "52934       23572     788 2003-01-30 23:37:06      1438\n",
       "53033       23572     185 2003-01-30 23:37:06      1262\n",
       "58660       26218    1503 2003-02-06 21:03:31      2597\n",
       "...           ...     ...                 ...       ...\n",
       "984807     417320    1300 2003-02-27 17:53:18      1101\n",
       "984501     417323     924 2003-02-27 17:54:22       687\n",
       "984632     417323    3196 2003-02-27 17:54:22      1216\n",
       "984544     417331    3481 2003-02-27 18:04:50       296\n",
       "984847     417331    3328 2003-02-27 18:04:50      1545\n",
       "\n",
       "[545 rows x 4 columns]"
      ]
     },
     "execution_count": 34,
     "metadata": {},
     "output_type": "execute_result"
    }
   ],
   "source": [
    "test"
   ]
  },
  {
   "cell_type": "markdown",
   "metadata": {
    "id": "01iMDnV9wFT4"
   },
   "source": [
    "### 데이터 저장"
   ]
  },
  {
   "cell_type": "code",
   "execution_count": 35,
   "metadata": {
    "id": "wGkzOe3XwQSk"
   },
   "outputs": [],
   "source": [
    "save_path = data_path / 'processed'\n",
    "save_path.mkdir(parents=True, exist_ok=True)\n",
    "\n",
    "train.to_pickle(save_path / 'train.pkl')\n",
    "valid.to_pickle(save_path / 'valid.pkl')\n",
    "test.to_pickle(save_path / 'test.pkl')"
   ]
  },
  {
   "cell_type": "markdown",
   "metadata": {
    "id": "j-YUb0UlFy87"
   },
   "source": [
    "## 미니 배치의 구성"
   ]
  },
  {
   "cell_type": "markdown",
   "metadata": {
    "id": "Fyo4QzyAwwMg"
   },
   "source": [
    "### SessionDataset\n",
    "\n",
    "데이터가 주어지면 세션이 시작되는 인덱스를 담는 값과 새로 인뎅싱한 값을 갖는 클래스를 만든다."
   ]
  },
  {
   "cell_type": "code",
   "execution_count": 36,
   "metadata": {
    "id": "OeLkHmDPwzTf"
   },
   "outputs": [],
   "source": [
    "class SessionDataset:\n",
    "    \"\"\"Credit to yhs-968/pyGRU4REC.\"\"\"\n",
    "\n",
    "    def __init__(self, data):\n",
    "        self.df = data\n",
    "        self.click_offsets = self.get_click_offsets() # 각 세션이 시작된 인덱스\n",
    "        self.session_idx = np.arange(self.df['SessionId'].nunique())  # 각 세션을 인덱싱한 np.array\n",
    "\n",
    "    def get_click_offsets(self):\n",
    "        \"\"\"\n",
    "        Return the indexes of the first click of each session IDs,\n",
    "        \"\"\"\n",
    "        offsets = np.zeros(self.df['SessionId'].nunique() + 1, dtype=np.int32)\n",
    "        offsets[1:] = self.df.groupby('SessionId').size().cumsum()\n",
    "        return offsets"
   ]
  },
  {
   "cell_type": "code",
   "execution_count": 37,
   "metadata": {
    "colab": {
     "base_uri": "https://localhost:8080/",
     "height": 359
    },
    "id": "iA27wHMvxEBk",
    "outputId": "9a0a16bd-b419-4feb-b041-e4f8de20828a"
   },
   "outputs": [
    {
     "data": {
      "text/html": [
       "<div>\n",
       "<style scoped>\n",
       "    .dataframe tbody tr th:only-of-type {\n",
       "        vertical-align: middle;\n",
       "    }\n",
       "\n",
       "    .dataframe tbody tr th {\n",
       "        vertical-align: top;\n",
       "    }\n",
       "\n",
       "    .dataframe thead th {\n",
       "        text-align: right;\n",
       "    }\n",
       "</style>\n",
       "<table border=\"1\" class=\"dataframe\">\n",
       "  <thead>\n",
       "    <tr style=\"text-align: right;\">\n",
       "      <th></th>\n",
       "      <th>SessionId</th>\n",
       "      <th>ItemId</th>\n",
       "      <th>Time</th>\n",
       "      <th>item_idx</th>\n",
       "    </tr>\n",
       "  </thead>\n",
       "  <tbody>\n",
       "    <tr>\n",
       "      <th>22</th>\n",
       "      <td>1</td>\n",
       "      <td>1270</td>\n",
       "      <td>2000-12-31 22:00:55</td>\n",
       "      <td>0</td>\n",
       "    </tr>\n",
       "    <tr>\n",
       "      <th>27</th>\n",
       "      <td>1</td>\n",
       "      <td>1721</td>\n",
       "      <td>2000-12-31 22:00:55</td>\n",
       "      <td>1</td>\n",
       "    </tr>\n",
       "    <tr>\n",
       "      <th>37</th>\n",
       "      <td>1</td>\n",
       "      <td>1022</td>\n",
       "      <td>2000-12-31 22:00:55</td>\n",
       "      <td>2</td>\n",
       "    </tr>\n",
       "    <tr>\n",
       "      <th>7</th>\n",
       "      <td>5</td>\n",
       "      <td>2804</td>\n",
       "      <td>2000-12-31 22:11:59</td>\n",
       "      <td>3</td>\n",
       "    </tr>\n",
       "    <tr>\n",
       "      <th>47</th>\n",
       "      <td>5</td>\n",
       "      <td>1207</td>\n",
       "      <td>2000-12-31 22:11:59</td>\n",
       "      <td>4</td>\n",
       "    </tr>\n",
       "    <tr>\n",
       "      <th>0</th>\n",
       "      <td>6</td>\n",
       "      <td>1193</td>\n",
       "      <td>2000-12-31 22:12:40</td>\n",
       "      <td>5</td>\n",
       "    </tr>\n",
       "    <tr>\n",
       "      <th>21</th>\n",
       "      <td>6</td>\n",
       "      <td>720</td>\n",
       "      <td>2000-12-31 22:12:40</td>\n",
       "      <td>6</td>\n",
       "    </tr>\n",
       "    <tr>\n",
       "      <th>44</th>\n",
       "      <td>6</td>\n",
       "      <td>260</td>\n",
       "      <td>2000-12-31 22:12:40</td>\n",
       "      <td>7</td>\n",
       "    </tr>\n",
       "    <tr>\n",
       "      <th>14</th>\n",
       "      <td>14</td>\n",
       "      <td>1035</td>\n",
       "      <td>2000-12-31 22:29:13</td>\n",
       "      <td>8</td>\n",
       "    </tr>\n",
       "    <tr>\n",
       "      <th>42</th>\n",
       "      <td>14</td>\n",
       "      <td>1962</td>\n",
       "      <td>2000-12-31 22:29:13</td>\n",
       "      <td>9</td>\n",
       "    </tr>\n",
       "  </tbody>\n",
       "</table>\n",
       "</div>"
      ],
      "text/plain": [
       "    SessionId  ItemId                Time  item_idx\n",
       "22          1    1270 2000-12-31 22:00:55         0\n",
       "27          1    1721 2000-12-31 22:00:55         1\n",
       "37          1    1022 2000-12-31 22:00:55         2\n",
       "7           5    2804 2000-12-31 22:11:59         3\n",
       "47          5    1207 2000-12-31 22:11:59         4\n",
       "0           6    1193 2000-12-31 22:12:40         5\n",
       "21          6     720 2000-12-31 22:12:40         6\n",
       "44          6     260 2000-12-31 22:12:40         7\n",
       "14         14    1035 2000-12-31 22:29:13         8\n",
       "42         14    1962 2000-12-31 22:29:13         9"
      ]
     },
     "execution_count": 37,
     "metadata": {},
     "output_type": "execute_result"
    }
   ],
   "source": [
    "# train 데이터로 SessionDataset 객체를 만들고 인스턴스 변수들을 살펴본다\n",
    "tr_dataset = SessionDataset(train)\n",
    "tr_dataset.df.head(10)"
   ]
  },
  {
   "cell_type": "code",
   "execution_count": 38,
   "metadata": {
    "colab": {
     "base_uri": "https://localhost:8080/"
    },
    "id": "hMJOM4FVyEMU",
    "outputId": "f9ee9fa0-e228-42f9-d3c4-03cf98e8b9ef"
   },
   "outputs": [
    {
     "data": {
      "text/plain": [
       "array([     0,      3,      5, ..., 613811, 613813, 613815])"
      ]
     },
     "execution_count": 38,
     "metadata": {},
     "output_type": "execute_result"
    }
   ],
   "source": [
    "# 각 세션이 시작된 인덱스\n",
    "tr_dataset.click_offsets"
   ]
  },
  {
   "cell_type": "code",
   "execution_count": 39,
   "metadata": {
    "colab": {
     "base_uri": "https://localhost:8080/"
    },
    "id": "NTLAEk_nyRUY",
    "outputId": "7bf3e96f-1151-483c-8211-9370e114fb61"
   },
   "outputs": [
    {
     "data": {
      "text/plain": [
       "array([     0,      1,      2, ..., 204118, 204119, 204120])"
      ]
     },
     "execution_count": 39,
     "metadata": {},
     "output_type": "execute_result"
    }
   ],
   "source": [
    "# 각 세션을 인덱싱한 np.array\n",
    "tr_dataset.session_idx"
   ]
  },
  {
   "cell_type": "markdown",
   "metadata": {
    "id": "fQi_dTBEyczL"
   },
   "source": [
    "### SessionDataLoader\n",
    "\n",
    "`SessionDataset` 객체를 받아서 Session-Parallel mini-batch를 만드는 클래스"
   ]
  },
  {
   "cell_type": "code",
   "execution_count": 40,
   "metadata": {
    "id": "9-hP36P8ysjZ"
   },
   "outputs": [],
   "source": [
    "class SessionDataLoader:\n",
    "    \"\"\"Credit to yhs-968/pyGRU4REC.\"\"\"\n",
    "\n",
    "    def __init__(self, dataset: SessionDataset, batch_size=50):\n",
    "        self.dataset = dataset\n",
    "        self.batch_size = batch_size\n",
    "\n",
    "    def __iter__(self):\n",
    "        \"\"\" Returns the iterator for producing session-parallel training mini-batches.\n",
    "        Yields:\n",
    "            input (B,):  Item indices that will be encoded as one-hot vectors later.\n",
    "            target (B,): a Variable that stores the target item indices\n",
    "            masks: Numpy array indicating the positions of the sessions to be terminated\n",
    "        \"\"\"\n",
    "\n",
    "        start, end, mask, last_session, finished = self.initialize()  # initialize 메소드에서 확인해주세요.\n",
    "        \"\"\"\n",
    "        start : Index Where Session Start\n",
    "        end : Index Where Session End\n",
    "        mask : indicator for the sessions to be terminated\n",
    "        \"\"\"\n",
    "\n",
    "        while not finished:\n",
    "            min_len = (end - start).min() - 1  # Shortest Length Among Sessions\n",
    "            for i in range(min_len):\n",
    "                # Build inputs & targets\n",
    "                inp = self.dataset.df['item_idx'].values[start + i]\n",
    "                target = self.dataset.df['item_idx'].values[start + i + 1]\n",
    "                yield inp, target, mask\n",
    "\n",
    "            start, end, mask, last_session, finished = self.update_status(start, end, min_len, last_session, finished)\n",
    "\n",
    "    def initialize(self):\n",
    "        first_iters = np.arange(self.batch_size)    # 첫 배치에 사용할 세션 Index를 가져옵니다.\n",
    "        last_session = self.batch_size - 1    # 마지막으로 다루고 있는 세션 Index를 저장해둡니다.\n",
    "        start = self.dataset.click_offsets[self.dataset.session_idx[first_iters]]       # data 상에서 session이 시작된 위치를 가져옵니다.\n",
    "        end = self.dataset.click_offsets[self.dataset.session_idx[first_iters] + 1]  # session이 끝난 위치 바로 다음 위치를 가져옵니다.\n",
    "        mask = np.array([])   # session의 모든 아이템을 다 돌은 경우 mask에 추가해줄 것입니다.\n",
    "        finished = False         # data를 전부 돌았는지 기록하기 위한 변수입니다.\n",
    "        return start, end, mask, last_session, finished\n",
    "\n",
    "    def update_status(self, start: np.ndarray, end: np.ndarray, min_len: int, last_session: int, finished: bool):  \n",
    "        # 다음 배치 데이터를 생성하기 위해 상태를 update합니다.\n",
    "        \n",
    "        start += min_len   # __iter__에서 min_len 만큼 for문을 돌았으므로 start를 min_len 만큼 더해줍니다.\n",
    "        mask = np.arange(self.batch_size)[(end - start) == 1]  \n",
    "        # end는 다음 세션이 시작되는 위치인데 start와 한 칸 차이난다는 것은 session이 끝났다는 뜻입니다. mask에 기록해줍니다.\n",
    "\n",
    "        for i, idx in enumerate(mask, start=1):  # mask에 추가된 세션 개수만큼 새로운 세션을 돌것입니다.\n",
    "            new_session = last_session + i  \n",
    "            if new_session > self.dataset.session_idx[-1]:  # 만약 새로운 세션이 마지막 세션 index보다 크다면 모든 학습데이터를 돈 것입니다.\n",
    "                finished = True\n",
    "                break\n",
    "            # update the next starting/ending point\n",
    "            start[idx] = self.dataset.click_offsets[self.dataset.session_idx[new_session]]     # 종료된 세션 대신 새로운 세션의 시작점을 기록합니다.\n",
    "            end[idx] = self.dataset.click_offsets[self.dataset.session_idx[new_session] + 1]\n",
    "\n",
    "        last_session += len(mask)  # 마지막 세션의 위치를 기록해둡니다.\n",
    "        return start, end, mask, last_session, finished"
   ]
  },
  {
   "cell_type": "code",
   "execution_count": 41,
   "metadata": {
    "colab": {
     "base_uri": "https://localhost:8080/",
     "height": 514
    },
    "id": "FeeLmvlEywsJ",
    "outputId": "37bf7ea4-f169-4cd4-c425-539bdfdc2bf0"
   },
   "outputs": [
    {
     "data": {
      "text/html": [
       "<div>\n",
       "<style scoped>\n",
       "    .dataframe tbody tr th:only-of-type {\n",
       "        vertical-align: middle;\n",
       "    }\n",
       "\n",
       "    .dataframe tbody tr th {\n",
       "        vertical-align: top;\n",
       "    }\n",
       "\n",
       "    .dataframe thead th {\n",
       "        text-align: right;\n",
       "    }\n",
       "</style>\n",
       "<table border=\"1\" class=\"dataframe\">\n",
       "  <thead>\n",
       "    <tr style=\"text-align: right;\">\n",
       "      <th></th>\n",
       "      <th>SessionId</th>\n",
       "      <th>ItemId</th>\n",
       "      <th>Time</th>\n",
       "      <th>item_idx</th>\n",
       "    </tr>\n",
       "  </thead>\n",
       "  <tbody>\n",
       "    <tr>\n",
       "      <th>22</th>\n",
       "      <td>1</td>\n",
       "      <td>1270</td>\n",
       "      <td>2000-12-31 22:00:55</td>\n",
       "      <td>0</td>\n",
       "    </tr>\n",
       "    <tr>\n",
       "      <th>27</th>\n",
       "      <td>1</td>\n",
       "      <td>1721</td>\n",
       "      <td>2000-12-31 22:00:55</td>\n",
       "      <td>1</td>\n",
       "    </tr>\n",
       "    <tr>\n",
       "      <th>37</th>\n",
       "      <td>1</td>\n",
       "      <td>1022</td>\n",
       "      <td>2000-12-31 22:00:55</td>\n",
       "      <td>2</td>\n",
       "    </tr>\n",
       "    <tr>\n",
       "      <th>7</th>\n",
       "      <td>5</td>\n",
       "      <td>2804</td>\n",
       "      <td>2000-12-31 22:11:59</td>\n",
       "      <td>3</td>\n",
       "    </tr>\n",
       "    <tr>\n",
       "      <th>47</th>\n",
       "      <td>5</td>\n",
       "      <td>1207</td>\n",
       "      <td>2000-12-31 22:11:59</td>\n",
       "      <td>4</td>\n",
       "    </tr>\n",
       "    <tr>\n",
       "      <th>0</th>\n",
       "      <td>6</td>\n",
       "      <td>1193</td>\n",
       "      <td>2000-12-31 22:12:40</td>\n",
       "      <td>5</td>\n",
       "    </tr>\n",
       "    <tr>\n",
       "      <th>21</th>\n",
       "      <td>6</td>\n",
       "      <td>720</td>\n",
       "      <td>2000-12-31 22:12:40</td>\n",
       "      <td>6</td>\n",
       "    </tr>\n",
       "    <tr>\n",
       "      <th>44</th>\n",
       "      <td>6</td>\n",
       "      <td>260</td>\n",
       "      <td>2000-12-31 22:12:40</td>\n",
       "      <td>7</td>\n",
       "    </tr>\n",
       "    <tr>\n",
       "      <th>14</th>\n",
       "      <td>14</td>\n",
       "      <td>1035</td>\n",
       "      <td>2000-12-31 22:29:13</td>\n",
       "      <td>8</td>\n",
       "    </tr>\n",
       "    <tr>\n",
       "      <th>42</th>\n",
       "      <td>14</td>\n",
       "      <td>1962</td>\n",
       "      <td>2000-12-31 22:29:13</td>\n",
       "      <td>9</td>\n",
       "    </tr>\n",
       "    <tr>\n",
       "      <th>17</th>\n",
       "      <td>15</td>\n",
       "      <td>2018</td>\n",
       "      <td>2000-12-31 22:29:37</td>\n",
       "      <td>10</td>\n",
       "    </tr>\n",
       "    <tr>\n",
       "      <th>39</th>\n",
       "      <td>15</td>\n",
       "      <td>150</td>\n",
       "      <td>2000-12-31 22:29:37</td>\n",
       "      <td>11</td>\n",
       "    </tr>\n",
       "    <tr>\n",
       "      <th>45</th>\n",
       "      <td>15</td>\n",
       "      <td>1028</td>\n",
       "      <td>2000-12-31 22:29:37</td>\n",
       "      <td>12</td>\n",
       "    </tr>\n",
       "    <tr>\n",
       "      <th>6</th>\n",
       "      <td>18</td>\n",
       "      <td>1287</td>\n",
       "      <td>2000-12-31 22:33:59</td>\n",
       "      <td>13</td>\n",
       "    </tr>\n",
       "    <tr>\n",
       "      <th>19</th>\n",
       "      <td>18</td>\n",
       "      <td>2797</td>\n",
       "      <td>2000-12-31 22:33:59</td>\n",
       "      <td>14</td>\n",
       "    </tr>\n",
       "  </tbody>\n",
       "</table>\n",
       "</div>"
      ],
      "text/plain": [
       "    SessionId  ItemId                Time  item_idx\n",
       "22          1    1270 2000-12-31 22:00:55         0\n",
       "27          1    1721 2000-12-31 22:00:55         1\n",
       "37          1    1022 2000-12-31 22:00:55         2\n",
       "7           5    2804 2000-12-31 22:11:59         3\n",
       "47          5    1207 2000-12-31 22:11:59         4\n",
       "0           6    1193 2000-12-31 22:12:40         5\n",
       "21          6     720 2000-12-31 22:12:40         6\n",
       "44          6     260 2000-12-31 22:12:40         7\n",
       "14         14    1035 2000-12-31 22:29:13         8\n",
       "42         14    1962 2000-12-31 22:29:13         9\n",
       "17         15    2018 2000-12-31 22:29:37        10\n",
       "39         15     150 2000-12-31 22:29:37        11\n",
       "45         15    1028 2000-12-31 22:29:37        12\n",
       "6          18    1287 2000-12-31 22:33:59        13\n",
       "19         18    2797 2000-12-31 22:33:59        14"
      ]
     },
     "execution_count": 41,
     "metadata": {},
     "output_type": "execute_result"
    }
   ],
   "source": [
    "tr_data_loader = SessionDataLoader(tr_dataset, batch_size=4)\n",
    "tr_dataset.df.head(15)"
   ]
  },
  {
   "cell_type": "code",
   "execution_count": 42,
   "metadata": {
    "id": "YumjH6NzzJwl"
   },
   "outputs": [],
   "source": [
    "iter_ex = iter(tr_data_loader)"
   ]
  },
  {
   "cell_type": "code",
   "execution_count": 43,
   "metadata": {
    "colab": {
     "base_uri": "https://localhost:8080/"
    },
    "id": "6OqYWvUQzMSB",
    "outputId": "582b1ed0-2359-4786-e3e4-ddea4d7fb368"
   },
   "outputs": [
    {
     "name": "stdout",
     "output_type": "stream",
     "text": [
      "Model Input Item Idx are : [0 3 5 8]\n",
      "Label Item Idx are :       [1 4 6 9]\n",
      "Previous Masked Input Idx are []\n"
     ]
    }
   ],
   "source": [
    "inputs, labels, mask =  next(iter_ex)\n",
    "print(f'Model Input Item Idx are : {inputs}')\n",
    "print(f'Label Item Idx are : {\"\":5} {labels}')\n",
    "print(f'Previous Masked Input Idx are {mask}')"
   ]
  },
  {
   "cell_type": "markdown",
   "metadata": {
    "id": "5U423SDtF0cu"
   },
   "source": [
    "## 모델 구성"
   ]
  },
  {
   "cell_type": "markdown",
   "metadata": {
    "id": "ngW1vRFbzX2f"
   },
   "source": [
    "### Evaluation Metric\n",
    "\n",
    "**Session-Based Recommendation Task**에서느 모델이 k개의 아이템을 제시했을 때, 유저가 클릭 / 구매한 n개의 아이템이 많아야 좋다. \n",
    "\n",
    "또한 추천에서는 몇 번째로 맞추느냐도 중요하다.\n",
    "\n",
    "- `recall@k` : `recall@20` 20개의 영화를 추천 받았을 때 몇 개의 영화를 선호하는지 정도\n",
    "- `MRR` : `MRR@20` 선호하는 영화의 랭킹이 있을 때 처음 추천 받은 영화가 얼마난 높은 랭킹을 갖는지 판단\n",
    "\n",
    "\n",
    "- [MRR vs MAP vs NDCG: Rank-Aware Evaluation Metrics And When To Use Them](https://medium.com/swlh/rank-aware-recsys-evaluation-metrics-5191bba16832)"
   ]
  },
  {
   "cell_type": "code",
   "execution_count": 44,
   "metadata": {
    "id": "C_F5BXYqzslo"
   },
   "outputs": [],
   "source": [
    "# MRR\n",
    "def mrr_k(pred, truth: int, k: int):\n",
    "    indexing = np.where(pred[:k] == truth)[0]\n",
    "    if len(indexing) > 0:\n",
    "        return 1 / (indexing[0] + 1)\n",
    "    else:\n",
    "        return 0\n",
    "\n",
    "# recall@k\n",
    "def recall_k(pred, truth: int, k: int) -> int:\n",
    "    answer = truth in pred[:k]\n",
    "    return int(answer)"
   ]
  },
  {
   "cell_type": "markdown",
   "metadata": {
    "id": "kBq52PSqztcN"
   },
   "source": [
    "### Model Architecture"
   ]
  },
  {
   "cell_type": "code",
   "execution_count": 45,
   "metadata": {
    "id": "C4a2QSs8zwho"
   },
   "outputs": [],
   "source": [
    "import numpy as np\n",
    "import tensorflow as tf\n",
    "from tensorflow.keras.layers import Input, Dense, Dropout, GRU\n",
    "from tensorflow.keras.losses import categorical_crossentropy\n",
    "from tensorflow.keras.models import Model\n",
    "from tensorflow.keras.optimizers import Adam\n",
    "from tensorflow.keras.utils import to_categorical\n",
    "from tqdm import tqdm"
   ]
  },
  {
   "cell_type": "code",
   "execution_count": 46,
   "metadata": {
    "id": "SmKOfm4-zyLQ"
   },
   "outputs": [],
   "source": [
    "def create_model(args):\n",
    "    inputs = Input(batch_shape=(args.batch_size, 1, args.num_items))\n",
    "    gru, _ = GRU(args.hsz, stateful=True, return_state=True, name='GRU')(inputs)\n",
    "    dropout = Dropout(args.drop_rate)(gru)\n",
    "    predictions = Dense(args.num_items, activation='softmax')(dropout)\n",
    "    model = Model(inputs=inputs, outputs=[predictions])\n",
    "    model.compile(loss=categorical_crossentropy, optimizer=Adam(args.lr), metrics=['accuracy'])\n",
    "    model.summary()\n",
    "    \n",
    "    return model"
   ]
  },
  {
   "cell_type": "code",
   "execution_count": 47,
   "metadata": {
    "id": "1Al08E86z0wE"
   },
   "outputs": [],
   "source": [
    "# 모델에 사용할 hyper-parameter를 class형식으로 관리\n",
    "class Args:\n",
    "    def __init__(self, tr, val, test, batch_size, hsz, drop_rate, lr, epochs, k):\n",
    "        self.tr = tr\n",
    "        self.val = val\n",
    "        self.test = test\n",
    "        self.num_items = tr['ItemId'].nunique()\n",
    "        self.num_sessions = tr['SessionId'].nunique()\n",
    "        self.batch_size = batch_size\n",
    "        self.hsz = hsz\n",
    "        self.drop_rate = drop_rate\n",
    "        self.lr = lr\n",
    "        self.epochs = epochs\n",
    "        self.k = k"
   ]
  },
  {
   "cell_type": "code",
   "execution_count": 48,
   "metadata": {
    "id": "h_vRnRAzz5xd"
   },
   "outputs": [],
   "source": [
    "args = Args(train, valid, test, batch_size=32, hsz=32, drop_rate=0.1, lr=0.001, epochs=10, k=20)"
   ]
  },
  {
   "cell_type": "code",
   "execution_count": 49,
   "metadata": {
    "colab": {
     "base_uri": "https://localhost:8080/"
    },
    "id": "gW5eFeA20Cum",
    "outputId": "60264dc9-cc5b-4b0a-c6c3-1401c1929305"
   },
   "outputs": [
    {
     "name": "stdout",
     "output_type": "stream",
     "text": [
      "Model: \"model\"\n",
      "_________________________________________________________________\n",
      " Layer (type)                Output Shape              Param #   \n",
      "=================================================================\n",
      " input_1 (InputLayer)        [(32, 1, 2933)]           0         \n",
      "                                                                 \n",
      " GRU (GRU)                   [(32, 32),                284832    \n",
      "                              (32, 32)]                          \n",
      "                                                                 \n",
      " dropout (Dropout)           (32, 32)                  0         \n",
      "                                                                 \n",
      " dense (Dense)               (32, 2933)                96789     \n",
      "                                                                 \n",
      "=================================================================\n",
      "Total params: 381,621\n",
      "Trainable params: 381,621\n",
      "Non-trainable params: 0\n",
      "_________________________________________________________________\n"
     ]
    }
   ],
   "source": [
    "model = create_model(args)"
   ]
  },
  {
   "cell_type": "markdown",
   "metadata": {
    "id": "XMJ8GBxkF1rF"
   },
   "source": [
    "## 모델 학습"
   ]
  },
  {
   "cell_type": "code",
   "execution_count": 50,
   "metadata": {
    "id": "h68lm6re0KA1"
   },
   "outputs": [],
   "source": [
    "# train 셋으로 학습하면서 valid 셋으로 검증합니다.\n",
    "def train_model(model, args):\n",
    "    train_dataset = SessionDataset(args.tr)\n",
    "    train_loader = SessionDataLoader(train_dataset, batch_size=args.batch_size)\n",
    "\n",
    "    for epoch in range(1, args.epochs + 1):\n",
    "        total_step = len(args.tr) - args.tr['SessionId'].nunique()\n",
    "        tr_loader = tqdm(train_loader, total=total_step // args.batch_size, desc='Train', mininterval=1)\n",
    "        for feat, target, mask in tr_loader:\n",
    "            reset_hidden_states(model, mask)  # 종료된 session은 hidden_state를 초기화합니다. 아래 메서드에서 확인해주세요.\n",
    "\n",
    "            input_ohe = to_categorical(feat, num_classes=args.num_items)\n",
    "            input_ohe = np.expand_dims(input_ohe, axis=1)\n",
    "            target_ohe = to_categorical(target, num_classes=args.num_items)\n",
    "\n",
    "            result = model.train_on_batch(input_ohe, target_ohe)\n",
    "            tr_loader.set_postfix(train_loss=result[0], accuracy = result[1])\n",
    "\n",
    "        val_recall, val_mrr = get_metrics(args.val, model, args, args.k)  # valid set에 대해 검증합니다.\n",
    "\n",
    "        print(f\"\\t - Recall@{args.k} epoch {epoch}: {val_recall:3f}\")\n",
    "        print(f\"\\t - MRR@{args.k}    epoch {epoch}: {val_mrr:3f}\\n\")\n",
    "\n",
    "\n",
    "def reset_hidden_states(model, mask):\n",
    "    gru_layer = model.get_layer(name='GRU')  # model에서 gru layer를 가져옵니다.\n",
    "    hidden_states = gru_layer.states[0].numpy()  # gru_layer의 parameter를 가져옵니다.\n",
    "    for elt in mask:  # mask된 인덱스 즉, 종료된 세션의 인덱스를 돌면서\n",
    "        hidden_states[elt, :] = 0  # parameter를 초기화 합니다.\n",
    "    gru_layer.reset_states(states=hidden_states)\n",
    "\n",
    "\n",
    "def get_metrics(data, model, args, k: int):  # valid셋과 test셋을 평가하는 코드입니다. \n",
    "                                             # train과 거의 같지만 mrr, recall을 구하는 라인이 있습니다.\n",
    "    dataset = SessionDataset(data)\n",
    "    loader = SessionDataLoader(dataset, batch_size=args.batch_size)\n",
    "    recall_list, mrr_list = [], []\n",
    "\n",
    "    total_step = len(data) - data['SessionId'].nunique()\n",
    "    for inputs, label, mask in tqdm(loader, total=total_step // args.batch_size, desc='Evaluation', mininterval=1):\n",
    "        reset_hidden_states(model, mask)\n",
    "        input_ohe = to_categorical(inputs, num_classes=args.num_items)\n",
    "        input_ohe = np.expand_dims(input_ohe, axis=1)\n",
    "\n",
    "        pred = model.predict(input_ohe, batch_size=args.batch_size)\n",
    "        pred_arg = tf.argsort(pred, direction='DESCENDING')  # softmax 값이 큰 순서대로 sorting 합니다.\n",
    "\n",
    "        length = len(inputs)\n",
    "        recall_list.extend([recall_k(pred_arg[i], label[i], k) for i in range(length)])\n",
    "        mrr_list.extend([mrr_k(pred_arg[i], label[i], k) for i in range(length)])\n",
    "\n",
    "    recall, mrr = np.mean(recall_list), np.mean(mrr_list)\n",
    "    return recall, mrr"
   ]
  },
  {
   "cell_type": "code",
   "execution_count": 51,
   "metadata": {
    "colab": {
     "base_uri": "https://localhost:8080/"
    },
    "id": "anA8ewgJ0KdC",
    "outputId": "724aeb08-7ab5-45dc-ec40-194ffcf880d1"
   },
   "outputs": [
    {
     "name": "stderr",
     "output_type": "stream",
     "text": [
      "Train: 100%|████████████████████████████████████████| 12802/12802 [03:02<00:00, 70.12it/s, accuracy=0, train_loss=6.64]\n",
      "Evaluation:  95%|██████████████████████████████████████████████████████████████████▌   | 19/20 [00:02<00:00,  6.50it/s]\n"
     ]
    },
    {
     "name": "stdout",
     "output_type": "stream",
     "text": [
      "\t - Recall@20 epoch 1: 0.189145\n",
      "\t - MRR@20    epoch 1: 0.055741\n",
      "\n"
     ]
    },
    {
     "name": "stderr",
     "output_type": "stream",
     "text": [
      "Train: 100%|███████████████████████████████████| 12802/12802 [03:01<00:00, 70.71it/s, accuracy=0.0625, train_loss=6.39]\n",
      "Evaluation:  95%|██████████████████████████████████████████████████████████████████▌   | 19/20 [00:02<00:00,  7.26it/s]\n"
     ]
    },
    {
     "name": "stdout",
     "output_type": "stream",
     "text": [
      "\t - Recall@20 epoch 2: 0.268092\n",
      "\t - MRR@20    epoch 2: 0.093017\n",
      "\n"
     ]
    },
    {
     "name": "stderr",
     "output_type": "stream",
     "text": [
      "Train: 100%|███████████████████████████████████| 12802/12802 [03:04<00:00, 69.40it/s, accuracy=0.0625, train_loss=6.26]\n",
      "Evaluation:  95%|██████████████████████████████████████████████████████████████████▌   | 19/20 [00:02<00:00,  7.29it/s]\n"
     ]
    },
    {
     "name": "stdout",
     "output_type": "stream",
     "text": [
      "\t - Recall@20 epoch 3: 0.274671\n",
      "\t - MRR@20    epoch 3: 0.104228\n",
      "\n"
     ]
    },
    {
     "name": "stderr",
     "output_type": "stream",
     "text": [
      "Train: 100%|████████████████████████████████████████| 12802/12802 [03:04<00:00, 69.52it/s, accuracy=0, train_loss=6.32]\n",
      "Evaluation:  95%|██████████████████████████████████████████████████████████████████▌   | 19/20 [00:02<00:00,  7.07it/s]\n"
     ]
    },
    {
     "name": "stdout",
     "output_type": "stream",
     "text": [
      "\t - Recall@20 epoch 4: 0.284539\n",
      "\t - MRR@20    epoch 4: 0.104756\n",
      "\n"
     ]
    },
    {
     "name": "stderr",
     "output_type": "stream",
     "text": [
      "Train: 100%|███████████████████████████████████| 12802/12802 [02:56<00:00, 72.62it/s, accuracy=0.0312, train_loss=6.27]\n",
      "Evaluation:  95%|██████████████████████████████████████████████████████████████████▌   | 19/20 [00:02<00:00,  7.35it/s]\n"
     ]
    },
    {
     "name": "stdout",
     "output_type": "stream",
     "text": [
      "\t - Recall@20 epoch 5: 0.292763\n",
      "\t - MRR@20    epoch 5: 0.108013\n",
      "\n"
     ]
    },
    {
     "name": "stderr",
     "output_type": "stream",
     "text": [
      "Train: 100%|███████████████████████████████████| 12802/12802 [03:15<00:00, 65.37it/s, accuracy=0.0312, train_loss=6.12]\n",
      "Evaluation:  95%|██████████████████████████████████████████████████████████████████▌   | 19/20 [00:02<00:00,  7.19it/s]\n"
     ]
    },
    {
     "name": "stdout",
     "output_type": "stream",
     "text": [
      "\t - Recall@20 epoch 6: 0.291118\n",
      "\t - MRR@20    epoch 6: 0.106818\n",
      "\n"
     ]
    },
    {
     "name": "stderr",
     "output_type": "stream",
     "text": [
      "Train: 100%|███████████████████████████████████| 12802/12802 [03:18<00:00, 64.34it/s, accuracy=0.0625, train_loss=6.12]\n",
      "Evaluation:  95%|██████████████████████████████████████████████████████████████████▌   | 19/20 [00:02<00:00,  7.30it/s]\n"
     ]
    },
    {
     "name": "stdout",
     "output_type": "stream",
     "text": [
      "\t - Recall@20 epoch 7: 0.284539\n",
      "\t - MRR@20    epoch 7: 0.107925\n",
      "\n"
     ]
    },
    {
     "name": "stderr",
     "output_type": "stream",
     "text": [
      "Train: 100%|███████████████████████████████████| 12802/12802 [03:09<00:00, 67.66it/s, accuracy=0.0938, train_loss=6.18]\n",
      "Evaluation:  95%|██████████████████████████████████████████████████████████████████▌   | 19/20 [00:02<00:00,  7.34it/s]\n"
     ]
    },
    {
     "name": "stdout",
     "output_type": "stream",
     "text": [
      "\t - Recall@20 epoch 8: 0.291118\n",
      "\t - MRR@20    epoch 8: 0.102984\n",
      "\n"
     ]
    },
    {
     "name": "stderr",
     "output_type": "stream",
     "text": [
      "Train: 100%|███████████████████████████████████| 12802/12802 [03:13<00:00, 66.01it/s, accuracy=0.0312, train_loss=6.13]\n",
      "Evaluation:  95%|██████████████████████████████████████████████████████████████████▌   | 19/20 [00:02<00:00,  7.31it/s]\n"
     ]
    },
    {
     "name": "stdout",
     "output_type": "stream",
     "text": [
      "\t - Recall@20 epoch 9: 0.294408\n",
      "\t - MRR@20    epoch 9: 0.105184\n",
      "\n"
     ]
    },
    {
     "name": "stderr",
     "output_type": "stream",
     "text": [
      "Train: 100%|███████████████████████████████████| 12802/12802 [03:15<00:00, 65.53it/s, accuracy=0.0625, train_loss=6.04]\n",
      "Evaluation:  95%|██████████████████████████████████████████████████████████████████▌   | 19/20 [00:02<00:00,  7.46it/s]"
     ]
    },
    {
     "name": "stdout",
     "output_type": "stream",
     "text": [
      "\t - Recall@20 epoch 10: 0.294408\n",
      "\t - MRR@20    epoch 10: 0.107401\n",
      "\n"
     ]
    },
    {
     "name": "stderr",
     "output_type": "stream",
     "text": [
      "\n"
     ]
    }
   ],
   "source": [
    "train_model(model, args)"
   ]
  },
  {
   "cell_type": "markdown",
   "metadata": {
    "id": "kZPmLaUU8qZm"
   },
   "source": [
    "### 모델 테스트"
   ]
  },
  {
   "cell_type": "code",
   "execution_count": 52,
   "metadata": {
    "colab": {
     "base_uri": "https://localhost:8080/"
    },
    "id": "vtgScEgE8ssY",
    "outputId": "027c34ee-5aa2-4888-a702-4d2313dda206"
   },
   "outputs": [
    {
     "name": "stderr",
     "output_type": "stream",
     "text": [
      "Evaluation: 100%|████████████████████████████████████████████████████████████████████████| 9/9 [00:01<00:00,  7.04it/s]"
     ]
    },
    {
     "name": "stdout",
     "output_type": "stream",
     "text": [
      "\n",
      "\t - Recall@20: 0.218750\n",
      "\t - MRR@20: 0.078912\n",
      "\n"
     ]
    },
    {
     "name": "stderr",
     "output_type": "stream",
     "text": [
      "\n"
     ]
    }
   ],
   "source": [
    "def test_model(model, args, test):\n",
    "    test_recall, test_mrr = get_metrics(test, model, args, 20)\n",
    "    print()\n",
    "    print(f\"\\t - Recall@{args.k}: {test_recall:3f}\")\n",
    "    print(f\"\\t - MRR@{args.k}: {test_mrr:3f}\\n\")\n",
    "\n",
    "test_model(model, args, test)"
   ]
  },
  {
   "cell_type": "markdown",
   "metadata": {
    "id": "rXGUbhgq00iB"
   },
   "source": [
    "# 테스트 1: hsz 변경\n",
    "\n",
    "- `hsz`를 32 -> 64 변경해준다"
   ]
  },
  {
   "cell_type": "code",
   "execution_count": 53,
   "metadata": {
    "id": "wdrZECGxIOD_"
   },
   "outputs": [],
   "source": [
    "# hsz : 32->64\n",
    "args = Args(train, valid, test, batch_size=32, hsz=64, drop_rate=0.1, lr=0.001, epochs=10, k=20)"
   ]
  },
  {
   "cell_type": "code",
   "execution_count": 54,
   "metadata": {
    "colab": {
     "base_uri": "https://localhost:8080/"
    },
    "id": "mak1cBqLJQKz",
    "outputId": "99e7a694-47c8-43d8-93c3-07338c02946a"
   },
   "outputs": [
    {
     "name": "stdout",
     "output_type": "stream",
     "text": [
      "Model: \"model_1\"\n",
      "_________________________________________________________________\n",
      " Layer (type)                Output Shape              Param #   \n",
      "=================================================================\n",
      " input_2 (InputLayer)        [(32, 1, 2933)]           0         \n",
      "                                                                 \n",
      " GRU (GRU)                   [(32, 64),                575808    \n",
      "                              (32, 64)]                          \n",
      "                                                                 \n",
      " dropout_1 (Dropout)         (32, 64)                  0         \n",
      "                                                                 \n",
      " dense_1 (Dense)             (32, 2933)                190645    \n",
      "                                                                 \n",
      "=================================================================\n",
      "Total params: 766,453\n",
      "Trainable params: 766,453\n",
      "Non-trainable params: 0\n",
      "_________________________________________________________________\n"
     ]
    }
   ],
   "source": [
    "model = create_model(args)"
   ]
  },
  {
   "cell_type": "code",
   "execution_count": 55,
   "metadata": {
    "colab": {
     "base_uri": "https://localhost:8080/"
    },
    "id": "nJ-APoD3JTTt",
    "outputId": "b4accde9-2454-4f3d-e473-e8cfa2cd2a46"
   },
   "outputs": [
    {
     "name": "stderr",
     "output_type": "stream",
     "text": [
      "Train: 100%|███████████████████████████████████| 12802/12802 [02:47<00:00, 76.52it/s, accuracy=0.0625, train_loss=6.53]\n",
      "Evaluation:  95%|██████████████████████████████████████████████████████████████████▌   | 19/20 [00:02<00:00,  6.84it/s]\n"
     ]
    },
    {
     "name": "stdout",
     "output_type": "stream",
     "text": [
      "\t - Recall@20 epoch 1: 0.220395\n",
      "\t - MRR@20    epoch 1: 0.081062\n",
      "\n"
     ]
    },
    {
     "name": "stderr",
     "output_type": "stream",
     "text": [
      "Train: 100%|███████████████████████████████████| 12802/12802 [03:15<00:00, 65.62it/s, accuracy=0.0938, train_loss=6.35]\n",
      "Evaluation:  95%|██████████████████████████████████████████████████████████████████▌   | 19/20 [00:02<00:00,  7.18it/s]\n"
     ]
    },
    {
     "name": "stdout",
     "output_type": "stream",
     "text": [
      "\t - Recall@20 epoch 2: 0.269737\n",
      "\t - MRR@20    epoch 2: 0.101111\n",
      "\n"
     ]
    },
    {
     "name": "stderr",
     "output_type": "stream",
     "text": [
      "Train: 100%|███████████████████████████████████| 12802/12802 [03:25<00:00, 62.44it/s, accuracy=0.0312, train_loss=6.25]\n",
      "Evaluation:  95%|██████████████████████████████████████████████████████████████████▌   | 19/20 [00:02<00:00,  7.24it/s]\n"
     ]
    },
    {
     "name": "stdout",
     "output_type": "stream",
     "text": [
      "\t - Recall@20 epoch 3: 0.276316\n",
      "\t - MRR@20    epoch 3: 0.104667\n",
      "\n"
     ]
    },
    {
     "name": "stderr",
     "output_type": "stream",
     "text": [
      "Train: 100%|███████████████████████████████████| 12802/12802 [03:06<00:00, 68.79it/s, accuracy=0.0625, train_loss=6.19]\n",
      "Evaluation:  95%|██████████████████████████████████████████████████████████████████▌   | 19/20 [00:02<00:00,  6.84it/s]\n"
     ]
    },
    {
     "name": "stdout",
     "output_type": "stream",
     "text": [
      "\t - Recall@20 epoch 4: 0.282895\n",
      "\t - MRR@20    epoch 4: 0.106610\n",
      "\n"
     ]
    },
    {
     "name": "stderr",
     "output_type": "stream",
     "text": [
      "Train: 100%|███████████████████████████████████| 12802/12802 [03:41<00:00, 57.89it/s, accuracy=0.0312, train_loss=6.18]\n",
      "Evaluation:  95%|██████████████████████████████████████████████████████████████████▌   | 19/20 [00:02<00:00,  7.04it/s]\n"
     ]
    },
    {
     "name": "stdout",
     "output_type": "stream",
     "text": [
      "\t - Recall@20 epoch 5: 0.287829\n",
      "\t - MRR@20    epoch 5: 0.103754\n",
      "\n"
     ]
    },
    {
     "name": "stderr",
     "output_type": "stream",
     "text": [
      "Train: 100%|███████████████████████████████████| 12802/12802 [02:48<00:00, 76.15it/s, accuracy=0.0625, train_loss=6.01]\n",
      "Evaluation:  95%|██████████████████████████████████████████████████████████████████▌   | 19/20 [00:02<00:00,  7.32it/s]\n"
     ]
    },
    {
     "name": "stdout",
     "output_type": "stream",
     "text": [
      "\t - Recall@20 epoch 6: 0.294408\n",
      "\t - MRR@20    epoch 6: 0.104978\n",
      "\n"
     ]
    },
    {
     "name": "stderr",
     "output_type": "stream",
     "text": [
      "Train: 100%|███████████████████████████████████| 12802/12802 [03:45<00:00, 56.78it/s, accuracy=0.0625, train_loss=6.13]\n",
      "Evaluation:  95%|██████████████████████████████████████████████████████████████████▌   | 19/20 [00:02<00:00,  6.62it/s]\n"
     ]
    },
    {
     "name": "stdout",
     "output_type": "stream",
     "text": [
      "\t - Recall@20 epoch 7: 0.292763\n",
      "\t - MRR@20    epoch 7: 0.103804\n",
      "\n"
     ]
    },
    {
     "name": "stderr",
     "output_type": "stream",
     "text": [
      "Train: 100%|███████████████████████████████████| 12802/12802 [03:30<00:00, 60.92it/s, accuracy=0.0312, train_loss=5.91]\n",
      "Evaluation:  95%|██████████████████████████████████████████████████████████████████▌   | 19/20 [00:03<00:00,  6.02it/s]\n"
     ]
    },
    {
     "name": "stdout",
     "output_type": "stream",
     "text": [
      "\t - Recall@20 epoch 8: 0.291118\n",
      "\t - MRR@20    epoch 8: 0.102533\n",
      "\n"
     ]
    },
    {
     "name": "stderr",
     "output_type": "stream",
     "text": [
      "Train: 100%|████████████████████████████████████| 12802/12802 [03:43<00:00, 57.31it/s, accuracy=0.0312, train_loss=5.9]\n",
      "Evaluation:  95%|██████████████████████████████████████████████████████████████████▌   | 19/20 [00:02<00:00,  6.85it/s]\n"
     ]
    },
    {
     "name": "stdout",
     "output_type": "stream",
     "text": [
      "\t - Recall@20 epoch 9: 0.292763\n",
      "\t - MRR@20    epoch 9: 0.101724\n",
      "\n"
     ]
    },
    {
     "name": "stderr",
     "output_type": "stream",
     "text": [
      "Train: 100%|███████████████████████████████████| 12802/12802 [03:50<00:00, 55.51it/s, accuracy=0.0625, train_loss=5.81]\n",
      "Evaluation:  95%|██████████████████████████████████████████████████████████████████▌   | 19/20 [00:03<00:00,  5.85it/s]"
     ]
    },
    {
     "name": "stdout",
     "output_type": "stream",
     "text": [
      "\t - Recall@20 epoch 10: 0.284539\n",
      "\t - MRR@20    epoch 10: 0.101006\n",
      "\n"
     ]
    },
    {
     "name": "stderr",
     "output_type": "stream",
     "text": [
      "\n"
     ]
    }
   ],
   "source": [
    "train_model(model, args)"
   ]
  },
  {
   "cell_type": "code",
   "execution_count": 56,
   "metadata": {
    "colab": {
     "base_uri": "https://localhost:8080/"
    },
    "id": "K6pTesG8JWNX",
    "outputId": "eb0d3fdb-5065-4e2d-b979-b564e715f2a2"
   },
   "outputs": [
    {
     "name": "stderr",
     "output_type": "stream",
     "text": [
      "Evaluation: 100%|████████████████████████████████████████████████████████████████████████| 9/9 [00:01<00:00,  5.85it/s]"
     ]
    },
    {
     "name": "stdout",
     "output_type": "stream",
     "text": [
      "\n",
      "\t - Recall@20: 0.239583\n",
      "\t - MRR@20: 0.085245\n",
      "\n"
     ]
    },
    {
     "name": "stderr",
     "output_type": "stream",
     "text": [
      "\n"
     ]
    }
   ],
   "source": [
    "test_model(model, args, test)"
   ]
  },
  {
   "cell_type": "markdown",
   "metadata": {
    "id": "WAshvuvuJYBs"
   },
   "source": [
    "- `hsz`를 변경하였을 때는 별로 성능차이가 안나는 것을 볼 수 있다."
   ]
  },
  {
   "cell_type": "markdown",
   "metadata": {
    "id": "2wF-PU7QPY9X"
   },
   "source": [
    "# 테스트 2: drop_rate 변경\n",
    "\n",
    "- `drop_rate` 0.1 -> 0.5"
   ]
  },
  {
   "cell_type": "code",
   "execution_count": 57,
   "metadata": {
    "id": "2YKLS7dkPckM"
   },
   "outputs": [],
   "source": [
    "args = Args(train, valid, test, batch_size=32, hsz=64, drop_rate=0.5, lr=0.001, epochs=10, k=20)"
   ]
  },
  {
   "cell_type": "code",
   "execution_count": 58,
   "metadata": {
    "colab": {
     "base_uri": "https://localhost:8080/"
    },
    "id": "7KTIzR9LPkmO",
    "outputId": "9d322c57-c6ce-4be7-fc19-483a0982bb1f"
   },
   "outputs": [
    {
     "name": "stdout",
     "output_type": "stream",
     "text": [
      "Model: \"model_2\"\n",
      "_________________________________________________________________\n",
      " Layer (type)                Output Shape              Param #   \n",
      "=================================================================\n",
      " input_3 (InputLayer)        [(32, 1, 2933)]           0         \n",
      "                                                                 \n",
      " GRU (GRU)                   [(32, 64),                575808    \n",
      "                              (32, 64)]                          \n",
      "                                                                 \n",
      " dropout_2 (Dropout)         (32, 64)                  0         \n",
      "                                                                 \n",
      " dense_2 (Dense)             (32, 2933)                190645    \n",
      "                                                                 \n",
      "=================================================================\n",
      "Total params: 766,453\n",
      "Trainable params: 766,453\n",
      "Non-trainable params: 0\n",
      "_________________________________________________________________\n"
     ]
    }
   ],
   "source": [
    "model = create_model(args)"
   ]
  },
  {
   "cell_type": "code",
   "execution_count": 59,
   "metadata": {
    "colab": {
     "base_uri": "https://localhost:8080/"
    },
    "id": "06_KEMt4PmJe",
    "outputId": "99b94626-9483-4e2b-ba8a-502c429c54cd"
   },
   "outputs": [
    {
     "name": "stderr",
     "output_type": "stream",
     "text": [
      "Train: 100%|████████████████████████████████████████| 12802/12802 [03:47<00:00, 56.21it/s, accuracy=0, train_loss=6.73]\n",
      "Evaluation:  95%|██████████████████████████████████████████████████████████████████▌   | 19/20 [00:03<00:00,  6.01it/s]\n"
     ]
    },
    {
     "name": "stdout",
     "output_type": "stream",
     "text": [
      "\t - Recall@20 epoch 1: 0.203947\n",
      "\t - MRR@20    epoch 1: 0.077332\n",
      "\n"
     ]
    },
    {
     "name": "stderr",
     "output_type": "stream",
     "text": [
      "Train: 100%|███████████████████████████████████| 12802/12802 [02:44<00:00, 77.80it/s, accuracy=0.0625, train_loss=6.53]\n",
      "Evaluation:  95%|██████████████████████████████████████████████████████████████████▌   | 19/20 [00:02<00:00,  7.26it/s]\n"
     ]
    },
    {
     "name": "stdout",
     "output_type": "stream",
     "text": [
      "\t - Recall@20 epoch 2: 0.253289\n",
      "\t - MRR@20    epoch 2: 0.102164\n",
      "\n"
     ]
    },
    {
     "name": "stderr",
     "output_type": "stream",
     "text": [
      "Train: 100%|████████████████████████████████████| 12802/12802 [02:58<00:00, 71.63it/s, accuracy=0.0312, train_loss=6.6]\n",
      "Evaluation:  95%|██████████████████████████████████████████████████████████████████▌   | 19/20 [00:03<00:00,  6.27it/s]\n"
     ]
    },
    {
     "name": "stdout",
     "output_type": "stream",
     "text": [
      "\t - Recall@20 epoch 3: 0.273026\n",
      "\t - MRR@20    epoch 3: 0.107069\n",
      "\n"
     ]
    },
    {
     "name": "stderr",
     "output_type": "stream",
     "text": [
      "Train: 100%|███████████████████████████████████| 12802/12802 [03:41<00:00, 57.90it/s, accuracy=0.0312, train_loss=6.48]\n",
      "Evaluation:  95%|██████████████████████████████████████████████████████████████████▌   | 19/20 [00:02<00:00,  6.83it/s]\n"
     ]
    },
    {
     "name": "stdout",
     "output_type": "stream",
     "text": [
      "\t - Recall@20 epoch 4: 0.282895\n",
      "\t - MRR@20    epoch 4: 0.107816\n",
      "\n"
     ]
    },
    {
     "name": "stderr",
     "output_type": "stream",
     "text": [
      "Train: 100%|███████████████████████████████████| 12802/12802 [02:40<00:00, 79.59it/s, accuracy=0.0312, train_loss=6.28]\n",
      "Evaluation:  95%|██████████████████████████████████████████████████████████████████▌   | 19/20 [00:02<00:00,  7.51it/s]\n"
     ]
    },
    {
     "name": "stdout",
     "output_type": "stream",
     "text": [
      "\t - Recall@20 epoch 5: 0.281250\n",
      "\t - MRR@20    epoch 5: 0.108849\n",
      "\n"
     ]
    },
    {
     "name": "stderr",
     "output_type": "stream",
     "text": [
      "Train: 100%|███████████████████████████████████| 12802/12802 [02:32<00:00, 83.87it/s, accuracy=0.0625, train_loss=6.37]\n",
      "Evaluation:  95%|██████████████████████████████████████████████████████████████████▌   | 19/20 [00:02<00:00,  6.90it/s]\n"
     ]
    },
    {
     "name": "stdout",
     "output_type": "stream",
     "text": [
      "\t - Recall@20 epoch 6: 0.291118\n",
      "\t - MRR@20    epoch 6: 0.110401\n",
      "\n"
     ]
    },
    {
     "name": "stderr",
     "output_type": "stream",
     "text": [
      "Train: 100%|████████████████████████████████████| 12802/12802 [02:31<00:00, 84.26it/s, accuracy=0.0625, train_loss=6.4]\n",
      "Evaluation:  95%|██████████████████████████████████████████████████████████████████▌   | 19/20 [00:02<00:00,  7.41it/s]\n"
     ]
    },
    {
     "name": "stdout",
     "output_type": "stream",
     "text": [
      "\t - Recall@20 epoch 7: 0.286184\n",
      "\t - MRR@20    epoch 7: 0.109948\n",
      "\n"
     ]
    },
    {
     "name": "stderr",
     "output_type": "stream",
     "text": [
      "Train: 100%|███████████████████████████████████| 12802/12802 [02:35<00:00, 82.38it/s, accuracy=0.0625, train_loss=6.12]\n",
      "Evaluation:  95%|██████████████████████████████████████████████████████████████████▌   | 19/20 [00:02<00:00,  6.90it/s]\n"
     ]
    },
    {
     "name": "stdout",
     "output_type": "stream",
     "text": [
      "\t - Recall@20 epoch 8: 0.286184\n",
      "\t - MRR@20    epoch 8: 0.109302\n",
      "\n"
     ]
    },
    {
     "name": "stderr",
     "output_type": "stream",
     "text": [
      "Train: 100%|███████████████████████████████████| 12802/12802 [02:43<00:00, 78.21it/s, accuracy=0.0938, train_loss=6.46]\n",
      "Evaluation:  95%|██████████████████████████████████████████████████████████████████▌   | 19/20 [00:02<00:00,  7.20it/s]\n"
     ]
    },
    {
     "name": "stdout",
     "output_type": "stream",
     "text": [
      "\t - Recall@20 epoch 9: 0.286184\n",
      "\t - MRR@20    epoch 9: 0.109743\n",
      "\n"
     ]
    },
    {
     "name": "stderr",
     "output_type": "stream",
     "text": [
      "Train: 100%|███████████████████████████████████| 12802/12802 [02:30<00:00, 84.83it/s, accuracy=0.0625, train_loss=6.32]\n",
      "Evaluation:  95%|██████████████████████████████████████████████████████████████████▌   | 19/20 [00:02<00:00,  7.32it/s]"
     ]
    },
    {
     "name": "stdout",
     "output_type": "stream",
     "text": [
      "\t - Recall@20 epoch 10: 0.291118\n",
      "\t - MRR@20    epoch 10: 0.109137\n",
      "\n"
     ]
    },
    {
     "name": "stderr",
     "output_type": "stream",
     "text": [
      "\n"
     ]
    }
   ],
   "source": [
    "train_model(model, args)"
   ]
  },
  {
   "cell_type": "code",
   "execution_count": 60,
   "metadata": {
    "colab": {
     "base_uri": "https://localhost:8080/"
    },
    "id": "rj8PPZdtSCU9",
    "outputId": "db49da54-6290-4c49-c6e8-5e93eeb97324"
   },
   "outputs": [
    {
     "name": "stderr",
     "output_type": "stream",
     "text": [
      "Evaluation: 100%|████████████████████████████████████████████████████████████████████████| 9/9 [00:01<00:00,  6.14it/s]"
     ]
    },
    {
     "name": "stdout",
     "output_type": "stream",
     "text": [
      "\n",
      "\t - Recall@20: 0.225694\n",
      "\t - MRR@20: 0.078697\n",
      "\n"
     ]
    },
    {
     "name": "stderr",
     "output_type": "stream",
     "text": [
      "\n"
     ]
    }
   ],
   "source": [
    "test_model(model, args, test)"
   ]
  },
  {
   "cell_type": "markdown",
   "metadata": {
    "id": "5qUBxA1lt55_"
   },
   "source": [
    "- drop_rate를 변경하였더니 `Recall@20`이 약간 감소하였다."
   ]
  },
  {
   "cell_type": "markdown",
   "metadata": {
    "id": "6nzGuRTNPsTN"
   },
   "source": [
    "# 테스트 3: learning rate 변경\n",
    "\n",
    "- `lr=0.001` -> `lr=0.0008`"
   ]
  },
  {
   "cell_type": "code",
   "execution_count": 61,
   "metadata": {
    "id": "JBO1weWMR4Gc"
   },
   "outputs": [],
   "source": [
    "args = Args(train, valid, test, batch_size=32, hsz=64, drop_rate=0.5, lr=0.0008, epochs=10, k=20)"
   ]
  },
  {
   "cell_type": "code",
   "execution_count": 62,
   "metadata": {
    "colab": {
     "base_uri": "https://localhost:8080/"
    },
    "id": "TXXuKTFZR6p0",
    "outputId": "28cb9b96-2a0a-48f6-d118-4ec75de64ce2"
   },
   "outputs": [
    {
     "name": "stdout",
     "output_type": "stream",
     "text": [
      "Model: \"model_3\"\n",
      "_________________________________________________________________\n",
      " Layer (type)                Output Shape              Param #   \n",
      "=================================================================\n",
      " input_4 (InputLayer)        [(32, 1, 2933)]           0         \n",
      "                                                                 \n",
      " GRU (GRU)                   [(32, 64),                575808    \n",
      "                              (32, 64)]                          \n",
      "                                                                 \n",
      " dropout_3 (Dropout)         (32, 64)                  0         \n",
      "                                                                 \n",
      " dense_3 (Dense)             (32, 2933)                190645    \n",
      "                                                                 \n",
      "=================================================================\n",
      "Total params: 766,453\n",
      "Trainable params: 766,453\n",
      "Non-trainable params: 0\n",
      "_________________________________________________________________\n"
     ]
    }
   ],
   "source": [
    "model = create_model(args)"
   ]
  },
  {
   "cell_type": "code",
   "execution_count": 63,
   "metadata": {
    "colab": {
     "base_uri": "https://localhost:8080/"
    },
    "id": "RhZ4lH-vR7ke",
    "outputId": "a7329b1f-d086-44e0-cbb1-5e375337157d"
   },
   "outputs": [
    {
     "name": "stderr",
     "output_type": "stream",
     "text": [
      "Train: 100%|████████████████████████████████████████| 12802/12802 [02:26<00:00, 87.30it/s, accuracy=0, train_loss=6.86]\n",
      "Evaluation:  95%|██████████████████████████████████████████████████████████████████▌   | 19/20 [00:02<00:00,  6.61it/s]\n"
     ]
    },
    {
     "name": "stdout",
     "output_type": "stream",
     "text": [
      "\t - Recall@20 epoch 1: 0.174342\n",
      "\t - MRR@20    epoch 1: 0.061589\n",
      "\n"
     ]
    },
    {
     "name": "stderr",
     "output_type": "stream",
     "text": [
      "Train: 100%|████████████████████████████████████████| 12802/12802 [02:30<00:00, 85.21it/s, accuracy=0, train_loss=6.76]\n",
      "Evaluation:  95%|██████████████████████████████████████████████████████████████████▌   | 19/20 [00:02<00:00,  7.22it/s]\n"
     ]
    },
    {
     "name": "stdout",
     "output_type": "stream",
     "text": [
      "\t - Recall@20 epoch 2: 0.254934\n",
      "\t - MRR@20    epoch 2: 0.092536\n",
      "\n"
     ]
    },
    {
     "name": "stderr",
     "output_type": "stream",
     "text": [
      "Train: 100%|███████████████████████████████████| 12802/12802 [03:01<00:00, 70.70it/s, accuracy=0.0625, train_loss=6.58]\n",
      "Evaluation:  95%|██████████████████████████████████████████████████████████████████▌   | 19/20 [00:02<00:00,  6.70it/s]\n"
     ]
    },
    {
     "name": "stdout",
     "output_type": "stream",
     "text": [
      "\t - Recall@20 epoch 3: 0.277961\n",
      "\t - MRR@20    epoch 3: 0.105166\n",
      "\n"
     ]
    },
    {
     "name": "stderr",
     "output_type": "stream",
     "text": [
      "Train: 100%|███████████████████████████████████| 12802/12802 [02:54<00:00, 73.52it/s, accuracy=0.0312, train_loss=6.44]\n",
      "Evaluation:  95%|██████████████████████████████████████████████████████████████████▌   | 19/20 [00:02<00:00,  7.06it/s]\n"
     ]
    },
    {
     "name": "stdout",
     "output_type": "stream",
     "text": [
      "\t - Recall@20 epoch 4: 0.276316\n",
      "\t - MRR@20    epoch 4: 0.102909\n",
      "\n"
     ]
    },
    {
     "name": "stderr",
     "output_type": "stream",
     "text": [
      "Train: 100%|████████████████████████████████████████| 12802/12802 [02:44<00:00, 77.98it/s, accuracy=0, train_loss=6.45]\n",
      "Evaluation:  95%|██████████████████████████████████████████████████████████████████▌   | 19/20 [00:02<00:00,  6.53it/s]\n"
     ]
    },
    {
     "name": "stdout",
     "output_type": "stream",
     "text": [
      "\t - Recall@20 epoch 5: 0.273026\n",
      "\t - MRR@20    epoch 5: 0.103941\n",
      "\n"
     ]
    },
    {
     "name": "stderr",
     "output_type": "stream",
     "text": [
      "Train: 100%|████████████████████████████████████████| 12802/12802 [02:55<00:00, 72.95it/s, accuracy=0, train_loss=6.47]\n",
      "Evaluation:  95%|██████████████████████████████████████████████████████████████████▌   | 19/20 [00:02<00:00,  6.74it/s]\n"
     ]
    },
    {
     "name": "stdout",
     "output_type": "stream",
     "text": [
      "\t - Recall@20 epoch 6: 0.279605\n",
      "\t - MRR@20    epoch 6: 0.107885\n",
      "\n"
     ]
    },
    {
     "name": "stderr",
     "output_type": "stream",
     "text": [
      "Train: 100%|████████████████████████████████████████| 12802/12802 [02:53<00:00, 73.99it/s, accuracy=0, train_loss=6.44]\n",
      "Evaluation:  95%|██████████████████████████████████████████████████████████████████▌   | 19/20 [00:02<00:00,  6.83it/s]\n"
     ]
    },
    {
     "name": "stdout",
     "output_type": "stream",
     "text": [
      "\t - Recall@20 epoch 7: 0.286184\n",
      "\t - MRR@20    epoch 7: 0.109410\n",
      "\n"
     ]
    },
    {
     "name": "stderr",
     "output_type": "stream",
     "text": [
      "Train: 100%|████████████████████████████████████████| 12802/12802 [03:08<00:00, 67.78it/s, accuracy=0, train_loss=6.24]\n",
      "Evaluation:  95%|██████████████████████████████████████████████████████████████████▌   | 19/20 [00:02<00:00,  7.29it/s]\n"
     ]
    },
    {
     "name": "stdout",
     "output_type": "stream",
     "text": [
      "\t - Recall@20 epoch 8: 0.287829\n",
      "\t - MRR@20    epoch 8: 0.111152\n",
      "\n"
     ]
    },
    {
     "name": "stderr",
     "output_type": "stream",
     "text": [
      "Train: 100%|███████████████████████████████████| 12802/12802 [02:59<00:00, 71.51it/s, accuracy=0.0312, train_loss=6.73]\n",
      "Evaluation:  95%|██████████████████████████████████████████████████████████████████▌   | 19/20 [00:03<00:00,  6.06it/s]\n"
     ]
    },
    {
     "name": "stdout",
     "output_type": "stream",
     "text": [
      "\t - Recall@20 epoch 9: 0.284539\n",
      "\t - MRR@20    epoch 9: 0.111456\n",
      "\n"
     ]
    },
    {
     "name": "stderr",
     "output_type": "stream",
     "text": [
      "Train: 100%|███████████████████████████████████| 12802/12802 [03:05<00:00, 69.01it/s, accuracy=0.0625, train_loss=6.53]\n",
      "Evaluation:  95%|██████████████████████████████████████████████████████████████████▌   | 19/20 [00:02<00:00,  6.72it/s]"
     ]
    },
    {
     "name": "stdout",
     "output_type": "stream",
     "text": [
      "\t - Recall@20 epoch 10: 0.289474\n",
      "\t - MRR@20    epoch 10: 0.111160\n",
      "\n"
     ]
    },
    {
     "name": "stderr",
     "output_type": "stream",
     "text": [
      "\n"
     ]
    }
   ],
   "source": [
    "train_model(model, args)"
   ]
  },
  {
   "cell_type": "code",
   "execution_count": 64,
   "metadata": {
    "colab": {
     "base_uri": "https://localhost:8080/"
    },
    "id": "BGgYGwuaSHFd",
    "outputId": "8442b396-a99b-4223-f1fe-e4faffb9bbd0"
   },
   "outputs": [
    {
     "name": "stderr",
     "output_type": "stream",
     "text": [
      "Evaluation: 100%|████████████████████████████████████████████████████████████████████████| 9/9 [00:01<00:00,  5.72it/s]"
     ]
    },
    {
     "name": "stdout",
     "output_type": "stream",
     "text": [
      "\n",
      "\t - Recall@20: 0.256944\n",
      "\t - MRR@20: 0.081157\n",
      "\n"
     ]
    },
    {
     "name": "stderr",
     "output_type": "stream",
     "text": [
      "\n"
     ]
    }
   ],
   "source": [
    "test_model(model, args, test)"
   ]
  },
  {
   "cell_type": "markdown",
   "metadata": {
    "id": "t4NBJqiduQDj"
   },
   "source": [
    "- 학습이 제대로 되지 않는 것 같아서 learning rate를 줄였더니 별 차이가 없는 것 같다."
   ]
  },
  {
   "cell_type": "markdown",
   "metadata": {
    "id": "uMspt_vcRgzr"
   },
   "source": [
    "# 테스트 4: 배치 사이즈 변경\n",
    "\n",
    "- 32 -> 128"
   ]
  },
  {
   "cell_type": "code",
   "execution_count": 65,
   "metadata": {
    "id": "LBtxvIruRzY2"
   },
   "outputs": [],
   "source": [
    "args = Args(train, valid, test, batch_size=128, hsz=64, drop_rate=0.5, lr=0.0008, epochs=10, k=20)"
   ]
  },
  {
   "cell_type": "code",
   "execution_count": 66,
   "metadata": {
    "colab": {
     "base_uri": "https://localhost:8080/"
    },
    "id": "exf8Vux7SLCj",
    "outputId": "d0d63f39-66ee-49ff-a014-54854f094219"
   },
   "outputs": [
    {
     "name": "stdout",
     "output_type": "stream",
     "text": [
      "Model: \"model_4\"\n",
      "_________________________________________________________________\n",
      " Layer (type)                Output Shape              Param #   \n",
      "=================================================================\n",
      " input_5 (InputLayer)        [(128, 1, 2933)]          0         \n",
      "                                                                 \n",
      " GRU (GRU)                   [(128, 64),               575808    \n",
      "                              (128, 64)]                         \n",
      "                                                                 \n",
      " dropout_4 (Dropout)         (128, 64)                 0         \n",
      "                                                                 \n",
      " dense_4 (Dense)             (128, 2933)               190645    \n",
      "                                                                 \n",
      "=================================================================\n",
      "Total params: 766,453\n",
      "Trainable params: 766,453\n",
      "Non-trainable params: 0\n",
      "_________________________________________________________________\n"
     ]
    }
   ],
   "source": [
    "model = create_model(args)"
   ]
  },
  {
   "cell_type": "code",
   "execution_count": 67,
   "metadata": {
    "colab": {
     "base_uri": "https://localhost:8080/"
    },
    "id": "5Q1sKwGlSM3n",
    "outputId": "c9636ee9-05e3-4cf1-92be-b560d1d64ee4"
   },
   "outputs": [
    {
     "name": "stderr",
     "output_type": "stream",
     "text": [
      "Train: 100%|███████████████████████████████████▉| 3199/3200 [01:04<00:00, 49.54it/s, accuracy=0.00781, train_loss=7.02]\n",
      "Evaluation:  80%|█████████████████████████████████████████████████████████▌              | 4/5 [00:02<00:00,  1.67it/s]\n"
     ]
    },
    {
     "name": "stdout",
     "output_type": "stream",
     "text": [
      "\t - Recall@20 epoch 1: 0.080078\n",
      "\t - MRR@20    epoch 1: 0.021028\n",
      "\n"
     ]
    },
    {
     "name": "stderr",
     "output_type": "stream",
     "text": [
      "Train: 100%|████████████████████████████████████▉| 3199/3200 [01:04<00:00, 49.68it/s, accuracy=0.0312, train_loss=6.66]\n",
      "Evaluation:  80%|█████████████████████████████████████████████████████████▌              | 4/5 [00:02<00:00,  1.87it/s]\n"
     ]
    },
    {
     "name": "stdout",
     "output_type": "stream",
     "text": [
      "\t - Recall@20 epoch 2: 0.148438\n",
      "\t - MRR@20    epoch 2: 0.053799\n",
      "\n"
     ]
    },
    {
     "name": "stderr",
     "output_type": "stream",
     "text": [
      "Train: 100%|█████████████████████████████████████▉| 3199/3200 [00:57<00:00, 55.58it/s, accuracy=0.0312, train_loss=6.4]\n",
      "Evaluation:  80%|█████████████████████████████████████████████████████████▌              | 4/5 [00:02<00:00,  1.82it/s]\n"
     ]
    },
    {
     "name": "stdout",
     "output_type": "stream",
     "text": [
      "\t - Recall@20 epoch 3: 0.205078\n",
      "\t - MRR@20    epoch 3: 0.074884\n",
      "\n"
     ]
    },
    {
     "name": "stderr",
     "output_type": "stream",
     "text": [
      "Train: 100%|████████████████████████████████████▉| 3199/3200 [00:53<00:00, 59.88it/s, accuracy=0.0312, train_loss=6.45]\n",
      "Evaluation:  80%|█████████████████████████████████████████████████████████▌              | 4/5 [00:02<00:00,  1.98it/s]\n"
     ]
    },
    {
     "name": "stdout",
     "output_type": "stream",
     "text": [
      "\t - Recall@20 epoch 4: 0.220703\n",
      "\t - MRR@20    epoch 4: 0.081619\n",
      "\n"
     ]
    },
    {
     "name": "stderr",
     "output_type": "stream",
     "text": [
      "Train: 100%|████████████████████████████████████▉| 3199/3200 [00:57<00:00, 55.26it/s, accuracy=0.0391, train_loss=6.18]\n",
      "Evaluation:  80%|█████████████████████████████████████████████████████████▌              | 4/5 [00:01<00:00,  2.00it/s]\n"
     ]
    },
    {
     "name": "stdout",
     "output_type": "stream",
     "text": [
      "\t - Recall@20 epoch 5: 0.228516\n",
      "\t - MRR@20    epoch 5: 0.085862\n",
      "\n"
     ]
    },
    {
     "name": "stderr",
     "output_type": "stream",
     "text": [
      "Train: 100%|█████████████████████████████████████▉| 3199/3200 [00:59<00:00, 53.80it/s, accuracy=0.0312, train_loss=6.2]\n",
      "Evaluation:  80%|█████████████████████████████████████████████████████████▌              | 4/5 [00:02<00:00,  1.98it/s]\n"
     ]
    },
    {
     "name": "stdout",
     "output_type": "stream",
     "text": [
      "\t - Recall@20 epoch 6: 0.226562\n",
      "\t - MRR@20    epoch 6: 0.085006\n",
      "\n"
     ]
    },
    {
     "name": "stderr",
     "output_type": "stream",
     "text": [
      "Train: 100%|█████████████████████████████████████▉| 3199/3200 [00:54<00:00, 58.43it/s, accuracy=0.0312, train_loss=6.1]\n",
      "Evaluation:  80%|█████████████████████████████████████████████████████████▌              | 4/5 [00:01<00:00,  2.01it/s]\n"
     ]
    },
    {
     "name": "stdout",
     "output_type": "stream",
     "text": [
      "\t - Recall@20 epoch 7: 0.230469\n",
      "\t - MRR@20    epoch 7: 0.088865\n",
      "\n"
     ]
    },
    {
     "name": "stderr",
     "output_type": "stream",
     "text": [
      "Train: 100%|████████████████████████████████████▉| 3199/3200 [00:52<00:00, 61.13it/s, accuracy=0.0312, train_loss=6.22]\n",
      "Evaluation:  80%|█████████████████████████████████████████████████████████▌              | 4/5 [00:01<00:00,  2.07it/s]\n"
     ]
    },
    {
     "name": "stdout",
     "output_type": "stream",
     "text": [
      "\t - Recall@20 epoch 8: 0.236328\n",
      "\t - MRR@20    epoch 8: 0.089227\n",
      "\n"
     ]
    },
    {
     "name": "stderr",
     "output_type": "stream",
     "text": [
      "Train: 100%|█████████████████████████████████████▉| 3199/3200 [00:58<00:00, 54.98it/s, accuracy=0.0547, train_loss=6.1]\n",
      "Evaluation:  80%|█████████████████████████████████████████████████████████▌              | 4/5 [00:01<00:00,  2.04it/s]\n"
     ]
    },
    {
     "name": "stdout",
     "output_type": "stream",
     "text": [
      "\t - Recall@20 epoch 9: 0.236328\n",
      "\t - MRR@20    epoch 9: 0.089554\n",
      "\n"
     ]
    },
    {
     "name": "stderr",
     "output_type": "stream",
     "text": [
      "Train: 100%|████████████████████████████████████▉| 3199/3200 [01:04<00:00, 49.87it/s, accuracy=0.0391, train_loss=6.07]\n",
      "Evaluation:  80%|█████████████████████████████████████████████████████████▌              | 4/5 [00:01<00:00,  2.02it/s]"
     ]
    },
    {
     "name": "stdout",
     "output_type": "stream",
     "text": [
      "\t - Recall@20 epoch 10: 0.236328\n",
      "\t - MRR@20    epoch 10: 0.086931\n",
      "\n"
     ]
    },
    {
     "name": "stderr",
     "output_type": "stream",
     "text": [
      "\n"
     ]
    }
   ],
   "source": [
    "train_model(model, args)"
   ]
  },
  {
   "cell_type": "code",
   "execution_count": 68,
   "metadata": {
    "colab": {
     "base_uri": "https://localhost:8080/"
    },
    "id": "ExfvId7USN4J",
    "outputId": "e9de93b4-439c-4611-dd9f-2eee61430b94"
   },
   "outputs": [
    {
     "name": "stderr",
     "output_type": "stream",
     "text": [
      "Evaluation: 100%|████████████████████████████████████████████████████████████████████████| 2/2 [00:01<00:00,  1.83it/s]"
     ]
    },
    {
     "name": "stdout",
     "output_type": "stream",
     "text": [
      "\n",
      "\t - Recall@20: 0.199219\n",
      "\t - MRR@20: 0.069615\n",
      "\n"
     ]
    },
    {
     "name": "stderr",
     "output_type": "stream",
     "text": [
      "\n"
     ]
    }
   ],
   "source": [
    "test_model(model, args, test)"
   ]
  },
  {
   "cell_type": "markdown",
   "metadata": {
    "id": "p0DePCJ_ubwW"
   },
   "source": [
    "- 배치 사이즈를 늘렸더니 학습 속도는 빨라졌지만 `Recall@20` 수치는 줄어들었다."
   ]
  },
  {
   "cell_type": "markdown",
   "metadata": {
    "id": "N8Xg-h5MSOfT"
   },
   "source": [
    "# 테스트 5: 세션 단위 변경\n",
    "- 초 단위 -> 분 단위"
   ]
  },
  {
   "cell_type": "code",
   "execution_count": 69,
   "metadata": {
    "id": "tTy2nVgVcInV"
   },
   "outputs": [],
   "source": [
    "data3 = data.copy()"
   ]
  },
  {
   "cell_type": "code",
   "execution_count": 70,
   "metadata": {
    "colab": {
     "base_uri": "https://localhost:8080/",
     "height": 419
    },
    "id": "TlCzLDG3dbJw",
    "outputId": "83f7ad0f-12c2-4061-ee85-d8d39e1c503c"
   },
   "outputs": [
    {
     "data": {
      "text/html": [
       "<div>\n",
       "<style scoped>\n",
       "    .dataframe tbody tr th:only-of-type {\n",
       "        vertical-align: middle;\n",
       "    }\n",
       "\n",
       "    .dataframe tbody tr th {\n",
       "        vertical-align: top;\n",
       "    }\n",
       "\n",
       "    .dataframe thead th {\n",
       "        text-align: right;\n",
       "    }\n",
       "</style>\n",
       "<table border=\"1\" class=\"dataframe\">\n",
       "  <thead>\n",
       "    <tr style=\"text-align: right;\">\n",
       "      <th></th>\n",
       "      <th>UserId</th>\n",
       "      <th>ItemId</th>\n",
       "      <th>Rating</th>\n",
       "      <th>Time</th>\n",
       "    </tr>\n",
       "  </thead>\n",
       "  <tbody>\n",
       "    <tr>\n",
       "      <th>31</th>\n",
       "      <td>1</td>\n",
       "      <td>3186</td>\n",
       "      <td>4</td>\n",
       "      <td>2000-12-31 22:00:19</td>\n",
       "    </tr>\n",
       "    <tr>\n",
       "      <th>22</th>\n",
       "      <td>1</td>\n",
       "      <td>1270</td>\n",
       "      <td>5</td>\n",
       "      <td>2000-12-31 22:00:55</td>\n",
       "    </tr>\n",
       "    <tr>\n",
       "      <th>27</th>\n",
       "      <td>1</td>\n",
       "      <td>1721</td>\n",
       "      <td>4</td>\n",
       "      <td>2000-12-31 22:00:55</td>\n",
       "    </tr>\n",
       "    <tr>\n",
       "      <th>37</th>\n",
       "      <td>1</td>\n",
       "      <td>1022</td>\n",
       "      <td>5</td>\n",
       "      <td>2000-12-31 22:00:55</td>\n",
       "    </tr>\n",
       "    <tr>\n",
       "      <th>24</th>\n",
       "      <td>1</td>\n",
       "      <td>2340</td>\n",
       "      <td>3</td>\n",
       "      <td>2000-12-31 22:01:43</td>\n",
       "    </tr>\n",
       "    <tr>\n",
       "      <th>...</th>\n",
       "      <td>...</td>\n",
       "      <td>...</td>\n",
       "      <td>...</td>\n",
       "      <td>...</td>\n",
       "    </tr>\n",
       "    <tr>\n",
       "      <th>1000019</th>\n",
       "      <td>6040</td>\n",
       "      <td>2917</td>\n",
       "      <td>4</td>\n",
       "      <td>2001-08-10 14:40:29</td>\n",
       "    </tr>\n",
       "    <tr>\n",
       "      <th>999988</th>\n",
       "      <td>6040</td>\n",
       "      <td>1921</td>\n",
       "      <td>4</td>\n",
       "      <td>2001-08-10 14:41:04</td>\n",
       "    </tr>\n",
       "    <tr>\n",
       "      <th>1000172</th>\n",
       "      <td>6040</td>\n",
       "      <td>1784</td>\n",
       "      <td>3</td>\n",
       "      <td>2001-08-10 14:41:04</td>\n",
       "    </tr>\n",
       "    <tr>\n",
       "      <th>1000167</th>\n",
       "      <td>6040</td>\n",
       "      <td>161</td>\n",
       "      <td>3</td>\n",
       "      <td>2001-08-10 14:41:26</td>\n",
       "    </tr>\n",
       "    <tr>\n",
       "      <th>1000042</th>\n",
       "      <td>6040</td>\n",
       "      <td>1221</td>\n",
       "      <td>4</td>\n",
       "      <td>2001-08-20 13:44:15</td>\n",
       "    </tr>\n",
       "  </tbody>\n",
       "</table>\n",
       "<p>1000209 rows × 4 columns</p>\n",
       "</div>"
      ],
      "text/plain": [
       "         UserId  ItemId  Rating                Time\n",
       "31            1    3186       4 2000-12-31 22:00:19\n",
       "22            1    1270       5 2000-12-31 22:00:55\n",
       "27            1    1721       4 2000-12-31 22:00:55\n",
       "37            1    1022       5 2000-12-31 22:00:55\n",
       "24            1    2340       3 2000-12-31 22:01:43\n",
       "...         ...     ...     ...                 ...\n",
       "1000019    6040    2917       4 2001-08-10 14:40:29\n",
       "999988     6040    1921       4 2001-08-10 14:41:04\n",
       "1000172    6040    1784       3 2001-08-10 14:41:04\n",
       "1000167    6040     161       3 2001-08-10 14:41:26\n",
       "1000042    6040    1221       4 2001-08-20 13:44:15\n",
       "\n",
       "[1000209 rows x 4 columns]"
      ]
     },
     "execution_count": 70,
     "metadata": {},
     "output_type": "execute_result"
    }
   ],
   "source": [
    "from datetime import datetime\n",
    "\n",
    "data3['Time'] = data3['Time'].map(lambda x: datetime.utcfromtimestamp(x))\n",
    "data3"
   ]
  },
  {
   "cell_type": "code",
   "execution_count": 71,
   "metadata": {
    "colab": {
     "base_uri": "https://localhost:8080/"
    },
    "id": "q7ZxlkWedflO",
    "outputId": "0e918312-3b0d-4a5b-8274-998725c00378"
   },
   "outputs": [
    {
     "name": "stdout",
     "output_type": "stream",
     "text": [
      "2000-04-25 23:05:32\n",
      "2003-02-28 17:49:50\n"
     ]
    }
   ],
   "source": [
    "oldest, latest = data3['Time'].min(), data3['Time'].max()\n",
    "print(oldest)\n",
    "print(latest)"
   ]
  },
  {
   "cell_type": "code",
   "execution_count": 72,
   "metadata": {
    "colab": {
     "base_uri": "https://localhost:8080/"
    },
    "id": "UZWcmL_wdjUd",
    "outputId": "2f8a7020-1709-42f3-c856-90739817318b"
   },
   "outputs": [
    {
     "name": "stdout",
     "output_type": "stream",
     "text": [
      "836478\n"
     ]
    }
   ],
   "source": [
    "# 3점 미만 데이터 삭제\n",
    "data3 = data3[data3['Rating'] >= 3]\n",
    "print(len(data3))"
   ]
  },
  {
   "cell_type": "code",
   "execution_count": 73,
   "metadata": {
    "id": "AlzsNfmjaX0y"
   },
   "outputs": [],
   "source": [
    "# 유저 아이디와 시간으로 세션 아이디 만들기\n",
    "# 시간을 str로 바꾼 후 슬라이싱 해서 분단위까지 같으면 같은 세션으로 취급\n",
    "data3['SessionId'] = data3.apply(lambda x: str(x['UserId']) + \" : \" + str(x['Time'])[:-2], axis=1)\n",
    "session_unique = data3['SessionId'].unique() # 유니크한 값 뽑기\n",
    "session_to_idx = {v:k for k,v in enumerate(session_unique)} # 인덱스 만들기\n",
    "\n",
    "temp_session_data = data3['SessionId'].map(session_to_idx.get).dropna()\n",
    "data3['SessionId'] = temp_session_data"
   ]
  },
  {
   "cell_type": "code",
   "execution_count": 74,
   "metadata": {
    "colab": {
     "base_uri": "https://localhost:8080/",
     "height": 359
    },
    "id": "3oswA1KEbpYU",
    "outputId": "3b9a0701-d621-41cf-c3d3-ab33a57ee8d4"
   },
   "outputs": [
    {
     "data": {
      "text/html": [
       "<div>\n",
       "<style scoped>\n",
       "    .dataframe tbody tr th:only-of-type {\n",
       "        vertical-align: middle;\n",
       "    }\n",
       "\n",
       "    .dataframe tbody tr th {\n",
       "        vertical-align: top;\n",
       "    }\n",
       "\n",
       "    .dataframe thead th {\n",
       "        text-align: right;\n",
       "    }\n",
       "</style>\n",
       "<table border=\"1\" class=\"dataframe\">\n",
       "  <thead>\n",
       "    <tr style=\"text-align: right;\">\n",
       "      <th></th>\n",
       "      <th>UserId</th>\n",
       "      <th>ItemId</th>\n",
       "      <th>Rating</th>\n",
       "      <th>Time</th>\n",
       "      <th>SessionId</th>\n",
       "    </tr>\n",
       "  </thead>\n",
       "  <tbody>\n",
       "    <tr>\n",
       "      <th>31</th>\n",
       "      <td>1</td>\n",
       "      <td>3186</td>\n",
       "      <td>4</td>\n",
       "      <td>2000-12-31 22:00:19</td>\n",
       "      <td>0</td>\n",
       "    </tr>\n",
       "    <tr>\n",
       "      <th>22</th>\n",
       "      <td>1</td>\n",
       "      <td>1270</td>\n",
       "      <td>5</td>\n",
       "      <td>2000-12-31 22:00:55</td>\n",
       "      <td>0</td>\n",
       "    </tr>\n",
       "    <tr>\n",
       "      <th>27</th>\n",
       "      <td>1</td>\n",
       "      <td>1721</td>\n",
       "      <td>4</td>\n",
       "      <td>2000-12-31 22:00:55</td>\n",
       "      <td>0</td>\n",
       "    </tr>\n",
       "    <tr>\n",
       "      <th>37</th>\n",
       "      <td>1</td>\n",
       "      <td>1022</td>\n",
       "      <td>5</td>\n",
       "      <td>2000-12-31 22:00:55</td>\n",
       "      <td>0</td>\n",
       "    </tr>\n",
       "    <tr>\n",
       "      <th>24</th>\n",
       "      <td>1</td>\n",
       "      <td>2340</td>\n",
       "      <td>3</td>\n",
       "      <td>2000-12-31 22:01:43</td>\n",
       "      <td>1</td>\n",
       "    </tr>\n",
       "    <tr>\n",
       "      <th>36</th>\n",
       "      <td>1</td>\n",
       "      <td>1836</td>\n",
       "      <td>5</td>\n",
       "      <td>2000-12-31 22:02:52</td>\n",
       "      <td>2</td>\n",
       "    </tr>\n",
       "    <tr>\n",
       "      <th>3</th>\n",
       "      <td>1</td>\n",
       "      <td>3408</td>\n",
       "      <td>4</td>\n",
       "      <td>2000-12-31 22:04:35</td>\n",
       "      <td>3</td>\n",
       "    </tr>\n",
       "    <tr>\n",
       "      <th>7</th>\n",
       "      <td>1</td>\n",
       "      <td>2804</td>\n",
       "      <td>5</td>\n",
       "      <td>2000-12-31 22:11:59</td>\n",
       "      <td>4</td>\n",
       "    </tr>\n",
       "    <tr>\n",
       "      <th>47</th>\n",
       "      <td>1</td>\n",
       "      <td>1207</td>\n",
       "      <td>4</td>\n",
       "      <td>2000-12-31 22:11:59</td>\n",
       "      <td>4</td>\n",
       "    </tr>\n",
       "    <tr>\n",
       "      <th>0</th>\n",
       "      <td>1</td>\n",
       "      <td>1193</td>\n",
       "      <td>5</td>\n",
       "      <td>2000-12-31 22:12:40</td>\n",
       "      <td>5</td>\n",
       "    </tr>\n",
       "  </tbody>\n",
       "</table>\n",
       "</div>"
      ],
      "text/plain": [
       "    UserId  ItemId  Rating                Time  SessionId\n",
       "31       1    3186       4 2000-12-31 22:00:19          0\n",
       "22       1    1270       5 2000-12-31 22:00:55          0\n",
       "27       1    1721       4 2000-12-31 22:00:55          0\n",
       "37       1    1022       5 2000-12-31 22:00:55          0\n",
       "24       1    2340       3 2000-12-31 22:01:43          1\n",
       "36       1    1836       5 2000-12-31 22:02:52          2\n",
       "3        1    3408       4 2000-12-31 22:04:35          3\n",
       "7        1    2804       5 2000-12-31 22:11:59          4\n",
       "47       1    1207       4 2000-12-31 22:11:59          4\n",
       "0        1    1193       5 2000-12-31 22:12:40          5"
      ]
     },
     "execution_count": 74,
     "metadata": {},
     "output_type": "execute_result"
    }
   ],
   "source": [
    "data3.head(10)"
   ]
  },
  {
   "cell_type": "code",
   "execution_count": 75,
   "metadata": {
    "colab": {
     "base_uri": "https://localhost:8080/",
     "height": 419
    },
    "id": "Dezqlm76c77y",
    "outputId": "cd0ccd8f-1068-4471-d3c2-dc2194b3798b"
   },
   "outputs": [
    {
     "data": {
      "text/html": [
       "<div>\n",
       "<style scoped>\n",
       "    .dataframe tbody tr th:only-of-type {\n",
       "        vertical-align: middle;\n",
       "    }\n",
       "\n",
       "    .dataframe tbody tr th {\n",
       "        vertical-align: top;\n",
       "    }\n",
       "\n",
       "    .dataframe thead th {\n",
       "        text-align: right;\n",
       "    }\n",
       "</style>\n",
       "<table border=\"1\" class=\"dataframe\">\n",
       "  <thead>\n",
       "    <tr style=\"text-align: right;\">\n",
       "      <th></th>\n",
       "      <th>SessionId</th>\n",
       "      <th>ItemId</th>\n",
       "      <th>Time</th>\n",
       "    </tr>\n",
       "  </thead>\n",
       "  <tbody>\n",
       "    <tr>\n",
       "      <th>31</th>\n",
       "      <td>0</td>\n",
       "      <td>3186</td>\n",
       "      <td>2000-12-31 22:00:19</td>\n",
       "    </tr>\n",
       "    <tr>\n",
       "      <th>22</th>\n",
       "      <td>0</td>\n",
       "      <td>1270</td>\n",
       "      <td>2000-12-31 22:00:55</td>\n",
       "    </tr>\n",
       "    <tr>\n",
       "      <th>27</th>\n",
       "      <td>0</td>\n",
       "      <td>1721</td>\n",
       "      <td>2000-12-31 22:00:55</td>\n",
       "    </tr>\n",
       "    <tr>\n",
       "      <th>37</th>\n",
       "      <td>0</td>\n",
       "      <td>1022</td>\n",
       "      <td>2000-12-31 22:00:55</td>\n",
       "    </tr>\n",
       "    <tr>\n",
       "      <th>24</th>\n",
       "      <td>1</td>\n",
       "      <td>2340</td>\n",
       "      <td>2000-12-31 22:01:43</td>\n",
       "    </tr>\n",
       "    <tr>\n",
       "      <th>...</th>\n",
       "      <td>...</td>\n",
       "      <td>...</td>\n",
       "      <td>...</td>\n",
       "    </tr>\n",
       "    <tr>\n",
       "      <th>1000019</th>\n",
       "      <td>265478</td>\n",
       "      <td>2917</td>\n",
       "      <td>2001-08-10 14:40:29</td>\n",
       "    </tr>\n",
       "    <tr>\n",
       "      <th>999988</th>\n",
       "      <td>265479</td>\n",
       "      <td>1921</td>\n",
       "      <td>2001-08-10 14:41:04</td>\n",
       "    </tr>\n",
       "    <tr>\n",
       "      <th>1000172</th>\n",
       "      <td>265479</td>\n",
       "      <td>1784</td>\n",
       "      <td>2001-08-10 14:41:04</td>\n",
       "    </tr>\n",
       "    <tr>\n",
       "      <th>1000167</th>\n",
       "      <td>265479</td>\n",
       "      <td>161</td>\n",
       "      <td>2001-08-10 14:41:26</td>\n",
       "    </tr>\n",
       "    <tr>\n",
       "      <th>1000042</th>\n",
       "      <td>265480</td>\n",
       "      <td>1221</td>\n",
       "      <td>2001-08-20 13:44:15</td>\n",
       "    </tr>\n",
       "  </tbody>\n",
       "</table>\n",
       "<p>836478 rows × 3 columns</p>\n",
       "</div>"
      ],
      "text/plain": [
       "         SessionId  ItemId                Time\n",
       "31               0    3186 2000-12-31 22:00:19\n",
       "22               0    1270 2000-12-31 22:00:55\n",
       "27               0    1721 2000-12-31 22:00:55\n",
       "37               0    1022 2000-12-31 22:00:55\n",
       "24               1    2340 2000-12-31 22:01:43\n",
       "...            ...     ...                 ...\n",
       "1000019     265478    2917 2001-08-10 14:40:29\n",
       "999988      265479    1921 2001-08-10 14:41:04\n",
       "1000172     265479    1784 2001-08-10 14:41:04\n",
       "1000167     265479     161 2001-08-10 14:41:26\n",
       "1000042     265480    1221 2001-08-20 13:44:15\n",
       "\n",
       "[836478 rows x 3 columns]"
      ]
     },
     "execution_count": 75,
     "metadata": {},
     "output_type": "execute_result"
    }
   ],
   "source": [
    "# 컬럼 삭제\n",
    "data3 = data3[['SessionId', 'ItemId', 'Time']]\n",
    "data3"
   ]
  },
  {
   "cell_type": "code",
   "execution_count": 76,
   "metadata": {
    "colab": {
     "base_uri": "https://localhost:8080/",
     "height": 419
    },
    "id": "nP-bRxFzdGjc",
    "outputId": "3528af8c-cd5e-42bd-918a-62177eb2edd7"
   },
   "outputs": [
    {
     "data": {
      "text/html": [
       "<div>\n",
       "<style scoped>\n",
       "    .dataframe tbody tr th:only-of-type {\n",
       "        vertical-align: middle;\n",
       "    }\n",
       "\n",
       "    .dataframe tbody tr th {\n",
       "        vertical-align: top;\n",
       "    }\n",
       "\n",
       "    .dataframe thead th {\n",
       "        text-align: right;\n",
       "    }\n",
       "</style>\n",
       "<table border=\"1\" class=\"dataframe\">\n",
       "  <thead>\n",
       "    <tr style=\"text-align: right;\">\n",
       "      <th></th>\n",
       "      <th>SessionId</th>\n",
       "      <th>ItemId</th>\n",
       "      <th>Time</th>\n",
       "    </tr>\n",
       "  </thead>\n",
       "  <tbody>\n",
       "    <tr>\n",
       "      <th>31</th>\n",
       "      <td>0</td>\n",
       "      <td>3186</td>\n",
       "      <td>2000-12-31 22:00:19</td>\n",
       "    </tr>\n",
       "    <tr>\n",
       "      <th>22</th>\n",
       "      <td>0</td>\n",
       "      <td>1270</td>\n",
       "      <td>2000-12-31 22:00:55</td>\n",
       "    </tr>\n",
       "    <tr>\n",
       "      <th>27</th>\n",
       "      <td>0</td>\n",
       "      <td>1721</td>\n",
       "      <td>2000-12-31 22:00:55</td>\n",
       "    </tr>\n",
       "    <tr>\n",
       "      <th>37</th>\n",
       "      <td>0</td>\n",
       "      <td>1022</td>\n",
       "      <td>2000-12-31 22:00:55</td>\n",
       "    </tr>\n",
       "    <tr>\n",
       "      <th>7</th>\n",
       "      <td>4</td>\n",
       "      <td>2804</td>\n",
       "      <td>2000-12-31 22:11:59</td>\n",
       "    </tr>\n",
       "    <tr>\n",
       "      <th>...</th>\n",
       "      <td>...</td>\n",
       "      <td>...</td>\n",
       "      <td>...</td>\n",
       "    </tr>\n",
       "    <tr>\n",
       "      <th>1000119</th>\n",
       "      <td>265477</td>\n",
       "      <td>3671</td>\n",
       "      <td>2001-08-10 14:39:27</td>\n",
       "    </tr>\n",
       "    <tr>\n",
       "      <th>999923</th>\n",
       "      <td>265477</td>\n",
       "      <td>232</td>\n",
       "      <td>2001-08-10 14:39:58</td>\n",
       "    </tr>\n",
       "    <tr>\n",
       "      <th>999988</th>\n",
       "      <td>265479</td>\n",
       "      <td>1921</td>\n",
       "      <td>2001-08-10 14:41:04</td>\n",
       "    </tr>\n",
       "    <tr>\n",
       "      <th>1000172</th>\n",
       "      <td>265479</td>\n",
       "      <td>1784</td>\n",
       "      <td>2001-08-10 14:41:04</td>\n",
       "    </tr>\n",
       "    <tr>\n",
       "      <th>1000167</th>\n",
       "      <td>265479</td>\n",
       "      <td>161</td>\n",
       "      <td>2001-08-10 14:41:26</td>\n",
       "    </tr>\n",
       "  </tbody>\n",
       "</table>\n",
       "<p>750905 rows × 3 columns</p>\n",
       "</div>"
      ],
      "text/plain": [
       "         SessionId  ItemId                Time\n",
       "31               0    3186 2000-12-31 22:00:19\n",
       "22               0    1270 2000-12-31 22:00:55\n",
       "27               0    1721 2000-12-31 22:00:55\n",
       "37               0    1022 2000-12-31 22:00:55\n",
       "7                4    2804 2000-12-31 22:11:59\n",
       "...            ...     ...                 ...\n",
       "1000119     265477    3671 2001-08-10 14:39:27\n",
       "999923      265477     232 2001-08-10 14:39:58\n",
       "999988      265479    1921 2001-08-10 14:41:04\n",
       "1000172     265479    1784 2001-08-10 14:41:04\n",
       "1000167     265479     161 2001-08-10 14:41:26\n",
       "\n",
       "[750905 rows x 3 columns]"
      ]
     },
     "execution_count": 76,
     "metadata": {},
     "output_type": "execute_result"
    }
   ],
   "source": [
    "# 클릭이 10회 미만인 데이터는 삭제해준다\n",
    "data3 = cleanse_recursive(data3, shortest=2, least_click=10)\n",
    "data3"
   ]
  },
  {
   "cell_type": "code",
   "execution_count": 77,
   "metadata": {
    "colab": {
     "base_uri": "https://localhost:8080/",
     "height": 419
    },
    "id": "mGEt_R6adJ7T",
    "outputId": "5f68039b-8867-491e-ac7c-1071078f5722"
   },
   "outputs": [
    {
     "data": {
      "text/html": [
       "<div>\n",
       "<style scoped>\n",
       "    .dataframe tbody tr th:only-of-type {\n",
       "        vertical-align: middle;\n",
       "    }\n",
       "\n",
       "    .dataframe tbody tr th {\n",
       "        vertical-align: top;\n",
       "    }\n",
       "\n",
       "    .dataframe thead th {\n",
       "        text-align: right;\n",
       "    }\n",
       "</style>\n",
       "<table border=\"1\" class=\"dataframe\">\n",
       "  <thead>\n",
       "    <tr style=\"text-align: right;\">\n",
       "      <th></th>\n",
       "      <th>SessionId</th>\n",
       "      <th>ItemId</th>\n",
       "      <th>Time</th>\n",
       "    </tr>\n",
       "  </thead>\n",
       "  <tbody>\n",
       "    <tr>\n",
       "      <th>52100</th>\n",
       "      <td>14298</td>\n",
       "      <td>1569</td>\n",
       "      <td>2003-02-09 15:36:14</td>\n",
       "    </tr>\n",
       "    <tr>\n",
       "      <th>52156</th>\n",
       "      <td>14298</td>\n",
       "      <td>2498</td>\n",
       "      <td>2003-02-09 15:36:54</td>\n",
       "    </tr>\n",
       "    <tr>\n",
       "      <th>53002</th>\n",
       "      <td>14584</td>\n",
       "      <td>145</td>\n",
       "      <td>2003-01-30 23:33:12</td>\n",
       "    </tr>\n",
       "    <tr>\n",
       "      <th>53058</th>\n",
       "      <td>14584</td>\n",
       "      <td>2699</td>\n",
       "      <td>2003-01-30 23:33:12</td>\n",
       "    </tr>\n",
       "    <tr>\n",
       "      <th>52934</th>\n",
       "      <td>14587</td>\n",
       "      <td>788</td>\n",
       "      <td>2003-01-30 23:37:06</td>\n",
       "    </tr>\n",
       "    <tr>\n",
       "      <th>...</th>\n",
       "      <td>...</td>\n",
       "      <td>...</td>\n",
       "      <td>...</td>\n",
       "    </tr>\n",
       "    <tr>\n",
       "      <th>984803</th>\n",
       "      <td>261827</td>\n",
       "      <td>3683</td>\n",
       "      <td>2003-02-27 17:54:56</td>\n",
       "    </tr>\n",
       "    <tr>\n",
       "      <th>984544</th>\n",
       "      <td>261833</td>\n",
       "      <td>3481</td>\n",
       "      <td>2003-02-27 18:04:50</td>\n",
       "    </tr>\n",
       "    <tr>\n",
       "      <th>984847</th>\n",
       "      <td>261833</td>\n",
       "      <td>3328</td>\n",
       "      <td>2003-02-27 18:04:50</td>\n",
       "    </tr>\n",
       "    <tr>\n",
       "      <th>984598</th>\n",
       "      <td>261836</td>\n",
       "      <td>3896</td>\n",
       "      <td>2003-02-27 18:12:29</td>\n",
       "    </tr>\n",
       "    <tr>\n",
       "      <th>984597</th>\n",
       "      <td>261836</td>\n",
       "      <td>3893</td>\n",
       "      <td>2003-02-27 18:12:49</td>\n",
       "    </tr>\n",
       "  </tbody>\n",
       "</table>\n",
       "<p>855 rows × 3 columns</p>\n",
       "</div>"
      ],
      "text/plain": [
       "        SessionId  ItemId                Time\n",
       "52100       14298    1569 2003-02-09 15:36:14\n",
       "52156       14298    2498 2003-02-09 15:36:54\n",
       "53002       14584     145 2003-01-30 23:33:12\n",
       "53058       14584    2699 2003-01-30 23:33:12\n",
       "52934       14587     788 2003-01-30 23:37:06\n",
       "...           ...     ...                 ...\n",
       "984803     261827    3683 2003-02-27 17:54:56\n",
       "984544     261833    3481 2003-02-27 18:04:50\n",
       "984847     261833    3328 2003-02-27 18:04:50\n",
       "984598     261836    3896 2003-02-27 18:12:29\n",
       "984597     261836    3893 2003-02-27 18:12:49\n",
       "\n",
       "[855 rows x 3 columns]"
      ]
     },
     "execution_count": 77,
     "metadata": {},
     "output_type": "execute_result"
    }
   ],
   "source": [
    "# 테스트 데이터는 최근 30일 기록\n",
    "test_begin = latest - dt.timedelta(30) \n",
    "test = data3[data3['Time'] > test_begin]\n",
    "test"
   ]
  },
  {
   "cell_type": "code",
   "execution_count": 78,
   "metadata": {
    "colab": {
     "base_uri": "https://localhost:8080/",
     "height": 419
    },
    "id": "0hocX419dODS",
    "outputId": "925a477b-a81b-466e-ffbd-f33baafab0d3"
   },
   "outputs": [
    {
     "data": {
      "text/html": [
       "<div>\n",
       "<style scoped>\n",
       "    .dataframe tbody tr th:only-of-type {\n",
       "        vertical-align: middle;\n",
       "    }\n",
       "\n",
       "    .dataframe tbody tr th {\n",
       "        vertical-align: top;\n",
       "    }\n",
       "\n",
       "    .dataframe thead th {\n",
       "        text-align: right;\n",
       "    }\n",
       "</style>\n",
       "<table border=\"1\" class=\"dataframe\">\n",
       "  <thead>\n",
       "    <tr style=\"text-align: right;\">\n",
       "      <th></th>\n",
       "      <th>SessionId</th>\n",
       "      <th>ItemId</th>\n",
       "      <th>Time</th>\n",
       "    </tr>\n",
       "  </thead>\n",
       "  <tbody>\n",
       "    <tr>\n",
       "      <th>31</th>\n",
       "      <td>0</td>\n",
       "      <td>3186</td>\n",
       "      <td>2000-12-31 22:00:19</td>\n",
       "    </tr>\n",
       "    <tr>\n",
       "      <th>22</th>\n",
       "      <td>0</td>\n",
       "      <td>1270</td>\n",
       "      <td>2000-12-31 22:00:55</td>\n",
       "    </tr>\n",
       "    <tr>\n",
       "      <th>27</th>\n",
       "      <td>0</td>\n",
       "      <td>1721</td>\n",
       "      <td>2000-12-31 22:00:55</td>\n",
       "    </tr>\n",
       "    <tr>\n",
       "      <th>37</th>\n",
       "      <td>0</td>\n",
       "      <td>1022</td>\n",
       "      <td>2000-12-31 22:00:55</td>\n",
       "    </tr>\n",
       "    <tr>\n",
       "      <th>7</th>\n",
       "      <td>4</td>\n",
       "      <td>2804</td>\n",
       "      <td>2000-12-31 22:11:59</td>\n",
       "    </tr>\n",
       "    <tr>\n",
       "      <th>...</th>\n",
       "      <td>...</td>\n",
       "      <td>...</td>\n",
       "      <td>...</td>\n",
       "    </tr>\n",
       "    <tr>\n",
       "      <th>1000119</th>\n",
       "      <td>265477</td>\n",
       "      <td>3671</td>\n",
       "      <td>2001-08-10 14:39:27</td>\n",
       "    </tr>\n",
       "    <tr>\n",
       "      <th>999923</th>\n",
       "      <td>265477</td>\n",
       "      <td>232</td>\n",
       "      <td>2001-08-10 14:39:58</td>\n",
       "    </tr>\n",
       "    <tr>\n",
       "      <th>999988</th>\n",
       "      <td>265479</td>\n",
       "      <td>1921</td>\n",
       "      <td>2001-08-10 14:41:04</td>\n",
       "    </tr>\n",
       "    <tr>\n",
       "      <th>1000172</th>\n",
       "      <td>265479</td>\n",
       "      <td>1784</td>\n",
       "      <td>2001-08-10 14:41:04</td>\n",
       "    </tr>\n",
       "    <tr>\n",
       "      <th>1000167</th>\n",
       "      <td>265479</td>\n",
       "      <td>161</td>\n",
       "      <td>2001-08-10 14:41:26</td>\n",
       "    </tr>\n",
       "  </tbody>\n",
       "</table>\n",
       "<p>748494 rows × 3 columns</p>\n",
       "</div>"
      ],
      "text/plain": [
       "         SessionId  ItemId                Time\n",
       "31               0    3186 2000-12-31 22:00:19\n",
       "22               0    1270 2000-12-31 22:00:55\n",
       "27               0    1721 2000-12-31 22:00:55\n",
       "37               0    1022 2000-12-31 22:00:55\n",
       "7                4    2804 2000-12-31 22:11:59\n",
       "...            ...     ...                 ...\n",
       "1000119     265477    3671 2001-08-10 14:39:27\n",
       "999923      265477     232 2001-08-10 14:39:58\n",
       "999988      265479    1921 2001-08-10 14:41:04\n",
       "1000172     265479    1784 2001-08-10 14:41:04\n",
       "1000167     265479     161 2001-08-10 14:41:26\n",
       "\n",
       "[748494 rows x 3 columns]"
      ]
     },
     "execution_count": 78,
     "metadata": {},
     "output_type": "execute_result"
    }
   ],
   "source": [
    "# train은 3달 이전의 모든 데이터\n",
    "train_begin = latest - dt.timedelta(90)\n",
    "train = data3[data3['Time'] < train_begin]\n",
    "train"
   ]
  },
  {
   "cell_type": "code",
   "execution_count": 79,
   "metadata": {
    "colab": {
     "base_uri": "https://localhost:8080/",
     "height": 419
    },
    "id": "2Os4KUb1d1DV",
    "outputId": "62fd6454-11b7-4d16-f431-edb41a503ded"
   },
   "outputs": [
    {
     "data": {
      "text/html": [
       "<div>\n",
       "<style scoped>\n",
       "    .dataframe tbody tr th:only-of-type {\n",
       "        vertical-align: middle;\n",
       "    }\n",
       "\n",
       "    .dataframe tbody tr th {\n",
       "        vertical-align: top;\n",
       "    }\n",
       "\n",
       "    .dataframe thead th {\n",
       "        text-align: right;\n",
       "    }\n",
       "</style>\n",
       "<table border=\"1\" class=\"dataframe\">\n",
       "  <thead>\n",
       "    <tr style=\"text-align: right;\">\n",
       "      <th></th>\n",
       "      <th>SessionId</th>\n",
       "      <th>ItemId</th>\n",
       "      <th>Time</th>\n",
       "    </tr>\n",
       "  </thead>\n",
       "  <tbody>\n",
       "    <tr>\n",
       "      <th>5200</th>\n",
       "      <td>1499</td>\n",
       "      <td>2269</td>\n",
       "      <td>2002-12-22 08:05:50</td>\n",
       "    </tr>\n",
       "    <tr>\n",
       "      <th>5256</th>\n",
       "      <td>1499</td>\n",
       "      <td>1701</td>\n",
       "      <td>2002-12-22 08:05:50</td>\n",
       "    </tr>\n",
       "    <tr>\n",
       "      <th>5184</th>\n",
       "      <td>1500</td>\n",
       "      <td>2694</td>\n",
       "      <td>2002-12-22 08:08:14</td>\n",
       "    </tr>\n",
       "    <tr>\n",
       "      <th>5364</th>\n",
       "      <td>1500</td>\n",
       "      <td>3786</td>\n",
       "      <td>2002-12-22 08:08:41</td>\n",
       "    </tr>\n",
       "    <tr>\n",
       "      <th>5062</th>\n",
       "      <td>1505</td>\n",
       "      <td>1266</td>\n",
       "      <td>2002-12-22 08:18:29</td>\n",
       "    </tr>\n",
       "    <tr>\n",
       "      <th>...</th>\n",
       "      <td>...</td>\n",
       "      <td>...</td>\n",
       "      <td>...</td>\n",
       "    </tr>\n",
       "    <tr>\n",
       "      <th>974333</th>\n",
       "      <td>259298</td>\n",
       "      <td>2140</td>\n",
       "      <td>2003-01-28 20:14:44</td>\n",
       "    </tr>\n",
       "    <tr>\n",
       "      <th>974582</th>\n",
       "      <td>259299</td>\n",
       "      <td>2639</td>\n",
       "      <td>2003-01-28 20:15:05</td>\n",
       "    </tr>\n",
       "    <tr>\n",
       "      <th>974368</th>\n",
       "      <td>259299</td>\n",
       "      <td>3138</td>\n",
       "      <td>2003-01-28 20:15:33</td>\n",
       "    </tr>\n",
       "    <tr>\n",
       "      <th>974210</th>\n",
       "      <td>259301</td>\n",
       "      <td>2413</td>\n",
       "      <td>2003-01-28 20:17:48</td>\n",
       "    </tr>\n",
       "    <tr>\n",
       "      <th>974716</th>\n",
       "      <td>259301</td>\n",
       "      <td>3704</td>\n",
       "      <td>2003-01-28 20:17:48</td>\n",
       "    </tr>\n",
       "  </tbody>\n",
       "</table>\n",
       "<p>1556 rows × 3 columns</p>\n",
       "</div>"
      ],
      "text/plain": [
       "        SessionId  ItemId                Time\n",
       "5200         1499    2269 2002-12-22 08:05:50\n",
       "5256         1499    1701 2002-12-22 08:05:50\n",
       "5184         1500    2694 2002-12-22 08:08:14\n",
       "5364         1500    3786 2002-12-22 08:08:41\n",
       "5062         1505    1266 2002-12-22 08:18:29\n",
       "...           ...     ...                 ...\n",
       "974333     259298    2140 2003-01-28 20:14:44\n",
       "974582     259299    2639 2003-01-28 20:15:05\n",
       "974368     259299    3138 2003-01-28 20:15:33\n",
       "974210     259301    2413 2003-01-28 20:17:48\n",
       "974716     259301    3704 2003-01-28 20:17:48\n",
       "\n",
       "[1556 rows x 3 columns]"
      ]
     },
     "execution_count": 79,
     "metadata": {},
     "output_type": "execute_result"
    }
   ],
   "source": [
    "# valid는 train과 test 데이터 사이의 모든 데이터\n",
    "valid_condition = (data3['Time'] > train_begin) & (data3['Time'] < test_begin)\n",
    "valid = data3[valid_condition]\n",
    "valid"
   ]
  },
  {
   "cell_type": "code",
   "execution_count": 80,
   "metadata": {
    "colab": {
     "base_uri": "https://localhost:8080/"
    },
    "id": "CxIlnPwSeeWg",
    "outputId": "f70252da-2b37-4b39-a450-44993af90b44"
   },
   "outputs": [
    {
     "name": "stdout",
     "output_type": "stream",
     "text": [
      "* train Set Stats Info\n",
      "\t Events: 748494\n",
      "\t Sessions: 181297\n",
      "\t Items: 3032\n",
      "\t First Time : 2000-04-25 23:05:32\n",
      "\t Last Time : 2002-11-30 13:47:32\n",
      "\n",
      "* valid Set Stats Info\n",
      "\t Events: 1556\n",
      "\t Sessions: 500\n",
      "\t Items: 928\n",
      "\t First Time : 2002-12-01 04:52:11\n",
      "\t Last Time : 2003-01-29 00:11:54\n",
      "\n",
      "* test Set Stats Info\n",
      "\t Events: 855\n",
      "\t Sessions: 253\n",
      "\t Items: 637\n",
      "\t First Time : 2003-01-29 19:37:31\n",
      "\t Last Time : 2003-02-28 17:49:50\n",
      "\n"
     ]
    }
   ],
   "source": [
    "stats_info(train, 'train')\n",
    "stats_info(valid, 'valid')\n",
    "stats_info(test, 'test')"
   ]
  },
  {
   "cell_type": "code",
   "execution_count": 81,
   "metadata": {
    "id": "6xO5ii0Geggf"
   },
   "outputs": [],
   "source": [
    "train = indexing(train, id2idx)\n",
    "valid = indexing(valid, id2idx)\n",
    "test = indexing(test, id2idx)"
   ]
  },
  {
   "cell_type": "code",
   "execution_count": 82,
   "metadata": {
    "id": "drHbL6H3eiUz"
   },
   "outputs": [],
   "source": [
    "# 하이퍼 파라미터는 가장 좋은 결과가 나왔던 것으로 설정한다\n",
    "args = Args(train, valid, test, batch_size=32, hsz=64, drop_rate=0.1, lr=0.001, epochs=10, k=20)"
   ]
  },
  {
   "cell_type": "code",
   "execution_count": 83,
   "metadata": {
    "colab": {
     "base_uri": "https://localhost:8080/"
    },
    "id": "1AXB1r_uevWH",
    "outputId": "8c397d87-0a5a-4444-c8f0-0ae6cec8675d"
   },
   "outputs": [
    {
     "name": "stdout",
     "output_type": "stream",
     "text": [
      "Model: \"model_5\"\n",
      "_________________________________________________________________\n",
      " Layer (type)                Output Shape              Param #   \n",
      "=================================================================\n",
      " input_6 (InputLayer)        [(32, 1, 3032)]           0         \n",
      "                                                                 \n",
      " GRU (GRU)                   [(32, 64),                594816    \n",
      "                              (32, 64)]                          \n",
      "                                                                 \n",
      " dropout_5 (Dropout)         (32, 64)                  0         \n",
      "                                                                 \n",
      " dense_5 (Dense)             (32, 3032)                197080    \n",
      "                                                                 \n",
      "=================================================================\n",
      "Total params: 791,896\n",
      "Trainable params: 791,896\n",
      "Non-trainable params: 0\n",
      "_________________________________________________________________\n"
     ]
    }
   ],
   "source": [
    "model = create_model(args)"
   ]
  },
  {
   "cell_type": "code",
   "execution_count": 84,
   "metadata": {
    "colab": {
     "base_uri": "https://localhost:8080/"
    },
    "id": "wVh3vm-uewnu",
    "outputId": "e4ef7e87-0f3b-4155-997b-56d1c2581efa"
   },
   "outputs": [
    {
     "name": "stderr",
     "output_type": "stream",
     "text": [
      "Train: 100%|███████████████████████████████████| 17724/17724 [04:15<00:00, 69.36it/s, accuracy=0.0312, train_loss=7.12]\n",
      "Evaluation:  94%|█████████████████████████████████████████████████████████████████▊    | 31/33 [00:05<00:00,  6.11it/s]\n"
     ]
    },
    {
     "name": "stdout",
     "output_type": "stream",
     "text": [
      "\t - Recall@20 epoch 1: 0.201613\n",
      "\t - MRR@20    epoch 1: 0.063914\n",
      "\n"
     ]
    },
    {
     "name": "stderr",
     "output_type": "stream",
     "text": [
      "Train: 100%|███████████████████████████████████| 17724/17724 [03:57<00:00, 74.64it/s, accuracy=0.0625, train_loss=7.15]\n",
      "Evaluation:  94%|█████████████████████████████████████████████████████████████████▊    | 31/33 [00:05<00:00,  6.17it/s]\n"
     ]
    },
    {
     "name": "stdout",
     "output_type": "stream",
     "text": [
      "\t - Recall@20 epoch 2: 0.239919\n",
      "\t - MRR@20    epoch 2: 0.080767\n",
      "\n"
     ]
    },
    {
     "name": "stderr",
     "output_type": "stream",
     "text": [
      "Train: 100%|████████████████████████████████████| 17724/17724 [03:43<00:00, 79.30it/s, accuracy=0.0312, train_loss=7.1]\n",
      "Evaluation:  94%|█████████████████████████████████████████████████████████████████▊    | 31/33 [00:04<00:00,  6.87it/s]\n"
     ]
    },
    {
     "name": "stdout",
     "output_type": "stream",
     "text": [
      "\t - Recall@20 epoch 3: 0.253024\n",
      "\t - MRR@20    epoch 3: 0.085202\n",
      "\n"
     ]
    },
    {
     "name": "stderr",
     "output_type": "stream",
     "text": [
      "Train: 100%|████████████████████████████████████| 17724/17724 [03:33<00:00, 83.21it/s, accuracy=0.0312, train_loss=7.1]\n",
      "Evaluation:  94%|█████████████████████████████████████████████████████████████████▊    | 31/33 [00:04<00:00,  6.57it/s]\n"
     ]
    },
    {
     "name": "stdout",
     "output_type": "stream",
     "text": [
      "\t - Recall@20 epoch 4: 0.252016\n",
      "\t - MRR@20    epoch 4: 0.085237\n",
      "\n"
     ]
    },
    {
     "name": "stderr",
     "output_type": "stream",
     "text": [
      "Train: 100%|███████████████████████████████████| 17724/17724 [03:12<00:00, 92.18it/s, accuracy=0.0625, train_loss=7.06]\n",
      "Evaluation:  94%|█████████████████████████████████████████████████████████████████▊    | 31/33 [00:04<00:00,  6.98it/s]\n"
     ]
    },
    {
     "name": "stdout",
     "output_type": "stream",
     "text": [
      "\t - Recall@20 epoch 5: 0.252016\n",
      "\t - MRR@20    epoch 5: 0.084126\n",
      "\n"
     ]
    },
    {
     "name": "stderr",
     "output_type": "stream",
     "text": [
      "Train: 100%|███████████████████████████████████| 17724/17724 [03:24<00:00, 86.67it/s, accuracy=0.0312, train_loss=6.98]\n",
      "Evaluation:  94%|█████████████████████████████████████████████████████████████████▊    | 31/33 [00:04<00:00,  6.31it/s]\n"
     ]
    },
    {
     "name": "stdout",
     "output_type": "stream",
     "text": [
      "\t - Recall@20 epoch 6: 0.244960\n",
      "\t - MRR@20    epoch 6: 0.082231\n",
      "\n"
     ]
    },
    {
     "name": "stderr",
     "output_type": "stream",
     "text": [
      "Train: 100%|███████████████████████████████████| 17724/17724 [03:46<00:00, 78.40it/s, accuracy=0.0312, train_loss=7.02]\n",
      "Evaluation:  94%|█████████████████████████████████████████████████████████████████▊    | 31/33 [00:04<00:00,  6.43it/s]\n"
     ]
    },
    {
     "name": "stdout",
     "output_type": "stream",
     "text": [
      "\t - Recall@20 epoch 7: 0.244960\n",
      "\t - MRR@20    epoch 7: 0.084562\n",
      "\n"
     ]
    },
    {
     "name": "stderr",
     "output_type": "stream",
     "text": [
      "Train: 100%|███████████████████████████████████| 17724/17724 [03:45<00:00, 78.65it/s, accuracy=0.0312, train_loss=6.92]\n",
      "Evaluation:  94%|█████████████████████████████████████████████████████████████████▊    | 31/33 [00:04<00:00,  6.39it/s]\n"
     ]
    },
    {
     "name": "stdout",
     "output_type": "stream",
     "text": [
      "\t - Recall@20 epoch 8: 0.248992\n",
      "\t - MRR@20    epoch 8: 0.083001\n",
      "\n"
     ]
    },
    {
     "name": "stderr",
     "output_type": "stream",
     "text": [
      "Train: 100%|███████████████████████████████████| 17724/17724 [03:47<00:00, 77.93it/s, accuracy=0.0312, train_loss=6.93]\n",
      "Evaluation:  94%|█████████████████████████████████████████████████████████████████▊    | 31/33 [00:04<00:00,  6.31it/s]\n"
     ]
    },
    {
     "name": "stdout",
     "output_type": "stream",
     "text": [
      "\t - Recall@20 epoch 9: 0.248992\n",
      "\t - MRR@20    epoch 9: 0.082130\n",
      "\n"
     ]
    },
    {
     "name": "stderr",
     "output_type": "stream",
     "text": [
      "Train: 100%|███████████████████████████████████| 17724/17724 [03:51<00:00, 76.51it/s, accuracy=0.0312, train_loss=6.83]\n",
      "Evaluation:  94%|█████████████████████████████████████████████████████████████████▊    | 31/33 [00:04<00:00,  6.33it/s]"
     ]
    },
    {
     "name": "stdout",
     "output_type": "stream",
     "text": [
      "\t - Recall@20 epoch 10: 0.247984\n",
      "\t - MRR@20    epoch 10: 0.081663\n",
      "\n"
     ]
    },
    {
     "name": "stderr",
     "output_type": "stream",
     "text": [
      "\n"
     ]
    }
   ],
   "source": [
    "train_model(model, args)"
   ]
  },
  {
   "cell_type": "code",
   "execution_count": 85,
   "metadata": {
    "colab": {
     "base_uri": "https://localhost:8080/"
    },
    "id": "ycPpVcoieyca",
    "outputId": "dcc36d63-0beb-4c52-8835-4c00253977e7"
   },
   "outputs": [
    {
     "name": "stderr",
     "output_type": "stream",
     "text": [
      "Evaluation: 100%|██████████████████████████████████████████████████████████████████████| 18/18 [00:03<00:00,  5.84it/s]"
     ]
    },
    {
     "name": "stdout",
     "output_type": "stream",
     "text": [
      "\n",
      "\t - Recall@20: 0.211806\n",
      "\t - MRR@20: 0.061563\n",
      "\n"
     ]
    },
    {
     "name": "stderr",
     "output_type": "stream",
     "text": [
      "\n"
     ]
    }
   ],
   "source": [
    "test_model(model, args, test)\n"
   ]
  },
  {
   "cell_type": "markdown",
   "metadata": {
    "id": "3knWQxBPumWF"
   },
   "source": [
    "- 초에서 분 단위로 세션 단위를 바꿨는데 `Recall@20`이 0.03정도 떨어졌다."
   ]
  },
  {
   "cell_type": "code",
   "execution_count": 86,
   "id": "infrared-wireless",
   "metadata": {},
   "outputs": [
    {
     "name": "stdout",
     "output_type": "stream",
     "text": [
      "총 작업 소요 시간은 약 10407초입니다.\n"
     ]
    }
   ],
   "source": [
    "end_time = time.time()\n",
    "work_time = round(end_time - start_time)\n",
    "print(f'총 작업 소요 시간은 약 {work_time}초입니다.')"
   ]
  },
  {
   "cell_type": "markdown",
   "metadata": {
    "id": "VnPOCNIpo_vl"
   },
   "source": [
    "# 결과\n",
    "\n",
    "### 전처리 내용\n",
    " \n",
    "- 시간의 전처리\n",
    "    - 데이터를 보면 과거 3년간의 데이터가 있는데 초반에 평점 매긴 것이 몰려있는 것을 확인할 수 있다. 이 때 시기는 2000년대 초반으로 스트리밍 서비스가 없을 때이다. \n",
    "    - 즉, 스트리밍 서비스에서 실시간으로 평점을 매긴 것이 아닌 비디오 대여 혹은 단순 평점 서비스가 오픈과 동시에 사람들이 그동안 봐왔던 영화를 평가를 한꺼번에 매긴 것이라 추측된다. 따라서 매우 짧은 초 단위의 세션을 그대로 인정하였다.      \n",
    "    - 또한 비디오가 실시간으로 쏟아져 나오던 시기가 아니기에 3년 여간의 모든 데이터를 사용하는 것이 맞다고 판단되었다.\n",
    "- 3점 미만 데이터 삭제\n",
    "    - 추천 목록에서 평점이 안 좋은 데이터는 추천하는 것이 의미 없다고 생각되어 삭제해주었다.\n",
    "- Train/Valid/Test 셋 나누기\n",
    "    - 가장 최근의 유저의 평점을 예측하는 것이 맞다고 생각되어 Test 셋은 시간은 시간상 가장 최근의 것으로 하였다.\n",
    "    \n",
    "    * 에폭의 변경은 그렇게 큰 영향을 주지 못했다.\n",
    "* cross-entropy loss 보다는 pairwise ranking based loss를 사용하는 것이 더 성능이 좋다고 한다.\n",
    "* 사실 loss function으로는 BPR loss를 선택하는 것이 최선이지만 함수를 불러오려면 따로 구현해야한다.\n",
    "* 추천 모델 성능 평가를 위한 지표로는 Recall과 MRR을 사용하는 것이 일반적이다.\n",
    "* recall을 구할 때는 k 값을 점점 크게 주면서 값을 비교하는 것이 좋다.\n",
    "\n",
    "\n",
    "### 테스트 내용\n",
    "\n",
    "다음과 같은 변화를 주면서 테스트를 해보았다.\n",
    "- 데이터 범위 설정 : 1년, 2년, 전체\n",
    "- 세션 정의: 초단위, 분단위\n",
    "- 하이퍼파라미터(hsz, drop_rate, learing rate, 배치 사이즈)\n",
    "\n",
    "실험 결과 **전체 데이터로, 초단위의 세션**을 학습 시킨 것이 `Recall@20` 기준으로 0.24 수치를 보이며 가장 좋은 성능을 보였다.\n",
    "\n",
    "데이터의 전처리(3점 미만 삭제)와 세션을 어떻게 정의하는지에 따라 성능 차이를 많이 보였고, 하이퍼파라미터의 수정은 성능에 큰 영향을 끼치지는 못하였다.\n",
    "\n",
    "\n",
    "### `Recall@20`은 어느 정도 높아야 좋은 것인가?\n",
    "최종적으로 `Recall@20`의 가장 좋은 수치가 0.24 정도 나왔는데 이 수치가 어느 정도 좋아야 좋은 모델이라고 말할 수 있는가 의문이 들었다. \n",
    "\n",
    "이 수치가 의미하는 바는 20개의 추천을 하면 그 중 몇 개가 들어맞냐는 것인데 실제 추천 서비스(스팀, 넷플릭스, 스포티파이 등)을 생각해보면 추천 받은 것이 20여 개가 있다면 1~2개 정도 있는 것 같았다.\n",
    "\n",
    "이는 대략 모델 결과인 `Recall@20` 0.24와 어느정도 일치하는 것 같은데 이게 정답이라고는 말할 수 없는게 말 그대로 취향 차이기 떄문에 어느 정도는 높게 나오되 한계는 분명히 있을 것이라 생각된다.\n",
    "\n",
    "\n",
    "### 그렇다면 실제 서비스에서는 어떤 식으로 추천 시스템을 구축해야 할 것인가?\n",
    "어떤 아이템을 다루는지가 가장 중요할 것이라 생각된다. \n",
    "\n",
    "영화 스트리밍 서비스, 음식과 같이 유행에 민감한 아이템이라면 세션 기간을 짧게 가져가는 것이 좋을 것 같고, 책이나 게임 플랫폼 서비스와 같이 유행도 어느정도 따르지만 예전의 것도 꾸준히 판매되는 경우는 세션 기간을 이보다 길게 가져가고, 단순히 세션보다는 장르나 다른 특성을 도입하여 복합적인 추천 시스템을 구축하는 것이 좋을 것이라 생각된다. \n",
    "\n",
    "\n",
    "\n",
    "\n"
   ]
  },
  {
   "cell_type": "markdown",
   "metadata": {
    "id": "eFVpTaK9w7I9"
   },
   "source": [
    "# 회고\n",
    "\n",
    "추천 시스템은 언제나 애매하고 어려운 것 같다. 단순히 성능 지표가 아닌 여러 복합적인 문제를 생각해봐야 하기 때문이다. \n",
    "\n",
    "\n",
    "- 세션 기반 추천 시스템.... 노드만들려면 똑바로 만들자 .. ? \n",
    "\n",
    "- 코드의 베이스가 다른 사람의 것이라서 많은 수정과 실험을 못한 점\n",
    "- 데이터 자체가 세셔 기반이 아니라 억지로 세션 아이디를 만들어서 진행한 점"
   ]
  },
  {
   "cell_type": "markdown",
   "id": "understanding-state",
   "metadata": {},
   "source": [
    "Precision보다 Recall 지표를 비교해보면   \n",
    "* precision = 실제로 추천한 영화 중 사용자가 선호하는 영화를 얼마나 추천해주었는가\n",
    "* recall = 사용자가 선호하는 영화를 얼마나 맞췄는가\n",
    "\n",
    "인데, Recall 지표를 사용하는 이유는 사용자 입장에서 __좋아하는 영화를 추천 안해주는 것 보다는 싫어하는 영화를 계속 추천해주는게 더 싫어서__ 가 아닐까 싶습니다.\n",
    "\n",
    "알게된 사실과는 다르게 loss를 바꿨더니 성능이 매우 안좋게 나오기도 했습니다..   \n",
    "세 모델 모두 recall값이 크지 않아 좋은 모델 결과를 얻었다고 할 수는 없지만, 프로젝트 과정에서 여러 논문도 참고하고 평가 지표에 대해 고민도 하고 많이 배울 수 있었습니다. "
   ]
  }
 ],
 "metadata": {
  "accelerator": "GPU",
  "colab": {
   "authorship_tag": "ABX9TyPf5SESJ92wVdHC4sfDnu3E",
   "include_colab_link": true,
   "machine_shape": "hm",
   "name": "Untitled99.ipynb",
   "provenance": [],
   "toc_visible": true
  },
  "kernelspec": {
   "display_name": "Python 3 (ipykernel)",
   "language": "python",
   "name": "python3"
  },
  "language_info": {
   "codemirror_mode": {
    "name": "ipython",
    "version": 3
   },
   "file_extension": ".py",
   "mimetype": "text/x-python",
   "name": "python",
   "nbconvert_exporter": "python",
   "pygments_lexer": "ipython3",
   "version": "3.9.7"
  }
 },
 "nbformat": 4,
 "nbformat_minor": 1
}
