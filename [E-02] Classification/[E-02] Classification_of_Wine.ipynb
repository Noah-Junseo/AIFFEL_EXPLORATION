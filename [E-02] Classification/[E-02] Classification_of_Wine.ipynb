{
 "cells": [
  {
   "cell_type": "markdown",
   "id": "ebcef8dd",
   "metadata": {},
   "source": [
    "# 와인 분류\n",
    "- 솔직히 말하면 정확히 무슨 데이터인지 감이 안온다.\n",
    "- 아마도 와인등급을 상 중 하 로 구분한 것 같다.\n",
    "- 이때 가장 손해인 것은 상으로 분류되어야 할 와인이 중이나 하로 분류되는 것이다..."
   ]
  },
  {
   "cell_type": "markdown",
   "id": "12d40154",
   "metadata": {},
   "source": [
    "### Precision 이 중요하다 (Recall인가?)\n",
    "- 정확도(Accuracy) : 전체 예측 중 정답을 맞춘 비율\n",
    "- 재현율(Recall) : 실제 정답 중 정답으로 예측된 비율\n",
    "- 정밀도(Precision) : 예측 중에서 실제 정답인 비율\n",
    "- F1 score : 재현율과 정밀도의 조화평균 (재현율*정밀도 / 재현율+정밀도)"
   ]
  },
  {
   "cell_type": "code",
   "execution_count": 1,
   "id": "5c2051db",
   "metadata": {},
   "outputs": [],
   "source": [
    "# 모듈 improt \n",
    "from sklearn.datasets import load_wine\n",
    "from sklearn.model_selection import train_test_split\n",
    "from sklearn.metrics import classification_report\n",
    "\n",
    "wine = load_wine()\n",
    "wine_data = wine.data\n",
    "wine_label = wine.target"
   ]
  },
  {
   "cell_type": "markdown",
   "id": "df0ec4b7",
   "metadata": {},
   "source": [
    "- load_wine() 메소드를 이용하여 변수 wine에 데이터를 할당\n",
    "- wine_data에 Feature data 할당\n",
    "- wine_label에 Label data 할당 (target)"
   ]
  },
  {
   "cell_type": "code",
   "execution_count": 3,
   "id": "1785658e",
   "metadata": {},
   "outputs": [
    {
     "name": "stdout",
     "output_type": "stream",
     "text": [
      "(178, 13)\n",
      "(178,)\n",
      "['class_0' 'class_1' 'class_2']\n",
      "\n",
      "요기서부터는 데이터 요약 정리 내용입니다.\n",
      ".. _wine_dataset:\n",
      "\n",
      "Wine recognition dataset\n",
      "------------------------\n",
      "\n",
      "**Data Set Characteristics:**\n",
      "\n",
      "    :Number of Instances: 178 (50 in each of three classes)\n",
      "    :Number of Attributes: 13 numeric, predictive attributes and the class\n",
      "    :Attribute Information:\n",
      " \t\t- Alcohol\n",
      " \t\t- Malic acid\n",
      " \t\t- Ash\n",
      "\t\t- Alcalinity of ash  \n",
      " \t\t- Magnesium\n",
      "\t\t- Total phenols\n",
      " \t\t- Flavanoids\n",
      " \t\t- Nonflavanoid phenols\n",
      " \t\t- Proanthocyanins\n",
      "\t\t- Color intensity\n",
      " \t\t- Hue\n",
      " \t\t- OD280/OD315 of diluted wines\n",
      " \t\t- Proline\n",
      "\n",
      "    - class:\n",
      "            - class_0\n",
      "            - class_1\n",
      "            - class_2\n",
      "\t\t\n",
      "    :Summary Statistics:\n",
      "    \n",
      "    ============================= ==== ===== ======= =====\n",
      "                                   Min   Max   Mean     SD\n",
      "    ============================= ==== ===== ======= =====\n",
      "    Alcohol:                      11.0  14.8    13.0   0.8\n",
      "    Malic Acid:                   0.74  5.80    2.34  1.12\n",
      "    Ash:                          1.36  3.23    2.36  0.27\n",
      "    Alcalinity of Ash:            10.6  30.0    19.5   3.3\n",
      "    Magnesium:                    70.0 162.0    99.7  14.3\n",
      "    Total Phenols:                0.98  3.88    2.29  0.63\n",
      "    Flavanoids:                   0.34  5.08    2.03  1.00\n",
      "    Nonflavanoid Phenols:         0.13  0.66    0.36  0.12\n",
      "    Proanthocyanins:              0.41  3.58    1.59  0.57\n",
      "    Colour Intensity:              1.3  13.0     5.1   2.3\n",
      "    Hue:                          0.48  1.71    0.96  0.23\n",
      "    OD280/OD315 of diluted wines: 1.27  4.00    2.61  0.71\n",
      "    Proline:                       278  1680     746   315\n",
      "    ============================= ==== ===== ======= =====\n",
      "\n",
      "    :Missing Attribute Values: None\n",
      "    :Class Distribution: class_0 (59), class_1 (71), class_2 (48)\n",
      "    :Creator: R.A. Fisher\n",
      "    :Donor: Michael Marshall (MARSHALL%PLU@io.arc.nasa.gov)\n",
      "    :Date: July, 1988\n",
      "\n",
      "This is a copy of UCI ML Wine recognition datasets.\n",
      "https://archive.ics.uci.edu/ml/machine-learning-databases/wine/wine.data\n",
      "\n",
      "The data is the results of a chemical analysis of wines grown in the same\n",
      "region in Italy by three different cultivators. There are thirteen different\n",
      "measurements taken for different constituents found in the three types of\n",
      "wine.\n",
      "\n",
      "Original Owners: \n",
      "\n",
      "Forina, M. et al, PARVUS - \n",
      "An Extendible Package for Data Exploration, Classification and Correlation. \n",
      "Institute of Pharmaceutical and Food Analysis and Technologies,\n",
      "Via Brigata Salerno, 16147 Genoa, Italy.\n",
      "\n",
      "Citation:\n",
      "\n",
      "Lichman, M. (2013). UCI Machine Learning Repository\n",
      "[https://archive.ics.uci.edu/ml]. Irvine, CA: University of California,\n",
      "School of Information and Computer Science. \n",
      "\n",
      ".. topic:: References\n",
      "\n",
      "  (1) S. Aeberhard, D. Coomans and O. de Vel, \n",
      "  Comparison of Classifiers in High Dimensional Settings, \n",
      "  Tech. Rep. no. 92-02, (1992), Dept. of Computer Science and Dept. of  \n",
      "  Mathematics and Statistics, James Cook University of North Queensland. \n",
      "  (Also submitted to Technometrics). \n",
      "\n",
      "  The data was used with many others for comparing various \n",
      "  classifiers. The classes are separable, though only RDA \n",
      "  has achieved 100% correct classification. \n",
      "  (RDA : 100%, QDA 99.4%, LDA 98.9%, 1NN 96.1% (z-transformed data)) \n",
      "  (All results using the leave-one-out technique) \n",
      "\n",
      "  (2) S. Aeberhard, D. Coomans and O. de Vel, \n",
      "  \"THE CLASSIFICATION PERFORMANCE OF RDA\" \n",
      "  Tech. Rep. no. 92-01, (1992), Dept. of Computer Science and Dept. of \n",
      "  Mathematics and Statistics, James Cook University of North Queensland. \n",
      "  (Also submitted to Journal of Chemometrics).\n",
      "\n"
     ]
    }
   ],
   "source": [
    "# 데이터 이해하기 \n",
    "\n",
    "# Feature Data 지정하기\n",
    "# Label Data 지정하기\n",
    "# Target Names 출력해 보기\n",
    "# 데이터 Describe 해 보기\n",
    "\n",
    "wine_data = wine.data\n",
    "print(wine_data.shape) # 1797개 데이터, 8x8=64의 픽셀값\n",
    "\n",
    "wine_label = wine.target # 1797개 데이터에 대한 정답\n",
    "print(wine_label.shape) # 정답이니까 당연히 하나\n",
    "\n",
    "print(wine.target_names) # 정답값으로 어떤 것들이 있는지에 대한 탐색\n",
    "\n",
    "print()\n",
    "print(\"요기서부터는 데이터 요약 정리 내용입니다.\")\n",
    "\n",
    "print(wine.DESCR) # 데이터 간단요약정리!"
   ]
  },
  {
   "cell_type": "markdown",
   "id": "d553fc6d",
   "metadata": {},
   "source": [
    "- wine_data에 저장된 데이터 양과 형식을 확인\n",
    "- 178개의 wine 데이터가 저장되어 있음을 확인\n",
    "- feature는 총 13개\n",
    "- wine_label에 저장된 데이터 양과 형식을 확인\n",
    "- 178개의 데이터가 저장되어 있음을 확인\n",
    "- 저장된 label은 class 0, 1, 2의 세 가지 카테고리로 확인"
   ]
  },
  {
   "cell_type": "markdown",
   "id": "3723b0f7",
   "metadata": {},
   "source": [
    "# 데이터셋 나누기"
   ]
  },
  {
   "cell_type": "markdown",
   "id": "f842c249",
   "metadata": {},
   "source": [
    "- wine 데이터 셋을 학습용 데이터와 테스트용 데이터로 분리\n",
    "- test 데이터 셋의 크기는 전체 데이터셋의 20%\n",
    "- 즉, 178개의 데이터 셋 중에서 학습용 데이터는 142개, 테스트용 데이터는 36개\n",
    "- 기존에 정렬된 데이터를 랜덤으로 섞어서 train set과 test set으로 분리"
   ]
  },
  {
   "cell_type": "code",
   "execution_count": 5,
   "id": "5f317101",
   "metadata": {},
   "outputs": [
    {
     "name": "stdout",
     "output_type": "stream",
     "text": [
      "number of X_train: 142 number of X_test: 36\n",
      "(142, 13) (142,)\n",
      "(36, 13) (36,)\n"
     ]
    }
   ],
   "source": [
    "# train, test 데이터 분리\n",
    "\n",
    "X_train, X_test, y_train, y_test = train_test_split(wine_data,\n",
    "                                                   wine_label,\n",
    "                                                   test_size=0.2,\n",
    "                                                   random_state=7)\n",
    "\n",
    "print('number of X_train:', len(X_train), 'number of X_test:', len(X_test))\n",
    "print(X_train.shape, y_train.shape)\n",
    "print(X_test.shape, y_test.shape)"
   ]
  },
  {
   "cell_type": "markdown",
   "id": "b992e6d1",
   "metadata": {},
   "source": [
    "# 모델 학습 및 평가"
   ]
  },
  {
   "cell_type": "code",
   "execution_count": 6,
   "id": "17512533",
   "metadata": {},
   "outputs": [
    {
     "name": "stdout",
     "output_type": "stream",
     "text": [
      "[2 0 2 2 1 2 1 0 1 1 0 1 1 1 1 1 1 2 0 0 1 1 1 1 0 2 1 2 2 2 1 0 2 1 1 1]\n",
      "[2 0 2 2 1 2 1 0 1 2 0 1 2 1 1 1 1 2 0 0 1 1 1 1 0 2 1 2 2 2 1 0 2 1 1 1]\n",
      "이렇게 보니까 너무 구려요!! 그럼 어떻게? ==> 정확도와 report는 따로 출력해봅시다\n",
      "\n",
      "\n",
      "\n",
      "정확도 : 0.9444444444444444\n",
      "\n",
      "\n",
      "\n",
      "Classification report 입니다\n",
      "              precision    recall  f1-score   support\n",
      "\n",
      "           0       1.00      1.00      1.00         7\n",
      "           1       0.89      1.00      0.94        17\n",
      "           2       1.00      0.83      0.91        12\n",
      "\n",
      "    accuracy                           0.94        36\n",
      "   macro avg       0.96      0.94      0.95        36\n",
      "weighted avg       0.95      0.94      0.94        36\n",
      "\n"
     ]
    }
   ],
   "source": [
    "# Decision Tree 사용해 보기\n",
    "from sklearn.tree import DecisionTreeClassifier\n",
    "\n",
    "# 의사결정트리 정의 및 학습!\n",
    "decision_tree = DecisionTreeClassifier(random_state=32)\n",
    "decision_tree.fit(X_train, y_train)\n",
    "\n",
    "# 의사결정트리 예측!\n",
    "y_pred = decision_tree.predict(X_test)\n",
    "print(y_pred) # 예측값 출력\n",
    "print(y_test) # 정답값 출력\n",
    "\n",
    "print(\"이렇게 보니까 너무 구려요!! 그럼 어떻게? ==> 정확도와 report는 따로 출력해봅시다\")\n",
    "print(\"\\n\\n\")\n",
    "# 정확도만 봅시다\n",
    "from sklearn.metrics import accuracy_score\n",
    "accuracy1 = accuracy_score(y_test, y_pred)\n",
    "\n",
    "print(\"정확도 :\", accuracy1)\n",
    "print(\"\\n\\n\")\n",
    "# 이쁘게 리포트해봅시다\n",
    "print(\"Classification report 입니다\")\n",
    "print(classification_report(y_test, y_pred))"
   ]
  },
  {
   "cell_type": "markdown",
   "id": "01591fab",
   "metadata": {},
   "source": [
    "- Precision을 확인해보면, 'class 1'에서 평균 precision(macro avg)보다 낮은 값을 갖는다.\n",
    "- 'class 0', 'class 2'의 경우, 다른 class에 비해서 정밀한 예측을 했다고 말할 수 있다.\n",
    "- Recall을 확인해보면, 'class 2'에서 평균 recall(macro avg)보다 낮은 값을 갖는다.\n",
    "- 'class 0', 'class 1'의 경우, 해당 class 내에서 정확한 예측을 했다고 말할 수 있다."
   ]
  },
  {
   "cell_type": "code",
   "execution_count": 8,
   "id": "a1110baf",
   "metadata": {},
   "outputs": [
    {
     "name": "stdout",
     "output_type": "stream",
     "text": [
      "정확도 : 1.0\n",
      "\n",
      "\n",
      "\n",
      "report\n",
      "              precision    recall  f1-score   support\n",
      "\n",
      "           0       1.00      1.00      1.00        11\n",
      "           1       1.00      1.00      1.00        18\n",
      "           2       1.00      1.00      1.00         7\n",
      "\n",
      "    accuracy                           1.00        36\n",
      "   macro avg       1.00      1.00      1.00        36\n",
      "weighted avg       1.00      1.00      1.00        36\n",
      "\n"
     ]
    },
    {
     "data": {
      "text/plain": [
       "array([[11,  0,  0],\n",
       "       [ 0, 18,  0],\n",
       "       [ 0,  0,  7]])"
      ]
     },
     "execution_count": 8,
     "metadata": {},
     "output_type": "execute_result"
    }
   ],
   "source": [
    "# Random Forest 사용해 보기\n",
    "from sklearn.ensemble import RandomForestClassifier\n",
    "\n",
    "X_train, X_test, y_train, y_test = train_test_split(wine_data, \n",
    "                                                    wine_label, \n",
    "                                                    test_size=0.2, \n",
    "                                                    random_state=25)\n",
    "\n",
    "random_forest = RandomForestClassifier(random_state=32)\n",
    "random_forest.fit(X_train, y_train)\n",
    "y_pred = random_forest.predict(X_test)\n",
    "\n",
    "# 정확도만 봅시다\n",
    "from sklearn.metrics import accuracy_score\n",
    "accuracy2 = accuracy_score(y_test, y_pred)\n",
    "print(\"정확도 :\", accuracy2)\n",
    "print(\"\\n\\n\")\n",
    "\n",
    "print(\"report\")\n",
    "print(classification_report(y_test, y_pred))\n",
    "\n",
    "# 모두 1? 한번 봅시다.\n",
    "from sklearn.metrics import confusion_matrix \n",
    "confusion_matrix(y_test, y_pred)"
   ]
  },
  {
   "cell_type": "markdown",
   "id": "4cc1196c",
   "metadata": {},
   "source": [
    "- Random Fores 모델의 정확도는 100%이다."
   ]
  },
  {
   "cell_type": "code",
   "execution_count": 9,
   "id": "871109db",
   "metadata": {},
   "outputs": [
    {
     "name": "stdout",
     "output_type": "stream",
     "text": [
      "정확도 : 0.7222222222222222\n",
      "\n",
      "\n",
      "\n",
      "report\n",
      "              precision    recall  f1-score   support\n",
      "\n",
      "           0       0.89      0.73      0.80        11\n",
      "           1       0.82      0.78      0.80        18\n",
      "           2       0.40      0.57      0.47         7\n",
      "\n",
      "    accuracy                           0.72        36\n",
      "   macro avg       0.70      0.69      0.69        36\n",
      "weighted avg       0.76      0.72      0.74        36\n",
      "\n"
     ]
    }
   ],
   "source": [
    "# SVM 사용해 보기\n",
    "from sklearn import svm\n",
    "\n",
    "svm_model = svm.SVC()\n",
    "svm_model.fit(X_train, y_train)\n",
    "y_pred = svm_model.predict(X_test)\n",
    "\n",
    "# 정확도만 봅시다\n",
    "from sklearn.metrics import accuracy_score\n",
    "accuracy3 = accuracy_score(y_test, y_pred)\n",
    "print(\"정확도 :\", accuracy3)\n",
    "print(\"\\n\\n\")\n",
    "\n",
    "print(\"report\")\n",
    "print(classification_report(y_test, y_pred))"
   ]
  },
  {
   "cell_type": "markdown",
   "id": "6ee73590",
   "metadata": {},
   "source": [
    "- SVM  모델의 정확도는 72%로, 굉장히 낮은 정확도가 측정되었다.\n",
    "- 따라서 해당 Wine 데이터 분류 모델로서는 적합하지 않다."
   ]
  },
  {
   "cell_type": "code",
   "execution_count": 12,
   "id": "a6241ce2",
   "metadata": {},
   "outputs": [
    {
     "name": "stdout",
     "output_type": "stream",
     "text": [
      "정확도 : 0.7222222222222222\n",
      "\n",
      "\n",
      "\n",
      "report\n",
      "              precision    recall  f1-score   support\n",
      "\n",
      "           0       1.00      0.73      0.84        11\n",
      "           1       0.64      1.00      0.78        18\n",
      "           2       0.00      0.00      0.00         7\n",
      "\n",
      "    accuracy                           0.72        36\n",
      "   macro avg       0.55      0.58      0.54        36\n",
      "weighted avg       0.63      0.72      0.65        36\n",
      "\n"
     ]
    },
    {
     "name": "stderr",
     "output_type": "stream",
     "text": [
      "/opt/conda/lib/python3.9/site-packages/sklearn/metrics/_classification.py:1308: UndefinedMetricWarning: Precision and F-score are ill-defined and being set to 0.0 in labels with no predicted samples. Use `zero_division` parameter to control this behavior.\n",
      "  _warn_prf(average, modifier, msg_start, len(result))\n",
      "/opt/conda/lib/python3.9/site-packages/sklearn/metrics/_classification.py:1308: UndefinedMetricWarning: Precision and F-score are ill-defined and being set to 0.0 in labels with no predicted samples. Use `zero_division` parameter to control this behavior.\n",
      "  _warn_prf(average, modifier, msg_start, len(result))\n",
      "/opt/conda/lib/python3.9/site-packages/sklearn/metrics/_classification.py:1308: UndefinedMetricWarning: Precision and F-score are ill-defined and being set to 0.0 in labels with no predicted samples. Use `zero_division` parameter to control this behavior.\n",
      "  _warn_prf(average, modifier, msg_start, len(result))\n"
     ]
    }
   ],
   "source": [
    "# SGD Classifier 사용해 보기\n",
    "from sklearn.linear_model import SGDClassifier\n",
    "\n",
    "sgd_model = SGDClassifier()\n",
    "sgd_model.fit(X_train, y_train)\n",
    "y_pred = sgd_model.predict(X_test)\n",
    "\n",
    "# 정확도만 봅시다\n",
    "from sklearn.metrics import accuracy_score\n",
    "accuracy4 = accuracy_score(y_test, y_pred)\n",
    "print(\"정확도 :\", accuracy4)\n",
    "print(\"\\n\\n\")\n",
    "\n",
    "print(\"report\")\n",
    "print(classification_report(y_test, y_pred))"
   ]
  },
  {
   "cell_type": "markdown",
   "id": "76ff2662",
   "metadata": {},
   "source": [
    "- 해당 모델의 정확도는 61%로, 굉장히 낮은 정확도가 측정되었다.\n",
    "- 따라서 해당 Wine 데이터 분류 모델로서는 적합하지 않다."
   ]
  },
  {
   "cell_type": "code",
   "execution_count": 13,
   "id": "64e08321",
   "metadata": {},
   "outputs": [
    {
     "name": "stdout",
     "output_type": "stream",
     "text": [
      "정확도 : 0.7222222222222222\n",
      "\n",
      "\n",
      "\n",
      "report\n",
      "              precision    recall  f1-score   support\n",
      "\n",
      "           0       0.89      0.73      0.80        11\n",
      "           1       0.82      0.78      0.80        18\n",
      "           2       0.40      0.57      0.47         7\n",
      "\n",
      "    accuracy                           0.72        36\n",
      "   macro avg       0.70      0.69      0.69        36\n",
      "weighted avg       0.76      0.72      0.74        36\n",
      "\n"
     ]
    },
    {
     "name": "stderr",
     "output_type": "stream",
     "text": [
      "/opt/conda/lib/python3.9/site-packages/sklearn/linear_model/_logistic.py:814: ConvergenceWarning: lbfgs failed to converge (status=1):\n",
      "STOP: TOTAL NO. of ITERATIONS REACHED LIMIT.\n",
      "\n",
      "Increase the number of iterations (max_iter) or scale the data as shown in:\n",
      "    https://scikit-learn.org/stable/modules/preprocessing.html\n",
      "Please also refer to the documentation for alternative solver options:\n",
      "    https://scikit-learn.org/stable/modules/linear_model.html#logistic-regression\n",
      "  n_iter_i = _check_optimize_result(\n"
     ]
    }
   ],
   "source": [
    "# Logistic Regression 사용해 보기\n",
    "from sklearn.linear_model import LogisticRegression\n",
    "\n",
    "logistic_model = LogisticRegression()\n",
    "logistic_model.fit(X_train, y_train)\n",
    "y_pred = svm_model.predict(X_test)\n",
    "\n",
    "# 정확도만 봅시다\n",
    "from sklearn.metrics import accuracy_score\n",
    "accuracy5 = accuracy_score(y_test, y_pred)\n",
    "print(\"정확도 :\", accuracy5)\n",
    "print(\"\\n\\n\")\n",
    "\n",
    "print(\"report\")\n",
    "print(classification_report(y_test, y_pred))"
   ]
  },
  {
   "cell_type": "markdown",
   "id": "618c8814",
   "metadata": {},
   "source": [
    "# 결론"
   ]
  },
  {
   "cell_type": "markdown",
   "id": "84b46aa2",
   "metadata": {},
   "source": [
    "## - accuracy\n",
    "- Decision Tree: 94%\n",
    "- Random Forest: 100%\n",
    "- SVM: 72%\n",
    "- SGD Classifier: 72%\n",
    "- Logistic Regression: 72%\n",
    "\n",
    "\n",
    "- SVM, SGD Classifier, Logistic Regression를 제외한 나머지 3개의 모델은 90% 이상의 정확도를 보여줌\n",
    "- confusion_matrix를 확인해 본 결과, SVM, SGD Classifier는 오답률이 높았음\n",
    "- 따라서, SVM과 SGD Classifier 모델은 해당 wine 데이터를 분류하기에 적합한 모델이 아니라고 판단\n",
    "- Random Forest의 경우, 100%라는 굉장히 높은 정확도를 보여줌\n",
    "- 따라서 해당 프로젝트에서는 Random Forest를 사용하는 것이 가장 적합하다고 판단"
   ]
  }
 ],
 "metadata": {
  "kernelspec": {
   "display_name": "Python 3 (ipykernel)",
   "language": "python",
   "name": "python3"
  },
  "language_info": {
   "codemirror_mode": {
    "name": "ipython",
    "version": 3
   },
   "file_extension": ".py",
   "mimetype": "text/x-python",
   "name": "python",
   "nbconvert_exporter": "python",
   "pygments_lexer": "ipython3",
   "version": "3.9.7"
  }
 },
 "nbformat": 4,
 "nbformat_minor": 5
}
