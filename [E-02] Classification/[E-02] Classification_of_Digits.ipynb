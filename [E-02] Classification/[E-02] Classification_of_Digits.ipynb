{
 "cells": [
  {
   "cell_type": "markdown",
   "id": "44fc81a4",
   "metadata": {},
   "source": [
    "# 데이터 준비"
   ]
  },
  {
   "cell_type": "code",
   "execution_count": 53,
   "id": "54a8e422",
   "metadata": {},
   "outputs": [],
   "source": [
    "from sklearn.datasets import load_digits\n",
    "from sklearn.model_selection import train_test_split\n",
    "from sklearn.metrics import classification_report\n",
    "from sklearn.metrics import confusion_matrix\n",
    "\n",
    "import numpy as np\n",
    "import matplotlib.pyplot as plt\n",
    "from sklearn.datasets import load_digits\n",
    "from sklearn.neighbors import KernelDensity\n",
    "from sklearn.decomposition import PCA\n",
    "from sklearn.model_selection import GridSearchCV"
   ]
  },
  {
   "cell_type": "markdown",
   "id": "c1cfc967",
   "metadata": {},
   "source": [
    "- load_digits() 메소드를 이용하여 변수 digits에 데이터를 할당\n",
    "- digits_data에 Feature data 할당\n",
    "- digits_label에 Label data 할당 (target)"
   ]
  },
  {
   "cell_type": "code",
   "execution_count": 40,
   "id": "a81e2a61",
   "metadata": {},
   "outputs": [],
   "source": [
    "digits = load_digits()\n",
    "digits_data = digits.data\n",
    "digits_label = digits.target"
   ]
  },
  {
   "cell_type": "markdown",
   "id": "a802daa6",
   "metadata": {},
   "source": [
    "- confusion_matrix: 혼동 행렬, 지도 학습으로 훈련된 분류 알고리즘의 성능을 시각화 할 수 있는 표\n",
    "- 각 행은 예측된 클래스의 인스턴스를 나타내며, 각 열은 실제 클래스의 인스턴스를 나타냄 (혹은 반대로 구성)\n",
    "- 이를 이용하여, 각 클래스별 모델의 오답률이 어느 정도인지 확인이 가능\n",
    "\n",
    "- digits_data에 저장된 데이터 양과 형식을 확인\n",
    "- 1797개의 digit 데이터가 저장되어 있음을 확인\n",
    "- 각각의 데이터에 64개의 픽셀값이 저장되어 있음을 확인"
   ]
  },
  {
   "cell_type": "code",
   "execution_count": 41,
   "id": "c292d816",
   "metadata": {},
   "outputs": [
    {
     "name": "stdout",
     "output_type": "stream",
     "text": [
      "<class 'list'>\n",
      "(1797, 64)\n"
     ]
    },
    {
     "data": {
      "text/plain": [
       "array([ 0.,  0.,  5., 13.,  9.,  1.,  0.,  0.,  0.,  0., 13., 15., 10.,\n",
       "       15.,  5.,  0.,  0.,  3., 15.,  2.,  0., 11.,  8.,  0.,  0.,  4.,\n",
       "       12.,  0.,  0.,  8.,  8.,  0.,  0.,  5.,  8.,  0.,  0.,  9.,  8.,\n",
       "        0.,  0.,  4., 11.,  0.,  1., 12.,  7.,  0.,  0.,  2., 14.,  5.,\n",
       "       10., 12.,  0.,  0.,  0.,  0.,  6., 13., 10.,  0.,  0.,  0.])"
      ]
     },
     "execution_count": 41,
     "metadata": {},
     "output_type": "execute_result"
    }
   ],
   "source": [
    "digits = load_digits()\n",
    "print(type(dir(digits))) # 유형 확인\n",
    "\n",
    "\n",
    "print(digits_data.shape)\n",
    "digits_data[0]"
   ]
  },
  {
   "cell_type": "code",
   "execution_count": 42,
   "id": "45c1334e",
   "metadata": {},
   "outputs": [
    {
     "name": "stdout",
     "output_type": "stream",
     "text": [
      "(1797, 64)\n",
      "(1797,)\n",
      "[0 1 2 3 4 5 6 7 8 9]\n",
      "\n",
      "여기서부터는 데이터 요약 정리 내용입니다.\n",
      ".. _digits_dataset:\n",
      "\n",
      "Optical recognition of handwritten digits dataset\n",
      "--------------------------------------------------\n",
      "\n",
      "**Data Set Characteristics:**\n",
      "\n",
      "    :Number of Instances: 1797\n",
      "    :Number of Attributes: 64\n",
      "    :Attribute Information: 8x8 image of integer pixels in the range 0..16.\n",
      "    :Missing Attribute Values: None\n",
      "    :Creator: E. Alpaydin (alpaydin '@' boun.edu.tr)\n",
      "    :Date: July; 1998\n",
      "\n",
      "This is a copy of the test set of the UCI ML hand-written digits datasets\n",
      "https://archive.ics.uci.edu/ml/datasets/Optical+Recognition+of+Handwritten+Digits\n",
      "\n",
      "The data set contains images of hand-written digits: 10 classes where\n",
      "each class refers to a digit.\n",
      "\n",
      "Preprocessing programs made available by NIST were used to extract\n",
      "normalized bitmaps of handwritten digits from a preprinted form. From a\n",
      "total of 43 people, 30 contributed to the training set and different 13\n",
      "to the test set. 32x32 bitmaps are divided into nonoverlapping blocks of\n",
      "4x4 and the number of on pixels are counted in each block. This generates\n",
      "an input matrix of 8x8 where each element is an integer in the range\n",
      "0..16. This reduces dimensionality and gives invariance to small\n",
      "distortions.\n",
      "\n",
      "For info on NIST preprocessing routines, see M. D. Garris, J. L. Blue, G.\n",
      "T. Candela, D. L. Dimmick, J. Geist, P. J. Grother, S. A. Janet, and C.\n",
      "L. Wilson, NIST Form-Based Handprint Recognition System, NISTIR 5469,\n",
      "1994.\n",
      "\n",
      ".. topic:: References\n",
      "\n",
      "  - C. Kaynak (1995) Methods of Combining Multiple Classifiers and Their\n",
      "    Applications to Handwritten Digit Recognition, MSc Thesis, Institute of\n",
      "    Graduate Studies in Science and Engineering, Bogazici University.\n",
      "  - E. Alpaydin, C. Kaynak (1998) Cascading Classifiers, Kybernetika.\n",
      "  - Ken Tang and Ponnuthurai N. Suganthan and Xi Yao and A. Kai Qin.\n",
      "    Linear dimensionalityreduction using relevance weighted LDA. School of\n",
      "    Electrical and Electronic Engineering Nanyang Technological University.\n",
      "    2005.\n",
      "  - Claudio Gentile. A New Approximate Maximal Margin Classification\n",
      "    Algorithm. NIPS. 2000.\n",
      "\n"
     ]
    }
   ],
   "source": [
    "# 데이터 이해하기 \n",
    "\n",
    "# Feature Data 지정하기\n",
    "# Label Data 지정하기\n",
    "# Target Names 출력해 보기\n",
    "# 데이터 Describe 해 보기\n",
    "\n",
    "digits_data = digits.data\n",
    "print(digits_data.shape) # 1797개 데이터, 8x8=64의 픽셀값\n",
    "\n",
    "digits_label = digits.target # 1797개 데이터에 대한 정답\n",
    "print(digits_label.shape) # 정답이니까 당연히 하나\n",
    "\n",
    "print(digits.target_names) # 정답값으로 어떤 것들이 있는지에 대한 탐색\n",
    "\n",
    "print()\n",
    "print(\"여기서부터는 데이터 요약 정리 내용입니다.\")\n",
    "\n",
    "print(digits.DESCR) # 데이터 간단요약정리!"
   ]
  },
  {
   "cell_type": "markdown",
   "id": "1416fa0a",
   "metadata": {},
   "source": [
    "- 위 Describe에서 파악할 수 있는 사실은\n",
    "\n",
    "- 특성의 개수는 64개\n",
    "- 특성의 의미는 8x8 이미지의 픽셀 값. 정수형 픽셀로 데이터의 범위는 0~16\n",
    "- 누락된 특성 값은 없다. (NaN 값이 없다)"
   ]
  },
  {
   "cell_type": "code",
   "execution_count": 43,
   "id": "aa4e46dc",
   "metadata": {
    "scrolled": true
   },
   "outputs": [
    {
     "name": "stdout",
     "output_type": "stream",
     "text": [
      "best bandwidth: 3.79269019073225\n"
     ]
    },
    {
     "data": {
      "image/png": "[encoded data removed]",
      "text/plain": [
       "<Figure size 432x288 with 99 Axes>"
      ]
     },
     "metadata": {},
     "output_type": "display_data"
    }
   ],
   "source": [
    "# load the data\n",
    "digits = load_digits()\n",
    "digits_data = digits.data\n",
    "digits_label = digits.target\n",
    "\n",
    "# project the 64-dimensional data to a lower dimension\n",
    "pca = PCA(n_components=15, whiten=False)\n",
    "data = pca.fit_transform(digits.data)\n",
    "\n",
    "# use grid search cross-validation to optimize the bandwidth\n",
    "params = {\"bandwidth\": np.logspace(-1, 1, 20)}\n",
    "grid = GridSearchCV(KernelDensity(), params)\n",
    "grid.fit(data)\n",
    "\n",
    "print(\"best bandwidth: {0}\".format(grid.best_estimator_.bandwidth))\n",
    "\n",
    "# use the best estimator to compute the kernel density estimate\n",
    "kde = grid.best_estimator_\n",
    "\n",
    "# sample 44 new points from the data\n",
    "new_data = kde.sample(44, random_state=0)\n",
    "new_data = pca.inverse_transform(new_data)\n",
    "\n",
    "# turn data into a 4x11 grid\n",
    "new_data = new_data.reshape((4, 11, -1))\n",
    "real_data = digits.data[:44].reshape((4, 11, -1))\n",
    "\n",
    "# plot real digits and resampled digits\n",
    "fig, ax = plt.subplots(9, 11, subplot_kw=dict(xticks=[], yticks=[]))\n",
    "for j in range(11):\n",
    "    ax[4, j].set_visible(False)\n",
    "    for i in range(4):\n",
    "        im = ax[i, j].imshow(\n",
    "            real_data[i, j].reshape((8, 8)), cmap=plt.cm.binary, interpolation=\"nearest\"\n",
    "        )\n",
    "        im.set_clim(0, 16)\n",
    "        im = ax[i + 5, j].imshow(\n",
    "            new_data[i, j].reshape((8, 8)), cmap=plt.cm.binary, interpolation=\"nearest\"\n",
    "        )\n",
    "        im.set_clim(0, 16)\n",
    "\n",
    "ax[0, 5].set_title(\"Selection from the input data\")\n",
    "ax[5, 5].set_title('\"New\" digits drawn from the kernel density model')\n",
    "plt.show()"
   ]
  },
  {
   "cell_type": "markdown",
   "id": "cf04fa34",
   "metadata": {},
   "source": [
    "- data : 데이터 행렬을 벡터로 가지고 있는 데이터\n",
    "- target : 분류된 라벨데이터.\n",
    "- feature_names : data안 각 항목이 의미하는 이름\n",
    "- target_names : 라벨의 종류\n",
    "- digits.data와 digits.images의 다른 점\n",
    "- 8x8 형태의 이미지를 한 row로 만든 것이 digits.data이다."
   ]
  },
  {
   "cell_type": "code",
   "execution_count": 44,
   "id": "b933cfae",
   "metadata": {},
   "outputs": [
    {
     "data": {
      "text/plain": [
       "((1797, 64), (1797, 8, 8))"
      ]
     },
     "execution_count": 44,
     "metadata": {},
     "output_type": "execute_result"
    }
   ],
   "source": [
    "digits.data.shape, digits.images.shape"
   ]
  },
  {
   "cell_type": "markdown",
   "id": "88ea65e6",
   "metadata": {},
   "source": [
    "# Dataset"
   ]
  },
  {
   "cell_type": "code",
   "execution_count": 45,
   "id": "0fd6ff64",
   "metadata": {},
   "outputs": [
    {
     "name": "stdout",
     "output_type": "stream",
     "text": [
      "X_train 개수:  1437 , X_test 개수:  360\n"
     ]
    }
   ],
   "source": [
    "# train, test 데이터 분리 -> 위에서 import 했으니 따로 패키지 설치 X\n",
    "# 모델 학습과 테스트용 문제지와 정답지를 준비해 봅시다.\n",
    "# X_train, X_test, y_train, y_test를 생성\n",
    "\n",
    "X_train, X_test, y_train, y_test = train_test_split(digits_data, \n",
    "                                                    digits_label, \n",
    "                                                    test_size=0.2, \n",
    "                                                    random_state=7)\n",
    "\n",
    "print('X_train 개수: ', len(X_train), ', X_test 개수: ', len(X_test))"
   ]
  },
  {
   "cell_type": "markdown",
   "id": "8bd50680",
   "metadata": {},
   "source": [
    "- digits 데이터 셋을 학습용 데이터와 테스트용 데이터로 분리\n",
    "- test 데이터 셋의 크기는 전체 데이터셋의 20%\n",
    "- 즉, 1797개의 데이터 셋 중에서 학습용 데이터는 1437개, 테스트용 데이터는 360개\n",
    "- 기존에 정렬된 데이터를 랜덤으로 섞어서 train set과 test set으로 분리"
   ]
  },
  {
   "cell_type": "markdown",
   "id": "3a2bf285",
   "metadata": {},
   "source": [
    "# 모델 학습 및 평가"
   ]
  },
  {
   "cell_type": "markdown",
   "id": "8215a6c9",
   "metadata": {},
   "source": [
    "- 다양한 모델로 학습시키기 위해서, 다음 5개의 모델을 구현\n",
    "    - Decision Tree (decision_tree)\n",
    "    - Random Forest (random_forest)\n",
    "    - SVM (svm_model)\n",
    "    - SGD Classifier (sgd_model)\n",
    "    - Logistic Regression (logistic_model)"
   ]
  },
  {
   "cell_type": "code",
   "execution_count": 46,
   "id": "48734101",
   "metadata": {},
   "outputs": [
    {
     "name": "stdout",
     "output_type": "stream",
     "text": [
      "[6 0 5 3 2 9 0 4 1 0 1 8 2 5 2 8 1 8 3 1 0 2 0 4 5 3 3 0 0 4 1 4 4 4 6 1 4\n",
      " 0 6 6 0 5 3 6 6 2 0 1 9 6 2 8 2 9 0 2 0 8 4 6 8 5 8 7 2 7 7 2 2 4 5 5 4 6\n",
      " 2 0 3 3 7 5 8 2 4 4 2 5 1 4 3 7 6 3 1 5 6 2 1 0 1 1 4 5 1 3 1 6 9 0 3 7 6\n",
      " 9 3 8 0 1 3 8 8 6 3 7 3 9 0 9 0 9 3 1 2 2 3 6 9 4 0 1 8 3 9 1 0 8 5 0 7 2\n",
      " 7 4 4 9 2 2 6 0 4 4 9 5 0 2 4 4 2 2 3 7 2 9 0 3 5 9 9 6 8 4 5 3 0 4 2 1 3\n",
      " 3 6 0 8 1 4 1 4 7 5 7 6 6 8 1 0 6 1 7 1 1 9 8 5 5 3 6 6 1 2 0 7 5 3 0 8 2\n",
      " 0 4 0 9 4 6 4 7 9 5 3 6 2 5 2 5 9 3 9 9 2 2 1 6 4 1 7 5 9 8 9 5 7 4 3 7 4\n",
      " 8 2 8 9 5 3 2 1 0 4 2 1 0 1 4 1 7 6 4 7 7 9 8 3 8 4 3 5 9 4 4 8 1 8 7 2 3\n",
      " 2 1 1 0 2 8 0 7 4 3 1 0 2 3 9 9 8 5 6 2 2 6 5 0 8 9 8 9 0 0 4 7 4 1 9 6 7\n",
      " 3 7 4 0 2 1 7 6 5 3 2 3 5 7 1 4 1 3 3 8 8 1 0 1 9 8 0]\n",
      "[6 0 5 9 2 9 0 4 1 0 1 8 2 5 2 8 1 8 9 1 0 2 0 4 5 3 3 0 0 4 1 4 4 4 6 1 4\n",
      " 0 6 6 0 9 3 6 6 2 0 1 9 6 2 8 9 9 0 2 0 8 4 6 8 5 8 7 8 7 7 4 1 4 5 5 4 6\n",
      " 2 0 1 3 7 5 8 2 4 4 2 5 1 9 3 7 6 3 3 5 6 2 1 0 1 9 4 1 1 3 1 6 9 0 3 7 6\n",
      " 9 3 8 0 8 3 8 8 6 3 7 3 9 0 3 0 9 8 1 2 2 3 6 9 4 0 5 4 2 9 1 0 2 5 0 2 2\n",
      " 7 4 6 9 8 2 6 0 4 4 8 5 0 2 4 6 8 2 3 7 2 9 0 3 5 9 1 6 8 7 5 3 0 4 2 1 3\n",
      " 3 6 0 2 8 4 1 4 7 5 7 6 6 8 1 0 6 8 7 1 1 9 8 5 5 3 6 8 1 2 0 7 5 3 0 8 2\n",
      " 0 4 0 9 4 8 4 7 9 7 3 6 2 5 1 5 9 2 9 9 8 2 1 6 7 1 7 5 7 8 9 5 7 4 3 7 8\n",
      " 8 2 8 9 5 3 2 8 0 4 2 1 0 8 4 1 7 1 4 7 7 1 8 3 8 4 3 5 9 4 4 8 1 8 7 2 3\n",
      " 1 1 1 0 2 8 0 7 4 0 1 0 2 3 7 9 8 5 8 2 2 6 5 0 8 9 8 9 0 0 9 7 4 1 2 6 7\n",
      " 3 7 4 0 2 1 7 2 5 7 2 3 5 7 1 4 1 3 3 8 8 1 0 1 9 3 0]\n",
      "이렇게 보니까 너무 구려요!! 그럼 어떻게? ==> 정확도와 report는 따로 출력해봅시다\n",
      "\n",
      "\n",
      "\n",
      "정확도 : 0.8555555555555555\n",
      "\n",
      "\n",
      "\n",
      "Classification report 입니다\n",
      "              precision    recall  f1-score   support\n",
      "\n",
      "           0       1.00      0.98      0.99        43\n",
      "           1       0.81      0.81      0.81        42\n",
      "           2       0.79      0.82      0.80        40\n",
      "           3       0.79      0.91      0.85        34\n",
      "           4       0.83      0.95      0.89        37\n",
      "           5       0.90      0.96      0.93        28\n",
      "           6       0.84      0.93      0.88        28\n",
      "           7       0.96      0.82      0.89        33\n",
      "           8       0.88      0.65      0.75        43\n",
      "           9       0.78      0.78      0.78        32\n",
      "\n",
      "    accuracy                           0.86       360\n",
      "   macro avg       0.86      0.86      0.86       360\n",
      "weighted avg       0.86      0.86      0.85       360\n",
      "\n"
     ]
    }
   ],
   "source": [
    "# Decision Tree 사용해 보기\n",
    "\n",
    "from sklearn.tree import DecisionTreeClassifier\n",
    "\n",
    "# 의사결정트리 정의 및 학습!\n",
    "decision_tree = DecisionTreeClassifier(random_state=32)\n",
    "decision_tree.fit(X_train, y_train)\n",
    "\n",
    "# 의사결정트리 예측!\n",
    "y_pred = decision_tree.predict(X_test)\n",
    "print(y_pred) # 예측값 출력\n",
    "print(y_test) # 정답값 출력\n",
    "\n",
    "print(\"이렇게 보니까 너무 구려요!! 그럼 어떻게? ==> 정확도와 report는 따로 출력해봅시다\")\n",
    "print(\"\\n\\n\")\n",
    "# 정확도만 봅시다\n",
    "from sklearn.metrics import accuracy_score\n",
    "accuracy1 = accuracy_score(y_test, y_pred)\n",
    "\n",
    "print(\"정확도 :\", accuracy1)\n",
    "print(\"\\n\\n\")\n",
    "# 이쁘게 리포트해봅시다\n",
    "print(\"Classification report 입니다\")\n",
    "print(classification_report(y_test, y_pred))"
   ]
  },
  {
   "cell_type": "code",
   "execution_count": 47,
   "id": "1f652f76",
   "metadata": {},
   "outputs": [
    {
     "name": "stdout",
     "output_type": "stream",
     "text": [
      "정확도 : 0.9694444444444444\n",
      "\n",
      "\n",
      "\n",
      "report\n",
      "              precision    recall  f1-score   support\n",
      "\n",
      "           0       1.00      1.00      1.00        36\n",
      "           1       0.97      1.00      0.99        36\n",
      "           2       1.00      1.00      1.00        33\n",
      "           3       1.00      0.95      0.97        40\n",
      "           4       0.98      1.00      0.99        40\n",
      "           5       0.95      0.97      0.96        37\n",
      "           6       1.00      0.94      0.97        35\n",
      "           7       1.00      0.95      0.97        38\n",
      "           8       0.88      0.94      0.91        31\n",
      "           9       0.91      0.94      0.93        34\n",
      "\n",
      "    accuracy                           0.97       360\n",
      "   macro avg       0.97      0.97      0.97       360\n",
      "weighted avg       0.97      0.97      0.97       360\n",
      "\n"
     ]
    }
   ],
   "source": [
    "# Random Forest 사용해 보기\n",
    "from sklearn.ensemble import RandomForestClassifier\n",
    "\n",
    "X_train, X_test, y_train, y_test = train_test_split(digits_data, \n",
    "                                                    digits_label, \n",
    "                                                    test_size=0.2, \n",
    "                                                    random_state=25)\n",
    "\n",
    "random_forest = RandomForestClassifier(random_state=32)\n",
    "random_forest.fit(X_train, y_train)\n",
    "y_pred = random_forest.predict(X_test)\n",
    "\n",
    "# 정확도만 봅시다\n",
    "from sklearn.metrics import accuracy_score\n",
    "accuracy2 = accuracy_score(y_test, y_pred)\n",
    "print(\"정확도 :\", accuracy2)\n",
    "print(\"\\n\\n\")\n",
    "\n",
    "print(\"report\")\n",
    "print(classification_report(y_test, y_pred))"
   ]
  },
  {
   "cell_type": "code",
   "execution_count": 48,
   "id": "0067671d",
   "metadata": {},
   "outputs": [
    {
     "name": "stdout",
     "output_type": "stream",
     "text": [
      "정확도 : 0.9861111111111112\n",
      "\n",
      "\n",
      "\n",
      "report\n",
      "              precision    recall  f1-score   support\n",
      "\n",
      "           0       1.00      1.00      1.00        36\n",
      "           1       1.00      1.00      1.00        36\n",
      "           2       0.97      1.00      0.99        33\n",
      "           3       1.00      0.97      0.99        40\n",
      "           4       1.00      1.00      1.00        40\n",
      "           5       1.00      0.97      0.99        37\n",
      "           6       1.00      1.00      1.00        35\n",
      "           7       1.00      0.97      0.99        38\n",
      "           8       0.94      1.00      0.97        31\n",
      "           9       0.94      0.94      0.94        34\n",
      "\n",
      "    accuracy                           0.99       360\n",
      "   macro avg       0.99      0.99      0.99       360\n",
      "weighted avg       0.99      0.99      0.99       360\n",
      "\n"
     ]
    }
   ],
   "source": [
    "# SVM 사용해 보기\n",
    "from sklearn import svm\n",
    "X_train, X_test, y_train, y_test = train_test_split(digits_data, \n",
    "                                                    digits_label, \n",
    "                                                    test_size=0.2, \n",
    "                                                    random_state=25)\n",
    "\n",
    "svm_model = svm.SVC()\n",
    "svm_model.fit(X_train, y_train)\n",
    "y_pred = svm_model.predict(X_test)\n",
    "\n",
    "# 정확도만 봅시다\n",
    "from sklearn.metrics import accuracy_score\n",
    "accuracy3 = accuracy_score(y_test, y_pred)\n",
    "print(\"정확도 :\", accuracy3)\n",
    "print(\"\\n\\n\")\n",
    "\n",
    "print(\"report\")\n",
    "print(classification_report(y_test, y_pred))"
   ]
  },
  {
   "cell_type": "code",
   "execution_count": 49,
   "id": "2f0597ff",
   "metadata": {},
   "outputs": [
    {
     "name": "stdout",
     "output_type": "stream",
     "text": [
      "정확도 : 0.9583333333333334\n",
      "\n",
      "\n",
      "\n",
      "report\n",
      "              precision    recall  f1-score   support\n",
      "\n",
      "           0       1.00      1.00      1.00        36\n",
      "           1       0.90      1.00      0.95        36\n",
      "           2       1.00      1.00      1.00        33\n",
      "           3       1.00      0.90      0.95        40\n",
      "           4       0.95      1.00      0.98        40\n",
      "           5       1.00      1.00      1.00        37\n",
      "           6       0.97      0.94      0.96        35\n",
      "           7       0.97      0.95      0.96        38\n",
      "           8       0.84      0.87      0.86        31\n",
      "           9       0.94      0.91      0.93        34\n",
      "\n",
      "    accuracy                           0.96       360\n",
      "   macro avg       0.96      0.96      0.96       360\n",
      "weighted avg       0.96      0.96      0.96       360\n",
      "\n"
     ]
    }
   ],
   "source": [
    "# SGD Classifier 사용해 보기\n",
    "from sklearn.linear_model import SGDClassifier\n",
    "\n",
    "X_train, X_test, y_train, y_test = train_test_split(digits_data, \n",
    "                                                    digits_label, \n",
    "                                                    test_size=0.2, \n",
    "                                                    random_state=25)\n",
    "\n",
    "sgd_model = SGDClassifier()\n",
    "sgd_model.fit(X_train, y_train)\n",
    "y_pred = sgd_model.predict(X_test)\n",
    "\n",
    "# 정확도만 봅시다\n",
    "from sklearn.metrics import accuracy_score\n",
    "accuracy4 = accuracy_score(y_test, y_pred)\n",
    "print(\"정확도 :\", accuracy4)\n",
    "print(\"\\n\\n\")\n",
    "\n",
    "print(\"report\")\n",
    "print(classification_report(y_test, y_pred))"
   ]
  },
  {
   "cell_type": "code",
   "execution_count": 50,
   "id": "042276a4",
   "metadata": {},
   "outputs": [
    {
     "name": "stdout",
     "output_type": "stream",
     "text": [
      "정확도 : 0.9861111111111112\n",
      "\n",
      "\n",
      "\n",
      "report\n",
      "              precision    recall  f1-score   support\n",
      "\n",
      "           0       1.00      1.00      1.00        36\n",
      "           1       1.00      1.00      1.00        36\n",
      "           2       0.97      1.00      0.99        33\n",
      "           3       1.00      0.97      0.99        40\n",
      "           4       1.00      1.00      1.00        40\n",
      "           5       1.00      0.97      0.99        37\n",
      "           6       1.00      1.00      1.00        35\n",
      "           7       1.00      0.97      0.99        38\n",
      "           8       0.94      1.00      0.97        31\n",
      "           9       0.94      0.94      0.94        34\n",
      "\n",
      "    accuracy                           0.99       360\n",
      "   macro avg       0.99      0.99      0.99       360\n",
      "weighted avg       0.99      0.99      0.99       360\n",
      "\n"
     ]
    },
    {
     "name": "stderr",
     "output_type": "stream",
     "text": [
      "/opt/conda/lib/python3.9/site-packages/sklearn/linear_model/_logistic.py:814: ConvergenceWarning: lbfgs failed to converge (status=1):\n",
      "STOP: TOTAL NO. of ITERATIONS REACHED LIMIT.\n",
      "\n",
      "Increase the number of iterations (max_iter) or scale the data as shown in:\n",
      "    https://scikit-learn.org/stable/modules/preprocessing.html\n",
      "Please also refer to the documentation for alternative solver options:\n",
      "    https://scikit-learn.org/stable/modules/linear_model.html#logistic-regression\n",
      "  n_iter_i = _check_optimize_result(\n"
     ]
    }
   ],
   "source": [
    "# Logistic Regression 사용해 보기\n",
    "from sklearn.linear_model import LogisticRegression\n",
    "\n",
    "X_train, X_test, y_train, y_test = train_test_split(digits_data, \n",
    "                                                    digits_label, \n",
    "                                                    test_size=0.2, \n",
    "                                                    random_state=25)\n",
    "\n",
    "logistic_model = LogisticRegression()\n",
    "logistic_model.fit(X_train, y_train)\n",
    "y_pred = svm_model.predict(X_test)\n",
    "\n",
    "# 정확도만 봅시다\n",
    "from sklearn.metrics import accuracy_score\n",
    "accuracy5 = accuracy_score(y_test, y_pred)\n",
    "print(\"정확도 :\", accuracy5)\n",
    "print(\"\\n\\n\")\n",
    "\n",
    "print(\"report\")\n",
    "print(classification_report(y_test, y_pred))"
   ]
  },
  {
   "cell_type": "code",
   "execution_count": 25,
   "id": "cb6937f5",
   "metadata": {},
   "outputs": [
    {
     "name": "stdout",
     "output_type": "stream",
     "text": [
      "Decision Tree 정확도 :  0.8555555555555555\n",
      "Random Forest :  0.9694444444444444\n",
      "SVM 사용해 보기 :  0.9861111111111112\n",
      "SGD Classifier :  0.95\n",
      "Logistic Regression :  0.9861111111111112\n"
     ]
    }
   ],
   "source": [
    "# 정확도 비교\n",
    "print('Decision Tree 정확도 : ', accuracy1)\n",
    "print('Random Forest : ', accuracy2)\n",
    "print('SVM 사용해 보기 : ', accuracy3)\n",
    "print('SGD Classifier : ' , accuracy4)\n",
    "print('Logistic Regression : ', accuracy5)"
   ]
  }
 ],
 "metadata": {
  "kernelspec": {
   "display_name": "Python 3 (ipykernel)",
   "language": "python",
   "name": "python3"
  },
  "language_info": {
   "codemirror_mode": {
    "name": "ipython",
    "version": 3
   },
   "file_extension": ".py",
   "mimetype": "text/x-python",
   "name": "python",
   "nbconvert_exporter": "python",
   "pygments_lexer": "ipython3",
   "version": "3.9.7"
  }
 },
 "nbformat": 4,
 "nbformat_minor": 5
}
