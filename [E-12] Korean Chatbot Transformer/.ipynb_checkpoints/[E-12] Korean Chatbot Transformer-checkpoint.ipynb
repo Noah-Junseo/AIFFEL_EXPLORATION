{
 "cells": [
  {
   "cell_type": "markdown",
   "id": "cellular-questionnaire",
   "metadata": {},
   "source": [
    "# 프로젝트: 한국어 데이터로 챗봇 만들기\n",
    "\n",
    "### [루브릭]\n",
    "\n",
    "1. 한국어 전처리를 통해 학습 데이터셋을 구축하였다.\n",
    "    - 공백과 특수문자 처리, 토크나이징, 병렬데이터 구축의 과정이 적절히 진행되었다.\n",
    "    \n",
    "    \n",
    "2. 트랜스포머 모델을 구현하여 한국어 챗봇 모델 학습을 정상적으로 진행하였다.\n",
    "    - 구현한 트랜스포머 모델이 한국어 병렬 데이터 학습 시 안정적으로 수렴하였다.\n",
    "    \n",
    "    \n",
    "3. 한국어 입력문장에 대해 한국어로 답변하는 함수를 구현하였다.\n",
    "    - 한국어 입력문장에 그럴듯한 한국어로 답변을 리턴하였다.\n",
    "    \n",
    "    \n",
    "### [학습 과정]\n",
    "1. 데이터 수집하기\n",
    "2. 데이터 전처리하기\n",
    "3. SubwordTextEncoder 사용하기\n",
    "4. 모델 구성하기\n",
    "5. 모델 평가하기\n",
    "\n",
    "### [결론 및 회고]"
   ]
  },
  {
   "cell_type": "markdown",
   "id": "expanded-society",
   "metadata": {},
   "source": [
    "## 1. 데이터 수집하기\n",
    "\n",
    "https://github.com/songys/Chatbot_data/blob/master/ChatbotData%20.csv"
   ]
  },
  {
   "cell_type": "code",
   "execution_count": 1,
   "id": "adjustable-multiple",
   "metadata": {},
   "outputs": [],
   "source": [
    "import tensorflow as tf\n",
    "import os\n",
    "import re\n",
    "import numpy as np\n",
    "import pandas as pd\n",
    "import matplotlib.pyplot as plt\n",
    "import tensorflow_datasets as tfds"
   ]
  },
  {
   "cell_type": "markdown",
   "id": "937edd04",
   "metadata": {},
   "source": [
    "- 데이터는 질문과 그에 대한 대답과 질문이 어떤 유형인지를 담고 있다.\n",
    "- label \n",
    "    - 0 : 일상 질문 \n",
    "    - 1 : 부정(이별)\n",
    "    - 2 : 긍정(사랑)"
   ]
  },
  {
   "cell_type": "code",
   "execution_count": 2,
   "id": "essential-bradford",
   "metadata": {
    "scrolled": false
   },
   "outputs": [
    {
     "name": "stdout",
     "output_type": "stream",
     "text": [
      "<class 'pandas.core.frame.DataFrame'>\n"
     ]
    },
    {
     "data": {
      "text/html": [
       "<div>\n",
       "<style scoped>\n",
       "    .dataframe tbody tr th:only-of-type {\n",
       "        vertical-align: middle;\n",
       "    }\n",
       "\n",
       "    .dataframe tbody tr th {\n",
       "        vertical-align: top;\n",
       "    }\n",
       "\n",
       "    .dataframe thead th {\n",
       "        text-align: right;\n",
       "    }\n",
       "</style>\n",
       "<table border=\"1\" class=\"dataframe\">\n",
       "  <thead>\n",
       "    <tr style=\"text-align: right;\">\n",
       "      <th></th>\n",
       "      <th>Q</th>\n",
       "      <th>A</th>\n",
       "      <th>label</th>\n",
       "    </tr>\n",
       "  </thead>\n",
       "  <tbody>\n",
       "    <tr>\n",
       "      <th>0</th>\n",
       "      <td>12시 땡!</td>\n",
       "      <td>하루가 또 가네요.</td>\n",
       "      <td>0</td>\n",
       "    </tr>\n",
       "    <tr>\n",
       "      <th>1</th>\n",
       "      <td>1지망 학교 떨어졌어</td>\n",
       "      <td>위로해 드립니다.</td>\n",
       "      <td>0</td>\n",
       "    </tr>\n",
       "    <tr>\n",
       "      <th>2</th>\n",
       "      <td>3박4일 놀러가고 싶다</td>\n",
       "      <td>여행은 언제나 좋죠.</td>\n",
       "      <td>0</td>\n",
       "    </tr>\n",
       "    <tr>\n",
       "      <th>3</th>\n",
       "      <td>3박4일 정도 놀러가고 싶다</td>\n",
       "      <td>여행은 언제나 좋죠.</td>\n",
       "      <td>0</td>\n",
       "    </tr>\n",
       "    <tr>\n",
       "      <th>4</th>\n",
       "      <td>PPL 심하네</td>\n",
       "      <td>눈살이 찌푸려지죠.</td>\n",
       "      <td>0</td>\n",
       "    </tr>\n",
       "    <tr>\n",
       "      <th>...</th>\n",
       "      <td>...</td>\n",
       "      <td>...</td>\n",
       "      <td>...</td>\n",
       "    </tr>\n",
       "    <tr>\n",
       "      <th>11818</th>\n",
       "      <td>훔쳐보는 것도 눈치 보임.</td>\n",
       "      <td>티가 나니까 눈치가 보이는 거죠!</td>\n",
       "      <td>2</td>\n",
       "    </tr>\n",
       "    <tr>\n",
       "      <th>11819</th>\n",
       "      <td>훔쳐보는 것도 눈치 보임.</td>\n",
       "      <td>훔쳐보는 거 티나나봐요.</td>\n",
       "      <td>2</td>\n",
       "    </tr>\n",
       "    <tr>\n",
       "      <th>11820</th>\n",
       "      <td>흑기사 해주는 짝남.</td>\n",
       "      <td>설렜겠어요.</td>\n",
       "      <td>2</td>\n",
       "    </tr>\n",
       "    <tr>\n",
       "      <th>11821</th>\n",
       "      <td>힘든 연애 좋은 연애라는게 무슨 차이일까?</td>\n",
       "      <td>잘 헤어질 수 있는 사이 여부인 거 같아요.</td>\n",
       "      <td>2</td>\n",
       "    </tr>\n",
       "    <tr>\n",
       "      <th>11822</th>\n",
       "      <td>힘들어서 결혼할까봐</td>\n",
       "      <td>도피성 결혼은 하지 않길 바라요.</td>\n",
       "      <td>2</td>\n",
       "    </tr>\n",
       "  </tbody>\n",
       "</table>\n",
       "<p>11823 rows × 3 columns</p>\n",
       "</div>"
      ],
      "text/plain": [
       "                             Q                         A  label\n",
       "0                       12시 땡!                하루가 또 가네요.      0\n",
       "1                  1지망 학교 떨어졌어                 위로해 드립니다.      0\n",
       "2                 3박4일 놀러가고 싶다               여행은 언제나 좋죠.      0\n",
       "3              3박4일 정도 놀러가고 싶다               여행은 언제나 좋죠.      0\n",
       "4                      PPL 심하네                눈살이 찌푸려지죠.      0\n",
       "...                        ...                       ...    ...\n",
       "11818           훔쳐보는 것도 눈치 보임.        티가 나니까 눈치가 보이는 거죠!      2\n",
       "11819           훔쳐보는 것도 눈치 보임.             훔쳐보는 거 티나나봐요.      2\n",
       "11820              흑기사 해주는 짝남.                    설렜겠어요.      2\n",
       "11821  힘든 연애 좋은 연애라는게 무슨 차이일까?  잘 헤어질 수 있는 사이 여부인 거 같아요.      2\n",
       "11822               힘들어서 결혼할까봐        도피성 결혼은 하지 않길 바라요.      2\n",
       "\n",
       "[11823 rows x 3 columns]"
      ]
     },
     "execution_count": 2,
     "metadata": {},
     "output_type": "execute_result"
    }
   ],
   "source": [
    "path = '/Users/Noah/aiffel/E12 ChatbotTransformer/transformer_chatbot/data/ChatbotData .csv'\n",
    "df = pd.read_csv(path) \n",
    "print(type(df))\n",
    "df"
   ]
  },
  {
   "cell_type": "markdown",
   "id": "f73b9180",
   "metadata": {},
   "source": [
    "- 총 11823열의 한국어 문답 데이터를 확인했습니다.\n",
    "- 전처리를 통해 한국어 챗봇을 만들어 봅니다."
   ]
  },
  {
   "cell_type": "code",
   "execution_count": 3,
   "id": "7f66bffe",
   "metadata": {},
   "outputs": [
    {
     "data": {
      "text/plain": [
       "array([0, 1, 2], dtype=int64)"
      ]
     },
     "execution_count": 3,
     "metadata": {},
     "output_type": "execute_result"
    }
   ],
   "source": [
    "df.label.unique()"
   ]
  },
  {
   "cell_type": "markdown",
   "id": "b09a4685",
   "metadata": {},
   "source": [
    "- 전체 데이터셋 개수를 확인하자"
   ]
  },
  {
   "cell_type": "code",
   "execution_count": 4,
   "id": "distant-hammer",
   "metadata": {
    "scrolled": true
   },
   "outputs": [
    {
     "data": {
      "text/plain": [
       "0                         12시 땡!\n",
       "1                    1지망 학교 떨어졌어\n",
       "2                   3박4일 놀러가고 싶다\n",
       "3                3박4일 정도 놀러가고 싶다\n",
       "4                        PPL 심하네\n",
       "                  ...           \n",
       "11818             훔쳐보는 것도 눈치 보임.\n",
       "11819             훔쳐보는 것도 눈치 보임.\n",
       "11820                흑기사 해주는 짝남.\n",
       "11821    힘든 연애 좋은 연애라는게 무슨 차이일까?\n",
       "11822                 힘들어서 결혼할까봐\n",
       "Name: Q, Length: 11823, dtype: object"
      ]
     },
     "execution_count": 4,
     "metadata": {},
     "output_type": "execute_result"
    }
   ],
   "source": [
    "df['Q']"
   ]
  },
  {
   "cell_type": "markdown",
   "id": "5fe56061",
   "metadata": {},
   "source": [
    "- 데이터 개수가 적어서 전체를 사용해도 될 것 같다."
   ]
  },
  {
   "cell_type": "code",
   "execution_count": 5,
   "id": "orange-triple",
   "metadata": {
    "scrolled": true
   },
   "outputs": [
    {
     "name": "stdout",
     "output_type": "stream",
     "text": [
      "11823\n"
     ]
    }
   ],
   "source": [
    "MAX_SAMPLES = 11823\n",
    "print(MAX_SAMPLES)"
   ]
  },
  {
   "cell_type": "markdown",
   "id": "2c1ad78d",
   "metadata": {},
   "source": [
    "# step2) 데이터 전처리"
   ]
  },
  {
   "cell_type": "markdown",
   "id": "a5cdd6f9",
   "metadata": {},
   "source": [
    "- 정규 표현식으로 구두점과 단어 사이 공백을 추가한다.\n",
    "- 데이터셋에 숫자도 많이 포함되어 있어서 (ex) 1박 2일, 12시) 한글, 숫자, 문장부호를 제외한 다른 문자를 제거하는 전처리 함수를 만들었다."
   ]
  },
  {
   "cell_type": "code",
   "execution_count": 6,
   "id": "careful-component",
   "metadata": {},
   "outputs": [],
   "source": [
    "# 전처리 함수\n",
    "def preprocess_sentence(sentence):\n",
    "    sentence = sentence.lower().strip()\n",
    "\n",
    "    # 단어와 구두점(punctuation) 사이의 거리를 만듭니다.\n",
    "    # 예를 들어서 \"I am a student.\" => \"I am a student .\"와 같이\n",
    "    # student와 온점 사이에 거리를 만듭니다.\n",
    "    sentence = re.sub(r\"([?.!,])\", r\" \\1 \", sentence)\n",
    "    sentence = re.sub(r'[\" \"]+', \" \", sentence)\n",
    "\n",
    "    # (a-z, A-Z, \".\", \"?\", \"!\", \",\")를 제외한 모든 문자를 공백인 ' '로 대체합니다.\n",
    "    sentence = re.sub(r\"[ㄱ-ㅎㅏ-ㅣ?.!,]+\", \" \", sentence)\n",
    "    sentence = sentence.strip()\n",
    "    return sentence"
   ]
  },
  {
   "cell_type": "markdown",
   "id": "b0d356c0",
   "metadata": {},
   "source": [
    "- 영어 데이터의 자료형 역시 list였으므로 데이터 프레임의 각 열에 전처리 함수를 적용한 후 리스트로 변환해서 questions와 answers를 만들자."
   ]
  },
  {
   "cell_type": "code",
   "execution_count": 7,
   "id": "specific-official",
   "metadata": {},
   "outputs": [],
   "source": [
    "# 질문과 답변의 쌍인 데이터셋을 구성하기 위한 데이터 로드 함수\n",
    "def load_conversations():\n",
    "\n",
    "    inputs, outputs = [], []\n",
    "\n",
    "    for i in range(len(df) - 1):\n",
    "            # 전처리 함수를 질문에 해당되는 inputs와 답변에 해당되는 outputs에 적용.\n",
    "        inputs.append(preprocess_sentence(df['Q'][i]))\n",
    "        outputs.append(preprocess_sentence(df['A'][i]))\n",
    "\n",
    "        if len(inputs) >= MAX_SAMPLES:\n",
    "            return inputs, outputs\n",
    "            \n",
    "    return inputs, outputs"
   ]
  },
  {
   "cell_type": "code",
   "execution_count": 8,
   "id": "mineral-utilization",
   "metadata": {
    "scrolled": true
   },
   "outputs": [
    {
     "name": "stdout",
     "output_type": "stream",
     "text": [
      "전체 샘플 수 : 11822\n",
      "전체 샘플 수 : 11822\n"
     ]
    }
   ],
   "source": [
    "# 데이터를 로드하고 전처리하여 질문을 questions, 답변을 answers에 저장합니다.\n",
    "questions, answers = load_conversations()\n",
    "print('전체 샘플 수 :', len(questions))\n",
    "print('전체 샘플 수 :', len(answers))"
   ]
  },
  {
   "cell_type": "markdown",
   "id": "5191747f",
   "metadata": {},
   "source": [
    "실제 전처리된 데이터를 확인해보자."
   ]
  },
  {
   "cell_type": "code",
   "execution_count": 9,
   "id": "e6215f04",
   "metadata": {},
   "outputs": [],
   "source": [
    "#questions[:3]   LMS 기본 방식"
   ]
  },
  {
   "cell_type": "code",
   "execution_count": 10,
   "id": "5e03f42b",
   "metadata": {
    "scrolled": true
   },
   "outputs": [],
   "source": [
    "#answers[:3]     LMS 기본 방식"
   ]
  },
  {
   "cell_type": "code",
   "execution_count": 11,
   "id": "civic-civilian",
   "metadata": {},
   "outputs": [
    {
     "name": "stdout",
     "output_type": "stream",
     "text": [
      "전처리 후의 22번째 질문 샘플: 가스비 장난 아님\n",
      "전처리 후의 22번째 답변 샘플: 다음 달에는 더 절약해봐요\n"
     ]
    }
   ],
   "source": [
    "print('전처리 후의 22번째 질문 샘플: {}'.format(questions[21]))\n",
    "print('전처리 후의 22번째 답변 샘플: {}'.format(answers[21]))"
   ]
  },
  {
   "cell_type": "markdown",
   "id": "further-vault",
   "metadata": {},
   "source": [
    "단어장 만들기, subwordText Encoder 사용해서 토크나이징"
   ]
  },
  {
   "cell_type": "markdown",
   "id": "5e669c10",
   "metadata": {},
   "source": [
    "# step3) 단어사전 구축 및 전처리"
   ]
  },
  {
   "cell_type": "markdown",
   "id": "b882a926",
   "metadata": {},
   "source": [
    "## `tensorflow_datasets.deprecatd.text.SubwordTextEncoder`로 단어사전 구축\n",
    "- 별도의 한국어 형태소 분석기 사용하지 않고 자체 제작한 토크나이저를 사용한다.\n",
    "- 말뭉치에서 단어장을 생성해준다."
   ]
  },
  {
   "cell_type": "code",
   "execution_count": 12,
   "id": "cosmetic-martin",
   "metadata": {},
   "outputs": [],
   "source": [
    "# 질문과 답변 데이터셋에 대해서 Vocabulary 생성. (Tensorflow 2.3.0 이상) (클라우드는 2.4 입니다)\n",
    "tokenizer = tfds.deprecated.text.SubwordTextEncoder.build_from_corpus(questions + answers, target_vocab_size=2**13)"
   ]
  },
  {
   "cell_type": "markdown",
   "id": "717f514a",
   "metadata": {},
   "source": [
    "## 단어장에 시작토큰, 종료토큰 추가"
   ]
  },
  {
   "cell_type": "markdown",
   "id": "5e986adc",
   "metadata": {},
   "source": [
    "- 질문과 답변에서 추출한 단어들로 구축한 단어사전 크기 뒤에 시작 토큰과 종료 토큰을 대신할 정수 값을 지정한다."
   ]
  },
  {
   "cell_type": "code",
   "execution_count": 13,
   "id": "supported-westminster",
   "metadata": {},
   "outputs": [],
   "source": [
    "# 시작 토큰과 종료 토큰에 고유한 정수를 부여합니다.\n",
    "START_TOKEN, END_TOKEN = [tokenizer.vocab_size], [tokenizer.vocab_size + 1]"
   ]
  },
  {
   "cell_type": "markdown",
   "id": "bd09e293",
   "metadata": {},
   "source": [
    "- 시작 토큰과 종료 토큰 정수를 고려해 단어사전 크기에 2를 더한다."
   ]
  },
  {
   "cell_type": "code",
   "execution_count": 14,
   "id": "willing-avatar",
   "metadata": {},
   "outputs": [
    {
     "name": "stdout",
     "output_type": "stream",
     "text": [
      "START_TOKEN의 번호 : [8151]\n",
      "END_TOKEN의 번호 : [8152]\n"
     ]
    }
   ],
   "source": [
    "print('START_TOKEN의 번호 :' ,[tokenizer.vocab_size])\n",
    "print('END_TOKEN의 번호 :' ,[tokenizer.vocab_size + 1])"
   ]
  },
  {
   "cell_type": "code",
   "execution_count": 15,
   "id": "central-migration",
   "metadata": {},
   "outputs": [
    {
     "name": "stdout",
     "output_type": "stream",
     "text": [
      "8153\n"
     ]
    }
   ],
   "source": [
    "# 시작 토큰과 종료 토큰을 고려하여 +2를 하여 단어장의 크기를 산정합니다.\n",
    "VOCAB_SIZE = tokenizer.vocab_size + 2\n",
    "print(VOCAB_SIZE)"
   ]
  },
  {
   "cell_type": "markdown",
   "id": "6679882e",
   "metadata": {},
   "source": [
    "## 단어 정수 인코딩, 패딩"
   ]
  },
  {
   "cell_type": "markdown",
   "id": "45165e96",
   "metadata": {},
   "source": [
    "- 텐서플로우로 구축한 토크나이저의 메소드 `encode(sentence)`는 단어사전 안에 있는 문장을 입력하면 정수로 인코딩 해준다."
   ]
  },
  {
   "cell_type": "code",
   "execution_count": 16,
   "id": "essential-member",
   "metadata": {},
   "outputs": [
    {
     "name": "stdout",
     "output_type": "stream",
     "text": [
      "정수 인코딩 후의 21번째 질문 샘플: [5748, 605, 2480, 4150]\n",
      "정수 인코딩 후의 21번째 답변 샘플: [2346, 7493, 6, 6257, 95]\n"
     ]
    }
   ],
   "source": [
    "# 임의의 22번째 샘플에 대해서 정수 인코딩 작업을 수행.\n",
    "# 각 토큰을 고유한 정수로 변환\n",
    "print('정수 인코딩 후의 21번째 질문 샘플: {}'.format(tokenizer.encode(questions[21])))\n",
    "print('정수 인코딩 후의 21번째 답변 샘플: {}'.format(tokenizer.encode(answers[21])))"
   ]
  },
  {
   "cell_type": "markdown",
   "id": "ccafaf02",
   "metadata": {},
   "source": [
    "- 정수 인코딩에 사용할 최대 길이를 정하기 위해 문장 길이 분포를 확인해보자."
   ]
  },
  {
   "cell_type": "code",
   "execution_count": 17,
   "id": "7a3ddc44",
   "metadata": {
    "scrolled": true
   },
   "outputs": [
    {
     "data": {
      "text/plain": [
       "count    11822.000000\n",
       "mean         2.631450\n",
       "std          1.691833\n",
       "min          0.000000\n",
       "25%          1.000000\n",
       "50%          2.000000\n",
       "75%          3.000000\n",
       "99%          8.000000\n",
       "max         14.000000\n",
       "dtype: float64"
      ]
     },
     "execution_count": 17,
     "metadata": {},
     "output_type": "execute_result"
    }
   ],
   "source": [
    "q_len = pd.Series(questions).str.count(' ')\n",
    "q_len.describe(percentiles=[.25, .75, .99])"
   ]
  },
  {
   "cell_type": "code",
   "execution_count": 18,
   "id": "bafa1667",
   "metadata": {},
   "outputs": [
    {
     "data": {
      "text/plain": [
       "count    11822.000000\n",
       "mean         2.762984\n",
       "std          2.009997\n",
       "min          0.000000\n",
       "25%          1.000000\n",
       "50%          2.000000\n",
       "75%          4.000000\n",
       "99%         10.000000\n",
       "max         24.000000\n",
       "dtype: float64"
      ]
     },
     "execution_count": 18,
     "metadata": {},
     "output_type": "execute_result"
    }
   ],
   "source": [
    "a_len = pd.Series(answers).str.count(' ')\n",
    "a_len.describe(percentiles=[.25, .75, .99])"
   ]
  },
  {
   "cell_type": "code",
   "execution_count": 19,
   "id": "0d404051",
   "metadata": {},
   "outputs": [
    {
     "data": {
      "text/plain": [
       "5362     14\n",
       "5396     10\n",
       "5418     10\n",
       "5567     11\n",
       "5758     10\n",
       "5772     10\n",
       "5785     13\n",
       "6515     10\n",
       "8074     11\n",
       "8601     10\n",
       "8903     11\n",
       "8922     10\n",
       "9026     11\n",
       "9167     10\n",
       "9273     13\n",
       "9276     11\n",
       "9422     10\n",
       "9506     11\n",
       "9516     10\n",
       "9519     11\n",
       "9662     10\n",
       "10052    11\n",
       "10071    11\n",
       "10175    10\n",
       "10245    12\n",
       "10263    10\n",
       "10722    10\n",
       "10733    10\n",
       "10870    10\n",
       "10888    10\n",
       "10889    10\n",
       "11010    10\n",
       "11011    11\n",
       "11248    11\n",
       "11462    10\n",
       "11556    11\n",
       "11769    10\n",
       "11810    14\n",
       "dtype: int64"
      ]
     },
     "execution_count": 19,
     "metadata": {},
     "output_type": "execute_result"
    }
   ],
   "source": [
    "q_len[q_len>9]"
   ]
  },
  {
   "cell_type": "code",
   "execution_count": 20,
   "id": "24cacb53",
   "metadata": {},
   "outputs": [
    {
     "data": {
      "text/plain": [
       "3556     18\n",
       "3557     18\n",
       "9884     19\n",
       "10258    24\n",
       "10728    17\n",
       "10780    17\n",
       "10808    21\n",
       "dtype: int64"
      ]
     },
     "execution_count": 20,
     "metadata": {},
     "output_type": "execute_result"
    }
   ],
   "source": [
    "a_len[a_len>15]"
   ]
  },
  {
   "cell_type": "markdown",
   "id": "c3ebbc3a",
   "metadata": {},
   "source": [
    "- 질문과 대답의 최대값은 각각 15 단어, 23 단어였다.\n",
    "- 질문 데이터의 99%인 9로 자르기에는 9 이상인 데이터의 수가 꽤 있는 것 같아 답변 데이터의 99%인 MAX_LENGTH를 15로 산정해봤다."
   ]
  },
  {
   "cell_type": "code",
   "execution_count": 21,
   "id": "robust-revision",
   "metadata": {},
   "outputs": [
    {
     "name": "stdout",
     "output_type": "stream",
     "text": [
      "15\n"
     ]
    }
   ],
   "source": [
    "# 샘플의 최대 허용 길이 또는 패딩 후의 최종 길이\n",
    "MAX_LENGTH = 15\n",
    "print(MAX_LENGTH)"
   ]
  },
  {
   "cell_type": "code",
   "execution_count": 22,
   "id": "stylish-badge",
   "metadata": {},
   "outputs": [],
   "source": [
    "# 정수 인코딩, 최대 길이를 초과하는 샘플 제거, 패딩\n",
    "def tokenize_and_filter(inputs, outputs):\n",
    "    tokenized_inputs, tokenized_outputs = [], []\n",
    "  \n",
    "    for (sentence1, sentence2) in zip(inputs, outputs):\n",
    "        # 정수 인코딩 과정에서 시작 토큰과 종료 토큰을 추가\n",
    "        sentence1 = START_TOKEN + tokenizer.encode(sentence1) + END_TOKEN\n",
    "        sentence2 = START_TOKEN + tokenizer.encode(sentence2) + END_TOKEN\n",
    "\n",
    "        # 최대 길이 40 이하인 경우에만 데이터셋으로 허용\n",
    "        if len(sentence1) <= MAX_LENGTH and len(sentence2) <= MAX_LENGTH:\n",
    "            tokenized_inputs.append(sentence1)\n",
    "            tokenized_outputs.append(sentence2)\n",
    "  \n",
    "    # 최대 길이 40으로 모든 데이터셋을 패딩\n",
    "    tokenized_inputs = tf.keras.preprocessing.sequence.pad_sequences(\n",
    "        tokenized_inputs, maxlen=MAX_LENGTH, padding='post')\n",
    "    tokenized_outputs = tf.keras.preprocessing.sequence.pad_sequences(\n",
    "        tokenized_outputs, maxlen=MAX_LENGTH, padding='post')\n",
    "  \n",
    "    return tokenized_inputs, tokenized_outputs"
   ]
  },
  {
   "cell_type": "code",
   "execution_count": 23,
   "id": "close-symbol",
   "metadata": {},
   "outputs": [
    {
     "name": "stdout",
     "output_type": "stream",
     "text": [
      "단어장의 크기 : 8153\n",
      "필터링 후의 질문 샘플 개수: 11666\n",
      "필터링 후의 답변 샘플 개수: 11666\n"
     ]
    }
   ],
   "source": [
    "questions, answers = tokenize_and_filter(questions, answers)\n",
    "print('단어장의 크기 :',(VOCAB_SIZE))\n",
    "print('필터링 후의 질문 샘플 개수: {}'.format(len(questions)))\n",
    "print('필터링 후의 답변 샘플 개수: {}'.format(len(answers)))"
   ]
  },
  {
   "cell_type": "markdown",
   "id": "7cec1be9",
   "metadata": {},
   "source": [
    "## 3-4. 데이터 셋 생성\n",
    "### 교사 강요(`Teacher Forcing`)\n",
    "- 트랜스포머도 seq2seq 처럼 디코더가 입력받은 문장 행렬로 부터 각 시점의 단어를 예측하도록 훈련\n",
    "\n",
    "- 교사 강요를 적용해서 데이터셋을 생성한다. \n",
    "- 인코더의 입력은 질문의 전체 문장을 입력 받는다.\n",
    "- 디코더의 입력은 답변의 전체 문장 중 종료 토큰을 제거한다.\n",
    "- 디코더는 이전 타겟을 다음 입력으로 사용하므로 출력에는 시작 토큰을 제거한 답변을 제공한다."
   ]
  },
  {
   "cell_type": "code",
   "execution_count": 24,
   "id": "editorial-vegetarian",
   "metadata": {},
   "outputs": [],
   "source": [
    "BATCH_SIZE = 64\n",
    "BUFFER_SIZE = 20000\n",
    "\n",
    "# 디코더는 이전의 target을 다음의 input으로 사용합니다.\n",
    "# 이에 따라 outputs에서는 START_TOKEN을 제거하겠습니다.\n",
    "dataset = tf.data.Dataset.from_tensor_slices((\n",
    "    {\n",
    "        'inputs': questions,\n",
    "        'dec_inputs': answers[:, :-1]\n",
    "    },\n",
    "    {\n",
    "        'outputs': answers[:, 1:]\n",
    "    },\n",
    "))\n",
    "\n",
    "dataset = dataset.cache()\n",
    "dataset = dataset.shuffle(BUFFER_SIZE)\n",
    "dataset = dataset.batch(BATCH_SIZE)\n",
    "dataset = dataset.prefetch(tf.data.experimental.AUTOTUNE)"
   ]
  },
  {
   "cell_type": "markdown",
   "id": "2f32a1df",
   "metadata": {},
   "source": [
    "# step4) 모델 도우미 함수"
   ]
  },
  {
   "cell_type": "markdown",
   "id": "ad339f00",
   "metadata": {},
   "source": [
    "## Positional Encoding"
   ]
  },
  {
   "cell_type": "markdown",
   "id": "4826d775",
   "metadata": {
    "id": "0_xp5GdX4kds"
   },
   "source": [
    "![image.png](data:image/png;base64,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)"
   ]
  },
  {
   "cell_type": "markdown",
   "id": "e89cb915",
   "metadata": {},
   "source": [
    "- 트랜스포머 모델은 기존 RNN과 달리 문장 전체 행렬을 입력으로 받는다. 그렇기 때문에 문장에서의 순서 정보도 같이 전달해줘야 어떤 단어가 문장의 어느 위치에서 자주  발생하는지 등을 알 수 있다.\n",
    "포지셔널 인코딩은 모델에게 전체 문장에서 단어의 순서를 알려준다."
   ]
  },
  {
   "cell_type": "code",
   "execution_count": 25,
   "id": "parental-words",
   "metadata": {},
   "outputs": [],
   "source": [
    "# 포지셔널 인코딩 레이어\n",
    "class PositionalEncoding(tf.keras.layers.Layer):\n",
    "\n",
    "    def __init__(self, position, d_model):\n",
    "        super(PositionalEncoding, self).__init__()\n",
    "        self.pos_encoding = self.positional_encoding(position, d_model)\n",
    "\n",
    "    def get_angles(self, position, i, d_model):\n",
    "        angles = 1 / tf.pow(10000, (2 * (i // 2)) / tf.cast(d_model, tf.float32))\n",
    "        return position * angles\n",
    "\n",
    "    def positional_encoding(self, position, d_model):\n",
    "        angle_rads = self.get_angles(\n",
    "            position=tf.range(position, dtype=tf.float32)[:, tf.newaxis],\n",
    "            i=tf.range(d_model, dtype=tf.float32)[tf.newaxis, :],\n",
    "            d_model=d_model)\n",
    "        # 배열의 짝수 인덱스에는 sin 함수 적용\n",
    "        sines = tf.math.sin(angle_rads[:, 0::2])\n",
    "        # 배열의 홀수 인덱스에는 cosine 함수 적용\n",
    "        cosines = tf.math.cos(angle_rads[:, 1::2])\n",
    "\n",
    "        pos_encoding = tf.concat([sines, cosines], axis=-1)\n",
    "        pos_encoding = pos_encoding[tf.newaxis, ...]\n",
    "        return tf.cast(pos_encoding, tf.float32)\n",
    "\n",
    "    def call(self, inputs):\n",
    "        return inputs + self.pos_encoding[:, :tf.shape(inputs)[1], :]"
   ]
  },
  {
   "cell_type": "code",
   "execution_count": 26,
   "id": "through-tribute",
   "metadata": {},
   "outputs": [
    {
     "data": {
      "image/png": "[encoded data removed]",
      "text/plain": [
       "<Figure size 432x288 with 2 Axes>"
      ]
     },
     "metadata": {
      "needs_background": "light"
     },
     "output_type": "display_data"
    }
   ],
   "source": [
    "sample_pos_encoding = PositionalEncoding(30, 256)\n",
    "\n",
    "plt.pcolormesh(sample_pos_encoding.pos_encoding.numpy()[0], cmap='RdBu')\n",
    "plt.xlabel('Depth')\n",
    "plt.xlim((0, 256))\n",
    "plt.ylabel('Position')\n",
    "plt.colorbar()\n",
    "plt.show()"
   ]
  },
  {
   "cell_type": "markdown",
   "id": "3d3b4bf1",
   "metadata": {
    "id": "WtjsTegHy3Qd"
   },
   "source": [
    "### 어텐션(Attention)\n",
    "\n",
    "> **스케일 내적 어텐션(scaled dot product attention)**은 중간에 크기를 조정하는 과정(scaling)이 추가된다."
   ]
  },
  {
   "cell_type": "markdown",
   "id": "9aba0fb4",
   "metadata": {
    "id": "JPukC6ioGWxD"
   },
   "source": [
    "![image.png](data:image/png;base64,iVBORw0KGgoAAAANSUhEUgAAAeYAAAIsCAYAAAAnCAqAAAAgAElEQVR4AeydBVhU2f//6S4RFQu7u9ZcFVddu7tb1+7uXFvsrrUDxU4UG0UlRAxAursGhpl5/Z9zBxQQXbf9/n/wPPNwZ+bOvee8z7nn/emjQd5fHgJ5COQhkIdAHgJ5CHw3CGh8Ny3Ja0geAnkI5CGQh0AeAnkIkEfMeZMgD4E8BPIQyEMgD4HvCIE8Yv6OBiOvKXkI5CGQh0AeAnkI5BFz3hzIQyAPgTwE8hDIQ+A7QiCPmL+jwchrSh4CeQjkIZCHQB4CecScNwfyEMhDIA+BPATyEPiOEMgj5u9oMPKakodAHgJ5COQhkIdAHjHnzYE8BPIQyEMgD4E8BL4jBPKI+TsajLym5CGQh0AeAnkI5CGQR8x5cyAPgTwE8hDIQyAPge8Ige+QmJUo5CnEhgXi7eWB64uXuL9+h19INElypQSdSiUnJTGCAN9QElXfEZoZTVGplKSnJhDu/xb3ly/x9ItF3fJ/u60qlIo0EiL8eP3yGY/dApF9C14qFaIPinQ5qampv/NKQy5PR6n8lgv/2/3/a/dTCRwUab/Tf4GPnHTFfzPCf62Huf1aSVpSFEHv3Hjy/A2hcSkoBA65nfp/5jMVClkCUWHBhMfJSFf+X8fjjw68CnlyDAGvXXh4/xEv3wYSkyJH8X97Un0VxO+ImFUo5clEfXjOzdN72bhsHtPGj2bEsBGMmTCF2YvXsuPwWa7eceal61Mcz+/Dzu48b+Rf7d+/9qVKKUcWE4jXy8fcuXqOo3vtWDF3MmMnzmSd/WvS/72WoBA4+nny7P4NHE7sZ/OKWYwbOZwRK68Q+Q38IQkWKVF88HjI5ZNHOLB3Fzt27PjCaye7du9l/8HDHDt5hvOXbnDnoQuvvIOJSZbzv8vXKlRKBYneD7hw5igHdn+p/zvYsXMXe/Yd5Mixk5x1uIrjw+e8/hBGnCz9f4TQFKTEhuLt7sydq/Yc3rGGBZOH03fiZu54hSBTKv9H+vEPPWSqNKJ8HnNm7w6O3XxFxP/0vP6HMPraZRWJBHtcY8e8UfTp1puxS/dywyOUhLT/4/PqK5h9J8SsQpkaT5DrZXbOG0bHZvX5oWk7eg8dw8QpM5g1cxoTxwylX4+udOnWj6HDB9O7XQta91jCzdjvQ+xSyZOIfnuf0we3smL6IFrWLEPxooWxqdacEdue8q/JDyolacnhuN84yvaVU+lrW52yNoUpWKQU1YccJPgbiVmeHM57l5uc3L2RJZMH0rZRDcqXKUOZMmUpV7E6jVp3oe+QYQwfPpTBgwbQt1d3unbuQNu27enccyCjpyxgzfYjXLjjwvuIZEnL+Mo8/A6/EsScTrzXLY4f2MH6BWPoULc8ZSQMylC2fGXqtezJkBHDGTZkEP379qRLhza0avkzHXsOYuyMpWw5fJFHXsHEp34D6P8lAqo0It45c/XIJuYM7Uij6mUoVsgSyx/GcsLZl2TF/+0FVJkSzstzq+jXsgW9Z+7mvl88qXnq3jfPWFVqKC8u/Eq/BuUoaJaPci2Gsc7Bg7CE/xXB9Zu7+red+H0Qs1JGtPdd9k7rQt2yNpSq3ooRy/ficPcZ7l7vef/GAxenSxzZsoQJfVpSs2QB8plZUbHZWI5/UPxtYPyVC6nSZSQEefL4/m3O7VtO76omaGrpYFLiBwbZPflXiTldFsOHl/e4fmoHs1rboKOhgYahFWX77fsmYkYlTOCpJMVFEvzBC+dLmxjduiIWWhpoaOpgWKgWvWas45D9BS5eOI/96RMc2b+LLetXMH/qaPp3bkG9ymUpU6EWTTsMZMqKPZx/+I4omeI/Mun/mZFVm/PTE6MIDvTjncsllv1cCC2BpYYGuiYFaT5xH+cuXsTh3BmOH97L1nVLmTGmL63rV6ZkMRsq1G5B74m/cvzeGyJTvmNyVsmJDXrHy/tXODC7B3VsTNHW1EC76nCOPPYh6f80MStJDHTh8My2lC9gRZmmQ9lwxYvolHTxmOT9fQMCKnkUXo67mdi+HmWLl6ZBjxnsc3xPdLLi/7Yl5ivYfQfErEKREMizozNpXd4KU6syNB29kwc+ESTI5CiEP0epQC5LIibUh5fX9zGvfyNKmBpTsn5ftr1I+0r3/r2vJJ9sWgqJiQmEet1nc08btP8TYlZreqnJCcQGvOLmnEYYaP5BYv4Im7hWKnGBjmwcZYuNngYaWgZYVOrBaodnBMUnkpiYSEJ8HLExUUSEBeP/zpX7lw6xftYQ2tS0Ib+5JYVKVKVZ78msP/UE/4T0f9y8LZni4/1we+VLVLzsLz/8wteskEXxeG5ttZCjoYFh/tKMPBoi9T8xIYG42GgiwwJ573aPkxsm0bF2UUz0DDErXBHbISuwfx5E8nfLzUrS02QkJ8YReGEJXWoXRldL83+CmFWJfri6+xIlfOH/gO9XlR6Pz729jPmxBGZ62hha16bv4pO4hiYh/zN+GmUCvi/c8I2OR/a19irjee/8At+4JNK+ewFASbzPCzw+RJOQmktjVWnEB3vieHIX69dsZJ+9E69D8qwOH5fZXA6+A2JWkuD/jMPjG1LISAcTm3oM2e5KXC7+B0HQaYmheN7cxZQ2FShbsz3Lb8X/5YU3F1z+wkcqkkNecWJUJXT+C2L+2HIVyvggXNe2xkhoun9EY/54DUAlJynyKXumtKOckQYa2oZY1hjE9jtviM/5DIogIWU6ssQYQn2ec2XXPPo1tMFUTxdDC2sqNB3IkqNPCU39ByVlQaKpkXhc2sy8NSd5+SHmb9DSVQiLiN9GW/QyNGajAuWYcCElC1JCw1ahkMuI8XvKkYV9qJFfR7IwGBeuy5B1l/CK/vciDbI07A8dyh7Y0a+RDfr/C8SsiOftVTtmrjrBC+9I5H+7Zq8iNdqbaxsHU6+oGfpaGmjq5qNKx6kcfOhPQtofnccKYr0usmbaKk65+RIjV3xB61YQ43GaJWOXYv82hIQ/IwD8oVH/aycrYj05v3oaa8+64R+Xm/SpQpkuLHBRREREEh2fTGq68gt9/2tt+f/l1/89MavkhHteZ2m7ohjramFcvB6Dtr0kMSMC+zOgVQpSY97juGcCbRv/xPRT/nwfxuzMlqpICfHk9C9V/mNiBmV8MO7rf8b4LxOzC/undaSCsZqY89ccxI67bz8n5o8QiGjmVBLC3+J0cA6dKluip62JjpEVZZuPZOu9INL+icVGmODTkwl+dopFA21pMGAdTm+i/gZiBlV6KsHbWmcj5onZiFndeUHOyvRE3l/ZxOB6+dWmb20TKvZcziWP/yo6P3Ngfv9/6sPN9G9c4vsnZpWcSPdzLB/UjDp9VuPoEaJe7H+/i99+hlJGuOcllvX7kWpValC5qAl6OtqYlm7O2C3XeRcj+wORxSrSIl5yanFfGtbqywan10SkKXKxHqlIDXXm0PQOVK/cl+0v/In7J56Vb0fhq2eq0sJwOTaP7j/UYsjm+7yPzo2Yv3qJvC9zQeA7IOY0QtwvMfenAhjqaKJjXoImI7bzJESWy6RV90ClSCHohT3Lh3Vi5E5Xvg9jdia6GcQ8tur/f8Rs8o3ELEEhtGc5iWHuOCzrQgVzXTQ1NdE1LUaDYTtxifm7TdrifmnEvLvD7mmdqWFTkBKdV3LH6+8j5pDtv0/MIDRnBQkvTzO/czl0JQ1bG7OGYzjg5P8vRudnzsc/9v9/g5gVJPo9kPzhdUtYYt1mCTfc/n5iViSH4XJiLl1btKb/xIVM7VGHwia6aBsUpuHAFZx3DydZ/m2BcYp4H+7smUbHmsWwsG7HKkfPXIlZEfeGKxtHYls2P0YFOrP5ud/3S8yKON7d3Ma4nythbV6YHuvv5RHzH3vcvnj2f0/MpBP19g7re5bBRE9TMpUWqNiKcVuu4hkuy9XcIXyIKZE+PLbfzZ5r3l9c7CTfdHIMwe9deXj7ChfOn+fC5Rs4PXHDOySGlK89VCoF8qRI/F49xen6Jc6dPcMZeweu3HqI2/swEuVfymX8Y8QsmeeTogn28cD5/i2uXHDA4dJ17rm8JjA6mS8ZDj6NqDCfJhP5wZ2Ht67gYH9GStm56/KO0LDAv1dj/kPELMzgwgScTIT7SSY1KiSZAjU0dTEr+RNzr4fk7qOTzOEKkiL9cH9yh6sXzmF/5iznL9/k3jNP/COTkOdiQlcqUoh468ShRQNpUs4KQz0DCjafxL7z93jp6oqb+2v8olKQ/0nzitCYv42YRbeVpHo6sKxXlQxi1sK47gj2OvpmzFV1YFlaXDBeT5/gERRHSroKRVIono9vcfHcOa7ce014ikg3yznP5CSEvOPFg5tccbDn9KkznLt4FcfHHvhGpeRy/qeZ8ulISWpCON5uj7h12QF7+3NcuvmIV/5RxDjZ5a4xKxMIee+Fh5srrq4ZLzcPfCNlyBWiP4AygeC3r3DPeo7A/k0IiV8xXYpc8cSIDxnjfZ5z5y9y7fZDXrwNJCopBwaqVKJ9HnF8+TCaV7TGWFcHs4Zj2Xn6Fs+ev8TV7RW+EUmkpme06VOn/9iREK4Cn7JnQjtsO09k7437OGybQLOSZuhp6ZK/Wlfm//aYoMS0LyoQ6huqkEW9w+nwIvo3KUcBIx20zRszaa89d1xe8NLVjVe+ESSlykkJf8X1nVPpVLMoZnpaaJnbMufENR6+dMXVzY3XflGkfGY+V5Gemkik/xtePr7D9csOOFy4guMjN3xDY5F9EXcV6cnRBHo944mrN2GxwkevJC0+hDcuTlwXz935S9x2fkNIvIz0HPNQJYvg9a09zOxeDxsLfXR0LWk5/QAX74kx8OD1u0Cik9OyWRSEOygu1BtPD0+8A2Ny6UuWIVKIc31wd3bi+qXz2Nvb43DxOnedPfgQnvCVfmWgnp5ExAcPHj18iW9kPGkqFekp0fi9esLtKw6cd7gsPTN+kUmkfYcR9t8BMauQhXtyaUUXyprpoqmhiZa+BcVrtWfs6mPcexMhBUlkGTKx4ks+v8ToUIIjkz83VUoFPuIJev0Qh30bWDpvFrPmzGXunFlMGz+SIYOGMXbWr+y7+ASfqGTSsy30KtJlcQS8uMbhTUuYNWMOS39dz8ZN61ixcBpjBvRh0C/z2HTiHt7xufmIvpGYRQEPkSL2+gH2e9azdP5spk8Zx/D+3enQtg2deg1j2qo9XHz2gVgRAZodAOmdtKCFuHPzyEbmTxnH2EkzmTt/PvNmTWfq5GnMW2HHjklNMPy7TNl/lJhFK0X6VpwfNxa2oKCBthTRrG1kzQ+TLxGWUzAS45YYyNOLB1gzbwqTp81hwaJFLJg9lV+GDaB33yFMWriRIzee4xeTmoGJ2q+d4O/MqfXjaV+3FBbiPpo6mJRuTPeBo5gwcSKTpy3i4IMg4nILTskF25wffTsxqzXmmGfHmNm2BNqSxqxLsTazOfUsArkslqA3T7l59gCbFk9haI/hrL7+hpCgV1zeuYAR3VrRpGFDmrUfgd3dILVGlhH+mxbhye0TW1g8dRKTZ81j8dKlLJw9nXFDutOl2wBGz1jJXofH+CWIeZnbjAFlWjxB7rf5beNCpk2cyJSZc5g3bw4zp05i6vw17Fo2ihbVcwn+UkTh9eAqx+3mM27YQPr17UvfvsNYez2IOFmGv1AZzstrZzmyax1zfhnMgH7inL4MmHmU1/Gp2RbpjAmMLC4Qlyu/YbdsLjNnzZHm79zpExk1ZAADR0xh6fYzPHwTKrm2RJ9Sglw4azeVrg3KYmWkXi/0SzSkS7/hjBs/gQkTZ7PL0ZfIJGEmzh2DnGOb23uVPAHfu1sZ0rIpPeeewC0kEt9HR5jZviKWBtpom5ahzaTt3PGO/WrqlColgEcn1jGuY11KWhqio6mBpkFJmnQbwMhx45kwYRJzdjni6+fOjT0LGWRbiULGupILRNOgDLZ9hjJmgujXZBYduE9QzKdgRuEuig1w5frx7axeNJfZ0ycyZkhvurRrS/uu/Rk3fxOn7noQFJeaka6oQp4Yif/rp9x2OMrONQuYNLQXA+cf5r6nPwHudzmxaR6je7enReMG1G/YlNbdhjJ76yVcg+NJzQxWUyXhc+cAS4a1pGoRU/SE713LiHJNezBo9AQmTJrBovUneBIQTYoinZTYEN66OHLu0BaWzfiFUVOWsPeKB+Hxabmsa+kkhnjx4Pxe1i6ew6zZc1mwaCHz50zll8H96NNvCGNnr2bv+cd4RyRKLrHMUValxhHi7cr9q6c5sHkFs37pT9f+Czn5zJuQQDeuHVzN1CHdaN2sEQ0bNeXnbsOYa3eKR+8jSc5OArlNiX/1s++CmJWpMfg47WF8i9KY6miiIchZz4SCZX6g0+jF7LrwGO+ozIU4Ax9Js1J+XnFKpUSeFMGbB2fYOHMkgwaPYfaa3Zy4eJ3bt69zdv8qRrWrS1mbUtT6eQhLfrvPh2hZBrmL6Ns4Pjw6xpJhHWjygy39F+7l4r3neHiKlK1z7Jrfhx9KFqd84z4sOP6SaCGZZxuybyBmQUCyaLydHdi6cDLjJ89l9db9HDl+jN/2bmLx+O40rGhD0VI1aD10MccefiA2Ry6seCjjPjzkt6Wj6Ny8OZ3GLGXHiUvcvncfpxsOHNu+jAm9W9O8RhE1Ofyl4K8MH/OfIWYhRMnjCbw5h/r59DN8rsYUbDiPe4mfgmeE+Tc1ypPLdlPp1aoRP/Wejt1vDtxyesB9x6uc2ruaib2bU61MWeq0HsT83VfxCBVCmZqYk4LcuX1mD0uHt6aStSGaWrpY1OjKtKUb2LlrN3v2HeXW60iSP1O3sw3eF998MzGLeSmPxu3MMrpWNJEEEU2DYrSefoB7L924d2E/v04bTPvGVShRMB8mplUYsceewxtmMqBdIyoWNsNIXxc9g/z8tNKZ6CSRlqMk2e8e+xcMoU2DBrQfvZxdp65w58FjHjnd5PxvG5nVtyElCxSmYqMuTNpwDvdItaaZtUPK1Fh8Hp5g+aiutGnbg7FLd3Dy8i3u3nXk2pn9rJ01in6talHMylgap2zpUqoUogPf8vzKOgbUK4mVmTFGxoXoseMNEWIcBQmqEgl5686z+5fZM6YRRSxNMTYywqzeXO5F5hCAVekkR7zm8vZ5jOzdi6FTlrPj6HmuOd7F8dpJ1k3pSf3SRShRuTG95+zB8XU4KelKUkI8uOPwG2vGtKFKEVN0tDQxrNyRyQvXsm2HKHZzkGtuYcRLwkL2JzMrFl8/VpEa68PlFX1o1rwPKy+p06Nk4S85tbQ3NQoaoaNlQLEmw9hw0YPIr6ROqVICeXHTnoO/jsC2vDXG2ppoGlWh69TFrN++k127dnPomhthoV48dDjK7qX9qVfETIpl0DSuQd95q7DbuYtdu3dz9JYnUYlqMlMpZES9v8fh1TMYP34GSzfs4tDR4xw7tJPVMwbzc50yFCtRicY9prH98gsChWCkTCPi/VOuHV3P1H6tqFXaGktTE0p1nMWmzZtYOeMXhvTrS5/ePelkW4tSBS0wNjKlUKWfmXroMX6xwjogxjkZvyeXOL5nGYMalcRSXwNNbVNq95zB8o1iDPZz9Nw93oSEE+r9lEuHNzFvTA9sa5ejaH4LitTtytwDDwn8KFxnjIYqjWjvh5xcN4W+HTvSe/QcNhw4yzVHJ5wcr2F/YB3TejenevnyVP+xOxPXneGpXzQyYbFBRWqwG472u1kyuiMNKhQlv5kxxmW6s2TXLrasms7IAX3o3asHnVo3orKNFeZmltjU6sDkLVd4HZaUQ0H7+gz5p7/9DohZaFUKZNG+PDg8n971bTLIWQy2LkaWRanUuCtjFm7H/sEbwr+WDyoRXgy+zvasHdeNVm16M33zRV76RZKQIkMmExWxXDi5oCe1ihqjb1aM2l3mcfplIInCxKmSEx/kwm/T21LZugDFKndi2U1fopLSkKfLkcti8H1yhDF1LDAwKULNrsu5HZHTV/p7xCxMz0kEu19nx+yB9Bw4iY3nXPCLiCcpKYnEuAh8ntmzrH9DbCwMMS1UmTaT9vLQP+5T2oS0qHlwbsUgmlYpR51u8zn+2IfohGRkooSmLJn4SB8eHV9MlwrGaAqt7T8jZqE0y4j1/o1BpY0ljUFDUw8zmx7s8cswA0rCVABOW0djW6EwRWv3ZeP110QkZvYnhYSoAF5e2cb4dpWxMs1PqXpdmbPPEZ84QVwi4CqN5LhwXA9No2VFC7R0DCjcdhFXhI8uIYGExCTJdPZn42i+iZgFKStSCPe8yroRzShhrImGpgGF6/VjzQV3goPe4Xzbgd/Wj6N1ZWsMRRqbdlFsB45i9IylbNy5C7uFI2hbpyzFS9VhxMFXxInc71g3js7uQvUilpRuM5cTzwKITUpBlppGWqqMlKRofB/9xsyWNhjpG5G/bFNG293GPyVL5KsyhbBXV1g7zJbq1RrRb/5hHr0Pl56L1FQZsqRYAt0us3ZYM0rn0/ucmBG57XLSElxY06k8VgZaaGia0mHLa8I/auiinK5oUzKhxwZT2lxfmns61aZzNzLrwidM6X447pxC5yY/8POINdg/8SYiPomU1FRkKTF4XtzAkEZFMTYwwKJcO2YfuseHhDTS09NISU7g7bEZ/Fy1IHraWpjbzsHh8XuiYuNJSEjMGOe/YMpWphLx2p6ZnRrRcuh67n6IVWtm8hheXdrI4AbFMNHVQteqJn2XHOd58FdSp5TppKYkk+B1iLHNKmKpp42WRUsWXXqKb1Qc8QkJJKakoVCkIUtOJM59K72rWGMkNOt87Vhz/zVB8QkkJCSQJM4TWqsqnaQwV06t/IUenQez+NAtPAKjiU9MIikxjtDXN9k2pRPVCpthkq8UTUes5rxLAImpqcSG+PDq6U32zOhBvZLmEn5m5RvTrsdwpi2x49DZa9y5/4C7l39j+aAmlMpviLaOCaW7ruaaV0SG1qxELksmKf4Vu4bUw8ZEE00dKzqtuIZrQJw0BonJMuSpSUT7uXH38nHsFo6idVVrCTfzKu2ZufcBAdmIWaybzzm7dgxtalenYdcpbL3ogm9EPMkyUfZWRnJ8KK9v72FKh1oUtzSnUAVbRqy/gHtIAunCMhf5Ac8XD7lsNwrb8laSG0nTvBK2nfvyy+yVbD/iwE2nezhePsq6yZ2pWdQcA+Mi1Os+lxNP/Yn7jrTm74OYJa1HTmL4W+4dXcWY9rUpbqqjJhQNTbR1jbCwLkf9jiOYv/08T3zjci3YIRbPWN/HHFs2mKa16tFhgh3X38aQ9jGNQkV6Yiju9svpWa8YRrqmFKs9ALu775AyWVRJhHieYbptKSz0DClUuTO/3hdmtAzJW6UgxucR6zoVRl/HgEJVurD+mfDrZZWfvk7MIp0oOfIN13bOoEuTpvRbcIinYTLpgRNXkfyTMX7c3zaaJqXN0dYxxrpGD1Zff0eUZIYVvqEoPM8tpkuNYliXasKEYy+lMoGfLHfi4ZWTEPSMg4PLq8nwPyRmIfAkhNxiVl1zdIVZXUMH40LNWO6ixk6VnkL4oy30rWaFkUlBfpxxhcCUT9q05KtWppMS9Z7bu6fQooQRuoYFqNx2EvucPmTkB6tQpiXx/uQc2lRWE3ORjv9s8Jc6XUpgrfbzCZ/Wgwv7WT6mE7WKm6KjbUjByq0ZZ3cJj7AUFAq5JDQlBl1kXvtqWGmLgi2mlP95ItuuvyIkNoH40FfcOXOQ3ftO88gvAbkihTfHJ/BjCTP0DCow5JgnMTK1hvpp2glhLwHvCzNoaKmDlo4hhWv3we5euOTHl7SJyLdcWjuIOsWsqdJ2AvufZDeTC/eQUh6Hx8HJtKyYT5oz2TTmzCmu8GffgCpYG+dGzJkngezGZKrmM5AIPicxi9K7/ne3MKhRecrV6cGqK2+IyuZPV5LkfYMNo5pSTARbGVdlwBp73GPUvk5QEmQ/j3bVC6GvrY1Fy0V/a/CXIiUal0PjadXgJ8bteURwQkZpWZWCeG9Hto5tQUkzPbS0TKnQYToH738g/ndSAJX+J5jUojL5JWL+mZW3vxD85bOHAdUKYyyI2bITdrkEfylSY/G6tJK+zepLgsPttxGkZPr5xTimRfL0+DJ61SmMqZ4OZhU6MvfAXXzjUpCnpyNPS+btqfl0ravOhNEr3pghiw9y1zOQ6EQZqWlCuEok4OpiutQsgqGWFrrFe2B37212C6HiA4dGNqCERMwF6LYuR/CXVG8/DVlKPN4PTzK3SzWsTXTIlZjlEbw4s5LBzSpgXbIxI9fa8zJInev8cV0TildKKE8PTKFNlUIYiTW6Zl/WXPIgNEWBUiH6lkqSx15G/VgGEyH46pekxZjVnHb2Jjw+RepbalIUb532MNq2PJb6hhSv052lZ10JSvx+Isq/E2KWKEnKgU2JDcbz7nE2zhxI61o2mOkK07ZYwLTQMTCnUPlG9Ji8njPO/mTDUWhdyRF4XN3KLz9VoGSNjszce4/QHPnQQqOJ8X3EsTVT6N+tF8Pn7MLxXQSSIq6SEfXBkU3DmlGpZFnqd53L6dcxkqlEveQoifNzYWvP4uoFoXRjZlxJyOE7+xoxi4cmkSAXe5YNakSZSi0YvfokT9964+Pj8/Hl/foFTodn0b5aYfQ1tTAqWJle6xzxjUlDJZL1gx6ybXA9rC3yU7zpNC76qiX6T8uiGk9FXABPVzT/b33MUlPSSQx/zJIfLSR/lIaGNkYFGrLwUTJKEXCS4MeFqfWw1NHBwLI202/G5MBUklhQpqcQ+uIsi7tXxFhLG8NCtRm40h7PWPFA/bvErGtkyQ9957N0+QqWL1/CgjnTGTe0N20bVaNEAQssi1SgUaeRLNlzBdeALOMjtGqZMxv6/kAREeyolZ/mc+3VxC2shMp05DIZKSnqoCpl/GNWtimNqa4mWjaDOBUgNM/ctEFRqMedjW2t0dXURMekKM0nn+WDIHFlMgFPjzKpWTGM8lWgw4xDuMdlmCWzTRolCXfW0rt+UfS+lPGCIN4AACAASURBVMesCOTAoKpYG2uj+ZnG/OliqbemUt0yN2JWkhrvzcnJTSheoCh1+m3kqWRGzO4SUqaE8PzCVqYN7ErnftPZedWV0ORM69Q/SMwqBUlhT9k86Efqt5vMCbcwyf+YKQQpUwK5f2AWbStaYqCthWHxZozfeo030SnSuHxCIPvR30bMKgXJEa4cHG9L5XKVaT/tAI4ur/HOsn74eL/l0cl1jPypLPkMtdE0LE/XeQd5GBAnabxCsAm79it9G5fERBRNqT2SPddfEZ1NOFKhCD7F5BYVsdTRRNOgITMvuBKcmsUK83vE/BECJZEeN1g7+AeKm+ti8ZnGrCLV/w7bJ3WgirUZBesPY5ODKxGJGQLRx+uIx1xJiv8VlvasR1EjHbT0CtFkyiEefYiXNlsRpyqCTjO1ZUUshHBjVJ/Jxx7yQRB3JsOLVDtvJ9YM+AEbU23yV7Rl4u6H+ETnHsuT9fb/1vF3RMyiy2LBUaJISyQ6wB3Hk1uYN6I99UpaoCukHw0RZKCLiVUZmvSbJ0mqSZlCjlJOUoQHFzaOpGGxApRvOYZtN/1yjeBVpCUTFeDFc2dnXr4LIf7jZgNiZ50I3j44z+F9Bzl905VgKSpUtE3sGBXLO6ejTLMtiK6WFmYl6jHBPpbsGwt9hZiFuSUplGenV9KrhiXGBcryQ6seDBs5kpFZXyOGMrB7c6rZWGFqYIBxgVI0mXQEj5BElGmxBDqtp1tlK4zMClNj+EHex2b6yLNPm789j/lP+ZjFsKaTGPaABY0ssmjMLfjVLQWlMo2EwAuMq2yIpoYupoW7sCcw99Bp4YeWRbpyankPyhmIOARLavZZisOr+H+dmLX1TSjToAOdOnagfbu2tGnTlnYdOtO972BGT5nH6u1HuPLIk6CYlOx1wgWppj7DbkB9NTHrlGLAXmcCs0mZn8Yx5clSfrQ2luIEdBuvxFOKAs5OYh/PVqXhZdcGKyHMahlSrP5YzgakSgF1jw6MpbalHgYlfmTM9gdfLG6R+lBEZX+lwMhfJWZVOnHepxhZPT9mVmXouOw24Unyz7MvxFjHBvPmxWMev3jzEUf12vrPEbOw3vjf/pVu9evSbeF53kbnyFVWpRHmcooFPWtS0EgHTV0r6g1exXnX0K+mTv1txKyQEeFxmFENSmBlUYBKTbvSf8iI7OvHyJEM6fEzDSoWwcLEEH3DQjQZtYGLHlEZMRZKIq6voX+TUpjo6WDccBLH7r0nKWfEd9INFratTiFdLTR0ajH+lAsBWd0jf4CYozxvsWFoA2ws9HIhZjkBt7ZLaVf5jfUp3XEeR+4HqOMEPk7uTweq9FCuLu1FnaJGaGtqYf7DeA499CVR8jWDIuQM01tVIp8ISjNuytwLzwnJtqQoiPV/wfbRP1LGQhuLsk0Ys+UO7yJyC0b7dN9/8+g7I+aMrovFS5ThTI4l5M19zm6by6AWlbDS/6Q9G1qWpMmg5Th4qos2iFD8mHe32TnJliLmBajZbSZHnHMv6CBMj+L6ivR0FMLMnSkOZwoG6XLSUlNJkwvziJyUaD9eONpzYNsGls+bTI/a+dARxGxTl/Fnov8AMaeTEuPFpS1jaFDQGKvyTeg1bjEb7eywy/natJEN69axdu1a1m3azoErLwmLlyGPD+bptv5ULmCEvkUJbOfdICxRniMATY3j90PMQsu/wLgqph99zOYl+/FbSJpUECTSeRmNhD9WQw+zYv05IXg2tz/JlBXC/UOz+KmwNpraBlj/OIq9t/2+kZjV4x4f9Aa3l895/vwLrxeu+ERlr4Wc08dsYFGM7iuvcevGda5fu871GzdxdHqA80tPvIMiiU8RcQlZpPTM/nxGzGUZeug5wckfJ2HmmZIw+GFXV4qb6EoBkfo/byUoWVhNvkDMQNLT+dQy0kZTQ5t8JW1ZcT+RxCBXjk9pRD5dbcwqtWPuCS8pkCq3O/5uHvNfJWZFKqHXZ1I3vxGm1pUZskvtR8+tLZKQrkgnXaGQgjxFv9V//xQxi+0JAzg3sxVVKzVhtN057jx+hku2eeKC861jrBzVmnL5DNTEUKkLC488IjDhy6lTfxcxq9IS8bs0h+alC5CvYHlaj5jPinVfWD/Wq9ePtWs3cvDiI96EJmekBn0jMctus6R9Daz1BDHXYOyJZ/gnZ1kv/wAxR3+NmFUxOB+aR9ea1pjo6UrFeE45h5H4xQyKdHxPTKdNVStJ0Ney+pnFF198zPLITszNmHvhRQ5iVhIX4MauX5pSNp82FmUaM9rOMY+Ys6w8Xz0UD6JSKSclNgi3a/tYMKgZpU21MkzbOpgVr8uAlVfwk6nNmGEu51jZpyrGJgWo1X02R5/FfZ5K9dU7fvpSqlwV4omT/T42LFvE4hXr2LL7MIf372RGa2v0Moh53B8gZlEAIzHsGceX9aSiqRnFfxzGxoteJH3DnseSkJCRv31u+o8UNdNFP18p2iy/T0RS7qUevxdiVimSiXTbRAdrQ3WEuPCb267guShin5ZAyPlRlNIRFhE9TIv05reoTDPIp/GQjkTJy7QE3BzW07uKvmQ9Ma/Rhy0Ont9MzCLw7sWBGQzu1ZmOHTvm8upE5259WHUrIZvAlZOYjazKMf5cIunp6dleikwSydH0j29zIeZhXyRmOY/mN8DKUD3n9Vps5EOS2gSdSVEfr5txkBZ+gE6WIt1GE5MiNZh8LpLIt/dZ201owVrkq96ZJfa+pH6Mu8h+hX+amFXyFN7t7kkxEz2MrSszfK+XFOD2pf5kb13mu3+ImFVK4t+cYGT94uS3tKGW7c+0y22OdGhFw+qlsTLUkXzomoYlaD1lJ3feq91eufXl7yJmpSwOzz3DqF7EgvylmzD1qBsB0bLf3TM8TZ6eETgmMPxGYk51zELM1f85YlYEcH3LOFqWy4+htjblui3h+KMQEnJkomSOvrCsJt5dQ58GNhhoa6KhX4+Jxx/hl5G2963EvHtsHjF/wjTbkVKK3IuNjFLXnc1tRmdqsbJYAlzOsnp4E4oZqM3a2gb5qd5+KqffpaFMTSTo8SkWdi6LnlF+KrefxF6n0D9RrlPtq35z5yhrZoygT9/hTF+1B4f7HgTEJBHp7ZzhY1ZrzH+MmFNJCH7M4fkdKWVgTKG6vVl5xpWkXPudDaiMN0oSw7w4MLwaBY210MtXkpaLHAlPzH1Tye+DmFUoZTF4HR5EORORd6qBjpE1TebfI0YUPxC53KeHUlwEQomgsIIt2fgmd0FDPJCimMq76zsYXs9UTcw1+7Dl/LcTs3BH3JzbnFIFTDA0NMz1ZWJuTZ/D2S0hnxFzgXLkVpIzt1HL9tkfIuY0nGbVxVJEQAvcas7BOU7kA39ZY05PuMiQ4iItLZOYIwjxuMW8FsKNoIl51Q4sOP1OXaAhW8PUb/5xYk5Lwm1dOwoY6aJvVZ6e65+od2rKpS1f/uifIWaVIgmXHQOoU6YaLQeOYeK06cyYMSOX13SmTxhE+4YVsDLQQVNTl0INh7PpsgcRkp/285b/XcSsSInhxeZ+VCpkglmx2ozc8ZRAkZnw+S2/8sn3RswfuLLpF2zLWGKgpUXRVtPY7+hDXNYA0By9kb/YyfBmZTER6bWZxJzh/84j5hxg/fG36cT4u3Jp31ZOPQuVFosvXkNoz6mx+DrtY3yjAmpJVduAYnW7sPJGpBSRG/r0LMt6VEBX35TiDfqx8ow7iX9oxoo0jiBczq5lTMeGVKvRgpHrHXgeEE9auhKlSh38ta2XDfraf4aY00gMdebIkm6U1TPAorQtE7bdwO+bt49RE/P+YWpi1jYtQp1xJwmIz5HjnQHid0HMKgUpUa7sG1BJCmASlb9MS7Zj9aMYdRCTPJHQG5OpLGnMWhjkq8zEqwlfmAYicjgF75u7GFnfHC1tfQo1Hsnumx++WWMW21l+uHecnVs2smHDhlxfG+22ceFV9mj7/4aY5bitssXKSEciZq0CvTkarA4y+mjVzYFUeuIVRpQUxKyNRYmmLLsXJxHzXFt1RLxBKVsm7n1KghCKcvxWvP3niTmZN1s6S0U0tE2L8eOEY3jHp+bIbMilYdk++meIOT3mESs6VaVy8wkcc35DQEgYYWG5v0IDXDm3fiy2ZSykinZa5lXou/wUz4MTc61o93cRs9CYPXYOokphE/Tzl6Xd7NNSDm72zJBsYOXy5nsj5lDu7JxCm0pWGOloYlJ7MBvOvyQy6cs+X7nbbkY2Lyel1mpZtmKRw3NCMwoW5RFzLkP+xz5KJ9LrLptHd6DPgtO8js1ewu2za6lEErkr52Y0lELhNbX1sK7RjoUOIQgTWdSrq9iNrI+Zth4WJRsydNVZPHPd7UR9ZZGknxTlx/sPESSKIgFpcQQ8PsjktlUpaFmEqp2XcMM7Jktln79GzCJtKDnKA/v1Q6lpIiKQy9Jm4jbu+qXkukiqWyk0+Gh8nG/z6F0EEcHvsZ/amCIinUxP5LUu40F41hzRT6j998QsXAzxeF9eROuSRuoUHMNC1B9zDK+M4iIixznm9U46F8jQCo0L8tOqF6R+6kaWI6ExJ/H6yhYG1jRCW9ecqj0WYe/67cFfaveIIpv5Oac5WrwX+aJZ//4bYlYSeW4UFcz11KmDupWZ6hgtzccvEnPMSfoUEqk8BhSuNZyT/ilEvb3P6i7FpIh4rXzV6bXYHl+RH529i1J3/3FiTpcReGY0Fc310dIxo2yLSZx5E5flGcuKuvpYmRyKr28AYdHqrR3/mXQpJUGXZ9K8fFnazL+ET4yo1a9OhZN8+jmPlWmEPDrEjE7VJJO2pqYhpdvN5Lf7vurUqRzY/l3ELFw/Pqcn0aCEOToG+anWcS7nPMJI/lpZSXkM75494+XrD0SJXGjVd0bMqmRenV3JgEY2mOtroW1ty5TdN3kvAidz4Jg5O2RPNjOwcSmMtLUxrjmG/fe8Scxwz+QRcyZKf/q/ksQPzhyaYEsN26FsvBNAcvoX/IsZ91BGv+Xuuo4UEBF3OoaUqN+LDU7x0gYGCUFPOba0J+UNtdA1KUztLtPZf9+Pj5HbWdsptjMM8+LeqX0cueFBSLyc1GgfHDf0o3ohY8l/++Pk03zIFvGckS7VS6RL/XGNWYT6yxICcTo4lzYl9dDSM6Nkw/6sOutKRK6BDur0qkAXezbMX8ERZ3+iooJ4urUflawM0dI0IH/5Tvx6LyTXknL/LTGry6ZGutuzsHMlzPW00NQxokijMewTpSkzWUHSqJ+zqW1BtRVEV1QisuN1bsws5QtH8OT4ItqV1EMvX2W6LziGq7SjzefpUtbtl3PndeSfjjPINl1Erexv2F0q629yPRYLfLao7LJ82ccMCv9jDKxgjp6UlWBEvQUPiBUpgF9gZpnnahqb6CDcPHWHH+adLB1ZiAj+aoiFMPvpFKBu36Vc9kmSosVzrnu/T8xBHBycmS5lQvvNnoR9LDDyqceyG5Ooklses1JOlNs2OtmYoqupjUnRegzbfAf/3FJjxOUUcbx3PM6BE1dx+RAv1eXOScxmLRZw3TX4r+0uJXvLwSF1KFm2NStv+xGf9vV1SDQtPdqNE4v7UruwsZQ1omvdhPHbb/AmKkckvvDq+p/8lMds1oplt18RnsvuUgqfvZ/ymC3as8HFj9jMZ0XYhRQphDjb0VMUIdHSI1+Z5ozf4YhPbI7o8cyhUKUR4X6BbWs3c/T6S0IShSvknyDm/HRZ48S7XONDlHw1+AslsS9PsKBPfYqJ/HA9G9rO2o+TT2yWVNXMDon/SoId5tOxpjV6OubUGrULp/dxH4XpPGLOitWfOlYhD/Xg6pJ2lCxegWYj7bjxPu7Tov3ZNVWkhbpzYU4TTDU10DYsRJ1uC7kWlC5VD0uND+Tx8aV0q2SG0KbNitWk8yQ7rnmEkpRF9BK7HiWFe3H7t7XMmbOGU08+EJcmita7cWhsA4qaiULzJWjwy2HeRqd8WthV6UR5O7GiTQEpz9PUpg6/nIokuyzxlXQp4SOVxfH+zn4mty6BvqY2+vlK03TgYk46+xOfWchE6rcIdEok6PkFNs8aychFR3EOjCctLY7AB3b0qmIl+WP0zErSfPIx3KNyPpgq0mMDebKsmTqP2SA/ZXruwi9b2sBnAH/+QcZ+zHuntKd8xn7Mv7vto1SsIpHAZ6f5dXgzSprqoq1jSIEa3Vl4ypXIbDWyBSYxuB8YREVDUSlLB/NSbdnwLOET7hmtUpftfMW5X/tTxdyIovUHsOaiF3FSn4SZOxnfM/NoW9USLW0DLFvMlcb+Sx7rzzv7pU/UQsaHjS0+bftoVZZf7BO/9IMvf54LMQ859JygXKOyxeofzKWpjTLqjGtiWns610Mz/Mw5WZV0vPd0obCeDqbFmjLnkp+6XGFyMI8PTeSH/MLHr02+im2ZdchZKsqQneBVxDmupVdmHnPFIRx45J19AwplJCdH1aSIqYj8NqDeXEcCMks1fuy1jPfbu2CTGVNQaTK3wjM3H1GSEvWcjd3KYSqENV0zSjYeyJpzzwmWyPlTp1TyOD48PsGqmbNZe+QO78Ucl0hKSeiFhXSoaS0JyAYNp3HhecAXI80/NuuLB0piHqyiQ/mClOuwmgeB8Z+nWeb2W2Uir8/9Sn+pEphIUbOg5oBfcXANISnbHAdl8BmmtqyClb42WgaNmXPFjZBcrBYK/4MMrl5UbRE0bM7yhz5SUY+Pt1elEx/oxKru1ShoqIWWQX4qtfqFrVfcCUvOkferkhHxxpG9CycyeekurrkFkyilRH0jMctusbhdDayldKlcgr+UgRwd05BSpqLylymtF9/AKzy3p01J1KubrB9SHxtzPanAyIy99/HPUvlLGeeFw+rhNC1riYGOAcVbTmHv7bdEf0xl/YgAKCNxXN2f+sVNMLL5iVlHnxCQ8CmLQhF8hmkf06W+FJXtmheVnQXSzw6Vcd482jmEyvlMMS9ahx7zj/AkIPFjsnjWH6jSEwh8cpjJjQugraWLZekmjNn+CPVcEAtzEqHuV9k4pjnFjTSlsoz5StSkzZDZbDrsgOOjZ7xwecLdy8fYsmQig/qPYP7eW7yLTJGkyIQgdw6PaygRs6auOTaNR7DDyYcEuSg1mEzk+4ec2jCR1mWN0dbUwKhIdfrvfkeqXE5qfBwJ0pxUkRTszpHh5dHW1MHYpi791j/4aJoVG0/E+z/lyKJeVLXUUedlW1fCtt90Nh69yiNXL7x93uH54h4XD61n5tAutOsznT133hMjU0o5wUlhLzg8sbl64dPSx6JsC8Zvu4ZXdKavTo1FyLNjzPqpqNRWDR1TCjeYiP37KBISk0n9VoJWiUjye2wd24qSeqKEpAGWVfux5bYXn3kJRByAPInwd0+4sG85Y7v8gI2ZPrqGVlRsOYzlxx8TmPy5CVUSlAKd2NSnCqZia0jjwjSbdBrv5Cxai1R2M4kgl1PM61KZQsVq02fRCV6GZRb1FzWqZYRf/5Xuda3R0dLFuEIftjm9Jz5diUIWwasHzryLTuIblKGs007tv5Yn4bqkXsZuURoY5CvJgANBnwkPOX74+VuJmJ+woc8PFBb5xtrF6b3TmYCET4SU/Ucq4j2OMK5RYfRFgJx+GXpsdyFaLPw5tGZlrDO/ti6CoVFhbCcdwV3aWlNULZER6naO+R3KYSpqNRsUoGrb8ey84Um4iIyXrqMiLcqLC8v7Uqe4qTRntAo0Y9aRe7wPj5VyXKWgM5WMxyvaUCa/8GNrka/eKHbf880I3lSRFv0Op5MbmDmwCTaG6mA/rYKd2fHqU6EeRWoc7ien0bR4hnvDKD/lm/Ri6up9nLv5EJcXL3j24AZn9qxkwoBeDJ65laseoZI1Td1lFQl3hQBhg6GOFto2Xdhww5NIQXTyKDzvP+FNZIJaKPkSrFlAVqW85diY+hQxy0eLpfcIjMs9/TDLTzIOVSS9PsfS/vUpbKzeUMOw1M/MOnQP31i18JT5G1X8TZZ0qkVhAx20tG3oYXebd1HiHDlRrx/w+E0ECTIlyhgHJtUvibmokKddmgH7nxEo1SKXE/HqAc/eRxEbHcLD3WNoUtIcXU0t9MyLUavdSJbsPMPtpx689X7PW/cn3Dyzk0VjetGl70Q22jvjL2nVAhAFwVdW0qdhCanAiFGDCRx1ekdiWvYgMlXsJea0rkoBHZEuVYVRR5zxSxLzJbP7sVye1YIKltpoaOlRZeAOHvrEkS4qMIa8wdXDl/hEYfpSEu5+jVX9a1PMTAeTij8zZecd/KIyn13xiKUS6nKSxf0bUzqfAQYFajFw5Wl1fE82M72KpPcOLOxRh2IFyvLTxN04eUd/2mBD9M7vBJN+qiBhKPKY5zh8nscc4+fM5uGNKGWuhVnphozYcJM34bnH6mSO4b/5/z/PY1bJgnA9N5tmBYzQ0TbAwqYeXSeu5shtd4ISRM6mGDRRmCOcN05HWD6sGSWNdTEuVJmO0/bwICCLf1alIC0hmJeXtjK2VUXyi8pKmtromVhRolIdmrZsQ/u2rWjeqB6167dm6OJDPPBWF0EXEb9pMR+4t20odYuYoK2hpa6l3WEEM5esZPnCWUwcPYLRY8YyonVZ9LU10TYuQKW241mxZgMbNp/BVYRXK9OIfHOdRS0s0dTUxqBgZTrMOktQ5qbRGRtYvLv3G3O716awkShtqCW1sWTVBrTs2J1evXvSpX0LGtaqRu2Wg1ly9BH+cVlINy0B/0cHmNKuEvn0taQSjFYVmtN38jK27D/CieOH2bVxGdMHd6Njo5If9wQ2sCiH7eCZrN13Bc/YzKfrK9NNkGFaHH6P9zO5XRUsxGKhqYNRobr0W7iT83ce8vjxYx7cc+T6JXuOH9zBuiXTGdX7Z34ob42ZWUHK1PmZQTM3cuLOayJF2cJcbytqXScT4nyIGR0rk09PD4vSLZi69w4+sXJp+0hR9SvS+z775/SmUfXatBu/mWuvwsnqAZB223p9gqltK2OurYW2cUmaD52P3d797Fy7gJnLj/I0WGwB95U+5/KVVCY17Bl2Ha0lc7sUIW1UgIbjjvM+4VslHHFhdQGdFP+zTP9ZXQBBlOT8YfIp3ELVlplcm6aMx8thJQN+KIyBtjbmVXux/MxzwqRiD+pfyKPccVjRg0pWhWk4aCUXX8dmMVWrSE8I5smx+XSuURB9LU10TItQrUV/pi7fwv7fjvLbge2smj2BUV0aUsbaTC3MaeejYvOejF+8i+uvw9VbnaqURD9cR7eqBTEUgoKuFdXaDmH6klWsXr6AaaP70LXXWJbbjadJPkN0RNU+ncI0GDCDVbuv8DpO1HsW1bVecHhWJyrn15dS6DR1DLAoUo7aTX6ibfv2tPmpMbWr16Jprxnsvf2aCKnq1yd00j+cZWaH6hQw0EZLrwiNBs5mw+597Fo3n2mLDvLgQxQp2WoU5DKw4qO0cJ4fncZPpczQ1zWhxRIn/L+ZmEEecIuNo1pQwixzgxZLqveYz7FHvlLp1I9W6HRvjk1sSUXRX009ijUZxLyNe9i/ax3zpoudzz4QLdJ95F7s7l+TImJd0NDDxnYUS7cd4OCutcyfuYwTzoHEpaQS8/42dr+0opylyKXWRNvAnMLlatO0TWd69OpFj06taVK7BrWadmfG9su4BcVLOcwSgqpEnu+fQlsxhjqa6Fboi91lNyKzRZSriH+2mQE/lMBEpCRpFabDr9fxisxaMU7O24MjaFjSRBLSTErbMmrhJnbv3saa5SvYcd6FkNhUUCThc+8wk1uXx8pQE92iDRi84kxGjetP46KSheNxZRsTO9bBJp8Fxet1Z/aem3iGJGS0XUFCwFNOLO5Dw2q1aDFoOaec/aQNfj6tK0riHqynb71iGAj3j15Vhu91wierP1ORTLDraWZ2qEpBfU0MCteg+/zjPPcX1cM+tee/PPrPiRlFNG+dNtGvRhmqNGhD505tadHkR2zb9WLYxFksWr6KX1cuZd6UEfT4Sex4YoVNrTaMXHqQO2+iPquZra5F7ctjezsmd29M+YImH6uGaWgIAixExSY9mLLuBA/eRZCUxXyskicR5n6BVUNEIX/xAGlIWrdZwRJUadiBYfN2cP7OI5z2jqRGPl00NbXQNS5IhSa9mbnlEi9f3ePUno0s/KUL1a3EFofigcknbbgwfd0+zt16ine0ICcFaXFBuF7by9wBLahcxDyjVGVGdTNhhi9SiWa9p7Dx9CN8Y4RGn2WaZJQf9byxi9n9m1OxkLFU8ETHMB9Fy1SiWo0a1GnakeHTV7Nnhi0m+iYULFuHlj1GMHPVTk5cfYr/V3K0pPYlBuHhdJbtK2YzpntTKlirdxwSpKSlY0SB0tVp0KwlrVq1ouVPP9GieVOaNKpPndp1aWjbjp5DxjH31x0cu/wIr9DE7NWvsnTl06HQthMJeHKS1RO60aiSDSWrtmDglCWs37qdrRtWMHvcIHr16Me45Qe5/SqEpBycKAhUnvCOS6uH0EDUqhYCj1lhylZvSNv+09hy+ZV6J6BPN/3KkShGIifmxVm2rlvGrJEdqWapDlATGAgNwaJUI/pPXsTa7b9x4bEvKVnHKNuV1YScGPCC68e3smhMe6oXMVOTloYWZuVbMWz2GnYespc0Dpm0l3COi8kj8bi8g7kDW1K9WEFs6nRk+KxVbN65m51bVjNv/AA6tmrHoDlbueIRkW07PKkpUinHN9zcP5/+tlWwNtWTotpNrYpRtlJlqtVuQKu+07FbNJKWNUtgUbAUNZp2YujUpWw+eInn/rHSntFiAVQl+3J9w2halM+PgfBba+pgaJ4fqwLFqNJiMEuPPcH/3XY6F7YgX+Hy1GvZg2HTV7H79H18EuXSXBZ1AsQ+7HvmDcK2ShFMhblU4Cphq49lidp0GL2Mw7dfESLVqs6Ohyo1gJsbRvCjSLHR1kTXpBClqtSjZY9xrLV/TrC0zeSX08qEkBT36gr7Vk+icEQDowAAIABJREFUS60iGAvrhaY21nV7MHnZZg5fcyMi+UsFQ0SBCk/unt3L+jlDaF3TBjM99Zamov26luVo2mMsi/fdxCsoDrkkIKTy4epqBjQsgbm+Npq6pliXriJhM36tPS8yt1VUpfDefi4dqxTIEHxMKVy2Gg1a92Ha5su8ynAJCDeX/7PzrJvUnQblCmKcFT8hPOcvSd12w1my7xpuAbEZ/ncF0T7PuXliPeM716VExhqnaVKaZv2msHL7OZ74hhMf7sX9iwdZPrQ55QqI6lpiXHQpUr8vU1ft4Zp7mLR9qkBX5nOBJT1rUdhYWP/0sChajtpNOzNq4R5uvHzPu5dOnDu0kdnD2lGjqJl6T3aDAlT4sQeTlm3n7F03/KJTProvFUkhuN86zIqx3WhUtQLVGrZh4MQFrLbbytaNK5kzfhDdu/Zh9LxtXHTxJ0ba2Us9NxThntw9v4+lg0W7RSXBjFr0LYcwZ8MBrr3wIzwqkJfXj7BmUhfq2FigL23DmZ+yDbsxec1hbr7wIzb5Wy0m2R7yv/XNf0/MqhTC3txh/7JFbD13n2fPHnL7wnH2bFrB3MljGDl8KIP69aJ71+70HjSa6UvtOHzpIV5huezDnAGNqOqVmhDGu2c3OLZ9FXMn/8LwocMZPWEmS9bu4uTNZ/hEih1hcmIp9mKOxc/lCgfWL2TKL8MYMmwMUxasY/85J14Fi4ISKcR8eMCRFVMZMXgwIybOZ9NxR16HxhPn/5zr9sc5sH0T69etY530Wo9Iv9l39By3n7wiMMP+K5FIchQfXO9wes86Fk4bx4ghgxk2ajzTFqzEbv8Zbr/wJVr4jXI2U3ovfNDxBLo5ckr8fuoYhg0awIDBIxk/cznbTtzgpU8wgTe2MmvRBvadusIDNx8iknOwWS7XVrctnPfPb3F6/y622m3I6Etmn7L+X8/6DZvYsnUHu/cd5MjJ81y9+wQ3aaP0HD6vXO6V/SM1GcYHvOTGid2sWzyTieMnMm32fBYtXcGvG3Zx4upj3oYlkpsnS9JIBZl6P+T0loVMHDGYwcPGMmP5Nk7e9SJClFfNfsOvvBNtSSfe6xYnDu1h68asfc44Xr+BTVt2cfDUJe66BSHLzh1Zrq0m5uRQLx5dPcHebXZSVTf1/BDX2sjWvUc4c/EWroGJGVHXuVxM+Ay97uPw2zZWzZnEuPGTmT5nIYuXLGbJ6q0cOueEV4RI88rlt1JrRJnLQNzvnmX32oVM/WUYgwYOYujoySxYsweHx2/5f+ydBVRU2xfGX9ndYnd3d4uJ3Qp2gN3Y3YKF2ImCAYIoit3Y9Xx2PH0+X/jKeB3/77++g3cccMABB7gzs1nrrhlmbuzznTvnd/c5++zz7Op+rF/mCY8VPgg+dgn3v3sZ3qhHOqdaG9rPC1NH9kcPZxf0GTQGUxeuxo7jt/HDH//g359PYOXUuVi2fgf2n76GB9+9Uo2vsWVqWOdrLtqxFgu51nnvnujZ2xUjJsyGl89enLv7LV6pQDcjKQ1v/8Orx+exa8V0DO/XE9179ceIqYux5RADOd+MwRv2NfXmf3j94BQCN6/EYk8Pw/3t4bEEKzdux94z9/BzBA/S+ByctvgAFw/vwpZ1K7B0kYfR7z383vBcuhKb9l7Al9+/MvRc/PfyEU77L8eUoX3RvXsvDBgxFUu2HMIX37yKEGn/74t7OLrFA+5uPeHs3BOuo6bDa9sx3HkecRUrxlR8f/8C9m31xuzxw9C/dw/07D0Aw8byYXELQpgS9hfjQLT/8OLpLZwN3YENK5dhkYdWbg8sXrEevruO4cbXP+HXn77ElRPB8FnthcUeRvf9ouVY57cbZ+79iNd/vXno+fclHpzchsUTBqE328NB7pi3ZhfO3Pser359hecPLuPo3p3YuMrLSGcPeC5dgXVbAnH00l188+KPCA/u/+MUyrsXcGDHGiyc6o4Rw0ZglPsETJ4yDbM9vLE5+BRuff0C4Q+wb+vl358e4NKxIGxe5YVFRnZ7LFmBTduDceb2N/jpl+9w5+xB7NzgrerN0EYvXYGN/gdx/vYzvDI1rv32MvHyTgdg/g9//voLvnn8+E13FctN6PyKH79+gFvXr+DCubM4e/4yPr/7GN/zR2emNATMP3+8wo/ffoWH9x/i8dfP8fL38Cf26E5BsP/168/49slD3H/wBN/+/FvEG+ffv/HHL9/g4b17ePj0hwiBZdGd19R3tJFl/eX7p3h0/x4ePP4az18wdZ7peabvnoPdwH/gxXdP8ODubdy+9whPn7/C3xzL/Pcf/PXiOb5jN/i7B+r3E9quHq6e46tH93Dn9l08/Oo7/GwWWMMh+NerH/D04T3ce/AVnr/kQvH6LW7MLfsPf/z8DZ48uItbt+7g/uNv8BOTMUSCZ9Tn/Q9//fYLvnvyAHfv3MX9x9/il1/fwOz3F/jxl1f4jUFCrIeoTwL89ydefPsl7t25i0fPflQBT2qKEY/55yV+UA+/7zkHf+3//o3fXnyHJw/v4/6jr/D9L+GpI99fnP/h719/wNeP7uPeg8f47kX4wh/vPy66QsXtd4TO86cPce/uAzz5/gX++Nt0vf3v71f47vF93LnzAE+ev1J5FEzXBX//f+L1j9/gMfV7+ATf/fhSnTfqBzQLl5Grx33/lWoPHz19jld/aouNfOB1OL30l+eqfu/euYeHT77Fz7/yt/z+e+oDr5zghyc8mBNcAjFAFBAFRAFRQBTQjwICZv3UhVgiCogCooAoIApAwCw3gSggCogCooAooCMFBMw6qgwxRRQQBUQBUUAUEDDLPSAKiAKigCggCuhIAQGzjipDTBEFRAFRQBQQBQTMcg+IAqKAKCAKiAI6UkDArKPKEFNEAVFAFBAFRAEBs9wDooAoIAqIAqKAjhQQMOuoMsQUUUAUEAVEAVFAwCz3gCggCogCooAooCMFBMw6qgwxRRQQBUQBUUAUEDDLPSAKiAKigCggCuhIAQGzjipDTBEFRAFRQBQQBQTMcg+IAqKAKCAKiAI6UkDArKPKEFNEAVFAFBAFRAEBs9wDooAoIAqIAqKAjhQQMOuoMsQUUUAUEAVEAVFAwCz3gCggCogCooAooCMFBMw6qgwxRRQQBUQBUUAUEDDLPSAKiAKigCggCuhIAQGzjipDTBEFRAFRQBQQBQTMcg+IAqKAKCAKiAI6UkDArKPKEFNEAVFAFBAFRAEBs9wDooAoIAqIAqKAjhQQMOuoMsQUUUAUEAVEAVFAwCz3gCggCogCooAooCMFBMw6qgwxRRQQBUQBUUAUEDDLPSAKiAKigCggCuhIAQGzjipDTBEFRAFRQBQQBQTMcg+IAqKAKCAKiAI6UkDArKPKEFNEAVFAFBAFRAEBs9wDooAoIAqIAqKAjhQQMOuoMsQUUUAUEAVEAVFAwCz3gCggCogCooAooCMFBMw6qgwxRRQQBUQBUUAUEDDLPSAKiAKigCggCuhIAQGzjipDTBEFRAFRQBQQBQTMcg+IAqKAKCAKiAI6UkDArKPKEFNEAVFAFBAFRAEBs9wDooAoIAqIAqKAjhQQMOuoMsQUUUAUEAVEAVFAwCz3gCggCogCooAooCMFBMw6qgwxRRQQBUQBUUAUEDDLPSAKiAKigCggCuhIAQGzjipDTBEFRAFRQBQQBQTMcg+IAqKAKCAKiAI6UkDArKPKEFNEAVFAFBAFRAEBs9wDooAoIAqIAqKAjhQQMOuoMsQUUUAUEAVEAVFAwCz3gCggCogCooAooCMFBMw6qgwxRRSwVgUeP36Mv/76C//73/+stQhityigGwUEzLqpCjFEFLBOBQhjDw8P3Lt3D//884/A2TqrUazWkQICZh1VhpgiClijAs+fP0f16tWxaNEivH79WsBsjZUoNutKAQGzrqpDjBEFrEsBesvbt29H5syZFZyfPHmC//77T+BsXdUo1upMAQGzzipEzBEFrEmB33//HR07dkTSpEmRIkUK+Pv7488//xQwW1Mliq26U0DArLsqEYNEAetQgN7yhQsXUKBAAXzyySf46KOP0LlzZ/z0008CZuuoQrFSpwoImHVaMWKWKKB3Bf79919MmDABqVOnVlAmmB0cHHD+/HkJAtN75Yl9ulZAwKzr6hHjRAH9KvD06VNUqVIFn332mQHMn376KSZOnChBYPqtNrHMChQQMFtBJYmJooDeFGCA17p165AlSxYDlOkxcytZsiQePnyogsD0ZrfYIwpYgwICZmuoJbFRFNCZAi9fvkSrVq2QJEmSd8DMQDAfHx8JAtNZnYk51qOAgNl66kosFQV0oQCDvo4fP478+fMbgr40b1l7dXJywg8//CBBYLqoMTHC2hQQMFtbjYm9okACK/DHH39g+PDhSJMmDT7++ON3PGbCOUOGDDh27Bj+/vtvgXMC15dc3voUEDBbX52JxaJAgipw48YNVKxYEYkSJTIJZYKZ06cGDRqEFy9eCJgTtLbk4taogIDZGmtNbBYFEkgBBn15enqqoC9GYCdOnDiC10wg8zPCmV3dV69eBadVyZ8oIAqYr4CA2XytZE9RwO4V+Pbbb9G8eXPkzJkTLVq0QKNGjZAsWTKD55wqVSq4uLioaVTs6p4/fz6YHYzj0vInCogC5ikgYDZPJ9lLFLB7BQjXffv2oXv37pg2bRpOnTqF5cuXI3369AYwZ8qUCWFhYdi1axf69++v9uUiFwJmu799RIAYKCBgjoFYsqsoYM8KEK6nT59WQV30nJkTm7mxCWMtGpuLWXz11VfKS7579y58fX0lRac93zRS9lgpIGCOlWxykChgfwoQzL/++qsCsraCFD3jyGD++uuvlYfMseXffvtN0nPa360iJf5ABQTMHyigHC4K2JMChLNxt3R0YLYnXaSsooAlFRAwW1JNOZcoYGcKCJjtrMKluPGigIA5XmSWi4gCtqmAgNk261VKlbAKCJgTVn+5uihg1QpoYNYygDH4SxtjtuqCifGiQAIqIGBOQPHl0qKAtSsgYLb2GhT79aiAgFmPtSI2iQJWooCA2UoqSsy0KgUEzFZVXWKsKKAvBQTM+qoPscY2FBAw20Y9SilEgQRRQMCcILLLRW1cAQGzjVewFE8UiEsFBMxxqa6c214VEDDba81LuUUBCyggYLaAiHIKUSCSAgLmSILIv6KAKGC+AgJm87WSPUUBcxUQMJurlOwnCogC7yiggdl4EQuZx/yOTPKBKBAjBQTMMZJLdhYFRAFjBQTMxmrIe1HAMgoImC2jo5xFFLBLBTQwS+Yvu6x+KXQcKSBgjiNh5bSigD0oIGC2h1qWMsa3AgLm+FZcrmcVCmjLG8pr+DKPUeng7+8P5semx8yN758+fQptveaojpPP/2cVvwMxMmEUEDAnjO5yVR0qQFgQKL///jt+/PFHBZgnT55Atqg18PLyUjBOlCgRuGXJkgVhYWF4/Pix6BbFvcMHl+fPn+P169f4999/I6xvrcOfhZiUAAoImBNAdLmk/hQglH/77Tc8ePAA+/btw4IFCzB06FAMGDBAtmg0qF+/PlKnTo0kSZKoLU2aNOjatatoFo1mgwcPxsyZM7Fz507cuHEDv/zyiwBaf01CglokYE5Q+eXielCAUH7x4gVCQ0Ph6uqK2rVrI0+ePEiZMqUBOBp45DUcwJoO9JI/++wzfPrpp2rje+07eY2olaZH8uTJkS1bNlSuXBnOzs7YunWrWirzn3/+Ee9ZDw2CDmwQMOugEsSEhFNAgzLHShs3boxUqVJBm5Mrrx+JFh/FrQZJkyZVgOaQwFdffQWBc8K1BXq6soBZT7UhtsSrAoTyX3/9hcDAQNSpU0eNkRrDOHHixEiRIqVsooFF74EkSZLi448/MTz0fPLJJyhVqhQI5x9++EG85nhtBfR5MQGzPutFrIoHBRjodffuXTRr1gyEsAblTz75FA4OOVCxQjU0rN8cDes7ySYaWOweqFq5DvLkLoCkSZMZ7jlGtJcrVw6HDx/GH3/8IXCOh9+/ni8hYNZz7YhtcarA33//jcWLFyNt2rSGBpLeS948BdG39wh4zt+I1d67sNo7UDbRwGL3wFKPrRg+eArKla2CZMmSG+49js8zMOzbb78VMMfpL1//Jxcw67+OxMI4UECLwnZ0dFTBS5q3nCZNOgzoNxoB207jxKH7OHXkoWyigUXvgZOHHmDvrouY6L4A+fMVwaeffmaAc5EiRXD79m0Bcxz85q3plAJma6otsdViChDMP/30E/Lly2doFNmdWLx4WWzbfFg1xGeOfgnZRIO4uAdOH3mEYP/zaOzYGsmTpzTcgwwGu3r1qoDZYr906zyRgNk6602s/kAFCGZ2GTo4OBgaxU8/+RTNmrTF0f23BMjyUBLn9wA95/59RiJ9uoyGe5A9N5cvXxYwf+Dv29oPFzBbew2K/bFSgGB+9uwZsmbNamgUOcbXtXMfnDh4D/RoZBMN4voeGD1iOjJnyqrSmWrDKQLmWP2kbeogAbNNVacUxlwFogKzS7cBAmZ5KIm3h7Kxo2YiS2YBs7m/W3vZT8BsLzUt5YyggIBZvOG49obNOX84mB3EY47w65R/BMxyD9ilAgJmAbM54IzrfQTMdtn8vLfQAub3SiQ72KICpsDMaStaV3ZcROLG5pwMEArwOw3fjYexbfNRNYWLsDD3XBwvD9pxVh0fuD0Mx9+Mn5t7fGz227/7Kvw2HcHWDYfA96ePPDTb3lOHHyAk8LI63t/3FA6H3FTdyrGxw/iY4wfugefbE3AB1DQmGhqfx9Lv3UfPQubMjHP42BDrIGPMttjixKxMAuaY6SV724gCUYG5u/MABT9LN8CxPd+R/bcwZOBEtG3lgk7t+yBg2ynD+Of7zkn4BO0Ig1t/d7Rv0wNjR87GvqDLFoFSaPA1Bbqj+2+/Od/bhwWvxX7o2K4XWrdwxqxpy3H8wF2zwUwoT524BB3a9sQg1/HYuuGgAun7yvq+70MCL2HgAHfMmuZlMdi/75rmfC9gtpEGxcLFEDBbWFA5nXUoYC1gDt1zHTWq1Ue6tBmRIUNmTJngiRMH75sF1+MH72LR/I3In68wMmbIjKaN2xrAbg40ottnqecW9Os1Eju3HsepwxHtGTtqNrJkzobUqdOhbp3G2Btw0Sx7+SCxxjsQdWs3Rob0mVC1cm0s9diivPzobDHnuwC/k6hcqSZ6uLi+8eLfPkiYc3xc7SNgto72Ir6tFDDHt+JyPV0oYC1g3h98DWXLVAIXPkiZMhXq1GqEg3tvmAU6diP3cBmENGnSIm3adAp4O31PmHXs+0A0avg0FCtWGmu8AwxR7Noxw4dMUakmeV120xKufJjQvo/qlb0DE8YuQN48BZAiRSqULlUBnvM2xMjjjurcfIAoUbwMOnXsYbFeg6iuFZPPBcy6aA50Z4SAWXdVIgbFhwLWBuY0adKjQoWqyJQxCzas2YNThx9GC1iO6/puPIjy5auiUMGiKFKkOOrVaQxLgXmw2zjkzJkXK5ZtB8dvjcdsNTBXrFgN6dNnhEs3VxwO+SLCPpHhxeN3+p5Eu7bdUbhQcRQpUkLZ7jlvo4A5Pn4Qcg1dKSBg1lV1iDHxpYC1gTlTpqwYPHCc8n7dBoxWsDKGYWTQHQu9jSkTPJAnd360b+uMqlVroV6dJibBTIgfO3AHB4KvY1/gFdXVy+xn0cHfHDB37tgL5ctWRskS5dR1eb7Idmr/06NetGDTmxW9mqGRYwvV9Sxgjq9fhFxHTwoImPVUG2JLvClgbWDOkiUbvJb4omSJsihZsiz2BUYfxMVgp+ZN26JE8bKYPnkxatdu+A6YCfbD+25i/apgTJmwCK59x6Cn8xD06TEc7qPnYsXSHWCQlwboo6G3sdY7CIvn+6ClUyeohwW38Vgwez0WzduEI/tuKa9Y85gH9BuFAX1HIkOGTJg+eUm0nm/o7qsYPHA8SpcqDz54tG/bHVUq14YxmNk1v3ZFEPz9TkX7YOLvexJenn7YF3TFYLt0ZcfbT0suZAEFBMwWEFFOYX0KWCOYfTbsR/++I5EyZWrlXXJqkSmvmSBdv2q36sJu18YZa7x3oU5tx3fAfCD4GubOXIWWTp1Rp3ZjNQZdu2Zj1KzeQEGxft1mKtiMgON1uCJSl459Ub1KPeTKmU+tJ1ysaGlUKl8TlSvUQtCOcxHAPMjNHauX+6sxY8eGLXBgz3XT9h55CJ/1+9G4USvUr9sUixZuRJdOfd8B88Y1e9ChXU9Mn7IMoXuumTwXPfBpE5eC5Vi3crdh/FvAbH2/UXu2WMBsz7Vvx2W3RjD7bT6EjWv3ImvWbGjbupvBQ9W6g7VXBlENcnVHNoecmDtrFbZsOIC6dSKC+eSh+1i8YJOKmiaARwydhnkz18Bz/ibMm7UGwwZPUV3JFctXg/cSjiPfBUE+fsw85VFXqlgDqVOnVZHe3bsOQk+XIdgXxDnLj6B5zATz3l2X0LpVZ2TPngub1+0zOYeYnvjMaV4oVbI8evcYCt9Nh+DcZcA7YF6+2BeVKlTH0EETwR6BqOZHD3KdoKLCl3r44PiBO8omAbMd/9itsOgCZiusNDH5wxWwTjAfxuF9X8CxoRNy5cqDbT5HTHiNnLt8FhXKV1Nb4I4z8Nt8+B0wE2wu3dxQqUINTJ+8VCX14JzkY6F3cSz0Dvbvvoaxo2Yhd658GDFkCkJ3s0v7gQri4lh0/z4jkCN7bnjO36DgGxp83dBtbAzmI/tuYsGcNciYIZPqquZDg7GXz/e7d56Dc9cBKFe2MhbMWYdd20+r/yN3ZXst2qr2Gew2Xl0zKjC79R+HDOkyYfHCTQLmD/+pyBkSQAEBcwKILpdMeAWsFczMWjV7+nI1fWrMyBmGrlrNW2Y39qIFG5VX7dp/NBgEZgrM/KxN665w7tIfAX6nDFDVzkNg0jsvUqQk2rfpDmYNMwahOcFf9JgJe647zKlPZctWUu+NwUzPffXyAFSvVg8tmnfErm2nEewfDmoBc8L/TsSChFFAwJwwustVE1gBDczG6zFz2UeXbv0NaSsJkITe9u2+ijKlKyFzZgfVxUvwcqyX0dZVq9RWnq6xjQzA6tS+J3LmyIP1q3fj5OEH8Nt8BHXedGXv2HpCQZhe6tyZK7Fi6XYVAGZ8Dr7ndbyXbUfBAsXQqEEr7HxznLZfOJjzvJkudTeCTsOHTFbzmAlmeshMdKKtO7x44WbDwwTPdXDPDbiPmo3SJctj1LDpoIe9J+D8m67sWvB4M4+Z+y7z3IKyZSpjkOs4pQFt1OwxfnXr564SlNBj5oMJv9u59RiKFyuNjh26GwLnjI9JqPfMlc26/fhjScmZwE2Cri4vYNZVdYgx8aWANYOZQOrSqY+Kdl7ptcPg7RIu232OoGCBIqhXtykOh4QnIokIZmbqeqjGejkliuO7nGO8a/sZ+KwPVYFizOo1aZwnOnfopSKvG9ZrgR1bwoGuAcwcMA90DQczPe0Na4Lh4JADXTr3wcE9nytY0o4dW46jRfMOqFqlDlYv36USkUQN5q2xBvMOYzC/SUuqlSUhX2URi/j6xVvXdQTM1lVfYq2FFNDAnDUrFxD4SG1cxEJvubL3B19Vmb84XYrdz5qXSE83bZr06NVjkMEr5BjwuNGzVVKPyeM91JjwmaOPlMdsCP7aGp75izBitDWzco0cOhW9egxBl0790K1LP/TrMxzdnQeia+e+cMiaAw3rtzR4zFpXd0y6snktPiTUrdMIxYqWwrbNR1Q5GFDGlKFlylRU0d4huxjQ9UgtNMExZ8t3ZZfWZ+avTLKIhYV+1jZzGgGzzVSlFCQmClgPmMNTckYG86G9N1RwV7FiJeHvd1IBjfN8a9VsgKJFSkbIiU2P2QBm33DPl6ssjRs9F40atlRju/16j8Co4TMwffIyeC/ZprznVcv9UbRwKTQ06sqOLZj5QDFp/ALVxTx10iIcVQFmV+DadxRKlaqAmdOWq6CzDwUzj3ftOxbp02WU4K+Y/CBkX10pIGDWVXWIMfGlgLWDmQAaNniSyoE9c6qX8o69l25HlixZ0bVLPxw7ED7uS5BGBjNTaM6fvVZ1H7dq0QXLPH0RvPMcjuy/qcZ/GWBGkDLqu3ixsnC0AJhpR+D208ibtwCcmrVHcMAFbNkQqnJ/N6jXXNlIj5/78aEhOo95kBvHmE1Pl2IwWa/ug5E2bXoBc3z9mOQ6FldAwGxxSeWE1qCAtYOZACPYsmfLiaaN22D/7iuqG5q5qb0W+yqwch9ukcHMMd7+fUahRIlyykPmODNBz007hu/XrgxE4UIl0LD+2+Av7fuYdmXzOK4N3dKpIwoWLArvZTswddJi5d0P7D82wsIcUYF5+WI/leJzQN9RKrqbDw+aPdorM5m1atFJLfgh06Ws4ZcoNppSQMBsShX5zOYVsAUwM791k0atkD17ThVhXaBAEVSpVEul0TSGbGQwM51nt879VA7rhXPWv7OMJI8l4JjIg13oUY4x58gD76V+US5ioU2X0mzh67xZq1QQWK8eg5XnXKZUJRC4xqtPRQXmdSuDwMQmbVp1g9+mw++s08zzb1q7D2VKV0SiRImxeAEXwJAEIzb/Y7bBAgqYbbBSpUjvV8AWwEwvcfYMb6RLl15l6UqdKjVGj5iupkhpHiRfI4P54J7r4Jgyl1ccPngyDkRKb0mPesHsNWjapDXSpOGays2w3edYBC98xLApyJo1OyZP8HgnA5lxghHOY9bATFs4R7l8+SoqXWje3AXQumWXN3Ob33q/UYGZc5wb1ndSDxTzZ68xTPPSyspzsxu7VKlySJokqcpsJmB+/29B9tCfAgJm/dWJWBQPCmhgto55zBUjzGMm6LRt764Lal3kxIkTI1fO8GxgWuS2tg+juY3nMTMammk3S5QoqyK+6Rkvmr8JXou2Yf6sNWBXccMGTnAbMEalySxYoCgGu01A4I4wcAyX52U2L6aeHL/5AAAgAElEQVTZpAfr0tUNvXsMw36VkvMhhkWax6zZwVd6+X17DUWqlKnhQLCP91BTtoz3iWq6FOdEDxs8GfnzFVbTwcaNnoMlC33gvXg7COqeLgPRuFFLuHTrp5bHjDCPeYvRPGadTZeSeczx8IO3sksImK2swsRcyyhgLWA+sPdztGjeCdWq1FPR15GhyznCrv3HoFjRMipgiuk0jSHH98zs1a1zX3Tr3B+BO84qz5fZuBiFXblSTTXOyyQmFcpVV0lLGNndr/dI+G06AvfRs1X3OOdFcxUqQp3nZNrPPj2HoWrl2iherAy4mEXgtjB1bqb45PkmjfcwRFprNjGwbOWyHahauY7Ks7114yFD/mxtn31BlzFi6FS1wtRKL/8ICV/ouTOfNhONMCsZr0MbuEhH86btMGvaciycuwbly1V9k/wkXA+mJm3WpK1aOpM5v7VrJfSrJBixzO/Z1s4iYLa1GpXymKWAtYD5+MF7WLnMH0sWbsEhlTDk3WxXXOZwwex1byKb3/2eCUS40tK6lcGG7l8CnvOYly3yxRC3CejasT+6dOwH5qH2nLdBdS9z3Dck6BKWefph/qy16jOClTDj8cy3Tds4Tr1g9lqVqITf7fQ9CY+5G1TyEG1/YwAe3Pu5Ouca7yCVGcz4O77nw4XvxkNY4x34JsNX+DX5Ha8buP2M8uz79hqJzu37wqWLG0aPmKmWhDy09wuV1pOR6kHKww8/lmPmXMaSC3poDxeRr5sQ/wuYzfq52t1OAma7q3IpMBWwFjDHNSwIOo4DMzUmN743BdO4tiOm56eNh0NuqixinNPN6WEsC8/DaVeMANf+j+m543N/AbO0R6YUEDCbUkU+s3kFBMxvx6njE0RyrYi6C5htvqmJVQEFzLGSTQ6ydgUEzBEBIcBMGD0I5iyyiIW1NycWt1/AbHFJ5YTWoEB0YGY3qIAqYUBlb7oLmK2htYh/GwXM8a+5XFEHCkQF5k4deqplCu0NEFLehHkQGTF0CjJlyiLLPuqgTdCTCQJmPdWG2BJvChDM3333HbJly2ZYXeqTTz5BrRoNcGDP9XdSPWpJLOQ1PM2n6PDhOnBOd9dOfZEmdVrDPch1mS9fvqyCE+PtxyAX0p0CAmbdVYkYFB8KEMwvXrxA8eLFQSCHL/34MbJnywXvJdvVlBqBz4fDRzQ0reGJQ/fVCl6VKtZEksRJDGBOkyYNrl27JmCOj0ZAx9cQMOu4csS0uFXgjz/+QK9evZAsWTJDw5gkSVI0b9oeq7wCsDfgIkKDr+PAns9lEw0scw8EX0dI4GVsWhuCHi4DkSWLg+HBkN5y/fr18fDhQwFz3P70dX92AbPuq0gMjCsF/v33X4SGhqJw4cIRGse0Kj90Ewx2HY+JYz0wZfxi2UQDi9wDk8Z5YMSQqXBq1gE5sufGZ599ZngoTJs2LZYvX656ctijI3/2q4CA2X7r3u5LrnVnu7u7I2PGjBECcJh7Okf2XChUsDiKFC4lm2hgkXuAy2jmzpUPKVKkNDwMchglefLkaNGiBW7evAk+MMqffSsgYLbv+rfr0hPMbARv3LiBzp07I3v27Pj0008NHkz4uPNH8v9HokFc3Qvsvk6fPj0aNGiAwMBAvH79Wrqx7bpVCi+8gFluArtWgHD++++/cfLkSYwYMQJly5ZFpkyZkChRoggedFw1zHJe+4Q+u7DZdV2kSBH06NEDu3btws8//yxQtuvW6G3hBcxvtZB3dqqABufbt29j/fr1cHV1VR5M5cqVUaFCBbO3EiVKIH/+/ChXrpzZx8Tk/LKv+XURF1qVLl1axSMwkr98+fKxruNKlSqhTp066N69OxYvXozz58+Lp2ynbU9UxRYwR6WMfG5XChDO//33H3755Rd88cUXOHjwoOpa3LlzJ8zZduzYgXnz5qFnz54K7uYcI/uYp61edFqxYgVGjhyJuXPnws/Pz6z7wpTt9I737dun5itzLv0///wjnrJdtTbvL6yA+f0ayR52pgAhzcbyzz//BKdUmbO9evUKQUFB6NOnD65cuWLWMeacV/YxT/+41un3339HWFgYJkyYAD6E/fjjjx9Ux3/99Zd6EOS9Jn+iQGQFBMyRFZH/RYEYKsDG9fnz55gxY4Yao/bx8VFgj+FpZHcdK0Aw00uuVauWgvPTp08VWHVssphmxQoImK248sT0hFeAUGZk94ULF1CzZk2kSpUKAwcOxPfff5/wxokFFlPg8ePHKjiQ0+oaNWqE48ePqx4Vi11ATiQKGCkgYDYSQ96KAjFVgGD+9ddfsWHDBgVlpvesXr06jhw5IuOGMRVTp/vzwevYsWOqXhmtnzdvXixZsgQ//fST1LFO68zazRIwW3sNiv0JqgDB/OWXX6opL5yTyulPWbJkwaxZs8BxZ/mzfgUIYE9PTzg4OKgpdEzhyilOn3/+uQxZWH/16rIEAmZdVosYZQ0KEMqcA3348GHkyZPHkIiEWcPatGmjEpdYQznExqgVYB1fv35dZeXScqrzAYxT4jjmLAlBotZOvom9AgLm2GsnR9q5Amy06U3NnDkzQs5jNtzMv71582YFbjuXyaqL/9tvv2Hr1q2q+/rtKmQfIV26dBg7diw49iwpNK26inVpvIBZl9UiRuldAUJZS+fJMeXIGbxSpEihgsAYvSt/1qsAwduvXz8VP2Bcx0zd6ujoqGIJOFVL/kQBSyogYLakmnIuu1GAYGbQ16ZNm5AyZcp3wEzvihmeQkJCZFqNld4VnMt+4sQJlClTJkKPiAbonDlzqsxdEgRmpRWsY7MFzDquHDFNvwoQzPSGO3ToEGVObXZ3cm7zixcv9FsQsSxKBQjc+fPnq5XHNBgbvzKWwNnZGVevXpUhiyhVlC9io4CAOTaqyTF2rQChTG+KC18wUte4sTZ+z4UKuJTf5cuX7Vovayw865i50zlnOUmSJFHWMRehYCwBI/B5jPyJApZQQMBsCRXlHHalABtgesFMz/i+ZSJz5cqlcmczelv+rEcBjhsHBASA9adNg9NejR++GKk9atQoNWVOgsCsp371bqmAWe81JPbpSgFCmYtd3L9/H6VKlVIL3HNFKS4VqTXYTELBz+hNpU6dGgMGDFANt64KIsZEqQDrmItLcJUxrpXMqXBFixaN4DlnzZpVRd5zuIIrRYWGhqrc2VGeVL4QBWKggIA5BmLJrqIAG20uQMBVgziX1c3NTSUTYaCXBmbCmKtMrVy5Ep07d0bTpk3VakIEuvzpXwF6vpcuXULz5s3RrVs3LFiwQK0qRUhrdcwubg8PDwwdOhT16tXD8uXL1cIWvD/kTxT4UAUEzB+qoBxvVwqw4WU3J8G8bt06PHr0SDXibJy1Rjtt2rSYPHmymuPM8WUvLy8V3Svd2dZxq/DB69y5c1i1apUK7Hr27Jl6nzlzZkMdu7i44NatW3jw4AG2bNmC4OBglR9dHr6so471bqWAWe81JPbpSgGCmR4VG2tmfeL7mzdvon79+oZGm2CeNm2aitQljH/++We1zjMDxuRP/wqwntiVzXpj/XFaHB/CmGpVe/hijwjnOHNfBn798MMPYDISAbP+69caLBQwW0MtiY26UoBw1hpgvo8KzGy0+b22P1/lT/8KGNcX30cF5idPnqj7IPL++i+hWKh3BQTMeq8hsU/XCrBRjg7MujZejDNLgfeB2ayTyE6iQAwUEDDHQCzZVRSIrICAObIitve/gNn26lTvJRIw672GxD5dKyBg1nX1WMQ4AbNFZJSTxEABAXMMxJJdRYHICgiYIytie/8LmG2vTvVeIgGz3mtI7NO1AgJmXVePRYwTMFtERjlJDBQQMMdALNlVFIisgIA5siK297+A2fbqVO8lEjDrvYbEPl0rIGDWdfVYxDgBs0VklJPEQAEBcwzEkl1FgcgKCJgjK2J7/wuYba9O9V4iAbPea0gn9hFA3Jg0g+vUchGHa9euqZSFXI/WXjem3PT390fVqlWRNGlScLWhjBkzqgUQmNbRXnUxLvf169dV6lKmMmViFt5H1vQnYLam2rINWwXMtlGPcVoKNqRsVJkbmGvPuru7g7mC27Rpg1atWtn9xjzZTNdIKHNLmTKlWlmqWbNmdq8N74+2bduiV69emDlzpsopzfSV1gRoAXOcNi9ychMKCJhNiCIfvVWAUGYu4JCQENW4FixYMMLyd1ruYHn9yJBHWbQwrUXy5MlRoUIFjBs3DmfPnlWrdFmD9yxgftseyLv4UUDAHD86W+VV2Gi+fPlSLRhPr5ANq0DHNHREF/N1SZEihfKiT5w4YRVwFjBbZfNl1UYLmK26+uLOeEL5999/V54yoZwoUaK3UP74Y3z66af47LPPZBMNzLoHPvnkk7f3z0cfqYe8rl274uHDh4YFQeLubv6wMwuYP0w/OTrmCgiYY66ZXRzBIK/bt2+jT58+EbquCeOs2R1QpVZVNGvbHC06tJJNNIj2HmjezgmlK5RBytSp8PHHHxsAzXF5T09PtXymnru0Bcx20eTpqpACZl1Vhz6MYSPJxmjr1q0oVqyYoSGl11y4eBEMGOWG1f5rEXAqCLvD9somGkR7DwSeDsYSHy84D+iODJkyGuDMh7w6derg7t27al1rfdz971phCswMZtOWfXz3CPlEFPgwBQTMH6afTR5NMD9//hwTJ05UU4A4fsquyGw5ssN1zCDsvbgfF76+jIvfXJFNNDDvHnh2BfuvHETLjq2QJGkSw8Ne/vz5ERgYiD///FO3vyUBs26rxmYNEzDbbNXGvmD//vsvvvzyS7i5uRka0MSJE6N6vZpYG7QB555eNK8xFmiJTkb3wIVnl+G1dQXSpU9nuK/YnT1//nz89ttvsb9h4/hIAXMcCyynf0cBAfM7ksgHBPO9e/fU+LIWbcz5uW27tUfgmWCBjRFspNcgZr0mHPrI4pDF0J2dPn161TND+On1T8Cs15qxXbsEzLZbt7EumQbm3r17GzybZMmToUvvrth7YT8ufXtVNtEgVvcA758s2bIa7qt06dKphDWvX7+O9f0a1weaAnPPnj1ljDmuhbfj8wuY7bjyoyp6lGDu003ALECOFZC1hzkBc1S/OvlcFHirgID5rRby7o0CAmbpEdBAaulXAbM0M6LA+xUQML9fI7vbQ09gjmoM99I3Ak9LQzM+zidgtrvmRAocCwUEzLEQzdYP0QOYCWRG8Z68fwa7z+2F76FtWL9no9q2HPBFUFgwDn9xTEWIxxVQaMPZJxdw8PMj2HflgLrexWdXouzKVft/dQFHbh4L3//mMZz96kKU+5uy+9xXFxF6/ZA6/vjdU0oDntfUvtb4mYDZ1lsPKZ8lFBAwW0JFGztHQoKZEOJGQAWfC8H8NQvhOnogOvfpCqcOTmjRsQU69OyEfsP7Y8K8Sdi8bwuO3TmJ6IAZG4DRBp535c7VGDPTHYMnDsHsFfMUqDVYn3oQFgGYPObA9cOYt3oBBk0YgpnLZyPkUmiEfaKzhccHnQnGmFnu6vgV21ep6/Hz6I6zlu9YDgGzjTUWUpw4UUDAHCeyWvdJowJz53gI/mLjff7pJew6vRuDxw+FY3NHOHVoiS59u6Fbf2d0c3VW75kKtLZjHbRzbo+F6xfhyM3jCuiWgBRtIHw9NyxB3cb10LhVEzRr3xxDJgzDmUfnsO/yAUyYPwlbDvhFACaP23E8AK07t0WOPDlQrW4NlfGK5THHrvNfX8K4OeNRuEQR5MidA26jB+HkgzMWK5c5NsTlPgYwO7yNyuZ0KS4jag1R2VmzvrVborKtu43Tu/UCZr3XUALYZxrMyaGBmQ1sXG7swh02aSTKV6mgpmgt2rgEvoe2I+B0EALOBGHbkR1YusULvYf2RaXqldGoZRN4+Xrj9MOzFrPr6K0TaNamOfIXKoCpi6djkc9SbAzxwdnHF7Blvy8qVquE6UtmRbgeu963HtyGmvVrq0U/sjhkxYDRbjh881iE/aLSjl3zdRzrIl2G9GqRkK59nHHi/mmzjo3qnHr7XHnMkeYxWyOYJSVnAjRMdnRJAbMdVba5RU1IMNNrZA7ucpXKo1aDOti8b6sCLqGnQYbvTz86ix3HAtBvxACUKFsSLq49EHw+xLCPtm9sXnn+kEv7kTtfHgXKY7dPIuzJedW9Tu93XeBG5MiVE2NmjItwPQ3MtDtzlizImz8fGjR3xJZQP9XVHp0tPNbLdwVy5c2NStWqIGWqlLBZMGeLmGDEmsCsLcIhYDa3NZH9YqOAgDk2qtn4MQkJZo4te29bBYdsDug/0g1nvjwXAX7GcAt7fB5rg9Yr+NVqWAfrgzea3JfQ43noiR+7c0J1D/M6xucyfs/96ZmnSpMKrTq1MQRgcR8+OJgD5qIli6N+kwYoV7k8ZiybDdpqfI3I7zle3bWvM3LnzQ23kYORKUvmaMHMXOV8OGF5uB2/d0o9OEQ+r97+Dx9jtl4wa5nwBMw23ggmcPEEzAlcAXq8fEKCmQCbu3IhMmXOBPdZ4xUIo4ILAcpgq4kLJqPnoN7wCfWNAFF+f+LeaWw96AfPjYsxfv5EjJ0zDjOWzcKKnasRcjHUEFzFa3B/Rl9v2LsZs1fNRaLEiVDbsR427N2EjSGbseOYP9bv2YQJ8ycjc5bMcO7fXX2+9ZAfDt88qo5nVzY95gpVK2LASDe1PKbzgB5qAYeoysHPdx7fhZLlSqFBk4aYv8oDDjkcTIKZNrJrfE3gesxdNU+VZ+xsd0zymAIvvxUICttjADQfIg7dOIotB/0QGBasvH5TNjDy3f9UILYd3Ql24fM4U/tZ4rPIYLbWzF8CZj22XLZjk4DZdurSYiVJSDAz6GrJpmXIkDGD8iDfNz7LLuY9F/Zh25GdOHIrPACMAFHQvnYI81cvRPvuHdC0TXM4tmgEx5aN0LRNMzRr11xFe2/YsxlhX4Z7s+ymXrRxKZw6tkDtxnXUilo58+ZSgV/NOzip/Zu2a4ZqdaojefLkKF6mBJq3b45uA5zVNC5eUwNz5RpVMNt7Htq6tEeNujUVSBk5bgpu9N4nzp+MnLlzYsK8iVi1Yy2y5cyGbpHHmJ9dUWV1nz0ezdu3QIuOLeHYKrxMDZ0c0bBFI/Qa3Bt+h3eo1b+42Ai7+3sN6aPGugNOBb6zKhj1Xhu4Xo3XM/p899m9KvjOlJ2W+EzAbLGfqZzIhhUQMNtw5ca2aAkJZnpr24/4o1ip4mqb7DEFO0/sAsd5OSeY8IsMCAKVcNOWouQ+9PymeExFvcb10LC5o1qucrLnVExfNhPj501E137OqFS9Elp0aoWNe30M48fsRu/Sryuatm+mArDyFy6ATn06o0vfrhg1bQw69e6sus5TpkypvOLOfbtgwGhX+IRujeAxV65ZBSt3rlFTuspUKAv3ORPA7urItvP/A9cOg2AtWbYUth7aho3BPnDIme0dj/nE3dMqUr1spXLo3LurKsd0r5mYsXyWes8pZcVLFUe3fi5KL+oQcnG/gi4D6UZOG616GDQN+ep/IhBd+nRFjfq1VJAbPWzte1O2fuhnAubY/irlOHtSQMBsT7VtZllNgzkZusTTdCnOHx46cQRKlCmBkuVKon33jhg1fQzmrVmA9bs3qm5ZQo4AiTy9h+AgwJf7rUSNejXRoGlDzFu1QAWGHb19HMfunsShL45i27GdGDR2MAoWLYSOvbooONKjPXr7BALDdmOZn7fqynZs0QS7zuxG4NlgNU1q1+kgzF05H1mzOaDfcFdly54LIYboaYPHXLMK6I1vCvFBbce6aNO1LQLP7IlgL21lGRhRnq9QfgVU2rY5xBfZcmZHt77OKsEK92M5ffb5omCRgmjergX8Dm9X5WB5jt89qbq3OVWLkeR5C+SF78HtKuCMQwPrgjaiSeumqFq7GuauWmB4QGDilOGTR6px8J6DeyPgZKChGzyyrhb5/5urMo/ZzN+g7GbfCgiY7bv+TZY+ocFMr5nJRcbNmfAGKNVRqnxplKlYFvWb1lfzmMfOHodFm5bA/8SuCPAixDinuVs/ZxQrWRxTPKap/40hzn3Yzcso7pYdWysoLtuyHOe/Cp9vTEBzzDVRksRo07W98nIVmL65qrzy9UHhUdljZ4x/B7QGMNeogk0hW9QYb4+BvVSU+ZLNXmr8VoMc7Tj14AwIxfyF8mOJzzIVJOazz+8NmF0MZeO+nJ6Vt2A+LN3sbRgb187FV+o2ZeE0pEmXRiU50TxfjrPPX+OB6nVqoEmrplgfvEkFwjF5C2Ht1L4F1gVvNATaGZ/T0u/DPea384GtdYxZ5jGbbDrkQwspIGC2kJC2dBrTYE5u8JgJibjeCE7O6yXoZnnPRf+RrsrrrNekPirVqKzGd8tXKY8O3TtiptdsBVl2ZxNOWw/4gV3JhBADtrQu7sg2c/+lPsvV+sDdXXsYIEig7Ty5C4mTJEbrLu0idO3yXPRA3zdditcnmDmGSw+7VLnSGDh2SIRxcNqz/ag/KtWsggbNHLH73B51LYPHHGmMebnfCpXk5MDVIxFs0srFsk+cO1lNtRo3923gHG0OvXZIZTBjUFqnXl2UZk3bNkf1utWxYK2HiuqOagxcO78lXvee57KPb6OyBcy21HJIWSylgIDZUkra0HmiAnN8JRgxBgABTY+PYOH85tUBazF18Qw1bsru2bIVy6JCtYoYOnGY8rI5LWrOynkqe9bQCcNx1CggzPi8fE8A7796EEVLFFUBWuza1T6PCsyEH6dLZX/PPGYNzIQd7W7UojEcmzdSiVI0T5bQZtBXvkIFMGaGezgcv7nypiv73THm43dOqbzdDFbjmHvQuT3YfnSnmuu9KmAtZnnPgVO7FkieIjlGzxwTIYiLOtIOzvcuVro4Slcoo5KzjJ01LsK4c2SNLP2/ArNRghFrBbNEZdtQg6fDogiYdVgpCW2SnsCsgYEwIxTDHp/Dsbun1HgvPdKRU0crj5MBUfScGbzE6OI8BfIqgL8vG9iph2Go07AeylYsp/Ja8zrc3gdmcz1m2s/pSAPHDlZe85yV8w1dxqFXDqJZ2+YoU7GcGo+mB8/9wz3md6OyGeTGaU/sgmY3v9vYQeg7vD9cRw3CkHHDwC5zzrtWYJ4VEcw8Lx9aFm9aqoYEuA+vzahtQlvTOa5fxWNO6F+3XN8aFBAwW0MtxbONUYFZC/6Ky8abQV2LNi+Bz/6thkAkU9cjPDlViotEjJgyCkWKF0WX3t3gfzJQRR/nzp8H05fOUrmtTR2vfcYkHfUbNwAjp/de3K+gbA6YzfaY3yQl8fZbiXKVyqG7W0/sv3JAPWQs912hspZ17euC0KuHDNnBNDAbZ/7iQwkziHXr76JSkPYY2Ft1a7vPnaACutbuWq+68KcvmoUUqVK84zGzvExCMmv5HJSuUBZp06dDnUZ1sSF4s2G8WtMkLl/FY47nH7NczioVEDBbZbXFrdEJBuZnVxSg6P26DOhuiB6ODhTsDua0pEo1qqCRU2MFr2mLZ6ho69HsHr57KlpvkIFipcuVVrmvFRzfdHFb0mOm/ZwS1aJDS1SrXUNFlhOS/YYPQNGSxTBv9UKVxUsrpwZm43nM7LrmeDrTj9Jb5lxlJkNhFDnzadMbZjT64g3L1Bjz6EgeM6OzGfRFL7l63Roq4Iu9BL0G90HgmWD1oKBdPy5fxWOO29+unN02FBAw20Y9WrQUCQbmN8sm5sydC2UrlVce7Psgwe7ftYEbVHQxF7MgsNYFbkCZSuXQtlt7tZYzPWBT56EXyjnMzLJFaHIMl/u912MOisEYs9EylnxQYKrOiQsnq8Cw6vVqqOlcnOZkHKCmgdnYY2aXM6dQtezYCoduHAmftx2pXLR7mufMdzxmlpPwpbfO4K+xs8ZjY/BmdOzRWXnP/J/j61HpZEq72H4mHrNFf6pyMhtVQMBsoxX7IcVKSDDTw23UoomKlGa3K1dzig4CJ+6dUokxSpQpqeYB77m4X40/N2vnhBJlS2HRpqVRdmfzWkzlmTlrFkxdNMPQpWsOmDnGPHqaewTbeJxhutSbqGyD7c+uYOMeH1SsXhmtu7ZF32H9UahYYQyfNEIlQzHsF3mM+V746lKcopUiZQr0GNQzyrzbjGLncpiRx5jZK8AgL043cxnQA0Fn9yhNVu5Yo5a1pAftuWExTsbDSlbiMX/IL1OOtRcFBMz2UtMxKGdCgpldrgyQypErB2rUr6kShTDhiLFHyUhneoHsxvXa6q0ycTFr1sxls1X3N7t1py+dqaKPW3Zqhc0hWxSINI+Qrzwnwc/EHrUa1MauM8EGjzE6MNOOTXt91HSp7gN6gsFjDJ7iMdyiBPM3V1QkNTN2FS9dAgUKF1QBZ6v91xoeCDQ4h3vM2cMzf70BMxOKZMycSSVNYY5vlp/X4zFqOtTVQxg/dxIqVa+CZMmTYdjk4aprm2PoS3y8UK12dTR0aoS1QRsM12NQ2vQlMxWw+SCzaV/49C7Njrh4FY85Bj9E2dVuFRAw223VR11w02COp8xfz66o6Tsc+yS8mACDEc2ca7vKf41aRIK5nblG89CJw1G7YR0FOq7NzAUcCG0Ci+Ov/bkkZJmSKq80x51XBaxRK1At812OoZNGqEUj2LXruX6RGqPVkmnwHFElGNGmPxUrWQxFShaFm/sgTFw4CTtPBihIGsD8JsGI4Zxvushne89FwaKFkTRpUnTs0cnQXa/tx1dTCUaO3DymwJoufXrVJb1kyzKVFISray1c54kebj1Vt/jIqWNUnnEGdi3b6q0eFJq0bgaO2zMDmpYWlNcheJVOo9xU7wI1ZK5s7SHI2CZLvZcEI1H/7uQbUUBTQMCsKSGvBgUSFMxvopi5MMWIqaPQoFlDlKtcDlVrVUPVOtVRo0FNcGyWwK5Ss6qC1Yipo1U+bXquGnDoUQadCcbwSSNRtW51VK5RFdXqVldeOFN1Mnc0F7PwWL/IkFhEgw+BFXwhBCXLl4TbmHbuFLAAACAASURBVMEKYMbfsQt85NRRqNmgFspUKosGTg2xfPsKtR/nCjN6vZ1LB2w/5v9OZrBdp3ejnUt7VKheUU17Iii1c2uvO4/tQs2GtTFi8ii1FjXtufD1JXjvWKVyahcrUUyNFVevXxM1G9ZC3Ub1lU6TPaYi5HIo2rt0RNlKZVXX/rRFM1CvaQMVuc6pZHywuPTNVcM1+RDD8WvmDnfq0BLe21cZrqnZY8lXAbPhZyZvRIEoFRAwRymN/X6RkGAmBBSIDEs2blPzk4dMHI6u/Z3RsVcnqIUjxgzETK858Nnvi6O3w7u6jQHCcxDOHF9d5uutcm137dcNHXt1Rt8R/THZc5paapHd3tw38rGMdF643lMtmWj8Pd8TbkxcsnHvZsxfuxD0wPde3q/Ow9zVXBeaniwX0oh8XiYH2RjiAy8/b5U0hd6p8T58zy56ntPvyA5DkhB+zgj0bUd2YNKCKeg2wEVpwVeuNsUc4oQ8yxxwMkjZtXjzUrVyFJeDpGesdX1Hvh4D6HgteuE7jwfgzKOz72gS+ZjY/i9gtt92RUpuvgICZvO1sps9ExrMWqNPCBJcnK/Msdyjd06olJZcjILg5Hg0QWQMTu1YviqIMi/2VxdxmsffDj+eU5UIZFNQjHDc0/AUn8bnNP6e16aXzsQfGvR4TX6u7KJ3+u1b75SequH7N8dE+P7Nvmoffv91+Biy8T48L21XWtw+rl45jkwbeBz3pS0ss7KNthjZZ3wu4/e8lhorf3NN7VzG+1jivYDZbpoRKegHKCBg/gDxbPVQvYDZGAQEhfFm3B1rvF9U742PjSvoRHXtuPjcWssjYLbVVkPKZUkFBMyWVNNGzqVHMMcF3OScRt68sWcfh+8FzDbSSEgx4lQBAXOcymudJzcN5vDVpRiUFdlbk/8jevOiR9R6yDxm62wTxOr4VUDAHL96W8XVTIM5mcoUxXWSBTxRg0e0iV6bPef3IbPR6lLp06fHuHHj8Pr1a93+Nn799VesW7cOWbJkwUcffaQ2WV1Kt9VlE4YJmG2iGi1bCIL5wYMH6Nevn6EhSpI0iVq60O/Q9giBTgKi6EEk+kTUZ+uBbciYOSM+/vhjdW9lzJgR06dPB+Gn1z9TYO7ZsyeePHmC//77T69mi11WrICA2YorL65MZ2PzzTffYNSoUfj0009VA8rXQkULqalLJx+cEa85UjCaADgigE3pwaliTBbD1KKa55kjRw6sXr0av//+e1zdzh98XlNgFo/5g2WVE0SjgIA5GnHs9av//e9/ePnyJRYvXoxMmTIZGlHmYGayCqZ45NQjTsuRAKr4D6CyNs0JaebxZsrUvAXy4pNPPlH3FL3mMmXKICwsDP/8849uf26mwCwes26ryyYMEzDbRDVavhB//fUXTpw4AUdHRwOY6eUkT5FCLcTA9I1TPKdhtvc8zFkhm2gQ9T3A1bRcXHsgjxGUeS+lSJECBNyPP/4IPgzq9U/ArNeasV27BMy2W7cfVDI2lGww6TXnyZPHMCbIBpWeTuIkiZE5SxZwicacuXPLJhpEeQ9kyJjBMCSidWFzaKRcuXLYu3cv+BAoYP6gn6scbGMKCJhtrEItWRx2L965cwfu7u4Kzp999lkE71lrZOU1PFJXdDBPh8SJE6No0aLw8vJS0dh6hjJ/T+IxW7JVkXOZo4CA2RyV7HgfwvnmzZuYOXMmKleuDE5vSZIkifKAOFYom2hgzj3AhzquqMUo7Pr162PVqlW678LWfvYCZk0JeY0vBQTM8aW0FV+H06eePXuGgIAAjB49Gk5OTipop3DhwihUqJBsbzTInz8/cufOjYIFC4omRvcF75NKlSqhbdu2mDx5Mg4ePKiisPXuKWs/WQGzpoS8xpcCAub4UtrKr8NG9O+//1aAPn36NPz8/LB+/XqVeIHJF2Rbp+bj9unTR3XRih5v7wneJ7t27cKFCxfw008/qbm/1gJl/mwFzFbeeFmh+QJmK6y0hDaZjSrnOtOTli1cgz/++AP79u3DkCFDVdc/hwBEm7f3B+8Za4Kx8W9MwGyshryPDwUEzPGhslzDphUgcL7//ntMmzYNpUqVwsaNG3U9L9emKyMOCidgjgNR5ZTRKiBgjlYe+VIUiF4BQpmeMbtpq1evjuTJk6N///4K1NEfKd9aiwICZmupKduxU8BsO3UpJUkABQjmV69eYc2aNUiVKpWa412tWjUcPnxY8ignQH3ExSUFzHGhqpwzOgUEzNGpI9+JAtEoQChzrP3+/fvo0KGDIQlL5syZVSAYgS1/1q+AgNn669DaSiBgtrYaE3t1owDBzKxVoaGhyJo1qyH5CufstmzZEtevX7fagCfdiKwDQ0yBWRax0EHF2LAJAmYbrlwpWtwqQDA/f/5czc3VFmbQsn9xTjO7txmtLX/WrYApMMsiFtZdp3q3XsCs9xoS+3SpAKHMKVGXL19GxYoVDd6yBuZkyZKhd+/eePjwoS7tF6PMV0DAbL5WsqdlFBAwW0ZHOYudKUAwv379GmvXrgUhrAFZe+VCHxUqVEBwcLCK2rYzeWyquAJmm6pOqyiMgNkqqkmM1JMChDKDvp48eYL27du/A2UNzswrzhSUP/zwg57MF1tiqICAOYaCye4frICA+YMllBPYmwIEM9OTckpUtmzZogQzlzZs1KgRwsLCJAjMim8SAbMVV56Vmi5gttKKE7MTTgGC+ZdffsG4cePUKlvstjYO/tL+52uOHDmwcuVKtWhDwlksV/4QBQTMH6KeHBsbBQTMsVFNjrFbBbRu7Bs3bqBs2bLIkiWLGkt2cHAweM5cFpMrKjEojJ9zas3du3ftVjNrL7iA2dpr0PrsFzBbX52JxQmoAMH8559/wtfXFw0bNlTLYK5YsQJVqlQxgDl16tTgKlNbtmzBwIEDVfIRLnDBKG75sz4FBMzWV2fWbrGA2dprUOyPVwUIZs5NDgwMRFBQEB49eqSmTNWvX98A5nTp0mHKlClqicNbt27Bx8cHp06dUslI4tVYuZhFFDAFZkkwYhFp5SRRKCBgjkIY+VgUMKUAwUzPl6tJcboUo7Nv3ryJyGCePn262o8LXHANYo5J8738WZ8CpsAsCUasrx6tyWIBszXVltia4AoQzNpGY/g+OjBr+xgfk+CFEANipIApMIvHHCMJZecYKiBgjqFgsrsoYKyAOWA23l/eW58CpsAsHrP11aM1WSxgtqbaElt1p4CAWXdVYnGDTIFZPGaLyywnNFJAwGwkhrwVBWKqgCkwp02bFtOmTZMo7JiKqdP9TYFZPGadVpaNmCVgtpGKlGIkjAIC5oTRPT6vKmCOT7XlWlRAwCz3gSjwAQoImD9APCs5VMBsJRVlQ2YKmG2oMqUo8a+AgDn+NY/vKwqY41txuZ6AWe6BdxQgbDjnlhmufv/9d9mi0eC3335TCUZq1aplSDCSJk0ajB8/Hi9evBDtotFOu7d4n/F+432nxz8Bsx5rxbZtEjDbdv2aXTo2ikyc8fz5c7Ua0tatW+Hl5YUlS5bI9h4N3N3dkS9fPgOYkyZNCkdHRyxYsEC0e492vL+8vb2xbds2XLp0ST3MMGmLniBtCswSlW120yI7xkIBAXMsRLO1Q9gQvnz5UqWNnDFjBpo3b45ChQohc+bMyJgxo2zv0YApOBMlSmQAM1eVSp48OTJkyCDavUc73l9Zs2ZFkSJF1NrWy5Ytw+eff67Sl+oFzqbALFHZttYK6qs8AmZ91Ue8W0MoM2Xkzp070aJFCwUSQobLGBIwspmnwUcffWQAM9+LbubppunE+42rcuXOnVstAHL8+HFwmEAPcDYFZvGY472psqsLCpjtqrojFpaNHj3l3bt3o3bt2qphZEMZGTLyf0Toih5xpwfvP47Rd+vWDRcvXsTff/+d4HA2BWbxmCO2JfKfZRUQMFtWT6s5G6HMMWWuK9yyZcsIXbH0XlIkT4Fc2XKgROFiKFW0hGyiQZzcA8UKFkG2LA5Ikjix4YGQcOY61kzS8vXXX6uFQhLyh2UKzOIxJ2SN2P61Bcy2X8cmS0gwM2p4/fr1SJUqlaFRTJwoEQrkzocerTvBc+x0bJ63HFsXrJBNNIiTe2Dj7KWYPWw8WtRrhEzpM6ghAG0ooFq1ati7d6+aHZCQXdqmwCwes8lmRT60kAICZgsJaW2n4djyw4cP0a5dO0Nj+NmnnyooT3EbhZtBx/Eq7C5+P/dANtEgzu6B3849wM+nbuHExl3o3qoj0qRKbbgfU6dODQYjMgZCb2AWj9naWjzrslfAbF31ZTFrOW/08uXLKiJWGzNNnTIVOjVtjc8DjuDPC4/w18UvZRMN4uUe4ENg8LJNqFy6PPiAqHnNffv2VQ+QCbmWtXjMFmt25ERmKiBgNlMoW9uN48tnz55V0ddaI5gtc1ZM6j8cL8/ciZfGWMAvDz7aPcAHwTu7T6FfBxckTZLEMLTCHp2rV68m6IIgAmZba/30Xx4Bs/7rKE4sJJjDwsIMDSADvnI5ZMfcoeOVt8yGUjbRID7vgaeHL2N8/2FIniy54b5s1aqVSjzC+zWh/gTMCaW8/V5XwGyndR81mCcIkOWhJEHugWdHrmCS2wiksAIwyxiznTac8VRsAXM8Ca23y0QF5nlDBczx6SXKtd72Sjw7ctVqwCxR2Xpr0WzLHgGzbdWn2aWJCsxzBcwJ4i0KoB9BPGazf76yo40rIGC28QqOqnhRgVk85rcenMAyfrUQjzmqX6t8bm8KCJjtrcbflDcqMH+ox/zr2fsqqvvl6Tv47dz9GHufnDf98vRtqOPPxvx4S8GUttOGP84/jHEZzLHhxenb+PbIVbw8czdOzm+ODR+yD+vp2yPX8NPJm/jdQhpZE5hljNlOG854KraAOZ6E1ttlogLzh3jMhPJ1/yMI8FwD/4WrcSPgKPiZuQBgY39v7xlsn78CuzzX4vbuE2Yfa+41zNmPMP4i8Liy4fnxzy1uA6F/YsMubJi5GPf2nLYY2Mwpm6l9WN5XZ+6ohDLmPojwwWLz7GUIWLxOwdnUeWP6mTWBWcaY9dai2ZY9Ambbqk+zSxMVmD/EY/7l1C2smLIAtcpXQZVS5TBr6Dg8P3bDbLDR+1o4ZhrKFSmJOhWrwnfBCrOPjSkEotv/t7P3sWHOUtSpWA1fxMHDwZf7z2NUr4EY3WcwbgUdT3Aw/3jiBk5tCMTZLXvww/Eb+MOMqHTOdV84dhraNnLCRb/QGD2ARaW9NYFZPGazmxrZMRYKCJhjIZotHPIOmD/+WM1jnjdsQqyTixCsUwePRbrUaZEsaTLUqlgVV3cewu/nH7z3nPTU7gafQqUy5ZEkcRJkSJceSyfOeu9xWoIKS77Sy583ZioypEuHi/6HLGYDgURvedvCVWjb2Ak7Pdfgl9O3LXb+2Gpwf+8ZjOk1EFMHj8HdPafxx4WHZtnEtK1NajfAjCHu+P7YdfUQFVsbeNyzo1cxaeAIJE+WTOYx20IjI2WItQIC5lhLZ90HxiWYM6bLgLy58iB3jlxYPW0hXrwnkxiBxbFW3wUr1ZJ/JYuWQOYMmWwSzI9DL2BApx5w69oLN3YdU2PYHwIzSxxLO9o6OqFHuy64HnDEbJteh93F3FGTULVsRZzbGmKIKYitTQJm625TxHrLKSBgtpyWVnWmuASzQ+ascHJshuKFisKlVQd8dfBStN4UwfzkwEV0bdke2bI6YGgvN/Acpjxm7suuVnq17Dqnl/7LyVsgJKLz9HgcPXd2wf588qbaXoXdU+eKDBJzPGaej9uv5+4rINHjj3we4/+V3ecfYrfXZjSqWQ8rJs9X3cbG+2jv1Zhv2F1lI8tHm7UAK22f6F55rddh996W88xdQxCbqeNiC2Ze5+L2UJQsXAxzR03GDyfChy1MXcOczwTMVtWEiLFxqICAOQ7F1fOp4xLMObNmx7BebujUvC3KlyyDoxsCwFWETDXOCm5n7+PIup3IlysPWjZsilUzF8Ehs0MEMHM/boQUx2jP+uxBiNdmBHiswe7FG3ByYyDYJcugJO6nXYvv2X38zeEruLbjMA6v3o5Az7UqsIvH3A0+rTx642PeB+bwcz7AVwcu4tK2UNzldc/ciXBd7fraK49ht/WE/sPRrK4jDq/ZoezSvucr9+FKSzcDj+P4+gAELlqnyndw1XZc33lYRUGbAjTL9uW+c0pjlv9e8CmlB7UJWrQOx9cF4M7uk+ohxjB+fPGR+v9RyFmErvRDk5r10bZJC+xbsRW3g04ovaibsS7Gtmrv+eDQ2aktGlSvHd4N/iZCW/s+Jq8CZj23GGJbfCogYI5PtXV0rbgEcy6HHJg6xB1LJ85GsQJFMH2IuwKOqUaaDf/zY59jyqDRyJopC9bNXAyf+d4RwPznxXAvmZ7uua17sXjsdAzu2ge92nSGc7O2cHFqj/4duqtgMwKNsOB5uRGyN3YdxdppHhjbexAGdOwOF6d26NasLVw798Qkt5E4us5fed8ahKIDM/fhQwbHw+n1MrdzyCpf/HQq/JqmysjPeNyd4FNo3bAp+nZwwa03QWXa/gTm14cuY4/XZmWna6fucG7eDs7N2qBvexeM7OGKddM9cSvohLq+ZiuP55j1/BGT8PjARYSu8MXMIe4Y6tIPzs01bVwwddBohHhvUXDntdi7cMF3HxaOnIwBHVxQJF9BlCpaAv3adcO4XoMQtHidWePGfFDwnjIfubLlwL6Vvqrnwtg2rXzmvAqYddRAiCkJqoCAOUHlT7iLxzWYZ42YhFObd6NxrfpwrFH3TVDRW09Wa6jZvcwAsRoVq6J6+SrK+9yyYEVEMF94pKbyXPDbj9G9B6FVg6Zw7dQDU1xHYuagMZjYbzh6temirjOwSy9wP3p7BBC965lD3dG8riO6t+6Iif2Hq2Omuo7EoK690bBGXfRo3QmnN+82eLBRgZnA4XdfBBzDvJGT0KphM4zuM0hdj59rZTL1ymP3LvdBlbIVFDi/PXpN7c/PufH/tdM90aFJSzSpVR9DnftimusozBo0FmP7DFafU8cJ/YcpwBOsPI7XGtbTFdXKVVQPNL3adkGf9t0wyXWEOnaa2yhQkxb1GsOlVUf4e67B98c/V13bfCAZ5twPTrUbIqdDdtVj0axWA3Rq3BLrpnng2aHLhmuYKhM/ow3nt4UiRxYHzBjqDkZ4a3ZFdUxUnwuYE649kCvrSwEBs77qI96siWswzx01BY/2nVXecuH8BZVXFxlebMDZ9bpmuiccsmTF5IGjVZewKTA/O3wFyybMRq1K1TG+3zCEbdmDhyFh+Cr0Ah7sPaO83iHd+qj1fFdNXYgfT3yhPEt6cTXKV0HHpq2we9kmtbQgj2HX70W//Zg7YiJKFC6Gcf2Gho+RXgyHb+SobNrKNYPpsU92HQWneo0wpvcgnPfbh1/P3osWygQRQUr7y5YorTxfllsDG3XZ7bUR9arWRNM6DbFq6gJc3n4AX+47j6cHLiovOWjpBji36oDiBYsqm385fcsAwL5deiiPtXOLdnDr0gv72R29+6Q69vH+czjvG4JFY6ejcc366OrUVs2h5oMLu+JPbQzE+umLUKtCVTSqVV8B+cCKrbi565hKsGIOZAn68iVKo0PTVnj6nniCqKDMzwXM8fbzlwvpXAEBs84rKK7MewfMb5Z9/JAEI4Qhp0uxW5Ng/u7odRxcswOli5ZAnw7OqsuaDb22MciJHi3HKIvkL4jTW/Yo+Pkojzkrlk6YpfalV03QDO/pijaOTjizZQ9+O//AcB6ej6Db7rlGeaSc+vN4/3kVAMV51QVz58PsoeNUpi3t2nzl9e/tPY32TVqic/M2+OrABXVOgtIA5p0H1Wc8/7F1/hjUpRdaNmiKqW6jcG3nIeVlG58zqvdMnkL4lytVFoFLNkSY98vguF7tuqBYwcJYO80T3xy5agjW0s7HMexj6wNQq2I1lClWElf9DynY8/u+nXsgRfLkaNGgifL8X5+9F0Ebdr0/2BuG6YPGoFKpcgrsWqAWj2dXf1vH5ujRtrOKytbGsbVrv++VerV0bIbqFavi/t6wd2x/3/Ha99Y0j1kSjMRVyyTnpQICZju9D6IGc+zXYyaYpxiBmf8/2ncOXZzaKTjTuySgtIaYkcP7V/mhaMHCcGndCT+dumUazOceqMCuZRPnYOXUBaorVjuH9kpvNni5D6qVq4R+bbvibtBJBeYNs5aq8dMR3Qco6DB4zBAApbqm72GH52p4T5yD745eewPme5j7Zh7zhR0Hlfe9Z7mP6k6uWbEqloyfpTzvmACMYO3dposKhjuwapthnJj2H167U0U2d3FqqzKB8YFBK5fxK8u4eNxMpEieAksmzlbl4/d9OndH0iRJMGfERKWf8THae3r1R9bsUN39XZ3aqcxm2nU+NwLzNf8jhghw7dj3vbJOe3VwRqH8BdUUMOM6ft+xxt/rHcxZs2bFxx9/rOZYS4IRO20446nYAuZ4Elpvl3kHzFqCkaEfnmBEecyjp+Cnk1+ooKrV0z2RN2dueIydpqKq/3wzNsmkFGP7D0WeHLkMWb4In8geM7uBOTWKyS8ehpzFjydv4unBy7i7+yQ+DziiuqQPrtqGKQNHo2j+QujZsgNuB55Q06PO+YagfSMn1KlSA5PdRiJoyXo1JswoZYKYoGbO5yeh5w1erOYxp0+bDvvXbsd2j9XKS86UMRMca9YFQUa4R9cta/wd4cPu3o5NWqJyqfI4utbfAD/CcZH7dDXGu3zyfEPgmvHxxu+v7zqKjOkzoFOLdvj5ZHh3dt/O3ZEpfUYcXucf5ZQx2sCANY4/16lUHYfW7FA28NzhHrOT8pivxWAes2YXyzDYuR+o12W/UMPDl/a9ua+qK9tNEozora0Qe+JfAQFz/GuuiytGCWYLZP5iVPZcBWYucPAAV3YcRI0KVdC8XiM8ftNdTK/q4rb9qFquEupVrYWH+88q0BHMpsaY2fgzbzXHhf0XrQXHkT1GT8X8UZMxZ+QkTBowAj3bdEaB3PkUmO8EhufZptfu77lWBYt1atoazi3aY0RPV0x2HYmVU+Zj16J1uLrjoMmo7JQpUmJE74Fo1bApWtZvgurlK6u52X4LVyrP1FzgEIpfH72Kdo2cUKNcZZX+UvMU2e08sscAZMucFSErfA0PB1Gd+8eTX6BEkWKoXa0Wnh8PD7TiGHOenLlxfdcx5WlHdezXBy9jbK9BqFCiDPwXrVMA5b6xncesXYcPKUO7D0DyZMlxQSUaCe8V0b4391XGmHXRNIgROlBAwKyDSkgIE+ILzAQQPVPmheY85b0rtqhxWXrAyyfNRa7sOTFr+ASVqIMNeGQw83hC+dvDV9WCCcO791fTnDgfeM6wCVg+YQ62zPfGriXrsXzyPDWGSo+ZYOb5eDyBzvnG2xasxJyh4zG27xA1bYog79CkFQZ27Y1gr83hcDYK/mJq0OoVqmBAp+7Y6+2DdTMXoWTh4mhWpyHObt2r7DIHOrTh2dFrynOvXaEqzmwKMnRVs7yDuvRWYOZ4/K9vuvqjOi+7xMuXKosalasbuvQJ5ny58+JGpClYkc/B+c4T+w5FueKlscNjjeXAfP4hXLv2RupUqXHJlxHxAuaE+E3LNW1HAQGz7dRljEoSn2DmWHLIiq3Imyu3CuAiKBlRzaCrMsVLIWzrXkO3sCkws7v52LoAcGy0U7PWWDd9EU5v2q1Wr2LXNoOl6BkfWR+AOpVrvPGYuTjEA3x/9DqeH70Oeqac38xobAZtMZCLoJ44YATqV6ut5hdf2h6quoK1rmzmbB7k3AcXfENUtDjnGU92G4UCefJhmEs/PNx3zmB3ZAga/68eDk58gc5NW6N6uUoqKlob52Z0NKdwZc/igB2L1uJlWPgykMbHG79/duSKSnfasFZ9VWaem2B2yOKAMN+QaLvYn4RewHCX/qhSugKCl21S+vDcH+oxc6y9e7suyJkth0qEosbeL35pljYRyia5smP0G5adbVcBAbPt1m20JYsvMLPhJYQe7juLpnUdVdT0pR0HlIdaJH8h9OvooqYpaQ20KTATrt6T5qJiybKq+/qbw1dVly89aR5HODG4KWTlVhX8FT7GfBw/nPgCfvNWwHfucpXJivtx43HcnzBntPf0oe4qr/fKqQuV566BOW3qNAhZ7WeIvOZxzCXNIC1GmntNnIMfT9x8L4B4TZarfwdnVClbEYdWbzeMMfO7TXOWIW+OXCrJCiPZ+Zmmh/ErdTy0bidSpUiJAV16GrKcEcwMCGNyFi3wyvg4TaNrOw+rBxvOkz7js8fg8X8omOkht3BshjIlSis9tXqJbMP7/peu7Gh/svKlHSkgYLajyjYuanyCmaBh1i4uE8jAMA/36Rji3E+NB2/3XG0IQmLDHRnMhBHnxk4bPAalCxfH9gUrI4ArPCvYQzUVynPsdBTOV+BN8Ndx5UkP6NAdreo3UUsa0js1hgPtIlSCV/ggu0M2TBw4SnnWGpi5utSFnQcNx3B/ev9MW1m/em3UrVwD+1f4GhKTGJ/b+D2PI6wYfFa5XEUELd1oOIbfXd5xANXLV0LdKjVxPorFILgfewYGO/dFmtRpsM1jtWE8mmBO9FkidHZqo3KOc1/j6/M904FuX7BKPbi4demppqlp+ykwN3KCS5tOuOZ/2ABs43MwTefpjYG4t+eM4bra95xTXaFUWTSoWReP9p+P1mvXjjH1KmA2/oXKe3tWQMBsp7Ufn2BmI0wAnvUNQakixVWSEI7VNq3jiAchYREgEhnMhAeTizDTFqHL1++PhWeu4ndcRIJdzLuXbUSPNp2RwyE7ujRtjes7D6mua2bAKlO0pAoS47WM5/jSJkZ3zxk1CTmyZsOSCbMieMymln3kNdkVv3zyXJQtVlJlDWNkuAY5U8DhZ3zAWDXNAxVKl8PqaR5qPJuf8zh69oR2wbz54d5vCD4POGro0ub34XZeUpnBCuUrInVUAQAAIABJREFUoBKBPNp/Tp2T3xPMHN+tUr6SGrfngiB8COF33AjlMz7B6NveGdXKVsL6mYvx4szbnOJMD8qMY071G+Pw2h1qcY1XkRa+WOw+A+0dnbB2xiJVfp5XK+u9kDC1ZGj/Tt1VhLvxd9o+5rwKmO20MZJiv6OAgPkdSezjg/gGMxtrTkvq28EZ6dKkQ+aMmbBg9NR3optNgZkLOzASu3Lp8mqxhNVTF+LYWn8V3bzPeyuWjp8FeoFDXPqpJQg5jsuubyYZIWiYwrN+tVqYMXisGls9vTEIZzYGqQxZC0ZNQbXylVG/ak2VQpTj0sYec+T1mFkOer+cujWypytKFCqKKQNHqYeF6IDE7zgGznnQE11H4Omhywps2vkYnMaUmZVKlwPnXLO8pzYE4uzm3cpDnzdikspgxuN3eK4xzGEm8Ajm3NlzYnhvN7R2bIZZQ8eDuoRtDsapDbvgt2ClSsvJyPhRvdzwReCx8OQkF//f3lmAR3V8bbzFvbgUdy3u7u4ED+7uXtzdQnCCa4BgQYO7FSlQXCpQSoFCKbTfv32/551wN5tks1nPysnz3Gc3u3fmzrxzd373zJw5EwzXp4cuqYhhnO/v07oT5g+bgOMrtuH3E9/rHjh6tGyPVMlTYHj3/upBSasrX/cu2YAUSZNh2fg5uuF1U0Ac9hwBs2f0PVLLyBUQMEeukVueYQ8w09Pad8wMVC9dESsnzVeWmn7nS+hy6VLpgkVVPOjzGwPDDXty7nfP4vWoUrIcNszwVWCgxch1xwQrw1ZWKlUODSvXUhYcvaoZOezb7gMUwCb1G4EaZSuhU5PWuLr5oIo+tnHmYrRr2BxVS1dQMbObVquLptXqoWntBqhWpiK4jGrt1IXKUiRoeL1VU+ajfJGSuLnrpM4y1OrCc2h50wpt06Ap2jZoBs6ba7DSztN/5XeM8MVzvRs0VQ5o+ufTQj2xeqdyKmPdG1SthSbV6qBZ9boq2hljejOs6IYZi/Hb8RvqWlp6gpkOaYdX+WNK/5FoVLUOWtbzQrPq9eBVva5apsZQn8O79FFD+mwHLS3LSOc6wpvOdbXKVkbtcpXhO3IKftILr0mnt1IFimLW0PG6QCxMS63G9RmqrH22J//Xz1tfg8jeC5jdsquRSlmggIDZAtHcIYk9wExLkzGet85cAjoahZ3TpaXJ+Mybpi3CrgWrVaCQsJ01PXo5j7l5+mIV+ILfs6PnfsvcnWnjjMUqVnbXpm3Qo3k7tX553TQfXPc/Aq7x5ZaJW2ctxaZpvsoDm/lx9yp6cS8cOQWD2nVHtybe6NrEW20IMX/EJAVYbXic12M5Ode6YeoivDh2IzyYP5eJlvypNQHYPINlNb6GmHWgHhwSrl6ushp653y1fv0J5zu7T6pY2hza7ta0Dbo0aY1hnfuqONvn1u/VeWJzbl1LSzBzGPz73SfVKMGmGYsxse9wdPVqjR7N2qo123zI4c5UvEZYcHKY/Zega0qjTdN94TdhjhpRoF+Adi63yFw3eQHOr98bHCTm81D2L0evoXalaipyG6cFtPO1spnzKmB2h55F6mALBQTMtlDRBfOwB5jZKROg7NAJnbCdNP/nULEWEYwADNtx8xwC/vcTwXlo36u05x+ovBko43HgOQVeWnX0rtbmVPnK63MY9sPnHZ+YluUhfNUGFvvOgfsQ06mM0cdopfMc/WvxfOZBsGuf67/y/OB876rzaIXqf2/oPc/n+mcOrU8fPFo5c4U9j9d7dfwmtDqqch689LmchvdH1sB8Z+8ZNUTN+nNnKKalTpyD51Ixaq9fT/1rE86sM9Py+ip0qd7eyvyfemhg1+rPaGPcBIQPTH+cNr4ntf71DL0XMLtgRyJFtosCAma7yOr8mYYDsw02sdA6a3kN2agjrBa06jks3NGrtYp8pi1vCnueOf9zE4vsmbLgzt7TOocwc9Jbei6nLrglJSO6carB2ro4e6zsVKlSqTjZX3zxBWQTC+fv41y5hAJmV249K8oeEZin9RulrCpLO2tJFzGUqQ1HCY757UCr+k2Vh/Nvn8NqWqMbY2VzjvnOntMqf2vyMjUt68GtNzksz/CotMhNTRvRea4EZtnEworOR5JGqoCAOVKJ3POEcGDW28SCHaehoUb5zPxoVmE1o7ZcHjVj0Bjlnc31wYaG9MOmM/b/4C591Droe4HnIhyqNpbeku84pB3sDd9RBRXhELy19w3BPKqHbGLhnj2O1MocBQTM5qjlRucSzOfOndNtYxftyy+RLlUaTOg1RM3xWtJZS5rIwa1Zi3RW85+9XO2THNE8tql67vVdD99vp+liZ5uazprzGLN757xVyvmN88/WQpll4d7c/dt1Q9w4cXRDxo0bN8aVK1fA+zWq/v7880+sXLkSMpQdVS3gedcVMHtem6sas6O7ePEiEiZMqDrBL7/4EskSJ0G3Zm1DRYWypvOWtIZBTYhxWRGBxnlZa3Wi49nbU3eC1yY7aLSDzmLvzvwQLgqYpXXhw8mZtbtRt1INxIoZUwdmb29v3L59G//73/+i7JcqYI4y6T32wgJmD216dnS3bt1C8eLFdZ1grFixVBCPtVN91FpVa4dYLe2kJZ1hoLujLtybm570XCI3ofcwtRHGl19+qe7JOHHiYMiQIXj+/Dn+/fffKPulCpijTHqPvbCA2UObnh3dixcvMHr0aMSIESPYav7yS3yVMJGKkjV36HgcXrZZrUu+seMo5BAN7HEPXNgYiID5fmpNed7suREjevC9SM/nHDlywM/PDwTjf//9F2W/VAFzlEnvsRcWMHto07Oj+/TpE06fPq2sZs1K4Sst5wxp0qJSiTIq2lTbRs0hh2hg63ugTcNmaFytDop/UwipkqdE9OjRdaM3sWPHRtu2bXHjxg01vyxg9tCOykOrLWD20IZntWk1v3r1Cr6+vkibNq2uU6S1QkBHjxYNMaJHVxY1rWo5RAOb3wPRoyNatGg6J0Tee7xG6dKlsWPHjii3lvk7EYvZgzvJKKq6gDmKhHeGy9IKoRPYgwcPMGLECGTNmjWU1cJOUg7RwJH3AOeVCeV169bh7du3UTqErf1GDYFZ1jFr6sirPRQQMNtDVRfKU4Pzo0ePsGDBAtStWxcZMmRQw9mO7JDlWp77AECLOUGCBMibN6+KqEVL+Y8//nAKKPOnbAjMEvnLhTo5FyyqgNkFG83WRSacOaz9/v17tWZ04cKF6Nu3L7hUpXnz5nKYoEGzZs1Qq1YtZe01adJENDNBM95bLVq0AK1PjtisX78efED8559/nAbK/K0ZArNYzLbuhSQ/fQUEzPpqePh7AlqzoAnpX375BY8fP5bDBA0IlICAAIwcOVI93Ihupt03T548wW+//aYcEbmET7sHnemnaAjMYjE7Uwu5X1kEzO7XpjarkdZJymvwA4sxHf766y9s2rQJDRo0wNmzZ3WAMZZGvgvR1WY3rR0yMgRmsZjtILRkqVNAwKyTQt6IApYpQMDSYu7atSu+/vprTJ06FR8/frQsM0nldAoYArNYzE7XTG5VIAGzWzWnVMbRChDK9Gw/dOiQcprjUh8vLy88fPjQqeZJHa2LO11PH8zaen+xmN2phZ2vLgJm52sTKZELKUAwv3nzBrNmzVJLzdhx07t48+bNURrf2YUkdPqi6oNZWz0gFrPTN5tLF1DA7NLNJ4WPSgUIZXqz37x5E5UrV9at+Y4fPz569+6Nly9fRmXx5No2UkAfzGIx20hUycaoAgJmo/LIl6JAxAoQzJxL3rJlC+LGjasDMzvvMmXKICgoKEo3X4i45PKNOQrog1ksZnOUk3MtVUDAbKlyks6jFdCs5R9//BFdunTRQVnruLl377Rp09TacI8Wyg0qrw9msZjdoEFdoAoCZhdoJCmi8ylAMP/99984fvw40qdPHw7MMWPGBAONcBMGnit/rquAPpi1By+ZY3bd9nSFkguYXaGVpIxOpwBh+/r1a2UVM6Sk1mFrr7SssmfPjjVr1iiAO10FpEAmK6APZrGYTZZNTrRCAQGzFeJJUs9UQBvGvnPnDsqXLx8Oyhqc48WLh169euHZs2eeKZSb1FofzFrbisXsJo3rpNUQMDtpw0ixnFcBgplOXxs3bgThSytKs6TYcWv/05IuUaIE9u/fL0unnLc5Iy2ZPpi1dpZ1zJHKJidYoYCA2QrxJKnnKUAo83j+/Dnatm0LziUnTpxYAVqzpqJHj46vvvoKSZMmRYoUKTBp0iQ17O15arlHjfXBrLWxWMzu0bbOWgsBs7O2jJTLKRUglBnp69SpUyhYsKCyiOnklSNHDt2QNq3oKlWqKHAXKFBA7aB06dIlcQJzyhaNvFD6YBaLOXK95AzrFRAwW6+h5OBBCmjD2NyisHPnzmoNM/cP1p9rpgU9dOhQXLhwAT4+Pmqe+cCBAwroHiSV21RVH8xiMbtNszp1RQTMTt08UjhnU4Bg5jKpM2fO4OrVq2q7wlu3bikLWeu0CeYJEyao8169eqV2m7p7966A2dka08Ty6INZLGYTRZPTrFJAwGyVfJLY0xQgmBmGU9s9iv8bAvP48eMViLXzudcw08mf6ymgD2bt4UvmmF2vHV2pxAJmV2otKavTKRAZmJ2uwFIgsxUQMJstmSSwUgEBs5UCSnLPVkDA7P7tL2B2/zZ2thoKmJ2tRaQ8LqVARGDmHDO9t+XP9RUQMLt+G7paDQTMrtZiUl6nUsAQmJMkSaKcvwTMTtVUFhdGH8zi/GWxjJLQDAUEzGaIJaeKAmEVEDCHVcT9/tcHszh/uV/7OmONBMzO2CpSJpdRQMDsMk1lcUH1wSwWs8UySkIzFBAwmyGWnGpfBQg5Vzu4BCrscikOZXO51D///ONy9aH+8hdaAX0wi8UcWhv5zz4KCJjto6vkaqICBAHX+DIQx8WLFxEUFISDBw+61LFixQoUKVIEjJEdI0YMJEqUCO3bt0dgYKBL1ePQoUM4ceIE7t27h3fv3ql2EVAD+mAWi9nEH7acZpUCAmar5JPEliqgAZlbIu7btw9z586Fl5eXCm1ZsmRJuNLBeNjcsIIbWvCIHTs2MmTIoOJou1I9SpcujWrVqqF///5YtmwZTp48ibdv36rAKJ4MaH0wi8Vs6S9e0pmjgIDZHLXkXJsowE6ew7zXrl3DmDFjULx4caRPnx4JEiRArFixlNVJy9OVDm7xSGtKO/i/K5WfZdUeKpIlS4YsWbKgTp068PPzw8uXLz0azgJmm/zsJRMzFBAwmyGWnGq9AoQylxHduHEDXbt2RZo0aRTANEtEXr/Q7VIVlVrwASNu3LhqB62lS5eqqQbOp3ui5Sxgtv53LzmYp4CA2Ty95GwrFWDn/uLFCwwYMAC0zLQ5Ow1C8ePHQ+LECZE0SSI5HKhBkiSJkChRAjUMr98mtKQ5VO/v76/mnQXMwQ9OEivbyo5AkhtVQMBsVB750tYKfPr0SXXy6dKlCwXl+PHjonCh3Gjbpi769G6GAf1ayuFADfr3bYHu3ZqgUcPKyJE9I2LHiqmz3AnnevXq4fbt27qNOWx9XzhzfmIxO3PruGfZBMzu2a5OWStaW/S+ppMXO3vNSo4bNw4a1K+ITRsm4daNDXjycDt+fLxDDgdq8OzRDjy8uw0Xzq7AjGl9ULhQLsSOHQJnbmXJfac/fPjgccPZAman7E7culACZrduXueqHIexHzx4gEyZMumgTCep/N/kwOEDC/D+zUH889dR/N/HY3JEiQZH8enPIPz4ZAemTOqJ9OlT60Y1OLxNRz06gnnacLaA2bn6EU8ojYDZE1rZSerI9cpXrlwBrS/NWo4TJxa6d2uKP98ewr9/H5fDCTT4v49H8d3lNShXthBixIiua6v69evj0aNHHrevtIDZSToQDyqGgNmDGjuqq0pv7PPnzyNhwoS6zp5zy3NnDcT/Ph0TKDsBlLWHo1e/7kWzZtWVZ7b2EMU12Xfu3BEwf/EFxPkrqnsT976+gNm929epakcwX7hwIRSYEySIh8U+w/G/T2Ita1B0hte3vx9Axw4NkTBhAt1DVLFixQTMX4hXtlN1Km5aGAGzmzasM1ZLAzNDVmpWWDCYRwiYncha5oOBAnPHRmoJldZWAuZUuvtWLGZn7GHcp0wCZvdpS6eviYDZdUYFBMwhPyeZYw7RQt45RgEBs2N0lqsAag0sh7IdZTFz3poe3u9eH8RPT3bg0f0teHR/M375MUB9xu+cYdjYGcsgYA75yQqYQ7SQd45RQMDsGJ3lKg4GM6H76y97cPKYL5YtGYFhQ73Ru2dj9OrZCN+O6ghfn6E4cmAefnkWoJZoRTUc//4QhHOnluL40UV4/+ZAlDvDCZhDfrIC5hAt5J1jFBAwO0ZnuYqDwBxsJR/F4wfbsGDeIDRqUBmVK5VA9WolUbdOaXXUqFEapUoWRJXKxTFuTGfc+G4tPn0IilLrmcvFenZvjhYt6uLZI38F5qh0iBMwh/xkBcwhWsg7xyggYHaMznIVB4BZG7p+8fNuzJjWF8WL54dXk6pYtHAojhxagKsXV+DqpZUqmMm8Of1VtLH06VKjW1cv/HBrU5Razu/fHELDRtVQtmxJPLy3VQ3BC5id42cjYHaOdvCkUgiYPam1o7iu9nb+Ipg/vj+CwL1zUbp0QTRsWBkn1NDwQTBoBr/X4E0L9ezJZWhYvxJSpUyOqZP74I/fOYQcNQ5aAuYovjmNXF7AbEQc+couCgiY7SKrZGpIAUeAmXCdMK47cufJhpXLRynYGpo/JqA5r3v0kA+yZE6HokXz4f4Pm5Wlauh8e38mYDZ0xzjHZwJm52gHTyqFgNmTWjuK6+oIML/6dR969WyOgoXyIejQAqOgJZzf/X4A3q3roVChPLh8fpXB83keLewHP2zB+dOLceHsUjy6vw1/vj0c4bw003x4dwRPHvrjysUVKt31q6vx/KfdKh51WNCbAua/VH471PVZjru3NuGP1wft4igmc8whPxYBc4gW8s4xCgiYHaOzXCWCOeaEnyN/0YuaMLP2ePVir4q9nSdvTuwJmIWP74OM5kmr+fDBRVi2ZCQe39/+eW43pByf3h/BhXMrMXN6b3Tt0gi1atKJrBR69miKRQsG48rFVcry1i/3X+8O4/aN9VixfJTawrJRwwoqXfNmVTFsaBvs8J+K5z/tCjW8ziVdDRpWRZkyJfDgrjbHHFwObuxx/eoaLPYdhj69W6BO7VIqv44d6mHm9L44e2oZCG39Mlj7/u3v+9ExTICR4sWLS+QvifwlfZkDFBAwO0BkuUSwAoYsZluD+Y/f92P8uO7IkiUDBg3wVk5d3DHJGKj4UKA/B62dy92uAvyno0H9SsicOR3q1imHdm1qol3bmqhTuywKFsiNls1rqCVZhCfTcY778oVV6NenFUqWLICaNUrBu3UNtG9XC15NKqNggZwoVaoglvoOx68/79Y9CIQG8xbd53xwOHV8Mbxb10HuPNlRvVopdX3mV79+BeTNmx1161TA7oBZ+PDHYaP11OplyivB3KFDQxX5iztLMfqXgDmVbretjh074unTpx4XN1z6MscoIGB2jM5yFQdZzATjof0LULVKCeTIkQkD+rXEjm1TcfHccjx54I+3r/aroeTg7SVDHMLCwurTn0cQdHAhihX9BoUK5cbMaX1w47v1+P3XfXj9ch++u7waE8d3R548WeHdqjaePtyuoPjs8Q6MHd0VJUsUwKiRnXD5gh9ePt+Dt68C8fi+PzasHY/y5QqjUqUSOHVssSoLrx0azCEW8/07W+HVpBpy586K0aM64fzZVXj92z6V3+2bm+AzfxBKlSqA8uWK4typZQYfMMLWzZT/xWIO+cnKUHaIFvLOMQoImB2js1zFCJh9fYbrLERToGHsHFq/b34LxBq/McrCzZM7C0oUz48mjSthyEBvLJg3QA0lnzu9DI/ubVHOYbRK9fOk9fzz051o3rQm0qRJiTWrx6s55rDnPH3oj4EDvJEvb3Zs2TQF//wVhNMnlqBO7Qro2KEB7tzaFK5etGrHjemGXLmyYu3qMXj3JniOODSYgy1mWvpzZg5ApoxpMX5cN7z8ZU+4/D6+P4xNGyYhS5b06NHNC3+8Dg5Ool9WS96LxRzyk9UHszZ6IBZziD7yzvYKCJhtr6nkGIECEQ1lE8yWwCOiNAQrLWMulZoxrTfata2DalVKoHCh3Mj/TQ61lKqpV1UMHtQKq1eNxtVLq/Hu9QEd9GhNHwycj5QpksO7dV1lzRq6Fq3zU8eXoI13faxeNU7NNZ89tRR9erXEGr+xoEOXlo4PDP98PApa4r4+I5A1a0YsmNcPb37bp87hsHlD3RxzMJjpKFalcgmUL1cMt29sUGkJ/7AHHd68W9VFtmwZcfdWsGe5dl1LX8ViDrmJ9cGsbeghm1iE6CPvbK+AgNn2mkqOESgQEZiDt30McbiyFCZh0xGGXD51785mHDvsgxXLRqhIXx3a10GN6qXxzTfZUKxoPnRo3wB7ds7Em1eBaiiYzltjx3RV86s7/GfpgG0o/ze/7cflC6vBIWcCncFNLp/3w6P7/grMnPOmQxqdvZ4+2o7vr6/D4IFtkCpVMsyZ2QuvX+6NEMznTi9H5kzp0L5dA1y5uBK3b67F7ZvrDB6jR3ZR5d27a44qR9iymvu/WMwhN7E+mMViDtFF3tlPAQGz/bSVnMMoYAjMttz2UYOP5silvySJ33HImnPE925vxNHDPpg3uz9at66lHLtqVi+j4lTzHC4VokWdPHkS3L21LcIlUfr58z2voVnr9+9sVsPau3ZMU0PWK1eMVhHIpkzuiXp1KyJx4kSYM6uXspiZ1tByqW2bJyNJkkSoUL4I+vbxwsD+zSI8GtavgMSJE2LlslE2iWAmy6VCbl59MIvFHKKLvLOfAgJm+2krOYdRwJ5g1qD4+6978fj+FgVgQjIsPLX/eT7XIV++uArdujZREOZ8MS3sV78GolbNMkiZMil+fronwjw0GDMv7fr0tN67axbGj+2qvMJpHQ8f0haTJvTAzBn9sWjhYPTt0xpp06aKFMyrV45GokTxUaJYXrRqURXeratHeuwNoIUfcb21+kf2KmAOuXkFzCFayDvHKCBgdozOcpUInL9sZTETjJzzPXxgLkaPao8D++Ypx6rIAMTh5xNHlyB9+tSoUK4ofn62S81PN/OqhuTJE+OHW1sNgvl/ny1kDnv/+Hg7nn/eSnLf7tlo2aImWjaviTmz+mPv7lm4cHYZ7t3ZhOc/7VFLmvxWjUPWLOkjBfPWTZOUxTygf2tcOLcU166sivBg0JMTRxeqslCLyOod2fcC5pCfrIA5RAt55xgFBMyO0VmuYhTMwc5fkcHC2PeE0Yc/DmGp7zDkyZMFw4d2wE9PdypL1lg6zkPfu7MV2bJlUEucnj7aAcJ23JiuamjYf+sMg3nwenTmenh3Czg8vW71GDx5sA1DBrVB2TIFsXHdBLz+LTBU7G2V5q+j8F00Apkyfq3AzKVPLF+w8xc3sSiBh58DjNDDO0P6NOjdq5XyNGd6HmHrwzpcueiHTRvG4acnkdc5bHpD/xsCs6xjTqXWc3M4W5y/pEuzpwICZnuqK3mHUsDQUDYDjPgutI1XNj2e9++bizKlC6JO7XI4fWIxuJxIA5qhV0J4/955ymJu1LAyfv1lr5qLPhC4QA03t2/XUC1TMpT2/duDCNg+AwUL5FFLoG5cXQNa2nVql1FOXmHTEKC//rwHQwa3Q/LkSYPBHMr5KxjMD+7SK/sonj3eifLliqBM6cK4dD58hDEtfw69Dx/WAfXrlced78Mv0dLOM+dVwBxy64rFHKKFvHOMAgJmx+gsV4nAYrYlmDkszRjWPbt7IW+ebBjzbWd8d2U1Xv26V1nB/J5wIvT+en8Ev73Yg8sXVqJL58bKgp07ewA+vDusvv/x8Q4086quljWt8Run1jUz7CXhyvRcd3ztymr079sKZUoXUkPnt66vR+uWtVCubCEcDJyH92+4BOto8PXeHcYvzwKw43MksUSJEmDKpC5qCJzn6FvMGph5PdYhY8avMWxoO/zw/Qa1nprnsx7cQ5oe3zv9p6NAgdxo0bwmfjWw1tkcIGvnvn11QBeSU/NE9nSLOXXq1BL5S3oyhyggYHaIzHIRKmBvi5lQ4XD2noCZaNigIipWLIahg9ti47pxKmzmje9Wq6VGt66vwZmTS5S3dJ/ezVGkcB60alkTN6+t0y014nw1Y23TI7pG9TKYP3eA8rK+dWMtbl5bg4OBczFyRAdUrlwCI0d0xIuf9yjwThrfTYXd7NunhTrn5nerwYPW+/IlI9G3dyt06tgI2bJmQPu2tXF4/zwVFMQQmFkfWsoNG1ZSZRzzbSe1rzTLcOfmOlw6vwJr14xFk8ZVUbZMEezwnxEubrcGWnNf9cGseSILmFPLULZ0ZQ5RQMDsEJnlIlTAEWCmNfnb8z3w3zpFbTrRoH5FtGxeHd27NcGAfs0waGALDOzfHL16NkNTr2oqznT/vi1x5OACBXUNYLSMGUFs/dpxaN6sOmrXKqM2rmDaAf2ao1OHhqhbpzwGD/JWAUp4PofFTwT5oF3buqhWtSTatamD/n2bYdCAFuADAKOB0Tt7146Z6NSxgYq3PWFcF/z0ZAf+fHsQPXo0R4sWdcCIYppVzEhhe3bNUg8OXHvdpXMjDBrQHIMHMs9m8PKqinr1KmDJouEq9KdWfmtfQ8CcUGclCpjFYpaezDEKCJgdo7NcJQIw0ytbm2M25IRk7mcEEqH2+mWgio+9xm80Jo7vhv79WqJj+zrBG0C0rYWB/Vurzzetn6Dmg7mtI9Nq1wvO55jK59gRH0yd1B0D+rdC2zY11YYUdPJavGgIrl9dq4t3zTQMGHL08EIVcaxXDy+0a1sLXTrVx4hh7bFqxSh8f20dXr3Yh6BD87F40WBsXDcGL3/hVpC00GeXpGn0AAAgAElEQVRg6+bJ6oGAoNfKw6hkJ4/5Yt6cASo4Sfu2tVQ9enRvgvFjuyBgx3Q8/5EbYgQPcWt1sOZVH8xiMf+JlStXgkPZmhbi/CVdmj0VEDDbU13JO5QCjrCYCTPtYLAQWr2PH2xT2yaePeWL0yd8cPrkItz4bo3aK5nrljWgaenCvjJm9Y9PtuO6GpL2wZmTi3DrxnoFVG3eWkvDvDiczjnq7y6vUtc6f2YJbt9cr+aDWSZClxbyy+e78erFHvz9IXjumhtdcIMMhtzUwKzl+/HPIyp62K3r63DmxCJVj8sXVqi60Qkt7PlaOktfBcwht67m/CVgDtFE3tlXAQGzffWV3PUUcDSYLYWSpDuGEDAnkKHsP0MsZs0RTjax0Pthy1ubKyBgtrmkkmFEChgCc3CAEevXMVszbCtpj+uG8DUtZLlUyF2sWcypUsk65hBV5J09FRAw21NdyTuUAhGDeUSoQBwaHOQ1PDAdpYkhMBcrVgx37tzBv//+G6pd3f0fAbO7t7Dz1U/A7Hxt4rYlMgRmrmO21+5SMiQdMt9urhaGwOzpXtliMbtt1+R0FRMwO12TuG+BDIGZQ9nz5w7ROWyZCxA533L4GtOOu3C1bFkL8ePH03kilyhRwuMtZpljdt/+yZlqJmB2ptZw87L873//w+XLl5E4cWJdZx83bhwMHtRObUBhDBTynX0AHJGut7/fgMqViiJmzJi6tqpduzYePHggQ9kSK9vNe6qor56AOerbwGNKwLlJzlF+/fXXus4+RowYKFuGsaBXCpz1lnpFBEx7f85lVwzzucR3GLJnS49o0b7UtdXQoUPx4sUL/Pfffx5zz7Ki+nPMYjF7VNNHWWUFzFEmveddmB06O/bq1asjWrRoqsNnR5ckSSJ07dwIxw774MkDfxXD+vdf90AOx2rw4qdd+OH7jVi3ZiyqVimO+PHj6qAcN25cbNiwAe/fv/doMEuAEc/rt6KixgLmqFDdQ69JMP/1119YtmwZkiRJouv0aZWlSJ4EdWuXx4hh7TB7Zi/Mnd1bDgdrMHVyd/Tp1QylSn4DbrKhWYd8rVixIq5fv67CqorF/AVkHbOHdmIOqraA2UFCy2WCFeBw9uPHj9GqVSvEiRNHB2d2/vHixUGyZImROnVSOaJAg1SpkqrRi1ixYumgTAuRUw8rVqzAmzdvPM5a5l2rP5QtFrP0ZI5QQMDsCJXlGjoFaG39/fffOHfuHBo1aoR48UK8frVOT16/0D2wRKUWnG4glAcMGICHDx+CznueZi3zxtUHszaKIBaz7ictb+yggIDZDqJKlsYVYOf+8eNHXLhwAe3bt0fOnDkRPXp0p4BRVILQma6dIEEClCxZEqNHj8atW7fwzz//eCSUeSfrg1lrI9nEwvhvXL61TgEBs3X6SWoLFdAsZw5rL126FK1bt0bNmjXVXGb58uXhikfRokWRO3dulClTxiXLX6FCBVSuXBn16tVDz549sWvXLvzyyy8eDWXe3gJmC3/kksxiBQTMFksnCa1VgHDmnDM9fZ8/f45r167h1KlTOH78uMsdR48exZIlS9C3b1/s2bPH5cpPzU+cOIGzZ8+qJW2//vqrGtVg+3ji8LX+vS1g1ldD3jtCAQGzI1SWaxhVgB0/D0YG45CpKx4fPnxAQECA8tal9zLn0V2xHiyzNpfs6UDWbloBs6aEvDpKAQGzo5SW67itAgQYLczx48cjX758WL16tXrIcNsKe1jFBMwe1uBOUF0BsxM0ghTBdRUglDncS0e2UqVKIX78+OjWrZsCtevWSkqur4CAWV8Nee8IBQTMjlBZruG2ChDMDJqybt06tfSLy2lKly6NoKAgj5+bdZdGFzC7S0u6Tj0EzK7TVlJSJ1SAYH7y5ImaW9bWuKZMmRKTJ09W3rxOWGQpkpkKCJjNFExOt1oBAbPVEkoGnqoAoUxnqSNHjiBNmjS6ddjcmKNJkyZq/a+nauNO9RYwu1NrukZdBMyu0U5SSidUgGB+/fo1pk2bFiqEJS1nBk3h8DY9nOXPtRXQB7M2KiKRv1y7TZ299AJmZ28hKZ9TKkAo0+mL21iWK1dOZy1rkaEYB7xXr14qQIdTVkAKZbIC+mDW2lcif5ksn5xogQICZgtEkySiAMFMp6/NmzcjduzY4cDMDpyRwAIDAxXARTHXVUDA7Lpt56olFzC7astJuaNUAYL5559/VrtkaVZU2NevvvpKnMCitJVsc3EBs210lFxMV0DAbLpWcqYooBQglDl3fP78eaROndqgtUxIc2MOLy8v3LhxQ5RzYQUEzC7ceC5adAGzizacFDvqFCCY3717F87pK6zFzP8zZswokcCirqlscmUBs01klEzMUEDAbIZYcqooQCjT6Ytrl4sVKwY6eaVLlw4cttbAzOVStKS5hIr7TXM/Y+7SJH+uqYCA2TXbzZVLLWB25daTsjtcAYKZa5cPHDiAbNmyoWnTphg7diwKFy6sA3PChAnRvHlzTJo0CdWrV0ft2rXB3aeYVv5cTwEBs+u1mauXWMDs6i0o5XeoAoTrx48f1fD09OnT8f3336ujSpUqOjAnTpxYbWjB4W5uY8nNLQ4dOqSA7tDCysVsooCA2SYySiZmKCBgNkMsOVUU0Czm27dvq60d+f+tW7dgCMzcxpLf//7772pTC24FKX+up4CA2fXazNVLLGB29RaU8kepApGBOUoLJxe3iQICZpvIKJmYoYCA2Qyx5FRRIKwCAuawirjf/wJm92tTZ6+RgNnZW0jK59QKGAJzkiRJMGHCBHAoW/5cXwEBs+u3oavVQMDsai0m5XUqBQyBmc5fAmanaiarCqMPZtnEwiopJbGJCgiYTRRKThMFDCkQEZjpiS0WsyHFXO8zfTBra9VlEwvXa0dXKrGA2ZVaS8rqdAoImJ2uSWxeIAGzzSWVDCNRQMAciUDytShgTAEBszF13OM7AbN7tKMr1ULA7EqtJWV1OgUEzE7XJDYvkIDZ5pJKhpEoIGCORCD5WhQwpoCA2Zg67vGdgNk92tGVaiFgdqXWcpKyEkbc9pCRrD59+qRCVDJMpaceV69eRYUKFXQhObmhxbfffqt2oPJUTbR68/5gbHHeL7xvXPFPwOyKrebaZRYwu3b7Oaz07FTZ2T579gzfffedigF95MgRtZnD/v374cnHkiVLkC9fPh2Y48ePj5YtW2LXrl0erQvvCW72wQ08Tp8+jevXr+Ply5cuB2kBs8O6GbnQZwUEzHIrGFVAs465bSFBzB2TWrRooXZNqlixIsqXL49y5cp59FGkSBEkSpRIB+bo0aMjffr0KF26tEfrot0XlSpVUveLt7c3Fi9ejEuXLuGPP/5wGQtawGy0i5Av7aCAgNkOorpLloQy1+I+evQIPj4+qFevHjJnzoy4ceMiWrRo0IItaGs75fULHZxFi9Ba8F7hSELevHnRqlUr+Pv747ffflN7Wzv770UfzNo937FjRzx9+tQlyu/s+kr5wisgYA6viXzyWQHOCz558gSzZ88GrcJ48eIJjL8IDRwBsHl6EGzcr7py5crYtGkT3r9/7/SWsz6YtfaWACPSTdpTAQGzPdV14bxpLb958wZ+fn4oWrQoYseOrazBL7/4EjFjxESihF8hVco0+DpNOjlEA6P3QMqUaRAvXvxQD3UcdalduzbOnTunnMN4vznrnz6YxWJ21lZyr3IJmN2rPW1WG3rSci6Q88lx4sQJhjKHI+MlQJ5c+VGvdlN0atcX3TsPkkM0MHoPdGjbB9Wr1EeG9JkRLVp03XB/8uTJMWzYMLx+/dqprWZ9MIvFbLMuRjIyooCA2Yg4nvoVrZd3795h+fLlak6ZnREthbhx46FYkTIYMXgq1q4IxM4tZ7B723k5bKTBrm3n4Y7Hzi1n4bdsD/r1/hZpv86g/BN4T8WIEQNly5bFtWvXlKe2s/7e9MEsFrOztpJ7lUvA7F7taZPa/Pvvv3jx4gVGjBiBWLFiKQuHzl6ZMmXD4P4TsNv/Ak4efoDTQY9w5uhjOUSDSO8B3i97tl9Eq+adESdOXJ3VTGfCDRs2qPXwNrl57ZCJPpjFYraDwJJlOAUEzOEkkQ/o9EVP7O7du+s6UAK6QvkaWLE4ACePPIi0IxZgywNL2HvgdNBD+C7YjKRJkunuq5QpU2Lq1Kn48OGD0/7wBMxO2zRuWzABs9s2reUVI5jv37+Pzp076zpQWjlNGnpj28YTAmWxkC2+B/w3n0DKFGl091WSJEkwcuRI5Z1t+R1r35QCZvvqK7mHV0DAHF4Tj/+EYL537x46deqk60A5v9y8aUfs2HLa4k45rAUl/3ueVb1z6xmkSvm17r4imIcPHy5g9vheRwTQV0DArK+GvFcKRATmFs0I5jNqbpnzy3KIBubeAzu3nkaqFGl0S6cEzNLpiALhFRAwh9fE4z8xCubNpwXI8lBi8T2wY+tpNZSteTe7Gpi1ckvkL4/vJu0qgIDZrvK6ZubGwSwWs7lWopwfMrJAMIvF7Jr9gpTacQoImB2ntctcyTiYxWIW0IaA1lwtxGJ2mW5AChqFCgiYo1B8Z720cTA73mI+deQh9u+6hhWLd2HRvC3YtCYIJw/fN3k4lekZ5GLJQn8sWeCPvTsu49SR4HXY5oLF1POZf8C281jqswO+87ao65t7Tf+NJ+E7fysWL9iGA7uvmVzfiMrI6+/xv4g1KwKxd8clcPlSROfa63OxmJ31Vy/lciYFBMzO1BpOUhbjYHa8xXz84D2s8A1AjWoNUahASTDEI4OcmAqPI/u+x8B+41CyWAWULlkRC2avx7EDP5icPqLrnDh0D4TnmuWB4fJj/lMmLEa5stVVmYcOnGwWXI8duIOunQagcMFSKFm8AlYuDdAFdYmoPJF9zjLNmroKzZu2x/zZa63OL7LrGfpeLGYn+ZFLMZxaAQGzUzdP1BTOOJgdbzETKPNmrkXWrLkQK1ZsFCxQHPNmrTXJ6qW1vGntEZQqWRFx48RD0iRJMXGcD47uv2M1mA/uuY4hAyfCq1Fb7FEWaMgQL/MfMmAiUqX6GjFjxkSVirWwbuV+k6+5ce1h5MqZDzFjxsJXXyXGgjnrzBolMATFoMDb+Hb4TJQoURYTxsy3Oj9D14jsM7GYo+Y3LVd1LQUEzK7VXg4prXEwO95iJpjnzlyDLJlzqHjdmTJlRfeuQxAUeCtS0B0/eBfjvp2rwokmT54SSZMmw4SxC20C5n07r6B1y87I/01Rtb5bH0pH99/GoP7jkSpVGiRIkBCZM2XDpHGLcOLwvUjLzHwGD5yAlClTI0WKVEiYMBHmz1qLE4dMH77XL4v2nmAeOXQ6ihUthfGj5+GEGdMBWh7WvnK5FAOMaN7N4pXtkJ+0XMTFFBAwu1iDOaK4RsG85YxDA4wQBMcO3MW8mWuQPVtuEMpFipRE1cp1sGVdkIJcRIFKmDYw4CoaNWyFnDnzoEL5Kvj663SYOHahGnqOKJ0pn6u8d15Fy+ad8E2+wiBwtHT8jmBmXPF06TIgf/5C6sGgrXdP7N15SXeedn7Y10N7bqBcmSrKYq5YsZp6mFgwmxazdfHJWaZRw6ajWLHSCszML+y17f2/WscsAUYc8TOWa7iwAgJmF248exXdWcGcK2delC5ZAd6tuiB//iKYMt5XDcdGBBOCZ4nPNuT/pghq12wM71adkSFDZoNgJkw5Z0wreOPqI9jgdxib1gbh8L6bBuFlKpjTp8+EJo1ao3KlmihdqiKW++5UTlcRlZmfL5yzAalTp1XQb9GsHZIlSwHbgPmOE4BZIn/Z63cr+bqPAgJm92lLm9XEecGcT1nKo4ZPR+FCJZQT2IHd30UIzqD9t9Gz+zBkzZoTwwdPQY9ug5ExY2gwE7AEOJ24JoxZiK6dB6JWjcaoWa0x6tZqiv59x2DerHU6QPN8WrQzp67EiMHTUKZ0ZaRPn1lZxxPH+Civbw69axYzHwQ6tu+Dbl0GImfOfBg1fKYaRo8IzPQ2pxXOIfA5M/zQvm0PJE8eGszcbnPS2EXYs+NihCMGfMhYvWwf5kxfg0N7rqvzOO8d9RazgNlmP1TJyG0VEDC7bdNaXjFnBnP1qvXVDkX16jRDxfI1sGrpboMWKJ2+CNvKFWuhbJnKWLF4J/r3GRUOzDxvvd9BtG7RBfnyFlZWbYXyNVGxXC2ULlkZ+fIWQt48BTFm5BwcPRDsMLZ1wzGVZ9YsOZEkcTK1jSHnv3PmyIeWzbqopV36YKZ39bxZa1CkUCk0aeSN7ZtOGQQqoc/v8uYpgIrlq2HH5jPo1KFPODDPmLIMyZKlxKIFGz/XPfz2m3x4aNe6NwrkLwY6kjFvAbNlvwnZxMIy3SSV5QoImC3Xzm1TRgZmdvKOPDTnLw5l16jWAFs3HlfLnwoWLKacmTRg6peJFuOUCb7IlfMbdOk4AAHbzmFA39FqKFvf+Yue1S2bd0S2rDnRqX0/LFu0Hds3n8HOzWexYfUhjB45S80hZ82SQwGc1wgMuIJRw2aiW+fBKFKoJNKkSYfOHfphQJ+xmDllJehkpYGZQ9ndOg9EwNazaNqkHQoWKIb5s9cbdLziQ8KoETOQInkqDB00EUf23ULnjhqYubwp2Plr8ngf5a09f86aCD3TD+y+jmZeHcGHh/V+B8C8Wa5RdP4qRuevubr89HWz93uJle223YZUzIYKCJhtKKa7ZGUczFHklT1jDQjmmtUaYvf2C2oetmyZKuDGGgweEhYoBC6/y53rG8yauhKH9t4MB2buK71q2S6kS8d5YG+VLwEWHHjjoYLZsYM/YPjgyYgdOw5GDpuuuw6Hv/duv4SWzToqq3r75pPq/OD0wc5f9MrWwHxo73WM/XYO8uTJj/59Rhtc03x43/eoUrk2smTJAb9le5QXtgJzshShvLInj1+olmBZAuYQr+y5Bh8Owupo6//FK9tdegmphz0VEDDbU10Xzds4mKNmHTOXSykwV2+oPJv9N51E86YdULpUJfjM3RjKciRw167ch2JFS6NWjUbYvPao8sIOazHTAp09YxWKFi2DOTNXG1yORND6Ld+thqtbNuukAzOBFbjzipoP5hA4gaMPsbAWM53INq45hDKlKqNmjQbKGtcgrqXjQ0KG9Jng1bgN9qnoZA8jsJgtB7NYzOb/KGUo23zNJIV1CgiYrdPPLVMbB3NoAGlQseerGsrWs5j3BVzGkcBbyqGrQIGiGNB3DA7tvaEDI4e2hw2ahJw58qpXzrdyPXNYMDNE5eZ1QZg9ww97tl9UFi/rQWByje/xQ/dwaM9NTJqwUAU2oTNYSD0fYt8ODcyFIlzHrFnMBDNh3bZVD+TJnR/TJi8NFS2M5evedRBSp0qLmVNXqPLyWna1mK1cFx2ihelTG2Ixu2WXIZWysQICZhsL6g7ZGQdz1FvM+wKuqPnRJQu3oVKFmmhYvxW2rD+moEmoMlxnnVpNULhQSSxd6K/ONQTmELA8BENgMt2qJbvhM28zZk1bhWmTlqJvr9GoW6cJokePgbq1mumB2XyLmWWbMXmZcu7q0mkg9u28rMtv17ZzKFqklDq2bTyhe0gwPMcsFrMjf2diMTtSbbkWFRAwy30QTgHjYHYOi5mQ27XtPNq16YWSJSpgznQ/NRRNK3f+7HVq3rdl887K6YoAjgjMPJ+hMjn32qlDXzRt0hZNGrVBk4beaN+uF+rUaoqO7XvbxGJmOXZsOa2WfFWoUANrlu8Dh905Xz11oi9SpfwaPbsN0y1v4vlWWcxNwjt/hZpjFos53L1v6AN9MGsRy2Q/ZkNKyWe2UkDAbCsl3Sgf42COushfjB1ds3pDBO66oixNDlmPHz1feUZ37zJEzflyF6aO7foqp6+pE5eAzltcM8yNMAb0GxNquRSHspf5blfWNa3Vxg1aq9jXUycuVbs60cmMQ9Ab1hxUoUBpMWvrjwnNQBMif3Edc7fOg3Ak8HtVZnqL9+o+DDlz5MHYb+eqIXk6qtWv20yF7VyxJGSzCl4rxGIOifw1hV7ZMWKCzl+ngxi9K/xyKXplN2nU7rNX9kHl0CbLpSz7keqD+YsvvgCPDh064OnTp/j3338ty1RSiQJGFBAwGxHHU79yBTATWrQ216zYp2BdvWo9rFqyC2tXBKJ82WpqWdWG1cHrdyMCM+epa9dqrLygCfgjgTd1Q8sagE8FPcSaVfuU85e1YGaeBPrihVvVsila59s3n8Zy3x0q/CZDh9LTm+do1zcI5gnBYJ47yw+ngh7gtAEw86GhRo0GAmYb/IgFzDYQUbIwSwEBs1lyecbJrgJmAmx/wFVlgdLiHTF0mrJ4GRBkQN+xakmSBriwFjOtxz3bLyBt2oyoUqkO9u9iBLEQIGoQpYXLYWbuamUIzK0iiZWtbzFree7fdRWNG3qjcOESatesrp0HIWPGLOD6ZJYrMjDPnLpcLZcaN3qOejjRP1+7xrYNx5E/f2G18QcDqHAJmFjMlv1+BcyW6SapLFdAwGy5dm6b0pXAfPzQXRW6slSpCmppVLmyVVCsaBn4LtiillAZA3PA1jNqW0Za2Jyv5tA2IceDc9j0Bt+6/hga1GuOGDFionYNr1Dn0Cr1btlFeVlvXHtIxdrmfDHTa8ulDIGZ1xkzajZy5/4GnAdndC7GAA/elIPrqEMeEAxZzCuX7lRD69xX+eDu6zpHMdaV5T689yYmjJ2P1KnTIHOm7J8DowiYLf3BCpgtVU7SWaqAgNlS5dw4nauAWQMRvZgZIIQ7T6VO/TVategMxpPWoMzXsBYzvbAZZ5uWNqN+TRizANs3nlLzxrTCmX6Jjz96dBuqhrsTJkik1iAzzOexg3cVPDmf3bXzAGTKmBUjh03DqiV7sHX9CeWEFhGYWRaCd+OawyhbuoradSpZ0hTK6j+4+1ooKPNcQ2AO3HkZObPnQbasudTSKpZ1f8B3yuoP2HpO7VVdt7aXqltw5C+xmK35uQqYrVFP0lqigIDZEtXcPI3TgfngXSycuxFFC5dEo/qtwKFgDbqEHOeKRwyZpsJvcmvISeMXqbjW2jl85ZD0sMGTkSdPAUydtERZw/TIVp/lyq/mpbt1GoTB/SdiyIBJ6NNrpAqhWbtmE/jM3YASxcsiR/Z86NvrW+z5PA/MTTIY9pND5+XKVEWThm0xfNBUHN77vVp+NXLoNGVN9+01Sjl/aeXRLOqunQYifbpMylFtycKtqoz61jLP79VjiHIK852/SbftI61ili9LlpyoUqk26Pg2uP8kDBs4RQ3hN/Nqrx5O+vYaofaKZmCT4Gvewbhv56FiheqYMmGRyk8rk6Ned3KUQrZ9dPMeRKpnrQICZmsVdMP0zgZmBvvY4HdIAWjUsBmhIEegcGiYS556dB2G7l2HYvO6o+EsTw4xL5y7QXlsr1y6SwdBrl3mvsl1anmhfNmqyiouX6Y66tdrjnbePcCIY8cP/oBJ433QqIE32rfpg51bz6n8CcgdW85gyIAJaO7VEQ3rt8bQAZMVmPkgsGjeZnW92dP91IOABj9Ckscyn+1o27oX+vUajb07gp2+woKZ88neLborC1sbamc+HHrv03OUGr4vVbIiSpeqjIrlaqJp47bo3XMk1vvtx8I56+Hdqqsu+AlHDZb6+KuQoCuXBKhhb61MjnoVMLthhyFVsrkCAmabS+r6GToTmOmQRcclbsDA3ZYYoYve2PogIcw4Hxyw9bwCFoea9b/ne57D+djtm06DMamZp/b54b031JpiLpMaPWI2xn07H4sXbMWOzad1c8pB+29h67pj2LLuOI4eCF6CxTzptc386F29Zd0x7Np2QWfZHtxzQ12PjmWEuH6ZmJYWN8tDT2w+fOh/r73nsLr/hpOq/kyj76DGoW/ursXtKkcPn40JoxdgxeIAMAALIc5tIdet2o+gwFu6BwlGQeNwN+ehg/N7bPC62vVt+crrqU0sxGJ2/U5CamBXBQTMdpXXNTM3CubNjg8wwg5dDvfQgAFWUqVMAy1QR5IkSTB8+HC8f//eaX8sMsfstE3jtgUTMLtt01peMaNg3iJglocEyx8SVKxsFwaz9kAhkb8s718kZeQKCJgj18jjzogQzE07qDlVWw5vSl6OG0p2Bq1ljtnjuhOpsAUKCJgtEM3dk2hg7ty5swo/yBCEceLEVUExtm044bA5SWcAiZTBtg8O/ptOIGWKNLr7KmnSpBg1ahQ4XOysfzKU7awt477lEjC7b9taXDOC+dGjR+jRo4euA40VKxYqlK+O5Yt3KsciAZZtgeUJenIKYNH8jUiaJJnuvkqZMiWmTp2KDx8+WHy/2juhgNneCkv+YRUQMIdVRP5XgflfvHiBESNGgECmxRwtWnS1nnZQv/HK8/nk4fsO9+r1BHi5Yx0JZN4vu/wvoHWLLogbJ64OzJkzZ8aGDRvw6dMnp/3lCZidtmnctmACZrdtWssr9t9//+Hdu3dYsWIF2HFqO+rEjRsPxYqWxbBBU+C3bC+2bzqllt5w+Y0cokFE9wDvEy7j6td7tAqo8uWX0dQ9FT16dJQrVw7Xrl0DR2mc9U/A7Kwt477lEjC7b9taVbN//vkHly5dQosWLRAnTpzPcP4S8eMnQJ7cBVC3dlMVPINbGsohGhi7Bzq07Y1qVesjQ4YsIIy1B73kyZOrpVKvX78GHwad9U/A7Kwt477lEjC7b9taVTN2lOwwV69ejaJFi6rdjLQONUaMGEiY8CukTJEaqVOllUM0MHoPpEiRGvHixdcBmfdR3LhxUadOHZw/fx58CBQwW/VzlcRupoCA2c0a1JbV4fAiN4OfPXs2ChUqpGc5B28Wr4FaXkUPc+6BePHioWLFiti8ebMKLOLMUObvSSxmW/YqkpcpCgiYTVHJQ89hh/l///d/ePz4MXx8fFC7dm1kzJjRIYCms5kWzMGcTl/OjfghgXpGixY8vxsVOhHIefLkQdOmTbF9+3a8evVKOZOz9uUAABZjSURBVBo6+89LwOzsLeR+5RMwu1+b2rRGhDMtZ3ppHzt2DJMnT0azZs1QpUoVVKhQwS5H2bJlkStXLuTNm9cu+dur3M6cL52s8ufPjxw5cqBMmTIoX768Q7WtXLkyWrVqhWXLlilnLzoXOrulrP2QBMyaEvLqKAUEzI5S2sWvw07048ePeP78OX744QflGHbu3DnY4zh06BBatmyJfv364ezZs3a5hj3K7cx5BgUFYfTo0fD29kZgYKDDdb18+TLu3bun/Bb4oOcqUObPVsDs4p2XCxZfwOyCjRbVRdasaA5z2/qgIxCDm5QqVQqtW7fGmzdvbH4NW5fZFfJ78uQJBg4ciLp16+LixYv4+++/Haqrq8FY/zemD2ZtekViZesrJO9trYCA2daKSn5WKUBgBAQEIFGiRGrolZaWK1lXVlXeTokJRY48cAg7S5Ys8PX1VaMfoqtpguuDWZub79Chg3KM/Pfff03LRM4SBcxQQMBshlhyqn0VICi4RItz2HRSYrjG6dOnq+U09r2ye+f+9u1b5bzHuNRcpqRBRcBsWrvrg1ksZtM0k7OsU0DAbJ1+ktqGCtCyu3HjBpIlC46lHDt2bNSsWVNZJja8jEdlRfjevXsXjRs3VsE9CJYiRYpg165daihb4Bz57aAPZrGYI9dLzrBeAQGz9RpKDjZQgIDgRgbc0EBb0sPXrFmzYtOmTS6xrMYGMtg8C04N7N27Vy1z06CSOHFi5Qj2xx9/yDSBCYoLmE0QSU6xqQICZpvKKZlZqgDn6uiglDNnzlARor766it07doVhIj8ma8Al7nR6YujDxqY+cBDJzDO38scaeSaCpgj10jOsK0CAmbb6im5WaAArWUuxVq7dm2oWMoECcN/Fi9eHKdOnRLrzkxtCd0rV66o9eDa3KgG5zRp0mDBggXiBGaCpgJmE0SSU2yqgIDZpnJKZpYoQDC/fPkSDEKhgUN7JVBSpUqFsWPHihOYmeK+f/8eixcvRoIECcLpygeedu3a4f79+2I1R6KrgDkSgeRrmysgYLa5pJKhuQpwHTAt4vjxQ290oMGZw7Dc8ODBgwfmZu2x5/Nhh+vBK1WqpJuz1/TUXhldjfP3zr6JRFQ3ooA5qlvA864vYPa8NneqGhMgnD/u27dvOKtOAwjnRLNnz46VK1eKdWdi6/FhhxHUOEev6Rj2lQ88I0eOxO+//y7TBEZ0FTAbEUe+sosCAma7yCqZmqoA50G5nIebY4QFh/Y/h7MZcKRz587gmlz5i1wB6tS/f381R6/paOi1Ro0aKuQpl6rJn2EF9MGszdVL5C/DWsmntlFAwGwbHSUXCxSgtfzXX39h6dKlyukrZsyYSJ48eShAB+/9nFAFxuDmFsePHxfrLhKt+bDDeOaZMmVCrFix1Lpwvmpgjh49upo2iBMnjgriwkhgbAe2h/yFV0AfzJqGWpAW8WoPr5d8Yr0CAmbrNZQcLFSAIOByHu5UlS1bNrRo0QLdu3fXzYnSOmH0L35etWpV5V08btw4FefZwkt6RLJPnz5h9erVSrvq1aujZ8+eakRCs/a4jpmWspeXlwrR2atXLzUfLZAxfHvog1nTUCxmw1rJp7ZRQMBsGx0lFwsU4DzotWvX1P68tNqePXuGEydO6JZMcW45d+7cOHDggHIO43zoxIkT8fPPP1twNc9Jwjl7rl0ePHiwipF96dIllCxZUvfAkzZtWsybNw+3bt3C7Nmz1S5ep0+fVtt7itUc/j7RB7NYzOH1kU9sr4CA2faaSo4mKkBv4OvXr6u1ttoOTYQIh1rZAfI1X758OH/+vIIGnZR4/uPHj028gmeexmVS3AiEex7TCmaYU30wp0+fXi2jov6EDrer5JaMrrwDlD1bWh/MYjHbU2nJW1NAwKwpIa8OV4DWGcGhWWkEgz6YaTHnzZtXgZmF086XIVfjTaXppOkaFswZMmTAkiVLVKxs5kQ99dvBeO6e960+mMVi9rz2j4oaC5ijQnW5pkEFwoJZ32I2mEA+NEmByMBsUiYefJI+mMVi9uAbwYFVFzA7UGy5lHEFwoI5rMVsPLV8G5ECAuaIlDHtc30wi8VsmmZylnUKCJit009S21CBsGAWi9k24gqYrdNRH8xiMVunpaQ2TQEBs2k6yVkOUCAsmMVito3oAmbrdNQHs1jM1mkpqU1TQMBsmk5ylgMUCAtmsZhtI7qA2Tod9cEsFrN1Wkpq0xQQMJumk5zlAAXCglksZtuIHhbMXC6l75Vtm6u4by76YBaL2X3b2ZlqJmB2ptbw8LKEBbNYzLa5IQTM1umoD2axmK3TUlKbpoCA2TSd5CwHKBAWzGIx20Z0AbN1OuqDWSxm67SU1KYpIGA2TSc5ywEKhAWzWMy2EV3AbJ2O+mAWi9k6LSW1aQoImE3TSc5ygAJhwSwWs21EFzBbp6M+mMVitk5LSW2aAgJm03SSsxygQFgwi8VsG9EFzNbpqA9msZit01JSm6aAgNk0neQsByiggZmWMi0TsZhtI7oGZg0q4pVtnq76YBaL2Tzt5GzLFBAwW6abpLKDAgJmO4gK6HaXEjBbpq+A2TLdJJXlCgiYLddOUtpYAQGzjQX9nJ1YzNbpKmC2Tj9Jbb4CAmbzNZMUdlJAwGwfYQXM1ukqYLZOP0ltvgICZvM1kxR2UkDAbB9hNTBrc/cyx2yezhqYU6dOrXwfOM/coUMHPH36VO1jbV5ucrYoELkCAubINZIzHKSAPpg5Hype2bYRXh/M1FXAbJ6u+mCmfjw6duwoYDZPRjnbDAUEzGaIJafaVwGC+bvvvkOKFCmQPHlypEyZEmXKlMHly5fte2E3z/3WrVuoUaOGTtf8+fPDz88P//d//+fmNbdN9cKCmRazgNk22kouhhUQMBvWRT6NAgX+/fdfPH78GN26ddMdY8eOxaNHj6KgNO5zyR9//BFTp07VaTps2DAcP34cfBCSv8gV0AezLJeKXC85w3oFBMzWayg52EiB//77D3/99Rdo4WnH/fv31Wc2uoRHZvPx40c8fPhQp+ndu3fx+++/g3rLX+QK8J7cvn07ypUrhzx58iB37twYNWoUfv75Z5ljjlw+OcMCBQTMFogmSUQBUcBzFPjnn3/Ah5kNGzZgxYoV6jh58iTev38vDzeecxs4tKYCZofKLRcTBUQBV1OAIwufPn3C27dv8ebNG3V8+PBBWcsy6uBqreka5RUwu0Y7SSlFAVFAFBAFPEQBAbOHNLRUUxQQBUQBUcA1FBAwu0Y7uX0pOSTIg57Z9BbmUh4efM/PZMjQ7W8BqaAoIAp8VkDALLdClCqgwfiPP/5QXsNcxrNv3z7s3r0be/bswf79+3H27Fm1ZOrdu3cCaCOtRS1/+uknFfiCDkvmPMxwzpRexlyu9vLlS/z9999mpTdSLJf4ilo9f/4cT548Ae9FPgya+8dlVdSfOtKT2xz9zb2WnO/eCgiY3bt9nbZ27LR4sDO7cuWK8nRl0IYKFSqgUKFCKFiwoHotWrQoatasicGDB2Pt2rX4/vvvZflUBK3K0YU5c+Zg3LhxePXqlclg4APP4cOHMXnyZMyePRvnz5/3OI9jgtjf3x+jR49GYGCg2WDlvXz69GlMmTIFa9aswbNnz2SdeAT3qXwcuQIC5sg1kjNsrAA7MXaEtMw2btwILy8vZMmSRYG4Xr168Pb2RpcuXdC5c2f1vlatWihWrBi++eYbFaP44MGDykPWxsVy+ew49F+pUiXkzJlTjTBQ58j+aB1ydKJBgwZK4wkTJoBrx821uCO7jrN/T63WrVuHvHnzol27dvjll19MfrBh3bhWfNKkSSo9NWQcbQng4uyt7rzlEzA7b9u4bckIZVp0Pj4+yJUrF7JmzYrGjRtj4cKFuH79uurU2DHy4NAih7JpCdauXVtBh+Eld+zYAVp68heiAMFcpEgRpEqVCg8ePIgULFz6w8AZfPAhkIYOHar059IgU6AecmX3ePfDDz+AIzTU4syZM+rhxNSacZ1zy5YtVQASWsxcWuWJGpqql5xnXAEBs3F95FsbK8DOivNvDNaQLVs2ZM6cWUVRunfvnprbI1y0Do2vPGi9MVIVO8tevXop65owOXr0qFgleu1D7QgW7oJkDMzUlHpu2rQJVapUUSDiEC6jrXna3LKefOq+7NmzJ9KmTYtp06aZDFfqyWkWxiBv2rSpmgrw1IcbfT3lveUKCJgt105SWqAA4cGNKrg5BTer4Hzob7/9FqmzDTs/DhdyPppz0YRPnz59lEXN7+QPyos9MjBztIJOTitXrkTFihVRuHBhFUfbE4evw94z1Gbnzp3qwY9D+5wnNuXeouPc8OHDFdA5jC2hOsMqK/+bq4CA2VzF5HyLFWAnx+HnESNG4KuvvkLdunUVJEzp/HhRnkdre9euXShRogTy5cun5qgJe/kLBrOxoWyCh9CYN2+eGvImxH19ffHixQsFdVPbwV21Zv254QcdEHlvHTlyREX8MlZfprl586aylOmwuGXLFo9znDOmj3xnmQICZst0k1QWKEAw0CmGHRjnQTlPbK6DjGbxjRkzRlnNI0eOxOvXry0ojfsl4QNKRGCmblzKQ69r6k9nuqVLl+pGKzwdytrdwFUCnGvPkCGDeoCMbLMPas742ZyXbtOmDa5evWrW3LR2XXkVBfQVEDDrqyHv7aoA5y+5FCVp0qQoVaqUcgAz94IECOfvtm7dqry0GzVqpDpDAUvEFrMG5VmzZql5UGq/fPlyNc/M70S7kLuQoOXa+ezZs6Nq1aqg7wM1iuiPToyDBg1CunTpMGPGDLXSwNj5EeUjn4sC+goImPXVkPd2VYDD2NwLOFGiRBg4cKDFlgWtbM5T09GGDjf0LJbO0DCYqQst5ZkzZyqP4dKlS8PPz0+NMvA7gXLoW556cG6Zy/ZoBXNtM6dPDP3x3HPnzqlz6TPBKRbON4umhtSSz8xRQMBsjlpyrlUKcMi5Tp06SJIkiZobthSmTEcHJloqmTJlUtafzDOHBzM14XIzehjT+z1lypTg0D+tPIFyxLcyt3PkPDzvrR49eigr2BBsuVpg8eLFyJEjB3r37q22hpT7MGJd5RvTFRAwm66VnGmlAvS+Ll68uBrKPnTokMVWLjtJzv1xiQ+XtixYsMBi69vKKjlVckJBm2PmmlweBDGhnCZNGuUF36FDB7UsiqMOhmDjVBWKosJQRy7Ny5Mnj/Jcv3PnjkFfiF9//VU9HDI4DkHOB0/RNIoazc0uK2B2swZ15uoQzBx6TpYsGY4dO2ZxJ8bOj8Exxo4dqxzAGHyE1oun/2lgpr7r169H37591YMLvd/pLMflUXRq4hI1emILRAzfMdSF3tnNmzdXfgxcc88hav0/nnPy5EkV9IaBbxjSlMv55E8UsIUCAmZbqCh5mKQAwUyLjs5fXIpi6VA2O0VaJ4QNLUFaKwLmkKHsOHHiqEAj1JnOcYzhzEhUXMqTO3duFfqUATEkOlXEty2Hs+ltnTFjRhUWlsvM9B9kOO88f/58FYlu1KhRah7f0vs54lLIN56qgIDZU1s+CurN4Wd6uhIYXCplaUfGdNocMy3AJUuWqHW4UVAlp7okLWauTf7yyy8RL148NGzYUEWh4ueECkOcMgBG+vTpUa5cObWLl0SoMtyEvMe49KlAgQKgw9zFixdDPfwxslq3bt3Uemd6uNOxUR/chnOVT0UB0xQQMJumk5xlAwW4YQJDajK4CAFBYFjyx/nRa9euKa9sWoAMLWkp5C25vrOm0cAcO3ZsFbyFYNGfSyY4uPyne/fu6uGIm4eEPcdZ6xYV5aKVTOcvBhtZtGiRDr6817ikilMDTZo0USMSfMCRP1HAVgoImG2lpOQTqQLa+mMul2J0JUs2oSBcuB6aFjetGVrgp06divTannCCBubkyZMjKCgoFJS1+hMq1KtatWrKGax///54+PCherARi09TKfiVc8ZcLsVNVlq3bq2WUVE/DnPPnTtXAZsPmJyvlwfD0NrJf9YpIGC2Tj9JbYYC7Lzo4cplKPSmpuerMRjwOzrdMFoYYcw/fsb55enTp+viZdOykb/gOebIYmVTJz4gETic72db0HmO8//G2sIT9eX9yvXyHPandcz7lfchd5LilqTly5dXgW7COoZ5olZSZ9sqIGC2rZ6SmxEF2PFznrlt27ZImDCh2nOZa2oN/fFcdoKXLl1SIRK5vIpA5md0ZqKnMZepcH7P0iFxQ9d15c80izmy3aVYR1p9XGZG5yYGxwgICJAYzwYan74MdO5iGFPqxXtw3759CsqdOnVScbLl/jMgnHxklQICZqvkk8TmKkDvaQ6zcstHAmT16tUGNwogmOn5evDgQWWtcHtCxnbmMCwDi3BJUIsWLdT+weaWwV3PNwfM1IDzzQyMwbjldBSjtuIMFvru4IMgH1oYorNVq1a4fPmyCthCUDNwCx8sZaQhtGbyn/UKCJit11ByMEMBdmK01riWlts+FipUSG21x6FUzVFJ6+j4Socxdoz169dXS1M4p8xOkum4/EeslRDxqYUWYMTYfsxaCup74cIF0AmMbUFHJ041MB+tDbRzPfWVOnCr0UqVKqmRhcmTJ4NbQtasWVPFfY8oXKen6iX1to0CAmbb6Ci5mKEA5+4Yv5kgoNXMCEtTpkxRQRr4OZ3C6HjDTo+BRLitHp1suMwqevToyqub3t0cZhSnmxDhzQUzU1I/bWiWEcImTZqk5vS1h6SQ3D33HZ27+CCZK1cutX81R3sYvIXhTuX+89z7wp41FzDbU13JO0IF2KHRaYsbzDNMJ4emS5YsqbbaY8AQrk1mHGJuU0iA0xIkxLl0pXDhwmqpFKMtcc6aEJG/YOcvrrnlvDE9rU21ernV4cqVK9UoBCOz8T11NTW9u2vPB54DBw6o+46+EVyix3tTArS4e8tHXf0EzFGnvcdfmR0/h7U5VE34Vq9eXW0IwOU+XOvMg0OstKg5dDh48GA1J01w00uWQ4pcw8yYxQIRqAcU7t5Fj2GOJpijCUFM2HBPYc6dPnr0SFmD5uThzjc0pwYmTpyIli1b4ttvv1Xe2px/lj9RwB4KCJjtoarkaZYCGqC5HIWBHOgFSwjz4EYVDI3I7zjETUubDjdc7kNnnCFDhignJgFI8FIybllIqBIa5mpCfTk8Swhxbp9am5uHWQ3vQidTTz4AUhtGUBMnORdqPBcsqoDZBRvNXYtMCBg7tHrzHHaU169fVyEnZR2ppoy8igKigDsoIGB2h1b00DpoEPfQ6ku1RQFRwE0VEDC7acNKtUQBUUAUEAVcUwEBs2u2m5RaFBAFRAFRwE0VEDC7acNKtUQBUUAUEAVcUwEBs2u2m5RaFBAFRAFRwE0VEDC7acNKtUQBUUAUEAVcUwEBs2u2m5RaFBAFRAFRwE0VEDC7acNKtUQBUUAUEAVcUwEBs2u2m5RaFBAFRAFRwE0VEDC7acNKtUQBUUAUEAVcUwEBs2u2m5RaFBAFRAFRwE0VEDC7acNKtUQBUUAUEAVcUwEBs2u2m5RaFBAFRAFRwE0VEDC7acNKtUQBUUAUEAVcUwEBs2u2m5RaFBAFRAFRwE0VEDC7acNKtUQBUUAUEAVcUwEBs2u2m5RaFBAFRAFRwE0VEDC7acNKtUQBUUAUEAVcU4H/B71lFIqWes8qAAAAAElFTkSuQmCC)"
   ]
  },
  {
   "cell_type": "markdown",
   "id": "65c95318",
   "metadata": {},
   "source": [
    "## scaled dot product attention"
   ]
  },
  {
   "cell_type": "code",
   "execution_count": 27,
   "id": "cultural-delaware",
   "metadata": {},
   "outputs": [],
   "source": [
    "# 스케일드 닷 프로덕트 어텐션 함수\n",
    "def scaled_dot_product_attention(query, key, value, mask):\n",
    "    \"\"\"어텐션 가중치를 계산. \"\"\"\n",
    "    matmul_qk = tf.matmul(query, key, transpose_b=True)\n",
    "\n",
    "    # scale matmul_qk\n",
    "    depth = tf.cast(tf.shape(key)[-1], tf.float32)\n",
    "    logits = matmul_qk / tf.math.sqrt(depth)\n",
    "\n",
    "    # add the mask to zero out padding tokens\n",
    "    if mask is not None:\n",
    "        logits += (mask * -1e9)\n",
    "\n",
    "    # softmax is normalized on the last axis (seq_len_k)\n",
    "    attention_weights = tf.nn.softmax(logits, axis=-1)\n",
    "\n",
    "    output = tf.matmul(attention_weights, value)\n",
    "\n",
    "    return output"
   ]
  },
  {
   "cell_type": "markdown",
   "id": "36bb9943",
   "metadata": {
    "id": "Okfvqxoeyw97"
   },
   "source": [
    "### 멀티헤드 어텐션(Multi-head attention)\n",
    "\n",
    "> 멀티 헤드 어텐션은 어텐션 맵을 여럿 만들어 다양한 특징에 대한 어텐션을 볼 수 있게 한 방법이다."
   ]
  },
  {
   "cell_type": "markdown",
   "id": "67586137",
   "metadata": {},
   "source": [
    "- 병렬로 어텐션을 진행한다.\n",
    "- 모델 생성 시 "
   ]
  },
  {
   "cell_type": "code",
   "execution_count": 28,
   "id": "minus-works",
   "metadata": {},
   "outputs": [],
   "source": [
    "class MultiHeadAttention(tf.keras.layers.Layer):\n",
    "\n",
    "    def __init__(self, d_model, num_heads, name=\"multi_head_attention\"):\n",
    "        super(MultiHeadAttention, self).__init__(name=name)\n",
    "        self.num_heads = num_heads\n",
    "        self.d_model = d_model\n",
    "\n",
    "        assert d_model % self.num_heads == 0\n",
    "\n",
    "        self.depth = d_model // self.num_heads\n",
    "\n",
    "        self.query_dense = tf.keras.layers.Dense(units=d_model)\n",
    "        self.key_dense = tf.keras.layers.Dense(units=d_model)\n",
    "        self.value_dense = tf.keras.layers.Dense(units=d_model)\n",
    "\n",
    "        self.dense = tf.keras.layers.Dense(units=d_model)\n",
    "\n",
    "    def split_heads(self, inputs, batch_size):\n",
    "        inputs = tf.reshape(\n",
    "            inputs, shape=(batch_size, -1, self.num_heads, self.depth))\n",
    "        return tf.transpose(inputs, perm=[0, 2, 1, 3])\n",
    "\n",
    "    def call(self, inputs):\n",
    "        query, key, value, mask = inputs['query'], inputs['key'], inputs[\n",
    "            'value'], inputs['mask']\n",
    "        batch_size = tf.shape(query)[0]\n",
    "\n",
    "        # linear layers\n",
    "        query = self.query_dense(query)\n",
    "        key = self.key_dense(key)\n",
    "        value = self.value_dense(value)\n",
    "\n",
    "         # 병렬 연산을 위한 머리를 여러 개 만듭니다.\n",
    "        query = self.split_heads(query, batch_size)\n",
    "        key = self.split_heads(key, batch_size)\n",
    "        value = self.split_heads(value, batch_size)\n",
    "\n",
    "        # 스케일드 닷 프로덕트 어텐션 함수\n",
    "        scaled_attention = scaled_dot_product_attention(query, key, value, mask)\n",
    "\n",
    "        scaled_attention = tf.transpose(scaled_attention, perm=[0, 2, 1, 3])\n",
    "\n",
    "        # 어텐션 연산 후에 각 결과를 다시 연결(concatenate)합니다.\n",
    "        concat_attention = tf.reshape(scaled_attention,\n",
    "                                  (batch_size, -1, self.d_model))\n",
    "\n",
    "        # final linear layer\n",
    "        outputs = self.dense(concat_attention)\n",
    "\n",
    "        return outputs"
   ]
  },
  {
   "cell_type": "markdown",
   "id": "c5f54328",
   "metadata": {},
   "source": [
    "## 마스킹"
   ]
  },
  {
   "cell_type": "markdown",
   "id": "b649c2d0",
   "metadata": {
    "id": "TnuBqivE8zzh"
   },
   "source": [
    "### 패딩 마스킹(Padding Masking)\n",
    "> 패딩은 문장의 길이가 서로 다를 때, 모든 문장의 길이를 동일하게 해주는 과정에서 정해준 길이보다 짧은 문장의 경우에는 숫자 0을 채워서 문장의 길이를 맞춰주는 자연어 처리 전처리 방법이다.\n",
    "\n"
   ]
  },
  {
   "cell_type": "markdown",
   "id": "3a031e11",
   "metadata": {},
   "source": [
    "- 문장 길이를 맞추기 위해 넣었던 패딩 값은 어텐션 연산에 의미가 없다.\n",
    "- 이를 제외하기 위해 패딩의 위치를 마스킹하자."
   ]
  },
  {
   "cell_type": "code",
   "execution_count": 29,
   "id": "occupied-dress",
   "metadata": {},
   "outputs": [],
   "source": [
    "def create_padding_mask(x):\n",
    "    mask = tf.cast(tf.math.equal(x, 0), tf.float32)\n",
    "    # (batch_size, 1, 1, sequence length)\n",
    "    return mask[:, tf.newaxis, tf.newaxis, :]"
   ]
  },
  {
   "cell_type": "markdown",
   "id": "14d4478c",
   "metadata": {
    "id": "qWm-U2Uf85Zt"
   },
   "source": [
    "### 룩 어헤드 마스킹(Look-ahead masking)\n",
    "\n",
    "트랜스포머의 경우, 전체 문장이 문장 행렬로 들어가기 때문에 위치와 상관없이 모든 단어를 참고해서 다음 단어를 예측할 수 있다. 지만 사실 우리가 원하는 것은 이전 단어들로부터 다음 단어를 예측하는 훈련을 제대로 하는 것이다.\n",
    "\n",
    "> 따라서 이러한 문제를 해결하기 위해 자신보다 다음에 나올 단어를 참고하지 않도록 가리는 기법이 **룩 어헤드 마스킹 기법**이다."
   ]
  },
  {
   "cell_type": "markdown",
   "id": "5cac55b6",
   "metadata": {},
   "source": [
    "- 트랜스포머는 기존 RNN과 달리 문장 전체 벡터가 입력으로 들어간다.\n",
    "- RNN은 각각의 step마다 단어가 들어가므로 단어를 예측할 때 이전 스텝에서 나온 단어들만 참고할 수 있고 이후에 생성될 단어를 참고할 수가 없다.\n",
    "- 그렇지만 트랜스포머는 전체 문장이 입력으로 들어가므로 지금 예측하는 위치와 상관 없이 모든 단어를 참조할 수 있다.\n",
    "- 예측해야할 위치 다음에 나오는 단어들은 볼 수 없도록 가리는 룩 어헤드 마스크를 생성하자."
   ]
  },
  {
   "cell_type": "markdown",
   "id": "9e8fa4b3",
   "metadata": {
    "id": "6xY-gs3lAlNi"
   },
   "source": [
    "![image.png](data:image/png;base64,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)"
   ]
  },
  {
   "cell_type": "code",
   "execution_count": 30,
   "id": "architectural-ebony",
   "metadata": {},
   "outputs": [],
   "source": [
    "def create_look_ahead_mask(x):\n",
    "    seq_len = tf.shape(x)[1]\n",
    "    look_ahead_mask = 1 - tf.linalg.band_part(tf.ones((seq_len, seq_len)), -1, 0)\n",
    "    padding_mask = create_padding_mask(x)\n",
    "    return tf.maximum(look_ahead_mask, padding_mask)"
   ]
  },
  {
   "cell_type": "markdown",
   "id": "d2cd5a46",
   "metadata": {},
   "source": [
    "# step5) 모델 구성하기"
   ]
  },
  {
   "cell_type": "markdown",
   "id": "ed93e6dd",
   "metadata": {},
   "source": [
    "## 인코더 층 구성\n",
    "- 하나의 인코더 레이어를 구성하는 함수다.\n",
    "- 멀티 헤드 어텐션 -> Dropout, Layer Normalization -> Dense('relu') -> Dense -> Dropout, Layer Normalization"
   ]
  },
  {
   "cell_type": "markdown",
   "id": "12c0c992",
   "metadata": {
    "id": "I5laqMno5O61"
   },
   "source": [
    "![image.png](data:image/png;base64,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)"
   ]
  },
  {
   "cell_type": "code",
   "execution_count": 31,
   "id": "visible-escape",
   "metadata": {},
   "outputs": [],
   "source": [
    "# 인코더 하나의 레이어를 함수로 구현.\n",
    "# 이 하나의 레이어 안에는 두 개의 서브 레이어가 존재합니다.\n",
    "def encoder_layer(units, d_model, num_heads, dropout, name=\"encoder_layer\"):\n",
    "    inputs = tf.keras.Input(shape=(None, d_model), name=\"inputs\")\n",
    "\n",
    "    # 패딩 마스크 사용\n",
    "    padding_mask = tf.keras.Input(shape=(1, 1, None), name=\"padding_mask\")\n",
    "\n",
    "  # 첫 번째 서브 레이어 : 멀티 헤드 어텐션 수행 (셀프 어텐션)\n",
    "    attention = MultiHeadAttention(\n",
    "        d_model, num_heads, name=\"attention\")({\n",
    "            'query': inputs,\n",
    "            'key': inputs,\n",
    "            'value': inputs,\n",
    "            'mask': padding_mask\n",
    "        })\n",
    "\n",
    "    # 어텐션의 결과는 Dropout과 Layer Normalization이라는 훈련을 돕는 테크닉을 수행\n",
    "    attention = tf.keras.layers.Dropout(rate=dropout)(attention)\n",
    "    attention = tf.keras.layers.LayerNormalization(\n",
    "        epsilon=1e-6)(inputs + attention)\n",
    "\n",
    "    # 두 번째 서브 레이어 : 2개의 완전연결층\n",
    "    outputs = tf.keras.layers.Dense(units=units, activation='relu')(attention)\n",
    "    outputs = tf.keras.layers.Dense(units=d_model)(outputs)\n",
    "\n",
    "    # 완전연결층의 결과는 Dropout과 LayerNormalization이라는 훈련을 돕는 테크닉을 수행\n",
    "    outputs = tf.keras.layers.Dropout(rate=dropout)(outputs)\n",
    "    outputs = tf.keras.layers.LayerNormalization(\n",
    "        epsilon=1e-6)(attention + outputs)\n",
    "\n",
    "    return tf.keras.Model(\n",
    "        inputs=[inputs, padding_mask], outputs=outputs, name=name)"
   ]
  },
  {
   "cell_type": "markdown",
   "id": "b822f06c",
   "metadata": {},
   "source": [
    "## 인코더 생성\n",
    "- 임베딩층과 포지셔널 인코딩과 인코더 층 여러개를 연결해서 하나의 인코더를 만든다."
   ]
  },
  {
   "cell_type": "code",
   "execution_count": 32,
   "id": "specified-charger",
   "metadata": {},
   "outputs": [],
   "source": [
    "def encoder(vocab_size,\n",
    "            num_layers,\n",
    "            units,\n",
    "            d_model,\n",
    "            num_heads,\n",
    "            dropout,\n",
    "            name=\"encoder\"):\n",
    "    inputs = tf.keras.Input(shape=(None,), name=\"inputs\")\n",
    "\n",
    "    # 패딩 마스크 사용\n",
    "    padding_mask = tf.keras.Input(shape=(1, 1, None), name=\"padding_mask\")\n",
    "\n",
    "    # 임베딩 레이어\n",
    "    embeddings = tf.keras.layers.Embedding(vocab_size, d_model)(inputs)\n",
    "    embeddings *= tf.math.sqrt(tf.cast(d_model, tf.float32))\n",
    "\n",
    "    # 포지셔널 인코딩\n",
    "    embeddings = PositionalEncoding(vocab_size, d_model)(embeddings)\n",
    "\n",
    "    outputs = tf.keras.layers.Dropout(rate=dropout)(embeddings)\n",
    "\n",
    "    # num_layers만큼 쌓아올린 인코더의 층.\n",
    "    for i in range(num_layers):\n",
    "        outputs = encoder_layer(\n",
    "            units=units,\n",
    "            d_model=d_model,\n",
    "            num_heads=num_heads,\n",
    "            dropout=dropout,\n",
    "            name=\"encoder_layer_{}\".format(i),\n",
    "        )([outputs, padding_mask])\n",
    "\n",
    "    return tf.keras.Model(\n",
    "        inputs=[inputs, padding_mask], outputs=outputs, name=name)"
   ]
  },
  {
   "cell_type": "markdown",
   "id": "a0a8ada8",
   "metadata": {},
   "source": [
    "## 디코더 층 구성"
   ]
  },
  {
   "cell_type": "markdown",
   "id": "34efbebb",
   "metadata": {},
   "source": [
    "- 하나의 디코더 레이어를 구성하는 함수다.\n",
    "- 셀프 어텐션 -> LayerNormalization -> 인코더-디코더 어텐션 -> Dropout, LayerNormalization -> Dense('relu') -> Dense -> Dropout, Layer Normalization"
   ]
  },
  {
   "cell_type": "markdown",
   "id": "a2ce88b3",
   "metadata": {
    "id": "gnO7Z1b36Nkx"
   },
   "source": [
    "> ![image.png](data:image/png;base64,iVBORw0KGgoAAAANSUhEUgAAAIsAAAGkCAYAAAABlNaoAAAgAElEQVR4AeydBXhdRfr/V/EKWmApFCgUd1l2f+yW/S+yUBZogbq7RWppmiaNu7s0jSeNJ427a9tYPY02UvcCCyvf//Odci733kgjNzdpc/M8k2NzZs6Z+dx33nlnzry/guZPUwJ9LIFf9TGeJpqmBKCBRQNBn0tAA0ufi0oTUQOLhoE+l4AGlj4XlSbisMLyv//9D//97381tXCTlMCwwPLTTz+hsrISzs7OsLe3R1FREb7//vtei4xgfffdd73G6e3if/7zH1y7dg1MR/M3sBJQOyxXrlyBjY0Nli9fjpCQEOzevRsbNmyAnZ0drl692uNbXL58Gba2tvj3v/+tEIeV3xcAzpw5g61bt4Kgav4GVgJqhYWVumfPHmzfvh0XLlwQlcxz586dg7m5ObKyskCYOjo6ZABcvHgRTU1NQhLNnDkThYWFYMWfOHECjY2NSExMRGZmJggT02pubgbvkf6YdltbG5KSkvDxxx+jtrZWlrYUR7PtWwmoFRY2BdbW1igrK1N4OlZyfn4+1qxZg/Lycnh6eoJxeZ5NlKWlpQDi888/R0xMDPbv3w8dHR0BHa/7+/tj06ZNuHTpEszMzFBcXCxLPzU1FXFxcdi1axf+8pe/IC8vTwOLrHT6t6NWWH788UchQQ4dOtTlKQ8fPoy//e1vAhrqMhIsBQUFMDY2FtKCzRWbEUqU6dOnyyQIzzk6OgrJZGhoKKSPlAElSnZ2Nk6ePIl58+aBz6D5G1gJqBUW6huUEtXV1V2edu/evfjmm2+EJJGHhRKnO1i0tbVlEoISKD09HUFBQULasKmS/jSwSCUx+K1aYWGlenl5ITg4WFbRfAVC5Ofnh507d4omysnJSSZZqJN0B8uSJUtk3W6mGx8fL9KlZMnNzRUlw/OhoaEayTJ4TkQKaoWFOR4/fhwLFy4UukdDQ4NQXgkEmxgqrWyOqABTyWXTYWBgIGChAss4VGCPHj2KTz/9VOgxZ8+eFWlu3LgRdXV1CAoMFNKL56kYEyo2Q6dPn8bsWbPQ2dmpoqIbfcmoHRYa4Q4ePAgXFxeYmJgIEFxdXVFTUyOkCe0t7E6zKaIEonLKHhT1EjYplBS00WhpaSE6Ohre3t5wd3cX4FAfIRQODg7w8PBAREQEUlJSBID/+te/hPQiOJQ4mr/+l4DaYZEekRXG5ocQKFcej1nxkpIrXeeWgRKDNhPu837Gk/8jkDwvWYel+xlHfl/+Hs3+jUtg2GC58aP1HIPNE7vLmj/1lsBNCQslCY13mj/1lsBNCYt6i0iTm1QCg4KF7T97Ha2trbJABVNZh5Ay625LhZY9nb7+UQ+hpVZZ9+Ax06GuQ6nzww8/iGEESSeSxpR4Xn44oK/5auJhcNMqWQHs5nLMZtGiRaJLPGPGDGFal5TL3gqZFVxSUoKAgIDeoilcIyhubm5g70b+j1C4u7mJnk94eLgw+evr6wuICQctvMyPxj8OWmr++l8Cg5IsrCDaQTg4RzgY2FN55513cOzYMfEr5zlOLeCW8TkIyEAJwMrLyMgQlUdpQMVVGhDkq1BCccCRthFWONPgMQE9f/68iM9jxuM1dsl5zK40Lbocg+J9tO189tlnYooC85AsyLyP6Zw6dUo2RYLPxOflOQ5C9kdK9r/4b647Bg3Ltm3bhDGMhcxAMc9xm7S0NGEHiYqKEgODNKaxEikVaAOhJZdNGGFZvXq16N3QistffVVVlUiL40KODg7Csst5L4SSMKxcuRI+Pj7iPK29HBwkiLSrEFYJFtpqjhw5IuK9+uqrSNqzR9hoKMkIa0JCgsiPz0LJwyaUTSrvpzWZg5607fC9NH+DbIZYQZs3bxbWWFYkf7Hs0n744YeiYufMmSMKnhVI4xkrnJKDgRXGSqLRjPFpzaX+wmaJ5n3uEwRKCwJIScGRY8LyySefyCZMcVCR8FASGBkZCdBY2YR17ty5QsLV19cLiy+lF8eaaO3lYCZHqim1OI+GUFBisQmjIZDShZbitWvXdmnyRis4g5YsrCgOAK5YsUIEjs3QZE9zPQuaFcSCnz9/vmh+pIJmJXM6ASuGlcZmhH8EiboGdRM2H5yyQKurhYUFrKysBCwcRGQ8/rGZICSUQt3BwjT4LF988YWQEBxkZH60CnMOzb59+4Qew/u//vprMXJN6zCnQjBvzoWRnk1kOIr/DRoWNkNUGikJGChtKLb5i6U5n8eczkhYqB9Ify0tLaKyYmNjxS9aqhD+ymmdpV5DfYhzW5KTk4VkoqShZGFlS7PqCAtB4sSp/sDCJojx2QwycN4LhxnYNLIZ5FACZ/RJwEvPPZq3KoGFA3jKf4TF1NRUwCJVKHUKSbdhMyHpBNOmTRMQMA02Gdv09QVsBIygESRKIMYncIxPXYR/lECcosmmridY+CycOMW8JclCqUHJRt2F6fN+QspnpGTkOab917/+VUg45fcbjceDgoVdZyqR7Pko/1FZpFSQ7BtsCjhqTPHO6QSsWOopnNWmq6sr9BH+wqnXECR2jalD8NdOfYL5UIpRUWZ8KsmcTkmlODgoSMSnrkKIqHdwBt2WLVuEwsomiyPdOTk5AhbO5aVkYl68n1KF4LApKi0tFZKKz0BwqN+wGdX8DVLB5S+ViiUVUOU/Nj8EhnH4xy27omyyGKRrrDR2ZylRWFFSl5v38HxFRYVoFngvmy6pW8t9do0PHDggzjF9Nl18Fkofpkt9Q+qit7e3i/spLZgu/xiHo91Mh+BSAhJu6lM8x+aI8TV/10tgUJJFU4ijqwRuKlgoJdgscav5U38J3FSw0DYyceJEmQVW/cU1unO8aWChPsGu7G9+8xvRJZe62qO7+tT79jcNLOxN8VORX/3qV/jggw+EoU29RaXJ7aaAhT0ddp8fe+wxAcv9998vurua6lNvCdw0sPALANpNfvvb34phBdprNH/qLYGbBhYa6SIjIwUsHIBUns+i3mIbnbndFLCwatgUSbBwBFvzp/4S0MCi/jK/aXPUwHLTVp36H1wDi/rL/KbNsd+w0BjGATjOK+GAnboCBxI5U469IX6eqq58pXz4vnzv0WwM7Bcs7IFwhtnixYvx1Vdf4csvv1RrePvtt/HrX/8ar732mlrz5XvyfZcuXSqbPnHTiodBPHifYZE3jI2/fzxeevUlvP726+oNb72O1996Da9zq+a8X3zlRYy/dzwmT54sW9JjEOV+U97aZ1g40stlvMaOGwvfSF8UHStGyfHS/of6UhQeKULB4UIUHyu54f3X49w43oCepR/Pz/f1ifLF+PvuFXOE+eMZbX99hoXza7nM1uTnnkF1Rw1qT9YNKKRVpsPO1x7mruYCuorGih7TKa0vg1+UH4oOF6H0eNmg8h3o88rft7dlH1585SUx604DSy8/FQmWKS8+j9rTtT1WsHzhKu9XNu+FrsEG7M7YjayqbBg7mMDOxw61nd2DtzNmJ4xsjVDeWAF7X3uUN/QMlnJedae6T1M5Xn+O95+oEs0ffzQaWIYYFjY/y9cvR1lDBWo6a1FwsABO/o6oaq9GdnU23EPc4RzghISCeBAsne062GSyGWEp4ViydglCU0KFhAlPDRdxGT8+Px4eoR4iFB4qwr7WfQhMCIKjvwO8IrwFYDE5MSK9/W1ViMuLQ0VT5YBg18DSCyDyl1QhWSjGt5jqYYXOStEMJZcmY1/rfqG7mDiawD/WH+Fp4dDZpoPsmhxsMNwg4kek7cay9cvEtcTCBCxbvxyRmZGw9rDCKu2VYt85wBluQW4IiAuAqZMporOjsc1ymwCGMG233o7Y3FgY2xtjX9s+DSzyldvH/X7rLINphijyqe9kVWfB0tUK06Z/DlNHMyQUJMDCzQJVbdWiElnpBMc7wgt+0X7iHktXSyElGNfSzUrEo/5j6WZ5fb88VaRRcKgQubW5SCpOwlZTfdGMMc/1elqYMWcGUspSBgQKn10jWfpIlSokS+b+LFH5kp6QfyAfn8/4JwLiA2Hh+gssXuFe8Iv0g3eEdzewJMLO2+46IHvTYeNle32/Ik2k4bDTEWbO5ghLCYWDj4OAhU3admsDLFy5CJRmUv793WpgUSMs1EsWr16MtPJUlB0vB5uX+csXIGNfJgystiO1LAV5B/Kha6CD7KpsBViMbAyRWp6KxMJfYEnfmw5bOVjMnM2wbN0y0QTlH8yHjr4udA03wMHXAfY+9uK8voU+9rZqmqE+VrtCtAE0Q1OEctrfXyXjU6kNSQ7Fej1taG3TwqYdm8UvneepqGpt1YbWVi3Rpa7pqEF8QTz2FO8R91HKWHlaIacuT+goTI8Kc0T6biEpqNyGpYYhNi8Wy7RWQHubLnan74bu9o1w9HMUTVx1e41Ie6DShZLl1TdfFZ/ianpDChwpHtDUv3rVKtz/wP0ITQlD0ZFiFB0t6X/gfcqB6fR2Trp+WO5e6Zz0HMr3S8e8h0E+vnQPz/U1HC5GSHIIHnzoQfGVogYWRT4UjjiAxm927r33Xkx6ehLe/9v7mPrh1FET+L6Tnn4Cjz76KFKSkxXKZrQc9LkZYoHQ5M+R33fffRdTpkxRe3j22WfxyCOPgNvhyP+9994TizaP1o/c+gULgaGE4XA9vyNWZ+BS7VytQfIZpM68pbw4XUEzReEmkKPUEbjawZ133inWTrkJHvmWe8R+S5bhKgHaebgOC+ezLFu2TCwcNFzPMlrzvWlg4dIaL774ovjIjDpLdwsIjdZKVNd73xSwsAmiYv3SSy8JyfLUk08iMDBQXWWkyefnErhpYOHKkVyliXNw+YE8V7HU/Km3BG4KWFgk7IXIf2Q2Go1i6kWja243DSyEQx6Wrq+iOTPUJaCBZahL+BZKXwPLLVSZQ/0qGliGuoRvofT7BQv1Bpq+6byBjha4moG6ApfZ4JLvv/vd78Sa/OrKVz4frrrNJVJHq3LdL1i4IPE//vEPjB8/HmPHjsO4ceoNY8eOxd133w1u1Z73uHHivbm+P9fJHY1/fYaFiwnTAcPvf/97rFypjfjEXCSnFo6aEJ+YI9779ttvF25nRqN06TMsHJtZsGABJj35NA4e7kRD80WVhJq6VlTua1BIa19VEw4fPa1wTlX5DSad2gMn8Myzz4mxKQ0svchWacL28y+8jIam86qpyKYLiIpOg4ubv0J6YRFJKK889su5pgu/7EuQ9vWcFF8F2yPHzuCNN94VX2ZqYBkGWELDEmBl46oAQ+W+4zh0pBN1B9tRsfc49iQVIL+gBkfrz+B40wUhiZJSilBQWCvOHTt+FsUlh5CUUii29Y3nUVJ2BFXVzcgrqBZpDUaiSPcKWN7UwNILJtcvDZVk6Q4WN49dKCw+AA+vIBhst4CnVxC2GZghLiEbBMlwhxVc3XfBxs4dwaEJiI3LgrGpHVzdA6C70QDZuXthaGQJAwNzBARGo6buhAKMUuX3d6uB5YaYqB8WGzs3IREIRGR0mpAmkVGp8A+IhJv7LpiaOyIlrQTRsRkwMbNHbHyWkDKlZUewVd8EHp5B2KJnBDZnlDL9haKn+BpYRjAsPn7hSE0vFZXN3teuwGhs2mSIZcvXwWiHtZAeDk4+CAiMxXZDC7h7BGDTZkO4uPoLaPIKqlQGCgHSwDLMsISEJQjpcOBQB0Q42A5LK2fk5VejO1jYbNnZe+DQkZMoLTsMH79QLF+xHoVFdag90IbNekawd/TGVn1jaGDpY+X2MVq/us5cakLVvaHEpFzMW7AMuhsMRNiqbwYzM0eUVRxBVEy6gIa/6sysSqGbsNu+w9gWWtp60N2gj8SkPPj4hmLlKm0hVZxd/KC31QROTr4ijZ6alIGc10iWPlJFBZeu456Y9BSqa5pR33BOJYE9mSPHTuHIsdMKgenzmpQP96Vjxt1f1YgDB9vFdZ6vrmlBbV2r6B0xPfacpPhSGoPd7t3fgMmTp4i5wJqucy/g0IWLpaUl7rrrLsz4eg5MzexgYek0aoKpqR2mT5+FMWPGCv+MvRTVLXupz80QS4C+BblqI03et912u9hyX53htttuU2t+0rvxfe+44w4hXemLcTT+9QsWFhAdWtLdLUee1Rk4Sy44OFjAyq0685byokfX0eyJtd+wDNcvijoCPaXS51BlZeVwPcaozvemgYWj3nQqTrd3hoaGo/oz0uEi9qaBhZOu6L2dbu/ef/99MQlruApttOZ7U8DCJighIUHm9u7BBx8UbvBGa6UN13vfNLCkpqaI5ocfma1bt07AM1yFNlrzvWlg+emnn2TfDXE+Lo81f+otgZsCFhYJmyLNR2bqhUM5tz7Bwk9HaV9o+3lBnbKyMgxHsLCwEN866+npDUv+g3nn8vJy0fVvaWnBlStXQIv4zfbXKyz8NfPTh6CgIPH5xcsvvyyUTCqYDz30kFoD8+SsfvaGxowZo9a8VfWuXOLsueeew4wZM8CmtLm5+aYyAfQIC6VJVVUVPvzwQ4wbN15AsnTpMnh6eiE8fDcihiHo6OoKO8uKFSuHJf/BvHN4WAR8fHyhpaWFF154QXzKwh8f/VPThnQz/HULCx8+LS1NLPb32GMToa+/DQ0Njbhy5SquXr02LIF5h4SEimbI3d1jWJ5BFe/O92huboG1jS0mTZqEhx9+WCxqeDOsVdctLGybX3/9dTw7ZYpQKs+dOz/slXOrwCIBd/HiJeTl5eP/3n9fSO2cnJwRL1y6wMJlO+fOnSteIDMjC3wp6QWHc3urwSKVZX5+AaY8+xyeeeYZnDp1akQDowALFdqCggLcf//9MDLagcuXryiAwgo7caINOTm5YsXI3bsjoc6gq7tBprOoM1/mFRUVjdy8PLS1tau0OWYZ79hhLJY/s7KyGtG9JAVYOBuO81Wef+EFlJSWKoDCX8LBg4cwZ85c0RMZM+Zu3HOPesPdd9+J22+/DXfddafa8ua31Qx81wkTJmDJkqU4evRYl7KRJMVAtq2tJzBhwsP46KOPcPr06RErXRRgaW1tFd3Sb775Bp2dJxUK5NKly8Lcftttv8ey5d8iJd0L6Vm+oyYkp3li5erZuOOOO+Hg4KhQNgMBRP4eShcdHV2h8FZXV98csFRUVIjexqZNm7roKlRyOWH7qacm4uyFfFz9vrTHcKIjEx0ns7u9fulqMVrbM7pcO3M+F+cuKqZ75bsStHVm4VjDHly4XNjlnnMXC8C8pGdh/Ja2dDAP6ZwqtyfP5OLZZ58U/p3ZJMtX+GD3E/ckCb8IVANG6p+CZMnNzRU6gYmpaRd95ezZc5g9ew5efmUKrnzXMyis1K3bVsDZTR8XrxR1qTRWpr3jJlz7QTGNzBwfVOwLU4h/9PgeuLhvg5evEXZH2+HyNUUIGF9bd74AilAQEnMrbbSfzFJIR1XAXLhcgHfeew3z5y9Q0FsodY8fb8Dp02cGDFBFRSXuueceYbK4KWBh942Ti8zMzAcMS92hOGzYuBiW1ro43pQsKo2/+JNnclDflIyDR+KxYdMiAQthaj6RiuYT6YiMsUdugb9CJScmu8BnpzHOXyqAs6s+Tp/LU7ieXxSAv0x9W4B0HZYirFozG63t6WCejF/fmCS779ylApw5n4+WtgyR5oXLRWhuTRNwXbxSjJa2VLR1Zop7uwNMGRb2FKurqqGtows23bRFsUmRD32VONU1NWIyfPII9jiiIFkGC8ulq0Vw8zRAWWUoomMdkZHtIyq3pCIEtvabYO+0GZY2G7B0+TeiskLCrWFnv0lIIZ0NC5GZ46cAw5H6RFja6CIo1ErApCxZikqCYG6phe2Gq1GxLxwXrhCWOWhpS0NOvj/MLbVh67ARVtYbsL8mEpm5vjC10IKrhwHiEl1g57gFzm5bYWC0Cs5u2+DqsQ2GO1aLuL3BwgV9YmNihYR54IEHRU+GCzrPnTsP8+bNl4WVK1fC2dkFpaVlOH/+Qq9Sp6a2dnTBwl+puZUOmk+kIa9wF9y9tuPytRL47TLFvurdopnIK/TH8pUzcaQ+AfZOejh1Nlf82q3tNiIj21cGCyVDYUmgaNJmzp6G+oYkBf2ElUlY3L22YW9VBDZuWoJjDUlCshw+liCgOHA4VuRZXReFddoLsCfFHUEhlqJ5TEhyRdhuW7EfE++EXYHmYj8r1xeJya6y55CHRpIs06d/jaDAIHz++T/xwAMPCFgmTpyIqVOn4oMP/iYLb775luhBPffc87CwtEJ7e0ePwIw6WLLzduKr6R9i5eqZWLJsOj79fKpoYgiNpNSyWdDduAjl+8JgZbtRwEQwRDOU/0szdP5SIfS3rxT3pWZ4Y5vhSuwMMFOoRMLi4WUgmg2CQN1m+aqZqKqJhKPzVlnzw2Zs/qLpoudGiAlAaoYX8goDxX5apg+ycq/nXVASiKhYB4V8JGAkWCSd5ezZ88jLzcPixYuFVGEzdOHCpZ/DRXR2nkJKcorwz8TvrUxMTHuUMKMKFlY4ldGs3J1gr6HzdA5Cwqzg62/6s2SJEAoqm4flK78FmxhKFuoy1COsbTciM+cXyXL6XC60dObh1Nk80fvivo39Jlz9vkRWkRIsrEzmZ+ewCX/7+3sibXNzbdQejAF1kf3Vu6GtuwhZuX7IKwwQ97Prn1twHZb0LB9kDwAWSR9hT5E6R0dHZxfJwV4T7TKzZs3CxImPIzk5pUscpjOqYOk4lYMdJmtFsyL9EtksbdVfgbyiQFjbbICrx1bYO2yBodFqUHJQZ6Eu4+KuDyPjdSgpD5GBQP3E08dIKMr2jpvh7mUIB6etQlJJ6e+rjkD4bhtxD2Hl8bezPkVbZwYKigPF8zg76wndpbo2EsVlwbIeF69Tz2FahSXBQs/ifuX+cKRlesmeQ8qLW/b03vlj196QBE1v23379uHVV1/Fp59+iu7G2m4pWPiCVOCeeWaSkASsHPlw6WoJaPeQP8d9nuOvu/NsttA7KEXYLPDaxSuFaDqR9nPvpFDEk7//wpVCof+wt8Q0eB97UFIcnpM/lvLjs3Cf+tCxxiScOpcrjqmA8x5e4z6B5D7TkM5zy14SzyuHztPZeP6FyVi8ZKlC17k3SKRrLD9O8WD3uK7uQBfpckvBQluCkZGRMLWvWjMTnj7b4eU7eoKnjwFWr54lKtvezqFLZUtQ9LRld9re3kH0eNLS07vcf0vBwkI4fPgIPvnkHwIYjtOoO9x11x2QgrrzZn5UUr/9dibq6493qeyeIJHOU3fx8PAUadBaK52XtrccLHwxGqL4za+//y4x84uzv9QVOEOORsP58xaoLU/p3fi+RUXFXYZBpMq+0XZUwiIVyrVr30GdgfnKz5RTZ97MS3rvgW5HJSx8aY4TdXacVGvoaO+An99O/P73t8He3hEd7Z1qzZ/vy/fm+w8EmFEHCwsrIiJCdP/eeONNvPHGG2oLr7/+Bp555lncc88YPD15stry/eUd38Q/Pv0UMTGx3XZ9bwTQqIKFL8tmgBOAnnnhZUz7di7+OXv+qAmffTsHzzz/Ep544gnExyf0W7qMKlg4ELZ06VLc/+AERBdWoajxHIqaRlFoPIvIvH14cMLD0NbW6XdzNKpgkeazTHnxFVR2XkNl53cqDfn1pxGRXaEQCo6fGVAeTCvnSPuA7u3tvUpbL+GVN9/tMp/lRk0Qr49OWF56eUhgCU4rxooN2+ASnvBzSET24YFVeGBKAVzD4lUOSwlhefs9DSycndWX+SxThgiWgKQ8GNq7o7LjGip+DvyVFxw/Da/odOxMyEFhw3VJQ6nhEZWKgOR8lLRcREXHdyhoOAPf+CwEpxXBOyYN9v4RGlhUPOWu35OfhgyWPXlYq2eE3TmViMipRExxDXKOdEDP3AE2fqEwc9sJA1t3sInR2W4OG99QmLj4wdw9AFkHT2DN5u0w99gFC88AzF+lpYFFxaAwuREFy8I1unAJS4RrRKKQEpQcK3T14B6ZDNewBMxcvBw7E3MEDO6RSXAOjcParcZw2BWJrVZOKG+/IqSSufsu2O3USBZV8zJyYBHNkAf2dvyiPFN/mb9aC46BkXAMioJDYBRcQ+Ixd+VaOIZEwTE4Em4RibD1DYFTQIys2fGJToO9BhZVszKCJAthcVCEJa6kDob2nsg53I702ibRFCWWH8JGY2tkHTqBtJomIVVCM0qxYoM+MuqakXmgFev0TWDvv1sGT289nP5c0yi4cvwNp4IbX3oAvrGZChVc2noRXlGp2Ghmh01m9vCLz0RZ6yU4B8VA19gaehZOCE4tQknLBbiH78EmcwcYOXqL6+G5FQpp9QeKnuJqYBkhsLCCKrqx3bBnREDKTlyWVT7PlZ64hPITVxSaLcapaLsii9dTpQ/0vAaWEQTLQCtRXfdpYNHA0mdJpIFFzbCUt11B6YnLIrDZKG+/2ufKUoUEGUx+QwlLbW3drfeR2WCMcmVtl2HrFw5T912w8guF9c4wxBRUqw0WKsJuYQkDBlQDixolS3HLBazbaoyQjFKk1TSKri/N9JQYFe1Xwcqg8spjYWBrvwpKooqOq78MAbRf3xf3cFig85q4t7TlogwCpkEJUk6Fl3Har6K05RLyjp3EMp0tILQDkVIaWNQKy0VobzdDQvlBsFvMwMokOKZu/tAytICNT4iwlXhHpwrDGs38DJwSUdx0HlstHQVkhMghIAq0u9Aox3sNHbyQdagNCWUHYerih63WzkjZXw/7nbvFdVNXP8xaslIDi1yd92dXrRbc4paLWLxuA/ToLs8rCI6B0cg92iEMbz50nnnsJFyCY2HlFQRTF19sNrUT4GyzdgFHpaPyqzBj/hI4BUaJ8aBpX8+Gf2IOfOMykH2oDcbOvtcHE9NLsGaLIdLrWrAzIRs2O8OQX38KHI3+YuZcDSz9IUQurtphWa9vjPDscmQeaEH24RNiYHC5rr4YXWbTkFrdABNnbxg7eWPXnjzRXCTvOwYjBy9Ye4dgd04Fdjh6wyNiDyy9A5F1sBUuwTEwsHPHwjXacA6ORVh2BaI1q18AACAASURBVJwCr5v/nUNiEVNUI9IhjIvXbdTAIgdAf3bVDouOoTmS99fLdIaS5vNCCmTUtYhztOTS7G/i4ouQ9BJxjr0mAxs3bDS2QUnzBVh4BGDR2g1iVNrSMxAeEUlishMHD93C9yA8txIuodfns7iHJSIk43o6lDTzVq7TwNIfQuTiqhUW9kY2m9khpapBBkt5+zW4hMXDwNYN3rEZ2GJmL0z81t5B4JiPpIiauu6EnoWj0HEsPHYJWKi3mLn5i+bHIyoF6/VNsMXSATT1ExreyykPm0zt4BOXCXMPf3w9b4kGFjkA+rOrVliozGYfPKFgumeFlrReRGT+fjgFxyKh5IDoxeQc7UBh41kZLLlHOsSAIuOzOeEcluv7p+AXlwXv6HRk1DZhT+URFDedEzoKrxOoxPLDcAqKRVxxLdKqGwRwvNbfoOkNyaE1nAOJ/a244YivgaWfsDz7wssD/mUORwWrMk/C8vIb72DBAsUFCFUxYfuWsuBe/xRkGcbde5+wk1TKGcqE4Utu7uyteFzZfhWJpQdx3wMPQltH9Z+C3FKw8FOGiIjd+MMf/oBHHnscUz+Zhg8+/eeoCX/9eJp470lPPomkblZBuJF0udGnILcULCwMLkgTFRmNmbNmiXXS3nrrbagzvPnm2+ITVnXmKeX17rvvYs7cuYiPi8e5G6w82R04ow4W+UKQX+tVXftcs43rzXLVR3XlKZ+P/Pv3d39Uw9LfwhpsfBY2vzG+4447hCeSwaan7vs1sKjRqxk/n128eIlYc5ZbHqu7wgeTnwYWNcJSWbkXXHyYDjWffvppcK37wVSeuu9lc0ZvIlxqLDU1rcuz33IKrroLWD4/Lvfx5z//n5Asr732GkJCw7oUuHz8kbZPSbhi5UqMH38vCIby82lgUZHkoQjnon9eXt7CxY21tQ2OHqvvUuDKFTCSjmtqavDKK6+IBYG6W8dfA4uKYGGlExj5NeVGEgi9PQubn5aWVixcuEi4E0xJSe0Wcg0sQwQL15NV95p2A8mP0jBidyQ+m/Y5xowZK/xO9qSYa2AZAlh+/etfC/dwb7/9NkZyoDHvqaeeEl7u6XHewcGhiytBeYmkgWWIYOG6bm+99daID3+dOhWGhkaoqam94bJiGliGAJbf/va3sLOzFx44aNEdyeH06bPgMvbyEqSn/VseFiqd6gqXL11FSGio6A25uXuoLV/59+upolVx/paDhV2+1LQ0odl/8MEHUGegl7AXX3xJ2Fmee+45teYtvefChQuRmZmFCxcu9kla9AeiWwoW/sLoOf3RRx/FQw/dj6l/+yP+/tGfR02Y+rd3MWHC/UJp7cnBVH/gUI470mH53//+1/fFfChVli9fjnHjxqC0IlT4HqRr3NEUyveG4r77xkNXd8MNFVZlGG50PJJhISjXrl3rOyy0D9Cv80svP9urX2c6dKrYFwo6seS+vCcw7tPRN72FKZ9vaErBiU5F5+D0HEZnmXRySa9oyvfQAXhZZYgAlteYHyuUXtKU46rimM6x3nzr5QEtbXqzwUJAvv/+e5w5cwaHDh0CPbH1e3b/jZyA07fh0mXfCJdzZ84r+mFmhTU0p2DrtuVyTsDpMawUcYnOoJ9m+UotqQgWbnzpINzLx6gLBIz/0Sd/Fr6ieR+9k2nrLsCJDgk6ZVh5LAXJCfn1Y8lrmXz+yvvKDjUlANhEc2LYYHSZkSJZCMnVq1fR1NSEgwcPYv/+/QKUIYElO89fuOj18t2B6tooUfmUJvR6GhBkhvQsb+huWCjON7WkYXe0Pegq12+XSRcn4BnZ3vDdaSycbjq5bMXZCwUKMBWWBGHhoi9h67BZuLAjLPTrTCfgdGVHT6q7As1kzSY9v9K5Jr2r0hn5oaMJCI+0FZ5YKdmiYuyRmOyG7iAnOMqwsFvc2tKK8LDdWLd+PQ4dPiK6yjzPQFO/BNSNtsMNy3/+8x9cuXJFSJG9e/fKACEkHNfq7OxUrWQ5ezFfOO1uaE4G3evGJjiLyo3fc93zO5snOtRcsPBL0N8gva/SCyq9rq5YORMZWb94X2XlNDanYuOWJcJNL308Kzdr9L7q5LoVDk56wrEm8ycsTa2p8A8wEw44rzsg3yxcASelemCL3jLhgTUq1hEGhqtRVBokHJFv27ZS7Lu6bxMOxJWlijws33w7U/SKthkY4JVXXxUOs958801s2LABmzdvlgUrK2tERkbiyJGjNwRnOGChFPnuu+9EU3P48OEugDQ0NOD06dMgSPxTaTNEp9v625cjr9APu6NtRSVT76CU4a+aBS4ccq+fh5oDUaIyKQHo2HLnLhPhSleqJDoPDw6zFm5+ly6fiZLyUFTsi1CQLJKrXuou+gYrUFQWJJyA1x2KgYWVDto6M0V8bhcsnoGUdG8kp3mKcwSHQDM/ntuT7C7284sDhKSTnkN+K0mWGTO+hre3D1544QUBCufYjBk7Fo888igeeeQRWbj77rtw3333g87Ad+0K6NGnM6WOOmGRFNbjx4/jwIEDCpBQknR0dAiF9r///a/ch0IqhiV+jyu0debByXUzHJw3Yt7CL7CvOhIe3oYyBZWiX0d3oVBcbeyuNx+UGKER1gq/aHpO1dm4SDQnVG4XL5shmjf5ypNg4bmq2kgByPxFXwog7Rw2i+aL185eyMfc+V8Kj/Td+XUeiBNwVvCJE21wd/cQvo/mzZsnplGcPHkKUjh46DAsLC2F25lx48aLuHQb2F2TpA5Y/v3vfwt9RFmKEJC6ujrR1BCknv5UJlnodtdwxxrUHYwRv1BWEvUUwx2rERxqiYQkVzQ2pyA4zAqLl3yNlrY0sEJZyQcOxWLzliUKTsDPnC+A7oYlwvv7oaPx2Ky3DKbmWsKNrgQMmxBPbwORHyWYz05jvPX2K2hoShbNHZu/+sZkoaNYWusiO88PeT8r0WmZ3sgrChL30gl4Tt51j/FFpYGIiXOUvYOUF7eSZJE8xkuVfvr0GeTl5aP1RFsXEKj8cpbf1Kkf4MknnxTxpPvkt0MFiyRFTp482UWKUBdpbGwUTU1vkEjwDBAW5V5GKU6dzRE6CpsVqYCpKIZH2uDo8T0ICrWAla0OWIEMbHrKKkPh5LwVHt4GAibGk+5lDym/OBD2Tpvh6LRV6BOsVPkuNKEorfzFcTibG19/E5w+lyf8QQeGWMDCShuh4dZCR6KXeqk5PHwsXoDE/A4fSxDPyH1eZ1MpPYf8ll3nt995dUBd5+LiUkyZ8hy+/ubrbp1yqhIWVjwDezX19fVCalB6SKG6uhqEh11j5aZGAqO7bZ9hoVFu2bLlePDB+0XvovN0Dk6eye1X6O4enuvuvJT29Wv9z0tV90vpdJzKRnF5MCZMeAA6A/gi8cyZs1iwYCHuu+8+4fJYXqpwX1Ww/Pjjj7h48SKOHDkC+V5NVVWV6AoTEklh7Q6I3s71GRaK0/DwCKG8PTvlSUz/+iN8O+sfag/fzPxE7XnyPb+a8SGeeXaSaEr2JO7p0twoV77yMbvRNra2uPOuu5CRkdnl/sHAQulAKULFlJBIEoTb2tpaNDc34/z58wOGRAKoz7Dw5Sld+Onmp59NwzPPTsHTk59Va5jw8MNiIPGhhyaoNV++J9932uefg9MiB2J844/N3cPjuhPwbmAbCCySPnLs2DFhC5GHhMY0SpF//etf/WpqJDC62/YLFgLDl6ZGT/M/Ras6A7ufnM/i6OSs1nyld+ypJ6MsRbo7ZrnJPMYPAhYCQgAuXLiAo0ePKkgRAsKezqlTp1QGiDw0/YaFBUGReuH8BZw/d16tITAwSMDi7OKK8+fUn39/LLLKwAwWFkmKtLe3y8ZqKEmol7BX09LSopKmRh4O5f1+wcIXrqquAY1S/HZH3eGJSZNEMzRx4kS15/3qa69h2rRpKCoq7qJvKIPR3fFAYZEgocRgL0ZqaggJJcm5c+fw008/id6PcuWq+rjPsPBls7Oz8fjjj+P+e8fh1ZeexRuvPj9qwusvT8GEB+8XBra0tK5fFHYHiPy5/sLSU1NDYNj8sKkZaK9moBD1GRa21zo6urjn7rsQ4mWCxspotFbFjZrQvDcGiSH2mPDQA1i7bl2/57PcCBZO6h47dizi4+PR2toqdA9JinBLSE6cOIFLly4NiT7SF4D6DAu7XosXL8aTTzyC707k4qf2vF7Dj215+Fdb1zj/6uHeH9vzwHsY5NNWPuY15XPd3SefRl/2ldPs7p7vWrIx9c9viWU/WPnykuNG+73BwmucMxIUFKRgGyEkUq+GUoRN0nD+DRCWHIUK7a5g92XvQmKIrQIwlxrT4e+6He21CV3uZ2Xl7/EU105Ux+JyYwauNGWiImuXAhyMV5rqg8a9UbI0vm/NQVKYPS7Wp8nOdfdMPZ1r3heNg8VhN7yXsHzw/tsqgYWA0BTR1tb+sxT5ZVoADWgc5OPEI3U3Nb3BOGSwhHqb4PNPp+Ls0VRZJVRk+eOP77yK6pwAUJLIVx6lkLWxFqpygxDkZoTjlbG40pSFqpygLrA4mesgJ95Ndv/V5kxor54jg/CH1hx835Itu858eMzKls+TkPFcUbIXEkJtFa7Jx5P2VQHL3XffLdaZ4fC/8ohvfl6eMM1fvnx5REEiATRksCQE22D10m+RuttZVAJh0N+4FNs3LUVVTgDK0v1wojpOXGuriUNF5k5YGK5HcoQjZk7/CJvWz0d5uh+y4ty7wOJopo3sODchtZjuleZMaK2eJWDpPJCE7ZuWYdGsachL9BD3VuUFYfn8L7Fo9jSRJiu/cW809LQXYvHsz+FkuQHxwUMLC7vdCQkJiIuLk/Vo5HWS8vIKobMkJydLdTPitkMHS4gtgjxNoL1qDi43ZqJxXywWz/0C3o762J8TAD+X7UKKsOKqcgOxy9UA5tvXoTRtJ8wNViE7zh3N+2Phaa8P6jmSXsKtnfE6GOuvQOROcxEoxWZ99RGOV0Rhx5YVqMzahbaaeBhtXoHiFB8EuO/AiZp4HCoKg9nWVbjakgVH8w0oz9iJzgN7YLF9DYI9TYZEsvzS1BxRmKIo9WrYDHFW3UAsuOqmaUhhSYt0go2xlqg8d+vNyIpzg5+zQa+wsBnyst2MY+XRogkjLNeas+BmtQFGmxajJjcY9qZa8HPehn3ZASKUpvli8bx/oiTVF59/8j4MNyyE0cZFWDr3n/C224LSND8Ee5nAy2Ebls77Ap2Hk2Gqv1JATFizY10QE2itUlho4e5uxLewoADl5eVCH5E38o16WDKjnXGwKAzbNizFquUzcbU5SwGW/dkBooJK0/3g46gvJIsMlrJfYKFkoc7xfXMWfjiRAyczbeTEKeosbIbK03fCYOMyoRgzbseBBAGQi80mnDqUjJMH92CbziKcOpoKC4M1uNyQIfLPiHZGtApgEZbtCxdx6JDiFEX2aKi0urq6iaYmcRDmfnVLE/n8hkyyJIbaITPGVUgFNkWh3mZCx2DzU50TiLggWzhZ6KA4xRs2JtrwsNWD1Q4tVOcFI8TTBD5O20QPxcvRQDRDkpLJZsjVciPyEjxkkoAKrs6aOUIPMTNYg3AfExTs8cDWDUuxJ9wRDmY6oPSJ8rfEwtnT0LQ/Bl72eojZZSmUW+o4YT5msvSkvJS3PSm4tEG1tp4QvRr5aQGE5NixerS1tYmmRhVjQ/KVp+79IYOltToOHXXXu8iHisPQUZcoekDHKyNx9mgKzh5Jxp4wO8QH22BvVgDqyyJxoDgM546l4OTBJGTGugqd5VhFpIKCywo8WhYhpIRUmZQ2bJKuNGbg5MFE7Am1R8wua5Euu9+FSV6I8DNDQZI3ilN90VYXh/baeCSFO4j8KzL8weeV0utpqwwLdQ2uwaLcq6mqqhbTAtgUSU1Nb3YW2mhGdTPUU4HfzOeVYeEKDvI9Gu5zugC7vspGOg0sSraSmxmEvjy7Mizs6fAzD3lg2PRw7IamefkpDRpYRjkslB5siq73fI5j//4qGTiEhk3L8eMNYrKUBpYBwHKxIR1nj6Qo6Ae0uPKXTeVV2u/LL51xaJST7DAX6tNEb6mv9/Y3nrJkUW5qOMjX2NgkpjISFnmJw+mOfn5+eOwPE6HpDfUBHMJAQ9oWrQUyWFgBCUG2uNKYKRTb5FB72bW+VObR0gjUFoTgWnM20iJdcPpQUr/u70seUpwbwSLBw+aH82EpVeShoX1ll78/CgsLu3xwplFwlQDi4KCDxQZMn/b/0LA3VlTqufo0GGxcLkA5UBwBE70V+K71+hjOmSOpOFYehavN149ZWd+35OB4ZRTOHEkRUoVjRPGh9sKGc/JwsrhOadNel4gj5ZFi7IfjUNdasnG5KRNHKyNxTm68SgKhL9u+wiJBw6aH83UpbeS71JQ4tOByQhM/qGd8DSxKsOzLCYSdqRYKk31gvn01LjVkCIPdU09MxMqFX+Hvf30Hz05+HBF+pqKbu2zBdOjrLsGyBTNQXxEpzPJGW1bDcONSzPjn/8PenAB8/cWHYiJWhK8JvB0N0LI/FnGBtli3bCaMNi0Tww1Ne6OxYe087Ni6CkZbluGzj6dif05gvyVQf2GRoOGWPSRKluDgYLGVb6K4WgHnszzzzDPgxKqR+jdkdhblX+oPJ3JFxROYzrpELJv/lRj4ox3EaPNKnK9PQ31lNMxpWW3KwP+99yZK0v1QXxmJ5N2OcLXeBKMty3G0bLeoZA5UejlsRUGSJ1IjnYXV1stxG2ryQ7Bi/nScPpyEnzrykRvvLmwp61bMwv7cIGHryY13g6O5dpeRb+VnVj4eDCySgnv//feLLwQobeSbqL1794mP6EtLS8XH6iMRGLXB0rQ/Fm+9/hIWfPMJFn7zD0z76P8QE2ApwFCEZTXOHEnCM08/ASujNbDdsQbWRmsQH2wtxpkkE31uvCucLTf8DIuTaGI8HbehINELqxZ9LVN0DxSEIDLABjqr5qPzULIAhHNtrHes7WLsU4ZD+VgVsNDRw3UF96ow2LGLzSZJXtIQIjZR/BZoJP2pBRYxnmOpi/w9Xvh3e54Ix8sjYW+qLSTA9k3LhYWXksVo03KcP5aKjz54D8fKdgtdpCo/GJkxLrA10ZaN50iw0DobE2CDc8dSQVgOFIZhzdJv0VIVK+5N2e0IDj3orpkv9CLqLwIWo+GG5ZqC4e7AgYPw8vJCcXGxDBzqOfxg/ezZs+JT01t2ppz8r5LmfRerjaLypPNXGjIRvcsKbbXx8HXahthAK5w8lARjvRUoS/MTI8XmhpQqa2FroiN0Fo7fXG3KFM1QVfYu7N5pLqYl2JpqIT/RA3Eh9ug8kIiceE9YGa2HjfE6eDroi3nCbtabQYWZ+R8pCUOEj+mwNEO/SBZFWKizsInifBZOxiYk8tKGQwr8iJ2fpg4XNGqRLOwy0xYigSJtJfsIey+UPjzPrRSXusupw3vwr5/tMNJ5xhM2Geme1hz8yPBzHpQeF46no/NwkkK6vEe6Vz4t6XlutFVtM6QIi3JviJ+kct6zMjSStOG1/nzUrormTC2w3KgSbpbrhGUoJmz31nWmFKE0oVRRHrAkSJRC1G3UMVe3z7DQXrBq5SqMHzcGtYVhoqfxU3s+RlM4UZuIpyZNxKJFi1X+KYiyZFGWBISGS2Twy8OysjKFJoofv9NCzKkQQ/nXZ1jY9fPz2Yl77rkHTzz2CGbP+AcWzfpi1IS5X3+GyU89gTvvvBPe3t4Kyqm8PaWnfanr3JPOciNYJAi4iiR9a2/atEkMK3BSlbxuw56V9AGaqnWbPsPCQuCAGZe9+r/338cLL74o1lTjumpSeP75FzD5mWfwvNw56ZqqtjRcqSot5XT43Fxwp/vnfxF//ON7MDU1FcuA9QRFT+dVCcvHH38MXV1dMQGcixlzSQ0a/OShYff7+sj3Rfzwww8q0W/6BQsLgqOsDQ2NqKs70CUUFZdAX98A+6uqu1zrLn5/z1VX12D58pUoLi4ZkvTLysrh6OgEzrRXfrbaugNi1pv8tIOewOjuvCph+eyzz4RtZt26deJbZyq6VlZWAhbl9VkoaWgh5tKkg5U0/Yalu4KQzhUUFIpf/d59+/otpqU0etvSFjFu/HiEhYUPSfqE8KWXXhLjNL09x0CuqRKWTz/9VKwmGRwUhC1btgjJwSVVKVkIBCVNamoq8vPzFcakKG24CsNAJY1KYTExNRVLYvBbYGk64UAKtrt7KNFsbe3EKgqLFi0S67N0F2+g5/i8a9etv76kh7OzymFUNSxUdtkLWrNmjfjslWvwEhb+ERiCMmvWLLGYAWfvyes23CdQNPZxWbG+/qkMFk4xfHbKFOF3ecKECWKG+0Arrrv7mptbhNsYrjk7adIk0VR0F2+g5ziXlsuPMv2nnnpa5TAOBSysZC65sXTpUlCPkWDhik9LlixBeHg49PX1xQpQ1G34FaT86DehYfebH+Jz2dMb/akEFhZEZGSUcC/zu9/9Tjjp9vDwwKVLfV+O/EaVTMfZVDxZmbR0+vj4quzXT6nF1aQefvhh8PmfeGISErr5XONGz9jbdVXBQonw+eefi240K5dSJCU5GY899piAhVC4uLigoqJC2F6o+LKp4lLrjMsmiN1v2mykgUwCRHB4nvf3BI5KYKEIp9MmW1tbjB07DgkJicjLzR/Q2ms9FTiVT339baKZ2LJFD+npXRfx6+neG52nDYk+hFauXIVJk55EUlKyeJ8b3def66qChcuDcZoDF/CR/rikOmfhUR/heXadpT8qv+wVyTc3hIbHjMcP8CVopN4UP47jMuxcI0b+TyWwsNAIzNKly0QT0d7eIY5ZQP0p0N7icpLQihUrhZ2DCxRTGvQWv7/XmppbhET54osvIT1/f9PoLb6qYGFFd/fLH+iSHEyL0oYGPQkWbgkQjX1suiTQVAILQdmzJwnjx4/H2rXrVF6RrAROCuKv/r33/gSuaN1bxfT3WlNTM+YvWCgMjlyTn+/T3zRuFF9VsMj/0lW5L0kbSiGuFSMvbbhPCfQr+TGFnJwc4bjAzMy8zwVGQx09uU+e/AymTJky4DXXeipsfm7BJoJ+kidPngw2R8pxWRFsSvobKEGSEpMwffp0Acr69VoDMrgpP093xyMdFnnwKG2oOFOHkZ9r86uVK1eC64LUVFfD19dXdE3Xa2mJ3gbXnC8vr0RhYRHy8wsUQm5enoDkow8/Ek3DbbfdDjc3dxGf96kiREZF45NPPhVrx1KBi4+LVwDl1OkzwjvHhx9+BC5K+PjjfQ+PPfYHPPDAA+LZuTyXubmFbD5sd5U92HM3EywSONR3qANR2rBp+hUdao8bNw5jxowRlcLexu233y4+4GYh8vzdd98DLkKjGO4Rv0bpHMeMqNzyHlUFul+htJo5cyZyc3JlzRu76fzI/PEnnsC9996HF154Ee+++26/Ak33f//wQ6xbtx5ZmdkqVca7A+tmhEWCRtKTfsWZWVFRUQgNDcU2fX0hWb7++hv4+/sLHzn+/rvg6+sHHx/FwHO8xoWMhypERUYLCcdFi6UKoLndaMcOoR999NFHCAoKBr8t5hBEfwLnwLa1dSh8NSjlMRRbwkJ3M4MdSJQqcDi2QsElOQwD0VmGomB7SzMvrwBjxowV1knqM73FHUnXqDRbWloJWLKyc7o8d19HnYcDEilPlfSG1FUpJ0+dFiPeHN3mYJ+68lVFPp2dJ0GJTW9nlIDKaWpguao4dVC5gPp7zJ7Q72/7PVavXjPkOkZ/n+1G8ekggko6e1zd2Yg0sKgQFrb5ERG7hQWX0whuVDkj5Tp1rL2V+8TK3M8++ywOHDzU7bNrYFExLLTn/OY3v8GqVWsQHR07okNUdDT8/HYKKcgxJw5OcvysO6lCsDWwDAEs7NrfeeddorvPLv9IDWPHjRM2nHvvuw/z5s8XNqreJk5pYBkCWChZ6NDS28d3RAcvbx/ExMSCQwl9GT7QwDIEsNA5Fe0VI0UnUdVzaGDRwNJnqG9JWNgr4eAhHV3TdqDO4LfTX/SG7O0d1Jov35Hvy/fm+6tKmsinc8vBQgWNM8gWL14iRmq//OorqDO88867Yjji9TfewFdfTVdr3hyZ5vRFztjrTVGVB6A/+7ccLJwB9/jjT+Cuu+7ApEmP4skn/zBqwhNPPCJ6N/xuqTtXu/0Bo7u4txQsnCuyevVqjBlzDxKS3ITz79PnctF9yMHpcwzdXe/pWnfnpXPSVjm97s53d075vv4fnzyTgz0p7hg3biw2b+acVtU2R7cULGyv58yZgxdemIxLV4tx9fvSbsOV70qQV+iPsspQXPmuaxwClJ3n1+Xew8fi0dicqnD+4pUi5Bb4w2+XMZpb0xSuMf/GllTk5Pvh8rUScY3b7DxfnL1Q0CVuT8/bn/PnLhbgtddfwIKFCzWw9DbqTFhmz56Dl1+Z0i0EUqGfPp+HmXOmQW/rMpw5n9+l0hqak7FZbzGu/fALSAQsNsEJeYW7FOIXlQXBynYj0rN8YGu/CRcuFypcJ0jvT30Lh47Gi/OEeK3WPLS2ZyjEk55tsNsLlwvwznuvCTuPRrL0Mq2yr7Bk5frBzcMInt5GqK6NEpVGEZ5fHIQ9KW5IzfCGls48XP2+BEfqE8VxZo4fPLwNkZPvr1DJWbk+4nxTSxrcPbZ3kRiFJYGYv+CfcHDSw/lLhbh0tQir1sxBa3s6mGdeYQASk11RUBworh9rSEJxWTAysn1x+FgC9lXvRnqWNzKzfVFzIBpZub5Iy/QS93YHVk+wEBz2lgYzZeKWa4ZuJFkopi1tdNHQlCIKndKChR6b4IyQMCvsrQqDm/t2zFvwBTpOZ8HF3QA5+TtRUBKIdevnIT3TRwEWSgidDQux3WgN9lfv7iLRikqC4OSyBe5e27EryAznLxcKWJpaU+HmqY+AYAtU7AvFzgBzhEbYIjHZDcam61FSEYKoWEdY2WxA2d5QuLjpw8JKF+V7Q+HnbyKavr7ChcfVzgAAIABJREFUwu94PDw9YLB9O1paWnHt2ney0J0i29O5UQfLwSPxsLbbiGMNicgvDoCphRYuXimEl68xGptTBAgHDscJyVJdFwlH561C/2EzFBhijuy8nTJYeC441Bqe3jswc+anqK6LRnVdjOw6K5OweHgZCEVaS2eR0JMoWWoPxojmq/N0loh/6mwe5sz7p5BilCq8NynNA5k51/NLSfdCSrq3OF9YEoDoOEeFfCRw5CULPx0x2mGMRx/9g7D9vPfee9i6VV9828Tvmxjc3D3AVSh7GjyUB2fUwRKX6AptnQWwc9wIW4cNWLToKyHq3b0MwV87C51AaevOx77qcNjYb5bBEhJuhRw5WM6cz8OmLUuFnnK8MRnrtefD02eHQiVKsBCsqprdAtR5C75EdV0UbB02y5oTpjV33pdIz/IVTROfg4DkFgSK9NIyvZGdex0cSrmoWAeFfBRheRUffvQxlixdhueee17MV+bgJucC8wsHdq2l8Mgjj4h5y1z1gPNZpAWS5SGR9kcVLBevFsNoxxrUHozG5WvFAgIqoAbbVyIw2AJUUs9fKkLYblssWPAFmk+kwcZ2o5A4LW3p2LBxETKyfmmGzl3Mx5q180QPqfN0DtasmwtDw1UgGFLlERZPLwNxTJ3Fb5cpXn31eTQ0JcPCSgeE4NzFQiEp7B31QH0qr+i6Ep2a8Qss1FskWKgHRfcKy2tiFJnfLnG2nrOzC/7yl7+CXxjwq0xO0LoeypCRnglraxs8NnEinpg0Cf67AnqUMqMKlrbOLHj57lDoVp+9kA9XDwMcqU+Aiek6LF/xDTy9jBAYbC66uzn5u4SusnHzYqFf1B2KlYFAKCgJVq6eidWrZ4smis3D0fo9sjhUUgmABE/HqWxY2egKidJxKguGO9ZgybLpsHfaAsJHJfbA4et5VNdGCinHeymJ2HRxn5KvtCJYlqaUNrfnLhfgrXdfxfwFC2RdZyq3VGyLiorFCLMkKaQtr3NdGX6l8ORTTwnPIdI1+e0tBQsLZNmyZXhowgMoKg1Cx6kcdJ7OVQi9nWs/mY3W9kxxnxSP27bObBA06Zx8mtevZ4nrPM/jjlPKeSof//Jc7SdzRJ7cXk9X2vIe7kvH0pZ5KKYnPQ/zph728MMPQWu9tgwWqcIJBYN0LL/l+dycHDFbbtmy5d1Kl1sKFr5wYGCQ+ARj8jOP469T38bUD94ZNeEvf30LTz/zOB588EFER8d0C4U8IMr77FrPnDlL3E+/icrXbylY+HI0+Xt5e+O1114Tv5LHH38c6gxcakNSJtWZL/Pix3ivvfY6AgICBjRZnBOgrK2txacg1G1ueVj4gnxpfiN89Gg9jhw5psZwFC4urqKbym+x1Zv3MRw9egztHZ19mvWmDAKPKZlviY/MpI+IejP3KxfAFRaAOsOVq+Lbas6Uo/1CrXn//J7KZdCfY8Iyalz1smBoXCotLRNrsM6Y8TVmzJihtjB9xgy8+8c/ivksb7z5ptrylX9HfvPDBQIGMp9lVMHCl83KzsZzzz+Phx64D39+9zVM/dOboya8/8fX8YdHHsIzzz6L1LS0LjrHjaTMqIKFvyYdHV3cc/ddSAixQ1t1PDprE0ZNaK+JR94eT0x46AGxYBEr/0aAyF8fVbDQzrJ48WJMevwRXPvZh+FAHDRcakjHsXJFL/D01tFemyA8yfclTXoOOTUAx5l0bEXvr33Jo7s4dPTwlz+9iW+++bZHm4o8IPL7owyW8wKWJyc9iu9+dt3SXYHe6FxJqi8+++gvwvGUFJfOqDatm4e4YJs+VSSdafo6G/QprpQHt2XpfsLzmfy5/uyr04WM1OkYSds+r6JA/zaULIOFJTvOA8sWz8QOvWWyyq4rCMbsrz9FdIC1cBjVVpeAvHhXtFbHiWNKnuZ9cShP98PF4xk4dSgZdma64n7habV2D641Z+FKcxaqcgJRnRckXPcSBLrwPVAYgtq8INBTa3q0kyzf/oDCuBpY5NDtreusKlgyYz1ga74Rm9cvwsmDe4S73VBvExhtWYGEUDtU5QbBYvta7PYxhYn+SuHVrDLTH4ablyLQYwd0Vs8TLmwIy9XmLNCtXbCXCc4cToanvR78HPXFdqezAega2N1WTzjjDPI0htbK2dgTZquBRa7O+7OrdsmSGesOF1s9xIfYIDHEFqcPJ2OH3nJE7rIUsBwp2w16aD1eEQkHMy2EeRkhM9YNdibawvXd3uwA1BWGwWzbOrhZbxJONS8cS8PhknCYbVuJgkR30H/iqsUzUJ0XjBWLvhaeWem5bLevGRJD+9bUdSd1NJJFDi31SBZ3uNrqgb6WKQnYs9rlZoT0aGcBS9EeHxhsWobEUHu42W5CiIchvmvJEfoG/R7OnP4P7M8LxlfT/oaoAFtYGq3D6SMpoPTZoj0f9O+8m8HPFOWZ/jDeskLmCzEvwV3TDMnVd393h0WyEBY2EfTVvHTel2ipjkPGz7C42GwUusnlxkx42G6Gv8s2BHsZCz3kclMGYoNt4GK9BdbGWsL/YUKwLYI9jUUPy9NOT3iSp7Ris9NSFYcVC6cLr6v0H+1ptwUJIRrJ0l9IpPhqh6W2IATJEU5CV8mMcRVShV1hNj2laTuRFecGc4PVcLPdAn9XQ4T6mOJISTgcLTbA0UwbztabsC87EAnB9kL3uFifjiAPY+GFNT7IBg6m2nA01xF5fNeajfQoFzia68LTVg9+zgbYmxWg0Vmk2u/nVu2w0DMqA3UC9nLkPaJKx6xk6gfS8U/0ztqag6vNmQIyHkv3ydL5OT3eJ28HYjyeY5qy9H7Ovzu9pLdzGp1Fji516Cy9VcZIv6aBRQNLn5slDSxDBAtF/g/dOP5mcyLfhMhLExrYlK/xnHwc7nfXnAzEqbeUbnfpSdfktxpYhgiWvVn+SAi6bpGVCvxSQ4YwmrXVxHcLAAfqOEbUsj8WVxoyhH2kPGOnAkCs2JIUbzRURsnS+L41B3tC7XChPk12TsqzL1t24w8Whd7wXg0sQwRLmLcpPv/HVJw9miqrhMqsXXj37VdRnRMoU3KlyqQEsTbWRnVuMILcjHC8MlaY76vzQ7rA4mKhi9x4d1m6V5syobNmNtprE8U5SrTvW3Nl15kHgWKQlGue+6E1V9hwilO8kRhqpxBfei75rQaWIYKF3djVS79FcrijrAK3b1wKfd3FqMoJEEY0ScK018aDksjSaD3So12xdN4XMN++GjV5wchN9OoCi5OpDjKjXfB9S44IHElev3KmkErN+2PgZrURO/RWIC/BQwCyPzcIZgarYLxlOSrSd4rnqa+IFF1qY/2VcLfdjNigG9tfNLAMESwJIbYI8DCG7up5wgDXsDcGSxd8BS/HrdifE4CdLoZiHIi/3KrcQOxy2w7z7etQkuYHU/0VwqLbtC8Gng76oD4i6RXc2hmvx7YNCxHoZiDCTuet+ObLvwvDnJn+KrDpatgbDUujtShM9kGYjxka9kYJw57ZttW42pIFF6uNKE31Q0tVLKx3rBfjS/JSpLt9DSxDCEtapCNsjLSwLzsAHtZbkBPvIQxjhMXPZbsiLK4GAhYOJHrZbcGx8mjRhHna6+NaS5aQFkablojxHgcTbQR7GOFQYYgIHGleNv9LcPrDPz/+Cww2LobhhsVCQnnbbQGbv3AfE3g5bcPS+V+g80gyCBWtyIQiO9YFMYHWmmZIjoXudofMKEfJkhntjLqCEBhtXoG1K+YKhZVWVAkWQsTKKkn1gbfDVhksrOBjZb/AQgvv6cNJOHkwUVQwm6GcODdZ5dJYp7Vqlhgm2LhuPto4g+9AImoLQpGX6Al3uy04vjcajXujoae1AKeOpsLCYDUuHr8+ESot0gnRAVay9LqTKjynkSxyCKnSKCfBIipyxWwEexiL5oSwVGUHIDbQBjbG68QUBHPDdfCw2woLw/Woyg1GgKsR3Gw3o64wFJ72BuI+qQLZDDmbKym4zZnQXjVbND2m21Yj2HMHCpO9sWHtAqRGOsPWWEvoSLt9zTFnxido3B8Dd5vNiPS3QGmqL7bqLEGYj7kGFjkWutsdMslCpfXkgT2iAo6V7xZzV9gToS5x9mgKzh1LRVygNcJ8TEXTUl8RhSOlEeI8BwIzY13RWhWHhspoBQWX0HD6gvy0Suo0nI7AwULeyxHrAI8dqMkPEZOiCpO84eusj4I93tibuQttNXFC8sQF2SLU2xRVOUFCGklA9rTVSBY5hFQpWXoqcPnz0jiRfHdW/vpA96V05e/v6zn5e5T3NbAMIyzKlTHSjzWwaGC5oa4iQayBZRhg4fjQ/uwAmXmeTQT1Dcmewi4tFVmpkm60ZVzqQNyyF3ROzmp8o3v7c10DyzDAQgPZzOmfIG23ozC/f99yfZISJ11zln5MgBWuNGbKYLmRTnPxeBrsTbTFBO6iZG8cLI6Q3dsfGG4UVwOLmmG5PgakhbhgO7habQLHdU4eSoKNiTaK03zQvD8a23SXoCo/GD+05QoLa0KwJQ4WhIpplIx/oiYBnE+bn+ghPhqrKw7DN198hIZ90WirSRBTK5lPfVkkksJtcbzy+kdtl0VvKQUcC8pLcJNJthtBIl3XwKJmWNgd3qy1AOfr0+DjqI/mfTGoyw/BkvlfwsFcB9mxbvh2+ofwstfD/pxAWBuvR1qkA1xtNonvfmitXbXkG9Ht9nbQh5eDvph6+ed330B6lDOCPU2Qm+iJuCAbmG9bi6RQO1huX4vsWHcx6ZufnFBycbK4h+0WhYFFCYqethpY1AxLfKA1gnxMUF8ZBU/HrWK092pTFvzdjHCiOh6XG9Jhb6oldBAa15wsdJAR7YRQb2OYGawGPwVxsdwkpMzJg0nwctiKEzVxWDznCyFlQjyMkRBqDyujdWJgkXoMry+bPx3FqT6I2mUppma2VsViq84ikU5PcCif18CiRliom1garobu6lkw2rIMG9fOFeM3lDIB7jtAQ96Vxgxw7IdzU7zst8DKaA1CvHYgyNMIyRH22JcVgAC3HUInoXFvp8s2tNXGYcncL3CpMQOEJSrAWgwUUpdhhbP5WTD7CxSn+gpjH8911iVoYJGr+77sDpkFV/lXyWNOajLZulJIAOoUrFyTravE3BQ/5+1izOjS8XRYG63FkbIIJIXbI8LXFOePpglzPeecXIfFSAEWQrZgzudoqY5FsMcOpEW5wMZYS5j82UviOJLBxuWiGaJlWANLX9DoGketsFAHyYhyFpXFCmMTcaAwVHxolp/oCW97PTEUkBRmD18nfXC+Cz8HMd6yTEiKo6URYjCQ5nvezxUZOGflUn26kEyZMc7ITfBAXVE46ssj4WqzGSZ6K8DviQgUz3Fgk/fyK8aonRb96qJrmiE5gIba3E87CiUKK0sKBIajyjwvZrK15Sns89yF+lRca8oSyijjS2lI++xa85xI5+e5L0yfn38QClYyjxmfQcqb8f8tdyyd72mrgaXPsFzAkiVLMfHRCTh//Po8kJ4K9VY9T93n3TdfFkuUahbz6cWFDNeT27ZtG+64/XahZ9QUhOBgSdioCZwu4WGvh7H33A09va2axXx6a4a4ihE9XNCp5R133IHx48bgvnvHdgn3dnOuu3gDPXfv+LEYyjx6Spv53n77bXjnnXdQXFzSryXCWHajauUn6YVramphYW6JDRs2QEdHRyGsW7cOX375JbS1tRXOK8cb6PH69evx6quvgatGDjSN3u5bt249Zs2a3W36fN8dO4zFD6YvHuDllwiTym5ULW0qFQALiwsScsVt+XDw4CHhMaO1tU3hvHycwewT1MceewxVVTVDkv7hw0ewYuVKHD/e0CV9vu9AIJHKbNRJFunFe9rGxyfgvvvug4+Pb7/FdE9pSudZUXT+zUWTLSws+60zSOn0tvX29hG+CXJz81T+/BpYrl6TFSorkx4vfv3rX+OtN98SS7b3VjH9vdbc3CJ8+nDt/g8//BA87m8avcXvPHlK+CTg8y9eskTlMGpgkYOFni4oVViZv/vd7xAWFq7SAk9OTsGkSU+K9B988CHhub23yu/vtd2RUQJ0Pv+4cePR2NSsUhg1sPwMCwuCblUWLVqEhx9+BG+88QacnV1Bj639rbSe4ldW7oWtra1ohvT09FBRUamytPmcZqZmeOutt/HYYxOxatVqxMTEqix9vpMGFjlY2CzU1x8XTcSTTz6JouLibp0w9QTDjc6zmWMFUmr5+PgMStlUzovKK30STJo0CdOnTxdNHD2pKscbzLEGFrlmiAXJCvX29hYVOn/+fLS1tau0wGNj436GRbUKdGvrCXw1fbpwfhkYEKjS5lMCTAOLEiwsmM7Ok1i1ahUeeughzJk7V+gW9NXDChlsoCc19oacnJzQemLw6fG5kpKS8c233+L+++6Hrq4uTp06rVLANbB0A4lUKNxSohgbmwgvZ4/+4Q+gz+O///3vooliT2ag4fXXXxdK6IsvvTTgNKS8+Tx//ON7ePTRR4VnVEtLK5X34OTLRCNZeoGGesC+ffuhraMjrK4TJz4ulEcqkAMNMrd3990/4DSkvPk8tAbr6m4Q3lH74qhbvvL7u6+BpRdYpMJkJdAHckdH56BCe3snfH39RDNkZ+cwqLSkZzl16oxKFWXpnbvbamDpAyzdFdxAzrGwQ0JCBSz0NTiQNIbzHg0sGlj6DC17io6Ojrjzrru6NSjecq56h/uXeTNLFhr+OEg5fvy9IBjKZamBRYWS52ZvhqpravDyK69g2rRpoFc4ZVg4on7XXXchOTlZbu7iyNqVTdj+3//+h7y8PPzmN78R3V6KTeUXGs7jmxUWlmNjYxPmz1+ABx58ECkpqd2Wa0lJCcaMGYOMjIyRRYjc08hg4bnq6mr8/ve/x3otLTGfYzjhUM5bHhZrGxu0NLcIszyHGUZqqKs7gIDAQHz08ce49957xY+wp/Gy8PAIPPDAAygqKpKrnpG1qwDLyZMnxcjxp59+KqytyhU2nMcSLJxCMPHxx8V0gtdee23EbmnDefrpyRg7diwmTJgAR0dndHSc7FaqUPpMnz4Dzz//PA4fPjyyCJF7GgVYfvrpJ6xZswaPP/4E0tMzun2x4QJGHpbJkyfjvff+NLLDH/+Ejz76CEZGO1Bbd6DX8aZDhw7htttuE47NL168KFc9I2tXARbqLQcOHMATTzwhphucO3d+xAAjwcKxITs7e2Gab2/vGNFbGiNvZBlmHE6J4Gh6YEAA/vvf/44sQuSeRgEWnv/Pf/4jPvkYO3YcnJ1dxFzb4ZIm8vnKw3IzGuXk30V+PyIiAhzG4JjVd999J1c1I2+3Cyx8xMbGRnz++ediyN7a2lpo86ws+ZdU9/6tBAvfhYOtIaGhmDhxIjhA2tLSMvLoUHqibmGhKGRz9O233+KhhyZg2rTPERQcDA7pU5unaFV34MBkUFCwMPe7urqpPf/Bvi+fn816U1MzYmNjMXv2HNGZmDp1KkpLS0EVYKT/dQsLH5oPf/nyZVCyUJunAjbpySfFpOlvZ87EzGEIf/7zn8UUhbfffntY8h/MO/OH98kn/8CUKc9d/0hv/Hgxf6ajo+OmAIVM9AiLRPmPP/6ImpoamJubi6aJc1P+f3vnHtTVde3xTv/oX7lz005zmzudJE0yTRqTNjNJO/GmzeNmbto0acy75p1qoohe8W0QUFQUVN6gyPsNKk8RQV6ioogg4AsVFN9vTVNrcpPO9I9157Oa/ZufyO8F+MOfnD2zOfz22a+z13evtfZa++wzXEtWtj2ydObdoeHqw0DbRdSMHj1aXnrpJQkODlZuwtj6UnAJFh4GLsOymq/GI1t7enqGJcbHx6sYWrRo0bC0P5jnPnLkiJw4cUK++OIL+cc//uEz3MQezG6Bxb7AcP0PYNetW6dgYZ+vFbw/AhZYvD/mPtuiBRafJZ33O26Bxftj7rMtWmDxWdJ5v+MWWLw/5j7bogWWm0w6rOEmDsZK21/Z/tIG8ziu6rPA8t3o/vOf/1QbSHd3txohMUTiI8OKPVBP8Pnz5yUnJ0dyc3M1rl27VuvGWetJuHbtmmzdulWLfPnll/L1119rn/bt26f/e1KXo7wAZdeuXU7rG/FgASTt7e0SGBgozz33nDz++OPq2MPiSmTPbFxcnBrUPAUNu978/f2lrKxMY1pamowZM0bbc0S0/tIBXdjixQqQwsJCaWtr090BeXl5cunSpf6KeJwGgHl998yZMw7LjliwYJHev3+/cA4ePic/Pz8pLi4WZuupU6fk+PHjOtOSkpLkjTfeUCABGnYTumLXZrSbmpoEq7MJEIQtCRwZQvu0w75n8p09e1brJU9vb6+mb9u2TS5evCjffPON9hWusmDBAsnOzhYARB+xBgNiiExdcCDqpY/kx/cEl2xoaBA2WZGXNrAoc+AkZU6fPq1pbHzjf0dhRIKFAWO2//GPf5S5c+fqTIcg/YGAvOxe27Rpk3zwwQfC6RDsVXYnAAIABnGItLFy5UpZEhYmu3fvlpCQEKmoqFAvNAccHj58WIk4Z84cqampkbzcXJ3tuBkAMyCYOHGiLF68WDo7O/WAAMAA4UnbsGGD1mfcIfR59uzZ+qy8NfDJJ58IYpayCxcu1GcqKy2V8XrS1TXdJWmBxY6yAIIZyxGluA++/fbbfkFiV0T/BTRXr16V0NBQYY+yO9sfmbVsQQgICBBO2vzwww/l7bffVlBwoieczcx0gDVr1izd3Y/o+uqrrwRHY11dnXR1dcl7772ngFu9erX2n3s4d+EouD8KCgpsdW1uaJAJEyYoCA1YaYeX3OCUHR0dymUQwbSDcxP97LbkLAzYQAJAYZ8Ough1QHwiA8bAuRNg7ch2thzgFHQWACVAATTElpYWuXz5sooHwILybAL1vvvuuyo2EDUAJzIyUurr69VpClggOP0GWPQXsMAJ2EZC3SYg0n7+85/rZICDmoD4ioqKUoCh71B/WFiYjBo1Stu4LcACkUE+J3yzV5WB5nd/YsMMTH9XgAE7//TTTyUjI0Nn+8cffyyfffaZLF26VGc64sJZoE10haeffloSEhKUgI7yQ1R7ncXkY3UDYdBHTMAjjThAv4DYePcBGH0tKSlRztIfWOAs0dHRKrZMXXAiOBrl1q9fb5J1ZcZRa5xvAzdCJKH7wCkRdT4PFhS4rKwsPUvFb9IkiYiIULn95K9/LampqcqqbaPh4h9m3y9/+Ut56qmn5Mknn5RVq1apQojeAFEeeOABnY3uAAYgsG8WwjoKjsAC0XNzcmT58uXaf3SZyf7+qm+gACMuUIARkXAYRMz733EWnhn9gzJGDMF90FkQTezjRR/ZWFmpOkx/YIFz0TeeE2A99thjClKfBgsPzsBxsCHi48qVKxIcEqL7avYfOKBHkCKTGThXAY7AjLrzzjv1dG5mJINFOhHCVFZW6ixjRpPmLJCf08QBmqPAbGXF0V/g2ZgEcAVEQ35+vhIb0UQ/SefKUhkllmU3fUIJZkwgNqBhjxF9KSoqspVBFwNsKOIosyawfZM3HlnxhYeHq7Kdn5cn5eXlNnsQ4tBRuKVXQ2qnmDRJLl+5ov3HpnDffffadIWz587pkWTYHVwFZDxy32j+/eVngDMzM3WV5AqAEI7ZDHdwFOAgzrgU9wAHYom8JtAPRCbpBtCkEWgXDsLzEA2oTV3URzqBNKIJ/G/KAFaUdOoi3dRp6jNl7K+3LFjoNDMLCygDye8LFy7KvffeI5cvX9HfPCQH/DDTIK6zeOXyZT2qDJbtLDCLeTOwtbXVWTa9h2WWpexICbc0WFimYjtA1AAcNHcOZl6ydKn+ZmWwrqhIRj36qPzqV79yGh/9Lg8y2lkAcCh8cBhXgZUG3GqkhFsaLBiX0COQzUTes+F0beQ4vzFcYXX9wx/+IFOmTFFtHiWtv4jdgRWMq3eJYffoSADTVUDPeOedd1xlu23u39Jg4XBk3hEycvTipUsqhnh3iYAYWhG5QrkAospZxPnGqxw4y5wF2mKVBHdBjjsKtDVv3jwFpqM86AfYcPpG+n2zAmCnXXMdynZuWbDwkFg44QjGp8F7wQ88+IC+rAWxsEnwcQnsBa4CBOJbQ3AiVwFD1zPPPKN2CqMs2pchjRXTgw8+KImJifa3rvuf/mMTQgk2kZUP/qWbEQA6qx1WPdXV1dethIaivVsaLMwO3t7jNAKuZ86elaysbH0Znm8F4NvB8EQ+V4GBzMrMVLsFQHMWuM9S9IUXXtBlJVyJ8kRWG4gfLKR33XWXNDpYGlM/FlxWTCzTTcQuA8eiDSI6Ul8OBhhJt38u2uY36X37T35WN0yI9PR0NcQxgVDWKUf+/sqa9s2rKeR1Fm5psNBxBoClMSKE968//uQT+dOrr6qugEjxhKVjq8Gyif3DVYCABfn56hrAn4MBDNsEHmiMelzZboCdw1HAFoJyDlHsI0tWlGO4HB5oHIdwIYiFJRcrK8Y42sRJaMYAhR/HIP4dzAjkh0thtiedRQCWaOwm2Hewp3DFMMeKEc4KJ2RJDkCYaGzNANDkob/OAHPLgwVC8ADYHfDUoksAHn47e7D+CMisRGmGyO7sA2HGsl0AqyoEIbKBCaPXww89pNzOWR/YLsBqCd3LROWQZ86oBxhCAhyOCENJx+gI8bA0YxwjHSAhblHa4RaAs3LDBiUwfiack5gDGA+Ud4ANWPBuI4q4jhs3TkFI/QCDhQHPgE8JlwMm/7lz5mheZ8/jE2AxgGEQOW6rsbGxPyy4TGMgGBjEGlsCECnuBLgCwCHiF8Jyi0kdy6mzgBhilYbn2ET0CUQRfi7EGwEFmAOKAAe+JEMwOAo+IkRLVVWVrSm4Aso1YOBYeSPGKAeg7cECJ8EPZupkXwtmAVZxTAQT2M4AoE0+k25/9RmwMCDMMt51htD28tz+gVz9z2DghMSvA1uHjQMGV4H2sdGwp4UtBBDMVYCt9+dIBLD4uAzYAA0hPpwoAAAUsUlEQVTKMhwCYJhAX+EGENx+FQeI4BD4jPBUG1FMfmxP9mBhZcdvAwK4HW0AePu9KyjGtw1Yjh49KpyewJfGeDmd3wMNDBw+EzYDIZJQWCEgg24Glbr5H5Cg46BHoPBCJBRHdwJgQY8A2PYRztIfWBAz6CroFLQNUJgg68vL1e5DHaRDZFZZ6GDYjui76SsW5b5gQR/hPgGwsFUBrzNcCO6KKET8IbJMvv6ezyc4Cw/A/ouf/vSnylk4KQmZO5hAnch/6kUsccIBBMC9wCzD6MesZOay/4UdcviqDDdwp23AgkKNR9tETAEQjCW0qYuVDBOA3/QHwKAboZByhaCILRReDJLoL4g1xCI6EPtruLIDjwmATgOXQDfhym8Dgh07dujkQPTB9VCw8UKjvxhnpaNn8xmwIOuZCZwph7xGHxiKwCCi5OE9ZkWBLEfZfOWVV1R5xJILSJjtngaIzK40+whHY9MU3MmIP67YkugLAGBlBFjxGhsRg3KOToOewgrJviyrHvIjJlF6UXZ5JjgGiry9J5nngGOxRZNIX8gPN8LXZUDV37P6BFjoOIMINwEsyGV+D2Vg8NFDGDgGnEFkYA3rH8q23KkLovUlnElzlO5OveShPCtLuArGRXQlxB2gcxZ8Biw8oAGLdeSGM5K6d4/JwVIbjkpklWe4laMaPAYLCh8Vg0LYpDej+foqJyd5s13awtbBUtPoGY4G1NfSDbdyp98egYUlHgRjVfLQQw+pbQD7gLfi3Xff/d13ne/yWpvm2TDv8wliLKSIqpEY3AYLCGTJdccdd8h/3n23jHn5FXnrtddHTHz9T6/KA/fdp1/ucGevy+0IJrfBgvjBGvnDf79TWmtr5f9OnpBvRlDkeXtadsr99/1MzedMnpEW3AYLKwVsBfffe698deK4fHvq5KDj1ydOyNm9e2V3Xa10bWuSvx094rROCDaQdgH1QMr1LfPV8WPy3NO/VSeiK2XwdgSSx2CBFUPkvgPp6W8Iv7m0VEJmzZbE8AiJmL9AFgUGyrl9+/qtmzZr164TCOZJW6c6OmTP5gblgp6U6y8vbf/3736npnILLE6mg+EsQwWWY62tsix0gRzb3aaEvHasV6oKC2TZ/PnyRfdhgcgQ7JtTJ+Vke7vGOVOnSmd9nVw5dFBBdWDrFtleuUFOdXZqHRcO7LdxvQsHDshfe7qlqiBfEiMi5HRnp0cgs8ByIxiGhbMgFuqKiyQtNkZ1H0MYADNvxkxprq6WiAXzlbhwoKjQUKkpWifvvfmWZMTGya7qagmbFyQ5K1dJUUaGLA0JkZMdHbI2LU3O7t2j5QqTV0tzVbXELF4kARMnys6NlRZYbqS/RynDBpa1qalSnp19HQEBUXjIfNlYWCgzJ0+xgSVw6lQ5tGO7cqIve7qls75eFsyerVwE8bQuLU0y4uMlOSZGTnW0a7mk5ctkc1mp7N3cIMUZGfL1EOhZlhhyE1tDLYbqSoolNTr6Os7y92O98vm0abKtsvI6sMzy95dDzTtkeWio/O1Ij3Ru3izpcXE2oLVuqpZ502dIcnS0DSyJEeHSUFYq+xobpTQry9JZ3KSzs2zDwlkQOyd275bwkBA5vWeP6iVwCDjKonnzdIn68dixCiT0l2ee/q2CJSJ0gShnaWiQ6f7+yi0QU4XJyZKduFLili6VIy0tqgQHTg+Q2uJ1CpbijMzrQGnEnqdXi7M4g5LdvaHmLIiF2qJ1EjRzlmQnJkrckiUSNGOmKq5Xe4/Ih2+/o4pp4vJlMnXCRDm6q0U5R+C0adJQWipzpgbIkqBgSYmKlpDZc+RS1wFZk5IqYfOCJStxpcyaMlV2VG2U422tEjhtumxaU2jjRJ6CxOS3wGIHCGf/DjVYIABc4VRnhzRt2CAdDfUqYgxhWPHs2Fgp3c3NqrQiohBBvbtapK2uVvKSkqRnZ7M0V22Ui10HFAiAbHddnbTW1MjpPZ3y5ZEeFT8ovRcP7LfA4ozAbtwbNjFkQDGQ69Fdu6S+pHjQxPe0bYuzuIEostwMzuIpsUx+Vk1wJfPbW1cLLDcJLBjT7KO3CHoz27HAMsRgYda319dJRmyMZMXHaSxIWmVb0joi5tWjR2RrebnHHANFefuGCpvl1tS/f0ujtnmyfbcquSZ9MFcLLDcBLDFhSyQ+fKk0VZRrxHrKagXCMuA4DBEj+v+RHk0/t2+vTPlsggAa7tsb0XBcotyS3xCb+yiwLK3nBgTYlNmrvUeFmBARLo1lZXKgqUn2bWlUfxZlqNu+HtMflu72bZp27K/ktXxDbgDGXZ0FzgJYajg29DvPNOIIcGCax0CWtGKFlGXnSGV+gSRHrpD1OTnKBfz+8hcpyczUJXJWQoL8tbtbLh88KJkJCZIcGSnr0lKFVREAKcnMkJSoKF0uT/n0U/UDtdZsUkNfVnyCzJg0STaXlqh9pmvbVqlZs1btOKlR0ZISGSkXu7p0mY77IC0mVuqKiqSyoMDWZ9N3+6sFFjeAQhZPwBK1cJGEfv65lGRlaqwtLtLl7Usvvii1RUVyZk+nvPLii7I+L0/O798niwMD1d/zwrPPS1lOjlw62CWpMXGSHhMrBatXy9q0dCVu7sqVUpicKmXZWZISHS1fHD4kVWsK5eX/eVGOt7VJFN9ObG4WnJR/fv11teNgxa1eUyh+fxkn6fHx2o/48AjJio+XxUHzZH1eruCAXLFwoUz46CP59pRjxdkCy80Ay6LFOvgAA8Nb88ZKuXzooLz35ptytbdX2f38OXPkWFurcpzkqGhpKCqSd954U8UJs/mv3Ydlhr+/zJoyWQqSVytXSYmOkjdffU0Sli0TuAj5qNd/3Dhpb2iQ3FWrVNzA3ZYEzdPltQFLgJ+fnGjfrWVaNlXL3KkBMnOyv1w79i/R1r2z2QKLCywMuZ2lPzEEUZmVH/35zzbn3+KgIN1agHhKjoqS+qJ1MtYeLD09Mt1/kuojTRsqZGd1lToG02JjJWH5MmmrqVHCXzl8SCaPHy/t9fWSl7RKwUcflgYHXQeW6ZMm2/bKYNT7PGCaTPPzU/2G/h3Yts0Cy3CAJTZsiaxJTZHe3W3S29Ymx9p3q57xydh3bWBZEhyie0wACyKlvrhIXnz+BRUr5/fvlzUpyZK0IlJSo2OkOCNdSMN7vGpFlKxLS5eM+Di51NUldcXF8sbLr6roiV2yRHqad0rvrlYZ//6HWufm8jLZtHaNzPT/XxtY2JmHX2p56EJJj4uXg9u26cYrSww5R8tN4SxsSAIAOYmJkp2QKPlJq1XklGZm6cwHIFvXr1cAwQXgEkd2NsvGggJVcFMio1WkwDXQJ1BYUXALVierIxFXgCrCK6KkJCNLNuTnK4fYtala0mJi1NdUnpOjbeJT6m7eITXr1qoSDBfBxbC9okI6GhqkKD1d8pOSpDI/X8Ue9x1FS2dxDibbXXcVXAYaMLDctY+AgnRDCPv/uWfu65K4p/u6rZsmDWKZ8qSh19CGqYs6WHrjIyLN1GvqNmX5TTkcjykx0brEXhISLLV2KziT1/5qgcUGB+f/ABbOuP/ZPffI33jZyskM9JV72G6qCgsFxRnDngGdo/7/vfeo/G70f1kbtp1DRfSdX96N/bc77pD02Dg52LRdena2+H5s3imHm5ul28WzHNq+XUXfT+76Dz21wHoVxAliGBxOMuDNvB/d+UN59Be/kMcffWzExMd+8Yj85Mc/lvvvv19fJncyVLftLbcVXEaA1x94+55DhfmeIMd/Pvvss3rlfxPt08z/5uqojCnr6vrwww/rZ+pc5Rvq+zwv58Nx1Ic5BuO2RYWDB/MILNQBh+HlcM4e4Z1fb0aOB+V4L47M8ma7pi3OSBmJ4sdgx2OwmILevkIkTnf8wQ9+oKcUjWSieXvsTXs+Axa4GV9K5Uw5DkvmwB0reHcEfAYsfJSJs90AC8ebcqaaFbw7Aj4BFkQOn5SFo3C06a+ffFK/2uXdobJa8xmwcJAe3x76/ve/r8d8mg9dWyT03gj4BFgYDrgLB+UBFo7htBRc74HEtGSBxYyEdXU5AhZYXA6RlcGMgAUWMxLW1eUIWGBxOURWBjMCFljMSFhXlyNggcXlEFkZzAhYYDEjYV1djoAFFpdDZGUwI2CBxYyEdXU5AhZYXA6RlcGMgAUWMxLW1eUI+AxYeBK+Cfj+++9LZWWl5RtySdqhz+BTYMF5yBfMRuJR6ENPes9r9CmweP54VomhHAELLEM5mrd5XRZYbnMCD+XjeRUsfMmU1zn41Cyfi3Xn/ZvBbnIabPmhHGxfr8trYOGD26GhofqtnrFjx+r3k4uLi/W1WEeDCKF5qY33dgYSKN/Q0CB829EKgx8Br4CFj1Dzge2EhAQ5f/68vqDGZ2L5mDcfr2Z1Y//9ZIjMV9R5/YOvpPOBbD67RyQv9fHdZfNtZzgUL+6bYOrjq+i8PcnXYqmTfObD2LfbV1TNs9/Mq1fAwhfX4Sr2BIV4bW1t8sEHH+jXzWtqahQgPCxEBkitra3y2muvyaKFCzVvWVmZVFVVyapVqyQuLk6vcI2enh5Zs2aNbUkNOHhVJCc7W0aPHq1vAgA+Xj1NTEyUlStXagRwVnB/BLwCFj7ezc78vgEOYV5HjYmJ0VlPHvSZUaNGKQfi07hwIQDk5+cnCxcutHGdiIgIKSoqEsDIF8+NDoToSklJUfEDZzl58qQCdcGCBXLixAnlYklJSdLU1NS3S9ZvJyPgFbAUFhaquOnbD3SRMWPGyI4dO6Q/sMANli9frmIEscHXX1GQTTh69KiKKV5r7Q8siCk+Anrx4kUVWQAPrgK4urq6BqwLmfZH2tUrYKmurpbU1NQbTPSIi1deflnFSHR0tI2z8I7QI488ohzEHiwBAQHXEfjs2bOyePFiFTn2YEF8JScnK0AMWBB7vGu0oaJCxde0adNUtI00gg/meb0CFojEcRXHjh1TUYECyokEaWlpylEQO4gU3l+GqB0dHXoOjOEscBDyT5w4UfUOyhM5TYEv2HMdP368KsCUR7eJjY21gcUo1XzEHA5F2fXr10t6evpgxm7ElfUKWNAlGhsbVYywIsrKylJwhIWF6eoIxRcdIzMjQ/OtXr1az2CBsHm5uYJ+gdiAs1CGFRQxKChInYsoqhMmTJCSkhKpra0VdJPsrCwFZnh4uOTn56v+A7AKCgr0MB7AZOksnuHdK2ChS8xm9I2tW7cqQeEGKLhwAiIE52SplpYWFRf79u3TMug1e/fu1bKIGupgFdXc3KzKKvVSHu6F7gNXOnfunCDKSOeKtxr9hf9pF50Fpdl+debZsI3M3F4Dy2CHF8IGBwdbBrbBDuQgyvsMWBBlLIkx3llheEbAZ8DC8CBWrDB8IzAosKAvOJrpRpfo+2j26fyPLjEQEFDGGOH6tmF+Uz/RUXCnDlwMA+mfozZ9OX3AYGEAURz37Nlzw2ByDwWVJat9IL29vV2VVECGsltRUaH2lQsXLtxQj33Zvv9fu3ZNV1XOAIOyi1/JUaBN3AJ9wcBvY/VFIe7u7nZUxYhKHzBYsIHg5GPA+wYGG5sGqxb7QDpLW3w5rFhYBkNMgIXNxRGXsq/D/E/5p556ymEZ0xYrJEcBMGGc68t94HYhISEKdgx/LL896Zuj9nw9fcBggaNgomdgWbZicsf2AecgDYNXeXm5puP8Yw8LBMRqC8C4x4GCEBM7yKxZs2T//v0qWqgPxyKWX+wrlKNOZjh1se0AK+0TTzxxHRHhNgAR4x910ebp06e1LFxw06ZNatTDP8QZdSjM2GfoM/XC6fBKs1RnGwXAxtaDdZml9kgPAwILMzEnJ0cHk8HFwIXRDRsJWxEgGGk4/SAIhAcYDDxmf4xhOBcnTZokWxobJSszUw1uxkYCxwJ81IdlF6IDGkz/gAQbC2b+vmChXYiPhxtg4J0uLS1Vuwp9QaQACLgJBj1+c5hz1caNap+JjYmRzMxMbeOtt97StwhYsmPsw6sNaEdyGBBYYMkQlBmJk2769OlKTNJ7e3uVc2CpBSQERNZHH32k3mS2CEBsOAzE515nZ6fEx8crl4CbMJPRRSAOeWfMmKEggxsRSAecnF5pLx6Y/c8//7yKOMrTVm5urlqOcRkQADqAmDp1qoIFR6YxzsFR2BqBawFrMSKIwPFkUVFRN4grvTmC/gwILAwusxfWDrHYfsDgYmbHNI+lNCMjQ4nBWJKfL4qQ3hcsEAaRZsACx2JbARzI+I6oG5GH5dUERElfzgJY4CwAAkDRFsBga4PZbUf6li1blLvApSZPnmwDAaIJXYU+wX0MWOBGkZGRLldfpm+363VAYAEguPshMmIIEYHpHnGBMsg2AMACMQiegAXuwQGDAAsHIwAAjIgUdCITEFH9gcUQ34AlLy9P9SG4FwHdBy4BZ6F/bHswCq4jsCDSAIvJZ/ow0q4DAgssHqcfMw5fTeDnn6uSi04CUNgewH17sDDj+3IWQMEsZjWEWMPrDODQb1CC2fAE+PAQowgHBwVpGn4kiP2b3/zmBjE05TtOAVgQhWvXrlVl9/e//72CDhCPGzdOZs6cqf2jHgMCwDJ//nzVrcwWBp4VnQUHJHWO5DAgsDBo6CvMdoxWsHX0DIDCKohVCctmViIEZjOKJsTHWYgNgw3clINL8dEIiAFX4TcgROxAbFZKpMGdeG2V7ZSIOhRg2oeYJgBGuBD9I6LvwP1oiyU6m7DgEoAvJCRYAY6dx4CA8ugn1MkWTLzf9A0RCfcc6WFAYGHQIDwufwxvzEw4BGkQlkCaIQK/IQC/TTr/2xOa/wGVKYviS30mzaSz55a2qMf+Hvf71kke6i0vK9PtlxAehdzf319BY+5ro33Kc49nwZ6DIg7XHOlhwGBh4JitKJ32oLgVBxSxxVI7MDBQ5s6dq/qUAbWz/vJc2HQsC+6/RmlQYGEw+85uZ4M/nPcAB0o4qyK4hruBcrf6ZHD3WQabb1BgGWzjVnnfGgELLL5Fr2HtrQWWYR1+32r8e8hjK1pj4A4GvoeyZ0VrDNzBgAUWa7K4zSwsncW31IZh7a0FlmEdft9q3AKLb9FrWHtrgWVYh9+3Gv9/QRs3tHADECoAAAAASUVORK5CYII=)"
   ]
  },
  {
   "cell_type": "code",
   "execution_count": 33,
   "id": "differential-trader",
   "metadata": {},
   "outputs": [],
   "source": [
    "# 디코더 하나의 레이어를 함수로 구현.\n",
    "# 이 하나의 레이어 안에는 세 개의 서브 레이어가 존재합니다.\n",
    "def decoder_layer(units, d_model, num_heads, dropout, name=\"decoder_layer\"):\n",
    "    inputs = tf.keras.Input(shape=(None, d_model), name=\"inputs\")\n",
    "    enc_outputs = tf.keras.Input(shape=(None, d_model), name=\"encoder_outputs\")\n",
    "    look_ahead_mask = tf.keras.Input(\n",
    "        shape=(1, None, None), name=\"look_ahead_mask\")\n",
    "    padding_mask = tf.keras.Input(shape=(1, 1, None), name='padding_mask')\n",
    "\n",
    "    # 첫 번째 서브 레이어 : 멀티 헤드 어텐션 수행 (셀프 어텐션)\n",
    "    attention1 = MultiHeadAttention(\n",
    "        d_model, num_heads, name=\"attention_1\")(inputs={\n",
    "            'query': inputs,\n",
    "            'key': inputs,\n",
    "            'value': inputs,\n",
    "            'mask': look_ahead_mask\n",
    "        })\n",
    "\n",
    "    # 멀티 헤드 어텐션의 결과는 LayerNormalization이라는 훈련을 돕는 테크닉을 수행\n",
    "    attention1 = tf.keras.layers.LayerNormalization(\n",
    "        epsilon=1e-6)(attention1 + inputs)\n",
    "\n",
    "    # 두 번째 서브 레이어 : 마스크드 멀티 헤드 어텐션 수행 (인코더-디코더 어텐션)\n",
    "    attention2 = MultiHeadAttention(\n",
    "        d_model, num_heads, name=\"attention_2\")(inputs={\n",
    "            'query': attention1,\n",
    "            'key': enc_outputs,\n",
    "            'value': enc_outputs,\n",
    "            'mask': padding_mask\n",
    "        })\n",
    "\n",
    "    # 마스크드 멀티 헤드 어텐션의 결과는\n",
    "    # Dropout과 LayerNormalization이라는 훈련을 돕는 테크닉을 수행\n",
    "    attention2 = tf.keras.layers.Dropout(rate=dropout)(attention2)\n",
    "    attention2 = tf.keras.layers.LayerNormalization(\n",
    "        epsilon=1e-6)(attention2 + attention1)\n",
    "\n",
    "    # 세 번째 서브 레이어 : 2개의 완전연결층\n",
    "    outputs = tf.keras.layers.Dense(units=units, activation='relu')(attention2)\n",
    "    outputs = tf.keras.layers.Dense(units=d_model)(outputs)\n",
    "\n",
    "    # 완전연결층의 결과는 Dropout과 LayerNormalization 수행\n",
    "    outputs = tf.keras.layers.Dropout(rate=dropout)(outputs)\n",
    "    outputs = tf.keras.layers.LayerNormalization(\n",
    "        epsilon=1e-6)(outputs + attention2)\n",
    "\n",
    "    return tf.keras.Model(\n",
    "        inputs=[inputs, enc_outputs, look_ahead_mask, padding_mask],\n",
    "        outputs=outputs,\n",
    "        name=name)"
   ]
  },
  {
   "cell_type": "markdown",
   "id": "d3fdbf73",
   "metadata": {},
   "source": [
    "## 디코더 생성"
   ]
  },
  {
   "cell_type": "markdown",
   "id": "3267546f",
   "metadata": {},
   "source": [
    "- 임베딩 레이어와 포지셔널 인코딩 이후에 앞서 생성한 디코더 층 생성 함수를 이용해 디코더 층 여러개를 이어붙인다."
   ]
  },
  {
   "cell_type": "code",
   "execution_count": 34,
   "id": "hairy-drunk",
   "metadata": {},
   "outputs": [],
   "source": [
    "def decoder(vocab_size,\n",
    "            num_layers,\n",
    "            units,\n",
    "            d_model,\n",
    "            num_heads,\n",
    "            dropout,\n",
    "            name='decoder'):\n",
    "    inputs = tf.keras.Input(shape=(None,), name='inputs')\n",
    "    enc_outputs = tf.keras.Input(shape=(None, d_model), name='encoder_outputs')\n",
    "    look_ahead_mask = tf.keras.Input(\n",
    "        shape=(1, None, None), name='look_ahead_mask')\n",
    "\n",
    "      # 패딩 마스크\n",
    "    padding_mask = tf.keras.Input(shape=(1, 1, None), name='padding_mask')\n",
    "  \n",
    "    # 임베딩 레이어\n",
    "    embeddings = tf.keras.layers.Embedding(vocab_size, d_model)(inputs)\n",
    "    embeddings *= tf.math.sqrt(tf.cast(d_model, tf.float32))\n",
    "\n",
    "    # 포지셔널 인코딩\n",
    "    embeddings = PositionalEncoding(vocab_size, d_model)(embeddings)\n",
    "\n",
    "    # Dropout이라는 훈련을 돕는 테크닉을 수행\n",
    "    outputs = tf.keras.layers.Dropout(rate=dropout)(embeddings)\n",
    "\n",
    "    for i in range(num_layers):\n",
    "        outputs = decoder_layer(\n",
    "            units=units,\n",
    "            d_model=d_model,\n",
    "            num_heads=num_heads,\n",
    "            dropout=dropout,\n",
    "            name='decoder_layer_{}'.format(i),\n",
    "        )(inputs=[outputs, enc_outputs, look_ahead_mask, padding_mask])\n",
    "\n",
    "    return tf.keras.Model(\n",
    "        inputs=[inputs, enc_outputs, look_ahead_mask, padding_mask],\n",
    "        outputs=outputs,\n",
    "        name=name)\n"
   ]
  },
  {
   "cell_type": "markdown",
   "id": "443e8cca",
   "metadata": {},
   "source": [
    "## 모델 정의"
   ]
  },
  {
   "cell_type": "markdown",
   "id": "9f119a1f",
   "metadata": {
    "id": "OAddXnhUHBhP"
   },
   "source": [
    "> **셀프 어텐션(Self-Attention)**이란 문장에서 각 단어끼리 얼마나 관계가 있는지를 계산해서 반영하는 방법이다.\n",
    "\n",
    "> 셀프 어텐션을 이용하면 문장 안에서 단어들 간의 관계를 측정할 수 있는데 이 댸 각 단어를 기준으로 다른 단어들과의 관계 값을 계산한다. 이 값을 **어텐션 스코어(attention score)**라 한다.\n",
    "\n",
    "각 단어 간의 관계를 측정한 값을 **어텐션 스코어**라고 하고, 이 어텐션 스코어 값을 하나의 테이블로 만든 것을 **어텐션 맵**이라 부른다. 이 어텐션 맵을 활용해 문장을 서로의 관계를 반영한 값으로 바꿔야 한다.\n",
    "\n",
    "- 각 단어를 임베딩된 벡터 형태로 입력한다.\n",
    "- 각 단어 간의 관계를 나타내는 어텐션 스코얼르 구한다.\n",
    "- 트랜스포머 모델에서는 단어 벡터끼리 내적 연산을 함으로써 어텐션 스코어를 구한다.\n",
    "- 특정 단어에 대해 다른 단어들과의 어텐션 스코어를 구한 후, 어텐션 - 스코어가 모여있는 어텐션 맵에 소프트 맥스 함수를 적용한다. 이제 어텐션 맵이 특정 단어에 대한 다른 단어와의 연관도 값을 확률로 나타난다.\n",
    "- 이 값을 해당 단어에 반영하기 하는데 스코어가 큰 경우 해당 단어와 관련이 높은 단어이므로 큰 값을 가져야 한다. 따라서 확률값과 기존의 단어 벡터를 가중합(각 확률값과 각 단어 벡털르 곱한 후 더하는 연산)한다.\n",
    "\n",
    "트랜스포머 모델의 경우 이전의 순환 신경망 기반 시퀀스 투 시퀀스 모델과 거의 유사하다. 다만 입력이 인코더에 들어가면 셀프 어텐션 기법을 활용해 해당 문장의 정보를 추출하고 이 값을 토대로 디코더에서 출력 문장을 만들어낸다."
   ]
  },
  {
   "cell_type": "code",
   "execution_count": 35,
   "id": "neural-market",
   "metadata": {},
   "outputs": [],
   "source": [
    "def transformer(vocab_size,\n",
    "                num_layers,\n",
    "                units,\n",
    "                d_model,\n",
    "                num_heads,\n",
    "                dropout,\n",
    "                name=\"transformer\"):\n",
    "    inputs = tf.keras.Input(shape=(None,), name=\"inputs\")\n",
    "    dec_inputs = tf.keras.Input(shape=(None,), name=\"dec_inputs\")\n",
    "\n",
    "    # 인코더에서 패딩을 위한 마스크\n",
    "    enc_padding_mask = tf.keras.layers.Lambda(\n",
    "        create_padding_mask, output_shape=(1, 1, None),\n",
    "        name='enc_padding_mask')(inputs)\n",
    "\n",
    "    # 디코더에서 미래의 토큰을 마스크 하기 위해서 사용합니다.\n",
    "    # 내부적으로 패딩 마스크도 포함되어져 있습니다.\n",
    "    look_ahead_mask = tf.keras.layers.Lambda(\n",
    "        create_look_ahead_mask,\n",
    "        output_shape=(1, None, None),\n",
    "        name='look_ahead_mask')(dec_inputs)\n",
    "\n",
    "    # 두 번째 어텐션 블록에서 인코더의 벡터들을 마스킹\n",
    "    # 디코더에서 패딩을 위한 마스크\n",
    "    dec_padding_mask = tf.keras.layers.Lambda(\n",
    "        create_padding_mask, output_shape=(1, 1, None),\n",
    "        name='dec_padding_mask')(inputs)\n",
    "\n",
    "    # 인코더\n",
    "    enc_outputs = encoder(\n",
    "        vocab_size=vocab_size,\n",
    "        num_layers=num_layers,\n",
    "        units=units,\n",
    "        d_model=d_model,\n",
    "        num_heads=num_heads,\n",
    "        dropout=dropout,\n",
    "    )(inputs=[inputs, enc_padding_mask])\n",
    "\n",
    "  # 디코더\n",
    "    dec_outputs = decoder(\n",
    "        vocab_size=vocab_size,\n",
    "        num_layers=num_layers,\n",
    "        units=units,\n",
    "        d_model=d_model,\n",
    "        num_heads=num_heads,\n",
    "        dropout=dropout,\n",
    "    )(inputs=[dec_inputs, enc_outputs, look_ahead_mask, dec_padding_mask])\n",
    "\n",
    "  # 완전연결층\n",
    "    outputs = tf.keras.layers.Dense(units=vocab_size, name=\"outputs\")(dec_outputs)\n",
    "\n",
    "    return tf.keras.Model(inputs=[inputs, dec_inputs], outputs=outputs, name=name)"
   ]
  },
  {
   "cell_type": "markdown",
   "id": "98cd6e7a",
   "metadata": {},
   "source": [
    "## 모델 생성"
   ]
  },
  {
   "cell_type": "code",
   "execution_count": 36,
   "id": "trying-church",
   "metadata": {},
   "outputs": [
    {
     "name": "stdout",
     "output_type": "stream",
     "text": [
      "Model: \"transformer\"\n",
      "__________________________________________________________________________________________________\n",
      "Layer (type)                    Output Shape         Param #     Connected to                     \n",
      "==================================================================================================\n",
      "inputs (InputLayer)             [(None, None)]       0                                            \n",
      "__________________________________________________________________________________________________\n",
      "dec_inputs (InputLayer)         [(None, None)]       0                                            \n",
      "__________________________________________________________________________________________________\n",
      "enc_padding_mask (Lambda)       (None, 1, 1, None)   0           inputs[0][0]                     \n",
      "__________________________________________________________________________________________________\n",
      "encoder (Functional)            (None, None, 256)    3141376     inputs[0][0]                     \n",
      "                                                                 enc_padding_mask[0][0]           \n",
      "__________________________________________________________________________________________________\n",
      "look_ahead_mask (Lambda)        (None, 1, None, None 0           dec_inputs[0][0]                 \n",
      "__________________________________________________________________________________________________\n",
      "dec_padding_mask (Lambda)       (None, 1, 1, None)   0           inputs[0][0]                     \n",
      "__________________________________________________________________________________________________\n",
      "decoder (Functional)            (None, None, 256)    3668736     dec_inputs[0][0]                 \n",
      "                                                                 encoder[0][0]                    \n",
      "                                                                 look_ahead_mask[0][0]            \n",
      "                                                                 dec_padding_mask[0][0]           \n",
      "__________________________________________________________________________________________________\n",
      "outputs (Dense)                 (None, None, 8153)   2095321     decoder[0][0]                    \n",
      "==================================================================================================\n",
      "Total params: 8,905,433\n",
      "Trainable params: 8,905,433\n",
      "Non-trainable params: 0\n",
      "__________________________________________________________________________________________________\n"
     ]
    }
   ],
   "source": [
    "tf.keras.backend.clear_session()\n",
    "\n",
    "# 하이퍼파라미터\n",
    "NUM_LAYERS = 2 # 인코더와 디코더의 층의 개수\n",
    "D_MODEL = 256 # 인코더와 디코더 내부의 입, 출력의 고정 차원\n",
    "NUM_HEADS = 8 # 멀티 헤드 어텐션에서의 헤드 수 \n",
    "UNITS = 512 # 피드 포워드 신경망의 은닉층의 크기\n",
    "DROPOUT = 0.1 # 드롭아웃의 비율\n",
    "\n",
    "model = transformer(\n",
    "    vocab_size=VOCAB_SIZE,\n",
    "    num_layers=NUM_LAYERS,\n",
    "    units=UNITS,\n",
    "    d_model=D_MODEL,\n",
    "    num_heads=NUM_HEADS,\n",
    "    dropout=DROPOUT)\n",
    "\n",
    "model.summary()"
   ]
  },
  {
   "cell_type": "markdown",
   "id": "2b303a16",
   "metadata": {},
   "source": [
    "## 손실 함수"
   ]
  },
  {
   "cell_type": "code",
   "execution_count": 37,
   "id": "yellow-newman",
   "metadata": {},
   "outputs": [],
   "source": [
    "def loss_function(y_true, y_pred):\n",
    "    y_true = tf.reshape(y_true, shape=(-1, MAX_LENGTH - 1))\n",
    "  \n",
    "    loss = tf.keras.losses.SparseCategoricalCrossentropy(\n",
    "        from_logits=True, reduction='none')(y_true, y_pred)\n",
    "\n",
    "    mask = tf.cast(tf.not_equal(y_true, 0), tf.float32)\n",
    "    loss = tf.multiply(loss, mask)\n",
    "\n",
    "    return tf.reduce_mean(loss)"
   ]
  },
  {
   "cell_type": "markdown",
   "id": "e00ba402",
   "metadata": {},
   "source": [
    "## 커스텀 된 학습률"
   ]
  },
  {
   "cell_type": "markdown",
   "id": "8d193035",
   "metadata": {},
   "source": [
    "- 초반에 학습률을 크게 설정했다가 점점 학습이 진행되면서 train step이 증가할 수록 학습률을 서서히 낮추는 커스텀 학습률 스케쥴링 방법을 사용하자."
   ]
  },
  {
   "cell_type": "code",
   "execution_count": 38,
   "id": "composed-nightlife",
   "metadata": {},
   "outputs": [],
   "source": [
    "class CustomSchedule(tf.keras.optimizers.schedules.LearningRateSchedule):\n",
    "\n",
    "    def __init__(self, d_model, warmup_steps=4000):\n",
    "        super(CustomSchedule, self).__init__()\n",
    "\n",
    "        self.d_model = d_model\n",
    "        self.d_model = tf.cast(self.d_model, tf.float32)\n",
    "\n",
    "        self.warmup_steps = warmup_steps\n",
    "\n",
    "    def __call__(self, step):\n",
    "        arg1 = tf.math.rsqrt(step)\n",
    "        arg2 = step * (self.warmup_steps**-1.5)\n",
    "\n",
    "        return tf.math.rsqrt(self.d_model) * tf.math.minimum(arg1, arg2)"
   ]
  },
  {
   "cell_type": "markdown",
   "id": "e84bc63a",
   "metadata": {},
   "source": [
    "- 시각화"
   ]
  },
  {
   "cell_type": "code",
   "execution_count": 39,
   "id": "wound-bahrain",
   "metadata": {},
   "outputs": [
    {
     "data": {
      "text/plain": [
       "Text(0.5, 0, 'Train Step')"
      ]
     },
     "execution_count": 39,
     "metadata": {},
     "output_type": "execute_result"
    },
    {
     "data": {
      "image/png": "[encoded data removed]",
      "text/plain": [
       "<Figure size 432x288 with 1 Axes>"
      ]
     },
     "metadata": {
      "needs_background": "light"
     },
     "output_type": "display_data"
    }
   ],
   "source": [
    "sample_learning_rate = CustomSchedule(d_model=128)\n",
    "\n",
    "plt.plot(sample_learning_rate(tf.range(200000, dtype=tf.float32)))\n",
    "plt.ylabel(\"Learning Rate\")\n",
    "plt.xlabel(\"Train Step\")"
   ]
  },
  {
   "cell_type": "markdown",
   "id": "0f5f1662",
   "metadata": {},
   "source": [
    "## 모델 컴파일"
   ]
  },
  {
   "cell_type": "code",
   "execution_count": 40,
   "id": "fourth-battlefield",
   "metadata": {},
   "outputs": [],
   "source": [
    "learning_rate = CustomSchedule(D_MODEL)\n",
    "\n",
    "optimizer = tf.keras.optimizers.Adam(\n",
    "    learning_rate, beta_1=0.9, beta_2=0.98, epsilon=1e-9)\n",
    "\n",
    "def accuracy(y_true, y_pred):\n",
    "    y_true = tf.reshape(y_true, shape=(-1, MAX_LENGTH - 1))\n",
    "    return tf.keras.metrics.sparse_categorical_accuracy(y_true, y_pred)\n",
    "\n",
    "model.compile(optimizer=optimizer, loss=loss_function, metrics=[accuracy])"
   ]
  },
  {
   "cell_type": "markdown",
   "id": "8f630dfa",
   "metadata": {},
   "source": [
    "## 훈련"
   ]
  },
  {
   "cell_type": "code",
   "execution_count": 41,
   "id": "manufactured-carpet",
   "metadata": {
    "scrolled": true
   },
   "outputs": [
    {
     "name": "stdout",
     "output_type": "stream",
     "text": [
      "Epoch 1/100\n",
      "183/183 [==============================] - 11s 24ms/step - loss: 3.4514 - accuracy: 0.0567\n",
      "Epoch 2/100\n",
      "183/183 [==============================] - 4s 24ms/step - loss: 2.9850 - accuracy: 0.0714\n",
      "Epoch 3/100\n",
      "183/183 [==============================] - 4s 24ms/step - loss: 2.7137 - accuracy: 0.0725\n",
      "Epoch 4/100\n",
      "183/183 [==============================] - 5s 26ms/step - loss: 2.5226 - accuracy: 0.0817\n",
      "Epoch 5/100\n",
      "183/183 [==============================] - 5s 26ms/step - loss: 2.3619 - accuracy: 0.0913\n",
      "Epoch 6/100\n",
      "183/183 [==============================] - 5s 27ms/step - loss: 2.1966 - accuracy: 0.1043\n",
      "Epoch 7/100\n",
      "183/183 [==============================] - 5s 26ms/step - loss: 2.0137 - accuracy: 0.1210\n",
      "Epoch 8/100\n",
      "183/183 [==============================] - 5s 26ms/step - loss: 1.8128 - accuracy: 0.1431\n",
      "Epoch 9/100\n",
      "183/183 [==============================] - 5s 26ms/step - loss: 1.5959 - accuracy: 0.1671\n",
      "Epoch 10/100\n",
      "183/183 [==============================] - 5s 26ms/step - loss: 1.3693 - accuracy: 0.1932\n",
      "Epoch 11/100\n",
      "183/183 [==============================] - 5s 26ms/step - loss: 1.1437 - accuracy: 0.2206\n",
      "Epoch 12/100\n",
      "183/183 [==============================] - 5s 26ms/step - loss: 0.9251 - accuracy: 0.2507\n",
      "Epoch 13/100\n",
      "183/183 [==============================] - 5s 27ms/step - loss: 0.7252 - accuracy: 0.2788\n",
      "Epoch 14/100\n",
      "183/183 [==============================] - 5s 26ms/step - loss: 0.5510 - accuracy: 0.3058\n",
      "Epoch 15/100\n",
      "183/183 [==============================] - 5s 26ms/step - loss: 0.4068 - accuracy: 0.3305\n",
      "Epoch 16/100\n",
      "183/183 [==============================] - 5s 27ms/step - loss: 0.2937 - accuracy: 0.3510\n",
      "Epoch 17/100\n",
      "183/183 [==============================] - 5s 26ms/step - loss: 0.2166 - accuracy: 0.3657\n",
      "Epoch 18/100\n",
      "183/183 [==============================] - 5s 26ms/step - loss: 0.1666 - accuracy: 0.3746\n",
      "Epoch 19/100\n",
      "183/183 [==============================] - 5s 26ms/step - loss: 0.1372 - accuracy: 0.3802\n",
      "Epoch 20/100\n",
      "183/183 [==============================] - 5s 26ms/step - loss: 0.1240 - accuracy: 0.3807\n",
      "Epoch 21/100\n",
      "183/183 [==============================] - 5s 26ms/step - loss: 0.1126 - accuracy: 0.3829\n",
      "Epoch 22/100\n",
      "183/183 [==============================] - 5s 27ms/step - loss: 0.1105 - accuracy: 0.3830\n",
      "Epoch 23/100\n",
      "183/183 [==============================] - 5s 26ms/step - loss: 0.1033 - accuracy: 0.3841\n",
      "Epoch 24/100\n",
      "183/183 [==============================] - 5s 26ms/step - loss: 0.0873 - accuracy: 0.3883\n",
      "Epoch 25/100\n",
      "183/183 [==============================] - 5s 26ms/step - loss: 0.0782 - accuracy: 0.3902\n",
      "Epoch 26/100\n",
      "183/183 [==============================] - 5s 26ms/step - loss: 0.0698 - accuracy: 0.3924\n",
      "Epoch 27/100\n",
      "183/183 [==============================] - 5s 26ms/step - loss: 0.0635 - accuracy: 0.3941\n",
      "Epoch 28/100\n",
      "183/183 [==============================] - 5s 26ms/step - loss: 0.0561 - accuracy: 0.3959\n",
      "Epoch 29/100\n",
      "183/183 [==============================] - 5s 26ms/step - loss: 0.0508 - accuracy: 0.3974\n",
      "Epoch 30/100\n",
      "183/183 [==============================] - 5s 27ms/step - loss: 0.0484 - accuracy: 0.3980\n",
      "Epoch 31/100\n",
      "183/183 [==============================] - 5s 26ms/step - loss: 0.0431 - accuracy: 0.3993\n",
      "Epoch 32/100\n",
      "183/183 [==============================] - 5s 26ms/step - loss: 0.0400 - accuracy: 0.4003\n",
      "Epoch 33/100\n",
      "183/183 [==============================] - 4s 24ms/step - loss: 0.0390 - accuracy: 0.4002\n",
      "Epoch 34/100\n",
      "183/183 [==============================] - 4s 25ms/step - loss: 0.0348 - accuracy: 0.4014\n",
      "Epoch 35/100\n",
      "183/183 [==============================] - 5s 25ms/step - loss: 0.0327 - accuracy: 0.4020\n",
      "Epoch 36/100\n",
      "183/183 [==============================] - 5s 26ms/step - loss: 0.0307 - accuracy: 0.4027\n",
      "Epoch 37/100\n",
      "183/183 [==============================] - 5s 26ms/step - loss: 0.0307 - accuracy: 0.4024\n",
      "Epoch 38/100\n",
      "183/183 [==============================] - 5s 27ms/step - loss: 0.0269 - accuracy: 0.4035\n",
      "Epoch 39/100\n",
      "183/183 [==============================] - 5s 26ms/step - loss: 0.0258 - accuracy: 0.4037\n",
      "Epoch 40/100\n",
      "183/183 [==============================] - 5s 27ms/step - loss: 0.0255 - accuracy: 0.4037\n",
      "Epoch 41/100\n",
      "183/183 [==============================] - 5s 26ms/step - loss: 0.0235 - accuracy: 0.4042\n",
      "Epoch 42/100\n",
      "183/183 [==============================] - 5s 26ms/step - loss: 0.0230 - accuracy: 0.4044\n",
      "Epoch 43/100\n",
      "183/183 [==============================] - 5s 26ms/step - loss: 0.0217 - accuracy: 0.4047\n",
      "Epoch 44/100\n",
      "183/183 [==============================] - 5s 26ms/step - loss: 0.0201 - accuracy: 0.4052\n",
      "Epoch 45/100\n",
      "183/183 [==============================] - 5s 26ms/step - loss: 0.0199 - accuracy: 0.4051\n",
      "Epoch 46/100\n",
      "183/183 [==============================] - 5s 26ms/step - loss: 0.0194 - accuracy: 0.4051\n",
      "Epoch 47/100\n",
      "183/183 [==============================] - 5s 26ms/step - loss: 0.0191 - accuracy: 0.4054\n",
      "Epoch 48/100\n",
      "183/183 [==============================] - 5s 26ms/step - loss: 0.0182 - accuracy: 0.4055\n",
      "Epoch 49/100\n",
      "183/183 [==============================] - 5s 26ms/step - loss: 0.0175 - accuracy: 0.4057\n",
      "Epoch 50/100\n",
      "183/183 [==============================] - 5s 26ms/step - loss: 0.0172 - accuracy: 0.4056\n",
      "Epoch 51/100\n",
      "183/183 [==============================] - 5s 26ms/step - loss: 0.0169 - accuracy: 0.4057\n",
      "Epoch 52/100\n",
      "183/183 [==============================] - 5s 26ms/step - loss: 0.0162 - accuracy: 0.4058\n",
      "Epoch 53/100\n",
      "183/183 [==============================] - 5s 26ms/step - loss: 0.0155 - accuracy: 0.4061\n",
      "Epoch 54/100\n",
      "183/183 [==============================] - 5s 26ms/step - loss: 0.0141 - accuracy: 0.4064\n",
      "Epoch 55/100\n",
      "183/183 [==============================] - 5s 26ms/step - loss: 0.0153 - accuracy: 0.4063\n",
      "Epoch 56/100\n",
      "183/183 [==============================] - 5s 27ms/step - loss: 0.0138 - accuracy: 0.4066\n",
      "Epoch 57/100\n",
      "183/183 [==============================] - 5s 27ms/step - loss: 0.0146 - accuracy: 0.4064\n",
      "Epoch 58/100\n",
      "183/183 [==============================] - 5s 26ms/step - loss: 0.0131 - accuracy: 0.4066\n",
      "Epoch 59/100\n",
      "183/183 [==============================] - 5s 26ms/step - loss: 0.0118 - accuracy: 0.4068\n",
      "Epoch 60/100\n",
      "183/183 [==============================] - 5s 26ms/step - loss: 0.0129 - accuracy: 0.4067\n",
      "Epoch 61/100\n",
      "183/183 [==============================] - 5s 26ms/step - loss: 0.0122 - accuracy: 0.4068\n",
      "Epoch 62/100\n",
      "183/183 [==============================] - 5s 26ms/step - loss: 0.0128 - accuracy: 0.4067\n",
      "Epoch 63/100\n",
      "183/183 [==============================] - 5s 26ms/step - loss: 0.0118 - accuracy: 0.4069\n",
      "Epoch 64/100\n",
      "183/183 [==============================] - 5s 26ms/step - loss: 0.0117 - accuracy: 0.4070\n",
      "Epoch 65/100\n",
      "183/183 [==============================] - 5s 26ms/step - loss: 0.0109 - accuracy: 0.4072\n",
      "Epoch 66/100\n",
      "183/183 [==============================] - 5s 26ms/step - loss: 0.0112 - accuracy: 0.4071\n",
      "Epoch 67/100\n",
      "183/183 [==============================] - 5s 26ms/step - loss: 0.0111 - accuracy: 0.4070\n",
      "Epoch 68/100\n",
      "183/183 [==============================] - 5s 26ms/step - loss: 0.0107 - accuracy: 0.4072\n",
      "Epoch 69/100\n",
      "183/183 [==============================] - 5s 26ms/step - loss: 0.0105 - accuracy: 0.4072\n",
      "Epoch 70/100\n",
      "183/183 [==============================] - 5s 26ms/step - loss: 0.0097 - accuracy: 0.4073\n",
      "Epoch 71/100\n",
      "183/183 [==============================] - 5s 26ms/step - loss: 0.0102 - accuracy: 0.4071\n",
      "Epoch 72/100\n",
      "183/183 [==============================] - 5s 25ms/step - loss: 0.0099 - accuracy: 0.4072 0s - los\n",
      "Epoch 73/100\n",
      "183/183 [==============================] - 5s 26ms/step - loss: 0.0090 - accuracy: 0.4074\n",
      "Epoch 74/100\n",
      "183/183 [==============================] - 5s 26ms/step - loss: 0.0099 - accuracy: 0.4073\n",
      "Epoch 75/100\n",
      "183/183 [==============================] - 5s 26ms/step - loss: 0.0094 - accuracy: 0.4073\n",
      "Epoch 76/100\n",
      "183/183 [==============================] - 5s 26ms/step - loss: 0.0090 - accuracy: 0.4074\n",
      "Epoch 77/100\n",
      "183/183 [==============================] - 5s 26ms/step - loss: 0.0092 - accuracy: 0.4073\n",
      "Epoch 78/100\n",
      "183/183 [==============================] - 5s 27ms/step - loss: 0.0085 - accuracy: 0.4075\n",
      "Epoch 79/100\n",
      "183/183 [==============================] - 5s 26ms/step - loss: 0.0081 - accuracy: 0.4076\n",
      "Epoch 80/100\n"
     ]
    },
    {
     "name": "stdout",
     "output_type": "stream",
     "text": [
      "183/183 [==============================] - 5s 26ms/step - loss: 0.0082 - accuracy: 0.4076\n",
      "Epoch 81/100\n",
      "183/183 [==============================] - 5s 26ms/step - loss: 0.0084 - accuracy: 0.4076\n",
      "Epoch 82/100\n",
      "183/183 [==============================] - 5s 26ms/step - loss: 0.0078 - accuracy: 0.4076\n",
      "Epoch 83/100\n",
      "183/183 [==============================] - 5s 26ms/step - loss: 0.0079 - accuracy: 0.4076\n",
      "Epoch 84/100\n",
      "183/183 [==============================] - 5s 26ms/step - loss: 0.0074 - accuracy: 0.4077\n",
      "Epoch 85/100\n",
      "183/183 [==============================] - 5s 26ms/step - loss: 0.0079 - accuracy: 0.4075\n",
      "Epoch 86/100\n",
      "183/183 [==============================] - 5s 26ms/step - loss: 0.0077 - accuracy: 0.4076\n",
      "Epoch 87/100\n",
      "183/183 [==============================] - 5s 27ms/step - loss: 0.0074 - accuracy: 0.4076\n",
      "Epoch 88/100\n",
      "183/183 [==============================] - 5s 27ms/step - loss: 0.0077 - accuracy: 0.4077\n",
      "Epoch 89/100\n",
      "183/183 [==============================] - 6s 30ms/step - loss: 0.0068 - accuracy: 0.4077\n",
      "Epoch 90/100\n",
      "183/183 [==============================] - 6s 31ms/step - loss: 0.0072 - accuracy: 0.4076\n",
      "Epoch 91/100\n",
      "183/183 [==============================] - 6s 32ms/step - loss: 0.0071 - accuracy: 0.4076\n",
      "Epoch 92/100\n",
      "183/183 [==============================] - 6s 32ms/step - loss: 0.0072 - accuracy: 0.4077\n",
      "Epoch 93/100\n",
      "183/183 [==============================] - 6s 31ms/step - loss: 0.0068 - accuracy: 0.4077\n",
      "Epoch 94/100\n",
      "183/183 [==============================] - 6s 31ms/step - loss: 0.0063 - accuracy: 0.4078\n",
      "Epoch 95/100\n",
      "183/183 [==============================] - 6s 32ms/step - loss: 0.0066 - accuracy: 0.4076\n",
      "Epoch 96/100\n",
      "183/183 [==============================] - 6s 30ms/step - loss: 0.0062 - accuracy: 0.4078\n",
      "Epoch 97/100\n",
      "183/183 [==============================] - 6s 31ms/step - loss: 0.0063 - accuracy: 0.4078\n",
      "Epoch 98/100\n",
      "183/183 [==============================] - 6s 32ms/step - loss: 0.0057 - accuracy: 0.4078\n",
      "Epoch 99/100\n",
      "183/183 [==============================] - 6s 32ms/step - loss: 0.0062 - accuracy: 0.4078\n",
      "Epoch 100/100\n",
      "183/183 [==============================] - 6s 32ms/step - loss: 0.0060 - accuracy: 0.4078\n"
     ]
    },
    {
     "data": {
      "text/plain": [
       "<keras.callbacks.History at 0x11e17ef7e80>"
      ]
     },
     "execution_count": 41,
     "metadata": {},
     "output_type": "execute_result"
    }
   ],
   "source": [
    "EPOCHS = 100\n",
    "model.fit(dataset, epochs=EPOCHS, verbose=1)"
   ]
  },
  {
   "cell_type": "markdown",
   "id": "d018845f",
   "metadata": {},
   "source": [
    "- loss가 안정적으로 수렴하는 모습을 볼 수 있다."
   ]
  },
  {
   "cell_type": "markdown",
   "id": "30d1c6c7",
   "metadata": {},
   "source": [
    "# step6) 모델 평가하기\n",
    "- 입력 문장에 대한 대답을 생성하는 예측 함수를 만들자"
   ]
  },
  {
   "cell_type": "code",
   "execution_count": 42,
   "id": "excited-galaxy",
   "metadata": {},
   "outputs": [],
   "source": [
    "def decoder_inference(sentence):\n",
    "    sentence = preprocess_sentence(sentence)\n",
    "\n",
    "    # 입력된 문장을 정수 인코딩 후, 시작 토큰과 종료 토큰을 앞뒤로 추가.\n",
    "    # ex) Where have you been? → [[8331   86   30    5 1059    7 8332]]\n",
    "    sentence = tf.expand_dims(\n",
    "        START_TOKEN + tokenizer.encode(sentence) + END_TOKEN, axis=0)\n",
    "\n",
    "    # 디코더의 현재까지의 예측한 출력 시퀀스가 지속적으로 저장되는 변수.\n",
    "    # 처음에는 예측한 내용이 없음으로 시작 토큰만 별도 저장. ex) 8331\n",
    "    output_sequence = tf.expand_dims(START_TOKEN, 0)\n",
    "\n",
    "    # 디코더의 인퍼런스 단계\n",
    "    for i in range(MAX_LENGTH):\n",
    "        # 디코더는 최대 MAX_LENGTH의 길이만큼 다음 단어 예측을 반복합니다.\n",
    "        predictions = model(inputs=[sentence, output_sequence], training=False)\n",
    "        predictions = predictions[:, -1:, :]\n",
    "\n",
    "        # 현재 예측한 단어의 정수\n",
    "        predicted_id = tf.cast(tf.argmax(predictions, axis=-1), tf.int32)\n",
    "\n",
    "        # 만약 현재 예측한 단어가 종료 토큰이라면 for문을 종료\n",
    "        if tf.equal(predicted_id, END_TOKEN[0]):\n",
    "            break\n",
    "\n",
    "        # 예측한 단어들은 지속적으로 output_sequence에 추가됩니다.\n",
    "        # 이 output_sequence는 다시 디코더의 입력이 됩니다.\n",
    "        output_sequence = tf.concat([output_sequence, predicted_id], axis=-1)\n",
    "\n",
    "    return tf.squeeze(output_sequence, axis=0)"
   ]
  },
  {
   "cell_type": "code",
   "execution_count": 43,
   "id": "silent-drama",
   "metadata": {},
   "outputs": [],
   "source": [
    "def sentence_generation(sentence):\n",
    "    # 입력 문장에 대해서 디코더를 동작 시켜 예측된 정수 시퀀스를 리턴받습니다.\n",
    "    prediction = decoder_inference(sentence)\n",
    "\n",
    "    # 정수 시퀀스를 다시 텍스트 시퀀스로 변환합니다.\n",
    "    predicted_sentence = tokenizer.decode(\n",
    "        [i for i in prediction if i < tokenizer.vocab_size])\n",
    "\n",
    "    print('입력 : {}'.format(sentence))\n",
    "    print('출력 : {}'.format(predicted_sentence))\n",
    "\n",
    "    return predicted_sentence"
   ]
  },
  {
   "cell_type": "markdown",
   "id": "fa725ceb",
   "metadata": {},
   "source": [
    "# - 에폭 20번일 때"
   ]
  },
  {
   "cell_type": "code",
   "execution_count": 46,
   "id": "c79192ed",
   "metadata": {
    "scrolled": false
   },
   "outputs": [
    {
     "name": "stdout",
     "output_type": "stream",
     "text": [
      "입력 : 졸리다.\n",
      "출력 : 잠을 깨요 ! 기운 내요 ! !\n"
     ]
    },
    {
     "data": {
      "text/plain": [
       "'잠을 깨요 ! 기운 내요 ! !'"
      ]
     },
     "execution_count": 46,
     "metadata": {},
     "output_type": "execute_result"
    }
   ],
   "source": [
    "sentence_generation('졸리다.')"
   ]
  },
  {
   "cell_type": "code",
   "execution_count": 47,
   "id": "703c510a",
   "metadata": {},
   "outputs": [
    {
     "name": "stdout",
     "output_type": "stream",
     "text": [
      "입력 : 배고파 죽겠어\n",
      "출력 : 맛난 거 드세요 .\n"
     ]
    },
    {
     "data": {
      "text/plain": [
       "'맛난 거 드세요 .'"
      ]
     },
     "execution_count": 47,
     "metadata": {},
     "output_type": "execute_result"
    }
   ],
   "source": [
    "sentence_generation('배고파 죽겠어')"
   ]
  },
  {
   "cell_type": "code",
   "execution_count": 48,
   "id": "6e219374",
   "metadata": {},
   "outputs": [
    {
     "name": "stdout",
     "output_type": "stream",
     "text": [
      "입력 : 배고파 죽겠다\n",
      "출력 : 맛난 거 드세요 .\n"
     ]
    },
    {
     "data": {
      "text/plain": [
       "'맛난 거 드세요 .'"
      ]
     },
     "execution_count": 48,
     "metadata": {},
     "output_type": "execute_result"
    }
   ],
   "source": [
    "sentence_generation('배고파 죽겠다')"
   ]
  },
  {
   "cell_type": "code",
   "execution_count": 49,
   "id": "cb9fe853",
   "metadata": {
    "scrolled": false
   },
   "outputs": [
    {
     "name": "stdout",
     "output_type": "stream",
     "text": [
      "입력 : 합격했어!\n",
      "출력 : 좋은 사회생활의 밑거름이 되길 바랍니다 .\n"
     ]
    },
    {
     "data": {
      "text/plain": [
       "'좋은 사회생활의 밑거름이 되길 바랍니다 .'"
      ]
     },
     "execution_count": 49,
     "metadata": {},
     "output_type": "execute_result"
    }
   ],
   "source": [
    "sentence_generation('합격했어!')"
   ]
  },
  {
   "cell_type": "code",
   "execution_count": 50,
   "id": "7128d0e6",
   "metadata": {
    "scrolled": true
   },
   "outputs": [
    {
     "name": "stdout",
     "output_type": "stream",
     "text": [
      "입력 : 내일 기말고사야\n",
      "출력 : 좋은 사람이 랇거리 .\n"
     ]
    },
    {
     "data": {
      "text/plain": [
       "'좋은 사람이 랇거리 .'"
      ]
     },
     "execution_count": 50,
     "metadata": {},
     "output_type": "execute_result"
    }
   ],
   "source": [
    "sentence_generation('내일 기말고사야')"
   ]
  },
  {
   "cell_type": "code",
   "execution_count": 51,
   "id": "1d5ffe13",
   "metadata": {},
   "outputs": [
    {
     "name": "stdout",
     "output_type": "stream",
     "text": [
      "입력 : 놀고 싶어\n",
      "출력 : 저도요 !\n"
     ]
    },
    {
     "data": {
      "text/plain": [
       "'저도요 !'"
      ]
     },
     "execution_count": 51,
     "metadata": {},
     "output_type": "execute_result"
    }
   ],
   "source": [
    "sentence_generation('놀고 싶어')"
   ]
  },
  {
   "cell_type": "code",
   "execution_count": 52,
   "id": "e8234990",
   "metadata": {},
   "outputs": [
    {
     "name": "stdout",
     "output_type": "stream",
     "text": [
      "입력 : 심심해\n",
      "출력 : 친구들과 연락해보세요 .\n"
     ]
    },
    {
     "data": {
      "text/plain": [
       "'친구들과 연락해보세요 .'"
      ]
     },
     "execution_count": 52,
     "metadata": {},
     "output_type": "execute_result"
    }
   ],
   "source": [
    "sentence_generation('심심해')"
   ]
  },
  {
   "cell_type": "code",
   "execution_count": 53,
   "id": "3b9ab35f",
   "metadata": {},
   "outputs": [
    {
     "name": "stdout",
     "output_type": "stream",
     "text": [
      "입력 : 심심하다고\n",
      "출력 : 친구들과 연락해보세요 .\n"
     ]
    },
    {
     "data": {
      "text/plain": [
       "'친구들과 연락해보세요 .'"
      ]
     },
     "execution_count": 53,
     "metadata": {},
     "output_type": "execute_result"
    }
   ],
   "source": [
    "sentence_generation('심심하다고')"
   ]
  },
  {
   "cell_type": "markdown",
   "id": "54995065",
   "metadata": {},
   "source": [
    "### - 띄어쓰기가 달라도 특이한 주요 키워드가 포함되어있으면 똑같은 답변을 내놓는다."
   ]
  },
  {
   "cell_type": "code",
   "execution_count": 54,
   "id": "1109d45f",
   "metadata": {
    "scrolled": true
   },
   "outputs": [
    {
     "name": "stdout",
     "output_type": "stream",
     "text": [
      "입력 : 교직이수 하고 싶어\n",
      "출력 : 학점 관리하세요 .\n"
     ]
    },
    {
     "data": {
      "text/plain": [
       "'학점 관리하세요 .'"
      ]
     },
     "execution_count": 54,
     "metadata": {},
     "output_type": "execute_result"
    }
   ],
   "source": [
    "sentence_generation('교직이수 하고 싶어')"
   ]
  },
  {
   "cell_type": "code",
   "execution_count": 55,
   "id": "f4b1b36f",
   "metadata": {
    "scrolled": true
   },
   "outputs": [
    {
     "name": "stdout",
     "output_type": "stream",
     "text": [
      "입력 : 교직이수 하고싶어\n",
      "출력 : 학점 관리하세요 .\n"
     ]
    },
    {
     "data": {
      "text/plain": [
       "'학점 관리하세요 .'"
      ]
     },
     "execution_count": 55,
     "metadata": {},
     "output_type": "execute_result"
    }
   ],
   "source": [
    "sentence_generation('교직이수 하고싶어')"
   ]
  },
  {
   "cell_type": "code",
   "execution_count": 56,
   "id": "ee4b617f",
   "metadata": {
    "scrolled": true
   },
   "outputs": [
    {
     "name": "stdout",
     "output_type": "stream",
     "text": [
      "입력 : 교직이수 하기 싫어\n",
      "출력 : 학점 관리하세요 .\n"
     ]
    },
    {
     "data": {
      "text/plain": [
       "'학점 관리하세요 .'"
      ]
     },
     "execution_count": 56,
     "metadata": {},
     "output_type": "execute_result"
    }
   ],
   "source": [
    "sentence_generation('교직이수 하기 싫어')"
   ]
  },
  {
   "cell_type": "code",
   "execution_count": 57,
   "id": "94d8e37c",
   "metadata": {},
   "outputs": [
    {
     "name": "stdout",
     "output_type": "stream",
     "text": [
      "입력 : 재밌는 거 뭐 없을까\n",
      "출력 : 제가 있잖아요 .\n"
     ]
    },
    {
     "data": {
      "text/plain": [
       "'제가 있잖아요 .'"
      ]
     },
     "execution_count": 57,
     "metadata": {},
     "output_type": "execute_result"
    }
   ],
   "source": [
    "sentence_generation('재밌는 거 뭐 없을까')"
   ]
  },
  {
   "cell_type": "code",
   "execution_count": 58,
   "id": "f54bd6c5",
   "metadata": {},
   "outputs": [
    {
     "name": "stdout",
     "output_type": "stream",
     "text": [
      "입력 : 맛집 알려줘\n",
      "출력 : 조금씩 더 행복해 질거 같아요\n"
     ]
    },
    {
     "data": {
      "text/plain": [
       "'조금씩 더 행복해 질거 같아요'"
      ]
     },
     "execution_count": 58,
     "metadata": {},
     "output_type": "execute_result"
    }
   ],
   "source": [
    "sentence_generation('맛집 알려줘')"
   ]
  },
  {
   "cell_type": "code",
   "execution_count": 59,
   "id": "b43a9ef5",
   "metadata": {
    "scrolled": true
   },
   "outputs": [
    {
     "name": "stdout",
     "output_type": "stream",
     "text": [
      "입력 : 졸려\n",
      "출력 : 오늘 일찍 주무세요 .\n"
     ]
    },
    {
     "data": {
      "text/plain": [
       "'오늘 일찍 주무세요 .'"
      ]
     },
     "execution_count": 59,
     "metadata": {},
     "output_type": "execute_result"
    }
   ],
   "source": [
    "sentence_generation('졸려')"
   ]
  },
  {
   "cell_type": "code",
   "execution_count": 60,
   "id": "5a3c8abe",
   "metadata": {
    "scrolled": false
   },
   "outputs": [
    {
     "name": "stdout",
     "output_type": "stream",
     "text": [
      "입력 : 치킨 먹고 싶어\n",
      "출력 : 맛있게 드세요 .\n"
     ]
    },
    {
     "data": {
      "text/plain": [
       "'맛있게 드세요 .'"
      ]
     },
     "execution_count": 60,
     "metadata": {},
     "output_type": "execute_result"
    }
   ],
   "source": [
    "sentence_generation('치킨 먹고 싶어')"
   ]
  },
  {
   "cell_type": "code",
   "execution_count": 61,
   "id": "a15b6a18",
   "metadata": {},
   "outputs": [
    {
     "name": "stdout",
     "output_type": "stream",
     "text": [
      "입력 : 허리 아파\n",
      "출력 : 운동 해보는 것도 좋을 거예요 .\n"
     ]
    },
    {
     "data": {
      "text/plain": [
       "'운동 해보는 것도 좋을 거예요 .'"
      ]
     },
     "execution_count": 61,
     "metadata": {},
     "output_type": "execute_result"
    }
   ],
   "source": [
    "sentence_generation('허리 아파')"
   ]
  },
  {
   "cell_type": "code",
   "execution_count": 62,
   "id": "be7853fd",
   "metadata": {
    "scrolled": true
   },
   "outputs": [
    {
     "name": "stdout",
     "output_type": "stream",
     "text": [
      "입력 : 마카롱 먹고 싶어\n",
      "출력 : 비싸지만 맛있어요 .\n"
     ]
    },
    {
     "data": {
      "text/plain": [
       "'비싸지만 맛있어요 .'"
      ]
     },
     "execution_count": 62,
     "metadata": {},
     "output_type": "execute_result"
    }
   ],
   "source": [
    "sentence_generation('마카롱 먹고 싶어')"
   ]
  },
  {
   "cell_type": "code",
   "execution_count": 63,
   "id": "c1b9930e",
   "metadata": {},
   "outputs": [
    {
     "name": "stdout",
     "output_type": "stream",
     "text": [
      "입력 : 꺼져\n",
      "출력 : 충전하고 만나요 .\n"
     ]
    },
    {
     "data": {
      "text/plain": [
       "'충전하고 만나요 .'"
      ]
     },
     "execution_count": 63,
     "metadata": {},
     "output_type": "execute_result"
    }
   ],
   "source": [
    "sentence_generation('꺼져')"
   ]
  },
  {
   "cell_type": "code",
   "execution_count": 64,
   "id": "87c46827",
   "metadata": {},
   "outputs": [
    {
     "name": "stdout",
     "output_type": "stream",
     "text": [
      "입력 : 어떻게 나한테 이래\n",
      "출력 : 그만큼 관심있고 열정적으로 사랑하나봐요 .\n"
     ]
    },
    {
     "data": {
      "text/plain": [
       "'그만큼 관심있고 열정적으로 사랑하나봐요 .'"
      ]
     },
     "execution_count": 64,
     "metadata": {},
     "output_type": "execute_result"
    }
   ],
   "source": [
    "sentence_generation('어떻게 나한테 이래')"
   ]
  },
  {
   "cell_type": "code",
   "execution_count": 65,
   "id": "6939ac4f",
   "metadata": {},
   "outputs": [
    {
     "name": "stdout",
     "output_type": "stream",
     "text": [
      "입력 : 피자 먹고 싶어\n",
      "출력 : 같이 먹어요 !\n"
     ]
    },
    {
     "data": {
      "text/plain": [
       "'같이 먹어요 !'"
      ]
     },
     "execution_count": 65,
     "metadata": {},
     "output_type": "execute_result"
    }
   ],
   "source": [
    "sentence_generation('피자 먹고 싶어')"
   ]
  },
  {
   "cell_type": "code",
   "execution_count": 66,
   "id": "df34e336",
   "metadata": {},
   "outputs": [
    {
     "name": "stdout",
     "output_type": "stream",
     "text": [
      "입력 : 나 내일 시험이야\n",
      "출력 : 컨디션 조절 하세요 .\n"
     ]
    },
    {
     "data": {
      "text/plain": [
       "'컨디션 조절 하세요 .'"
      ]
     },
     "execution_count": 66,
     "metadata": {},
     "output_type": "execute_result"
    }
   ],
   "source": [
    "sentence_generation('나 내일 시험이야')"
   ]
  },
  {
   "cell_type": "code",
   "execution_count": 67,
   "id": "d0eaa229",
   "metadata": {},
   "outputs": [
    {
     "name": "stdout",
     "output_type": "stream",
     "text": [
      "입력 : 비가 엄청 온다\n",
      "출력 : 비 맞으면 안돼요 !\n"
     ]
    },
    {
     "data": {
      "text/plain": [
       "'비 맞으면 안돼요 !'"
      ]
     },
     "execution_count": 67,
     "metadata": {},
     "output_type": "execute_result"
    }
   ],
   "source": [
    "sentence_generation('비가 엄청 온다')"
   ]
  },
  {
   "cell_type": "code",
   "execution_count": 68,
   "id": "0baeeb96",
   "metadata": {},
   "outputs": [
    {
     "name": "stdout",
     "output_type": "stream",
     "text": [
      "입력 : 뭔가 술이 땡기네\n",
      "출력 : 혹시 전화를 한 건 아니길 바랍니다 .\n"
     ]
    },
    {
     "data": {
      "text/plain": [
       "'혹시 전화를 한 건 아니길 바랍니다 .'"
      ]
     },
     "execution_count": 68,
     "metadata": {},
     "output_type": "execute_result"
    }
   ],
   "source": [
    "sentence_generation('뭔가 술이 땡기네')"
   ]
  },
  {
   "cell_type": "code",
   "execution_count": 69,
   "id": "7017bb74",
   "metadata": {},
   "outputs": [
    {
     "name": "stdout",
     "output_type": "stream",
     "text": [
      "입력 : 술 마시고 싶다\n",
      "출력 : 저랑 한 잔 해요 .\n"
     ]
    },
    {
     "data": {
      "text/plain": [
       "'저랑 한 잔 해요 .'"
      ]
     },
     "execution_count": 69,
     "metadata": {},
     "output_type": "execute_result"
    }
   ],
   "source": [
    "sentence_generation('술 마시고 싶다')"
   ]
  },
  {
   "cell_type": "code",
   "execution_count": 70,
   "id": "daccb6d4",
   "metadata": {},
   "outputs": [
    {
     "name": "stdout",
     "output_type": "stream",
     "text": [
      "입력 : 카페인 중독인가봐\n",
      "출력 : 보살인가봅니다 .\n"
     ]
    },
    {
     "data": {
      "text/plain": [
       "'보살인가봅니다 .'"
      ]
     },
     "execution_count": 70,
     "metadata": {},
     "output_type": "execute_result"
    }
   ],
   "source": [
    "sentence_generation('카페인 중독인가봐')"
   ]
  },
  {
   "cell_type": "code",
   "execution_count": 71,
   "id": "083498d7",
   "metadata": {
    "scrolled": true
   },
   "outputs": [
    {
     "name": "stdout",
     "output_type": "stream",
     "text": [
      "입력 : 꿀꿀하네\n",
      "출력 : 오늘보다 나을 거예요 .\n"
     ]
    },
    {
     "data": {
      "text/plain": [
       "'오늘보다 나을 거예요 .'"
      ]
     },
     "execution_count": 71,
     "metadata": {},
     "output_type": "execute_result"
    }
   ],
   "source": [
    "sentence_generation('꿀꿀하네')"
   ]
  },
  {
   "cell_type": "code",
   "execution_count": 72,
   "id": "a8a0d74b",
   "metadata": {
    "scrolled": true
   },
   "outputs": [
    {
     "name": "stdout",
     "output_type": "stream",
     "text": [
      "입력 : 졸업했다!\n",
      "출력 : 졸업 축하해요\n"
     ]
    },
    {
     "data": {
      "text/plain": [
       "'졸업 축하해요'"
      ]
     },
     "execution_count": 72,
     "metadata": {},
     "output_type": "execute_result"
    }
   ],
   "source": [
    "sentence_generation('졸업했다!')"
   ]
  },
  {
   "cell_type": "code",
   "execution_count": 73,
   "id": "fef65664",
   "metadata": {
    "scrolled": true
   },
   "outputs": [
    {
     "name": "stdout",
     "output_type": "stream",
     "text": [
      "입력 : 귀가 간지러워\n",
      "출력 : 누가 욕하고 있나봐요 .\n"
     ]
    },
    {
     "data": {
      "text/plain": [
       "'누가 욕하고 있나봐요 .'"
      ]
     },
     "execution_count": 73,
     "metadata": {},
     "output_type": "execute_result"
    }
   ],
   "source": [
    "sentence_generation('귀가 간지러워')"
   ]
  },
  {
   "cell_type": "code",
   "execution_count": 74,
   "id": "5ec8137f",
   "metadata": {
    "scrolled": true
   },
   "outputs": [
    {
     "name": "stdout",
     "output_type": "stream",
     "text": [
      "입력 : 오늘 같은 날엔\n",
      "출력 : 저도 듣고 싶어요 .\n"
     ]
    },
    {
     "data": {
      "text/plain": [
       "'저도 듣고 싶어요 .'"
      ]
     },
     "execution_count": 74,
     "metadata": {},
     "output_type": "execute_result"
    }
   ],
   "source": [
    "sentence_generation('오늘 같은 날엔')"
   ]
  },
  {
   "cell_type": "code",
   "execution_count": 75,
   "id": "314169c6",
   "metadata": {
    "scrolled": true
   },
   "outputs": [
    {
     "name": "stdout",
     "output_type": "stream",
     "text": [
      "입력 : 공부하기 싫어\n",
      "출력 : 잠시 쉬어도 돼요 .\n"
     ]
    },
    {
     "data": {
      "text/plain": [
       "'잠시 쉬어도 돼요 .'"
      ]
     },
     "execution_count": 75,
     "metadata": {},
     "output_type": "execute_result"
    }
   ],
   "source": [
    "sentence_generation('공부하기 싫어')"
   ]
  },
  {
   "cell_type": "code",
   "execution_count": 76,
   "id": "cfd0a705",
   "metadata": {
    "scrolled": false
   },
   "outputs": [
    {
     "name": "stdout",
     "output_type": "stream",
     "text": [
      "입력 : 막걸리엔 파전\n",
      "출력 : 연락이 왔나봐요 .\n"
     ]
    },
    {
     "data": {
      "text/plain": [
       "'연락이 왔나봐요 .'"
      ]
     },
     "execution_count": 76,
     "metadata": {},
     "output_type": "execute_result"
    }
   ],
   "source": [
    "sentence_generation('막걸리엔 파전')"
   ]
  },
  {
   "cell_type": "markdown",
   "id": "519ebb7c",
   "metadata": {},
   "source": [
    "### - 원본 데이터셋과 비슷한 말인 것 같은데도 중간중간 부사어나 어미에 따라 다른 대답을 했다."
   ]
  },
  {
   "cell_type": "markdown",
   "id": "fa77bb50",
   "metadata": {},
   "source": [
    "# - 에폭 100번 일때"
   ]
  },
  {
   "cell_type": "code",
   "execution_count": 44,
   "id": "f60b2b46",
   "metadata": {
    "scrolled": false
   },
   "outputs": [
    {
     "name": "stdout",
     "output_type": "stream",
     "text": [
      "입력 : 졸리다.\n",
      "출력 : 잠을 깨요   기운 내요\n"
     ]
    },
    {
     "data": {
      "text/plain": [
       "'잠을 깨요   기운 내요'"
      ]
     },
     "execution_count": 44,
     "metadata": {},
     "output_type": "execute_result"
    }
   ],
   "source": [
    "sentence_generation('졸리다.')"
   ]
  },
  {
   "cell_type": "code",
   "execution_count": 45,
   "id": "098d805a",
   "metadata": {},
   "outputs": [
    {
     "name": "stdout",
     "output_type": "stream",
     "text": [
      "입력 : 배고파 죽겠어\n",
      "출력 : 뭐 좀 챙겨드세요\n"
     ]
    },
    {
     "data": {
      "text/plain": [
       "'뭐 좀 챙겨드세요'"
      ]
     },
     "execution_count": 45,
     "metadata": {},
     "output_type": "execute_result"
    }
   ],
   "source": [
    "sentence_generation('배고파 죽겠어')"
   ]
  },
  {
   "cell_type": "code",
   "execution_count": 46,
   "id": "6e8689e6",
   "metadata": {},
   "outputs": [
    {
     "name": "stdout",
     "output_type": "stream",
     "text": [
      "입력 : 배고파 죽겠다\n",
      "출력 : 뭐 좀 챙겨드세요\n"
     ]
    },
    {
     "data": {
      "text/plain": [
       "'뭐 좀 챙겨드세요'"
      ]
     },
     "execution_count": 46,
     "metadata": {},
     "output_type": "execute_result"
    }
   ],
   "source": [
    "sentence_generation('배고파 죽겠다')"
   ]
  },
  {
   "cell_type": "code",
   "execution_count": 47,
   "id": "24e6a0be",
   "metadata": {
    "scrolled": false
   },
   "outputs": [
    {
     "name": "stdout",
     "output_type": "stream",
     "text": [
      "입력 : 합격했어!\n",
      "출력 : 좋은 사회생활의 밑거름이 되길 바랍니다\n"
     ]
    },
    {
     "data": {
      "text/plain": [
       "'좋은 사회생활의 밑거름이 되길 바랍니다'"
      ]
     },
     "execution_count": 47,
     "metadata": {},
     "output_type": "execute_result"
    }
   ],
   "source": [
    "sentence_generation('합격했어!')"
   ]
  },
  {
   "cell_type": "code",
   "execution_count": 48,
   "id": "d74a6337",
   "metadata": {
    "scrolled": true
   },
   "outputs": [
    {
     "name": "stdout",
     "output_type": "stream",
     "text": [
      "입력 : 내일 기말고사야\n",
      "출력 : 좋은 시간 보내고 있나봐요\n"
     ]
    },
    {
     "data": {
      "text/plain": [
       "'좋은 시간 보내고 있나봐요'"
      ]
     },
     "execution_count": 48,
     "metadata": {},
     "output_type": "execute_result"
    }
   ],
   "source": [
    "sentence_generation('내일 기말고사야')"
   ]
  },
  {
   "cell_type": "code",
   "execution_count": 49,
   "id": "a8da32a6",
   "metadata": {},
   "outputs": [
    {
     "name": "stdout",
     "output_type": "stream",
     "text": [
      "입력 : 놀고 싶어\n",
      "출력 : 저도요\n"
     ]
    },
    {
     "data": {
      "text/plain": [
       "'저도요'"
      ]
     },
     "execution_count": 49,
     "metadata": {},
     "output_type": "execute_result"
    }
   ],
   "source": [
    "sentence_generation('놀고 싶어')"
   ]
  },
  {
   "cell_type": "code",
   "execution_count": 50,
   "id": "14b6be09",
   "metadata": {},
   "outputs": [
    {
     "name": "stdout",
     "output_type": "stream",
     "text": [
      "입력 : 심심해\n",
      "출력 : 노래 불러 드릴까요   북치기박치기 헥헥\n"
     ]
    },
    {
     "data": {
      "text/plain": [
       "'노래 불러 드릴까요   북치기박치기 헥헥'"
      ]
     },
     "execution_count": 50,
     "metadata": {},
     "output_type": "execute_result"
    }
   ],
   "source": [
    "sentence_generation('심심해')"
   ]
  },
  {
   "cell_type": "code",
   "execution_count": 51,
   "id": "5ea09a74",
   "metadata": {},
   "outputs": [
    {
     "name": "stdout",
     "output_type": "stream",
     "text": [
      "입력 : 심심하다고\n",
      "출력 : 친구들과 연락해보세요\n"
     ]
    },
    {
     "data": {
      "text/plain": [
       "'친구들과 연락해보세요'"
      ]
     },
     "execution_count": 51,
     "metadata": {},
     "output_type": "execute_result"
    }
   ],
   "source": [
    "sentence_generation('심심하다고')"
   ]
  },
  {
   "cell_type": "markdown",
   "id": "b5c34e1c",
   "metadata": {},
   "source": [
    "### - 띄어쓰기가 달라도 특이한 주요 키워드가 포함되어있으면 똑같은 답변을 내놓는다."
   ]
  },
  {
   "cell_type": "code",
   "execution_count": 52,
   "id": "12524cdc",
   "metadata": {
    "scrolled": true
   },
   "outputs": [
    {
     "name": "stdout",
     "output_type": "stream",
     "text": [
      "입력 : 교직이수 하고 싶어\n",
      "출력 : 학점 관리하세요\n"
     ]
    },
    {
     "data": {
      "text/plain": [
       "'학점 관리하세요'"
      ]
     },
     "execution_count": 52,
     "metadata": {},
     "output_type": "execute_result"
    }
   ],
   "source": [
    "sentence_generation('교직이수 하고 싶어')"
   ]
  },
  {
   "cell_type": "code",
   "execution_count": 53,
   "id": "fc7ac1f7",
   "metadata": {
    "scrolled": true
   },
   "outputs": [
    {
     "name": "stdout",
     "output_type": "stream",
     "text": [
      "입력 : 교직이수 하고싶어\n",
      "출력 : 원하는 곳에 취직할 수 있을 거예요\n"
     ]
    },
    {
     "data": {
      "text/plain": [
       "'원하는 곳에 취직할 수 있을 거예요'"
      ]
     },
     "execution_count": 53,
     "metadata": {},
     "output_type": "execute_result"
    }
   ],
   "source": [
    "sentence_generation('교직이수 하고싶어')"
   ]
  },
  {
   "cell_type": "code",
   "execution_count": 54,
   "id": "93cc4646",
   "metadata": {
    "scrolled": true
   },
   "outputs": [
    {
     "name": "stdout",
     "output_type": "stream",
     "text": [
      "입력 : 교직이수 하기 싫어\n",
      "출력 : 학점 관리하세요\n"
     ]
    },
    {
     "data": {
      "text/plain": [
       "'학점 관리하세요'"
      ]
     },
     "execution_count": 54,
     "metadata": {},
     "output_type": "execute_result"
    }
   ],
   "source": [
    "sentence_generation('교직이수 하기 싫어')"
   ]
  },
  {
   "cell_type": "code",
   "execution_count": 55,
   "id": "d3dd4a76",
   "metadata": {},
   "outputs": [
    {
     "name": "stdout",
     "output_type": "stream",
     "text": [
      "입력 : 재밌는 거 뭐 없을까\n",
      "출력 : 제가 있잖아요\n"
     ]
    },
    {
     "data": {
      "text/plain": [
       "'제가 있잖아요'"
      ]
     },
     "execution_count": 55,
     "metadata": {},
     "output_type": "execute_result"
    }
   ],
   "source": [
    "sentence_generation('재밌는 거 뭐 없을까')"
   ]
  },
  {
   "cell_type": "code",
   "execution_count": 56,
   "id": "b07ea0e8",
   "metadata": {},
   "outputs": [
    {
     "name": "stdout",
     "output_type": "stream",
     "text": [
      "입력 : 맛집 알려줘\n",
      "출력 : 벌써 먹고 싶어요\n"
     ]
    },
    {
     "data": {
      "text/plain": [
       "'벌써 먹고 싶어요'"
      ]
     },
     "execution_count": 56,
     "metadata": {},
     "output_type": "execute_result"
    }
   ],
   "source": [
    "sentence_generation('맛집 알려줘')"
   ]
  },
  {
   "cell_type": "code",
   "execution_count": 57,
   "id": "38bcfd5e",
   "metadata": {
    "scrolled": true
   },
   "outputs": [
    {
     "name": "stdout",
     "output_type": "stream",
     "text": [
      "입력 : 졸려\n",
      "출력 : 오늘 일찍 주무세요\n"
     ]
    },
    {
     "data": {
      "text/plain": [
       "'오늘 일찍 주무세요'"
      ]
     },
     "execution_count": 57,
     "metadata": {},
     "output_type": "execute_result"
    }
   ],
   "source": [
    "sentence_generation('졸려')"
   ]
  },
  {
   "cell_type": "code",
   "execution_count": 58,
   "id": "e9ab6213",
   "metadata": {
    "scrolled": false
   },
   "outputs": [
    {
     "name": "stdout",
     "output_type": "stream",
     "text": [
      "입력 : 치킨 먹고 싶어\n",
      "출력 : 맛있게 드세요\n"
     ]
    },
    {
     "data": {
      "text/plain": [
       "'맛있게 드세요'"
      ]
     },
     "execution_count": 58,
     "metadata": {},
     "output_type": "execute_result"
    }
   ],
   "source": [
    "sentence_generation('치킨 먹고 싶어')"
   ]
  },
  {
   "cell_type": "code",
   "execution_count": 59,
   "id": "c7298de4",
   "metadata": {},
   "outputs": [
    {
     "name": "stdout",
     "output_type": "stream",
     "text": [
      "입력 : 허리 아파\n",
      "출력 : 운동 해보는 것도 좋을 거예요\n"
     ]
    },
    {
     "data": {
      "text/plain": [
       "'운동 해보는 것도 좋을 거예요'"
      ]
     },
     "execution_count": 59,
     "metadata": {},
     "output_type": "execute_result"
    }
   ],
   "source": [
    "sentence_generation('허리 아파')"
   ]
  },
  {
   "cell_type": "code",
   "execution_count": 60,
   "id": "9c9c222c",
   "metadata": {
    "scrolled": true
   },
   "outputs": [
    {
     "name": "stdout",
     "output_type": "stream",
     "text": [
      "입력 : 마카롱 먹고 싶어\n",
      "출력 : 비싸지만 맛있어요\n"
     ]
    },
    {
     "data": {
      "text/plain": [
       "'비싸지만 맛있어요'"
      ]
     },
     "execution_count": 60,
     "metadata": {},
     "output_type": "execute_result"
    }
   ],
   "source": [
    "sentence_generation('마카롱 먹고 싶어')"
   ]
  },
  {
   "cell_type": "code",
   "execution_count": 61,
   "id": "4867edcb",
   "metadata": {},
   "outputs": [
    {
     "name": "stdout",
     "output_type": "stream",
     "text": [
      "입력 : 꺼져\n",
      "출력 : 충전하고 만나요\n"
     ]
    },
    {
     "data": {
      "text/plain": [
       "'충전하고 만나요'"
      ]
     },
     "execution_count": 61,
     "metadata": {},
     "output_type": "execute_result"
    }
   ],
   "source": [
    "sentence_generation('꺼져')"
   ]
  },
  {
   "cell_type": "code",
   "execution_count": 62,
   "id": "79d3730c",
   "metadata": {},
   "outputs": [
    {
     "name": "stdout",
     "output_type": "stream",
     "text": [
      "입력 : 어떻게 나한테 이래\n",
      "출력 : 존재 자체로 큰 힘이 되어주고 있나봅니다\n"
     ]
    },
    {
     "data": {
      "text/plain": [
       "'존재 자체로 큰 힘이 되어주고 있나봅니다'"
      ]
     },
     "execution_count": 62,
     "metadata": {},
     "output_type": "execute_result"
    }
   ],
   "source": [
    "sentence_generation('어떻게 나한테 이래')"
   ]
  },
  {
   "cell_type": "code",
   "execution_count": 63,
   "id": "5f84cce3",
   "metadata": {},
   "outputs": [
    {
     "name": "stdout",
     "output_type": "stream",
     "text": [
      "입력 : 피자 먹고 싶어\n",
      "출력 : 같이 먹어요\n"
     ]
    },
    {
     "data": {
      "text/plain": [
       "'같이 먹어요'"
      ]
     },
     "execution_count": 63,
     "metadata": {},
     "output_type": "execute_result"
    }
   ],
   "source": [
    "sentence_generation('피자 먹고 싶어')"
   ]
  },
  {
   "cell_type": "code",
   "execution_count": 64,
   "id": "6f716d6d",
   "metadata": {},
   "outputs": [
    {
     "name": "stdout",
     "output_type": "stream",
     "text": [
      "입력 : 나 내일 시험이야\n",
      "출력 : 컨디션 조절 하세요\n"
     ]
    },
    {
     "data": {
      "text/plain": [
       "'컨디션 조절 하세요'"
      ]
     },
     "execution_count": 64,
     "metadata": {},
     "output_type": "execute_result"
    }
   ],
   "source": [
    "sentence_generation('나 내일 시험이야')"
   ]
  },
  {
   "cell_type": "code",
   "execution_count": 65,
   "id": "8111d062",
   "metadata": {},
   "outputs": [
    {
     "name": "stdout",
     "output_type": "stream",
     "text": [
      "입력 : 비가 엄청 온다\n",
      "출력 : 우리 마음도 젖어가요\n"
     ]
    },
    {
     "data": {
      "text/plain": [
       "'우리 마음도 젖어가요'"
      ]
     },
     "execution_count": 65,
     "metadata": {},
     "output_type": "execute_result"
    }
   ],
   "source": [
    "sentence_generation('비가 엄청 온다')"
   ]
  },
  {
   "cell_type": "code",
   "execution_count": 66,
   "id": "798db717",
   "metadata": {},
   "outputs": [
    {
     "name": "stdout",
     "output_type": "stream",
     "text": [
      "입력 : 뭔가 술이 땡기네\n",
      "출력 : 혹시 전화를 한 건 아니길 바랍니다\n"
     ]
    },
    {
     "data": {
      "text/plain": [
       "'혹시 전화를 한 건 아니길 바랍니다'"
      ]
     },
     "execution_count": 66,
     "metadata": {},
     "output_type": "execute_result"
    }
   ],
   "source": [
    "sentence_generation('뭔가 술이 땡기네')"
   ]
  },
  {
   "cell_type": "code",
   "execution_count": 67,
   "id": "83873503",
   "metadata": {},
   "outputs": [
    {
     "name": "stdout",
     "output_type": "stream",
     "text": [
      "입력 : 술 마시고 싶다\n",
      "출력 : 같이 마셔요\n"
     ]
    },
    {
     "data": {
      "text/plain": [
       "'같이 마셔요'"
      ]
     },
     "execution_count": 67,
     "metadata": {},
     "output_type": "execute_result"
    }
   ],
   "source": [
    "sentence_generation('술 마시고 싶다')"
   ]
  },
  {
   "cell_type": "code",
   "execution_count": 68,
   "id": "9f5caa85",
   "metadata": {},
   "outputs": [
    {
     "name": "stdout",
     "output_type": "stream",
     "text": [
      "입력 : 카페인 중독인가봐\n",
      "출력 : 가끔 핸드폰없이 살아보세요\n"
     ]
    },
    {
     "data": {
      "text/plain": [
       "'가끔 핸드폰없이 살아보세요'"
      ]
     },
     "execution_count": 68,
     "metadata": {},
     "output_type": "execute_result"
    }
   ],
   "source": [
    "sentence_generation('카페인 중독인가봐')"
   ]
  },
  {
   "cell_type": "code",
   "execution_count": 69,
   "id": "b6624682",
   "metadata": {
    "scrolled": true
   },
   "outputs": [
    {
     "name": "stdout",
     "output_type": "stream",
     "text": [
      "입력 : 꿀꿀하네\n",
      "출력 : 더 좋은 사랑 하셨나봐요\n"
     ]
    },
    {
     "data": {
      "text/plain": [
       "'더 좋은 사랑 하셨나봐요'"
      ]
     },
     "execution_count": 69,
     "metadata": {},
     "output_type": "execute_result"
    }
   ],
   "source": [
    "sentence_generation('꿀꿀하네')"
   ]
  },
  {
   "cell_type": "code",
   "execution_count": 70,
   "id": "94247b36",
   "metadata": {
    "scrolled": true
   },
   "outputs": [
    {
     "name": "stdout",
     "output_type": "stream",
     "text": [
      "입력 : 졸업했다!\n",
      "출력 : 졸업 축하해요\n"
     ]
    },
    {
     "data": {
      "text/plain": [
       "'졸업 축하해요'"
      ]
     },
     "execution_count": 70,
     "metadata": {},
     "output_type": "execute_result"
    }
   ],
   "source": [
    "sentence_generation('졸업했다!')"
   ]
  },
  {
   "cell_type": "code",
   "execution_count": 71,
   "id": "4229dcec",
   "metadata": {
    "scrolled": true
   },
   "outputs": [
    {
     "name": "stdout",
     "output_type": "stream",
     "text": [
      "입력 : 귀가 간지러워\n",
      "출력 : 누가 욕하고 있나봐요\n"
     ]
    },
    {
     "data": {
      "text/plain": [
       "'누가 욕하고 있나봐요'"
      ]
     },
     "execution_count": 71,
     "metadata": {},
     "output_type": "execute_result"
    }
   ],
   "source": [
    "sentence_generation('귀가 간지러워')"
   ]
  },
  {
   "cell_type": "code",
   "execution_count": 72,
   "id": "0a190d09",
   "metadata": {
    "scrolled": true
   },
   "outputs": [
    {
     "name": "stdout",
     "output_type": "stream",
     "text": [
      "입력 : 오늘 같은 날엔\n",
      "출력 : 지금 많이 위축된 상태인 것 같습니다\n"
     ]
    },
    {
     "data": {
      "text/plain": [
       "'지금 많이 위축된 상태인 것 같습니다'"
      ]
     },
     "execution_count": 72,
     "metadata": {},
     "output_type": "execute_result"
    }
   ],
   "source": [
    "sentence_generation('오늘 같은 날엔')"
   ]
  },
  {
   "cell_type": "code",
   "execution_count": 73,
   "id": "d43abed0",
   "metadata": {
    "scrolled": true
   },
   "outputs": [
    {
     "name": "stdout",
     "output_type": "stream",
     "text": [
      "입력 : 공부하기 싫어\n",
      "출력 : 잠시 쉬어도 돼요\n"
     ]
    },
    {
     "data": {
      "text/plain": [
       "'잠시 쉬어도 돼요'"
      ]
     },
     "execution_count": 73,
     "metadata": {},
     "output_type": "execute_result"
    }
   ],
   "source": [
    "sentence_generation('공부하기 싫어')"
   ]
  },
  {
   "cell_type": "code",
   "execution_count": 74,
   "id": "0b81af6f",
   "metadata": {
    "scrolled": false
   },
   "outputs": [
    {
     "name": "stdout",
     "output_type": "stream",
     "text": [
      "입력 : 막걸리엔 파전\n",
      "출력 : 한 잔 드세요\n"
     ]
    },
    {
     "data": {
      "text/plain": [
       "'한 잔 드세요'"
      ]
     },
     "execution_count": 74,
     "metadata": {},
     "output_type": "execute_result"
    }
   ],
   "source": [
    "sentence_generation('막걸리엔 파전')"
   ]
  },
  {
   "cell_type": "markdown",
   "id": "a10309d3",
   "metadata": {},
   "source": [
    "### - 원본 데이터셋과 비슷한 말인 것 같은데도 중간중간 부사어나 어미에 따라 다른 대답을 했다."
   ]
  },
  {
   "cell_type": "markdown",
   "id": "9e4d8e71",
   "metadata": {},
   "source": [
    "## 루브릭 관련 고려한 점\n",
    "\n",
    "**1. 한국어 전처리를 통해 학습 데이터셋을 구축하였다.**\n",
    "\n",
    "- 공백과 특수문자 처리, 토크나이징, 병렬데이터 구축의 과정이 적절히 진행되었다.\n",
    "\n",
    "**2. 트랜스포머 모델을 구현하여 한국어 챗봇 모델 학습을 정상적으로 진행하였다.**\n",
    "\n",
    "- 구현한 트랜스포머 모델이 한국어 병렬 데이터 학습 시 안정적으로 수렴하였다.\n",
    "\n",
    "**3. 한국어 입력문장에 대해 한국어로 답변하는 함수를 구현하였다.**\n",
    "\n",
    "- 한국어 입력문장에 그럴듯한 한국어로 답변을 리턴하였다.\n"
   ]
  },
  {
   "cell_type": "markdown",
   "id": "structural-causing",
   "metadata": {},
   "source": [
    "## 결론 및 회고\n",
    "\n",
    "- 챗봇을 돌리면서 또 느낀건데 에폭 돌리면서 나오는 loss와 accuracy는 정말 부수적인 정보인 것 같다.\n",
    "\n",
    "- 모든 함수는 노드 진행 시 사용한 함수를 그대로 사용했으며, 하이퍼 파라미터 또한 실습과 동일하게 부여했습니다. \n",
    " \n",
    "- batch size=64, epoch = 100, max length = 40으로 진행했습니다. (확실히 에폭 20번 보다 에폭 100번이 결과값이 좋았습니다.)\n",
    " \n",
    "- 한글을 토크나이징할 때 주로 사용하는 형태소 분석기가 아닌 SubwordTextEncoder를 그대로 사용해서 단어장을 생성했는데, 결과를 보면 생각보다 잘 학습 됐음을 알 수 있었습니다. \n",
    "\n",
    "- 물론 모든 문장의 출력이 매끄러운건 아니지만 문장 흐름이 자연스럽습니다. 다만 영어보다 훨씬 적은 양의 데이터셋을 다룰 수 밖에 없어 아쉽습니다. 대화 형식의 데이터를 어떻게 모을 수 있을지 고민해보게 됩니다.      \n",
    "\n",
    "- 출력 답변을 보니 전처리 과정에서 . 앞에 띄어쓰기가 포함되어 있는데 출력시 이부분을 다시 붙이는 게 좋을 듯하다.\n",
    "- 결과값이 잘 나왔다고 느끼고 뭔가 해낸 것 같아 뿌듯하다.learning_rate = CustomSchedule(D_MODEL)\n",
    "\n",
    "- 이번 학습에서는 트랜스포머라는 모델을 설계하는 것 보다는 이해하는 과정이 더 오래 걸렸습니다. 어텐션과 트랜스포머 모델을 더욱 완벽하게 이해해서 다른 응용에도 적용하고 싶습니다.  "
   ]
  },
  {
   "cell_type": "markdown",
   "id": "c937120e",
   "metadata": {
    "id": "J8SXcCEHoCQk"
   },
   "source": [
    "# 참고 자료\n",
    "- [트랜스포머를 이용한 한국어 챗봇(Transformer Chatbot Tutorial)](https://wikidocs.net/89786)\n",
    "- [jiho-mlWeek 25 - NLP의 옵티머스 프라임, Transformer 등장!](https://jiho-ml.com/weekly-nlp-25/)\n",
    "- [시퀀스-투-시퀀스(Sequence-to-Sequence, seq2seq)](https://wikidocs.net/24996)\n",
    "- [바다나우 어텐션 함수(Bahdanau Attention Function)](https://wikidocs.net/73161)\n",
    "- [트랜스포머를 이용한 한국어 챗봇(Transformer Chatbot Tutorial)](https://wikidocs.net/89786)"
   ]
  }
 ],
 "metadata": {
  "kernelspec": {
   "display_name": "Python 3 (ipykernel)",
   "language": "python",
   "name": "python3"
  },
  "language_info": {
   "codemirror_mode": {
    "name": "ipython",
    "version": 3
   },
   "file_extension": ".py",
   "mimetype": "text/x-python",
   "name": "python",
   "nbconvert_exporter": "python",
   "pygments_lexer": "ipython3",
   "version": "3.9.7"
  }
 },
 "nbformat": 4,
 "nbformat_minor": 5
}
