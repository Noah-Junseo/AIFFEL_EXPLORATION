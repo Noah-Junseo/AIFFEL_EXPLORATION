{
 "cells": [
  {
   "cell_type": "markdown",
   "id": "sized-links",
   "metadata": {},
   "source": [
    "## 프로젝트 - Movielens 영화 추천 실습"
   ]
  },
  {
   "cell_type": "markdown",
   "id": "rubber-separate",
   "metadata": {},
   "source": [
    "---"
   ]
  },
  {
   "cell_type": "markdown",
   "id": "numerical-constraint",
   "metadata": {},
   "source": [
    "### 평가기준\n",
    "\n",
    "아래의 기준을 바탕으로 프로젝트를 평가합니다.\n",
    "\n",
    "\n",
    "|평가문항|\t상세기준|\n",
    "|:------|:--------|\n",
    "|1. CSR matrix가 정상적으로 만들어졌다.| 사용자와 아이템 개수를 바탕으로 정확한 사이즈로 만들었다.|\n",
    "|2. MF 모델이 정상적으로 훈련되어 그럴듯한 추천이 이루어졌다.| 사용자와 아이템 벡터 내적수치가 의미있게 형성되었다.|\n",
    "|3. 비슷한 영화 찾기와 유저에게 추천하기의 과정이 정상적으로 진행되었다. |MF모델이 예측한 유저 선호도 및 아이템간 유사도, 기여도가 의미있게 측정되었다.|"
   ]
  },
  {
   "cell_type": "markdown",
   "id": "186841d3",
   "metadata": {},
   "source": [
    "### [학습 과정]  \n",
    "\n",
    "1) 데이터 준비와 전처리  \n",
    "2) 분석해 봅시다  \n",
    "   * ratings에 있는 유니크한 영화 개수  \n",
    "   * rating에 있는 유니크한 사용자 수  \n",
    "   * 가장 인기 있는 영화 30개(인기순)    \n",
    "   \n",
    "3) 내가 선호하는 영화를 5가지 골라서 rating에 추가해 줍시다.  \n",
    "4) CSR matrix를 직접 만들어 봅시다.  \n",
    "5) als_model = AlternatingLeastSquares 모델을 직접 구성하여 훈련시켜 봅시다.  \n",
    "6) 내가 선호하는 5가지 영화 중 하나와 그 외의 영화 하나를 골라 훈련된 모델이 예측한 나의 선호도를 파악해 보세요.  \n",
    "7) 내가 좋아하는 영화와 비슷한 영화를 추천받아 봅시다.  \n",
    "8) 내가 가장 좋아할 만한 영화들을 추천받아 봅시다.   \n",
    "\n",
    "### [결과 및 회고]"
   ]
  },
  {
   "cell_type": "markdown",
   "id": "social-affairs",
   "metadata": {},
   "source": [
    "## 1. Problem Definition\n",
    "---\n",
    "\n",
    "MovieLens 1M Dataset을 사용하여 영화 추천시스템을 만들어보자!\n",
    "\n",
    "Movielens 데이터는 rating.dat 안에 이미 인덱싱까지 완료된 사용자-영화-평점 데이터가 깔끔하게 정리되어 있습니다.\n",
    "\n",
    "데이터에 대한 보다 자세한 설명은 [MovieLens README](https://files.grouplens.org/datasets/movielens/ml-1m-README.txt)에서 확인 해주세요!"
   ]
  },
  {
   "cell_type": "markdown",
   "id": "chronic-struggle",
   "metadata": {},
   "source": [
    "## 2. Import necessary Libraries\n",
    "---\n",
    "\n",
    "####  ratings.dat\n",
    "\n",
    "```\n",
    "user_id, movie_id, rating, timestamp을 컬럼으로 가지는 데이터를 \n",
    "pd.read_csv(rating_file_path, sep='::', names=ratings_cols, engine='python', encoding = \"ISO-8859-1\")로 저장한다\n",
    "\n",
    "UserID::MovieID::Rating::Timestamp\n",
    "\n",
    "- UserIDs range between 1 and 6040 \n",
    "- MovieIDs range between 1 and 3952\n",
    "- Ratings are made on a 5-star scale (whole-star ratings only)\n",
    "- Timestamp is represented in seconds since the epoch as returned by time(2)\n",
    "- Each user has at least 20 ratings\n",
    "\n",
    "```\n",
    "\n",
    "#### movies.dat \n",
    "\n",
    "```\n",
    "movie_id, title, genre를 담고 있는 데이터로 위와 마찬가지로 \n",
    "pd.read_csv(movie_file_path, sep='::', names=cols, engine='python', encoding='ISO-8859-1')를 통해 데이터를 저장한다.\n",
    "\n",
    "MovieID::Title::Genres\n",
    "\n",
    "- Titles are identical to titles provided by the IMDB (including year of release)\n",
    "- Genres are pipe-separated(|) and are selected from the following genres:\n",
    "\n",
    "\t* Action\n",
    "\t* Adventure\n",
    "\t* Animation\n",
    "\t* Children's\n",
    "\t* Comedy\n",
    "\t* Crime\n",
    "\t* Documentary\n",
    "\t* Drama\n",
    "\t* Fantasy\n",
    "\t* Film-Noir\n",
    "\t* Horror\n",
    "\t* Musical\n",
    "\t* Mystery\n",
    "\t* Romance\n",
    "\t* Sci-Fi\n",
    "\t* Thriller\n",
    "\t* War\n",
    "\t* Western\n",
    "```"
   ]
  },
  {
   "cell_type": "code",
   "execution_count": 1,
   "id": "aerial-louisville",
   "metadata": {},
   "outputs": [],
   "source": [
    "import time\n",
    "start_time = time.time()\n",
    "\n",
    "\n",
    "import os\n",
    "import numpy as np\n",
    "import pandas as pd\n",
    "from scipy.sparse import csr_matrix\n",
    "from implicit.als import AlternatingLeastSquares"
   ]
  },
  {
   "cell_type": "code",
   "execution_count": 2,
   "id": "revolutionary-afternoon",
   "metadata": {},
   "outputs": [
    {
     "data": {
      "text/html": [
       "<div>\n",
       "<style scoped>\n",
       "    .dataframe tbody tr th:only-of-type {\n",
       "        vertical-align: middle;\n",
       "    }\n",
       "\n",
       "    .dataframe tbody tr th {\n",
       "        vertical-align: top;\n",
       "    }\n",
       "\n",
       "    .dataframe thead th {\n",
       "        text-align: right;\n",
       "    }\n",
       "</style>\n",
       "<table border=\"1\" class=\"dataframe\">\n",
       "  <thead>\n",
       "    <tr style=\"text-align: right;\">\n",
       "      <th></th>\n",
       "      <th>user_id</th>\n",
       "      <th>movie_id</th>\n",
       "      <th>rating</th>\n",
       "      <th>timestamp</th>\n",
       "    </tr>\n",
       "  </thead>\n",
       "  <tbody>\n",
       "    <tr>\n",
       "      <th>0</th>\n",
       "      <td>1</td>\n",
       "      <td>1193</td>\n",
       "      <td>5</td>\n",
       "      <td>978300760</td>\n",
       "    </tr>\n",
       "    <tr>\n",
       "      <th>1</th>\n",
       "      <td>1</td>\n",
       "      <td>661</td>\n",
       "      <td>3</td>\n",
       "      <td>978302109</td>\n",
       "    </tr>\n",
       "    <tr>\n",
       "      <th>2</th>\n",
       "      <td>1</td>\n",
       "      <td>914</td>\n",
       "      <td>3</td>\n",
       "      <td>978301968</td>\n",
       "    </tr>\n",
       "    <tr>\n",
       "      <th>3</th>\n",
       "      <td>1</td>\n",
       "      <td>3408</td>\n",
       "      <td>4</td>\n",
       "      <td>978300275</td>\n",
       "    </tr>\n",
       "    <tr>\n",
       "      <th>4</th>\n",
       "      <td>1</td>\n",
       "      <td>2355</td>\n",
       "      <td>5</td>\n",
       "      <td>978824291</td>\n",
       "    </tr>\n",
       "  </tbody>\n",
       "</table>\n",
       "</div>"
      ],
      "text/plain": [
       "   user_id  movie_id  rating  timestamp\n",
       "0        1      1193       5  978300760\n",
       "1        1       661       3  978302109\n",
       "2        1       914       3  978301968\n",
       "3        1      3408       4  978300275\n",
       "4        1      2355       5  978824291"
      ]
     },
     "execution_count": 2,
     "metadata": {},
     "output_type": "execute_result"
    }
   ],
   "source": [
    "rating_file_path='C:/Users/Noah/aiffel/E14 Recommendation Music/recommendata_iu/data/ml-1m/ratings.dat'\n",
    "ratings_cols = ['user_id', 'movie_id', 'rating', 'timestamp']\n",
    "ratings = pd.read_csv(rating_file_path, sep='::', names=ratings_cols, engine='python', encoding = \"ISO-8859-1\")\n",
    "orginal_data_size = len(ratings)\n",
    "ratings.head()"
   ]
  },
  {
   "cell_type": "code",
   "execution_count": 3,
   "id": "continental-baking",
   "metadata": {},
   "outputs": [
    {
     "name": "stdout",
     "output_type": "stream",
     "text": [
      "orginal_data_size: 1000209, filtered_data_size: 836478\n",
      "Ratio of Remaining Data is 83.63%\n"
     ]
    }
   ],
   "source": [
    "# 유저가 3점 미만으로 준 데이터는 선호하지 않는다고 가정하고 3점 이상만 남깁니다.\n",
    "ratings = ratings[ratings['rating']>=3]\n",
    "filtered_data_size = len(ratings)\n",
    "\n",
    "print(f'orginal_data_size: {orginal_data_size}, filtered_data_size: {filtered_data_size}')\n",
    "print(f'Ratio of Remaining Data is {filtered_data_size / orginal_data_size:.2%}')"
   ]
  },
  {
   "cell_type": "code",
   "execution_count": 4,
   "id": "prepared-bible",
   "metadata": {},
   "outputs": [
    {
     "data": {
      "text/html": [
       "<div>\n",
       "<style scoped>\n",
       "    .dataframe tbody tr th:only-of-type {\n",
       "        vertical-align: middle;\n",
       "    }\n",
       "\n",
       "    .dataframe tbody tr th {\n",
       "        vertical-align: top;\n",
       "    }\n",
       "\n",
       "    .dataframe thead th {\n",
       "        text-align: right;\n",
       "    }\n",
       "</style>\n",
       "<table border=\"1\" class=\"dataframe\">\n",
       "  <thead>\n",
       "    <tr style=\"text-align: right;\">\n",
       "      <th></th>\n",
       "      <th>user_id</th>\n",
       "      <th>movie_id</th>\n",
       "      <th>rating</th>\n",
       "    </tr>\n",
       "  </thead>\n",
       "  <tbody>\n",
       "    <tr>\n",
       "      <th>0</th>\n",
       "      <td>1</td>\n",
       "      <td>1193</td>\n",
       "      <td>5</td>\n",
       "    </tr>\n",
       "    <tr>\n",
       "      <th>1</th>\n",
       "      <td>1</td>\n",
       "      <td>661</td>\n",
       "      <td>3</td>\n",
       "    </tr>\n",
       "    <tr>\n",
       "      <th>2</th>\n",
       "      <td>1</td>\n",
       "      <td>914</td>\n",
       "      <td>3</td>\n",
       "    </tr>\n",
       "    <tr>\n",
       "      <th>3</th>\n",
       "      <td>1</td>\n",
       "      <td>3408</td>\n",
       "      <td>4</td>\n",
       "    </tr>\n",
       "    <tr>\n",
       "      <th>4</th>\n",
       "      <td>1</td>\n",
       "      <td>2355</td>\n",
       "      <td>5</td>\n",
       "    </tr>\n",
       "  </tbody>\n",
       "</table>\n",
       "</div>"
      ],
      "text/plain": [
       "   user_id  movie_id  rating\n",
       "0        1      1193       5\n",
       "1        1       661       3\n",
       "2        1       914       3\n",
       "3        1      3408       4\n",
       "4        1      2355       5"
      ]
     },
     "execution_count": 4,
     "metadata": {},
     "output_type": "execute_result"
    }
   ],
   "source": [
    "# 사용하는 컬럼만 남겨줍니다.\n",
    "using_cols = ['user_id', 'movie_id', 'rating'] # timestamp 항목은 불필요하여 제거\n",
    "ratings = ratings[using_cols]\n",
    "ratings.head()"
   ]
  },
  {
   "cell_type": "code",
   "execution_count": 5,
   "id": "digital-africa",
   "metadata": {},
   "outputs": [],
   "source": [
    "# rating 컬럼의 이름을 count로 바꿉니다.\n",
    "ratings.rename(columns={'rating':'count'}, inplace=True)"
   ]
  },
  {
   "cell_type": "code",
   "execution_count": 6,
   "id": "medium-madison",
   "metadata": {
    "scrolled": true
   },
   "outputs": [
    {
     "data": {
      "text/plain": [
       "0          5\n",
       "1          3\n",
       "2          3\n",
       "3          4\n",
       "4          5\n",
       "          ..\n",
       "1000203    3\n",
       "1000205    5\n",
       "1000206    5\n",
       "1000207    4\n",
       "1000208    4\n",
       "Name: count, Length: 836478, dtype: int64"
      ]
     },
     "execution_count": 6,
     "metadata": {},
     "output_type": "execute_result"
    }
   ],
   "source": [
    "ratings['count']"
   ]
  },
  {
   "cell_type": "code",
   "execution_count": 7,
   "id": "optimum-drill",
   "metadata": {},
   "outputs": [
    {
     "data": {
      "text/html": [
       "<div>\n",
       "<style scoped>\n",
       "    .dataframe tbody tr th:only-of-type {\n",
       "        vertical-align: middle;\n",
       "    }\n",
       "\n",
       "    .dataframe tbody tr th {\n",
       "        vertical-align: top;\n",
       "    }\n",
       "\n",
       "    .dataframe thead th {\n",
       "        text-align: right;\n",
       "    }\n",
       "</style>\n",
       "<table border=\"1\" class=\"dataframe\">\n",
       "  <thead>\n",
       "    <tr style=\"text-align: right;\">\n",
       "      <th></th>\n",
       "      <th>movie_id</th>\n",
       "      <th>title</th>\n",
       "      <th>genre</th>\n",
       "    </tr>\n",
       "  </thead>\n",
       "  <tbody>\n",
       "    <tr>\n",
       "      <th>0</th>\n",
       "      <td>1</td>\n",
       "      <td>Toy Story (1995)</td>\n",
       "      <td>Animation|Children's|Comedy</td>\n",
       "    </tr>\n",
       "    <tr>\n",
       "      <th>1</th>\n",
       "      <td>2</td>\n",
       "      <td>Jumanji (1995)</td>\n",
       "      <td>Adventure|Children's|Fantasy</td>\n",
       "    </tr>\n",
       "    <tr>\n",
       "      <th>2</th>\n",
       "      <td>3</td>\n",
       "      <td>Grumpier Old Men (1995)</td>\n",
       "      <td>Comedy|Romance</td>\n",
       "    </tr>\n",
       "    <tr>\n",
       "      <th>3</th>\n",
       "      <td>4</td>\n",
       "      <td>Waiting to Exhale (1995)</td>\n",
       "      <td>Comedy|Drama</td>\n",
       "    </tr>\n",
       "    <tr>\n",
       "      <th>4</th>\n",
       "      <td>5</td>\n",
       "      <td>Father of the Bride Part II (1995)</td>\n",
       "      <td>Comedy</td>\n",
       "    </tr>\n",
       "  </tbody>\n",
       "</table>\n",
       "</div>"
      ],
      "text/plain": [
       "   movie_id                               title                         genre\n",
       "0         1                    Toy Story (1995)   Animation|Children's|Comedy\n",
       "1         2                      Jumanji (1995)  Adventure|Children's|Fantasy\n",
       "2         3             Grumpier Old Men (1995)                Comedy|Romance\n",
       "3         4            Waiting to Exhale (1995)                  Comedy|Drama\n",
       "4         5  Father of the Bride Part II (1995)                        Comedy"
      ]
     },
     "execution_count": 7,
     "metadata": {},
     "output_type": "execute_result"
    }
   ],
   "source": [
    "# 영화 제목을 보기 위해 메타 데이터를 읽어옵니다.\n",
    "movie_file_path='C:/Users/Noah/aiffel/E14 Recommendation Music/recommendata_iu/data/ml-1m/movies.dat'\n",
    "cols = ['movie_id', 'title', 'genre'] \n",
    "movies = pd.read_csv(movie_file_path, sep='::', names=cols, engine='python', encoding='ISO-8859-1')\n",
    "movies.head()"
   ]
  },
  {
   "cell_type": "code",
   "execution_count": 8,
   "id": "purple-heather",
   "metadata": {},
   "outputs": [
    {
     "data": {
      "text/html": [
       "<div>\n",
       "<style scoped>\n",
       "    .dataframe tbody tr th:only-of-type {\n",
       "        vertical-align: middle;\n",
       "    }\n",
       "\n",
       "    .dataframe tbody tr th {\n",
       "        vertical-align: top;\n",
       "    }\n",
       "\n",
       "    .dataframe thead th {\n",
       "        text-align: right;\n",
       "    }\n",
       "</style>\n",
       "<table border=\"1\" class=\"dataframe\">\n",
       "  <thead>\n",
       "    <tr style=\"text-align: right;\">\n",
       "      <th></th>\n",
       "      <th>movie_id</th>\n",
       "      <th>title</th>\n",
       "      <th>genre</th>\n",
       "    </tr>\n",
       "  </thead>\n",
       "  <tbody>\n",
       "    <tr>\n",
       "      <th>3878</th>\n",
       "      <td>3948</td>\n",
       "      <td>Meet the Parents (2000)</td>\n",
       "      <td>Comedy</td>\n",
       "    </tr>\n",
       "    <tr>\n",
       "      <th>3879</th>\n",
       "      <td>3949</td>\n",
       "      <td>Requiem for a Dream (2000)</td>\n",
       "      <td>Drama</td>\n",
       "    </tr>\n",
       "    <tr>\n",
       "      <th>3880</th>\n",
       "      <td>3950</td>\n",
       "      <td>Tigerland (2000)</td>\n",
       "      <td>Drama</td>\n",
       "    </tr>\n",
       "    <tr>\n",
       "      <th>3881</th>\n",
       "      <td>3951</td>\n",
       "      <td>Two Family House (2000)</td>\n",
       "      <td>Drama</td>\n",
       "    </tr>\n",
       "    <tr>\n",
       "      <th>3882</th>\n",
       "      <td>3952</td>\n",
       "      <td>Contender, The (2000)</td>\n",
       "      <td>Drama|Thriller</td>\n",
       "    </tr>\n",
       "  </tbody>\n",
       "</table>\n",
       "</div>"
      ],
      "text/plain": [
       "      movie_id                       title           genre\n",
       "3878      3948     Meet the Parents (2000)          Comedy\n",
       "3879      3949  Requiem for a Dream (2000)           Drama\n",
       "3880      3950            Tigerland (2000)           Drama\n",
       "3881      3951     Two Family House (2000)           Drama\n",
       "3882      3952       Contender, The (2000)  Drama|Thriller"
      ]
     },
     "execution_count": 8,
     "metadata": {},
     "output_type": "execute_result"
    }
   ],
   "source": [
    "# movie_id는 3952까지 존재\n",
    "movies.tail()"
   ]
  },
  {
   "cell_type": "code",
   "execution_count": 9,
   "id": "interesting-dividend",
   "metadata": {
    "scrolled": true
   },
   "outputs": [],
   "source": [
    "# 사용하는 컬럼만 남겨줍니다.\n",
    "#using_cols = ['movie_id', 'title']  # genre 항목은 불필요하면 제거\n",
    "#movies = movies[using_cols]\n",
    "#ovies.head()"
   ]
  },
  {
   "cell_type": "markdown",
   "id": "developmental-pharmaceutical",
   "metadata": {},
   "source": [
    "### 분석해 봅시다."
   ]
  },
  {
   "cell_type": "code",
   "execution_count": 10,
   "id": "ahead-token",
   "metadata": {},
   "outputs": [
    {
     "data": {
      "text/html": [
       "<div>\n",
       "<style scoped>\n",
       "    .dataframe tbody tr th:only-of-type {\n",
       "        vertical-align: middle;\n",
       "    }\n",
       "\n",
       "    .dataframe tbody tr th {\n",
       "        vertical-align: top;\n",
       "    }\n",
       "\n",
       "    .dataframe thead th {\n",
       "        text-align: right;\n",
       "    }\n",
       "</style>\n",
       "<table border=\"1\" class=\"dataframe\">\n",
       "  <thead>\n",
       "    <tr style=\"text-align: right;\">\n",
       "      <th></th>\n",
       "      <th>user_id</th>\n",
       "      <th>movie_id</th>\n",
       "      <th>count</th>\n",
       "      <th>title</th>\n",
       "      <th>genre</th>\n",
       "    </tr>\n",
       "  </thead>\n",
       "  <tbody>\n",
       "    <tr>\n",
       "      <th>0</th>\n",
       "      <td>1</td>\n",
       "      <td>1193</td>\n",
       "      <td>5</td>\n",
       "      <td>One Flew Over the Cuckoo's Nest (1975)</td>\n",
       "      <td>Drama</td>\n",
       "    </tr>\n",
       "    <tr>\n",
       "      <th>1</th>\n",
       "      <td>1</td>\n",
       "      <td>661</td>\n",
       "      <td>3</td>\n",
       "      <td>James and the Giant Peach (1996)</td>\n",
       "      <td>Animation|Children's|Musical</td>\n",
       "    </tr>\n",
       "    <tr>\n",
       "      <th>2</th>\n",
       "      <td>1</td>\n",
       "      <td>914</td>\n",
       "      <td>3</td>\n",
       "      <td>My Fair Lady (1964)</td>\n",
       "      <td>Musical|Romance</td>\n",
       "    </tr>\n",
       "    <tr>\n",
       "      <th>3</th>\n",
       "      <td>1</td>\n",
       "      <td>3408</td>\n",
       "      <td>4</td>\n",
       "      <td>Erin Brockovich (2000)</td>\n",
       "      <td>Drama</td>\n",
       "    </tr>\n",
       "    <tr>\n",
       "      <th>4</th>\n",
       "      <td>1</td>\n",
       "      <td>2355</td>\n",
       "      <td>5</td>\n",
       "      <td>Bug's Life, A (1998)</td>\n",
       "      <td>Animation|Children's|Comedy</td>\n",
       "    </tr>\n",
       "  </tbody>\n",
       "</table>\n",
       "</div>"
      ],
      "text/plain": [
       "   user_id  movie_id  count                                   title  \\\n",
       "0        1      1193      5  One Flew Over the Cuckoo's Nest (1975)   \n",
       "1        1       661      3        James and the Giant Peach (1996)   \n",
       "2        1       914      3                     My Fair Lady (1964)   \n",
       "3        1      3408      4                  Erin Brockovich (2000)   \n",
       "4        1      2355      5                    Bug's Life, A (1998)   \n",
       "\n",
       "                          genre  \n",
       "0                         Drama  \n",
       "1  Animation|Children's|Musical  \n",
       "2               Musical|Romance  \n",
       "3                         Drama  \n",
       "4   Animation|Children's|Comedy  "
      ]
     },
     "execution_count": 10,
     "metadata": {},
     "output_type": "execute_result"
    }
   ],
   "source": [
    "# 분석을 위해 데이터를 병합합니다.\n",
    "df = movies.set_index(\"movie_id\") # movie_id를 인덱스로 지정합니다.\n",
    "ratings = ratings.join(df, on = \"movie_id\") # movie_id를 기준으로 데이터를 병합합니다.\n",
    "\n",
    "ratings.head()"
   ]
  },
  {
   "cell_type": "code",
   "execution_count": 11,
   "id": "filled-border",
   "metadata": {
    "scrolled": true
   },
   "outputs": [
    {
     "name": "stdout",
     "output_type": "stream",
     "text": [
      "ratings에 있는 유니크한 영화 개수: 3628\n"
     ]
    }
   ],
   "source": [
    "# ratings에 있는 유니크한 영화 수\n",
    "movie_unique = ratings['title'].nunique()\n",
    "print('ratings에 있는 유니크한 영화 개수: {}'.format(movie_unique))"
   ]
  },
  {
   "cell_type": "code",
   "execution_count": 12,
   "id": "enclosed-separation",
   "metadata": {},
   "outputs": [
    {
     "name": "stdout",
     "output_type": "stream",
     "text": [
      "ratings에 있는 유니크한 사용자 수: 6039\n"
     ]
    }
   ],
   "source": [
    "# 유저 수 확인\n",
    "user_unique = ratings['user_id'].nunique()\n",
    "print('ratings에 있는 유니크한 사용자 수: {}'.format(user_unique))"
   ]
  },
  {
   "cell_type": "code",
   "execution_count": 13,
   "id": "tamil-melissa",
   "metadata": {
    "scrolled": true
   },
   "outputs": [
    {
     "name": "stdout",
     "output_type": "stream",
     "text": [
      "가장 인기 있는 영화 30개(인기순):\n",
      " title\n",
      "American Beauty (1999)                                   3211\n",
      "Star Wars: Episode IV - A New Hope (1977)                2910\n",
      "Star Wars: Episode V - The Empire Strikes Back (1980)    2885\n",
      "Star Wars: Episode VI - Return of the Jedi (1983)        2716\n",
      "Saving Private Ryan (1998)                               2561\n",
      "Terminator 2: Judgment Day (1991)                        2509\n",
      "Silence of the Lambs, The (1991)                         2498\n",
      "Raiders of the Lost Ark (1981)                           2473\n",
      "Back to the Future (1985)                                2460\n",
      "Matrix, The (1999)                                       2434\n",
      "Jurassic Park (1993)                                     2413\n",
      "Sixth Sense, The (1999)                                  2385\n",
      "Fargo (1996)                                             2371\n",
      "Braveheart (1995)                                        2314\n",
      "Men in Black (1997)                                      2297\n",
      "Schindler's List (1993)                                  2257\n",
      "Princess Bride, The (1987)                               2252\n",
      "Shakespeare in Love (1998)                               2213\n",
      "L.A. Confidential (1997)                                 2210\n",
      "Shawshank Redemption, The (1994)                         2194\n",
      "Godfather, The (1972)                                    2167\n",
      "Groundhog Day (1993)                                     2121\n",
      "E.T. the Extra-Terrestrial (1982)                        2102\n",
      "Being John Malkovich (1999)                              2066\n",
      "Ghostbusters (1984)                                      2051\n",
      "Pulp Fiction (1994)                                      2030\n",
      "Forrest Gump (1994)                                      2022\n",
      "Terminator, The (1984)                                   2019\n",
      "Toy Story (1995)                                         2000\n",
      "Fugitive, The (1993)                                     1941\n",
      "Name: user_id, dtype: int64\n"
     ]
    }
   ],
   "source": [
    "# 가장 인기 있는 영화 30개\n",
    "popular_movies = ratings.groupby('title')['user_id'].count().sort_values(ascending=False).head(30)\n",
    "print('가장 인기 있는 영화 30개(인기순):\\n {}'.format(popular_movies))"
   ]
  },
  {
   "cell_type": "markdown",
   "id": "british-october",
   "metadata": {},
   "source": [
    "- 가장 인기 있는 영화가 아메리칸뷰티이다.\n",
    "- 영화가 나온 연도를 보면 데이터가 90년대 중심인 것을 알 수 있다."
   ]
  },
  {
   "cell_type": "code",
   "execution_count": 14,
   "id": "russian-bishop",
   "metadata": {},
   "outputs": [
    {
     "data": {
      "text/html": [
       "<div>\n",
       "<style scoped>\n",
       "    .dataframe tbody tr th:only-of-type {\n",
       "        vertical-align: middle;\n",
       "    }\n",
       "\n",
       "    .dataframe tbody tr th {\n",
       "        vertical-align: top;\n",
       "    }\n",
       "\n",
       "    .dataframe thead th {\n",
       "        text-align: right;\n",
       "    }\n",
       "</style>\n",
       "<table border=\"1\" class=\"dataframe\">\n",
       "  <thead>\n",
       "    <tr style=\"text-align: right;\">\n",
       "      <th></th>\n",
       "      <th>user_id</th>\n",
       "      <th>movie_id</th>\n",
       "      <th>count</th>\n",
       "      <th>title</th>\n",
       "      <th>genre</th>\n",
       "    </tr>\n",
       "  </thead>\n",
       "  <tbody>\n",
       "    <tr>\n",
       "      <th>0</th>\n",
       "      <td>1</td>\n",
       "      <td>1193</td>\n",
       "      <td>5</td>\n",
       "      <td>One Flew Over the Cuckoo's Nest (1975)</td>\n",
       "      <td>Drama</td>\n",
       "    </tr>\n",
       "    <tr>\n",
       "      <th>1</th>\n",
       "      <td>1</td>\n",
       "      <td>661</td>\n",
       "      <td>3</td>\n",
       "      <td>James and the Giant Peach (1996)</td>\n",
       "      <td>Animation|Children's|Musical</td>\n",
       "    </tr>\n",
       "    <tr>\n",
       "      <th>2</th>\n",
       "      <td>1</td>\n",
       "      <td>914</td>\n",
       "      <td>3</td>\n",
       "      <td>My Fair Lady (1964)</td>\n",
       "      <td>Musical|Romance</td>\n",
       "    </tr>\n",
       "    <tr>\n",
       "      <th>3</th>\n",
       "      <td>1</td>\n",
       "      <td>3408</td>\n",
       "      <td>4</td>\n",
       "      <td>Erin Brockovich (2000)</td>\n",
       "      <td>Drama</td>\n",
       "    </tr>\n",
       "    <tr>\n",
       "      <th>4</th>\n",
       "      <td>1</td>\n",
       "      <td>2355</td>\n",
       "      <td>5</td>\n",
       "      <td>Bug's Life, A (1998)</td>\n",
       "      <td>Animation|Children's|Comedy</td>\n",
       "    </tr>\n",
       "    <tr>\n",
       "      <th>...</th>\n",
       "      <td>...</td>\n",
       "      <td>...</td>\n",
       "      <td>...</td>\n",
       "      <td>...</td>\n",
       "      <td>...</td>\n",
       "    </tr>\n",
       "    <tr>\n",
       "      <th>1000203</th>\n",
       "      <td>6040</td>\n",
       "      <td>1090</td>\n",
       "      <td>3</td>\n",
       "      <td>Platoon (1986)</td>\n",
       "      <td>Drama|War</td>\n",
       "    </tr>\n",
       "    <tr>\n",
       "      <th>1000205</th>\n",
       "      <td>6040</td>\n",
       "      <td>1094</td>\n",
       "      <td>5</td>\n",
       "      <td>Crying Game, The (1992)</td>\n",
       "      <td>Drama|Romance|War</td>\n",
       "    </tr>\n",
       "    <tr>\n",
       "      <th>1000206</th>\n",
       "      <td>6040</td>\n",
       "      <td>562</td>\n",
       "      <td>5</td>\n",
       "      <td>Welcome to the Dollhouse (1995)</td>\n",
       "      <td>Comedy|Drama</td>\n",
       "    </tr>\n",
       "    <tr>\n",
       "      <th>1000207</th>\n",
       "      <td>6040</td>\n",
       "      <td>1096</td>\n",
       "      <td>4</td>\n",
       "      <td>Sophie's Choice (1982)</td>\n",
       "      <td>Drama</td>\n",
       "    </tr>\n",
       "    <tr>\n",
       "      <th>1000208</th>\n",
       "      <td>6040</td>\n",
       "      <td>1097</td>\n",
       "      <td>4</td>\n",
       "      <td>E.T. the Extra-Terrestrial (1982)</td>\n",
       "      <td>Children's|Drama|Fantasy|Sci-Fi</td>\n",
       "    </tr>\n",
       "  </tbody>\n",
       "</table>\n",
       "<p>836478 rows × 5 columns</p>\n",
       "</div>"
      ],
      "text/plain": [
       "         user_id  movie_id  count                                   title  \\\n",
       "0              1      1193      5  One Flew Over the Cuckoo's Nest (1975)   \n",
       "1              1       661      3        James and the Giant Peach (1996)   \n",
       "2              1       914      3                     My Fair Lady (1964)   \n",
       "3              1      3408      4                  Erin Brockovich (2000)   \n",
       "4              1      2355      5                    Bug's Life, A (1998)   \n",
       "...          ...       ...    ...                                     ...   \n",
       "1000203     6040      1090      3                          Platoon (1986)   \n",
       "1000205     6040      1094      5                 Crying Game, The (1992)   \n",
       "1000206     6040       562      5         Welcome to the Dollhouse (1995)   \n",
       "1000207     6040      1096      4                  Sophie's Choice (1982)   \n",
       "1000208     6040      1097      4       E.T. the Extra-Terrestrial (1982)   \n",
       "\n",
       "                                   genre  \n",
       "0                                  Drama  \n",
       "1           Animation|Children's|Musical  \n",
       "2                        Musical|Romance  \n",
       "3                                  Drama  \n",
       "4            Animation|Children's|Comedy  \n",
       "...                                  ...  \n",
       "1000203                        Drama|War  \n",
       "1000205                Drama|Romance|War  \n",
       "1000206                     Comedy|Drama  \n",
       "1000207                            Drama  \n",
       "1000208  Children's|Drama|Fantasy|Sci-Fi  \n",
       "\n",
       "[836478 rows x 5 columns]"
      ]
     },
     "execution_count": 14,
     "metadata": {},
     "output_type": "execute_result"
    }
   ],
   "source": [
    "ratings"
   ]
  },
  {
   "cell_type": "code",
   "execution_count": 15,
   "id": "altered-looking",
   "metadata": {
    "scrolled": true
   },
   "outputs": [
    {
     "name": "stdout",
     "output_type": "stream",
     "text": [
      "<class 'pandas.core.frame.DataFrame'>\n",
      "Int64Index: 836478 entries, 0 to 1000208\n",
      "Data columns (total 5 columns):\n",
      " #   Column    Non-Null Count   Dtype \n",
      "---  ------    --------------   ----- \n",
      " 0   user_id   836478 non-null  int64 \n",
      " 1   movie_id  836478 non-null  int64 \n",
      " 2   count     836478 non-null  int64 \n",
      " 3   title     836478 non-null  object\n",
      " 4   genre     836478 non-null  object\n",
      "dtypes: int64(3), object(2)\n",
      "memory usage: 38.3+ MB\n"
     ]
    }
   ],
   "source": [
    "# ratings의 데이터타입 체크\n",
    "ratings.info()"
   ]
  },
  {
   "cell_type": "markdown",
   "id": "following-christmas",
   "metadata": {},
   "source": [
    "## 3. EDA\n",
    "1. Missing Value\n",
    "2. unique genres\n",
    "3. timestamp\n",
    "4. Extracting the year from the Title\n",
    "5. rating"
   ]
  },
  {
   "cell_type": "markdown",
   "id": "solid-legend",
   "metadata": {},
   "source": [
    "### 3.1 Missing Value"
   ]
  },
  {
   "cell_type": "code",
   "execution_count": 16,
   "id": "textile-chart",
   "metadata": {
    "scrolled": true
   },
   "outputs": [
    {
     "data": {
      "text/plain": [
       "user_id     0\n",
       "movie_id    0\n",
       "count       0\n",
       "title       0\n",
       "genre       0\n",
       "dtype: int64"
      ]
     },
     "execution_count": 16,
     "metadata": {},
     "output_type": "execute_result"
    }
   ],
   "source": [
    "# 결측값 존재 여부를 체크해보자\n",
    "ratings.isnull().sum()"
   ]
  },
  {
   "cell_type": "markdown",
   "id": "compliant-packaging",
   "metadata": {},
   "source": [
    "## 3.2 Unique Genre"
   ]
  },
  {
   "cell_type": "code",
   "execution_count": 17,
   "id": "severe-bangladesh",
   "metadata": {},
   "outputs": [
    {
     "data": {
      "text/plain": [
       "['Drama',\n",
       " 'Comedy',\n",
       " 'Horror',\n",
       " 'Comedy|Drama',\n",
       " 'Comedy|Romance',\n",
       " 'Drama|Romance',\n",
       " 'Documentary',\n",
       " 'Thriller',\n",
       " 'Action',\n",
       " 'Drama|Thriller',\n",
       " 'Action|Thriller',\n",
       " \"Children's|Comedy\",\n",
       " 'Crime|Drama',\n",
       " 'Drama|War',\n",
       " 'Romance',\n",
       " 'Action|Drama',\n",
       " \"Animation|Children's\",\n",
       " 'Comedy|Drama|Romance',\n",
       " 'Western',\n",
       " 'Horror|Sci-Fi']"
      ]
     },
     "execution_count": 17,
     "metadata": {},
     "output_type": "execute_result"
    }
   ],
   "source": [
    "# genre는 pipe-separated(|)로 구분 되어있으므로 unique한 genre가 무엇이 있는지 확인해보자\n",
    "genres = list(movies['genre'].value_counts().keys())\n",
    "genres[:20]"
   ]
  },
  {
   "cell_type": "code",
   "execution_count": 18,
   "id": "unlikely-spyware",
   "metadata": {},
   "outputs": [],
   "source": [
    "from collections import Counter\n",
    "\n",
    "result = [] # 중복을 포함해서 genre 출현 빈도를 count\n",
    "for genre in ratings['genre']:\n",
    "    result.extend(genre.split('|'))"
   ]
  },
  {
   "cell_type": "code",
   "execution_count": 19,
   "id": "civil-blair",
   "metadata": {},
   "outputs": [
    {
     "data": {
      "text/plain": [
       "Counter({'Drama': 313261,\n",
       "         'Animation': 37609,\n",
       "         \"Children's\": 57674,\n",
       "         'Musical': 35661,\n",
       "         'Romance': 125927,\n",
       "         'Comedy': 293891,\n",
       "         'Action': 209494,\n",
       "         'Adventure': 108818,\n",
       "         'Fantasy': 29205,\n",
       "         'Sci-Fi': 126089,\n",
       "         'War': 61226,\n",
       "         'Thriller': 158343,\n",
       "         'Crime': 68889,\n",
       "         'Mystery': 34417,\n",
       "         'Western': 17668,\n",
       "         'Horror': 55488,\n",
       "         'Film-Noir': 17166,\n",
       "         'Documentary': 7162})"
      ]
     },
     "execution_count": 19,
     "metadata": {},
     "output_type": "execute_result"
    }
   ],
   "source": [
    "genre_counter = Counter(result)\n",
    "genre_counter"
   ]
  },
  {
   "cell_type": "code",
   "execution_count": 20,
   "id": "protective-yesterday",
   "metadata": {
    "scrolled": true
   },
   "outputs": [
    {
     "data": {
      "text/plain": [
       "[('Drama', 313261),\n",
       " ('Comedy', 293891),\n",
       " ('Action', 209494),\n",
       " ('Thriller', 158343),\n",
       " ('Sci-Fi', 126089),\n",
       " ('Romance', 125927),\n",
       " ('Adventure', 108818),\n",
       " ('Crime', 68889),\n",
       " ('War', 61226),\n",
       " (\"Children's\", 57674),\n",
       " ('Horror', 55488),\n",
       " ('Animation', 37609),\n",
       " ('Musical', 35661),\n",
       " ('Mystery', 34417),\n",
       " ('Fantasy', 29205),\n",
       " ('Western', 17668),\n",
       " ('Film-Noir', 17166),\n",
       " ('Documentary', 7162)]"
      ]
     },
     "execution_count": 20,
     "metadata": {},
     "output_type": "execute_result"
    }
   ],
   "source": [
    "sorted_genre_counter = genre_counter.most_common()\n",
    "sorted_genre_counter"
   ]
  },
  {
   "cell_type": "markdown",
   "id": "figured-wireless",
   "metadata": {},
   "source": [
    "[**Plotly**](https://plotly.com/)를 사용해서 시각화 합니다.\n",
    "\n",
    "```\n",
    "주피터 노트북을 다운받아서 깃허브에 업로드하면, plotly 시각화 플롯이 \n",
    "렌더링이 되지 않습니다. 그래서 로컬에서 시도해봤는데 implicit 라이브러리 설치에러가 발생해서 임시방편으로 시각화 이미지를 저장하여 출력하였습니다.\n",
    "```"
   ]
  },
  {
   "cell_type": "code",
   "execution_count": 21,
   "id": "conditional-scheme",
   "metadata": {},
   "outputs": [
    {
     "name": "stdout",
     "output_type": "stream",
     "text": [
      "Requirement already satisfied: plotly in c:\\users\\noah\\anaconda3\\envs\\aiffel\\lib\\site-packages (5.6.0)\n",
      "Requirement already satisfied: six in c:\\users\\noah\\anaconda3\\envs\\aiffel\\lib\\site-packages (from plotly) (1.16.0)\n",
      "Requirement already satisfied: tenacity>=6.2.0 in c:\\users\\noah\\anaconda3\\envs\\aiffel\\lib\\site-packages (from plotly) (8.0.1)\n"
     ]
    }
   ],
   "source": [
    "!pip install plotly"
   ]
  },
  {
   "cell_type": "code",
   "execution_count": 22,
   "id": "noted-blind",
   "metadata": {
    "scrolled": false
   },
   "outputs": [
    {
     "data": {
      "text/html": [
       "        <script type=\"text/javascript\">\n",
       "        window.PlotlyConfig = {MathJaxConfig: 'local'};\n",
       "        if (window.MathJax) {MathJax.Hub.Config({SVG: {font: \"STIX-Web\"}});}\n",
       "        if (typeof require !== 'undefined') {\n",
       "        require.undef(\"plotly\");\n",
       "        requirejs.config({\n",
       "            paths: {\n",
       "                'plotly': ['https://cdn.plot.ly/plotly-2.9.0.min']\n",
       "            }\n",
       "        });\n",
       "        require(['plotly'], function(Plotly) {\n",
       "            window._Plotly = Plotly;\n",
       "        });\n",
       "        }\n",
       "        </script>\n",
       "        "
      ]
     },
     "metadata": {},
     "output_type": "display_data"
    },
    {
     "data": {
      "text/html": [
       "<div>                            <div id=\"d8d75ff4-559a-4059-9927-6b2c73177eb5\" class=\"plotly-graph-div\" style=\"height:525px; width:100%;\"></div>            <script type=\"text/javascript\">                require([\"plotly\"], function(Plotly) {                    window.PLOTLYENV=window.PLOTLYENV || {};                                    if (document.getElementById(\"d8d75ff4-559a-4059-9927-6b2c73177eb5\")) {                    Plotly.newPlot(                        \"d8d75ff4-559a-4059-9927-6b2c73177eb5\",                        [{\"alignmentgroup\":\"True\",\"hovertemplate\":\"count=%{x}<br>genre=%{y}<extra></extra>\",\"legendgroup\":\"\",\"marker\":{\"color\":\"#636efa\",\"pattern\":{\"shape\":\"\"}},\"name\":\"\",\"offsetgroup\":\"\",\"orientation\":\"h\",\"showlegend\":false,\"textposition\":\"auto\",\"x\":[313261,293891,209494,158343,126089,125927,108818,68889,61226,57674,55488,37609,35661,34417,29205,17668,17166,7162],\"xaxis\":\"x\",\"y\":[\"Drama\",\"Comedy\",\"Action\",\"Thriller\",\"Sci-Fi\",\"Romance\",\"Adventure\",\"Crime\",\"War\",\"Children's\",\"Horror\",\"Animation\",\"Musical\",\"Mystery\",\"Fantasy\",\"Western\",\"Film-Noir\",\"Documentary\"],\"yaxis\":\"y\",\"type\":\"bar\"}],                        {\"template\":{\"data\":{\"bar\":[{\"error_x\":{\"color\":\"#2a3f5f\"},\"error_y\":{\"color\":\"#2a3f5f\"},\"marker\":{\"line\":{\"color\":\"#E5ECF6\",\"width\":0.5},\"pattern\":{\"fillmode\":\"overlay\",\"size\":10,\"solidity\":0.2}},\"type\":\"bar\"}],\"barpolar\":[{\"marker\":{\"line\":{\"color\":\"#E5ECF6\",\"width\":0.5},\"pattern\":{\"fillmode\":\"overlay\",\"size\":10,\"solidity\":0.2}},\"type\":\"barpolar\"}],\"carpet\":[{\"aaxis\":{\"endlinecolor\":\"#2a3f5f\",\"gridcolor\":\"white\",\"linecolor\":\"white\",\"minorgridcolor\":\"white\",\"startlinecolor\":\"#2a3f5f\"},\"baxis\":{\"endlinecolor\":\"#2a3f5f\",\"gridcolor\":\"white\",\"linecolor\":\"white\",\"minorgridcolor\":\"white\",\"startlinecolor\":\"#2a3f5f\"},\"type\":\"carpet\"}],\"choropleth\":[{\"colorbar\":{\"outlinewidth\":0,\"ticks\":\"\"},\"type\":\"choropleth\"}],\"contour\":[{\"colorbar\":{\"outlinewidth\":0,\"ticks\":\"\"},\"colorscale\":[[0.0,\"#0d0887\"],[0.1111111111111111,\"#46039f\"],[0.2222222222222222,\"#7201a8\"],[0.3333333333333333,\"#9c179e\"],[0.4444444444444444,\"#bd3786\"],[0.5555555555555556,\"#d8576b\"],[0.6666666666666666,\"#ed7953\"],[0.7777777777777778,\"#fb9f3a\"],[0.8888888888888888,\"#fdca26\"],[1.0,\"#f0f921\"]],\"type\":\"contour\"}],\"contourcarpet\":[{\"colorbar\":{\"outlinewidth\":0,\"ticks\":\"\"},\"type\":\"contourcarpet\"}],\"heatmap\":[{\"colorbar\":{\"outlinewidth\":0,\"ticks\":\"\"},\"colorscale\":[[0.0,\"#0d0887\"],[0.1111111111111111,\"#46039f\"],[0.2222222222222222,\"#7201a8\"],[0.3333333333333333,\"#9c179e\"],[0.4444444444444444,\"#bd3786\"],[0.5555555555555556,\"#d8576b\"],[0.6666666666666666,\"#ed7953\"],[0.7777777777777778,\"#fb9f3a\"],[0.8888888888888888,\"#fdca26\"],[1.0,\"#f0f921\"]],\"type\":\"heatmap\"}],\"heatmapgl\":[{\"colorbar\":{\"outlinewidth\":0,\"ticks\":\"\"},\"colorscale\":[[0.0,\"#0d0887\"],[0.1111111111111111,\"#46039f\"],[0.2222222222222222,\"#7201a8\"],[0.3333333333333333,\"#9c179e\"],[0.4444444444444444,\"#bd3786\"],[0.5555555555555556,\"#d8576b\"],[0.6666666666666666,\"#ed7953\"],[0.7777777777777778,\"#fb9f3a\"],[0.8888888888888888,\"#fdca26\"],[1.0,\"#f0f921\"]],\"type\":\"heatmapgl\"}],\"histogram\":[{\"marker\":{\"pattern\":{\"fillmode\":\"overlay\",\"size\":10,\"solidity\":0.2}},\"type\":\"histogram\"}],\"histogram2d\":[{\"colorbar\":{\"outlinewidth\":0,\"ticks\":\"\"},\"colorscale\":[[0.0,\"#0d0887\"],[0.1111111111111111,\"#46039f\"],[0.2222222222222222,\"#7201a8\"],[0.3333333333333333,\"#9c179e\"],[0.4444444444444444,\"#bd3786\"],[0.5555555555555556,\"#d8576b\"],[0.6666666666666666,\"#ed7953\"],[0.7777777777777778,\"#fb9f3a\"],[0.8888888888888888,\"#fdca26\"],[1.0,\"#f0f921\"]],\"type\":\"histogram2d\"}],\"histogram2dcontour\":[{\"colorbar\":{\"outlinewidth\":0,\"ticks\":\"\"},\"colorscale\":[[0.0,\"#0d0887\"],[0.1111111111111111,\"#46039f\"],[0.2222222222222222,\"#7201a8\"],[0.3333333333333333,\"#9c179e\"],[0.4444444444444444,\"#bd3786\"],[0.5555555555555556,\"#d8576b\"],[0.6666666666666666,\"#ed7953\"],[0.7777777777777778,\"#fb9f3a\"],[0.8888888888888888,\"#fdca26\"],[1.0,\"#f0f921\"]],\"type\":\"histogram2dcontour\"}],\"mesh3d\":[{\"colorbar\":{\"outlinewidth\":0,\"ticks\":\"\"},\"type\":\"mesh3d\"}],\"parcoords\":[{\"line\":{\"colorbar\":{\"outlinewidth\":0,\"ticks\":\"\"}},\"type\":\"parcoords\"}],\"pie\":[{\"automargin\":true,\"type\":\"pie\"}],\"scatter\":[{\"marker\":{\"colorbar\":{\"outlinewidth\":0,\"ticks\":\"\"}},\"type\":\"scatter\"}],\"scatter3d\":[{\"line\":{\"colorbar\":{\"outlinewidth\":0,\"ticks\":\"\"}},\"marker\":{\"colorbar\":{\"outlinewidth\":0,\"ticks\":\"\"}},\"type\":\"scatter3d\"}],\"scattercarpet\":[{\"marker\":{\"colorbar\":{\"outlinewidth\":0,\"ticks\":\"\"}},\"type\":\"scattercarpet\"}],\"scattergeo\":[{\"marker\":{\"colorbar\":{\"outlinewidth\":0,\"ticks\":\"\"}},\"type\":\"scattergeo\"}],\"scattergl\":[{\"marker\":{\"colorbar\":{\"outlinewidth\":0,\"ticks\":\"\"}},\"type\":\"scattergl\"}],\"scattermapbox\":[{\"marker\":{\"colorbar\":{\"outlinewidth\":0,\"ticks\":\"\"}},\"type\":\"scattermapbox\"}],\"scatterpolar\":[{\"marker\":{\"colorbar\":{\"outlinewidth\":0,\"ticks\":\"\"}},\"type\":\"scatterpolar\"}],\"scatterpolargl\":[{\"marker\":{\"colorbar\":{\"outlinewidth\":0,\"ticks\":\"\"}},\"type\":\"scatterpolargl\"}],\"scatterternary\":[{\"marker\":{\"colorbar\":{\"outlinewidth\":0,\"ticks\":\"\"}},\"type\":\"scatterternary\"}],\"surface\":[{\"colorbar\":{\"outlinewidth\":0,\"ticks\":\"\"},\"colorscale\":[[0.0,\"#0d0887\"],[0.1111111111111111,\"#46039f\"],[0.2222222222222222,\"#7201a8\"],[0.3333333333333333,\"#9c179e\"],[0.4444444444444444,\"#bd3786\"],[0.5555555555555556,\"#d8576b\"],[0.6666666666666666,\"#ed7953\"],[0.7777777777777778,\"#fb9f3a\"],[0.8888888888888888,\"#fdca26\"],[1.0,\"#f0f921\"]],\"type\":\"surface\"}],\"table\":[{\"cells\":{\"fill\":{\"color\":\"#EBF0F8\"},\"line\":{\"color\":\"white\"}},\"header\":{\"fill\":{\"color\":\"#C8D4E3\"},\"line\":{\"color\":\"white\"}},\"type\":\"table\"}]},\"layout\":{\"annotationdefaults\":{\"arrowcolor\":\"#2a3f5f\",\"arrowhead\":0,\"arrowwidth\":1},\"autotypenumbers\":\"strict\",\"coloraxis\":{\"colorbar\":{\"outlinewidth\":0,\"ticks\":\"\"}},\"colorscale\":{\"diverging\":[[0,\"#8e0152\"],[0.1,\"#c51b7d\"],[0.2,\"#de77ae\"],[0.3,\"#f1b6da\"],[0.4,\"#fde0ef\"],[0.5,\"#f7f7f7\"],[0.6,\"#e6f5d0\"],[0.7,\"#b8e186\"],[0.8,\"#7fbc41\"],[0.9,\"#4d9221\"],[1,\"#276419\"]],\"sequential\":[[0.0,\"#0d0887\"],[0.1111111111111111,\"#46039f\"],[0.2222222222222222,\"#7201a8\"],[0.3333333333333333,\"#9c179e\"],[0.4444444444444444,\"#bd3786\"],[0.5555555555555556,\"#d8576b\"],[0.6666666666666666,\"#ed7953\"],[0.7777777777777778,\"#fb9f3a\"],[0.8888888888888888,\"#fdca26\"],[1.0,\"#f0f921\"]],\"sequentialminus\":[[0.0,\"#0d0887\"],[0.1111111111111111,\"#46039f\"],[0.2222222222222222,\"#7201a8\"],[0.3333333333333333,\"#9c179e\"],[0.4444444444444444,\"#bd3786\"],[0.5555555555555556,\"#d8576b\"],[0.6666666666666666,\"#ed7953\"],[0.7777777777777778,\"#fb9f3a\"],[0.8888888888888888,\"#fdca26\"],[1.0,\"#f0f921\"]]},\"colorway\":[\"#636efa\",\"#EF553B\",\"#00cc96\",\"#ab63fa\",\"#FFA15A\",\"#19d3f3\",\"#FF6692\",\"#B6E880\",\"#FF97FF\",\"#FECB52\"],\"font\":{\"color\":\"#2a3f5f\"},\"geo\":{\"bgcolor\":\"white\",\"lakecolor\":\"white\",\"landcolor\":\"#E5ECF6\",\"showlakes\":true,\"showland\":true,\"subunitcolor\":\"white\"},\"hoverlabel\":{\"align\":\"left\"},\"hovermode\":\"closest\",\"mapbox\":{\"style\":\"light\"},\"paper_bgcolor\":\"white\",\"plot_bgcolor\":\"#E5ECF6\",\"polar\":{\"angularaxis\":{\"gridcolor\":\"white\",\"linecolor\":\"white\",\"ticks\":\"\"},\"bgcolor\":\"#E5ECF6\",\"radialaxis\":{\"gridcolor\":\"white\",\"linecolor\":\"white\",\"ticks\":\"\"}},\"scene\":{\"xaxis\":{\"backgroundcolor\":\"#E5ECF6\",\"gridcolor\":\"white\",\"gridwidth\":2,\"linecolor\":\"white\",\"showbackground\":true,\"ticks\":\"\",\"zerolinecolor\":\"white\"},\"yaxis\":{\"backgroundcolor\":\"#E5ECF6\",\"gridcolor\":\"white\",\"gridwidth\":2,\"linecolor\":\"white\",\"showbackground\":true,\"ticks\":\"\",\"zerolinecolor\":\"white\"},\"zaxis\":{\"backgroundcolor\":\"#E5ECF6\",\"gridcolor\":\"white\",\"gridwidth\":2,\"linecolor\":\"white\",\"showbackground\":true,\"ticks\":\"\",\"zerolinecolor\":\"white\"}},\"shapedefaults\":{\"line\":{\"color\":\"#2a3f5f\"}},\"ternary\":{\"aaxis\":{\"gridcolor\":\"white\",\"linecolor\":\"white\",\"ticks\":\"\"},\"baxis\":{\"gridcolor\":\"white\",\"linecolor\":\"white\",\"ticks\":\"\"},\"bgcolor\":\"#E5ECF6\",\"caxis\":{\"gridcolor\":\"white\",\"linecolor\":\"white\",\"ticks\":\"\"}},\"title\":{\"x\":0.05},\"xaxis\":{\"automargin\":true,\"gridcolor\":\"white\",\"linecolor\":\"white\",\"ticks\":\"\",\"title\":{\"standoff\":15},\"zerolinecolor\":\"white\",\"zerolinewidth\":2},\"yaxis\":{\"automargin\":true,\"gridcolor\":\"white\",\"linecolor\":\"white\",\"ticks\":\"\",\"title\":{\"standoff\":15},\"zerolinecolor\":\"white\",\"zerolinewidth\":2}}},\"xaxis\":{\"anchor\":\"y\",\"domain\":[0.0,1.0],\"title\":{\"text\":\"count\"}},\"yaxis\":{\"anchor\":\"x\",\"domain\":[0.0,1.0],\"title\":{\"text\":\"genre\"}},\"legend\":{\"tracegroupgap\":0},\"margin\":{\"t\":60},\"barmode\":\"relative\"},                        {\"responsive\": true}                    ).then(function(){\n",
       "                            \n",
       "var gd = document.getElementById('d8d75ff4-559a-4059-9927-6b2c73177eb5');\n",
       "var x = new MutationObserver(function (mutations, observer) {{\n",
       "        var display = window.getComputedStyle(gd).display;\n",
       "        if (!display || display === 'none') {{\n",
       "            console.log([gd, 'removed!']);\n",
       "            Plotly.purge(gd);\n",
       "            observer.disconnect();\n",
       "        }}\n",
       "}});\n",
       "\n",
       "// Listen for the removal of the full notebook cells\n",
       "var notebookContainer = gd.closest('#notebook-container');\n",
       "if (notebookContainer) {{\n",
       "    x.observe(notebookContainer, {childList: true});\n",
       "}}\n",
       "\n",
       "// Listen for the clearing of the current output cell\n",
       "var outputEl = gd.closest('.output');\n",
       "if (outputEl) {{\n",
       "    x.observe(outputEl, {childList: true});\n",
       "}}\n",
       "\n",
       "                        })                };                });            </script>        </div>"
      ]
     },
     "metadata": {},
     "output_type": "display_data"
    }
   ],
   "source": [
    "# Horizontal bar\n",
    "\n",
    "import pandas as pd\n",
    "import plotly.express as px\n",
    "\n",
    "import plotly.io as pio\n",
    "pio.renderers.default = 'notebook_connected'\n",
    "\n",
    "sorted_genre_counter_df = pd.DataFrame(sorted_genre_counter, columns=['genre', 'count'])\n",
    "\n",
    "fig = px.bar(sorted_genre_counter_df, x='count', y='genre', orientation='h')\n",
    "\n",
    "fig.show()"
   ]
  },
  {
   "cell_type": "code",
   "execution_count": 23,
   "id": "60da829b",
   "metadata": {},
   "outputs": [
    {
     "data": {
      "image/png": "[encoded data removed]",
      "text/plain": [
       "<IPython.core.display.Image object>"
      ]
     },
     "execution_count": 23,
     "metadata": {},
     "output_type": "execute_result"
    }
   ],
   "source": [
    "from IPython.display import Image\n",
    "image_path = 'C:/Users/Noah/aiffel/E14 Recommendation Music/recommendata_iu/data/ml-1m/images'\n",
    "image1 = os.path.join(image_path, 'Horizontal bar.png')\n",
    "Image(image1)"
   ]
  },
  {
   "cell_type": "code",
   "execution_count": 24,
   "id": "improved-basics",
   "metadata": {},
   "outputs": [
    {
     "data": {
      "text/html": [
       "<div>                            <div id=\"1df9dbee-d969-46e3-bdef-ba3718256c6d\" class=\"plotly-graph-div\" style=\"height:525px; width:100%;\"></div>            <script type=\"text/javascript\">                require([\"plotly\"], function(Plotly) {                    window.PLOTLYENV=window.PLOTLYENV || {};                                    if (document.getElementById(\"1df9dbee-d969-46e3-bdef-ba3718256c6d\")) {                    Plotly.newPlot(                        \"1df9dbee-d969-46e3-bdef-ba3718256c6d\",                        [{\"domain\":{\"x\":[0.0,1.0],\"y\":[0.0,1.0]},\"hovertemplate\":\"genre=%{label}<br>count=%{value}<extra></extra>\",\"labels\":[\"Drama\",\"Comedy\",\"Action\",\"Thriller\",\"Sci-Fi\",\"Romance\",\"Adventure\",\"Crime\",\"War\",\"Children's\",\"Horror\",\"Animation\",\"Musical\",\"Mystery\",\"Fantasy\",\"Western\",\"Film-Noir\",\"Documentary\"],\"legendgroup\":\"\",\"name\":\"\",\"showlegend\":true,\"values\":[313261,293891,209494,158343,126089,125927,108818,68889,61226,57674,55488,37609,35661,34417,29205,17668,17166,7162],\"type\":\"pie\"}],                        {\"template\":{\"data\":{\"bar\":[{\"error_x\":{\"color\":\"#2a3f5f\"},\"error_y\":{\"color\":\"#2a3f5f\"},\"marker\":{\"line\":{\"color\":\"#E5ECF6\",\"width\":0.5},\"pattern\":{\"fillmode\":\"overlay\",\"size\":10,\"solidity\":0.2}},\"type\":\"bar\"}],\"barpolar\":[{\"marker\":{\"line\":{\"color\":\"#E5ECF6\",\"width\":0.5},\"pattern\":{\"fillmode\":\"overlay\",\"size\":10,\"solidity\":0.2}},\"type\":\"barpolar\"}],\"carpet\":[{\"aaxis\":{\"endlinecolor\":\"#2a3f5f\",\"gridcolor\":\"white\",\"linecolor\":\"white\",\"minorgridcolor\":\"white\",\"startlinecolor\":\"#2a3f5f\"},\"baxis\":{\"endlinecolor\":\"#2a3f5f\",\"gridcolor\":\"white\",\"linecolor\":\"white\",\"minorgridcolor\":\"white\",\"startlinecolor\":\"#2a3f5f\"},\"type\":\"carpet\"}],\"choropleth\":[{\"colorbar\":{\"outlinewidth\":0,\"ticks\":\"\"},\"type\":\"choropleth\"}],\"contour\":[{\"colorbar\":{\"outlinewidth\":0,\"ticks\":\"\"},\"colorscale\":[[0.0,\"#0d0887\"],[0.1111111111111111,\"#46039f\"],[0.2222222222222222,\"#7201a8\"],[0.3333333333333333,\"#9c179e\"],[0.4444444444444444,\"#bd3786\"],[0.5555555555555556,\"#d8576b\"],[0.6666666666666666,\"#ed7953\"],[0.7777777777777778,\"#fb9f3a\"],[0.8888888888888888,\"#fdca26\"],[1.0,\"#f0f921\"]],\"type\":\"contour\"}],\"contourcarpet\":[{\"colorbar\":{\"outlinewidth\":0,\"ticks\":\"\"},\"type\":\"contourcarpet\"}],\"heatmap\":[{\"colorbar\":{\"outlinewidth\":0,\"ticks\":\"\"},\"colorscale\":[[0.0,\"#0d0887\"],[0.1111111111111111,\"#46039f\"],[0.2222222222222222,\"#7201a8\"],[0.3333333333333333,\"#9c179e\"],[0.4444444444444444,\"#bd3786\"],[0.5555555555555556,\"#d8576b\"],[0.6666666666666666,\"#ed7953\"],[0.7777777777777778,\"#fb9f3a\"],[0.8888888888888888,\"#fdca26\"],[1.0,\"#f0f921\"]],\"type\":\"heatmap\"}],\"heatmapgl\":[{\"colorbar\":{\"outlinewidth\":0,\"ticks\":\"\"},\"colorscale\":[[0.0,\"#0d0887\"],[0.1111111111111111,\"#46039f\"],[0.2222222222222222,\"#7201a8\"],[0.3333333333333333,\"#9c179e\"],[0.4444444444444444,\"#bd3786\"],[0.5555555555555556,\"#d8576b\"],[0.6666666666666666,\"#ed7953\"],[0.7777777777777778,\"#fb9f3a\"],[0.8888888888888888,\"#fdca26\"],[1.0,\"#f0f921\"]],\"type\":\"heatmapgl\"}],\"histogram\":[{\"marker\":{\"pattern\":{\"fillmode\":\"overlay\",\"size\":10,\"solidity\":0.2}},\"type\":\"histogram\"}],\"histogram2d\":[{\"colorbar\":{\"outlinewidth\":0,\"ticks\":\"\"},\"colorscale\":[[0.0,\"#0d0887\"],[0.1111111111111111,\"#46039f\"],[0.2222222222222222,\"#7201a8\"],[0.3333333333333333,\"#9c179e\"],[0.4444444444444444,\"#bd3786\"],[0.5555555555555556,\"#d8576b\"],[0.6666666666666666,\"#ed7953\"],[0.7777777777777778,\"#fb9f3a\"],[0.8888888888888888,\"#fdca26\"],[1.0,\"#f0f921\"]],\"type\":\"histogram2d\"}],\"histogram2dcontour\":[{\"colorbar\":{\"outlinewidth\":0,\"ticks\":\"\"},\"colorscale\":[[0.0,\"#0d0887\"],[0.1111111111111111,\"#46039f\"],[0.2222222222222222,\"#7201a8\"],[0.3333333333333333,\"#9c179e\"],[0.4444444444444444,\"#bd3786\"],[0.5555555555555556,\"#d8576b\"],[0.6666666666666666,\"#ed7953\"],[0.7777777777777778,\"#fb9f3a\"],[0.8888888888888888,\"#fdca26\"],[1.0,\"#f0f921\"]],\"type\":\"histogram2dcontour\"}],\"mesh3d\":[{\"colorbar\":{\"outlinewidth\":0,\"ticks\":\"\"},\"type\":\"mesh3d\"}],\"parcoords\":[{\"line\":{\"colorbar\":{\"outlinewidth\":0,\"ticks\":\"\"}},\"type\":\"parcoords\"}],\"pie\":[{\"automargin\":true,\"type\":\"pie\"}],\"scatter\":[{\"marker\":{\"colorbar\":{\"outlinewidth\":0,\"ticks\":\"\"}},\"type\":\"scatter\"}],\"scatter3d\":[{\"line\":{\"colorbar\":{\"outlinewidth\":0,\"ticks\":\"\"}},\"marker\":{\"colorbar\":{\"outlinewidth\":0,\"ticks\":\"\"}},\"type\":\"scatter3d\"}],\"scattercarpet\":[{\"marker\":{\"colorbar\":{\"outlinewidth\":0,\"ticks\":\"\"}},\"type\":\"scattercarpet\"}],\"scattergeo\":[{\"marker\":{\"colorbar\":{\"outlinewidth\":0,\"ticks\":\"\"}},\"type\":\"scattergeo\"}],\"scattergl\":[{\"marker\":{\"colorbar\":{\"outlinewidth\":0,\"ticks\":\"\"}},\"type\":\"scattergl\"}],\"scattermapbox\":[{\"marker\":{\"colorbar\":{\"outlinewidth\":0,\"ticks\":\"\"}},\"type\":\"scattermapbox\"}],\"scatterpolar\":[{\"marker\":{\"colorbar\":{\"outlinewidth\":0,\"ticks\":\"\"}},\"type\":\"scatterpolar\"}],\"scatterpolargl\":[{\"marker\":{\"colorbar\":{\"outlinewidth\":0,\"ticks\":\"\"}},\"type\":\"scatterpolargl\"}],\"scatterternary\":[{\"marker\":{\"colorbar\":{\"outlinewidth\":0,\"ticks\":\"\"}},\"type\":\"scatterternary\"}],\"surface\":[{\"colorbar\":{\"outlinewidth\":0,\"ticks\":\"\"},\"colorscale\":[[0.0,\"#0d0887\"],[0.1111111111111111,\"#46039f\"],[0.2222222222222222,\"#7201a8\"],[0.3333333333333333,\"#9c179e\"],[0.4444444444444444,\"#bd3786\"],[0.5555555555555556,\"#d8576b\"],[0.6666666666666666,\"#ed7953\"],[0.7777777777777778,\"#fb9f3a\"],[0.8888888888888888,\"#fdca26\"],[1.0,\"#f0f921\"]],\"type\":\"surface\"}],\"table\":[{\"cells\":{\"fill\":{\"color\":\"#EBF0F8\"},\"line\":{\"color\":\"white\"}},\"header\":{\"fill\":{\"color\":\"#C8D4E3\"},\"line\":{\"color\":\"white\"}},\"type\":\"table\"}]},\"layout\":{\"annotationdefaults\":{\"arrowcolor\":\"#2a3f5f\",\"arrowhead\":0,\"arrowwidth\":1},\"autotypenumbers\":\"strict\",\"coloraxis\":{\"colorbar\":{\"outlinewidth\":0,\"ticks\":\"\"}},\"colorscale\":{\"diverging\":[[0,\"#8e0152\"],[0.1,\"#c51b7d\"],[0.2,\"#de77ae\"],[0.3,\"#f1b6da\"],[0.4,\"#fde0ef\"],[0.5,\"#f7f7f7\"],[0.6,\"#e6f5d0\"],[0.7,\"#b8e186\"],[0.8,\"#7fbc41\"],[0.9,\"#4d9221\"],[1,\"#276419\"]],\"sequential\":[[0.0,\"#0d0887\"],[0.1111111111111111,\"#46039f\"],[0.2222222222222222,\"#7201a8\"],[0.3333333333333333,\"#9c179e\"],[0.4444444444444444,\"#bd3786\"],[0.5555555555555556,\"#d8576b\"],[0.6666666666666666,\"#ed7953\"],[0.7777777777777778,\"#fb9f3a\"],[0.8888888888888888,\"#fdca26\"],[1.0,\"#f0f921\"]],\"sequentialminus\":[[0.0,\"#0d0887\"],[0.1111111111111111,\"#46039f\"],[0.2222222222222222,\"#7201a8\"],[0.3333333333333333,\"#9c179e\"],[0.4444444444444444,\"#bd3786\"],[0.5555555555555556,\"#d8576b\"],[0.6666666666666666,\"#ed7953\"],[0.7777777777777778,\"#fb9f3a\"],[0.8888888888888888,\"#fdca26\"],[1.0,\"#f0f921\"]]},\"colorway\":[\"#636efa\",\"#EF553B\",\"#00cc96\",\"#ab63fa\",\"#FFA15A\",\"#19d3f3\",\"#FF6692\",\"#B6E880\",\"#FF97FF\",\"#FECB52\"],\"font\":{\"color\":\"#2a3f5f\"},\"geo\":{\"bgcolor\":\"white\",\"lakecolor\":\"white\",\"landcolor\":\"#E5ECF6\",\"showlakes\":true,\"showland\":true,\"subunitcolor\":\"white\"},\"hoverlabel\":{\"align\":\"left\"},\"hovermode\":\"closest\",\"mapbox\":{\"style\":\"light\"},\"paper_bgcolor\":\"white\",\"plot_bgcolor\":\"#E5ECF6\",\"polar\":{\"angularaxis\":{\"gridcolor\":\"white\",\"linecolor\":\"white\",\"ticks\":\"\"},\"bgcolor\":\"#E5ECF6\",\"radialaxis\":{\"gridcolor\":\"white\",\"linecolor\":\"white\",\"ticks\":\"\"}},\"scene\":{\"xaxis\":{\"backgroundcolor\":\"#E5ECF6\",\"gridcolor\":\"white\",\"gridwidth\":2,\"linecolor\":\"white\",\"showbackground\":true,\"ticks\":\"\",\"zerolinecolor\":\"white\"},\"yaxis\":{\"backgroundcolor\":\"#E5ECF6\",\"gridcolor\":\"white\",\"gridwidth\":2,\"linecolor\":\"white\",\"showbackground\":true,\"ticks\":\"\",\"zerolinecolor\":\"white\"},\"zaxis\":{\"backgroundcolor\":\"#E5ECF6\",\"gridcolor\":\"white\",\"gridwidth\":2,\"linecolor\":\"white\",\"showbackground\":true,\"ticks\":\"\",\"zerolinecolor\":\"white\"}},\"shapedefaults\":{\"line\":{\"color\":\"#2a3f5f\"}},\"ternary\":{\"aaxis\":{\"gridcolor\":\"white\",\"linecolor\":\"white\",\"ticks\":\"\"},\"baxis\":{\"gridcolor\":\"white\",\"linecolor\":\"white\",\"ticks\":\"\"},\"bgcolor\":\"#E5ECF6\",\"caxis\":{\"gridcolor\":\"white\",\"linecolor\":\"white\",\"ticks\":\"\"}},\"title\":{\"x\":0.05},\"xaxis\":{\"automargin\":true,\"gridcolor\":\"white\",\"linecolor\":\"white\",\"ticks\":\"\",\"title\":{\"standoff\":15},\"zerolinecolor\":\"white\",\"zerolinewidth\":2},\"yaxis\":{\"automargin\":true,\"gridcolor\":\"white\",\"linecolor\":\"white\",\"ticks\":\"\",\"title\":{\"standoff\":15},\"zerolinecolor\":\"white\",\"zerolinewidth\":2}}},\"legend\":{\"tracegroupgap\":0},\"title\":{\"text\":\"Pie chart for Genre\"}},                        {\"responsive\": true}                    ).then(function(){\n",
       "                            \n",
       "var gd = document.getElementById('1df9dbee-d969-46e3-bdef-ba3718256c6d');\n",
       "var x = new MutationObserver(function (mutations, observer) {{\n",
       "        var display = window.getComputedStyle(gd).display;\n",
       "        if (!display || display === 'none') {{\n",
       "            console.log([gd, 'removed!']);\n",
       "            Plotly.purge(gd);\n",
       "            observer.disconnect();\n",
       "        }}\n",
       "}});\n",
       "\n",
       "// Listen for the removal of the full notebook cells\n",
       "var notebookContainer = gd.closest('#notebook-container');\n",
       "if (notebookContainer) {{\n",
       "    x.observe(notebookContainer, {childList: true});\n",
       "}}\n",
       "\n",
       "// Listen for the clearing of the current output cell\n",
       "var outputEl = gd.closest('.output');\n",
       "if (outputEl) {{\n",
       "    x.observe(outputEl, {childList: true});\n",
       "}}\n",
       "\n",
       "                        })                };                });            </script>        </div>"
      ]
     },
     "metadata": {},
     "output_type": "display_data"
    },
    {
     "data": {
      "image/png": "[encoded data removed]",
      "text/plain": [
       "<IPython.core.display.Image object>"
      ]
     },
     "execution_count": 24,
     "metadata": {},
     "output_type": "execute_result"
    }
   ],
   "source": [
    "# Pie chart\n",
    "fig = px.pie(sorted_genre_counter_df, values='count', names='genre', title='Pie chart for Genre')\n",
    "fig.show()\n",
    "\n",
    "image2 = os.path.join(image_path, 'Pie Chart.png')\n",
    "Image(image2)"
   ]
  },
  {
   "cell_type": "code",
   "execution_count": 25,
   "id": "concerned-delight",
   "metadata": {},
   "outputs": [],
   "source": [
    "# helper function\n",
    "def get_unique_genre(genres):\n",
    "    result = [] # unique 장르를 담을 list\n",
    "    for genre in genres:\n",
    "        result.extend(genre.split('|'))\n",
    "    return sorted(set(result))"
   ]
  },
  {
   "cell_type": "code",
   "execution_count": 26,
   "id": "elder-passage",
   "metadata": {
    "scrolled": false
   },
   "outputs": [
    {
     "name": "stdout",
     "output_type": "stream",
     "text": [
      "['Action', 'Adventure', 'Animation', \"Children's\", 'Comedy', 'Crime', 'Documentary', 'Drama', 'Fantasy', 'Film-Noir', 'Horror', 'Musical', 'Mystery', 'Romance', 'Sci-Fi', 'Thriller', 'War', 'Western']\n"
     ]
    }
   ],
   "source": [
    "# unique한 genre는 다음과 같다.\n",
    "unique_genres = get_unique_genre(genres)\n",
    "unique_genres.sort\n",
    "print(unique_genres)"
   ]
  },
  {
   "cell_type": "markdown",
   "id": "impaired-tuition",
   "metadata": {},
   "source": [
    "## timestamp\n",
    "Timestamp에 대한 데이터 설명이 Timestamp is represented in seconds since the epoch as returned by time(2)\n",
    "\n",
    "타임스탬프는 epoch 이후 시간(2)으로 표시됩니다. 라고 해석이 되는데 무슨 의미인지(?) 모르겠습니다\n",
    "\n",
    "일단 datetime을 이용하여 타임스탬프로 저장된 시간값을 특정 날짜포맷(년/월/일/시간)으로 변경해봅니다"
   ]
  },
  {
   "cell_type": "code",
   "execution_count": 27,
   "id": "viral-approval",
   "metadata": {
    "scrolled": true
   },
   "outputs": [
    {
     "data": {
      "text/html": [
       "<div>\n",
       "<style scoped>\n",
       "    .dataframe tbody tr th:only-of-type {\n",
       "        vertical-align: middle;\n",
       "    }\n",
       "\n",
       "    .dataframe tbody tr th {\n",
       "        vertical-align: top;\n",
       "    }\n",
       "\n",
       "    .dataframe thead th {\n",
       "        text-align: right;\n",
       "    }\n",
       "</style>\n",
       "<table border=\"1\" class=\"dataframe\">\n",
       "  <thead>\n",
       "    <tr style=\"text-align: right;\">\n",
       "      <th></th>\n",
       "      <th>user_id</th>\n",
       "      <th>movie_id</th>\n",
       "      <th>count</th>\n",
       "      <th>title</th>\n",
       "      <th>genre</th>\n",
       "    </tr>\n",
       "  </thead>\n",
       "  <tbody>\n",
       "    <tr>\n",
       "      <th>0</th>\n",
       "      <td>1</td>\n",
       "      <td>1193</td>\n",
       "      <td>5</td>\n",
       "      <td>One Flew Over the Cuckoo's Nest (1975)</td>\n",
       "      <td>Drama</td>\n",
       "    </tr>\n",
       "    <tr>\n",
       "      <th>1</th>\n",
       "      <td>1</td>\n",
       "      <td>661</td>\n",
       "      <td>3</td>\n",
       "      <td>James and the Giant Peach (1996)</td>\n",
       "      <td>Animation|Children's|Musical</td>\n",
       "    </tr>\n",
       "    <tr>\n",
       "      <th>2</th>\n",
       "      <td>1</td>\n",
       "      <td>914</td>\n",
       "      <td>3</td>\n",
       "      <td>My Fair Lady (1964)</td>\n",
       "      <td>Musical|Romance</td>\n",
       "    </tr>\n",
       "    <tr>\n",
       "      <th>3</th>\n",
       "      <td>1</td>\n",
       "      <td>3408</td>\n",
       "      <td>4</td>\n",
       "      <td>Erin Brockovich (2000)</td>\n",
       "      <td>Drama</td>\n",
       "    </tr>\n",
       "    <tr>\n",
       "      <th>4</th>\n",
       "      <td>1</td>\n",
       "      <td>2355</td>\n",
       "      <td>5</td>\n",
       "      <td>Bug's Life, A (1998)</td>\n",
       "      <td>Animation|Children's|Comedy</td>\n",
       "    </tr>\n",
       "  </tbody>\n",
       "</table>\n",
       "</div>"
      ],
      "text/plain": [
       "   user_id  movie_id  count                                   title  \\\n",
       "0        1      1193      5  One Flew Over the Cuckoo's Nest (1975)   \n",
       "1        1       661      3        James and the Giant Peach (1996)   \n",
       "2        1       914      3                     My Fair Lady (1964)   \n",
       "3        1      3408      4                  Erin Brockovich (2000)   \n",
       "4        1      2355      5                    Bug's Life, A (1998)   \n",
       "\n",
       "                          genre  \n",
       "0                         Drama  \n",
       "1  Animation|Children's|Musical  \n",
       "2               Musical|Romance  \n",
       "3                         Drama  \n",
       "4   Animation|Children's|Comedy  "
      ]
     },
     "execution_count": 27,
     "metadata": {},
     "output_type": "execute_result"
    }
   ],
   "source": [
    "ratings.head()"
   ]
  },
  {
   "cell_type": "markdown",
   "id": "black-pressing",
   "metadata": {},
   "source": [
    "## Add my favorite movies\n",
    "\n",
    "- user_id : 기존 id가 6040까지 있으므로 내 id는 6041으로 설정한다.\n",
    "- movie_id : 내가 선택할 영화의 id가 리스트에 존재한다면 해당 id로 설정하고\n",
    "그렇지 않다면 3952 이후로 설정 \n",
    "- count : 내가 좋아하는 영화이므로 5점을 부여\n",
    "- title : title 형식에 맞게 '제목 (연도)'로 전처리\n",
    "- genre : 장르가 여러개 존재할 경우 |로 연결 "
   ]
  },
  {
   "cell_type": "markdown",
   "id": "explicit-veteran",
   "metadata": {},
   "source": [
    "### 3) 내가 선호하는 영화를 5가지 골라서 rating에 추가해 줍시다."
   ]
  },
  {
   "cell_type": "code",
   "execution_count": 28,
   "id": "spanish-glass",
   "metadata": {},
   "outputs": [],
   "source": [
    "# 인덱스와 영화명으로 서로 반환할 수 있는 딕셔너리를 생성합니다.\n",
    "idx_to_movie = {i:v for i,v in zip(movies['movie_id'], movies['title'])}\n",
    "movie_to_idx = {v:i for i,v in zip(movies['movie_id'], movies['title'])}"
   ]
  },
  {
   "cell_type": "code",
   "execution_count": 29,
   "id": "palestinian-facing",
   "metadata": {},
   "outputs": [],
   "source": [
    "# 영화 전체 목록을 확인해봅시다. (3952 전체 출력되기에 주석처리했습니다.)\n",
    "# for key, value in idx_to_movie.items():\n",
    "#     print(key, value)"
   ]
  },
  {
   "cell_type": "code",
   "execution_count": 30,
   "id": "cross-inclusion",
   "metadata": {},
   "outputs": [],
   "source": [
    "# 좋아하는 영화 5개를 입력합니다.\n",
    "my_favorite = ['Interview with the Vampire (1994)', 'Men in Black (1997)',  'Jumanji (1995)', 'Toy Story (1995)', 'Nightmare Before Christmas, The (1993)']"
   ]
  },
  {
   "cell_type": "code",
   "execution_count": 31,
   "id": "naval-envelope",
   "metadata": {},
   "outputs": [
    {
     "data": {
      "text/plain": [
       "[253, 1580, 2, 1, 551]"
      ]
     },
     "execution_count": 31,
     "metadata": {},
     "output_type": "execute_result"
    }
   ],
   "source": [
    "# 좋아하는 영화의 인덱스번호를  별도의 리스트에 넣어줍니다.\n",
    "my_idx = []\n",
    "for i in my_favorite:\n",
    "    my_idx.append(movie_to_idx[i])\n",
    "my_idx"
   ]
  },
  {
   "cell_type": "code",
   "execution_count": 32,
   "id": "fossil-helena",
   "metadata": {},
   "outputs": [
    {
     "name": "stderr",
     "output_type": "stream",
     "text": [
      "C:\\Users\\Noah\\AppData\\Local\\Temp/ipykernel_11736/2668308064.py:6: FutureWarning:\n",
      "\n",
      "The frame.append method is deprecated and will be removed from pandas in a future version. Use pandas.concat instead.\n",
      "\n"
     ]
    },
    {
     "data": {
      "text/html": [
       "<div>\n",
       "<style scoped>\n",
       "    .dataframe tbody tr th:only-of-type {\n",
       "        vertical-align: middle;\n",
       "    }\n",
       "\n",
       "    .dataframe tbody tr th {\n",
       "        vertical-align: top;\n",
       "    }\n",
       "\n",
       "    .dataframe thead th {\n",
       "        text-align: right;\n",
       "    }\n",
       "</style>\n",
       "<table border=\"1\" class=\"dataframe\">\n",
       "  <thead>\n",
       "    <tr style=\"text-align: right;\">\n",
       "      <th></th>\n",
       "      <th>user_id</th>\n",
       "      <th>movie_id</th>\n",
       "      <th>count</th>\n",
       "      <th>title</th>\n",
       "      <th>genre</th>\n",
       "    </tr>\n",
       "  </thead>\n",
       "  <tbody>\n",
       "    <tr>\n",
       "      <th>1000203</th>\n",
       "      <td>6040</td>\n",
       "      <td>1090</td>\n",
       "      <td>3</td>\n",
       "      <td>Platoon (1986)</td>\n",
       "      <td>Drama|War</td>\n",
       "    </tr>\n",
       "    <tr>\n",
       "      <th>1000205</th>\n",
       "      <td>6040</td>\n",
       "      <td>1094</td>\n",
       "      <td>5</td>\n",
       "      <td>Crying Game, The (1992)</td>\n",
       "      <td>Drama|Romance|War</td>\n",
       "    </tr>\n",
       "    <tr>\n",
       "      <th>1000206</th>\n",
       "      <td>6040</td>\n",
       "      <td>562</td>\n",
       "      <td>5</td>\n",
       "      <td>Welcome to the Dollhouse (1995)</td>\n",
       "      <td>Comedy|Drama</td>\n",
       "    </tr>\n",
       "    <tr>\n",
       "      <th>1000207</th>\n",
       "      <td>6040</td>\n",
       "      <td>1096</td>\n",
       "      <td>4</td>\n",
       "      <td>Sophie's Choice (1982)</td>\n",
       "      <td>Drama</td>\n",
       "    </tr>\n",
       "    <tr>\n",
       "      <th>1000208</th>\n",
       "      <td>6040</td>\n",
       "      <td>1097</td>\n",
       "      <td>4</td>\n",
       "      <td>E.T. the Extra-Terrestrial (1982)</td>\n",
       "      <td>Children's|Drama|Fantasy|Sci-Fi</td>\n",
       "    </tr>\n",
       "    <tr>\n",
       "      <th>0</th>\n",
       "      <td>6041</td>\n",
       "      <td>253</td>\n",
       "      <td>5</td>\n",
       "      <td>Interview with the Vampire (1994)</td>\n",
       "      <td>NaN</td>\n",
       "    </tr>\n",
       "    <tr>\n",
       "      <th>1</th>\n",
       "      <td>6041</td>\n",
       "      <td>1580</td>\n",
       "      <td>5</td>\n",
       "      <td>Men in Black (1997)</td>\n",
       "      <td>NaN</td>\n",
       "    </tr>\n",
       "    <tr>\n",
       "      <th>2</th>\n",
       "      <td>6041</td>\n",
       "      <td>2</td>\n",
       "      <td>5</td>\n",
       "      <td>Jumanji (1995)</td>\n",
       "      <td>NaN</td>\n",
       "    </tr>\n",
       "    <tr>\n",
       "      <th>3</th>\n",
       "      <td>6041</td>\n",
       "      <td>1</td>\n",
       "      <td>5</td>\n",
       "      <td>Toy Story (1995)</td>\n",
       "      <td>NaN</td>\n",
       "    </tr>\n",
       "    <tr>\n",
       "      <th>4</th>\n",
       "      <td>6041</td>\n",
       "      <td>551</td>\n",
       "      <td>5</td>\n",
       "      <td>Nightmare Before Christmas, The (1993)</td>\n",
       "      <td>NaN</td>\n",
       "    </tr>\n",
       "  </tbody>\n",
       "</table>\n",
       "</div>"
      ],
      "text/plain": [
       "        user_id  movie_id  count                                   title  \\\n",
       "1000203    6040      1090      3                          Platoon (1986)   \n",
       "1000205    6040      1094      5                 Crying Game, The (1992)   \n",
       "1000206    6040       562      5         Welcome to the Dollhouse (1995)   \n",
       "1000207    6040      1096      4                  Sophie's Choice (1982)   \n",
       "1000208    6040      1097      4       E.T. the Extra-Terrestrial (1982)   \n",
       "0          6041       253      5       Interview with the Vampire (1994)   \n",
       "1          6041      1580      5                     Men in Black (1997)   \n",
       "2          6041         2      5                          Jumanji (1995)   \n",
       "3          6041         1      5                        Toy Story (1995)   \n",
       "4          6041       551      5  Nightmare Before Christmas, The (1993)   \n",
       "\n",
       "                                   genre  \n",
       "1000203                        Drama|War  \n",
       "1000205                Drama|Romance|War  \n",
       "1000206                     Comedy|Drama  \n",
       "1000207                            Drama  \n",
       "1000208  Children's|Drama|Fantasy|Sci-Fi  \n",
       "0                                    NaN  \n",
       "1                                    NaN  \n",
       "2                                    NaN  \n",
       "3                                    NaN  \n",
       "4                                    NaN  "
      ]
     },
     "execution_count": 32,
     "metadata": {},
     "output_type": "execute_result"
    }
   ],
   "source": [
    "# 선호 영화 정보를 모아서 DataFrame로 만듭니다. \n",
    "my_playlist = pd.DataFrame({'user_id': ['6041']*5,'movie_id':my_idx, 'title': my_favorite, 'count':[5]*5})\n",
    "\n",
    "# 유저 id가 포함되어 있는 지 확인하고 없으면 my_playlist 데이터를 추가합니다.\n",
    "if not ratings.isin({'user_id':['6041']})['user_id'].any():\n",
    "    ratings = ratings.append(my_playlist)\n",
    "\n",
    "ratings.tail(10)"
   ]
  },
  {
   "cell_type": "code",
   "execution_count": 33,
   "id": "compact-heating",
   "metadata": {},
   "outputs": [
    {
     "name": "stdout",
     "output_type": "stream",
     "text": [
      "user_id: 6040\n",
      "movie_id: 3628\n"
     ]
    }
   ],
   "source": [
    "num_user = ratings['user_id'].nunique()\n",
    "num_movie = ratings['movie_id'].nunique()\n",
    "print('user_id:', num_user)\n",
    "print('movie_id:', num_movie)"
   ]
  },
  {
   "cell_type": "markdown",
   "id": "protecting-moisture",
   "metadata": {},
   "source": [
    "### 4) CSR matrix를 직접 만들어 봅시다."
   ]
  },
  {
   "cell_type": "code",
   "execution_count": 34,
   "id": "scientific-irish",
   "metadata": {},
   "outputs": [],
   "source": [
    "# 고유한 유저, 아티스트를 찾아내는 코드\n",
    "user_unique = ratings['user_id'].unique()\n",
    "movie_unique = ratings['title'].unique()\n",
    "\n",
    "# 유저, 아티스트 indexing 하는 코드 idx는 index의 약자입니다.\n",
    "user_to_idx = {v:k for k,v in enumerate(user_unique)}\n",
    "movie_to_idx = {v:k for k,v in enumerate(movie_unique)}"
   ]
  },
  {
   "cell_type": "code",
   "execution_count": 35,
   "id": "veterinary-stevens",
   "metadata": {},
   "outputs": [
    {
     "name": "stdout",
     "output_type": "stream",
     "text": [
      "user_id column indexing OK!!\n",
      "movie column indexing OK!!\n"
     ]
    },
    {
     "data": {
      "text/html": [
       "<div>\n",
       "<style scoped>\n",
       "    .dataframe tbody tr th:only-of-type {\n",
       "        vertical-align: middle;\n",
       "    }\n",
       "\n",
       "    .dataframe tbody tr th {\n",
       "        vertical-align: top;\n",
       "    }\n",
       "\n",
       "    .dataframe thead th {\n",
       "        text-align: right;\n",
       "    }\n",
       "</style>\n",
       "<table border=\"1\" class=\"dataframe\">\n",
       "  <thead>\n",
       "    <tr style=\"text-align: right;\">\n",
       "      <th></th>\n",
       "      <th>user_id</th>\n",
       "      <th>movie_id</th>\n",
       "      <th>count</th>\n",
       "      <th>title</th>\n",
       "      <th>genre</th>\n",
       "    </tr>\n",
       "  </thead>\n",
       "  <tbody>\n",
       "    <tr>\n",
       "      <th>0</th>\n",
       "      <td>0</td>\n",
       "      <td>1193</td>\n",
       "      <td>5</td>\n",
       "      <td>0</td>\n",
       "      <td>Drama</td>\n",
       "    </tr>\n",
       "    <tr>\n",
       "      <th>1</th>\n",
       "      <td>0</td>\n",
       "      <td>661</td>\n",
       "      <td>3</td>\n",
       "      <td>1</td>\n",
       "      <td>Animation|Children's|Musical</td>\n",
       "    </tr>\n",
       "    <tr>\n",
       "      <th>2</th>\n",
       "      <td>0</td>\n",
       "      <td>914</td>\n",
       "      <td>3</td>\n",
       "      <td>2</td>\n",
       "      <td>Musical|Romance</td>\n",
       "    </tr>\n",
       "    <tr>\n",
       "      <th>3</th>\n",
       "      <td>0</td>\n",
       "      <td>3408</td>\n",
       "      <td>4</td>\n",
       "      <td>3</td>\n",
       "      <td>Drama</td>\n",
       "    </tr>\n",
       "    <tr>\n",
       "      <th>4</th>\n",
       "      <td>0</td>\n",
       "      <td>2355</td>\n",
       "      <td>5</td>\n",
       "      <td>4</td>\n",
       "      <td>Animation|Children's|Comedy</td>\n",
       "    </tr>\n",
       "    <tr>\n",
       "      <th>...</th>\n",
       "      <td>...</td>\n",
       "      <td>...</td>\n",
       "      <td>...</td>\n",
       "      <td>...</td>\n",
       "      <td>...</td>\n",
       "    </tr>\n",
       "    <tr>\n",
       "      <th>0</th>\n",
       "      <td>6039</td>\n",
       "      <td>253</td>\n",
       "      <td>5</td>\n",
       "      <td>427</td>\n",
       "      <td>NaN</td>\n",
       "    </tr>\n",
       "    <tr>\n",
       "      <th>1</th>\n",
       "      <td>6039</td>\n",
       "      <td>1580</td>\n",
       "      <td>5</td>\n",
       "      <td>175</td>\n",
       "      <td>NaN</td>\n",
       "    </tr>\n",
       "    <tr>\n",
       "      <th>2</th>\n",
       "      <td>6039</td>\n",
       "      <td>2</td>\n",
       "      <td>5</td>\n",
       "      <td>513</td>\n",
       "      <td>NaN</td>\n",
       "    </tr>\n",
       "    <tr>\n",
       "      <th>3</th>\n",
       "      <td>6039</td>\n",
       "      <td>1</td>\n",
       "      <td>5</td>\n",
       "      <td>40</td>\n",
       "      <td>NaN</td>\n",
       "    </tr>\n",
       "    <tr>\n",
       "      <th>4</th>\n",
       "      <td>6039</td>\n",
       "      <td>551</td>\n",
       "      <td>5</td>\n",
       "      <td>284</td>\n",
       "      <td>NaN</td>\n",
       "    </tr>\n",
       "  </tbody>\n",
       "</table>\n",
       "<p>836483 rows × 5 columns</p>\n",
       "</div>"
      ],
      "text/plain": [
       "    user_id  movie_id  count  title                         genre\n",
       "0         0      1193      5      0                         Drama\n",
       "1         0       661      3      1  Animation|Children's|Musical\n",
       "2         0       914      3      2               Musical|Romance\n",
       "3         0      3408      4      3                         Drama\n",
       "4         0      2355      5      4   Animation|Children's|Comedy\n",
       "..      ...       ...    ...    ...                           ...\n",
       "0      6039       253      5    427                           NaN\n",
       "1      6039      1580      5    175                           NaN\n",
       "2      6039         2      5    513                           NaN\n",
       "3      6039         1      5     40                           NaN\n",
       "4      6039       551      5    284                           NaN\n",
       "\n",
       "[836483 rows x 5 columns]"
      ]
     },
     "execution_count": 35,
     "metadata": {},
     "output_type": "execute_result"
    }
   ],
   "source": [
    "# indexing을 통해 데이터 컬럼 내 값을 바꾸는 코드\n",
    "# dictionary 자료형의 get 함수는 https://wikidocs.net/16 을 참고하세요.\n",
    "\n",
    "# user_to_idx.get을 통해 user_id 컬럼의 모든 값을 인덱싱한 Series를 구해 봅시다. \n",
    "# 혹시 정상적으로 인덱싱되지 않은 row가 있다면 인덱스가 NaN이 될 테니 dropna()로 제거합니다. \n",
    "temp_user_ratings = ratings['user_id'].map(user_to_idx.get).dropna()\n",
    "if len(temp_user_ratings) == len(ratings):   # 모든 row가 정상적으로 인덱싱되었다면\n",
    "    print('user_id column indexing OK!!')\n",
    "    ratings['user_id'] = temp_user_ratings   # data['user_id']을 인덱싱된 Series로 교체해 줍니다. \n",
    "else:\n",
    "    print('user_id column indexing Fail!!')\n",
    "\n",
    "# movie_to_idx을 통해 title 컬럼도 동일한 방식으로 인덱싱해 줍니다. \n",
    "temp_movie_ratings = ratings['title'].map(movie_to_idx.get).dropna()\n",
    "if len(temp_movie_ratings) == len(ratings):\n",
    "    print('movie column indexing OK!!')\n",
    "    ratings['title'] = temp_movie_ratings\n",
    "else:\n",
    "    print('movie column indexing Fail!!')\n",
    "\n",
    "ratings"
   ]
  },
  {
   "cell_type": "code",
   "execution_count": 36,
   "id": "critical-worcester",
   "metadata": {
    "scrolled": true
   },
   "outputs": [
    {
     "data": {
      "text/plain": [
       "<6040x3628 sparse matrix of type '<class 'numpy.int64'>'\n",
       "\twith 836483 stored elements in Compressed Sparse Row format>"
      ]
     },
     "execution_count": 36,
     "metadata": {},
     "output_type": "execute_result"
    }
   ],
   "source": [
    "csr_data = csr_matrix((ratings['count'], (ratings.user_id, ratings.title)), shape= (num_user, num_movie))\n",
    "csr_data"
   ]
  },
  {
   "cell_type": "markdown",
   "id": "searching-heaven",
   "metadata": {},
   "source": [
    "### 5) als_model = AlternatingLeastSquares 모델을 직접 구성하여 훈련시켜 봅시다."
   ]
  },
  {
   "cell_type": "code",
   "execution_count": 37,
   "id": "vertical-mixer",
   "metadata": {},
   "outputs": [],
   "source": [
    "# implicit 라이브러리에서 권장하고 있는 부분입니다. 학습 내용과는 무관합니다.\n",
    "os.environ['OPENBLAS_NUM_THREADS']='1'\n",
    "os.environ['KMP_DUPLICATE_LIB_OK']='True'\n",
    "os.environ['MKL_NUM_THREADS']='1'"
   ]
  },
  {
   "cell_type": "code",
   "execution_count": 38,
   "id": "absolute-worthy",
   "metadata": {},
   "outputs": [],
   "source": [
    "# Implicit AlternatingLeastSquares 모델의 선언\n",
    "als_model = AlternatingLeastSquares(factors=100, regularization=0.01, use_gpu=False, iterations=15, dtype=np.float32)"
   ]
  },
  {
   "cell_type": "code",
   "execution_count": 39,
   "id": "authentic-induction",
   "metadata": {},
   "outputs": [
    {
     "data": {
      "text/plain": [
       "<3628x6040 sparse matrix of type '<class 'numpy.int64'>'\n",
       "\twith 836483 stored elements in Compressed Sparse Column format>"
      ]
     },
     "execution_count": 39,
     "metadata": {},
     "output_type": "execute_result"
    }
   ],
   "source": [
    "# als 모델은 input으로 (item X user 꼴의 matrix를 받기 때문에 Transpose해줍니다.)\n",
    "csr_data_transpose = csr_data.T\n",
    "csr_data_transpose"
   ]
  },
  {
   "cell_type": "code",
   "execution_count": 40,
   "id": "bridal-liberia",
   "metadata": {},
   "outputs": [
    {
     "data": {
      "application/vnd.jupyter.widget-view+json": {
       "model_id": "38e6795b5e394269b8cc866cc6d005e1",
       "version_major": 2,
       "version_minor": 0
      },
      "text/plain": [
       "  0%|          | 0/15 [00:00<?, ?it/s]"
      ]
     },
     "metadata": {},
     "output_type": "display_data"
    }
   ],
   "source": [
    "# 모델 훈련\n",
    "als_model.fit(csr_data_transpose)"
   ]
  },
  {
   "cell_type": "markdown",
   "id": "tired-notion",
   "metadata": {},
   "source": [
    "### 6) 내가 선호하는 5가지 영화 중 하나와 그 외의 영화 하나를 골라 훈련된 모델이 예측한 나의 선호도를 파악해 보세요."
   ]
  },
  {
   "cell_type": "code",
   "execution_count": 41,
   "id": "fifty-conference",
   "metadata": {
    "scrolled": true
   },
   "outputs": [
    {
     "data": {
      "text/plain": [
       "0.3309698"
      ]
     },
     "execution_count": 41,
     "metadata": {},
     "output_type": "execute_result"
    }
   ],
   "source": [
    "my, Vampire = user_to_idx['6041'], movie_to_idx['Interview with the Vampire (1994)']\n",
    "my_vector, Vampire_vector = als_model.user_factors[my], als_model.item_factors[Vampire]\n",
    "\n",
    "np.dot(my_vector, Vampire_vector)"
   ]
  },
  {
   "cell_type": "markdown",
   "id": "outer-asthma",
   "metadata": {},
   "source": [
    "- 좋아하는 영화인데 내적한 값이 0.3이 나왔습니다.\n",
    "- 아마 넣은 데이터들도 적고 제가 좋아하는 영화로 넣은 영화들이 비슷하지 않아서 그런건가 싶습니다."
   ]
  },
  {
   "cell_type": "markdown",
   "id": "executive-berlin",
   "metadata": {},
   "source": [
    "### 7) 내가 좋아하는 영화와 비슷한 영화를 추천받아 봅시다."
   ]
  },
  {
   "cell_type": "code",
   "execution_count": 42,
   "id": "responsible-brain",
   "metadata": {},
   "outputs": [
    {
     "name": "stdout",
     "output_type": "stream",
     "text": [
      "['Interview with the Vampire (1994)', 'Men in Black (1997)', 'Jumanji (1995)', 'Toy Story (1995)', 'Nightmare Before Christmas, The (1993)']\n",
      "[253, 1580, 2, 1, 551]\n"
     ]
    }
   ],
   "source": [
    "# 내가 좋아하는 영화와 인덱스를 다시 확인해 봅시다.\n",
    "print(my_favorite)\n",
    "print(my_idx)"
   ]
  },
  {
   "cell_type": "code",
   "execution_count": 43,
   "id": "asian-innocent",
   "metadata": {},
   "outputs": [
    {
     "data": {
      "text/plain": [
       "[(551, 1.0000001),\n",
       " (37, 0.8918658),\n",
       " (46, 0.88764644),\n",
       " (572, 0.88497347),\n",
       " (528, 0.81589216),\n",
       " (8, 0.8126541),\n",
       " (619, 0.7876742),\n",
       " (547, 0.7794802),\n",
       " (536, 0.7768648),\n",
       " (609, 0.7455102)]"
      ]
     },
     "execution_count": 43,
     "metadata": {},
     "output_type": "execute_result"
    }
   ],
   "source": [
    "similar_movie = als_model.similar_items(551)\n",
    "similar_movie   # (movie idx, 유사도) Tuple"
   ]
  },
  {
   "cell_type": "code",
   "execution_count": 44,
   "id": "formal-lodge",
   "metadata": {
    "scrolled": true
   },
   "outputs": [
    {
     "data": {
      "text/plain": [
       "['Nightmare Before Christmas, The (1993)',\n",
       " 'Across the Sea of Time (1995)',\n",
       " 'How to Make an American Quilt (1995)',\n",
       " 'Foreign Student (1994)',\n",
       " 'Scout, The (1994)',\n",
       " 'Tom and Huck (1995)',\n",
       " 'Ed (1996)',\n",
       " 'Surviving the Game (1994)',\n",
       " 'Simple Twist of Fate, A (1994)',\n",
       " 'Homeward Bound II: Lost in San Francisco (1996)']"
      ]
     },
     "execution_count": 44,
     "metadata": {},
     "output_type": "execute_result"
    }
   ],
   "source": [
    "# 유사한 영화 제목을 확인해봅니다.\n",
    "[idx_to_movie[i[0]] for i in similar_movie]"
   ]
  },
  {
   "cell_type": "markdown",
   "id": "pressed-university",
   "metadata": {},
   "source": [
    "### 8) 내가 가장 좋아할 만한 영화들을 추천받아 봅시다."
   ]
  },
  {
   "cell_type": "code",
   "execution_count": 45,
   "id": "willing-exhibit",
   "metadata": {},
   "outputs": [
    {
     "data": {
      "text/plain": [
       "[(4, 0.4442069),\n",
       " (50, 0.44049203),\n",
       " (107, 0.365987),\n",
       " (322, 0.35162878),\n",
       " (458, 0.34208357),\n",
       " (33, 0.31078345),\n",
       " (545, 0.29916334),\n",
       " (92, 0.28540158),\n",
       " (670, 0.2798301),\n",
       " (60, 0.26904038),\n",
       " (250, 0.240684),\n",
       " (1, 0.22418799),\n",
       " (62, 0.21879306),\n",
       " (678, 0.21242085),\n",
       " (10, 0.20882972),\n",
       " (330, 0.20711803),\n",
       " (596, 0.20072576),\n",
       " (1090, 0.19501258),\n",
       " (524, 0.19228116),\n",
       " (316, 0.18554458)]"
      ]
     },
     "execution_count": 45,
     "metadata": {},
     "output_type": "execute_result"
    }
   ],
   "source": [
    "user = user_to_idx['6041']\n",
    "\n",
    "artist_recommended = als_model.recommend(user, csr_data, N=20, filter_already_liked_items=True)\n",
    "artist_recommended"
   ]
  },
  {
   "cell_type": "code",
   "execution_count": 46,
   "id": "heavy-experience",
   "metadata": {},
   "outputs": [
    {
     "data": {
      "text/plain": [
       "['Waiting to Exhale (1995)',\n",
       " 'Usual Suspects, The (1995)',\n",
       " 'Muppet Treasure Island (1996)',\n",
       " 'Swimming with Sharks (1995)',\n",
       " 'Geronimo: An American Legend (1993)',\n",
       " 'Wings of Courage (1995)',\n",
       " 'Harlem (1993)',\n",
       " 'Mary Reilly (1996)',\n",
       " 'World of Apu, The (Apur Sansar) (1959)',\n",
       " 'Indian in the Cupboard, The (1995)',\n",
       " 'Heavyweights (1994)',\n",
       " 'Toy Story (1995)',\n",
       " \"Mr. Holland's Opus (1995)\",\n",
       " 'Some Folks Call It a Sling Blade (1993)',\n",
       " 'GoldenEye (1995)',\n",
       " 'Tales from the Hood (1995)',\n",
       " 'Pinocchio (1940)',\n",
       " 'Platoon (1986)',\n",
       " 'Rudy (1993)',\n",
       " 'Stargate (1994)']"
      ]
     },
     "execution_count": 46,
     "metadata": {},
     "output_type": "execute_result"
    }
   ],
   "source": [
    "[idx_to_movie[i[0]] for i in artist_recommended]"
   ]
  },
  {
   "cell_type": "markdown",
   "id": "rolled-rogers",
   "metadata": {},
   "source": [
    "- 추천 받은 영화 중 좋아하는 영화는 토이스토리입니다."
   ]
  },
  {
   "cell_type": "code",
   "execution_count": 47,
   "id": "ce0f4991",
   "metadata": {},
   "outputs": [
    {
     "name": "stdout",
     "output_type": "stream",
     "text": [
      "총 작업 소요 시간은 약 11초입니다.\n"
     ]
    }
   ],
   "source": [
    "end_time = time.time()\n",
    "work_time = round(end_time - start_time)\n",
    "print(f'총 작업 소요 시간은 약 {work_time}초입니다.')"
   ]
  },
  {
   "cell_type": "markdown",
   "id": "welsh-lithuania",
   "metadata": {},
   "source": [
    "---"
   ]
  },
  {
   "cell_type": "markdown",
   "id": "refined-richmond",
   "metadata": {},
   "source": [
    "## 루브릭 관련 고려한 점\n",
    "\n",
    "**1. CSR matrix가 정상적으로 만들어졌다.**\n",
    "\n",
    "- 사용자와 아이템 개수를 바탕으로 정확한 사이즈로 만들었다.\n",
    "\n",
    "**2. MF 모델이 정상적으로 훈련되어 그럴듯한 추천이 이루어졌다.**\n",
    "\n",
    "- 사용자와 아이템 벡터 내적수치가 의미있게 형성되었다. 내가 좋아할 만한 영화들이 여러개 추천됐다.\n",
    "\n",
    "**3. 비슷한 영화 찾기와 유저에게 추천하기의 과정이 정상적으로 진행되었다.**\n",
    "\n",
    "- MF모델이 예측한 유저 선호도 및 아이템간 유사도, 기여도가 의미있게 측정되었다."
   ]
  },
  {
   "cell_type": "markdown",
   "id": "alien-sheffield",
   "metadata": {},
   "source": [
    "## 회고"
   ]
  },
  {
   "cell_type": "markdown",
   "id": "common-desperate",
   "metadata": {},
   "source": [
    "### 잘한 거:\n",
    "- for 문으로 전체 영화데이터를 확인해봤다.\n",
    "- 인덱스로 나온 값들을 확인 할 수 있도록 영화제목으로 바꾸는 작업을 하였다.\n",
    "\n",
    "### 어려웠던 거:\n",
    "- csr_matrix 작성에 오류가 계속 떴다. 처음엔 count 관련 에러였고 그다음은 인덱스 관련 밸류에러가 떴다.\n",
    "- 아지트에 관련된 질문을 확인하고 수정해서 해결했다.\n",
    "- 모델 관련해서 os.environ이 학습 내용과는 무관하다고 되어있었지만 없을 경우에는 경고 문구가 표시되었다.\n",
    "-  csr_matrix 개념을 이해하기 어려웠다. 추가적으로 학습할 필요가 있다.\n",
    "- 실제 추천 영화도 그렇고 벡터값이 낮게 나와서 적절하지 않은 것 같다.\n",
    "\n",
    "### 느낀 점:\n",
    "- 이번 EXPLORATION는 약간 버거웠다.\n",
    "- 코드적으로 어렵다기보단 추천시스템에 대한 이해가 되지 않은 상태에서 진행을 하려고 하니 부족함을 많이 느꼈다.\n",
    "- 추천받은 영화도 잘 모르겠을 뿐더러 좋아하는 영화인지도 잘 모르겠다.\n",
    "- 벡터값이 우선 현저하게 낮은데 이부분을 보완하기 위해서는 내가 좋아하는 영화를 5개 이상으로 넣어야 하지 않을까 싶다.\n",
    "- 만족스럽게 작성해서 제출하지 못한 점을 반성하고, 이후 복습할 때 내가 이해하지 못하고 지나간 부분에 대해 함께 작성하면 좋을 것 같다.\n",
    "- 추가적으로 장르 칼럼을 사용하지 않아서 삭제해봤다. 다음번에는 영화 장르 칼럼을 살려서 유효하게 사용하면 좋을 것 같다.\n",
    "\n",
    "\n",
    "    \n",
    "### 후기\n",
    "\n",
    "```\n",
    "역시 추천시스템은 재미있는것 같다. 로또추첨같은것도 만들어보면 재밌을꺼 같다..\n",
    "\n",
    "아무래도 데이터가 우리에게 친숙한 소재(영화, 음악, 음식 등등)라서 그런지 이해하기도 쉽고 시간 흐름에 따라서 어떤 영화가 인기가 있었는지 어떤 장르가 인기가 있는지 등등 다양한 관점에서 시각화 해보면서 새로운 인사이트를 얻을 수 있었다.\n",
    "\n",
    "csr_matrix 외의 다른 matrix도 공부해보면서 어떤 장단점이 있는지, 추천 시스템에서 사용할 만한 다른 솔루션이 있을지 찾아보면서 공부해보는것도 좋을 것 같다.\n",
    "```"
   ]
  }
 ],
 "metadata": {
  "kernelspec": {
   "display_name": "Python 3 (ipykernel)",
   "language": "python",
   "name": "python3"
  },
  "language_info": {
   "codemirror_mode": {
    "name": "ipython",
    "version": 3
   },
   "file_extension": ".py",
   "mimetype": "text/x-python",
   "name": "python",
   "nbconvert_exporter": "python",
   "pygments_lexer": "ipython3",
   "version": "3.9.7"
  }
 },
 "nbformat": 4,
 "nbformat_minor": 5
}
