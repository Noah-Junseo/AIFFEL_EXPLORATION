{
 "cells": [
  {
   "cell_type": "markdown",
   "metadata": {},
   "source": [
    "# 프로젝트 : 네이버 영화리뷰 감성분석 도전하기\n",
    "\n",
    " \n",
    "### [루브릭]\n",
    "\n",
    "평가문항\t상세기준\n",
    "1. 다양한 방법으로 Text Classification 태스크를 성공적으로 구현하였다. \n",
    "    - 3가지 이상의 모델이 성공적으로 시도됨\n",
    "2. gensim을 활용하여 자체학습된 혹은 사전학습된 임베딩 레이어를 분석하였다. \n",
    "    - gensim의 유사단어 찾기를 활용하여 자체학습한 임베딩과 사전학습 임베딩을 적절히 분석함\n",
    "3. 한국어 Word2Vec을 활용하여 가시적인 성능향상을 달성했다. \n",
    "    - 네이버 영화리뷰 데이터 감성분석 정확도를 85% 이상 달성함\n",
    "\n",
    "### [학습 과정]\n",
    "1) 데이터 준비와 확인  \n",
    "2) 데이터로더 구성  \n",
    "3) 모델구성을 위한 데이터 분석 및 가공  \n",
    "4) 모델 구성 및 validation set 구성  \n",
    "5) 모델 훈련 개시  \n",
    "6) Loss Accuracy 그래프 시각화   \n",
    "7) 학습된 Embedding 레이어 분석  \n",
    "8) 한국어 Word2Vec 임베딩 활용하여 성능 개선  \n",
    "\n",
    "### [결과 및 회고]"
   ]
  },
  {
   "cell_type": "markdown",
   "metadata": {},
   "source": [
    "### 데이터 준비와 확인"
   ]
  },
  {
   "cell_type": "markdown",
   "metadata": {},
   "source": [
    "- 먼저 Gensim 다운그레이드를 해줘야 한다. "
   ]
  },
  {
   "cell_type": "code",
   "execution_count": 1,
   "metadata": {},
   "outputs": [
    {
     "name": "stdout",
     "output_type": "stream",
     "text": [
      "Requirement already satisfied: gensim in /opt/conda/lib/python3.9/site-packages (3.8.3)\n",
      "Requirement already satisfied: six>=1.5.0 in /opt/conda/lib/python3.9/site-packages (from gensim) (1.16.0)\n",
      "Requirement already satisfied: numpy>=1.11.3 in /opt/conda/lib/python3.9/site-packages (from gensim) (1.21.4)\n",
      "Requirement already satisfied: scipy>=0.18.1 in /opt/conda/lib/python3.9/site-packages (from gensim) (1.7.1)\n",
      "Requirement already satisfied: smart-open>=1.8.1 in /opt/conda/lib/python3.9/site-packages (from gensim) (5.2.1)\n",
      "\u001b[33mWARNING: Running pip as the 'root' user can result in broken permissions and conflicting behaviour with the system package manager. It is recommended to use a virtual environment instead: https://pip.pypa.io/warnings/venv\u001b[0m\n",
      "Requirement already satisfied: gensim==3.8.3 in /opt/conda/lib/python3.9/site-packages (3.8.3)\n",
      "Requirement already satisfied: scipy>=0.18.1 in /opt/conda/lib/python3.9/site-packages (from gensim==3.8.3) (1.7.1)\n",
      "Requirement already satisfied: smart-open>=1.8.1 in /opt/conda/lib/python3.9/site-packages (from gensim==3.8.3) (5.2.1)\n",
      "Requirement already satisfied: six>=1.5.0 in /opt/conda/lib/python3.9/site-packages (from gensim==3.8.3) (1.16.0)\n",
      "Requirement already satisfied: numpy>=1.11.3 in /opt/conda/lib/python3.9/site-packages (from gensim==3.8.3) (1.21.4)\n",
      "\u001b[33mWARNING: Running pip as the 'root' user can result in broken permissions and conflicting behaviour with the system package manager. It is recommended to use a virtual environment instead: https://pip.pypa.io/warnings/venv\u001b[0m\n"
     ]
    }
   ],
   "source": [
    "!pip install gensim\n",
    "\n",
    "!pip install --upgrade gensim==3.8.3"
   ]
  },
  {
   "cell_type": "code",
   "execution_count": 2,
   "metadata": {},
   "outputs": [
    {
     "data": {
      "text/plain": [
       "'3.8.3'"
      ]
     },
     "execution_count": 2,
     "metadata": {},
     "output_type": "execute_result"
    }
   ],
   "source": [
    "import gensim\n",
    "gensim.__version__"
   ]
  },
  {
   "cell_type": "code",
   "execution_count": 3,
   "metadata": {},
   "outputs": [
    {
     "data": {
      "text/html": [
       "<div>\n",
       "<style scoped>\n",
       "    .dataframe tbody tr th:only-of-type {\n",
       "        vertical-align: middle;\n",
       "    }\n",
       "\n",
       "    .dataframe tbody tr th {\n",
       "        vertical-align: top;\n",
       "    }\n",
       "\n",
       "    .dataframe thead th {\n",
       "        text-align: right;\n",
       "    }\n",
       "</style>\n",
       "<table border=\"1\" class=\"dataframe\">\n",
       "  <thead>\n",
       "    <tr style=\"text-align: right;\">\n",
       "      <th></th>\n",
       "      <th>id</th>\n",
       "      <th>document</th>\n",
       "      <th>label</th>\n",
       "    </tr>\n",
       "  </thead>\n",
       "  <tbody>\n",
       "    <tr>\n",
       "      <th>0</th>\n",
       "      <td>9976970</td>\n",
       "      <td>아 더빙.. 진짜 짜증나네요 목소리</td>\n",
       "      <td>0</td>\n",
       "    </tr>\n",
       "    <tr>\n",
       "      <th>1</th>\n",
       "      <td>3819312</td>\n",
       "      <td>흠...포스터보고 초딩영화줄....오버연기조차 가볍지 않구나</td>\n",
       "      <td>1</td>\n",
       "    </tr>\n",
       "    <tr>\n",
       "      <th>2</th>\n",
       "      <td>10265843</td>\n",
       "      <td>너무재밓었다그래서보는것을추천한다</td>\n",
       "      <td>0</td>\n",
       "    </tr>\n",
       "    <tr>\n",
       "      <th>3</th>\n",
       "      <td>9045019</td>\n",
       "      <td>교도소 이야기구먼 ..솔직히 재미는 없다..평점 조정</td>\n",
       "      <td>0</td>\n",
       "    </tr>\n",
       "    <tr>\n",
       "      <th>4</th>\n",
       "      <td>6483659</td>\n",
       "      <td>사이몬페그의 익살스런 연기가 돋보였던 영화!스파이더맨에서 늙어보이기만 했던 커스틴 ...</td>\n",
       "      <td>1</td>\n",
       "    </tr>\n",
       "  </tbody>\n",
       "</table>\n",
       "</div>"
      ],
      "text/plain": [
       "         id                                           document  label\n",
       "0   9976970                                아 더빙.. 진짜 짜증나네요 목소리      0\n",
       "1   3819312                  흠...포스터보고 초딩영화줄....오버연기조차 가볍지 않구나      1\n",
       "2  10265843                                  너무재밓었다그래서보는것을추천한다      0\n",
       "3   9045019                      교도소 이야기구먼 ..솔직히 재미는 없다..평점 조정      0\n",
       "4   6483659  사이몬페그의 익살스런 연기가 돋보였던 영화!스파이더맨에서 늙어보이기만 했던 커스틴 ...      1"
      ]
     },
     "execution_count": 3,
     "metadata": {},
     "output_type": "execute_result"
    }
   ],
   "source": [
    "import pandas as pd\n",
    "import urllib.request\n",
    "%matplotlib inline\n",
    "import matplotlib.pyplot as plt\n",
    "import re\n",
    "from konlpy.tag import Okt\n",
    "from tensorflow import keras\n",
    "from tensorflow.keras.preprocessing.text import Tokenizer\n",
    "import numpy as np\n",
    "from tensorflow.keras.preprocessing.sequence import pad_sequences\n",
    "from collections import Counter\n",
    "\n",
    "\n",
    "# 데이터를 읽어봅시다. \n",
    "train_data = pd.read_table('~/aiffel/sentiment_classification/data/ratings_train.txt')\n",
    "test_data = pd.read_table('~/aiffel/sentiment_classification/data/ratings_test.txt')\n",
    "\n",
    "train_data.head()"
   ]
  },
  {
   "cell_type": "code",
   "execution_count": 4,
   "metadata": {},
   "outputs": [
    {
     "data": {
      "text/html": [
       "<div>\n",
       "<style scoped>\n",
       "    .dataframe tbody tr th:only-of-type {\n",
       "        vertical-align: middle;\n",
       "    }\n",
       "\n",
       "    .dataframe tbody tr th {\n",
       "        vertical-align: top;\n",
       "    }\n",
       "\n",
       "    .dataframe thead th {\n",
       "        text-align: right;\n",
       "    }\n",
       "</style>\n",
       "<table border=\"1\" class=\"dataframe\">\n",
       "  <thead>\n",
       "    <tr style=\"text-align: right;\">\n",
       "      <th></th>\n",
       "      <th>id</th>\n",
       "      <th>document</th>\n",
       "      <th>label</th>\n",
       "    </tr>\n",
       "  </thead>\n",
       "  <tbody>\n",
       "    <tr>\n",
       "      <th>0</th>\n",
       "      <td>6270596</td>\n",
       "      <td>굳 ㅋ</td>\n",
       "      <td>1</td>\n",
       "    </tr>\n",
       "    <tr>\n",
       "      <th>1</th>\n",
       "      <td>9274899</td>\n",
       "      <td>GDNTOPCLASSINTHECLUB</td>\n",
       "      <td>0</td>\n",
       "    </tr>\n",
       "    <tr>\n",
       "      <th>2</th>\n",
       "      <td>8544678</td>\n",
       "      <td>뭐야 이 평점들은.... 나쁘진 않지만 10점 짜리는 더더욱 아니잖아</td>\n",
       "      <td>0</td>\n",
       "    </tr>\n",
       "    <tr>\n",
       "      <th>3</th>\n",
       "      <td>6825595</td>\n",
       "      <td>지루하지는 않은데 완전 막장임... 돈주고 보기에는....</td>\n",
       "      <td>0</td>\n",
       "    </tr>\n",
       "    <tr>\n",
       "      <th>4</th>\n",
       "      <td>6723715</td>\n",
       "      <td>3D만 아니었어도 별 다섯 개 줬을텐데.. 왜 3D로 나와서 제 심기를 불편하게 하죠??</td>\n",
       "      <td>0</td>\n",
       "    </tr>\n",
       "  </tbody>\n",
       "</table>\n",
       "</div>"
      ],
      "text/plain": [
       "        id                                           document  label\n",
       "0  6270596                                                굳 ㅋ      1\n",
       "1  9274899                               GDNTOPCLASSINTHECLUB      0\n",
       "2  8544678             뭐야 이 평점들은.... 나쁘진 않지만 10점 짜리는 더더욱 아니잖아      0\n",
       "3  6825595                   지루하지는 않은데 완전 막장임... 돈주고 보기에는....      0\n",
       "4  6723715  3D만 아니었어도 별 다섯 개 줬을텐데.. 왜 3D로 나와서 제 심기를 불편하게 하죠??      0"
      ]
     },
     "execution_count": 4,
     "metadata": {},
     "output_type": "execute_result"
    }
   ],
   "source": [
    "test_data.head()"
   ]
  },
  {
   "cell_type": "markdown",
   "metadata": {},
   "source": [
    "- train_data와 test_data에는 각각 id, document, label 컬럼이 있다.\n",
    "- label이 1이면 긍정적, 0이면 부정적인 리뷰이다."
   ]
  },
  {
   "cell_type": "markdown",
   "metadata": {},
   "source": [
    "### 데이터로더 구성\n",
    "\n",
    "* 데이터의 중복 제거\n",
    "* NaN 결측치 제거\n",
    "* 한국어 토크나이저로 토큰화\n",
    "* 불용어(Stopwords) 제거\n",
    "* 사전word_to_index 구성\n",
    "* 텍스트 스트링을 사전 인덱스 스트링으로 변환\n",
    "* X_train, y_train, X_test, y_test, word_to_index 리턴\n"
   ]
  },
  {
   "cell_type": "code",
   "execution_count": 5,
   "metadata": {},
   "outputs": [
    {
     "name": "stdout",
     "output_type": "stream",
     "text": [
      "훈련 샘플 개수: 146182, 테스트 개수: 49157\n",
      "53965\n"
     ]
    }
   ],
   "source": [
    "from konlpy.tag import Mecab\n",
    "tokenizer = Mecab()\n",
    "stopwords = ['의','가','이','은','들','는','좀','잘','걍','과','도','를','으로','자','에','와','한','하다']\n",
    "\n",
    "def load_data(train_data, test_data, num_words=70000):\n",
    "    train_data.drop_duplicates(subset=['document'], inplace=True) # 데이터 중복 제거\n",
    "    train_data = train_data.dropna(how='any')          # 결측치 제거       \n",
    "    test_data.drop_duplicates(subset=['document'], inplace=True) # 데이터 중복 제거\n",
    "    test_data = test_data.dropna(how = 'any')          # 결측치 제거\n",
    "    \n",
    "    X_train = []\n",
    "    for sentence in train_data['document']:\n",
    "        temp_X = tokenizer.morphs(sentence) # 토큰화\n",
    "        temp_X = [word for word in temp_X if not word in stopwords] # stopwords 제거\n",
    "        X_train.append(temp_X)\n",
    "\n",
    "    X_test = []\n",
    "    for sentence in test_data['document']:\n",
    "        temp_X = tokenizer.morphs(sentence) # 토큰화\n",
    "        temp_X = [word for word in temp_X if not word in stopwords] # stopwords 제거\n",
    "        X_test.append(temp_X)\n",
    "\n",
    "    words = np.concatenate(X_train).tolist()\n",
    "    counter = Counter(words)\n",
    "    counter = counter.most_common(70000-4)\n",
    "    vocab = ['<PAD>', '<BOS>', '<UNK>', '<UNUSED>'] + [key for key, _ in counter]\n",
    "    word_to_index = {word:index for index, word in enumerate(vocab)}\n",
    "\n",
    "    def wordlist_to_indexlist(wordlist):\n",
    "        return [word_to_index[word] if word in word_to_index else word_to_index['<UNK>'] for word in wordlist]\n",
    "\n",
    "    X_train = list(map(wordlist_to_indexlist, X_train))\n",
    "    X_test = list(map(wordlist_to_indexlist, X_test))\n",
    "\n",
    "    return X_train, np.array(list(train_data['label'])), X_test, np.array(list(test_data['label'])), word_to_index\n",
    "    \n",
    "    \n",
    "    \n",
    "X_train, y_train, X_test, y_test, word_to_index = load_data(train_data, test_data)\n",
    "print(\"훈련 샘플 개수: {}, 테스트 개수: {}\".format(len(X_train), len(X_test)))\n",
    "print(len(word_to_index))"
   ]
  },
  {
   "cell_type": "code",
   "execution_count": 6,
   "metadata": {},
   "outputs": [],
   "source": [
    "index_to_word = {index:word for word, index in word_to_index.items()}"
   ]
  },
  {
   "cell_type": "code",
   "execution_count": 7,
   "metadata": {},
   "outputs": [],
   "source": [
    "# 문장 1개를 활용할 딕셔너리와 함께 주면, 단어 인덱스 리스트 벡터로 변환해 주는 함수입니다. \n",
    "# 단, 모든 문장은 <BOS>로 시작하는 것으로 합니다. \n",
    "def get_encoded_sentence(sentence, word_to_index):\n",
    "    return [word_to_index['<BOS>']]+[word_to_index[word] if word in word_to_index else word_to_index['<UNK>'] for word in sentence.split()]\n",
    "\n",
    "# 여러 개의 문장 리스트를 한꺼번에 단어 인덱스 리스트 벡터로 encode해 주는 함수입니다. \n",
    "def get_encoded_sentences(sentences, word_to_index):\n",
    "    return [get_encoded_sentence(sentence, word_to_index) for sentence in sentences]\n",
    "\n",
    "# 숫자 벡터로 encode된 문장을 원래대로 decode하는 함수입니다. \n",
    "def get_decoded_sentence(encoded_sentence, index_to_word):\n",
    "    return ' '.join(index_to_word[index] if index in index_to_word else '<UNK>' for index in encoded_sentence[1:])  #[1:]를 통해 <BOS>를 제외\n",
    "\n",
    "# 여러개의 숫자 벡터로 encode된 문장을 한꺼번에 원래대로 decode하는 함수입니다. \n",
    "def get_decoded_sentences(encoded_sentences, index_to_word):\n",
    "    return [get_decoded_sentence(encoded_sentence, index_to_word) for encoded_sentence in encoded_sentences]"
   ]
  },
  {
   "cell_type": "markdown",
   "metadata": {},
   "source": [
    "### 모델구성을 위한 데이터 분석 및 가공\n",
    "* 데이터셋 내 문장 길이 분포\n",
    "* 적절한 최대 문장 길이 지정\n",
    "* keras.preprocessing.sequence.pad_sequences 을 활용한 패딩 추가"
   ]
  },
  {
   "cell_type": "code",
   "execution_count": 8,
   "metadata": {},
   "outputs": [
    {
     "name": "stdout",
     "output_type": "stream",
     "text": [
      "1번째 리뷰 문장 길이:  10\n",
      "2번째 리뷰 문장 길이:  17\n"
     ]
    }
   ],
   "source": [
    "print('1번째 리뷰 문장 길이: ', len(X_train[0]))\n",
    "print('2번째 리뷰 문장 길이: ', len(X_train[1]))"
   ]
  },
  {
   "cell_type": "code",
   "execution_count": 9,
   "metadata": {},
   "outputs": [
    {
     "name": "stdout",
     "output_type": "stream",
     "text": [
      "문장길이 평균 :  15.96940191154864\n",
      "문장길이 최대 :  116\n",
      "문장길이 표준편차 :  12.843571191092\n",
      "pad_sequences maxlen :  41\n",
      "전체 문장의 0.9342988343341575%가 maxlen 설정값 이내에 포함됩니다. \n"
     ]
    }
   ],
   "source": [
    "total_data_text = list(X_train) + list(X_test)\n",
    "# 텍스트데이터 문장길이의 리스트를 생성\n",
    "num_tokens = [len(tokens) for tokens in total_data_text]\n",
    "\n",
    "num_tokens = np.array(num_tokens)\n",
    "# 문장길이의 평균값, 최대값, 표준편차를 계산\n",
    "print('문장길이 평균 : ', np.mean(num_tokens))\n",
    "print('문장길이 최대 : ', np.max(num_tokens))\n",
    "print('문장길이 표준편차 : ', np.std(num_tokens))\n",
    "\n",
    "# 예를들어, 최대 길이를 (평균 + 2*표준편차)로 한다면,  \n",
    "max_tokens = np.mean(num_tokens) + 2 * np.std(num_tokens)\n",
    "maxlen = int(max_tokens)\n",
    "print('pad_sequences maxlen : ', maxlen)\n",
    "print('전체 문장의 {}%가 maxlen 설정값 이내에 포함됩니다. '.format(np.sum(num_tokens < max_tokens) / len(num_tokens)))"
   ]
  },
  {
   "cell_type": "code",
   "execution_count": 10,
   "metadata": {},
   "outputs": [
    {
     "name": "stdout",
     "output_type": "stream",
     "text": [
      "(146182, 41)\n",
      "(49157, 41)\n"
     ]
    },
    {
     "data": {
      "text/plain": [
       "array([  0,   0,   0,   0,   0,   0,   0,   0,   0,   0,   0,   0,   0,\n",
       "         0,   0,   0,   0,   0,   0,   0,   0,   0,   0,   0,   0,   0,\n",
       "         0,   0,   0,   0,   0,  32,  74, 919,   4,   4,  39, 228,  20,\n",
       "        33, 748], dtype=int32)"
      ]
     },
     "execution_count": 10,
     "metadata": {},
     "output_type": "execute_result"
    }
   ],
   "source": [
    "X_train = keras.preprocessing.sequence.pad_sequences(X_train,\n",
    "                                                        value=word_to_index[\"<PAD>\"],\n",
    "                                                        padding='pre', # 혹은 'pre'\n",
    "                                                        maxlen=maxlen)\n",
    "\n",
    "X_test = keras.preprocessing.sequence.pad_sequences(X_test,\n",
    "                                                       value=word_to_index[\"<PAD>\"],\n",
    "                                                       padding='pre', # 혹은 'pre'\n",
    "                                                       maxlen=maxlen)\n",
    "\n",
    "\n",
    "print(X_train.shape)\n",
    "print(X_test.shape)\n",
    "X_train[0]"
   ]
  },
  {
   "cell_type": "code",
   "execution_count": 11,
   "metadata": {},
   "outputs": [
    {
     "name": "stdout",
     "output_type": "stream",
     "text": [
      "(136182, 41)\n",
      "(136182,)\n"
     ]
    }
   ],
   "source": [
    "# validation set 10000건 분리\n",
    "X_val = X_train[:10000]   \n",
    "y_val = y_train[:10000]\n",
    "\n",
    "# validation set을 제외한 나머지 10000건\n",
    "partial_x_train = X_train[10000:]  \n",
    "partial_y_train = y_train[10000:]\n",
    "\n",
    "print(partial_x_train.shape)\n",
    "print(partial_y_train.shape)"
   ]
  },
  {
   "cell_type": "markdown",
   "metadata": {},
   "source": [
    "# 모델 구성 및 validation set 구성\n",
    "### 1.GlobalMaxPooling1D\n",
    "### 2.Convolution Neural Network(1-D CNN) 모델\n",
    "### 3.LSTM \n",
    " LSTM 모델에 대한 비교대상 옵티마이저\n",
    " \n",
    "    - sgd\n",
    "    - adam\n",
    "    - RMSprop"
   ]
  },
  {
   "cell_type": "code",
   "execution_count": 12,
   "metadata": {},
   "outputs": [],
   "source": [
    "vocab_size = 10000    # 어휘 사전의 크기\n",
    "word_vector_dim = 16 # 워드 벡터의 차원수 (변경가능한 하이퍼파라미터)"
   ]
  },
  {
   "cell_type": "markdown",
   "metadata": {},
   "source": [
    "# 1. GlobalMaxPooling1D"
   ]
  },
  {
   "cell_type": "code",
   "execution_count": 13,
   "metadata": {},
   "outputs": [
    {
     "name": "stdout",
     "output_type": "stream",
     "text": [
      "Model: \"sequential\"\n",
      "_________________________________________________________________\n",
      "Layer (type)                 Output Shape              Param #   \n",
      "=================================================================\n",
      "embedding (Embedding)        (None, None, 16)          160000    \n",
      "_________________________________________________________________\n",
      "global_max_pooling1d (Global (None, 16)                0         \n",
      "_________________________________________________________________\n",
      "dense (Dense)                (None, 8)                 136       \n",
      "_________________________________________________________________\n",
      "dense_1 (Dense)              (None, 1)                 9         \n",
      "=================================================================\n",
      "Total params: 160,145\n",
      "Trainable params: 160,145\n",
      "Non-trainable params: 0\n",
      "_________________________________________________________________\n"
     ]
    }
   ],
   "source": [
    "model1 = keras.Sequential()\n",
    "model1.add(keras.layers.Embedding(vocab_size, word_vector_dim, input_shape=(None,)))\n",
    "model1.add(keras.layers.GlobalMaxPooling1D())\n",
    "model1.add(keras.layers.Dense(8, activation='relu'))\n",
    "model1.add(keras.layers.Dense(1, activation='sigmoid'))  # 최종 출력은 긍정/부정을 나타내는 1dim 입니다.\n",
    "\n",
    "model1.summary()"
   ]
  },
  {
   "cell_type": "markdown",
   "metadata": {},
   "source": [
    "# 2.Convolution Neural Network(1-D CNN) 모델"
   ]
  },
  {
   "cell_type": "code",
   "execution_count": 14,
   "metadata": {},
   "outputs": [
    {
     "name": "stdout",
     "output_type": "stream",
     "text": [
      "Model: \"CNN\"\n",
      "_________________________________________________________________\n",
      "Layer (type)                 Output Shape              Param #   \n",
      "=================================================================\n",
      "embedding_1 (Embedding)      (None, None, 16)          160000    \n",
      "_________________________________________________________________\n",
      "conv1d (Conv1D)              (None, None, 16)          1808      \n",
      "_________________________________________________________________\n",
      "max_pooling1d (MaxPooling1D) (None, None, 16)          0         \n",
      "_________________________________________________________________\n",
      "conv1d_1 (Conv1D)            (None, None, 16)          1808      \n",
      "_________________________________________________________________\n",
      "global_max_pooling1d_1 (Glob (None, 16)                0         \n",
      "_________________________________________________________________\n",
      "dense_2 (Dense)              (None, 8)                 136       \n",
      "_________________________________________________________________\n",
      "dense_3 (Dense)              (None, 1)                 9         \n",
      "=================================================================\n",
      "Total params: 163,761\n",
      "Trainable params: 163,761\n",
      "Non-trainable params: 0\n",
      "_________________________________________________________________\n"
     ]
    }
   ],
   "source": [
    "model2 = keras.Sequential(name='CNN')\n",
    "model2.add(keras.layers.Embedding(vocab_size, word_vector_dim, input_shape=(None,)))\n",
    "model2.add(keras.layers.Conv1D(16, 7, activation='relu'))\n",
    "model2.add(keras.layers.MaxPooling1D(5))\n",
    "model2.add(keras.layers.Conv1D(16, 7, activation='relu'))\n",
    "model2.add(keras.layers.GlobalMaxPooling1D())\n",
    "model2.add(keras.layers.Dense(8, activation='relu'))\n",
    "model2.add(keras.layers.Dense(1, activation='sigmoid'))  # 최종 출력은 긍정/부정을 나타내는 1dim 입니다.\n",
    "\n",
    "model2.summary()"
   ]
  },
  {
   "cell_type": "markdown",
   "metadata": {},
   "source": [
    "# 3.LSTM"
   ]
  },
  {
   "cell_type": "code",
   "execution_count": 15,
   "metadata": {
    "scrolled": true
   },
   "outputs": [
    {
     "name": "stdout",
     "output_type": "stream",
     "text": [
      "Model: \"LSTM\"\n",
      "_________________________________________________________________\n",
      "Layer (type)                 Output Shape              Param #   \n",
      "=================================================================\n",
      "embedding_2 (Embedding)      (None, None, 16)          160000    \n",
      "_________________________________________________________________\n",
      "lstm (LSTM)                  (None, 8)                 800       \n",
      "_________________________________________________________________\n",
      "dense_4 (Dense)              (None, 8)                 72        \n",
      "_________________________________________________________________\n",
      "dense_5 (Dense)              (None, 1)                 9         \n",
      "=================================================================\n",
      "Total params: 160,881\n",
      "Trainable params: 160,881\n",
      "Non-trainable params: 0\n",
      "_________________________________________________________________\n"
     ]
    }
   ],
   "source": [
    "model3 = keras.Sequential(name='LSTM')\n",
    "model3.add(keras.layers.Embedding(vocab_size, word_vector_dim, input_shape=(None,)))\n",
    "model3.add(keras.layers.LSTM(8))\n",
    "model3.add(keras.layers.Dense(8, activation='relu'))\n",
    "model3.add(keras.layers.Dense(1, activation='sigmoid'))  # 최종 출력은 긍정/부정을 나타내는 1dim 입니다.\n",
    "\n",
    "model3.summary()"
   ]
  },
  {
   "cell_type": "code",
   "execution_count": 16,
   "metadata": {},
   "outputs": [],
   "source": [
    "# validation set 구성\n",
    "\n",
    "from sklearn.model_selection import train_test_split\n",
    "X_train, X_val, y_train, y_val = train_test_split(X_train, y_train,\n",
    "                                                          test_size=0.2,\n",
    "                                                          random_state=7)"
   ]
  },
  {
   "cell_type": "markdown",
   "metadata": {},
   "source": [
    "## 모델 훈련 개시"
   ]
  },
  {
   "cell_type": "code",
   "execution_count": 17,
   "metadata": {},
   "outputs": [],
   "source": [
    "from keras.callbacks import EarlyStopping\n",
    "\n",
    "early_stopping = EarlyStopping(monitor='val_loss', mode='min', verbose=1, patience=10)"
   ]
  },
  {
   "cell_type": "code",
   "execution_count": 18,
   "metadata": {},
   "outputs": [
    {
     "name": "stdout",
     "output_type": "stream",
     "text": [
      "Epoch 1/10\n",
      "266/266 [==============================] - 2s 4ms/step - loss: 0.5752 - accuracy: 0.7504 - val_loss: 0.4231 - val_accuracy: 0.8281\n",
      "Epoch 2/10\n",
      "266/266 [==============================] - 1s 3ms/step - loss: 0.3727 - accuracy: 0.8405 - val_loss: 0.3400 - val_accuracy: 0.8563\n",
      "Epoch 3/10\n",
      "266/266 [==============================] - 1s 3ms/step - loss: 0.3257 - accuracy: 0.8615 - val_loss: 0.3100 - val_accuracy: 0.8715\n",
      "Epoch 4/10\n",
      "266/266 [==============================] - 1s 3ms/step - loss: 0.3009 - accuracy: 0.8734 - val_loss: 0.2900 - val_accuracy: 0.8813\n",
      "Epoch 5/10\n",
      "266/266 [==============================] - 1s 3ms/step - loss: 0.2829 - accuracy: 0.8833 - val_loss: 0.2750 - val_accuracy: 0.8888\n",
      "Epoch 6/10\n",
      "266/266 [==============================] - 1s 3ms/step - loss: 0.2685 - accuracy: 0.8901 - val_loss: 0.2624 - val_accuracy: 0.8946\n",
      "Epoch 7/10\n",
      "266/266 [==============================] - 1s 3ms/step - loss: 0.2565 - accuracy: 0.8959 - val_loss: 0.2518 - val_accuracy: 0.9000\n",
      "Epoch 8/10\n",
      "266/266 [==============================] - 1s 3ms/step - loss: 0.2463 - accuracy: 0.9005 - val_loss: 0.2438 - val_accuracy: 0.9053\n",
      "Epoch 9/10\n",
      "266/266 [==============================] - 1s 3ms/step - loss: 0.2375 - accuracy: 0.9048 - val_loss: 0.2364 - val_accuracy: 0.9084\n",
      "Epoch 10/10\n",
      "266/266 [==============================] - 1s 3ms/step - loss: 0.2296 - accuracy: 0.9086 - val_loss: 0.2299 - val_accuracy: 0.9112\n"
     ]
    }
   ],
   "source": [
    "model1.compile(optimizer='adam',\n",
    "              loss='binary_crossentropy',\n",
    "              metrics=['accuracy'])\n",
    "              \n",
    "epochs=10  # 몇 epoch를 훈련하면 좋을지 결과를 보면서 바꾸어 봅시다. \n",
    "\n",
    "history1 = model1.fit(partial_x_train,\n",
    "                    partial_y_train,\n",
    "                    epochs=epochs,\n",
    "                    batch_size=512,\n",
    "                    validation_data=(X_val, y_val),\n",
    "                    callbacks=[early_stopping],\n",
    "                    verbose=1)"
   ]
  },
  {
   "cell_type": "code",
   "execution_count": 19,
   "metadata": {},
   "outputs": [
    {
     "name": "stdout",
     "output_type": "stream",
     "text": [
      "Epoch 1/10\n",
      "266/266 [==============================] - 4s 6ms/step - loss: 0.4758 - accuracy: 0.7651 - val_loss: 0.3367 - val_accuracy: 0.8602\n",
      "Epoch 2/10\n",
      "266/266 [==============================] - 1s 5ms/step - loss: 0.3245 - accuracy: 0.8621 - val_loss: 0.2977 - val_accuracy: 0.8791\n",
      "Epoch 3/10\n",
      "266/266 [==============================] - 1s 5ms/step - loss: 0.2922 - accuracy: 0.8780 - val_loss: 0.2684 - val_accuracy: 0.8931\n",
      "Epoch 4/10\n",
      "266/266 [==============================] - 1s 5ms/step - loss: 0.2653 - accuracy: 0.8917 - val_loss: 0.2427 - val_accuracy: 0.9085\n",
      "Epoch 5/10\n",
      "266/266 [==============================] - 1s 5ms/step - loss: 0.2377 - accuracy: 0.9058 - val_loss: 0.2118 - val_accuracy: 0.9238\n",
      "Epoch 6/10\n",
      "266/266 [==============================] - 1s 5ms/step - loss: 0.2076 - accuracy: 0.9206 - val_loss: 0.1854 - val_accuracy: 0.9365\n",
      "Epoch 7/10\n",
      "266/266 [==============================] - 1s 5ms/step - loss: 0.1762 - accuracy: 0.9361 - val_loss: 0.1581 - val_accuracy: 0.9480\n",
      "Epoch 8/10\n",
      "266/266 [==============================] - 1s 5ms/step - loss: 0.1491 - accuracy: 0.9481 - val_loss: 0.1420 - val_accuracy: 0.9551\n",
      "Epoch 9/10\n",
      "266/266 [==============================] - 1s 5ms/step - loss: 0.1257 - accuracy: 0.9580 - val_loss: 0.1254 - val_accuracy: 0.9623\n",
      "Epoch 10/10\n",
      "266/266 [==============================] - 1s 5ms/step - loss: 0.1064 - accuracy: 0.9664 - val_loss: 0.1199 - val_accuracy: 0.9659\n"
     ]
    }
   ],
   "source": [
    "model2.compile(optimizer='adam',\n",
    "              loss='binary_crossentropy',\n",
    "              metrics=['accuracy'])\n",
    "              \n",
    "epochs=10  # 몇 epoch를 훈련하면 좋을지 결과를 보면서 바꾸어 봅시다. \n",
    "\n",
    "history2 = model2.fit(partial_x_train,\n",
    "                    partial_y_train,\n",
    "                    epochs=epochs,\n",
    "                    batch_size=512,\n",
    "                    validation_data=(X_val, y_val),\n",
    "                    callbacks=[early_stopping],\n",
    "                    verbose=1)"
   ]
  },
  {
   "cell_type": "code",
   "execution_count": 20,
   "metadata": {},
   "outputs": [
    {
     "name": "stdout",
     "output_type": "stream",
     "text": [
      "Epoch 1/10\n",
      "266/266 [==============================] - 3s 7ms/step - loss: 0.4908 - accuracy: 0.7851 - val_loss: 0.3533 - val_accuracy: 0.8548\n",
      "Epoch 2/10\n",
      "266/266 [==============================] - 1s 5ms/step - loss: 0.3386 - accuracy: 0.8581 - val_loss: 0.3196 - val_accuracy: 0.8707\n",
      "Epoch 3/10\n",
      "266/266 [==============================] - 1s 5ms/step - loss: 0.3182 - accuracy: 0.8674 - val_loss: 0.3063 - val_accuracy: 0.8760\n",
      "Epoch 4/10\n",
      "266/266 [==============================] - 1s 6ms/step - loss: 0.3060 - accuracy: 0.8723 - val_loss: 0.2975 - val_accuracy: 0.8781\n",
      "Epoch 5/10\n",
      "266/266 [==============================] - 1s 5ms/step - loss: 0.2964 - accuracy: 0.8765 - val_loss: 0.2894 - val_accuracy: 0.8830\n",
      "Epoch 6/10\n",
      "266/266 [==============================] - 1s 5ms/step - loss: 0.2869 - accuracy: 0.8821 - val_loss: 0.2800 - val_accuracy: 0.8870\n",
      "Epoch 7/10\n",
      "266/266 [==============================] - 1s 5ms/step - loss: 0.2774 - accuracy: 0.8863 - val_loss: 0.2708 - val_accuracy: 0.8917\n",
      "Epoch 8/10\n",
      "266/266 [==============================] - 1s 5ms/step - loss: 0.2671 - accuracy: 0.8914 - val_loss: 0.2621 - val_accuracy: 0.8981\n",
      "Epoch 9/10\n",
      "266/266 [==============================] - 1s 5ms/step - loss: 0.2570 - accuracy: 0.8963 - val_loss: 0.2518 - val_accuracy: 0.9040\n",
      "Epoch 10/10\n",
      "266/266 [==============================] - 1s 5ms/step - loss: 0.2472 - accuracy: 0.9011 - val_loss: 0.2424 - val_accuracy: 0.9066\n"
     ]
    }
   ],
   "source": [
    "model3.compile(optimizer='adam',\n",
    "              loss='binary_crossentropy',\n",
    "              metrics=['accuracy'])\n",
    "              \n",
    "epochs=10  # 몇 epoch를 훈련하면 좋을지 결과를 보면서 바꾸어 봅시다. \n",
    "\n",
    "history3 = model3.fit(partial_x_train,\n",
    "                    partial_y_train,\n",
    "                    epochs=epochs,\n",
    "                    batch_size=512,\n",
    "                    validation_data=(X_val, y_val),\n",
    "                    callbacks=[early_stopping],\n",
    "                    verbose=1)"
   ]
  },
  {
   "cell_type": "markdown",
   "metadata": {},
   "source": [
    "# 3가지 모델의 결과"
   ]
  },
  {
   "cell_type": "code",
   "execution_count": 21,
   "metadata": {},
   "outputs": [
    {
     "name": "stdout",
     "output_type": "stream",
     "text": [
      "1537/1537 - 2s - loss: 0.3929 - accuracy: 0.8411\n",
      "1537/1537 - 2s - loss: 0.5564 - accuracy: 0.8348\n",
      "1537/1537 - 3s - loss: 0.3677 - accuracy: 0.8470\n"
     ]
    }
   ],
   "source": [
    "results1 = model1.evaluate(X_test,  y_test, verbose=2) #\n",
    "results2 = model2.evaluate(X_test,  y_test, verbose=2) #\n",
    "results3 = model3.evaluate(X_test,  y_test, verbose=2) #"
   ]
  },
  {
   "cell_type": "markdown",
   "metadata": {},
   "source": [
    "## Loss, Accuracy 그래프 시각화"
   ]
  },
  {
   "cell_type": "code",
   "execution_count": 22,
   "metadata": {},
   "outputs": [
    {
     "name": "stdout",
     "output_type": "stream",
     "text": [
      "dict_keys(['loss', 'accuracy', 'val_loss', 'val_accuracy'])\n"
     ]
    }
   ],
   "source": [
    "import matplotlib.pyplot as plt\n",
    "\n",
    "history1_dict = history1.history\n",
    "history2_dict = history2.history\n",
    "history3_dict = history3.history\n",
    "\n",
    "print(history1_dict.keys()) # epoch에 따른 그래프를 그려볼 수 있는 항목들"
   ]
  },
  {
   "cell_type": "code",
   "execution_count": 23,
   "metadata": {},
   "outputs": [
    {
     "data": {
      "text/plain": [
       "<Figure size 432x288 with 0 Axes>"
      ]
     },
     "metadata": {},
     "output_type": "display_data"
    },
    {
     "data": {
      "image/png": "[encoded data removed]",
      "text/plain": [
       "<Figure size 936x288 with 2 Axes>"
      ]
     },
     "metadata": {
      "needs_background": "light"
     },
     "output_type": "display_data"
    }
   ],
   "source": [
    "# GlobalMaxPooling1D 그래프\n",
    "\n",
    "acc = history1_dict['accuracy']\n",
    "val_acc = history1_dict['val_accuracy']\n",
    "loss = history1_dict['loss']\n",
    "val_loss = history1_dict['val_loss']\n",
    "\n",
    "epochs = range(1, len(acc) + 1)\n",
    "\n",
    "plt.clf() \n",
    "\n",
    "fig = plt.figure(figsize=(13,4))\n",
    "ax1 = fig.add_subplot(1,2,1)\n",
    "plt.plot(epochs, loss, 'v--', label='Training loss')\n",
    "plt.plot(epochs, val_loss, 'p--', label='Validation loss')\n",
    "plt.title('Training and validation loss')\n",
    "plt.xlabel('Epochs')\n",
    "plt.ylabel('Loss')\n",
    "plt.legend()\n",
    "\n",
    "\n",
    "ax2 = fig.add_subplot(1,2,2)\n",
    "plt.plot(epochs, acc, 'v--', label='Training acc')\n",
    "plt.plot(epochs, val_acc, 'p--', label='Validation acc')\n",
    "plt.title('Training and validation accuracy')\n",
    "plt.xlabel('Epochs')\n",
    "plt.ylabel('Accuracy')\n",
    "plt.legend()\n",
    "\n",
    "plt.show()"
   ]
  },
  {
   "cell_type": "code",
   "execution_count": 24,
   "metadata": {},
   "outputs": [
    {
     "data": {
      "image/png": "[encoded data removed]",
      "text/plain": [
       "<Figure size 936x288 with 2 Axes>"
      ]
     },
     "metadata": {
      "needs_background": "light"
     },
     "output_type": "display_data"
    }
   ],
   "source": [
    "# CNN 그래프\n",
    "\n",
    "acc = history2_dict['accuracy']\n",
    "val_acc = history2_dict['val_accuracy']\n",
    "loss = history2_dict['loss']\n",
    "val_loss = history2_dict['val_loss']\n",
    "\n",
    "epochs = range(1, len(acc) + 1)\n",
    "\n",
    "fig = plt.figure(figsize=(13,4))\n",
    "ax1 = fig.add_subplot(1,2,1)\n",
    "plt.plot(epochs, loss, 'v--', label='Training loss')\n",
    "plt.plot(epochs, val_loss, 'p--', label='Validation loss')\n",
    "plt.title('Training and validation loss')\n",
    "plt.xlabel('Epochs')\n",
    "plt.ylabel('Loss')\n",
    "plt.legend()\n",
    "\n",
    "\n",
    "ax2 = fig.add_subplot(1,2,2)\n",
    "plt.plot(epochs, acc, 'v--', label='Training acc')\n",
    "plt.plot(epochs, val_acc, 'p--', label='Validation acc')\n",
    "plt.title('Training and validation accuracy')\n",
    "plt.xlabel('Epochs')\n",
    "plt.ylabel('Accuracy')\n",
    "plt.legend()\n",
    "\n",
    "plt.show()"
   ]
  },
  {
   "cell_type": "code",
   "execution_count": 25,
   "metadata": {
    "scrolled": true
   },
   "outputs": [
    {
     "data": {
      "image/png": "[encoded data removed]",
      "text/plain": [
       "<Figure size 936x288 with 2 Axes>"
      ]
     },
     "metadata": {
      "needs_background": "light"
     },
     "output_type": "display_data"
    }
   ],
   "source": [
    "# LSTM 그래프\n",
    "\n",
    "acc = history3_dict['accuracy']\n",
    "val_acc = history3_dict['val_accuracy']\n",
    "loss = history3_dict['loss']\n",
    "val_loss = history3_dict['val_loss']\n",
    "\n",
    "epochs = range(1, len(acc) + 1)\n",
    "\n",
    "fig = plt.figure(figsize=(13,4))\n",
    "ax1 = fig.add_subplot(1,2,1)\n",
    "plt.plot(epochs, loss, 'v--', label='Training loss')\n",
    "plt.plot(epochs, val_loss, 'p--', label='Validation loss')\n",
    "plt.title('Training and validation loss')\n",
    "plt.xlabel('Epochs')\n",
    "plt.ylabel('Loss')\n",
    "plt.legend()\n",
    "\n",
    "\n",
    "ax2 = fig.add_subplot(1,2,2)\n",
    "plt.plot(epochs, acc, 'v--', label='Training acc')\n",
    "plt.plot(epochs, val_acc, 'p--', label='Validation acc')\n",
    "plt.title('Training and validation accuracy')\n",
    "plt.xlabel('Epochs')\n",
    "plt.ylabel('Accuracy')\n",
    "plt.legend()\n",
    "\n",
    "plt.show()\n"
   ]
  },
  {
   "cell_type": "markdown",
   "metadata": {},
   "source": [
    "# LSTM 3종류의 Optimizer 모델"
   ]
  },
  {
   "cell_type": "code",
   "execution_count": 26,
   "metadata": {},
   "outputs": [],
   "source": [
    "from tensorflow.keras.layers import Embedding, LSTM, Dense, Bidirectional, GRU\n",
    "\n",
    "# Optimizer를 인수로 받는 train_model() 함수\n",
    "def train_model(Optimizer, X_train, y_train, X_val, y_val):\n",
    "    model = keras.Sequential()\n",
    "    model.add(Embedding(input_dim=10000, output_dim=16))\n",
    "    model.add(LSTM(units=128))\n",
    "    model.add(Dense(units=1, activation='sigmoid'))\n",
    "    model.compile(loss='binary_crossentropy', optimizer=Optimizer,\n",
    "                  metrics=['accuracy'])\n",
    "    scores = model.fit(X_train, y_train, batch_size=512,\n",
    "                       epochs=10,\n",
    "                       validation_data=(X_val, y_val),\n",
    "                       verbose=1)\n",
    "    return scores, model"
   ]
  },
  {
   "cell_type": "markdown",
   "metadata": {},
   "source": [
    "## LSTM + sgd 모델"
   ]
  },
  {
   "cell_type": "code",
   "execution_count": 27,
   "metadata": {
    "scrolled": false
   },
   "outputs": [
    {
     "name": "stdout",
     "output_type": "stream",
     "text": [
      "Epoch 1/10\n",
      "266/266 [==============================] - 4s 10ms/step - loss: 0.6930 - accuracy: 0.5164 - val_loss: 0.6930 - val_accuracy: 0.5015\n",
      "Epoch 2/10\n",
      "266/266 [==============================] - 2s 8ms/step - loss: 0.6930 - accuracy: 0.5058 - val_loss: 0.6930 - val_accuracy: 0.5133\n",
      "Epoch 3/10\n",
      "266/266 [==============================] - 2s 8ms/step - loss: 0.6930 - accuracy: 0.5156 - val_loss: 0.6929 - val_accuracy: 0.5143\n",
      "Epoch 4/10\n",
      "266/266 [==============================] - 2s 8ms/step - loss: 0.6929 - accuracy: 0.5094 - val_loss: 0.6929 - val_accuracy: 0.5425\n",
      "Epoch 5/10\n",
      "266/266 [==============================] - 2s 8ms/step - loss: 0.6929 - accuracy: 0.5245 - val_loss: 0.6929 - val_accuracy: 0.5408\n",
      "Epoch 6/10\n",
      "266/266 [==============================] - 2s 8ms/step - loss: 0.6929 - accuracy: 0.5361 - val_loss: 0.6928 - val_accuracy: 0.5048\n",
      "Epoch 7/10\n",
      "266/266 [==============================] - 2s 8ms/step - loss: 0.6928 - accuracy: 0.5314 - val_loss: 0.6928 - val_accuracy: 0.5023\n",
      "Epoch 8/10\n",
      "266/266 [==============================] - 2s 8ms/step - loss: 0.6928 - accuracy: 0.5204 - val_loss: 0.6928 - val_accuracy: 0.5214\n",
      "Epoch 9/10\n",
      "266/266 [==============================] - 2s 8ms/step - loss: 0.6928 - accuracy: 0.5302 - val_loss: 0.6927 - val_accuracy: 0.5253\n",
      "Epoch 10/10\n",
      "266/266 [==============================] - 2s 8ms/step - loss: 0.6927 - accuracy: 0.5378 - val_loss: 0.6927 - val_accuracy: 0.5296\n"
     ]
    }
   ],
   "source": [
    "sgd_score, SGD_model = train_model(Optimizer='sgd',\n",
    "                                   X_train=partial_x_train,\n",
    "                                   y_train=partial_y_train,\n",
    "                                   X_val=X_val,\n",
    "                                   y_val=y_val)"
   ]
  },
  {
   "cell_type": "code",
   "execution_count": 28,
   "metadata": {},
   "outputs": [
    {
     "name": "stdout",
     "output_type": "stream",
     "text": [
      "1537/1537 - 3s - loss: 0.6927 - accuracy: 0.5274\n",
      "[0.6927411556243896, 0.5273714661598206]\n"
     ]
    }
   ],
   "source": [
    "# 모델 평가\n",
    "results = SGD_model.evaluate(X_test, y_test, verbose=2)\n",
    "\n",
    "print(results)"
   ]
  },
  {
   "cell_type": "markdown",
   "metadata": {
    "id": "HhtplwApcuht"
   },
   "source": [
    "### LSTM + adam 모델"
   ]
  },
  {
   "cell_type": "code",
   "execution_count": 29,
   "metadata": {
    "scrolled": true
   },
   "outputs": [
    {
     "name": "stdout",
     "output_type": "stream",
     "text": [
      "Epoch 1/10\n",
      "266/266 [==============================] - 4s 10ms/step - loss: 0.4510 - accuracy: 0.7866 - val_loss: 0.3441 - val_accuracy: 0.8562\n",
      "Epoch 2/10\n",
      "266/266 [==============================] - 2s 9ms/step - loss: 0.3361 - accuracy: 0.8570 - val_loss: 0.3222 - val_accuracy: 0.8656\n",
      "Epoch 3/10\n",
      "266/266 [==============================] - 2s 9ms/step - loss: 0.3150 - accuracy: 0.8668 - val_loss: 0.3028 - val_accuracy: 0.8751\n",
      "Epoch 4/10\n",
      "266/266 [==============================] - 2s 9ms/step - loss: 0.2992 - accuracy: 0.8742 - val_loss: 0.2860 - val_accuracy: 0.8834\n",
      "Epoch 5/10\n",
      "266/266 [==============================] - 2s 9ms/step - loss: 0.2811 - accuracy: 0.8831 - val_loss: 0.2665 - val_accuracy: 0.8923\n",
      "Epoch 6/10\n",
      "266/266 [==============================] - 2s 9ms/step - loss: 0.2647 - accuracy: 0.8911 - val_loss: 0.2483 - val_accuracy: 0.9028\n",
      "Epoch 7/10\n",
      "266/266 [==============================] - 2s 9ms/step - loss: 0.2502 - accuracy: 0.8970 - val_loss: 0.2404 - val_accuracy: 0.9056\n",
      "Epoch 8/10\n",
      "266/266 [==============================] - 2s 9ms/step - loss: 0.2373 - accuracy: 0.9038 - val_loss: 0.2272 - val_accuracy: 0.9122\n",
      "Epoch 9/10\n",
      "266/266 [==============================] - 2s 9ms/step - loss: 0.2244 - accuracy: 0.9101 - val_loss: 0.2167 - val_accuracy: 0.9172\n",
      "Epoch 10/10\n",
      "266/266 [==============================] - 2s 9ms/step - loss: 0.2137 - accuracy: 0.9144 - val_loss: 0.2059 - val_accuracy: 0.9224\n"
     ]
    }
   ],
   "source": [
    "adam_score, adam_model = train_model(Optimizer='adam',\n",
    "                                   X_train=partial_x_train,\n",
    "                                   y_train=partial_y_train,\n",
    "                                   X_val=X_val,\n",
    "                                   y_val=y_val\n",
    "                                    )"
   ]
  },
  {
   "cell_type": "code",
   "execution_count": 30,
   "metadata": {},
   "outputs": [
    {
     "name": "stdout",
     "output_type": "stream",
     "text": [
      "1537/1537 - 3s - loss: 0.3726 - accuracy: 0.8515\n",
      "[0.3726234436035156, 0.8515369296073914]\n"
     ]
    }
   ],
   "source": [
    "# 모델 평가\n",
    "results = adam_model.evaluate(X_test, y_test, verbose=2)\n",
    "\n",
    "print(results)"
   ]
  },
  {
   "cell_type": "markdown",
   "metadata": {},
   "source": [
    "### LSTM + RMSProp 모델"
   ]
  },
  {
   "cell_type": "code",
   "execution_count": 31,
   "metadata": {
    "scrolled": true
   },
   "outputs": [
    {
     "name": "stdout",
     "output_type": "stream",
     "text": [
      "Epoch 1/10\n",
      "266/266 [==============================] - 4s 10ms/step - loss: 0.4838 - accuracy: 0.7738 - val_loss: 0.3593 - val_accuracy: 0.8493\n",
      "Epoch 2/10\n",
      "266/266 [==============================] - 2s 9ms/step - loss: 0.3442 - accuracy: 0.8526 - val_loss: 0.3336 - val_accuracy: 0.8605\n",
      "Epoch 3/10\n",
      "266/266 [==============================] - 2s 9ms/step - loss: 0.3262 - accuracy: 0.8612 - val_loss: 0.3182 - val_accuracy: 0.8663\n",
      "Epoch 4/10\n",
      "266/266 [==============================] - 2s 9ms/step - loss: 0.3148 - accuracy: 0.8665 - val_loss: 0.3127 - val_accuracy: 0.8698\n",
      "Epoch 5/10\n",
      "266/266 [==============================] - 2s 9ms/step - loss: 0.3030 - accuracy: 0.8723 - val_loss: 0.2974 - val_accuracy: 0.8759\n",
      "Epoch 6/10\n",
      "266/266 [==============================] - 2s 9ms/step - loss: 0.2898 - accuracy: 0.8782 - val_loss: 0.2823 - val_accuracy: 0.8834\n",
      "Epoch 7/10\n",
      "266/266 [==============================] - 2s 9ms/step - loss: 0.2769 - accuracy: 0.8841 - val_loss: 0.2719 - val_accuracy: 0.8867\n",
      "Epoch 8/10\n",
      "266/266 [==============================] - 2s 9ms/step - loss: 0.2671 - accuracy: 0.8879 - val_loss: 0.2624 - val_accuracy: 0.8905\n",
      "Epoch 9/10\n",
      "266/266 [==============================] - 2s 9ms/step - loss: 0.2584 - accuracy: 0.8927 - val_loss: 0.2546 - val_accuracy: 0.8948\n",
      "Epoch 10/10\n",
      "266/266 [==============================] - 2s 9ms/step - loss: 0.2509 - accuracy: 0.8961 - val_loss: 0.2461 - val_accuracy: 0.8994\n"
     ]
    }
   ],
   "source": [
    "RMSprop_score, RMSprop_model = train_model(Optimizer='RMSprop',\n",
    "                                   X_train=partial_x_train,\n",
    "                                   y_train=partial_y_train,\n",
    "                                   X_val=X_val,\n",
    "                                   y_val=y_val)"
   ]
  },
  {
   "cell_type": "code",
   "execution_count": 32,
   "metadata": {
    "scrolled": true
   },
   "outputs": [
    {
     "name": "stdout",
     "output_type": "stream",
     "text": [
      "1537/1537 - 3s - loss: 0.3177 - accuracy: 0.8638\n",
      "[0.31767749786376953, 0.8637833595275879]\n"
     ]
    }
   ],
   "source": [
    "# 모델 평가\n",
    "results = RMSprop_model.evaluate(X_test, y_test, verbose=2)\n",
    "\n",
    "print(results)"
   ]
  },
  {
   "cell_type": "markdown",
   "metadata": {},
   "source": [
    "- `sgd`, `adam`, `RMSprop` 중 `RMSprop`의 결과가 가장 좋게 나왔다. \n",
    "- 영화 리뷰 분류 문제에서 LSTM 모델의 옵티마이저는 `RMSprop`로 선택하면 된다.\n",
    "\n",
    " sgd : 52%\n",
    " adma : 85.1%\n",
    " RMSprop : 86.3%"
   ]
  },
  {
   "cell_type": "markdown",
   "metadata": {},
   "source": [
    "# 한국어 Word2Vec 임베딩 활용하여 성능개선"
   ]
  },
  {
   "cell_type": "markdown",
   "metadata": {},
   "source": [
    "## Embedding Vector 분석"
   ]
  },
  {
   "cell_type": "code",
   "execution_count": 33,
   "metadata": {},
   "outputs": [],
   "source": [
    "import gensim\n",
    "\n",
    "word2vec_path = \"/aiffel/aiffel/sentiment_classification/data/ko.bin\"\n",
    "word2vec = gensim.models.Word2Vec.load(word2vec_path)"
   ]
  },
  {
   "cell_type": "code",
   "execution_count": 34,
   "metadata": {},
   "outputs": [
    {
     "data": {
      "text/plain": [
       "[('토끼', 0.7924245595932007),\n",
       " ('원숭이', 0.7570015788078308),\n",
       " ('강아지', 0.7290453910827637),\n",
       " ('돼지', 0.7203201055526733),\n",
       " ('개구리', 0.720122218132019),\n",
       " ('족제비', 0.7200244665145874),\n",
       " ('악어', 0.7142964005470276),\n",
       " ('멧돼지', 0.7096993923187256),\n",
       " ('고슴도치', 0.7051361799240112),\n",
       " ('거위', 0.6985242366790771)]"
      ]
     },
     "execution_count": 34,
     "metadata": {},
     "output_type": "execute_result"
    }
   ],
   "source": [
    "sim = word2vec.wv.most_similar(\"고양이\")\n",
    "sim"
   ]
  },
  {
   "cell_type": "code",
   "execution_count": 35,
   "metadata": {},
   "outputs": [
    {
     "data": {
      "text/plain": [
       "[('격노', 0.7377745509147644),\n",
       " ('격분', 0.7231990694999695),\n",
       " ('원망', 0.721239447593689),\n",
       " ('분개', 0.6994378566741943),\n",
       " ('질투', 0.6872379183769226),\n",
       " ('실망', 0.6750859022140503),\n",
       " ('당황', 0.6650348901748657),\n",
       " ('증오', 0.6568769216537476),\n",
       " ('경악', 0.6351868510246277),\n",
       " ('반발', 0.6297549605369568)]"
      ]
     },
     "execution_count": 35,
     "metadata": {},
     "output_type": "execute_result"
    }
   ],
   "source": [
    "sim1 = word2vec.wv.most_similar(\"분노\")\n",
    "sim1"
   ]
  },
  {
   "cell_type": "code",
   "execution_count": 36,
   "metadata": {},
   "outputs": [
    {
     "name": "stderr",
     "output_type": "stream",
     "text": [
      "/tmp/ipykernel_679/715236107.py:1: DeprecationWarning: Call to deprecated `__getitem__` (Method will be removed in 4.0.0, use self.wv.__getitem__() instead).\n",
      "  vector = word2vec['뭐']\n"
     ]
    },
    {
     "data": {
      "text/plain": [
       "array([ 0.86751956,  0.13708   ,  1.5599964 , -0.95174986, -1.5182383 ,\n",
       "       -1.1413963 ,  0.3728896 ,  0.4496513 ,  0.11784762, -1.3147454 ,\n",
       "        0.23278438, -0.8711131 ,  0.89858866,  1.4486066 , -0.41950652,\n",
       "       -0.6967848 , -1.2280738 ,  1.284706  ,  2.181993  , -0.8827579 ,\n",
       "        0.01439353, -0.82298625, -1.5741968 ,  0.56412417, -0.6992124 ,\n",
       "       -1.1119201 ,  0.6532491 ,  0.5898612 ,  1.8973438 , -1.4481707 ,\n",
       "        0.70895576, -0.49533775, -0.25881264, -0.03076597,  0.80093735,\n",
       "       -0.96166605,  0.13808195, -0.08509789, -0.52374965,  0.9317676 ,\n",
       "       -1.1874425 , -0.34182915,  0.30776367,  0.30193388,  1.1214479 ,\n",
       "        1.8446732 , -0.22879879, -1.5902513 , -0.41314775,  1.2018095 ,\n",
       "       -0.49772802, -0.1686528 ,  0.850988  ,  1.0755816 ,  1.0252547 ,\n",
       "        1.6145544 , -1.0892051 ,  1.6362665 ,  1.1264453 , -0.04962914,\n",
       "        1.5978845 ,  0.77526194,  0.14995898,  1.5463362 ,  0.8694915 ,\n",
       "       -1.3190529 ,  1.1868654 , -0.42452398, -0.43566406, -1.1596223 ,\n",
       "        0.22117414,  0.39941326,  0.1445648 ,  1.9290152 ,  0.23304655,\n",
       "        0.6207386 , -0.25624266,  0.61176956,  0.5337521 , -0.2312139 ,\n",
       "       -0.45616403,  0.49180913, -0.476403  , -0.83733964, -0.32954893,\n",
       "        0.3501191 , -0.81313515, -0.40206903,  0.26644593, -2.9547231 ,\n",
       "        1.1887039 , -0.104216  , -0.63661784, -0.64282125,  0.34448814,\n",
       "       -1.5570081 , -1.1530894 ,  0.25253448, -0.01147046,  2.3829963 ,\n",
       "       -0.98363644,  0.1465843 , -0.38088122,  0.79553545, -1.154831  ,\n",
       "        1.144504  ,  0.65218025,  0.2493667 ,  1.8335187 ,  0.03470606,\n",
       "        1.46881   , -0.5986386 , -0.2688915 , -0.9144419 ,  0.45700827,\n",
       "       -0.5880581 , -2.5972025 ,  0.43735448, -1.7885733 ,  0.39618582,\n",
       "        0.03723181,  0.31969255, -1.2361971 ,  0.75087136, -0.692943  ,\n",
       "        0.51098037,  0.9586322 ,  1.3026634 , -0.7390062 , -1.5452774 ,\n",
       "        0.08330311, -0.21308258,  0.20789498,  1.5377029 , -0.49291277,\n",
       "       -0.05545013, -0.23953937, -0.4381839 ,  0.58842343, -2.4819515 ,\n",
       "        0.21754396,  0.52261823, -0.18269834,  1.4189152 ,  0.62781215,\n",
       "        0.06436806, -0.3856469 , -0.3906395 , -1.9358233 ,  0.0561366 ,\n",
       "       -0.07521408, -0.5021723 , -0.23463656,  0.95040697,  0.13350527,\n",
       "       -0.9925946 ,  1.6223881 ,  0.4691998 , -0.90781504, -1.1705596 ,\n",
       "        0.54956585, -0.13562223, -0.24562031, -1.0737828 , -1.1592288 ,\n",
       "        1.7023683 ,  1.5894438 ,  0.38008463,  0.7182336 ,  0.48416826,\n",
       "       -0.9539067 , -1.3854305 , -0.70115674,  1.4105476 , -0.14224114,\n",
       "       -0.4378413 ,  0.6181216 ,  0.33843616, -0.05389461,  0.2966166 ,\n",
       "       -0.44752285, -0.20155197,  0.08410248, -1.0184945 , -0.84747016,\n",
       "       -0.6886021 , -0.42949498, -0.71476173, -2.1031206 , -0.9219114 ,\n",
       "       -0.19601198,  1.3613228 ,  1.3514305 ,  0.11105281,  0.5747127 ,\n",
       "       -0.70851916,  0.5454037 ,  0.8768963 ,  0.06451305, -0.0902391 ],\n",
       "      dtype=float32)"
      ]
     },
     "execution_count": 36,
     "metadata": {},
     "output_type": "execute_result"
    }
   ],
   "source": [
    "vector = word2vec['뭐']\n",
    "vector"
   ]
  },
  {
   "cell_type": "markdown",
   "metadata": {},
   "source": [
    "## GRU + Word2Vec를 이용한 성능 향상"
   ]
  },
  {
   "cell_type": "code",
   "execution_count": 37,
   "metadata": {},
   "outputs": [
    {
     "name": "stderr",
     "output_type": "stream",
     "text": [
      "/tmp/ipykernel_679/3518171499.py:8: DeprecationWarning: Call to deprecated `__contains__` (Method will be removed in 4.0.0, use self.wv.__contains__() instead).\n",
      "  if index_to_word[i] in word2vec:\n",
      "/tmp/ipykernel_679/3518171499.py:9: DeprecationWarning: Call to deprecated `__getitem__` (Method will be removed in 4.0.0, use self.wv.__getitem__() instead).\n",
      "  embedding_matrix[i] = word2vec[index_to_word[i]]\n"
     ]
    }
   ],
   "source": [
    "vocab_size = 10000 # 어휘 사전 크기\n",
    "word_vector_dim = 200 # 워드 벡터 차원 수\n",
    "\n",
    "embedding_matrix = np.random.rand(vocab_size, word_vector_dim)\n",
    "\n",
    "# 단어 개수(에서 특수문자 4개는 제외하고)만큼의 워드 벡터를 카피\n",
    "for i in range(4, vocab_size):\n",
    "    if index_to_word[i] in word2vec:\n",
    "        embedding_matrix[i] = word2vec[index_to_word[i]]"
   ]
  },
  {
   "cell_type": "code",
   "execution_count": 38,
   "metadata": {},
   "outputs": [
    {
     "name": "stdout",
     "output_type": "stream",
     "text": [
      "WARNING:tensorflow:Layer gru will not use cuDNN kernels since it doesn't meet the criteria. It will use a generic GPU kernel as fallback when running on GPU.\n",
      "WARNING:tensorflow:Layer gru_1 will not use cuDNN kernels since it doesn't meet the criteria. It will use a generic GPU kernel as fallback when running on GPU.\n",
      "Model: \"sequential_4\"\n",
      "_________________________________________________________________\n",
      "Layer (type)                 Output Shape              Param #   \n",
      "=================================================================\n",
      "embedding_6 (Embedding)      (None, 41, 200)           2000000   \n",
      "_________________________________________________________________\n",
      "gru (GRU)                    (None, 41, 32)            22464     \n",
      "_________________________________________________________________\n",
      "gru_1 (GRU)                  (None, 64)                18816     \n",
      "_________________________________________________________________\n",
      "dense_9 (Dense)              (None, 1)                 65        \n",
      "=================================================================\n",
      "Total params: 2,041,345\n",
      "Trainable params: 2,041,345\n",
      "Non-trainable params: 0\n",
      "_________________________________________________________________\n"
     ]
    }
   ],
   "source": [
    "from tensorflow.keras.initializers import Constant\n",
    "from tensorflow.keras.layers import Embedding, LSTM, Dense, Bidirectional, GRU\n",
    "\n",
    "model = keras.Sequential()\n",
    "model.add(keras.layers.Embedding(vocab_size, \n",
    "                                 word_vector_dim, \n",
    "                                 embeddings_initializer=Constant(embedding_matrix),  # 카피한 임베딩을 여기서 활용\n",
    "                                 input_length=maxlen, \n",
    "                                 trainable=True))    # trainable을 True로 주면 Fine-tuning\n",
    "model.add(keras.layers.GRU(32, dropout=0.1, recurrent_dropout=0.5, return_sequences=True))\n",
    "model.add(keras.layers.GRU(64, activation='relu', dropout=0.1, recurrent_dropout=0.5))\n",
    "model.add(keras.layers.Dense(1, activation='sigmoid'))   # 최종 출력은 긍정/부정을 나타내는 1dim 입니다.\n",
    "\n",
    "model.summary()"
   ]
  },
  {
   "cell_type": "code",
   "execution_count": 39,
   "metadata": {},
   "outputs": [
    {
     "name": "stdout",
     "output_type": "stream",
     "text": [
      "Epoch 1/10\n",
      "266/266 [==============================] - 85s 306ms/step - loss: 0.5358 - accuracy: 0.7258 - val_loss: 0.4316 - val_accuracy: 0.8022\n",
      "Epoch 2/10\n",
      "266/266 [==============================] - 80s 301ms/step - loss: 0.4204 - accuracy: 0.8078 - val_loss: 0.3718 - val_accuracy: 0.8375\n",
      "Epoch 3/10\n",
      "266/266 [==============================] - 80s 300ms/step - loss: 0.3760 - accuracy: 0.8327 - val_loss: 0.3422 - val_accuracy: 0.8545\n",
      "Epoch 4/10\n",
      "266/266 [==============================] - 80s 299ms/step - loss: 0.3507 - accuracy: 0.8449 - val_loss: 0.3255 - val_accuracy: 0.8629\n",
      "Epoch 5/10\n",
      "266/266 [==============================] - 81s 303ms/step - loss: 0.3342 - accuracy: 0.8550 - val_loss: 0.3147 - val_accuracy: 0.8673\n",
      "Epoch 6/10\n",
      "266/266 [==============================] - 79s 298ms/step - loss: 0.3221 - accuracy: 0.8613 - val_loss: 0.3046 - val_accuracy: 0.8722\n",
      "Epoch 7/10\n",
      "266/266 [==============================] - 79s 298ms/step - loss: 0.3129 - accuracy: 0.8657 - val_loss: 0.2969 - val_accuracy: 0.8763\n",
      "Epoch 8/10\n",
      "266/266 [==============================] - 79s 299ms/step - loss: 0.3048 - accuracy: 0.8688 - val_loss: 0.2896 - val_accuracy: 0.8792\n",
      "Epoch 9/10\n",
      "266/266 [==============================] - 80s 300ms/step - loss: 0.2977 - accuracy: 0.8729 - val_loss: 0.2840 - val_accuracy: 0.8820\n",
      "Epoch 10/10\n",
      "266/266 [==============================] - 80s 299ms/step - loss: 0.2918 - accuracy: 0.8767 - val_loss: 0.2788 - val_accuracy: 0.8840\n"
     ]
    }
   ],
   "source": [
    "from tensorflow.keras.callbacks import EarlyStopping, ModelCheckpoint\n",
    "\n",
    "opt = keras.optimizers.RMSprop(learning_rate=0.0005)\n",
    "model.compile(optimizer=opt,\n",
    "              loss='binary_crossentropy',\n",
    "              metrics=['accuracy'])\n",
    "              \n",
    "epochs = 10  \n",
    "\n",
    "es = EarlyStopping(monitor='val_loss', mode='min', verbose=1, patience=4)\n",
    "history = model.fit(partial_x_train,\n",
    "                    partial_y_train,\n",
    "                    epochs=epochs,\n",
    "                    batch_size=512,\n",
    "                    validation_data=(X_val, y_val),\n",
    "                    verbose=1,\n",
    "                    callbacks=[es])"
   ]
  },
  {
   "cell_type": "code",
   "execution_count": 40,
   "metadata": {
    "colab": {
     "base_uri": "https://localhost:8080/",
     "height": 291
    },
    "id": "T_a6BSjNrcg8",
    "outputId": "5f4a4962-a716-46d8-c864-46a905618916",
    "scrolled": false
   },
   "outputs": [
    {
     "data": {
      "text/plain": [
       "<Figure size 432x288 with 0 Axes>"
      ]
     },
     "metadata": {},
     "output_type": "display_data"
    },
    {
     "data": {
      "image/png": "[encoded data removed]",
      "text/plain": [
       "<Figure size 936x288 with 2 Axes>"
      ]
     },
     "metadata": {
      "needs_background": "light"
     },
     "output_type": "display_data"
    }
   ],
   "source": [
    "history_dict = history.history\n",
    "\n",
    "acc = history_dict['accuracy']\n",
    "val_acc = history_dict['val_accuracy']\n",
    "loss = history_dict['loss']\n",
    "val_loss = history_dict['val_loss']\n",
    "\n",
    "epochs = range(1, len(acc) + 1)\n",
    "\n",
    "plt.clf()\n",
    "\n",
    "plt.figure(figsize=(13,4))\n",
    "\n",
    "plt.subplot(121)\n",
    "plt.plot(epochs, loss, 'v--', label='Training loss')\n",
    "plt.plot(epochs, val_loss, 'p--', label='Validation loss')\n",
    "plt.title('Training and validation loss')\n",
    "plt.xlabel('Epochs')\n",
    "plt.ylabel('Loss')\n",
    "plt.legend()\n",
    "\n",
    "plt.subplot(122)\n",
    "plt.plot(epochs, acc, 'v--', label='Training acc')\n",
    "plt.plot(epochs, val_acc, 'p--', label='Validation acc')\n",
    "plt.title('Training and validation accuracy')\n",
    "plt.xlabel('Epochs')\n",
    "plt.ylabel('Accuracy')\n",
    "plt.legend()\n",
    "\n",
    "plt.show()"
   ]
  },
  {
   "cell_type": "code",
   "execution_count": 41,
   "metadata": {
    "colab": {
     "base_uri": "https://localhost:8080/"
    },
    "id": "krCKldiwrf3J",
    "outputId": "2096b8a9-0590-4635-b918-d2429a9b319d"
   },
   "outputs": [
    {
     "name": "stdout",
     "output_type": "stream",
     "text": [
      "1537/1537 - 34s - loss: 0.3129 - accuracy: 0.8641\n",
      "[0.31290486454963684, 0.8641292452812195]\n"
     ]
    }
   ],
   "source": [
    "# 모델 평가\n",
    "results = model.evaluate(X_test,  y_test, verbose=2)\n",
    "\n",
    "print(results)"
   ]
  },
  {
   "cell_type": "markdown",
   "metadata": {},
   "source": [
    "# 최종 86.4% 마무리 ! "
   ]
  },
  {
   "cell_type": "markdown",
   "metadata": {},
   "source": [
    "## 루브릭 관련 고려한 점\n",
    "\n",
    "1. 다양한 방법으로 Text Classification 태스크를 성공적으로 구현하였다.\n",
    "\n",
    "- 3가지 이상의 모델을 성공적으로 시도함\n",
    "\n",
    "    사용한 모델 :   \n",
    "                    1.GlobalMaxPooling1D \n",
    "                    2.Convolution Neural Network(1-D CNN) 모델\n",
    "                    3.LSTM 에서 3가지 옵티마이즈를 적용하여 사용\n",
    "                       - sgd\n",
    "                       - adam\n",
    "                       - RMSprop\n",
    "    \n",
    "\n",
    "2. gensim을 활용하여 자체학습된 혹은 사전학습된 임베딩 레이어를 분석하였다.\n",
    "\n",
    "- gensim의 유사단어 찾기를 활용하여 자체학습한 임베딩과 사전학습 임베딩을 적절히 분석\n",
    "\n",
    "3. 한국어 Word2Vec을 활용하여 가시적인 성능향상을 달성했다.\n",
    "\n",
    "- 네이버 영화리뷰 데이터 감성분석 정확도를 85% 이상 달성함"
   ]
  },
  {
   "cell_type": "markdown",
   "metadata": {},
   "source": [
    "## 회고\n",
    "\n",
    "\n",
    "이번 프로젝트를 통해 NLP를 처음 접해서인지, 전체적인 자연어 처리과정 자체도 생소하고 어렵게 느껴졌습니다. 각각의 세부 파라미터들이 무엇을 의미하는지, 등을 파악하는 것도 쉽지 않았습니다. 또한 노드를 진행할 때는 word2vec 임베딩을 하기 전 후가 성능 차이가 매우 크게 났었는데, 한국어 감성 분석시에는 확연한 차이가 드러나지 않았고 심지어 그 전보다 결과가 낮게 나오기도 했습니다. 언어적 차이에 의한 것인지, 운이 안좋았던 것인지, 어떻게 하면 더 성능을 올릴 수 있을 지 궁금하다.\n",
    "\n",
    "- 루브릭 조건 정도만 통과해야지 생각했는데 그것도 어려웠다.\n",
    "- 정확도 이외에도 문제에 대해 분류를 잘 했는지에 대해 체감할 수 있는 방법을 고려. \n",
    "- ko.bin 불러오는데서 계속 에러가 났었지만, 버전 다운그레이드로 해결\n",
    "- 우선 잘돌아가는 모델들을 가져오고 어떤 식으로 만들어야하는 지 공부가 필요.\n",
    "- https://wikidocs.net/50739\n",
    "- https://github.com/PEBpung/Aiffel/blob/master/Project/Exploration/E9.%20Naver%20sentiment%20movie%20corpus%20Project.ipynb"
   ]
  }
 ],
 "metadata": {
  "kernelspec": {
   "display_name": "Python 3 (ipykernel)",
   "language": "python",
   "name": "python3"
  },
  "language_info": {
   "codemirror_mode": {
    "name": "ipython",
    "version": 3
   },
   "file_extension": ".py",
   "mimetype": "text/x-python",
   "name": "python",
   "nbconvert_exporter": "python",
   "pygments_lexer": "ipython3",
   "version": "3.8.12"
  }
 },
 "nbformat": 4,
 "nbformat_minor": 4
}
