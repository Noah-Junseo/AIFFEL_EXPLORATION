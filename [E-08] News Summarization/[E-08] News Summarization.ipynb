{
 "cells": [
  {
   "cell_type": "markdown",
   "metadata": {},
   "source": [
    "# 프로젝트: 뉴스기사 요약해보기\n",
    "\n",
    "### [루브릭]\n",
    "1. Abstractive 모델 구성을 위한 텍스트 전처리 단계가 체계적으로 진행되었다.\n",
    "    - 분석단계, 정제단계, 정규화와 불용어 제거, 데이터셋 분리, 인코딩 과정이 빠짐없이 체계적으로 진행되었다.\n",
    "\n",
    "\n",
    "2. 텍스트 요약모델이 성공적으로 학습되었음을 확인하였다.\n",
    "    - 모델학습이 안정적으로 수렴되었음을 그래프를 통해 확인하였으며, 실제 요약문과 유사한 요약문장을 얻을 수 있었다.\n",
    "    \n",
    "    \n",
    "3. Extractive 요약을 시도해 보고 Abstractive 요약 결과과 함께 비교해 보았다.\n",
    "    - 두 요약 결과를 문법완성도 측면과 핵심단어 포함 측면으로 나누어 비교분석 결과를 제시하였다.\n",
    "\n",
    "### [학습과정]\n",
    "1. 데이터 수집하기\n",
    "2. 데이터 전처리하기(추상적 요약)\n",
    "3. 어텐션 메커니즘 사용하기 (추상적 요약)\n",
    "4. 실제 결과와 요약문 비교하기 (추상적 요약)\n",
    "5. Summa을 이용해서 추출적 요약해보기\n",
    "\n",
    "### [결과 및 회고]"
   ]
  },
  {
   "cell_type": "markdown",
   "metadata": {},
   "source": [
    "## 1. 데이터 수집하기"
   ]
  },
  {
   "cell_type": "code",
   "execution_count": 1,
   "metadata": {},
   "outputs": [
    {
     "name": "stderr",
     "output_type": "stream",
     "text": [
      "[nltk_data] Downloading package stopwords to /aiffel/nltk_data...\n",
      "[nltk_data]   Unzipping corpora/stopwords.zip.\n"
     ]
    }
   ],
   "source": [
    "import nltk\n",
    "nltk.download('stopwords')\n",
    "\n",
    "import numpy as np\n",
    "import pandas as pd\n",
    "import os\n",
    "import re\n",
    "import matplotlib.pyplot as plt\n",
    "from nltk.corpus import stopwords\n",
    "from bs4 import BeautifulSoup \n",
    "from tensorflow.keras.preprocessing.text import Tokenizer \n",
    "from tensorflow.keras.preprocessing.sequence import pad_sequences\n",
    "import urllib.request\n",
    "import warnings\n",
    "warnings.filterwarnings(\"ignore\", category=UserWarning, module='bs4')\n"
   ]
  },
  {
   "cell_type": "code",
   "execution_count": 2,
   "metadata": {},
   "outputs": [],
   "source": [
    "import pandas as pd\n",
    "import urllib.request\n",
    "urllib.request.urlretrieve(\"https://raw.githubusercontent.com/sunnysai12345/News_Summary/master/news_summary_more.csv\", filename=\"news_summary_more.csv\")\n",
    "data = pd.read_csv('news_summary_more.csv', encoding='iso-8859-1')"
   ]
  },
  {
   "cell_type": "code",
   "execution_count": 3,
   "metadata": {},
   "outputs": [
    {
     "data": {
      "text/html": [
       "<div>\n",
       "<style scoped>\n",
       "    .dataframe tbody tr th:only-of-type {\n",
       "        vertical-align: middle;\n",
       "    }\n",
       "\n",
       "    .dataframe tbody tr th {\n",
       "        vertical-align: top;\n",
       "    }\n",
       "\n",
       "    .dataframe thead th {\n",
       "        text-align: right;\n",
       "    }\n",
       "</style>\n",
       "<table border=\"1\" class=\"dataframe\">\n",
       "  <thead>\n",
       "    <tr style=\"text-align: right;\">\n",
       "      <th></th>\n",
       "      <th>headlines</th>\n",
       "      <th>text</th>\n",
       "    </tr>\n",
       "  </thead>\n",
       "  <tbody>\n",
       "    <tr>\n",
       "      <th>35196</th>\n",
       "      <td>NYT, New Yorker win Pulitzer for reporting abu...</td>\n",
       "      <td>The New York Times and The New Yorker magazine...</td>\n",
       "    </tr>\n",
       "    <tr>\n",
       "      <th>48454</th>\n",
       "      <td>Army carried snow for 1964 Winter Olympics due...</td>\n",
       "      <td>After the 1964 Innsbruck Winter Olympics were ...</td>\n",
       "    </tr>\n",
       "    <tr>\n",
       "      <th>75042</th>\n",
       "      <td>Jio may offer part refund for 'JioPhone' befor...</td>\n",
       "      <td>According to reports, Reliance Jio may offer i...</td>\n",
       "    </tr>\n",
       "    <tr>\n",
       "      <th>74550</th>\n",
       "      <td>Taylor Swift deletes all posts from social med...</td>\n",
       "      <td>Singer Taylor Swift has removed all posts from...</td>\n",
       "    </tr>\n",
       "    <tr>\n",
       "      <th>54448</th>\n",
       "      <td>Private sector can run airlines better than go...</td>\n",
       "      <td>Union Minister Jayant Sinha has said the priva...</td>\n",
       "    </tr>\n",
       "    <tr>\n",
       "      <th>16448</th>\n",
       "      <td>Indian-origin man held for racist comments aga...</td>\n",
       "      <td>Kessie Nair, a former Indian-origin Councillor...</td>\n",
       "    </tr>\n",
       "    <tr>\n",
       "      <th>34746</th>\n",
       "      <td>I'm being framed: Jailed doctor on Gorakhpur h...</td>\n",
       "      <td>Dr Kafeel Khan, who is in jail in connection w...</td>\n",
       "    </tr>\n",
       "    <tr>\n",
       "      <th>16436</th>\n",
       "      <td>Shastri was batting when cricket's 2nd tied Te...</td>\n",
       "      <td>India's former cricketer and current coach Rav...</td>\n",
       "    </tr>\n",
       "    <tr>\n",
       "      <th>96709</th>\n",
       "      <td>Flipper taught by Warne got me Warner's wicket...</td>\n",
       "      <td>Indian spinner Kuldeep Yadav, who registered 4...</td>\n",
       "    </tr>\n",
       "    <tr>\n",
       "      <th>8815</th>\n",
       "      <td>Life's over: Mumbai businessman texted friends...</td>\n",
       "      <td>Ashwin Lalit Jain, a 40-year-old gold business...</td>\n",
       "    </tr>\n",
       "  </tbody>\n",
       "</table>\n",
       "</div>"
      ],
      "text/plain": [
       "                                               headlines  \\\n",
       "35196  NYT, New Yorker win Pulitzer for reporting abu...   \n",
       "48454  Army carried snow for 1964 Winter Olympics due...   \n",
       "75042  Jio may offer part refund for 'JioPhone' befor...   \n",
       "74550  Taylor Swift deletes all posts from social med...   \n",
       "54448  Private sector can run airlines better than go...   \n",
       "16448  Indian-origin man held for racist comments aga...   \n",
       "34746  I'm being framed: Jailed doctor on Gorakhpur h...   \n",
       "16436  Shastri was batting when cricket's 2nd tied Te...   \n",
       "96709  Flipper taught by Warne got me Warner's wicket...   \n",
       "8815   Life's over: Mumbai businessman texted friends...   \n",
       "\n",
       "                                                    text  \n",
       "35196  The New York Times and The New Yorker magazine...  \n",
       "48454  After the 1964 Innsbruck Winter Olympics were ...  \n",
       "75042  According to reports, Reliance Jio may offer i...  \n",
       "74550  Singer Taylor Swift has removed all posts from...  \n",
       "54448  Union Minister Jayant Sinha has said the priva...  \n",
       "16448  Kessie Nair, a former Indian-origin Councillor...  \n",
       "34746  Dr Kafeel Khan, who is in jail in connection w...  \n",
       "16436  India's former cricketer and current coach Rav...  \n",
       "96709  Indian spinner Kuldeep Yadav, who registered 4...  \n",
       "8815   Ashwin Lalit Jain, a 40-year-old gold business...  "
      ]
     },
     "execution_count": 3,
     "metadata": {},
     "output_type": "execute_result"
    }
   ],
   "source": [
    "data.sample(10)"
   ]
  },
  {
   "cell_type": "code",
   "execution_count": 4,
   "metadata": {},
   "outputs": [
    {
     "data": {
      "text/plain": [
       "98401"
      ]
     },
     "execution_count": 4,
     "metadata": {},
     "output_type": "execute_result"
    }
   ],
   "source": [
    "len(data)"
   ]
  },
  {
   "cell_type": "markdown",
   "metadata": {},
   "source": [
    "우리는 text 시퀀스를 입력받으면 headlines를 예측하도록 신경망을 훈련시키려고 합니다."
   ]
  },
  {
   "cell_type": "markdown",
   "metadata": {},
   "source": [
    "## 2. 데이터 전처리하기\n",
    "\n",
    "우선, 유니크한 데이터가 몇개있는지 확인해봅니다."
   ]
  },
  {
   "cell_type": "code",
   "execution_count": 5,
   "metadata": {},
   "outputs": [
    {
     "name": "stdout",
     "output_type": "stream",
     "text": [
      "headlines의 유니크한 데이터 수 :  98280\n",
      "text의 유니크한 데이터 수 :  98360\n"
     ]
    }
   ],
   "source": [
    "print('headlines의 유니크한 데이터 수 : ', data['headlines'].nunique())\n",
    "print('text의 유니크한 데이터 수 : ', data['text'].nunique())"
   ]
  },
  {
   "cell_type": "markdown",
   "metadata": {},
   "source": [
    "headline의 유니크한 데이터가 text보다 약 100여개 더 많습니다. text가 달라도 헤드라인이 같은 경우가 있으나 text가 중복된 경우는 본문 자체가 동일하다는 뜻이므로 중복 샘플을 제거해줍니다."
   ]
  },
  {
   "cell_type": "code",
   "execution_count": 6,
   "metadata": {},
   "outputs": [
    {
     "name": "stdout",
     "output_type": "stream",
     "text": [
      "전체 샘플수 : 98360\n"
     ]
    }
   ],
   "source": [
    "data.drop_duplicates(subset = ['text'], inplace = True)\n",
    "print('전체 샘플수 :',(len(data)))"
   ]
  },
  {
   "cell_type": "code",
   "execution_count": 7,
   "metadata": {},
   "outputs": [
    {
     "name": "stdout",
     "output_type": "stream",
     "text": [
      "headlines    0\n",
      "text         0\n",
      "dtype: int64\n"
     ]
    }
   ],
   "source": [
    "print(data.isnull().sum())"
   ]
  },
  {
   "cell_type": "markdown",
   "metadata": {},
   "source": [
    "텍스트 정규화와 불용어 제거"
   ]
  },
  {
   "cell_type": "code",
   "execution_count": 8,
   "metadata": {},
   "outputs": [
    {
     "name": "stdout",
     "output_type": "stream",
     "text": [
      "정규화 사전의 수:  120\n"
     ]
    }
   ],
   "source": [
    "contractions = {\"ain't\": \"is not\", \"aren't\": \"are not\",\"can't\": \"cannot\", \"'cause\": \"because\", \"could've\": \"could have\", \"couldn't\": \"could not\",\n",
    "                           \"didn't\": \"did not\",  \"doesn't\": \"does not\", \"don't\": \"do not\", \"hadn't\": \"had not\", \"hasn't\": \"has not\", \"haven't\": \"have not\",\n",
    "                           \"he'd\": \"he would\",\"he'll\": \"he will\", \"he's\": \"he is\", \"how'd\": \"how did\", \"how'd'y\": \"how do you\", \"how'll\": \"how will\", \"how's\": \"how is\",\n",
    "                           \"I'd\": \"I would\", \"I'd've\": \"I would have\", \"I'll\": \"I will\", \"I'll've\": \"I will have\",\"I'm\": \"I am\", \"I've\": \"I have\", \"i'd\": \"i would\",\n",
    "                           \"i'd've\": \"i would have\", \"i'll\": \"i will\",  \"i'll've\": \"i will have\",\"i'm\": \"i am\", \"i've\": \"i have\", \"isn't\": \"is not\", \"it'd\": \"it would\",\n",
    "                           \"it'd've\": \"it would have\", \"it'll\": \"it will\", \"it'll've\": \"it will have\",\"it's\": \"it is\", \"let's\": \"let us\", \"ma'am\": \"madam\",\n",
    "                           \"mayn't\": \"may not\", \"might've\": \"might have\",\"mightn't\": \"might not\",\"mightn't've\": \"might not have\", \"must've\": \"must have\",\n",
    "                           \"mustn't\": \"must not\", \"mustn't've\": \"must not have\", \"needn't\": \"need not\", \"needn't've\": \"need not have\",\"o'clock\": \"of the clock\",\n",
    "                           \"oughtn't\": \"ought not\", \"oughtn't've\": \"ought not have\", \"shan't\": \"shall not\", \"sha'n't\": \"shall not\", \"shan't've\": \"shall not have\",\n",
    "                           \"she'd\": \"she would\", \"she'd've\": \"she would have\", \"she'll\": \"she will\", \"she'll've\": \"she will have\", \"she's\": \"she is\",\n",
    "                           \"should've\": \"should have\", \"shouldn't\": \"should not\", \"shouldn't've\": \"should not have\", \"so've\": \"so have\",\"so's\": \"so as\",\n",
    "                           \"this's\": \"this is\",\"that'd\": \"that would\", \"that'd've\": \"that would have\", \"that's\": \"that is\", \"there'd\": \"there would\",\n",
    "                           \"there'd've\": \"there would have\", \"there's\": \"there is\", \"here's\": \"here is\",\"they'd\": \"they would\", \"they'd've\": \"they would have\",\n",
    "                           \"they'll\": \"they will\", \"they'll've\": \"they will have\", \"they're\": \"they are\", \"they've\": \"they have\", \"to've\": \"to have\",\n",
    "                           \"wasn't\": \"was not\", \"we'd\": \"we would\", \"we'd've\": \"we would have\", \"we'll\": \"we will\", \"we'll've\": \"we will have\", \"we're\": \"we are\",\n",
    "                           \"we've\": \"we have\", \"weren't\": \"were not\", \"what'll\": \"what will\", \"what'll've\": \"what will have\", \"what're\": \"what are\",\n",
    "                           \"what's\": \"what is\", \"what've\": \"what have\", \"when's\": \"when is\", \"when've\": \"when have\", \"where'd\": \"where did\", \"where's\": \"where is\",\n",
    "                           \"where've\": \"where have\", \"who'll\": \"who will\", \"who'll've\": \"who will have\", \"who's\": \"who is\", \"who've\": \"who have\",\n",
    "                           \"why's\": \"why is\", \"why've\": \"why have\", \"will've\": \"will have\", \"won't\": \"will not\", \"won't've\": \"will not have\",\n",
    "                           \"would've\": \"would have\", \"wouldn't\": \"would not\", \"wouldn't've\": \"would not have\", \"y'all\": \"you all\",\n",
    "                           \"y'all'd\": \"you all would\",\"y'all'd've\": \"you all would have\",\"y'all're\": \"you all are\",\"y'all've\": \"you all have\",\n",
    "                           \"you'd\": \"you would\", \"you'd've\": \"you would have\", \"you'll\": \"you will\", \"you'll've\": \"you will have\",\n",
    "                           \"you're\": \"you are\", \"you've\": \"you have\"}\n",
    "\n",
    "print(\"정규화 사전의 수: \",len(contractions))"
   ]
  },
  {
   "cell_type": "code",
   "execution_count": 9,
   "metadata": {},
   "outputs": [
    {
     "name": "stdout",
     "output_type": "stream",
     "text": [
      "불용어 개수 : 179\n",
      "['i', 'me', 'my', 'myself', 'we', 'our', 'ours', 'ourselves', 'you', \"you're\", \"you've\", \"you'll\", \"you'd\", 'your', 'yours', 'yourself', 'yourselves', 'he', 'him', 'his', 'himself', 'she', \"she's\", 'her', 'hers', 'herself', 'it', \"it's\", 'its', 'itself', 'they', 'them', 'their', 'theirs', 'themselves', 'what', 'which', 'who', 'whom', 'this', 'that', \"that'll\", 'these', 'those', 'am', 'is', 'are', 'was', 'were', 'be', 'been', 'being', 'have', 'has', 'had', 'having', 'do', 'does', 'did', 'doing', 'a', 'an', 'the', 'and', 'but', 'if', 'or', 'because', 'as', 'until', 'while', 'of', 'at', 'by', 'for', 'with', 'about', 'against', 'between', 'into', 'through', 'during', 'before', 'after', 'above', 'below', 'to', 'from', 'up', 'down', 'in', 'out', 'on', 'off', 'over', 'under', 'again', 'further', 'then', 'once', 'here', 'there', 'when', 'where', 'why', 'how', 'all', 'any', 'both', 'each', 'few', 'more', 'most', 'other', 'some', 'such', 'no', 'nor', 'not', 'only', 'own', 'same', 'so', 'than', 'too', 'very', 's', 't', 'can', 'will', 'just', 'don', \"don't\", 'should', \"should've\", 'now', 'd', 'll', 'm', 'o', 're', 've', 'y', 'ain', 'aren', \"aren't\", 'couldn', \"couldn't\", 'didn', \"didn't\", 'doesn', \"doesn't\", 'hadn', \"hadn't\", 'hasn', \"hasn't\", 'haven', \"haven't\", 'isn', \"isn't\", 'ma', 'mightn', \"mightn't\", 'mustn', \"mustn't\", 'needn', \"needn't\", 'shan', \"shan't\", 'shouldn', \"shouldn't\", 'wasn', \"wasn't\", 'weren', \"weren't\", 'won', \"won't\", 'wouldn', \"wouldn't\"]\n"
     ]
    }
   ],
   "source": [
    "print('불용어 개수 :', len(stopwords.words('english') ))\n",
    "print(stopwords.words('english'))"
   ]
  },
  {
   "cell_type": "code",
   "execution_count": 10,
   "metadata": {},
   "outputs": [],
   "source": [
    "# 데이터 전처리 함수\n",
    "\n",
    "def preprocess_sentence(sentence, remove_stopwords=True):\n",
    "    sentence = sentence.lower()    # 텍스트 소문자화\n",
    "    sentence = BeautifulSoup(sentence, \"lxml\").text   # <> 등 html 태그 제거\n",
    "    sentence = re.sub(r'\\([^)]*\\)', '', sentence) # 괄호로 닫힌 문자열 (~~) 제거\n",
    "    sentence = re.sub('\"\"', '', sentence) # 쌍따옴표 \" 제거\n",
    "    sentence = ' '.join([contractions[t] if t in contractions else t for t in sentence.split(\" \")])  # 약어 정규화\n",
    "    sentence = re.sub(r\"'s\\b\", \"\", sentence)  # 소유격 제거. Her's => Her\n",
    "    sentence = re.sub(\"[^a-zA-Z]\", \" \", sentence)   # 영어 외 문자(숫자, 특수문자 등) 공백으로 변환\n",
    "    sentence = re.sub('[m]{2,}', 'mm', sentence)   # m이 3개 이상이면 2개로 변경 ummmm 이런거\n",
    "    \n",
    "    # 불용어 제거 (in text)\n",
    "    if remove_stopwords:\n",
    "        tokens = ' '.join(word for word in sentence.split() if not word in stopwords.words('english') if len(word) > 1)\n",
    "    \n",
    "    # 불용어 미제거 (in headlines) 제거하면 오히려 어색함\n",
    "    else:\n",
    "        tokens = ' '.join(word for word in sentence.split() if len(word) > 1)\n",
    "    return tokens\n",
    "    "
   ]
  },
  {
   "cell_type": "code",
   "execution_count": 11,
   "metadata": {},
   "outputs": [
    {
     "name": "stdout",
     "output_type": "stream",
     "text": [
      "everything bought great infact ordered twice third ordered wasfor mother father\n",
      "great way to start the day\n"
     ]
    }
   ],
   "source": [
    "# 전처리 전후 결과 확인하기 위한 임의의 데이터 호출\n",
    "\n",
    "temp_text = 'Everything I bought was great, infact I ordered twice and the third ordered was<br />for my mother and father.'\n",
    "temp_headline = 'Great way to start (or finish) the day!!!'\n",
    "\n",
    "print(preprocess_sentence(temp_text))\n",
    "print(preprocess_sentence(temp_headline, False))  # 불용어를 제거하지 않습니다."
   ]
  },
  {
   "cell_type": "code",
   "execution_count": 12,
   "metadata": {},
   "outputs": [
    {
     "data": {
      "text/plain": [
       "['saurav kant alumnus upgrad iiit pg program machine learning artificial intelligence sr systems engineer infosys almost years work experience program upgrad degree career support helped transition data scientist tech mahindra salary hike upgrad online power learning powered lakh careers',\n",
       " 'kunal shah credit card bill payment platform cred gave users chance win free food swiggy one year pranav kaushik delhi techie bagged reward spending cred coins users get one cred coin per rupee bill paid used avail rewards brands like ixigo bookmyshow ubereats cult fit',\n",
       " 'new zealand defeated india wickets fourth odi hamilton thursday win first match five match odi series india lost international match rohit sharma captaincy consecutive victories dating back march match witnessed india getting seventh lowest total odi cricket history',\n",
       " 'aegon life iterm insurance plan customers enjoy tax benefits premiums paid save taxes plan provides life cover age years also customers options insure critical illnesses disability accidental death benefit rider life cover age years',\n",
       " 'speaking sexual harassment allegations rajkumar hirani sonam kapoor said known hirani many years true metoo movement get derailed metoo movement always believe woman case need reserve judgment added hirani accused assistant worked sanju']"
      ]
     },
     "execution_count": 12,
     "metadata": {},
     "output_type": "execute_result"
    }
   ],
   "source": [
    "clean_text = []\n",
    "\n",
    "# 전체 Text 데이터에 대한 전처리 \n",
    "for s in data['text']:\n",
    "    clean_text.append(preprocess_sentence(s))\n",
    "\n",
    "# 전처리 후 출력\n",
    "clean_text[:5]"
   ]
  },
  {
   "cell_type": "code",
   "execution_count": 13,
   "metadata": {},
   "outputs": [
    {
     "data": {
      "text/plain": [
       "['upgrad learner switches to career in ml al with salary hike',\n",
       " 'delhi techie wins free food from swiggy for one year on cred',\n",
       " 'new zealand end rohit sharma led india match winning streak',\n",
       " 'aegon life iterm insurance plan helps customers save tax',\n",
       " 'have known hirani for yrs what if metoo claims are not true sonam']"
      ]
     },
     "execution_count": 13,
     "metadata": {},
     "output_type": "execute_result"
    }
   ],
   "source": [
    "clean_headline = []\n",
    "\n",
    "# 전체 Summary 데이터에 대한 전처리 \n",
    "for s in data['headlines']:\n",
    "    clean_headline.append(preprocess_sentence(s, False))\n",
    "\n",
    "clean_headline[:5]"
   ]
  },
  {
   "cell_type": "code",
   "execution_count": 14,
   "metadata": {},
   "outputs": [],
   "source": [
    "data['text'] = clean_text\n",
    "data['headlines'] = clean_headline\n",
    "\n",
    "# 빈 값을 Null 값으로 변환\n",
    "data.replace('', np.nan, inplace=True)"
   ]
  },
  {
   "cell_type": "code",
   "execution_count": 15,
   "metadata": {},
   "outputs": [
    {
     "data": {
      "text/plain": [
       "headlines    0\n",
       "text         0\n",
       "dtype: int64"
      ]
     },
     "execution_count": 15,
     "metadata": {},
     "output_type": "execute_result"
    }
   ],
   "source": [
    "data.isnull().sum()"
   ]
  },
  {
   "cell_type": "markdown",
   "metadata": {},
   "source": [
    "샘플의 최대 길이 정하기"
   ]
  },
  {
   "cell_type": "code",
   "execution_count": 16,
   "metadata": {},
   "outputs": [
    {
     "name": "stdout",
     "output_type": "stream",
     "text": [
      "텍스트의 최소 길이 : 1\n",
      "텍스트의 최대 길이 : 60\n",
      "텍스트의 평균 길이 : 35.097763318422125\n",
      "요약의 최소 길이 : 1\n",
      "요약의 최대 길이 : 16\n",
      "요약의 평균 길이 : 9.29956283041887\n"
     ]
    },
    {
     "data": {
      "image/png": "[encoded data removed]",
      "text/plain": [
       "<Figure size 432x288 with 2 Axes>"
      ]
     },
     "metadata": {
      "needs_background": "light"
     },
     "output_type": "display_data"
    },
    {
     "data": {
      "image/png": "[encoded data removed]",
      "text/plain": [
       "<Figure size 432x288 with 1 Axes>"
      ]
     },
     "metadata": {
      "needs_background": "light"
     },
     "output_type": "display_data"
    },
    {
     "data": {
      "image/png": "[encoded data removed]",
      "text/plain": [
       "<Figure size 432x288 with 1 Axes>"
      ]
     },
     "metadata": {
      "needs_background": "light"
     },
     "output_type": "display_data"
    }
   ],
   "source": [
    "# 길이 분포 출력\n",
    "import matplotlib.pyplot as plt\n",
    "\n",
    "text_len = [len(s.split()) for s in data['text']]\n",
    "headline_len = [len(s.split()) for s in data['headlines']]\n",
    "\n",
    "print('텍스트의 최소 길이 : {}'.format(np.min(text_len)))\n",
    "print('텍스트의 최대 길이 : {}'.format(np.max(text_len)))\n",
    "print('텍스트의 평균 길이 : {}'.format(np.mean(text_len)))\n",
    "print('요약의 최소 길이 : {}'.format(np.min(headline_len)))\n",
    "print('요약의 최대 길이 : {}'.format(np.max(headline_len)))\n",
    "print('요약의 평균 길이 : {}'.format(np.mean(headline_len)))\n",
    "\n",
    "plt.subplot(1,2,1)\n",
    "plt.boxplot(headline_len)\n",
    "plt.title('headline')\n",
    "plt.subplot(1,2,2)\n",
    "plt.boxplot(text_len)\n",
    "plt.title('text')\n",
    "plt.tight_layout()\n",
    "plt.show()\n",
    "\n",
    "plt.title('headline')\n",
    "plt.hist(headline_len, bins = 40)\n",
    "plt.xlabel('length of samples')\n",
    "plt.ylabel('number of samples')\n",
    "plt.show()\n",
    "\n",
    "plt.title('text')\n",
    "plt.hist(text_len, bins = 40)\n",
    "plt.xlabel('length of samples')\n",
    "plt.ylabel('number of samples')\n",
    "plt.show()"
   ]
  },
  {
   "cell_type": "code",
   "execution_count": 17,
   "metadata": {},
   "outputs": [],
   "source": [
    "text_max_len = 38\n",
    "headline_max_len = 11"
   ]
  },
  {
   "cell_type": "code",
   "execution_count": 18,
   "metadata": {},
   "outputs": [],
   "source": [
    "def below_threshold_len(max_len, nested_list):\n",
    "    cnt = 0\n",
    "    for s in nested_list:\n",
    "        if (len(s.split()) <= max_len):\n",
    "            cnt = cnt + 1\n",
    "    print('전체 샘플 중 길이가 %s 이하인 샘플의 비율: %s'%(max_len, (cnt / len(nested_list))))\n",
    "    "
   ]
  },
  {
   "cell_type": "code",
   "execution_count": 19,
   "metadata": {},
   "outputs": [
    {
     "name": "stdout",
     "output_type": "stream",
     "text": [
      "전체 샘플 중 길이가 38 이하인 샘플의 비율: 0.8164497763318422\n",
      "전체 샘플 중 길이가 11 이하인 샘플의 비율: 0.9449877999186661\n"
     ]
    }
   ],
   "source": [
    "below_threshold_len(text_max_len, data['text'])\n",
    "below_threshold_len(headline_max_len,  data['headlines'])"
   ]
  },
  {
   "cell_type": "code",
   "execution_count": 20,
   "metadata": {},
   "outputs": [
    {
     "name": "stdout",
     "output_type": "stream",
     "text": [
      "전체 샘플수 : 75765\n"
     ]
    }
   ],
   "source": [
    "data = data[data['text'].apply(lambda x: len(x.split()) <= text_max_len)]\n",
    "data = data[data['headlines'].apply(lambda x: len(x.split()) <= headline_max_len)]\n",
    "print('전체 샘플수 :',(len(data)))"
   ]
  },
  {
   "cell_type": "markdown",
   "metadata": {},
   "source": [
    "시작 토큰과 종료 토큰 추가하기"
   ]
  },
  {
   "cell_type": "code",
   "execution_count": 21,
   "metadata": {},
   "outputs": [
    {
     "data": {
      "text/html": [
       "<div>\n",
       "<style scoped>\n",
       "    .dataframe tbody tr th:only-of-type {\n",
       "        vertical-align: middle;\n",
       "    }\n",
       "\n",
       "    .dataframe tbody tr th {\n",
       "        vertical-align: top;\n",
       "    }\n",
       "\n",
       "    .dataframe thead th {\n",
       "        text-align: right;\n",
       "    }\n",
       "</style>\n",
       "<table border=\"1\" class=\"dataframe\">\n",
       "  <thead>\n",
       "    <tr style=\"text-align: right;\">\n",
       "      <th></th>\n",
       "      <th>headlines</th>\n",
       "      <th>text</th>\n",
       "      <th>decoder_input</th>\n",
       "      <th>decoder_target</th>\n",
       "    </tr>\n",
       "  </thead>\n",
       "  <tbody>\n",
       "    <tr>\n",
       "      <th>2</th>\n",
       "      <td>new zealand end rohit sharma led india match w...</td>\n",
       "      <td>new zealand defeated india wickets fourth odi ...</td>\n",
       "      <td>sostoken new zealand end rohit sharma led indi...</td>\n",
       "      <td>new zealand end rohit sharma led india match w...</td>\n",
       "    </tr>\n",
       "    <tr>\n",
       "      <th>3</th>\n",
       "      <td>aegon life iterm insurance plan helps customer...</td>\n",
       "      <td>aegon life iterm insurance plan customers enjo...</td>\n",
       "      <td>sostoken aegon life iterm insurance plan helps...</td>\n",
       "      <td>aegon life iterm insurance plan helps customer...</td>\n",
       "    </tr>\n",
       "    <tr>\n",
       "      <th>5</th>\n",
       "      <td>rahat fateh ali khan denies getting notice for...</td>\n",
       "      <td>pakistani singer rahat fateh ali khan denied r...</td>\n",
       "      <td>sostoken rahat fateh ali khan denies getting n...</td>\n",
       "      <td>rahat fateh ali khan denies getting notice for...</td>\n",
       "    </tr>\n",
       "    <tr>\n",
       "      <th>7</th>\n",
       "      <td>govt directs alok verma to join work day befor...</td>\n",
       "      <td>weeks ex cbi director alok verma told departme...</td>\n",
       "      <td>sostoken govt directs alok verma to join work ...</td>\n",
       "      <td>govt directs alok verma to join work day befor...</td>\n",
       "    </tr>\n",
       "    <tr>\n",
       "      <th>8</th>\n",
       "      <td>called pm modi sir times to satisfy his ego an...</td>\n",
       "      <td>andhra pradesh cm chandrababu naidu said met u...</td>\n",
       "      <td>sostoken called pm modi sir times to satisfy h...</td>\n",
       "      <td>called pm modi sir times to satisfy his ego an...</td>\n",
       "    </tr>\n",
       "  </tbody>\n",
       "</table>\n",
       "</div>"
      ],
      "text/plain": [
       "                                           headlines  \\\n",
       "2  new zealand end rohit sharma led india match w...   \n",
       "3  aegon life iterm insurance plan helps customer...   \n",
       "5  rahat fateh ali khan denies getting notice for...   \n",
       "7  govt directs alok verma to join work day befor...   \n",
       "8  called pm modi sir times to satisfy his ego an...   \n",
       "\n",
       "                                                text  \\\n",
       "2  new zealand defeated india wickets fourth odi ...   \n",
       "3  aegon life iterm insurance plan customers enjo...   \n",
       "5  pakistani singer rahat fateh ali khan denied r...   \n",
       "7  weeks ex cbi director alok verma told departme...   \n",
       "8  andhra pradesh cm chandrababu naidu said met u...   \n",
       "\n",
       "                                       decoder_input  \\\n",
       "2  sostoken new zealand end rohit sharma led indi...   \n",
       "3  sostoken aegon life iterm insurance plan helps...   \n",
       "5  sostoken rahat fateh ali khan denies getting n...   \n",
       "7  sostoken govt directs alok verma to join work ...   \n",
       "8  sostoken called pm modi sir times to satisfy h...   \n",
       "\n",
       "                                      decoder_target  \n",
       "2  new zealand end rohit sharma led india match w...  \n",
       "3  aegon life iterm insurance plan helps customer...  \n",
       "5  rahat fateh ali khan denies getting notice for...  \n",
       "7  govt directs alok verma to join work day befor...  \n",
       "8  called pm modi sir times to satisfy his ego an...  "
      ]
     },
     "execution_count": 21,
     "metadata": {},
     "output_type": "execute_result"
    }
   ],
   "source": [
    "# 요약 데이터에는 시작 토큰과 종료 토큰을 추가.\n",
    "\n",
    "data['decoder_input'] = data['headlines'].apply(lambda x : 'sostoken '+ x)\n",
    "data['decoder_target'] = data['headlines'].apply(lambda x : x + ' eostoken')\n",
    "data.head()"
   ]
  },
  {
   "cell_type": "code",
   "execution_count": 22,
   "metadata": {},
   "outputs": [],
   "source": [
    "# 인코더의 입력, 디코더의 입력과 레이블을 각각 다시 Numpy 타입으로 저장\n",
    "\n",
    "encoder_input = np.array(data['text']) # 인코더의 입력\n",
    "decoder_input = np.array(data['decoder_input']) # 디코더의 입력\n",
    "decoder_target = np.array(data['decoder_target']) # 디코더의 레이블"
   ]
  },
  {
   "cell_type": "code",
   "execution_count": 23,
   "metadata": {},
   "outputs": [
    {
     "name": "stdout",
     "output_type": "stream",
     "text": [
      "[18975 59993 74647 ... 69328 48561 21812]\n"
     ]
    }
   ],
   "source": [
    "# 훈련 데이터 테스트 데이터 분리\n",
    "\n",
    "indices = np.arange(encoder_input.shape[0])  # encoder_input과 크기와 형태가 같은 정수 시퀀스 생성\n",
    "np.random.shuffle(indices)                   # 순서를 랜덤하게 섞어줍니다\n",
    "print(indices) # 랜덤한 정수 시퀀스 생성!"
   ]
  },
  {
   "cell_type": "code",
   "execution_count": 24,
   "metadata": {},
   "outputs": [],
   "source": [
    "# 샘플 순서를 랜덤 시퀀스를 이용해서 정의해줌\n",
    "\n",
    "encoder_input = encoder_input[indices]\n",
    "decoder_input = decoder_input[indices]\n",
    "decoder_target = decoder_target[indices]"
   ]
  },
  {
   "cell_type": "code",
   "execution_count": 25,
   "metadata": {},
   "outputs": [
    {
     "name": "stdout",
     "output_type": "stream",
     "text": [
      "테스트 데이터의 수 : 15153\n"
     ]
    }
   ],
   "source": [
    "# 8:2로 훈련셋 테스트셋 분리\n",
    "\n",
    "n_of_val = int(len(encoder_input)*0.2)\n",
    "print('테스트 데이터의 수 :', n_of_val)"
   ]
  },
  {
   "cell_type": "code",
   "execution_count": 26,
   "metadata": {},
   "outputs": [
    {
     "name": "stdout",
     "output_type": "stream",
     "text": [
      "훈련 데이터의 개수 :  60612\n",
      "훈련 레이블의 개수 :  60612\n",
      "테스트 데이터의 개수 :  15153\n",
      "테스트 데이터의 개수 :  15153\n"
     ]
    }
   ],
   "source": [
    "# 테스트 데이터의 갯수를 이용해 전체 데이터를 양분해줌\n",
    "\n",
    "encoder_input_train = encoder_input[:-n_of_val] # 뒤로 n_of_val개 빼고 나머지\n",
    "decoder_input_train = decoder_input[:-n_of_val] \n",
    "decoder_target_train = decoder_target[:-n_of_val]\n",
    "\n",
    "encoder_input_test = encoder_input[-n_of_val:] # 앞에 n_of_val개 빼고 나머지\n",
    "decoder_input_test = decoder_input[-n_of_val:]\n",
    "decoder_target_test = decoder_target[-n_of_val:]\n",
    "\n",
    "print('훈련 데이터의 개수 : ', len(encoder_input_train))\n",
    "print('훈련 레이블의 개수 : ', len(decoder_input_train))\n",
    "print('테스트 데이터의 개수 : ', len(encoder_input_test))\n",
    "print('테스트 데이터의 개수 : ', len(decoder_input_test))"
   ]
  },
  {
   "cell_type": "markdown",
   "metadata": {},
   "source": [
    "단어 집합 만들기 & 정수 인코딩"
   ]
  },
  {
   "cell_type": "code",
   "execution_count": 27,
   "metadata": {},
   "outputs": [],
   "source": [
    "src_tokenizer = Tokenizer()    # 토크나이저 생성 - 입력된 훈련 데이터로부터 단어집합 생성 가능하게 해줌\n",
    "src_tokenizer.fit_on_texts(encoder_input_train)       # 입력된 데이터로부터 단어 집합 생성"
   ]
  },
  {
   "cell_type": "code",
   "execution_count": 28,
   "metadata": {},
   "outputs": [],
   "source": [
    "# 단어집합이 생성되었고, 각 단어에 고유한 정수가 부여됨. \n",
    "# 빈도수 낮은 단어들은 훈련데이터에서 제거"
   ]
  },
  {
   "cell_type": "code",
   "execution_count": 29,
   "metadata": {},
   "outputs": [
    {
     "name": "stdout",
     "output_type": "stream",
     "text": [
      "단어 집합의 크기 :  60335\n",
      "등장 빈도가 7번 이하인 희귀 단어의 수: 42569\n",
      "단어 집합에서 희귀 단어를 제외시킬 경우의 단어 집합의 크기: 17766\n",
      "단어 집합에서 희귀 단어의 비율: 70.55440457445927\n",
      "전체 등장 빈도에서 희귀 단어 등장 빈도 비율: 4.535666591529053\n"
     ]
    }
   ],
   "source": [
    "threshold = 8\n",
    "total_count = len(src_tokenizer.word_index)      # 단어의 수\n",
    "rare_count = 0             # 등장 빈도수가 threshold보다 작은 단어의 개수를 count\n",
    "total_freq = 0             # 훈련 데이터의 전체 단어 빈도수 총 합\n",
    "rare_freq = 0              # 등장 빈도수가 threshold보다 작은 단어의 등장 빈도수 총 합\n",
    "\n",
    "# 단어와 빈도수의 쌍(pair)을 key와 value로 받음.\n",
    "for key, value in src_tokenizer.word_counts.items():\n",
    "    total_freq = total_freq + value\n",
    "    \n",
    "    # 단어의 등장 빈도수가 threshold보다 작으면\n",
    "    if (value < threshold) :\n",
    "        rare_count = rare_count + 1\n",
    "        rare_freq = rare_freq + value\n",
    "        \n",
    "print('단어 집합의 크기 : ', total_count)\n",
    "print('등장 빈도가 %s번 이하인 희귀 단어의 수: %s'%(threshold - 1, rare_count))\n",
    "print('단어 집합에서 희귀 단어를 제외시킬 경우의 단어 집합의 크기: %s'%(total_count - rare_count))\n",
    "print(\"단어 집합에서 희귀 단어의 비율:\", (rare_count / total_count)*100)\n",
    "print(\"전체 등장 빈도에서 희귀 단어 등장 빈도 비율:\", (rare_freq / total_freq)*100)"
   ]
  },
  {
   "cell_type": "code",
   "execution_count": 30,
   "metadata": {},
   "outputs": [],
   "source": [
    "src_vocab = 17500\n",
    "src_tokenizer = Tokenizer(num_words = src_vocab) # 단어 집합의 크기를 17,000으로 제한\n",
    "src_tokenizer.fit_on_texts(encoder_input_train) # 단어 집합 재생성."
   ]
  },
  {
   "cell_type": "code",
   "execution_count": 31,
   "metadata": {},
   "outputs": [
    {
     "name": "stdout",
     "output_type": "stream",
     "text": [
      "[[26, 17, 55, 970, 309, 21, 10509, 2129, 1489, 122, 54, 4692, 1407, 397, 689, 2389, 67, 380, 473, 887, 1106, 463, 763, 4692, 5892, 4692, 1985, 206, 460, 4832, 4638, 561, 1071, 460, 8732], [671, 373, 2667, 3521, 2240, 113, 908, 417, 6033, 577, 58, 1201, 258, 9425, 429, 4833, 72, 408, 3455, 402, 1116, 8948, 6, 1201, 69, 130, 5654, 293], [4582, 324, 594, 980, 3145, 175, 1232, 12501, 133, 1151, 1519, 13537, 4985, 6514, 6971, 8542, 7098, 417, 171, 484, 3013, 313, 9929, 196, 484, 1088, 980, 1688, 762, 88, 1162, 1188, 94]]\n"
     ]
    }
   ],
   "source": [
    "# 텍스트 시퀀스를 정수 시퀀스로 변환\n",
    "encoder_input_train = src_tokenizer.texts_to_sequences(encoder_input_train)\n",
    "encoder_input_test = src_tokenizer.texts_to_sequences(encoder_input_test)\n",
    "\n",
    "# 잘 진행되었는지 샘플 출력\n",
    "print(encoder_input_train[:3])"
   ]
  },
  {
   "cell_type": "code",
   "execution_count": 32,
   "metadata": {},
   "outputs": [],
   "source": [
    "# headlines 에도 동일한 작업해주기\n",
    "tar_tokenizer = Tokenizer()\n",
    "tar_tokenizer.fit_on_texts(decoder_input_train)"
   ]
  },
  {
   "cell_type": "code",
   "execution_count": 33,
   "metadata": {},
   "outputs": [
    {
     "name": "stdout",
     "output_type": "stream",
     "text": [
      "단어 집합의 크기 :  27107\n",
      "등장 빈도가 6번 이하인 희귀 단어의 수: 18889\n",
      "단어 집합에서 희귀 단어를 제외시킬 경우의 단어 집합의 크기: 8218\n",
      "단어 집합에서 희귀 단어의 비율: 69.68310768436197\n",
      "전체 등장 빈도에서 희귀 단어 등장 빈도 비율: 6.416660287845007\n"
     ]
    }
   ],
   "source": [
    "threshold = 7\n",
    "total_count = len(tar_tokenizer.word_index)      # 단어의 수\n",
    "rare_count = 0             # 등장 빈도수가 threshold보다 작은 단어의 개수를 count\n",
    "total_freq = 0             # 훈련 데이터의 전체 단어 빈도수 총 합\n",
    "rare_freq = 0              # 등장 빈도수가 threshold보다 작은 단어의 등장 빈도수 총 합\n",
    "\n",
    "# 단어와 빈도수의 쌍(pair)을 key와 value로 받음.\n",
    "for key, value in tar_tokenizer.word_counts.items():\n",
    "    total_freq = total_freq + value\n",
    "    \n",
    "    # 단어의 등장 빈도수가 threshold보다 작으면\n",
    "    if (value < threshold) :\n",
    "        rare_count = rare_count + 1\n",
    "        rare_freq = rare_freq + value\n",
    "        \n",
    "print('단어 집합의 크기 : ', total_count)\n",
    "print('등장 빈도가 %s번 이하인 희귀 단어의 수: %s'%(threshold - 1, rare_count))\n",
    "print('단어 집합에서 희귀 단어를 제외시킬 경우의 단어 집합의 크기: %s'%(total_count - rare_count))\n",
    "print(\"단어 집합에서 희귀 단어의 비율:\", (rare_count / total_count)*100)\n",
    "print(\"전체 등장 빈도에서 희귀 단어 등장 빈도 비율:\", (rare_freq / total_freq)*100)"
   ]
  },
  {
   "cell_type": "code",
   "execution_count": 34,
   "metadata": {},
   "outputs": [],
   "source": [
    "tar_vocab = 8000\n",
    "tar_tokenizer = Tokenizer(num_words = tar_vocab) \n",
    "tar_tokenizer.fit_on_texts(decoder_input_train)\n",
    "tar_tokenizer.fit_on_texts(decoder_target_train)"
   ]
  },
  {
   "cell_type": "code",
   "execution_count": 35,
   "metadata": {},
   "outputs": [
    {
     "name": "stdout",
     "output_type": "stream",
     "text": [
      "input\n",
      "input  [[1, 2094, 1015, 308, 904, 3, 215, 5, 58, 5, 3092], [1, 107, 7552, 309, 29, 2507, 1258, 16, 122, 2061, 290], [1, 1271, 99, 1750, 5, 192, 3, 1259], [1, 39, 1436, 83, 2062, 591, 16, 1653, 4, 1751], [1, 786, 18, 2183, 20, 149, 836, 3, 786, 7553, 319]]\n",
      "target\n",
      "decoder  [[2094, 1015, 308, 904, 3, 215, 5, 58, 5, 3092, 2], [107, 7552, 309, 29, 2507, 1258, 16, 122, 2061, 290, 2], [1271, 99, 1750, 5, 192, 3, 1259, 2], [39, 1436, 83, 2062, 591, 16, 1653, 4, 1751, 2], [786, 18, 2183, 20, 149, 836, 3, 786, 7553, 319, 2]]\n"
     ]
    }
   ],
   "source": [
    "# 텍스트 시퀀스를 정수 시퀀스로 변환\n",
    "decoder_input_train = tar_tokenizer.texts_to_sequences(decoder_input_train) \n",
    "decoder_target_train = tar_tokenizer.texts_to_sequences(decoder_target_train)\n",
    "decoder_input_test = tar_tokenizer.texts_to_sequences(decoder_input_test)\n",
    "decoder_target_test = tar_tokenizer.texts_to_sequences(decoder_target_test)\n",
    "\n",
    "#잘 변환되었는지 확인\n",
    "print('input')\n",
    "print('input ',decoder_input_train[:5])\n",
    "print('target')\n",
    "print('decoder ',decoder_target_train[:5])"
   ]
  },
  {
   "cell_type": "code",
   "execution_count": 36,
   "metadata": {},
   "outputs": [
    {
     "name": "stdout",
     "output_type": "stream",
     "text": [
      "삭제할 훈련 데이터의 개수 : 1\n",
      "삭제할 테스트 데이터의 개수 : 0\n",
      "훈련 데이터의 개수 : 60611\n",
      "훈련 레이블의 개수 : 60611\n",
      "테스트 데이터의 개수 : 15153\n",
      "테스트 레이블의 개수 : 15153\n"
     ]
    },
    {
     "name": "stderr",
     "output_type": "stream",
     "text": [
      "/opt/conda/lib/python3.9/site-packages/numpy/lib/function_base.py:4454: VisibleDeprecationWarning: Creating an ndarray from ragged nested sequences (which is a list-or-tuple of lists-or-tuples-or ndarrays with different lengths or shapes) is deprecated. If you meant to do this, you must specify 'dtype=object' when creating the ndarray.\n",
      "  arr = asarray(arr)\n"
     ]
    }
   ],
   "source": [
    "# headline의 길이가 1인 경우(실제로는 길이가 0)의 인덱스를 저장해보자\n",
    "drop_train = [index for index, sentence in enumerate(decoder_input_train) if len(sentence) == 1]\n",
    "drop_test = [index for index, sentence in enumerate(decoder_input_test) if len(sentence) == 1]\n",
    "\n",
    "print('삭제할 훈련 데이터의 개수 :',len(drop_train))\n",
    "print('삭제할 테스트 데이터의 개수 :',len(drop_test))\n",
    "\n",
    "encoder_input_train = np.delete(encoder_input_train, drop_train, axis=0)\n",
    "decoder_input_train = np.delete(decoder_input_train, drop_train, axis=0)\n",
    "decoder_target_train = np.delete(decoder_target_train, drop_train, axis=0)\n",
    "\n",
    "encoder_input_test = np.delete(encoder_input_test, drop_test, axis=0)\n",
    "decoder_input_test = np.delete(decoder_input_test, drop_test, axis=0)\n",
    "decoder_target_test = np.delete(decoder_target_test, drop_test, axis=0)\n",
    "\n",
    "print('훈련 데이터의 개수 :', len(encoder_input_train))\n",
    "print('훈련 레이블의 개수 :',len(decoder_input_train))\n",
    "print('테스트 데이터의 개수 :',len(encoder_input_test))\n",
    "print('테스트 레이블의 개수 :',len(decoder_input_test))"
   ]
  },
  {
   "cell_type": "code",
   "execution_count": 37,
   "metadata": {},
   "outputs": [],
   "source": [
    "# post padding. 뒤의 공간에 숫자 0을 넣어준다\n",
    "# 아까 지정해주었던 최대 길이로 패딩.\n",
    "encoder_input_train = pad_sequences(encoder_input_train, maxlen = text_max_len, padding='post')\n",
    "encoder_input_test = pad_sequences(encoder_input_test, maxlen = text_max_len, padding='post')\n",
    "decoder_input_train = pad_sequences(decoder_input_train, maxlen = headline_max_len, padding='post')\n",
    "decoder_target_train = pad_sequences(decoder_target_train, maxlen = headline_max_len, padding='post')\n",
    "decoder_input_test = pad_sequences(decoder_input_test, maxlen = headline_max_len, padding='post')\n",
    "decoder_target_test = pad_sequences(decoder_target_test, maxlen = headline_max_len, padding='post')"
   ]
  },
  {
   "cell_type": "markdown",
   "metadata": {},
   "source": [
    "## 3. Attention 메커니즘 사용하기"
   ]
  },
  {
   "cell_type": "code",
   "execution_count": 38,
   "metadata": {},
   "outputs": [
    {
     "name": "stdout",
     "output_type": "stream",
     "text": [
      "WARNING:tensorflow:Layer lstm will not use cuDNN kernels since it doesn't meet the criteria. It will use a generic GPU kernel as fallback when running on GPU.\n",
      "WARNING:tensorflow:Layer lstm_1 will not use cuDNN kernels since it doesn't meet the criteria. It will use a generic GPU kernel as fallback when running on GPU.\n",
      "WARNING:tensorflow:Layer lstm_2 will not use cuDNN kernels since it doesn't meet the criteria. It will use a generic GPU kernel as fallback when running on GPU.\n"
     ]
    }
   ],
   "source": [
    "from tensorflow.keras.layers import Input, LSTM, Embedding, Dense, Concatenate, TimeDistributed\n",
    "from tensorflow.keras.models import Model\n",
    "from tensorflow.keras.callbacks import EarlyStopping, ModelCheckpoint\n",
    "\n",
    "\n",
    "# 인코더 설계 시작\n",
    "embedding_dim = 128\n",
    "hidden_size = 256\n",
    "\n",
    "# 인코더\n",
    "encoder_inputs = Input(shape=(text_max_len,))\n",
    "\n",
    "# 인코더의 임베딩 층\n",
    "enc_emb = Embedding(src_vocab, embedding_dim)(encoder_inputs)\n",
    "\n",
    "# 인코더의 LSTM 1\n",
    "encoder_lstm1 = LSTM(hidden_size, return_sequences=True, return_state=True ,dropout = 0.4, recurrent_dropout = 0.4)\n",
    "encoder_output1, state_h1, state_c1 = encoder_lstm1(enc_emb)\n",
    "\n",
    "# 인코더의 LSTM 2\n",
    "encoder_lstm2 = LSTM(hidden_size, return_sequences=True, return_state=True, dropout=0.4, recurrent_dropout=0.4)\n",
    "encoder_output2, state_h2, state_c2 = encoder_lstm2(encoder_output1)\n",
    "\n",
    "# 인코더의 LSTM 3\n",
    "encoder_lstm3 = LSTM(hidden_size, return_state=True, return_sequences=True, dropout=0.4, recurrent_dropout=0.4)\n",
    "encoder_outputs, state_h, state_c= encoder_lstm3(encoder_output2)"
   ]
  },
  {
   "cell_type": "code",
   "execution_count": 39,
   "metadata": {},
   "outputs": [
    {
     "name": "stdout",
     "output_type": "stream",
     "text": [
      "WARNING:tensorflow:Layer lstm_3 will not use cuDNN kernels since it doesn't meet the criteria. It will use a generic GPU kernel as fallback when running on GPU.\n"
     ]
    }
   ],
   "source": [
    "# 디코더 설계\n",
    "decoder_inputs = Input(shape=(None,))\n",
    "\n",
    "# 디코더의 임베딩 층\n",
    "dec_emb_layer = Embedding(tar_vocab, embedding_dim)\n",
    "dec_emb = dec_emb_layer(decoder_inputs)\n",
    "\n",
    "# 디코더의 LSTM\n",
    "decoder_lstm = LSTM(hidden_size, return_sequences=True, return_state=True, dropout=0.4, recurrent_dropout=0.2)\n",
    "decoder_outputs, _, _ = decoder_lstm(dec_emb, initial_state=[state_h, state_c])"
   ]
  },
  {
   "cell_type": "code",
   "execution_count": 40,
   "metadata": {
    "scrolled": true
   },
   "outputs": [
    {
     "name": "stdout",
     "output_type": "stream",
     "text": [
      "Model: \"model\"\n",
      "__________________________________________________________________________________________________\n",
      "Layer (type)                    Output Shape         Param #     Connected to                     \n",
      "==================================================================================================\n",
      "input_1 (InputLayer)            [(None, 38)]         0                                            \n",
      "__________________________________________________________________________________________________\n",
      "embedding (Embedding)           (None, 38, 128)      2240000     input_1[0][0]                    \n",
      "__________________________________________________________________________________________________\n",
      "lstm (LSTM)                     [(None, 38, 256), (N 394240      embedding[0][0]                  \n",
      "__________________________________________________________________________________________________\n",
      "input_2 (InputLayer)            [(None, None)]       0                                            \n",
      "__________________________________________________________________________________________________\n",
      "lstm_1 (LSTM)                   [(None, 38, 256), (N 525312      lstm[0][0]                       \n",
      "__________________________________________________________________________________________________\n",
      "embedding_1 (Embedding)         (None, None, 128)    1024000     input_2[0][0]                    \n",
      "__________________________________________________________________________________________________\n",
      "lstm_2 (LSTM)                   [(None, 38, 256), (N 525312      lstm_1[0][0]                     \n",
      "__________________________________________________________________________________________________\n",
      "lstm_3 (LSTM)                   [(None, None, 256),  394240      embedding_1[0][0]                \n",
      "                                                                 lstm_2[0][1]                     \n",
      "                                                                 lstm_2[0][2]                     \n",
      "__________________________________________________________________________________________________\n",
      "dense (Dense)                   (None, None, 8000)   2056000     lstm_3[0][0]                     \n",
      "==================================================================================================\n",
      "Total params: 7,159,104\n",
      "Trainable params: 7,159,104\n",
      "Non-trainable params: 0\n",
      "__________________________________________________________________________________________________\n"
     ]
    }
   ],
   "source": [
    "# 디코더의 출력층\n",
    "decoder_softmax_layer = Dense(tar_vocab, activation='softmax')\n",
    "decoder_softmax_outputs = decoder_softmax_layer(decoder_outputs) \n",
    "\n",
    "# 모델 정의\n",
    "model = Model([encoder_inputs, decoder_inputs], decoder_softmax_outputs)\n",
    "model.summary()"
   ]
  },
  {
   "cell_type": "code",
   "execution_count": 41,
   "metadata": {},
   "outputs": [
    {
     "name": "stdout",
     "output_type": "stream",
     "text": [
      "Model: \"model_1\"\n",
      "__________________________________________________________________________________________________\n",
      "Layer (type)                    Output Shape         Param #     Connected to                     \n",
      "==================================================================================================\n",
      "input_1 (InputLayer)            [(None, 38)]         0                                            \n",
      "__________________________________________________________________________________________________\n",
      "embedding (Embedding)           (None, 38, 128)      2240000     input_1[0][0]                    \n",
      "__________________________________________________________________________________________________\n",
      "lstm (LSTM)                     [(None, 38, 256), (N 394240      embedding[0][0]                  \n",
      "__________________________________________________________________________________________________\n",
      "input_2 (InputLayer)            [(None, None)]       0                                            \n",
      "__________________________________________________________________________________________________\n",
      "lstm_1 (LSTM)                   [(None, 38, 256), (N 525312      lstm[0][0]                       \n",
      "__________________________________________________________________________________________________\n",
      "embedding_1 (Embedding)         (None, None, 128)    1024000     input_2[0][0]                    \n",
      "__________________________________________________________________________________________________\n",
      "lstm_2 (LSTM)                   [(None, 38, 256), (N 525312      lstm_1[0][0]                     \n",
      "__________________________________________________________________________________________________\n",
      "lstm_3 (LSTM)                   [(None, None, 256),  394240      embedding_1[0][0]                \n",
      "                                                                 lstm_2[0][1]                     \n",
      "                                                                 lstm_2[0][2]                     \n",
      "__________________________________________________________________________________________________\n",
      "attention_layer (AdditiveAttent (None, None, 256)    256         lstm_3[0][0]                     \n",
      "                                                                 lstm_2[0][0]                     \n",
      "__________________________________________________________________________________________________\n",
      "concat_layer (Concatenate)      (None, None, 512)    0           lstm_3[0][0]                     \n",
      "                                                                 attention_layer[0][0]            \n",
      "__________________________________________________________________________________________________\n",
      "dense_1 (Dense)                 (None, None, 8000)   4104000     concat_layer[0][0]               \n",
      "==================================================================================================\n",
      "Total params: 9,207,360\n",
      "Trainable params: 9,207,360\n",
      "Non-trainable params: 0\n",
      "__________________________________________________________________________________________________\n"
     ]
    }
   ],
   "source": [
    "from tensorflow.keras.layers import AdditiveAttention\n",
    "\n",
    "# 어텐션 층(어텐션 함수)\n",
    "attn_layer = AdditiveAttention(name='attention_layer')\n",
    "\n",
    "# 인코더와 디코더의 모든 time step의 hidden state를 어텐션 층에 전달하고 결과를 리턴\n",
    "attn_out = attn_layer([decoder_outputs, encoder_outputs])\n",
    "\n",
    "\n",
    "# 어텐션의 결과와 디코더의 hidden state들을 연결\n",
    "decoder_concat_input = Concatenate(axis=-1, name='concat_layer')([decoder_outputs, attn_out])\n",
    "\n",
    "# 디코더의 출력층\n",
    "decoder_softmax_layer = Dense(tar_vocab, activation='softmax')\n",
    "decoder_softmax_outputs = decoder_softmax_layer(decoder_concat_input)\n",
    "\n",
    "# 모델 정의\n",
    "model = Model([encoder_inputs, decoder_inputs], decoder_softmax_outputs)\n",
    "model.summary()"
   ]
  },
  {
   "cell_type": "code",
   "execution_count": 42,
   "metadata": {},
   "outputs": [
    {
     "name": "stdout",
     "output_type": "stream",
     "text": [
      "Epoch 1/50\n",
      "237/237 [==============================] - 140s 525ms/step - loss: 5.8833 - val_loss: 5.4667\n",
      "Epoch 2/50\n",
      "237/237 [==============================] - 124s 525ms/step - loss: 5.3702 - val_loss: 5.1235\n",
      "Epoch 3/50\n",
      "237/237 [==============================] - 125s 527ms/step - loss: 5.0300 - val_loss: 4.8564\n",
      "Epoch 4/50\n",
      "237/237 [==============================] - 125s 528ms/step - loss: 4.7599 - val_loss: 4.6659\n",
      "Epoch 5/50\n",
      "237/237 [==============================] - 124s 525ms/step - loss: 4.5475 - val_loss: 4.5102\n",
      "Epoch 6/50\n",
      "237/237 [==============================] - 124s 525ms/step - loss: 4.3686 - val_loss: 4.4116\n",
      "Epoch 7/50\n",
      "237/237 [==============================] - 124s 524ms/step - loss: 4.2139 - val_loss: 4.3023\n",
      "Epoch 8/50\n",
      "237/237 [==============================] - 124s 525ms/step - loss: 4.0775 - val_loss: 4.2235\n",
      "Epoch 9/50\n",
      "237/237 [==============================] - 124s 524ms/step - loss: 3.9544 - val_loss: 4.1593\n",
      "Epoch 10/50\n",
      "237/237 [==============================] - 124s 524ms/step - loss: 3.8406 - val_loss: 4.1025\n",
      "Epoch 11/50\n",
      "237/237 [==============================] - 123s 519ms/step - loss: 3.7394 - val_loss: 4.0643\n",
      "Epoch 12/50\n",
      "237/237 [==============================] - 123s 520ms/step - loss: 3.6471 - val_loss: 4.0177\n",
      "Epoch 13/50\n",
      "237/237 [==============================] - 123s 518ms/step - loss: 3.5636 - val_loss: 3.9905\n",
      "Epoch 14/50\n",
      "237/237 [==============================] - 124s 524ms/step - loss: 3.4870 - val_loss: 3.9634\n",
      "Epoch 15/50\n",
      "237/237 [==============================] - 123s 518ms/step - loss: 3.4156 - val_loss: 3.9391\n",
      "Epoch 16/50\n",
      "237/237 [==============================] - 123s 518ms/step - loss: 3.3470 - val_loss: 3.9252\n",
      "Epoch 17/50\n",
      "237/237 [==============================] - 125s 527ms/step - loss: 3.2846 - val_loss: 3.9088\n",
      "Epoch 18/50\n",
      "237/237 [==============================] - 123s 519ms/step - loss: 3.2219 - val_loss: 3.8949\n",
      "Epoch 19/50\n",
      "237/237 [==============================] - 123s 519ms/step - loss: 3.1677 - val_loss: 3.8848\n",
      "Epoch 20/50\n",
      "237/237 [==============================] - 123s 519ms/step - loss: 3.1159 - val_loss: 3.8809\n",
      "Epoch 21/50\n",
      "237/237 [==============================] - 123s 517ms/step - loss: 3.0652 - val_loss: 3.8766\n",
      "Epoch 22/50\n",
      "237/237 [==============================] - 123s 521ms/step - loss: 3.0190 - val_loss: 3.8708\n",
      "Epoch 23/50\n",
      "237/237 [==============================] - 124s 521ms/step - loss: 2.9787 - val_loss: 3.8678\n",
      "Epoch 24/50\n",
      "237/237 [==============================] - 125s 527ms/step - loss: 2.9322 - val_loss: 3.8706\n",
      "Epoch 25/50\n",
      "237/237 [==============================] - 124s 523ms/step - loss: 2.8933 - val_loss: 3.8703\n",
      "Epoch 00025: early stopping\n"
     ]
    }
   ],
   "source": [
    "model.compile(optimizer='rmsprop', loss='sparse_categorical_crossentropy')\n",
    "es = EarlyStopping(monitor='val_loss', patience=2, verbose=1)\n",
    "history = model.fit(x=[encoder_input_train, decoder_input_train], y=decoder_target_train, \\\n",
    "          validation_data=([encoder_input_test, decoder_input_test], decoder_target_test), \\\n",
    "          batch_size=256, callbacks=[es], epochs=50)"
   ]
  },
  {
   "cell_type": "code",
   "execution_count": 43,
   "metadata": {},
   "outputs": [
    {
     "data": {
      "image/png": "[encoded data removed]",
      "text/plain": [
       "<Figure size 432x288 with 1 Axes>"
      ]
     },
     "metadata": {
      "needs_background": "light"
     },
     "output_type": "display_data"
    }
   ],
   "source": [
    "# train, test loss \n",
    "plt.plot(history.history['loss'], label='train')\n",
    "plt.plot(history.history['val_loss'], label='test')\n",
    "plt.legend()\n",
    "plt.show()"
   ]
  },
  {
   "cell_type": "code",
   "execution_count": 44,
   "metadata": {},
   "outputs": [],
   "source": [
    "# 정수 인덱스로 되어있던 텍스트 데이터를 실제 데이터로 복원하기\n",
    "\n",
    "src_index_to_word = src_tokenizer.index_word # 원문 단어 집합에서 정수 -> 단어를 얻음\n",
    "tar_word_to_index = tar_tokenizer.word_index # 요약 단어 집합에서 단어 -> 정수를 얻음\n",
    "tar_index_to_word = tar_tokenizer.index_word # 요약 단어 집합에서 정수 -> 단어를 얻음"
   ]
  },
  {
   "cell_type": "code",
   "execution_count": 45,
   "metadata": {},
   "outputs": [],
   "source": [
    "# 인퍼런스 단계에서는 인코더 모델과 디코더 모델 분리해서 설계\n",
    "\n",
    "# 인코더 설계\n",
    "encoder_model = Model(inputs=encoder_inputs, outputs=[encoder_outputs, state_h, state_c])\n",
    "\n",
    "# 이전 시점의 상태들을 저장하는 텐서\n",
    "decoder_state_input_h = Input(shape=(hidden_size,))\n",
    "decoder_state_input_c = Input(shape=(hidden_size,))\n",
    "\n",
    "dec_emb2 = dec_emb_layer(decoder_inputs)\n",
    "\n",
    "# 문장의 다음 단어를 예측하기 위해서 초기 상태(initial_state)를 이전 시점의 상태로 사용. 이는 뒤의 함수 decode_sequence()에 구현\n",
    "# 훈련 과정에서와 달리 LSTM의 리턴하는 은닉 상태와 셀 상태인 state_h와 state_c를 버리지 않음.\n",
    "decoder_outputs2, state_h2, state_c2 = decoder_lstm(dec_emb2, initial_state=[decoder_state_input_h, decoder_state_input_c])\n"
   ]
  },
  {
   "cell_type": "code",
   "execution_count": 46,
   "metadata": {},
   "outputs": [],
   "source": [
    "# 어텐션 함수\n",
    "decoder_hidden_state_input = Input(shape=(text_max_len, hidden_size))\n",
    "attn_out_inf = attn_layer([decoder_outputs2, decoder_hidden_state_input])\n",
    "decoder_inf_concat = Concatenate(axis=-1, name='concat')([decoder_outputs2, attn_out_inf])\n",
    "\n",
    "# 디코더의 출력층\n",
    "decoder_outputs2 = decoder_softmax_layer(decoder_inf_concat) \n",
    "\n",
    "# 최종 디코더 모델\n",
    "decoder_model = Model(\n",
    "    [decoder_inputs] + [decoder_hidden_state_input,decoder_state_input_h, decoder_state_input_c],\n",
    "    [decoder_outputs2] + [state_h2, state_c2])"
   ]
  },
  {
   "cell_type": "code",
   "execution_count": 47,
   "metadata": {},
   "outputs": [],
   "source": [
    "def decode_sequence(input_seq):\n",
    "    # 입력으로부터 인코더의 상태를 얻음\n",
    "    e_out, e_h, e_c = encoder_model.predict(input_seq)\n",
    "\n",
    "     # <SOS>에 해당하는 토큰 생성\n",
    "    target_seq = np.zeros((1,1))\n",
    "    target_seq[0, 0] = tar_word_to_index['sostoken']\n",
    "\n",
    "    stop_condition = False\n",
    "    decoded_sentence = ''\n",
    "    while not stop_condition: # stop_condition이 True가 될 때까지 루프 반복\n",
    "\n",
    "        output_tokens, h, c = decoder_model.predict([target_seq] + [e_out, e_h, e_c])\n",
    "        sampled_token_index = np.argmax(output_tokens[0, -1, :])\n",
    "        sampled_token = tar_index_to_word[sampled_token_index]\n",
    "\n",
    "        if (sampled_token!='eostoken'):\n",
    "            decoded_sentence += ' '+sampled_token\n",
    "\n",
    "        #  <eos>에 도달하거나 최대 길이를 넘으면 중단.\n",
    "        if (sampled_token == 'eostoken'  or len(decoded_sentence.split()) >= (text_max_len-1)):\n",
    "            stop_condition = True\n",
    "\n",
    "        # 길이가 1인 타겟 시퀀스를 업데이트\n",
    "        target_seq = np.zeros((1,1))\n",
    "        target_seq[0, 0] = sampled_token_index\n",
    "\n",
    "        # 상태를 업데이트 합니다.\n",
    "        e_h, e_c = h, c\n",
    "\n",
    "    return decoded_sentence"
   ]
  },
  {
   "cell_type": "markdown",
   "metadata": {},
   "source": [
    "## 4. 실제 결과와 요약문 비교하기 (추상적 요약)"
   ]
  },
  {
   "cell_type": "code",
   "execution_count": 48,
   "metadata": {},
   "outputs": [],
   "source": [
    "# 원문의 정수 시퀀스를 텍스트 시퀀스로 변환\n",
    "def seq2text(input_seq):\n",
    "    temp=''\n",
    "    for i in input_seq:\n",
    "        if (i!=0):\n",
    "            temp = temp + src_index_to_word[i]+' '\n",
    "    return temp\n",
    "\n",
    "# 요약문의 정수 시퀀스를 텍스트 시퀀스로 변환\n",
    "def seq2summary(input_seq):\n",
    "    temp=''\n",
    "    for i in input_seq:\n",
    "        if ((i!=0 and i!=tar_word_to_index['sostoken']) and i!=tar_word_to_index['eostoken']):\n",
    "            temp = temp + tar_index_to_word[i] + ' '\n",
    "    return temp\n"
   ]
  },
  {
   "cell_type": "code",
   "execution_count": 49,
   "metadata": {},
   "outputs": [
    {
     "name": "stdout",
     "output_type": "stream",
     "text": [
      "원문 : bengaluru police sunday tweeted gif appears inspired scene tv show stranger things spread awareness road safety gif highlighted message wear helmet reacting user tweeted apply part amazing social media team \n",
      "실제 요약 : bengaluru police asks people to solve on road safety \n",
      "예측 요약 :  police police to get picture of police\n",
      "\n",
      "\n",
      "원문 : un general assembly unanimously passed pakistan sponsored resolution universal realisation right people self determination fundamental condition guarantee human rights resolution called states accused foreign occupation cease military intervention well acts discrimination exploitation \n",
      "실제 요약 : un assembly adopts pak resolution on self \n",
      "예측 요약 :  pakistan passes away against pakistan\n",
      "\n",
      "\n",
      "원문 : per reports maharashtra minister girish mahajan nashik mayor deputy mayor several police officers attended wedding underworld dawood ibrahim relative area recently sparked controversy nashik police commissioner ravindra ordered inquiry police officers attended event \n",
      "실제 요약 : maha minister attends wedding of dawood relative report \n",
      "예측 요약 :  maha minister cancels house of tigress with tigress\n",
      "\n",
      "\n",
      "원문 : amarnath pilgrim part convoy attacked terrorists last week succumbed injuries sunday taking death toll eight year old woman bus terrorists opened fire returning amarnath government announced compensation lakh killed attack \n",
      "실제 요약 : amarnath to injuries attack toll reaches \n",
      "예측 요약 :  pilgrims killed in attack on bus bus in khand\n",
      "\n",
      "\n",
      "원문 : hadiya whose marriage muslim man annulled case love jihad met husband shafin jahan college tamil nadu jahan accompanied lawyer supreme court order allowed hadiya meet wanted currently national investigation agency probing jahan alleged links islamic state \n",
      "실제 요약 : woman at centre of kerala love jihad case meets husband \n",
      "예측 요약 :  women women protest after getting married to get married\n",
      "\n",
      "\n",
      "원문 : private meeting republican colleagues last year house majority leader kevin suggested donald trump seeking presidential nomination could russian president vladimir putin payroll reports said wednesday however denounced washington post report said comment attempt humour gone wrong \n",
      "실제 요약 : house leader putin was paying trump reports \n",
      "예측 요약 :  trump calls ex wh aide in us\n",
      "\n",
      "\n",
      "원문 : former white house chief strategist steve bannon sunday said statement describing meeting president donald trump son donald trump jr russians directed trump son said comments directed former aide paul knowledge russians operate however bannon apologise remarks \n",
      "실제 요약 : remark not directed at trump son ex wh aide \n",
      "예측 요약 :  trump did not have been trump on trump affair\n",
      "\n",
      "\n",
      "원문 : australia largest lender commonwealth bank admitted widespread manipulation thousands children accounts retail staff order bonuses hit performance targets bank ceo apologised said bank zero tolerance behaviour said staff used bank funds money activate accounts \n",
      "실제 요약 : commonwealth bank admits to of children cs \n",
      "예측 요약 :  australia largest bank of staff to be sued by\n",
      "\n",
      "\n",
      "원문 : israel based woman developed device called look allows users track glasses using app wireless device attached either side glasses connecting app uses bluetooth technology send signals directly app glasses \n",
      "실제 요약 : device to track users glasses through app made \n",
      "예측 요약 :  app which made phone to be made from app made\n",
      "\n",
      "\n",
      "원문 : energy net positive hotel expected open foot glacier norway period years hotel generate renewable energy needed construct operate first hotel kind arctic circle consume lesser energy standard hotel \n",
      "실제 요약 : norway to get hotel producing more energy than it needs \n",
      "예측 요약 :  world largest floating opens in years\n",
      "\n",
      "\n",
      "원문 : turkish president recep tayyip erdo warned us president donald trump cannot buy turkey democratic un jerusalem vote dollars world give good lesson us erdo said comes trump threatened cut aid countries vote us move recognise jerusalem israel capital \n",
      "실제 요약 : us cannot buy our support on jerusalem turkey \n",
      "예측 요약 :  will not be very trust if it would be putin\n",
      "\n",
      "\n",
      "원문 : average cost manufacturing single one rupee coin value reserve bank india revealed response rti query coin government spends added furthermore cost manufacturing coins respectively rbi said \n",
      "실제 요약 : how much money does govt spend to make and coins \n",
      "예측 요약 :  rupee falls from to reduce atms to\n",
      "\n",
      "\n",
      "원문 : microsoft co founder paul allen announced developing rockets space plane transporting humans satellites currently testing world largest plane metre whatever payload whatever orbit getting satellite space soon easy booking airline flight company said \n",
      "실제 요약 : maker of world largest plane also making rockets spacecraft \n",
      "예측 요약 :  microsoft co founder becomes first flying to build moon landing\n",
      "\n",
      "\n",
      "원문 : reliance industries likely invest crore telecom unit jio fiscal expand wireless network speed roll broadband services reports said jio may also reportedly borrow much lakh crore addition jio recently claimed already built largest optical fibre network country \n",
      "실제 요약 : reliance to invest crore in jio this fiscal reports \n",
      "예측 요약 :  reliance jio to invest crore in fy\n",
      "\n",
      "\n",
      "원문 : actor emraan hashmi sharing childhood picture joked adult films captioned picture age kids allowed see movies commenting user wrote mother told watch emraan movies story songs films good \n",
      "실제 요약 : emraan jokes about his adult films on sharing childhood pic \n",
      "예측 요약 :  emraan shares pic of her daughter emraan on birthday\n",
      "\n",
      "\n",
      "원문 : strangers around world came together purchase th century de la france crowdfunding appeal raised days joint owners paying minimum co owners offered shares company running say development \n",
      "실제 요약 : over come together to buy french \n",
      "예측 요약 :  paris to open first cryptocurrency\n",
      "\n",
      "\n",
      "원문 : talking reported deal uber softbank uk ceo rajeev misra said means investment decided also said final deal depend tender price minimum percentage shareholding softbank earlier uber confirmed softbank firms would invest billion fresh funding ride hailing startup \n",
      "실제 요약 : by no means is our investment decided softbank on uber deal \n",
      "예측 요약 :  we will not be profitable in uber ceo\n",
      "\n",
      "\n",
      "원문 : actor mukesh khanna known role superhero serial resigned chairperson children film society two months prior term end talking decision mukesh said want able added lack funds produce children films \n",
      "실제 요약 : actor quits as children film society chairman \n",
      "예측 요약 :  director of film on quitting as director\n",
      "\n",
      "\n",
      "원문 : delhi high court monday dismissing pleas sonia gandhi rahul gandhi said tax filings reviewed order came hearing plea march income tax notice seeking tax allegedly disclosed income earned young indian ltd year \n",
      "실제 요약 : sonia rahul tax for will be delhi hc \n",
      "예측 요약 :  sanitary napkins tax on sanitary napkins to attract tax\n",
      "\n",
      "\n",
      "원문 : aircel spokesperson friday reportedly denied company filing bankruptcy insolvency bankruptcy code said business usual aircel notably news aircel filing bankruptcy broke reliance communications shares tumbled nearly nse earlier rcom announced merger wireless telecom business aircel \n",
      "실제 요약 : aircel denies report on bankruptcy filing \n",
      "예측 요약 :  aircel denies reports of aircel ceo after aircel deal\n",
      "\n",
      "\n",
      "원문 : following row actress swara bhasker open letter opposing alleged practice jauhar padmaavat jokingly tweeted like limelight hence create controversy open letter swara addressed padmaavat director sanjay leela bhansali wrote felt reduced vagina watching film \n",
      "실제 요약 : like being in so create controversy jokes swara \n",
      "예측 요약 :  swara slams swara over padmaavat\n",
      "\n",
      "\n",
      "원문 : speaking social media trolls jacqueline fernandez said become tough celebrity today social media opened many doors also lot people depressed angry use platform added jacqueline said take trolls people creating memes seriously \n",
      "실제 요약 : it has become tough being celebrity today jacqueline \n",
      "예측 요약 :  people cannot be like in race race parineeti chopra\n",
      "\n",
      "\n",
      "원문 : talking google missing testimony social media earlier month us representative kevin wednesday tweeted time google answer invite way accused google allegedly working china russia censor internet however google yet comment matter \n",
      "실제 요약 : time for google to answer us politician on missed testimony \n",
      "예측 요약 :  google google google search for search for search\n",
      "\n",
      "\n",
      "원문 : us president donald trump said country hurry arrive negotiations north korea nuclear programme north korea economy wonderful potential leader kim jong un sees better anyone added us north korea signed agreement singapore summit completely denuclearise korean peninsula \n",
      "실제 요약 : us in no over north korea nuclear negotiations trump \n",
      "예측 요약 :  north korea wants to north korea talks with trump\n",
      "\n",
      "\n",
      "원문 : actress deepika padukone trolled online skinny new picture photoshoot vanity fair magazine need food skinny commented user another user wrote looks much read another comment deepika featured cover august edition vanity fair uk jewellery edition \n",
      "실제 요약 : deepika trolled for being too in new picture \n",
      "예측 요약 :  deepika padukone slammed for nude pics of her wedding\n",
      "\n",
      "\n",
      "원문 : former india captain sourav ganguly featured photoshoot year old daughter sana jewellery brand sourav wife posted pictures father daughter duo shoot facebook page also shared cricketer sana wore deep pink saree sourav indigo kurta shoot \n",
      "실제 요약 : ganguly does photoshoot with daughter for jewellery brand \n",
      "예측 요약 :  ganguly dedicates birth to make his father birth anniversary\n",
      "\n",
      "\n",
      "원문 : zaira wasim aamir khan starrer secret superstar earned crore two days release china film broke opening weekend record crore set aamir film dangal chinese box office zaira named best actress secret superstar filmfare awards year \n",
      "실제 요약 : secret superstar earns over cr in days in china \n",
      "예측 요약 :  secret superstar earns crore in china\n",
      "\n",
      "\n",
      "원문 : us federal court extended civil rights protections lgbt employees civil rights act court ruled act prohibits discrimination based color sex national origin also covers discrimination based sexual orientation lawsuit filed employee accused employer firing based sexual orientation \n",
      "실제 요약 : us court extends civil rights to lgbt workers \n",
      "예측 요약 :  us court allows transgenders to transgenders\n",
      "\n",
      "\n",
      "원문 : bangladesh police arrested suspected drug traffickers nationwide drive aimed curbing surge trade methamphetamine along country borders police urged drug dealers surrender stock saying would good calling drug trafficking menace police officials said hope overcome together \n",
      "실제 요약 : bangladesh arrests in nationwide anti drug drive \n",
      "예측 요약 :  mexico arrests people over heroin\n",
      "\n",
      "\n",
      "원문 : union minister suresh prabhu thursday said india violate international law trade iran would like work iran manner wherein countries trade items mutual interest added bilateral trade india iran increased billion billion previous fiscal \n",
      "실제 요약 : will not international laws in trade with iran prabhu \n",
      "예측 요약 :  india should be allowed to india gadkari\n",
      "\n",
      "\n",
      "원문 : least three people including policeman two civilians killed militant attack terrorist belonging lashkar taiba killed retaliatory firing saturday night kulgam district jammu kashmir police heading srinagar jammu national highway clear traffic road accident militants attacked \n",
      "실제 요약 : civilians policeman killed in militant attack in kashmir \n",
      "예측 요약 :  killed injured in encounter in attack\n",
      "\n",
      "\n",
      "원문 : essar group monday said repaid lakh crore debt past two years group debt group holding company essar global holdings repaid last debt crore various banks continuing lender essar global russia group \n",
      "실제 요약 : essar group more than of its total debt in years \n",
      "예측 요약 :  bank of cr fraud in year old cr\n",
      "\n",
      "\n",
      "원문 : year old student west bengal monday received offer whatsapp seeking help assassinate cm mamata banerjee student said started receiving messages unknown person claimed part terrorist organisation looking partner india state cid probing matter \n",
      "실제 요약 : wb student offered lakh to assassinate mamata banerjee \n",
      "예측 요약 :  yr old boy writes letter to appear on whatsapp exam\n",
      "\n",
      "\n",
      "원문 : rape accused bjp mla kuldeep singh sengar wife wednesday said husband innocent proven guilty entire family give lives adding husband labelled rapist without evidence said political motive behind make husband girl undergo test \n",
      "실제 요약 : will kill if he found guilty of rape mla wife \n",
      "예측 요약 :  rape victim should be raped by mla mla\n",
      "\n",
      "\n",
      "원문 : tej prakash singh police inspector suspended viral video showed elderly woman falling feet urging register fir video year old devi seen pleading singh seated chair devi approached grandson crushed death factory \n",
      "실제 요약 : policeman suspended after video of woman falling at feet goes viral \n",
      "예측 요약 :  cop slaps cop for dancing while taking feet\n",
      "\n",
      "\n",
      "원문 : football association launched investigation ren tottenham hotspur ladies footballer alleged monkey noises directed sheffield united women team player game sunday tottenham hotspur said allegations reported referee match club awaiting response fa \n",
      "실제 요약 : ladies player says opponent made monkey at her \n",
      "예측 요약 :  referee kicks opponent for referee during match\n",
      "\n",
      "\n",
      "원문 : actress taapsee pannu speaking judwaa co star varun dhawan said star kid easy going person world warm humble fun person added taapsee made bollywood debut directed varun father david dhawan \n",
      "실제 요약 : varun dhawan has no about being star kid taapsee \n",
      "예측 요약 :  judwaa taapsee taapsee pannu taapsee pannu\n",
      "\n",
      "\n",
      "원문 : trinamool congress leader two people killed near kolkata unidentified men hurled bombs opened gunfire vehicle trinamool mla das incident occurred shortly das vehicle party office nearby escaping unhurt das alleged cpi goons behind attack \n",
      "실제 요약 : tmc leader others killed in bomb attack near kolkata \n",
      "예측 요약 :  bjp leader shot dead in bihar in bihar\n",
      "\n",
      "\n",
      "원문 : indian army siachen brigade sunday began cleanliness drive siachen glacier area located altitude range feet feet remains snow clad throughout year cleanliness drive ensured none waste burned affect environment glacier reports said \n",
      "실제 요약 : army begins cleanliness drive at glacier \n",
      "예측 요약 :  army to build its first ever border in years\n",
      "\n",
      "\n",
      "원문 : union government wednesday launched study india programme attract foreign students india programme projects premier universities institutes including iits ideal destination higher education government plans attract lakh international students sanctioned budget crore two years programme \n",
      "실제 요약 : govt launches study in india to attract foreign students \n",
      "예측 요약 :  cabinet approves free policy for india\n",
      "\n",
      "\n",
      "원문 : andhra pradesh cm chandrababu naidu friday said requirement notes small denomination notes enough naidu said absence denominations distribution money elections would come go online transactions big way corruption rooted added \n",
      "실제 요약 : we do not need notes andhra pradesh cm \n",
      "예측 요약 :  andhra cm calls for demonetisation notes\n",
      "\n",
      "\n",
      "원문 : lying dormant since japan mount erupted first time smoke ash metres high air officials warned large flying rocks could fall three kilometre radius japan active lies within pacific ring fire world earthquakes eruptions take place \n",
      "실제 요약 : japanese volcano erupts for the first time in years \n",
      "예측 요약 :  world largest ship opens in china\n",
      "\n",
      "\n",
      "원문 : mumbai woman weeks pregnant twins lost child reportedly given abortion pill instead pill prevent premature labour administered pills february one babies died due breathing complications abortion pill reportedly meant another patient admitted termination pregnancy \n",
      "실제 요약 : woman loses baby after nurse mistakenly gives abortion \n",
      "예측 요약 :  woman gives birth to woman who gives birth to girl\n",
      "\n",
      "\n",
      "원문 : rjd monday expelled national spokesperson shankar charan tripathi slamming congress president rahul gandhi hugged pm narendra modi colleague confidence debate lok sabha tripathi reportedly said rahul actions unexpected childish adding wink actress priya prakash varrier \n",
      "실제 요약 : rjd expels spokesperson for slamming rahul hug to pm modi \n",
      "예측 요약 :  pm modi is like opposition pm modi\n",
      "\n",
      "\n",
      "원문 : senior congress leader jyotiraditya scindia said congress order fast track probe vyapam scam punish guilty comes power madhya pradesh scam involved alleged irregularities different examinations conducted vyapam selection medical students state government employees \n",
      "실제 요약 : will order fast track probe into vyapam if elected scindia \n",
      "예측 요약 :  congress should not be in corruption congress\n",
      "\n",
      "\n",
      "원문 : israel army chief claimed top commander hezbollah shia islamist militant group based lebanon killed last year syria members group killing depth internal crisis within iran backed hezbollah added iran reportedly unhappy commander wanted remove \n",
      "실제 요약 : commander was killed by his own men israel \n",
      "예측 요약 :  us army chief claims he was fired in real time\n",
      "\n",
      "\n",
      "원문 : year old chinese man named shi smashed ice hands help rescue year old woman fallen frozen river ambulance called passersby gave warm clothes rescued said really freezing water time think time \n",
      "실제 요약 : man smashes ice with hands to rescue woman from frozen river \n",
      "예측 요약 :  year old chinese man gets stuck in us shelter home\n",
      "\n",
      "\n",
      "원문 : indian passport holders longer require airport transit visa international zone airport france announcement made france ambassador india recently people territory comprising european countries leave transit area airport \n",
      "실제 요약 : indians no longer airport visa for france \n",
      "예측 요약 :  indian air force to fly to be held for\n",
      "\n",
      "\n",
      "원문 : pakistan foreign minister khawaja asif said us behaviour neither ally friend friend always added case us aggression pakistan would respond manner would reflect nation comes us cut million aid pakistan \n",
      "실제 요약 : us behaviour not of friend it always pakistan \n",
      "예측 요약 :  pakistan is not really really really really difficult us minister\n",
      "\n",
      "\n",
      "원문 : centre committed providing special package andhra pradesh waiting state mechanism receiving funds finance minister arun jaitley said special package equivalent special category state agreed upon state suggested changing mechanism receiving funds january added \n",
      "실제 요약 : govt waiting for andhra to reply on special package jaitley \n",
      "예측 요약 :  maha cabinet approves pension for loan waiver\n",
      "\n",
      "\n"
     ]
    }
   ],
   "source": [
    "for i in range(50, 100):\n",
    "    print(\"원문 :\", seq2text(encoder_input_test[i]))\n",
    "    print(\"실제 요약 :\", seq2summary(decoder_input_test[i]))\n",
    "    print(\"예측 요약 :\", decode_sequence(encoder_input_test[i].reshape(1, text_max_len)))\n",
    "    print(\"\\n\")"
   ]
  },
  {
   "cell_type": "code",
   "execution_count": 50,
   "metadata": {},
   "outputs": [
    {
     "name": "stdout",
     "output_type": "stream",
     "text": [
      "원문 : former england footballer alan premier league time leading goalscorer goals set world record number selfies taken three minutes clicked pictures breaking previous record one photograph per rules photographer face fully visible different person picture \n",
      "실제 요약 : pl all time leading sets selfie world record \n",
      "예측 요약 :  ex world cup sets record for most scores\n"
     ]
    }
   ],
   "source": [
    "print(\"원문 :\", seq2text(encoder_input_test[100]))\n",
    "print(\"실제 요약 :\", seq2summary(decoder_input_test[100]))\n",
    "print(\"예측 요약 :\", decode_sequence(encoder_input_test[100].reshape(1, text_max_len)))"
   ]
  },
  {
   "cell_type": "markdown",
   "metadata": {},
   "source": [
    "## 요약 데이터에 대해서도 불용어를 제거해볼까?"
   ]
  },
  {
   "cell_type": "code",
   "execution_count": 51,
   "metadata": {},
   "outputs": [],
   "source": [
    "import pandas as pd\n",
    "import urllib.request\n",
    "urllib.request.urlretrieve(\"https://raw.githubusercontent.com/sunnysai12345/News_Summary/master/news_summary_more.csv\", filename=\"news_summary_more.csv\")\n",
    "data = pd.read_csv('news_summary_more.csv', encoding='iso-8859-1')"
   ]
  },
  {
   "cell_type": "code",
   "execution_count": 52,
   "metadata": {},
   "outputs": [
    {
     "name": "stdout",
     "output_type": "stream",
     "text": [
      "전체 샘플수 : 98360\n"
     ]
    }
   ],
   "source": [
    "data.drop_duplicates(subset = ['text'], inplace = True)\n",
    "print('전체 샘플수 :',(len(data)))"
   ]
  },
  {
   "cell_type": "code",
   "execution_count": 53,
   "metadata": {},
   "outputs": [
    {
     "data": {
      "text/plain": [
       "['saurav kant alumnus upgrad iiit pg program machine learning artificial intelligence sr systems engineer infosys almost years work experience program upgrad degree career support helped transition data scientist tech mahindra salary hike upgrad online power learning powered lakh careers',\n",
       " 'kunal shah credit card bill payment platform cred gave users chance win free food swiggy one year pranav kaushik delhi techie bagged reward spending cred coins users get one cred coin per rupee bill paid used avail rewards brands like ixigo bookmyshow ubereats cult fit',\n",
       " 'new zealand defeated india wickets fourth odi hamilton thursday win first match five match odi series india lost international match rohit sharma captaincy consecutive victories dating back march match witnessed india getting seventh lowest total odi cricket history',\n",
       " 'aegon life iterm insurance plan customers enjoy tax benefits premiums paid save taxes plan provides life cover age years also customers options insure critical illnesses disability accidental death benefit rider life cover age years',\n",
       " 'speaking sexual harassment allegations rajkumar hirani sonam kapoor said known hirani many years true metoo movement get derailed metoo movement always believe woman case need reserve judgment added hirani accused assistant worked sanju']"
      ]
     },
     "execution_count": 53,
     "metadata": {},
     "output_type": "execute_result"
    }
   ],
   "source": [
    "clean_text = []\n",
    "\n",
    "# 전체 Text 데이터에 대한 전처리 \n",
    "for s in data['text']:\n",
    "    clean_text.append(preprocess_sentence(s))\n",
    "\n",
    "# 전처리 후 출력\n",
    "clean_text[:5]"
   ]
  },
  {
   "cell_type": "code",
   "execution_count": 54,
   "metadata": {},
   "outputs": [
    {
     "data": {
      "text/plain": [
       "['upgrad learner switches career ml al salary hike',\n",
       " 'delhi techie wins free food swiggy one year cred',\n",
       " 'new zealand end rohit sharma led india match winning streak',\n",
       " 'aegon life iterm insurance plan helps customers save tax',\n",
       " 'known hirani yrs metoo claims true sonam']"
      ]
     },
     "execution_count": 54,
     "metadata": {},
     "output_type": "execute_result"
    }
   ],
   "source": [
    "clean_headline = []\n",
    "\n",
    "# 전체 Summary 데이터에 대한 전처리 \n",
    "for s in data['headlines']:\n",
    "    clean_headline.append(preprocess_sentence(s))\n",
    "\n",
    "clean_headline[:5]"
   ]
  },
  {
   "cell_type": "code",
   "execution_count": 55,
   "metadata": {},
   "outputs": [],
   "source": [
    "data['text'] = clean_text\n",
    "data['headlines'] = clean_headline\n",
    "\n",
    "# 빈 값을 Null 값으로 변환\n",
    "data.replace('', np.nan, inplace=True)"
   ]
  },
  {
   "cell_type": "code",
   "execution_count": 56,
   "metadata": {
    "scrolled": false
   },
   "outputs": [
    {
     "name": "stdout",
     "output_type": "stream",
     "text": [
      "텍스트의 최소 길이 : 1\n",
      "텍스트의 최대 길이 : 60\n",
      "텍스트의 평균 길이 : 35.097763318422125\n",
      "요약의 최소 길이 : 1\n",
      "요약의 최대 길이 : 13\n",
      "요약의 평균 길이 : 7.136213908092721\n"
     ]
    },
    {
     "data": {
      "image/png": "[encoded data removed]",
      "text/plain": [
       "<Figure size 432x288 with 2 Axes>"
      ]
     },
     "metadata": {
      "needs_background": "light"
     },
     "output_type": "display_data"
    },
    {
     "data": {
      "image/png": "[encoded data removed]",
      "text/plain": [
       "<Figure size 432x288 with 1 Axes>"
      ]
     },
     "metadata": {
      "needs_background": "light"
     },
     "output_type": "display_data"
    },
    {
     "data": {
      "image/png": "[encoded data removed]",
      "text/plain": [
       "<Figure size 432x288 with 1 Axes>"
      ]
     },
     "metadata": {
      "needs_background": "light"
     },
     "output_type": "display_data"
    }
   ],
   "source": [
    "# 길이 분포 출력\n",
    "import matplotlib.pyplot as plt\n",
    "\n",
    "text_len = [len(s.split()) for s in data['text']]\n",
    "headline_len = [len(s.split()) for s in data['headlines']]\n",
    "\n",
    "print('텍스트의 최소 길이 : {}'.format(np.min(text_len)))\n",
    "print('텍스트의 최대 길이 : {}'.format(np.max(text_len)))\n",
    "print('텍스트의 평균 길이 : {}'.format(np.mean(text_len)))\n",
    "print('요약의 최소 길이 : {}'.format(np.min(headline_len)))\n",
    "print('요약의 최대 길이 : {}'.format(np.max(headline_len)))\n",
    "print('요약의 평균 길이 : {}'.format(np.mean(headline_len)))\n",
    "\n",
    "plt.subplot(1,2,1)\n",
    "plt.boxplot(headline_len)\n",
    "plt.title('headline')\n",
    "plt.subplot(1,2,2)\n",
    "plt.boxplot(text_len)\n",
    "plt.title('text')\n",
    "plt.tight_layout()\n",
    "plt.show()\n",
    "\n",
    "plt.title('headline')\n",
    "plt.hist(headline_len, bins = 40)\n",
    "plt.xlabel('length of samples')\n",
    "plt.ylabel('number of samples')\n",
    "plt.show()\n",
    "\n",
    "plt.title('text')\n",
    "plt.hist(text_len, bins = 40)\n",
    "plt.xlabel('length of samples')\n",
    "plt.ylabel('number of samples')\n",
    "plt.show()"
   ]
  },
  {
   "cell_type": "code",
   "execution_count": 57,
   "metadata": {},
   "outputs": [],
   "source": [
    "text_max_len = 38\n",
    "headline_max_len = 9"
   ]
  },
  {
   "cell_type": "code",
   "execution_count": 58,
   "metadata": {},
   "outputs": [
    {
     "name": "stdout",
     "output_type": "stream",
     "text": [
      "전체 샘플 중 길이가 38 이하인 샘플의 비율: 0.8164497763318422\n",
      "전체 샘플 중 길이가 9 이하인 샘플의 비율: 0.9826250508336722\n"
     ]
    }
   ],
   "source": [
    "below_threshold_len(text_max_len, data['text'])\n",
    "below_threshold_len(headline_max_len,  data['headlines'])"
   ]
  },
  {
   "cell_type": "code",
   "execution_count": 59,
   "metadata": {},
   "outputs": [
    {
     "name": "stdout",
     "output_type": "stream",
     "text": [
      "전체 샘플수 : 79255\n"
     ]
    }
   ],
   "source": [
    "data = data[data['text'].apply(lambda x: len(x.split()) <= text_max_len)]\n",
    "data = data[data['headlines'].apply(lambda x: len(x.split()) <= headline_max_len)]\n",
    "print('전체 샘플수 :',(len(data)))"
   ]
  },
  {
   "cell_type": "code",
   "execution_count": 60,
   "metadata": {},
   "outputs": [
    {
     "data": {
      "text/html": [
       "<div>\n",
       "<style scoped>\n",
       "    .dataframe tbody tr th:only-of-type {\n",
       "        vertical-align: middle;\n",
       "    }\n",
       "\n",
       "    .dataframe tbody tr th {\n",
       "        vertical-align: top;\n",
       "    }\n",
       "\n",
       "    .dataframe thead th {\n",
       "        text-align: right;\n",
       "    }\n",
       "</style>\n",
       "<table border=\"1\" class=\"dataframe\">\n",
       "  <thead>\n",
       "    <tr style=\"text-align: right;\">\n",
       "      <th></th>\n",
       "      <th>headlines</th>\n",
       "      <th>text</th>\n",
       "      <th>decoder_input</th>\n",
       "      <th>decoder_target</th>\n",
       "    </tr>\n",
       "  </thead>\n",
       "  <tbody>\n",
       "    <tr>\n",
       "      <th>3</th>\n",
       "      <td>aegon life iterm insurance plan helps customer...</td>\n",
       "      <td>aegon life iterm insurance plan customers enjo...</td>\n",
       "      <td>sostoken aegon life iterm insurance plan helps...</td>\n",
       "      <td>aegon life iterm insurance plan helps customer...</td>\n",
       "    </tr>\n",
       "    <tr>\n",
       "      <th>4</th>\n",
       "      <td>known hirani yrs metoo claims true sonam</td>\n",
       "      <td>speaking sexual harassment allegations rajkuma...</td>\n",
       "      <td>sostoken known hirani yrs metoo claims true sonam</td>\n",
       "      <td>known hirani yrs metoo claims true sonam eostoken</td>\n",
       "    </tr>\n",
       "    <tr>\n",
       "      <th>5</th>\n",
       "      <td>rahat fateh ali khan denies getting notice smu...</td>\n",
       "      <td>pakistani singer rahat fateh ali khan denied r...</td>\n",
       "      <td>sostoken rahat fateh ali khan denies getting n...</td>\n",
       "      <td>rahat fateh ali khan denies getting notice smu...</td>\n",
       "    </tr>\n",
       "    <tr>\n",
       "      <th>6</th>\n",
       "      <td>india get lowest odi total new zealand</td>\n",
       "      <td>india recorded lowest odi total new zealand ge...</td>\n",
       "      <td>sostoken india get lowest odi total new zealand</td>\n",
       "      <td>india get lowest odi total new zealand eostoken</td>\n",
       "    </tr>\n",
       "    <tr>\n",
       "      <th>7</th>\n",
       "      <td>govt directs alok verma join work day retirement</td>\n",
       "      <td>weeks ex cbi director alok verma told departme...</td>\n",
       "      <td>sostoken govt directs alok verma join work day...</td>\n",
       "      <td>govt directs alok verma join work day retireme...</td>\n",
       "    </tr>\n",
       "  </tbody>\n",
       "</table>\n",
       "</div>"
      ],
      "text/plain": [
       "                                           headlines  \\\n",
       "3  aegon life iterm insurance plan helps customer...   \n",
       "4           known hirani yrs metoo claims true sonam   \n",
       "5  rahat fateh ali khan denies getting notice smu...   \n",
       "6             india get lowest odi total new zealand   \n",
       "7   govt directs alok verma join work day retirement   \n",
       "\n",
       "                                                text  \\\n",
       "3  aegon life iterm insurance plan customers enjo...   \n",
       "4  speaking sexual harassment allegations rajkuma...   \n",
       "5  pakistani singer rahat fateh ali khan denied r...   \n",
       "6  india recorded lowest odi total new zealand ge...   \n",
       "7  weeks ex cbi director alok verma told departme...   \n",
       "\n",
       "                                       decoder_input  \\\n",
       "3  sostoken aegon life iterm insurance plan helps...   \n",
       "4  sostoken known hirani yrs metoo claims true sonam   \n",
       "5  sostoken rahat fateh ali khan denies getting n...   \n",
       "6    sostoken india get lowest odi total new zealand   \n",
       "7  sostoken govt directs alok verma join work day...   \n",
       "\n",
       "                                      decoder_target  \n",
       "3  aegon life iterm insurance plan helps customer...  \n",
       "4  known hirani yrs metoo claims true sonam eostoken  \n",
       "5  rahat fateh ali khan denies getting notice smu...  \n",
       "6    india get lowest odi total new zealand eostoken  \n",
       "7  govt directs alok verma join work day retireme...  "
      ]
     },
     "execution_count": 60,
     "metadata": {},
     "output_type": "execute_result"
    }
   ],
   "source": [
    "# 요약 데이터에는 시작 토큰과 종료 토큰을 추가.\n",
    "\n",
    "data['decoder_input'] = data['headlines'].apply(lambda x : 'sostoken '+ x)\n",
    "data['decoder_target'] = data['headlines'].apply(lambda x : x + ' eostoken')\n",
    "data.head()"
   ]
  },
  {
   "cell_type": "code",
   "execution_count": 61,
   "metadata": {},
   "outputs": [],
   "source": [
    "# 인코더의 입력, 디코더의 입력과 레이블을 각각 다시 Numpy 타입으로 저장\n",
    "\n",
    "encoder_input = np.array(data['text']) # 인코더의 입력\n",
    "decoder_input = np.array(data['decoder_input']) # 디코더의 입력\n",
    "decoder_target = np.array(data['decoder_target']) # 디코더의 레이블"
   ]
  },
  {
   "cell_type": "code",
   "execution_count": 62,
   "metadata": {},
   "outputs": [
    {
     "name": "stdout",
     "output_type": "stream",
     "text": [
      "[43506 41322 66874 ... 15492  8694 13624]\n"
     ]
    }
   ],
   "source": [
    "# 훈련 데이터 테스트 데이터 분리\n",
    "\n",
    "indices = np.arange(encoder_input.shape[0])  # encoder_input과 크기와 형태가 같은 정수 시퀀스 생성\n",
    "np.random.shuffle(indices)                   # 순서를 랜덤하게 섞어줍니다\n",
    "print(indices) # 랜덤한 정수 시퀀스 생성!"
   ]
  },
  {
   "cell_type": "code",
   "execution_count": 63,
   "metadata": {},
   "outputs": [],
   "source": [
    "# 샘플 순서를 랜덤 시퀀스를 이용해서 정의해줌\n",
    "\n",
    "encoder_input = encoder_input[indices]\n",
    "decoder_input = decoder_input[indices]\n",
    "decoder_target = decoder_target[indices]"
   ]
  },
  {
   "cell_type": "code",
   "execution_count": 64,
   "metadata": {},
   "outputs": [
    {
     "name": "stdout",
     "output_type": "stream",
     "text": [
      "테스트 데이터의 수 : 15851\n"
     ]
    }
   ],
   "source": [
    "# 8:2로 훈련셋 테스트셋 분리\n",
    "\n",
    "n_of_val = int(len(encoder_input)*0.2)\n",
    "print('테스트 데이터의 수 :', n_of_val)"
   ]
  },
  {
   "cell_type": "code",
   "execution_count": 65,
   "metadata": {},
   "outputs": [
    {
     "name": "stdout",
     "output_type": "stream",
     "text": [
      "훈련 데이터의 개수 :  63404\n",
      "훈련 레이블의 개수 :  63404\n",
      "테스트 데이터의 개수 :  15851\n",
      "테스트 데이터의 개수 :  15851\n"
     ]
    }
   ],
   "source": [
    "# 테스트 데이터의 갯수를 이용해 전체 데이터를 양분해줌\n",
    "\n",
    "encoder_input_train = encoder_input[:-n_of_val] # 뒤로 n_of_val개 빼고 나머지\n",
    "decoder_input_train = decoder_input[:-n_of_val] \n",
    "decoder_target_train = decoder_target[:-n_of_val]\n",
    "\n",
    "encoder_input_test = encoder_input[-n_of_val:] # 앞에 n_of_val개 빼고 나머지\n",
    "decoder_input_test = decoder_input[-n_of_val:]\n",
    "decoder_target_test = decoder_target[-n_of_val:]\n",
    "\n",
    "print('훈련 데이터의 개수 : ', len(encoder_input_train))\n",
    "print('훈련 레이블의 개수 : ', len(decoder_input_train))\n",
    "print('테스트 데이터의 개수 : ', len(encoder_input_test))\n",
    "print('테스트 데이터의 개수 : ', len(decoder_input_test))"
   ]
  },
  {
   "cell_type": "code",
   "execution_count": 66,
   "metadata": {},
   "outputs": [],
   "source": [
    "src_tokenizer = Tokenizer()    # 토크나이저 생성 - 입력된 훈련 데이터로부터 단어집합 생성 가능하게 해줌\n",
    "src_tokenizer.fit_on_texts(encoder_input_train)       # 입력된 데이터로부터 단어 집합 생성"
   ]
  },
  {
   "cell_type": "code",
   "execution_count": 67,
   "metadata": {},
   "outputs": [
    {
     "name": "stdout",
     "output_type": "stream",
     "text": [
      "단어 집합의 크기 :  60995\n",
      "등장 빈도가 7번 이하인 희귀 단어의 수: 42917\n",
      "단어 집합에서 희귀 단어를 제외시킬 경우의 단어 집합의 크기: 18078\n",
      "단어 집합에서 희귀 단어의 비율: 70.36150504139684\n",
      "전체 등장 빈도에서 희귀 단어 등장 빈도 비율: 4.378977626491785\n"
     ]
    }
   ],
   "source": [
    "threshold = 8\n",
    "total_count = len(src_tokenizer.word_index)      # 단어의 수\n",
    "rare_count = 0             # 등장 빈도수가 threshold보다 작은 단어의 개수를 count\n",
    "total_freq = 0             # 훈련 데이터의 전체 단어 빈도수 총 합\n",
    "rare_freq = 0              # 등장 빈도수가 threshold보다 작은 단어의 등장 빈도수 총 합\n",
    "\n",
    "# 단어와 빈도수의 쌍(pair)을 key와 value로 받음.\n",
    "for key, value in src_tokenizer.word_counts.items():\n",
    "    total_freq = total_freq + value\n",
    "    \n",
    "    # 단어의 등장 빈도수가 threshold보다 작으면\n",
    "    if (value < threshold) :\n",
    "        rare_count = rare_count + 1\n",
    "        rare_freq = rare_freq + value\n",
    "        \n",
    "print('단어 집합의 크기 : ', total_count)\n",
    "print('등장 빈도가 %s번 이하인 희귀 단어의 수: %s'%(threshold - 1, rare_count))\n",
    "print('단어 집합에서 희귀 단어를 제외시킬 경우의 단어 집합의 크기: %s'%(total_count - rare_count))\n",
    "print(\"단어 집합에서 희귀 단어의 비율:\", (rare_count / total_count)*100)\n",
    "print(\"전체 등장 빈도에서 희귀 단어 등장 빈도 비율:\", (rare_freq / total_freq)*100)"
   ]
  },
  {
   "cell_type": "code",
   "execution_count": 68,
   "metadata": {},
   "outputs": [],
   "source": [
    "src_vocab = 18000\n",
    "src_tokenizer = Tokenizer(num_words = src_vocab) # 단어 집합의 크기를 8,000으로 제한\n",
    "src_tokenizer.fit_on_texts(encoder_input_train) # 단어 집합 재생성."
   ]
  },
  {
   "cell_type": "code",
   "execution_count": 69,
   "metadata": {},
   "outputs": [
    {
     "name": "stdout",
     "output_type": "stream",
     "text": [
      "[[91, 29, 333, 162, 11, 4203, 4246, 2806, 2057, 4952, 383, 7647, 3844, 1451, 89, 12258, 2806, 775, 11, 7647, 2, 1964, 801, 110, 12259, 897, 5516, 5758, 2307, 4078, 6562, 5516, 1590, 11, 1035, 1426], [351, 407, 72, 5976, 1130, 3, 12, 256, 298, 322, 110, 416, 3769, 3605, 128, 1211, 241, 1, 615, 5, 124, 5162, 575, 5162, 3387, 99, 42, 2293, 1099, 2767], [2073, 420, 667, 138, 511, 51, 3770, 29, 36, 200, 449, 188, 630, 2034, 133, 11419, 6, 36, 164, 126, 1270, 449, 1297, 869, 294, 1176, 659, 1048, 456, 6050, 2308, 5297, 7934, 320]]\n"
     ]
    }
   ],
   "source": [
    "# 텍스트 시퀀스를 정수 시퀀스로 변환\n",
    "encoder_input_train = src_tokenizer.texts_to_sequences(encoder_input_train)\n",
    "encoder_input_test = src_tokenizer.texts_to_sequences(encoder_input_test)\n",
    "\n",
    "# 잘 진행되었는지 샘플 출력\n",
    "print(encoder_input_train[:3])"
   ]
  },
  {
   "cell_type": "code",
   "execution_count": 70,
   "metadata": {},
   "outputs": [],
   "source": [
    "# headlines 에도 동일한 작업해주기\n",
    "tar_tokenizer = Tokenizer()\n",
    "tar_tokenizer.fit_on_texts(decoder_input_train)"
   ]
  },
  {
   "cell_type": "code",
   "execution_count": 71,
   "metadata": {},
   "outputs": [
    {
     "name": "stdout",
     "output_type": "stream",
     "text": [
      "단어 집합의 크기 :  27048\n",
      "등장 빈도가 7번 이하인 희귀 단어의 수: 19476\n",
      "단어 집합에서 희귀 단어를 제외시킬 경우의 단어 집합의 크기: 7572\n",
      "단어 집합에서 희귀 단어의 비율: 72.0053238686779\n",
      "전체 등장 빈도에서 희귀 단어 등장 빈도 비율: 8.720178148460988\n"
     ]
    }
   ],
   "source": [
    "threshold = 8\n",
    "total_count = len(tar_tokenizer.word_index)      # 단어의 수\n",
    "rare_count = 0             # 등장 빈도수가 threshold보다 작은 단어의 개수를 count\n",
    "total_freq = 0             # 훈련 데이터의 전체 단어 빈도수 총 합\n",
    "rare_freq = 0              # 등장 빈도수가 threshold보다 작은 단어의 등장 빈도수 총 합\n",
    "\n",
    "# 단어와 빈도수의 쌍(pair)을 key와 value로 받음.\n",
    "for key, value in tar_tokenizer.word_counts.items():\n",
    "    total_freq = total_freq + value\n",
    "    \n",
    "    # 단어의 등장 빈도수가 threshold보다 작으면\n",
    "    if (value < threshold) :\n",
    "        rare_count = rare_count + 1\n",
    "        rare_freq = rare_freq + value\n",
    "        \n",
    "print('단어 집합의 크기 : ', total_count)\n",
    "print('등장 빈도가 %s번 이하인 희귀 단어의 수: %s'%(threshold - 1, rare_count))\n",
    "print('단어 집합에서 희귀 단어를 제외시킬 경우의 단어 집합의 크기: %s'%(total_count - rare_count))\n",
    "print(\"단어 집합에서 희귀 단어의 비율:\", (rare_count / total_count)*100)\n",
    "print(\"전체 등장 빈도에서 희귀 단어 등장 빈도 비율:\", (rare_freq / total_freq)*100)"
   ]
  },
  {
   "cell_type": "code",
   "execution_count": 72,
   "metadata": {},
   "outputs": [],
   "source": [
    "tar_vocab = 7500\n",
    "tar_tokenizer = Tokenizer(num_words = tar_vocab) \n",
    "tar_tokenizer.fit_on_texts(decoder_input_train)\n",
    "tar_tokenizer.fit_on_texts(decoder_target_train)"
   ]
  },
  {
   "cell_type": "code",
   "execution_count": 73,
   "metadata": {},
   "outputs": [
    {
     "name": "stdout",
     "output_type": "stream",
     "text": [
      "input\n",
      "input  [[1, 1275, 6588, 1449, 615, 779, 6172], [1, 265, 260, 1363, 130, 137, 3071, 129], [1, 387, 65, 823, 58, 76, 187, 67, 497, 4052], [1, 630, 4, 464, 94], [1, 2681, 382, 683, 5804, 779]]\n",
      "target\n",
      "decoder  [[1275, 6588, 1449, 615, 779, 6172, 2], [265, 260, 1363, 130, 137, 3071, 129, 2], [387, 65, 823, 58, 76, 187, 67, 497, 4052, 2], [630, 4, 464, 94, 2], [2681, 382, 683, 5804, 779, 2]]\n"
     ]
    }
   ],
   "source": [
    "# 텍스트 시퀀스를 정수 시퀀스로 변환\n",
    "decoder_input_train = tar_tokenizer.texts_to_sequences(decoder_input_train) \n",
    "decoder_target_train = tar_tokenizer.texts_to_sequences(decoder_target_train)\n",
    "decoder_input_test = tar_tokenizer.texts_to_sequences(decoder_input_test)\n",
    "decoder_target_test = tar_tokenizer.texts_to_sequences(decoder_target_test)\n",
    "\n",
    "#잘 변환되었는지 확인\n",
    "print('input')\n",
    "print('input ',decoder_input_train[:5])\n",
    "print('target')\n",
    "print('decoder ',decoder_target_train[:5])"
   ]
  },
  {
   "cell_type": "code",
   "execution_count": 74,
   "metadata": {},
   "outputs": [
    {
     "name": "stdout",
     "output_type": "stream",
     "text": [
      "삭제할 훈련 데이터의 개수 : 4\n",
      "삭제할 테스트 데이터의 개수 : 2\n",
      "훈련 데이터의 개수 : 63400\n",
      "훈련 레이블의 개수 : 63400\n",
      "테스트 데이터의 개수 : 15849\n",
      "테스트 레이블의 개수 : 15849\n"
     ]
    },
    {
     "name": "stderr",
     "output_type": "stream",
     "text": [
      "/opt/conda/lib/python3.9/site-packages/numpy/lib/function_base.py:4454: VisibleDeprecationWarning: Creating an ndarray from ragged nested sequences (which is a list-or-tuple of lists-or-tuples-or ndarrays with different lengths or shapes) is deprecated. If you meant to do this, you must specify 'dtype=object' when creating the ndarray.\n",
      "  arr = asarray(arr)\n"
     ]
    }
   ],
   "source": [
    "# headline의 길이가 1인 경우(실제로는 길이가 0)의 인덱스를 저장해보자\n",
    "drop_train = [index for index, sentence in enumerate(decoder_input_train) if len(sentence) == 1]\n",
    "drop_test = [index for index, sentence in enumerate(decoder_input_test) if len(sentence) == 1]\n",
    "\n",
    "print('삭제할 훈련 데이터의 개수 :',len(drop_train))\n",
    "print('삭제할 테스트 데이터의 개수 :',len(drop_test))\n",
    "\n",
    "encoder_input_train = np.delete(encoder_input_train, drop_train, axis=0)\n",
    "decoder_input_train = np.delete(decoder_input_train, drop_train, axis=0)\n",
    "decoder_target_train = np.delete(decoder_target_train, drop_train, axis=0)\n",
    "\n",
    "encoder_input_test = np.delete(encoder_input_test, drop_test, axis=0)\n",
    "decoder_input_test = np.delete(decoder_input_test, drop_test, axis=0)\n",
    "decoder_target_test = np.delete(decoder_target_test, drop_test, axis=0)\n",
    "\n",
    "print('훈련 데이터의 개수 :', len(encoder_input_train))\n",
    "print('훈련 레이블의 개수 :',len(decoder_input_train))\n",
    "print('테스트 데이터의 개수 :',len(encoder_input_test))\n",
    "print('테스트 레이블의 개수 :',len(decoder_input_test))"
   ]
  },
  {
   "cell_type": "code",
   "execution_count": 75,
   "metadata": {},
   "outputs": [],
   "source": [
    "# post padding. 뒤의 공간에 숫자 0을 넣어준다\n",
    "# 아까 지정해주었던 최대 길이로 패딩.\n",
    "encoder_input_train = pad_sequences(encoder_input_train, maxlen = text_max_len, padding='post')\n",
    "encoder_input_test = pad_sequences(encoder_input_test, maxlen = text_max_len, padding='post')\n",
    "decoder_input_train = pad_sequences(decoder_input_train, maxlen = headline_max_len, padding='post')\n",
    "decoder_target_train = pad_sequences(decoder_target_train, maxlen = headline_max_len, padding='post')\n",
    "decoder_input_test = pad_sequences(decoder_input_test, maxlen = headline_max_len, padding='post')\n",
    "decoder_target_test = pad_sequences(decoder_target_test, maxlen = headline_max_len, padding='post')"
   ]
  },
  {
   "cell_type": "code",
   "execution_count": 76,
   "metadata": {},
   "outputs": [
    {
     "name": "stdout",
     "output_type": "stream",
     "text": [
      "WARNING:tensorflow:Layer lstm_4 will not use cuDNN kernels since it doesn't meet the criteria. It will use a generic GPU kernel as fallback when running on GPU.\n",
      "WARNING:tensorflow:Layer lstm_5 will not use cuDNN kernels since it doesn't meet the criteria. It will use a generic GPU kernel as fallback when running on GPU.\n",
      "WARNING:tensorflow:Layer lstm_6 will not use cuDNN kernels since it doesn't meet the criteria. It will use a generic GPU kernel as fallback when running on GPU.\n",
      "WARNING:tensorflow:Layer lstm_7 will not use cuDNN kernels since it doesn't meet the criteria. It will use a generic GPU kernel as fallback when running on GPU.\n"
     ]
    }
   ],
   "source": [
    "# 인코더 설계 시작\n",
    "embedding_dim = 128\n",
    "hidden_size = 256\n",
    "\n",
    "# 인코더\n",
    "encoder_inputs = Input(shape=(text_max_len,))\n",
    "\n",
    "# 인코더의 임베딩 층\n",
    "enc_emb = Embedding(src_vocab, embedding_dim)(encoder_inputs)\n",
    "\n",
    "# 인코더의 LSTM 1\n",
    "encoder_lstm1 = LSTM(hidden_size, return_sequences=True, return_state=True, dropout=0.4, recurrent_dropout = 0.4 )\n",
    "encoder_output1, state_h1, state_c1 = encoder_lstm1(enc_emb) \n",
    "\n",
    "# 인코더의 LSTM 2\n",
    "encoder_lstm2 = LSTM(hidden_size, return_sequences=True, return_state=True, dropout=0.4, recurrent_dropout=0.4)\n",
    "encoder_output2, state_h2, state_c2 = encoder_lstm2(encoder_output1)\n",
    "\n",
    "# 인코더의 LSTM 3\n",
    "encoder_lstm3 = LSTM(hidden_size, return_state=True, return_sequences=True, dropout=0.4, recurrent_dropout=0.4)\n",
    "encoder_output3, state_h, state_c= encoder_lstm3(encoder_output2)\n",
    "\n",
    "# 인코더의 LSTM 4\n",
    "encoder_lstm4 = LSTM(hidden_size, return_state=True, return_sequences=True, dropout=0.4, recurrent_dropout=0.4)\n",
    "encoder_outputs, state_h, state_c= encoder_lstm4(encoder_output3)"
   ]
  },
  {
   "cell_type": "code",
   "execution_count": 77,
   "metadata": {},
   "outputs": [
    {
     "name": "stdout",
     "output_type": "stream",
     "text": [
      "WARNING:tensorflow:Layer lstm_8 will not use cuDNN kernels since it doesn't meet the criteria. It will use a generic GPU kernel as fallback when running on GPU.\n"
     ]
    }
   ],
   "source": [
    "# 디코더 설계\n",
    "\n",
    "decoder_inputs = Input(shape=(None,))\n",
    "\n",
    "# 디코더의 임베딩 층\n",
    "dec_emb_layer = Embedding(tar_vocab, embedding_dim)\n",
    "dec_emb = dec_emb_layer(decoder_inputs)\n",
    "\n",
    "# 디코더의 LSTM\n",
    "decoder_lstm = LSTM(hidden_size, return_sequences = True, return_state = True, dropout = 0.4, recurrent_dropout=0.2)\n",
    "decoder_outputs, _, _ = decoder_lstm(dec_emb, initial_state = [state_h, state_c])"
   ]
  },
  {
   "cell_type": "code",
   "execution_count": 78,
   "metadata": {},
   "outputs": [
    {
     "name": "stdout",
     "output_type": "stream",
     "text": [
      "Model: \"model_4\"\n",
      "__________________________________________________________________________________________________\n",
      "Layer (type)                    Output Shape         Param #     Connected to                     \n",
      "==================================================================================================\n",
      "input_6 (InputLayer)            [(None, 38)]         0                                            \n",
      "__________________________________________________________________________________________________\n",
      "embedding_2 (Embedding)         (None, 38, 128)      2304000     input_6[0][0]                    \n",
      "__________________________________________________________________________________________________\n",
      "lstm_4 (LSTM)                   [(None, 38, 256), (N 394240      embedding_2[0][0]                \n",
      "__________________________________________________________________________________________________\n",
      "lstm_5 (LSTM)                   [(None, 38, 256), (N 525312      lstm_4[0][0]                     \n",
      "__________________________________________________________________________________________________\n",
      "input_7 (InputLayer)            [(None, None)]       0                                            \n",
      "__________________________________________________________________________________________________\n",
      "lstm_6 (LSTM)                   [(None, 38, 256), (N 525312      lstm_5[0][0]                     \n",
      "__________________________________________________________________________________________________\n",
      "embedding_3 (Embedding)         (None, None, 128)    960000      input_7[0][0]                    \n",
      "__________________________________________________________________________________________________\n",
      "lstm_7 (LSTM)                   [(None, 38, 256), (N 525312      lstm_6[0][0]                     \n",
      "__________________________________________________________________________________________________\n",
      "lstm_8 (LSTM)                   [(None, None, 256),  394240      embedding_3[0][0]                \n",
      "                                                                 lstm_7[0][1]                     \n",
      "                                                                 lstm_7[0][2]                     \n",
      "__________________________________________________________________________________________________\n",
      "dense_2 (Dense)                 (None, None, 7500)   1927500     lstm_8[0][0]                     \n",
      "==================================================================================================\n",
      "Total params: 7,555,916\n",
      "Trainable params: 7,555,916\n",
      "Non-trainable params: 0\n",
      "__________________________________________________________________________________________________\n"
     ]
    }
   ],
   "source": [
    "# 디코더의 출력층\n",
    "decoder_softmax_layer = Dense(tar_vocab, activation='softmax')\n",
    "decoder_softmax_outputs = decoder_softmax_layer(decoder_outputs) \n",
    "\n",
    "# 모델 정의\n",
    "model = Model([encoder_inputs, decoder_inputs], decoder_softmax_outputs)\n",
    "model.summary()"
   ]
  },
  {
   "cell_type": "code",
   "execution_count": 79,
   "metadata": {},
   "outputs": [
    {
     "name": "stdout",
     "output_type": "stream",
     "text": [
      "Model: \"model_5\"\n",
      "__________________________________________________________________________________________________\n",
      "Layer (type)                    Output Shape         Param #     Connected to                     \n",
      "==================================================================================================\n",
      "input_6 (InputLayer)            [(None, 38)]         0                                            \n",
      "__________________________________________________________________________________________________\n",
      "embedding_2 (Embedding)         (None, 38, 128)      2304000     input_6[0][0]                    \n",
      "__________________________________________________________________________________________________\n",
      "lstm_4 (LSTM)                   [(None, 38, 256), (N 394240      embedding_2[0][0]                \n",
      "__________________________________________________________________________________________________\n",
      "lstm_5 (LSTM)                   [(None, 38, 256), (N 525312      lstm_4[0][0]                     \n",
      "__________________________________________________________________________________________________\n",
      "input_7 (InputLayer)            [(None, None)]       0                                            \n",
      "__________________________________________________________________________________________________\n",
      "lstm_6 (LSTM)                   [(None, 38, 256), (N 525312      lstm_5[0][0]                     \n",
      "__________________________________________________________________________________________________\n",
      "embedding_3 (Embedding)         (None, None, 128)    960000      input_7[0][0]                    \n",
      "__________________________________________________________________________________________________\n",
      "lstm_7 (LSTM)                   [(None, 38, 256), (N 525312      lstm_6[0][0]                     \n",
      "__________________________________________________________________________________________________\n",
      "lstm_8 (LSTM)                   [(None, None, 256),  394240      embedding_3[0][0]                \n",
      "                                                                 lstm_7[0][1]                     \n",
      "                                                                 lstm_7[0][2]                     \n",
      "__________________________________________________________________________________________________\n",
      "attention_layer (AdditiveAttent (None, None, 256)    256         lstm_8[0][0]                     \n",
      "                                                                 lstm_7[0][0]                     \n",
      "__________________________________________________________________________________________________\n",
      "concat_layer (Concatenate)      (None, None, 512)    0           lstm_8[0][0]                     \n",
      "                                                                 attention_layer[0][0]            \n",
      "__________________________________________________________________________________________________\n",
      "dense_3 (Dense)                 (None, None, 7500)   3847500     concat_layer[0][0]               \n",
      "==================================================================================================\n",
      "Total params: 9,476,172\n",
      "Trainable params: 9,476,172\n",
      "Non-trainable params: 0\n",
      "__________________________________________________________________________________________________\n"
     ]
    }
   ],
   "source": [
    "# 어텐션 층(어텐션 함수)\n",
    "attn_layer = AdditiveAttention(name='attention_layer')\n",
    "\n",
    "# 인코더와 디코더의 모든 time step의 hidden state를 어텐션 층에 전달하고 결과를 리턴\n",
    "attn_out = attn_layer([decoder_outputs, encoder_outputs])\n",
    "\n",
    "\n",
    "# 어텐션의 결과와 디코더의 hidden state들을 연결\n",
    "decoder_concat_input = Concatenate(axis=-1, name='concat_layer')([decoder_outputs, attn_out])\n",
    "\n",
    "# 디코더의 출력층\n",
    "decoder_softmax_layer = Dense(tar_vocab, activation='softmax')\n",
    "decoder_softmax_outputs = decoder_softmax_layer(decoder_concat_input)\n",
    "\n",
    "# 모델 정의\n",
    "model = Model([encoder_inputs, decoder_inputs], decoder_softmax_outputs)\n",
    "model.summary()"
   ]
  },
  {
   "cell_type": "code",
   "execution_count": 80,
   "metadata": {},
   "outputs": [
    {
     "name": "stdout",
     "output_type": "stream",
     "text": [
      "Epoch 1/50\n",
      "248/248 [==============================] - 178s 678ms/step - loss: 5.8673 - val_loss: 5.4875\n",
      "Epoch 2/50\n",
      "248/248 [==============================] - 167s 674ms/step - loss: 5.3744 - val_loss: 5.1220\n",
      "Epoch 3/50\n",
      "248/248 [==============================] - 167s 673ms/step - loss: 5.0511 - val_loss: 4.8858\n",
      "Epoch 4/50\n",
      "248/248 [==============================] - 166s 670ms/step - loss: 4.8026 - val_loss: 4.7057\n",
      "Epoch 5/50\n",
      "248/248 [==============================] - 164s 661ms/step - loss: 4.5889 - val_loss: 4.5392\n",
      "Epoch 6/50\n",
      "248/248 [==============================] - 165s 663ms/step - loss: 4.4034 - val_loss: 4.4395\n",
      "Epoch 7/50\n",
      "248/248 [==============================] - 164s 661ms/step - loss: 4.2456 - val_loss: 4.3440\n",
      "Epoch 8/50\n",
      "248/248 [==============================] - 163s 659ms/step - loss: 4.1085 - val_loss: 4.2688\n",
      "Epoch 9/50\n",
      "248/248 [==============================] - 164s 661ms/step - loss: 3.9841 - val_loss: 4.2095\n",
      "Epoch 10/50\n",
      "248/248 [==============================] - 163s 659ms/step - loss: 3.8735 - val_loss: 4.1628\n",
      "Epoch 11/50\n",
      "248/248 [==============================] - 163s 657ms/step - loss: 3.7742 - val_loss: 4.1231\n",
      "Epoch 12/50\n",
      "248/248 [==============================] - 163s 657ms/step - loss: 3.6808 - val_loss: 4.0909\n",
      "Epoch 13/50\n",
      "248/248 [==============================] - 163s 659ms/step - loss: 3.5975 - val_loss: 4.0753\n",
      "Epoch 14/50\n",
      "248/248 [==============================] - 164s 661ms/step - loss: 3.5178 - val_loss: 4.0430\n",
      "Epoch 15/50\n",
      "248/248 [==============================] - 163s 659ms/step - loss: 3.4391 - val_loss: 4.0289\n",
      "Epoch 16/50\n",
      "248/248 [==============================] - 163s 659ms/step - loss: 3.3684 - val_loss: 4.0096\n",
      "Epoch 17/50\n",
      "248/248 [==============================] - 163s 656ms/step - loss: 3.3047 - val_loss: 3.9999\n",
      "Epoch 18/50\n",
      "248/248 [==============================] - 163s 659ms/step - loss: 3.2455 - val_loss: 3.9877\n",
      "Epoch 19/50\n",
      "248/248 [==============================] - 164s 660ms/step - loss: 3.1897 - val_loss: 3.9877\n",
      "Epoch 20/50\n",
      "248/248 [==============================] - 164s 660ms/step - loss: 3.1365 - val_loss: 3.9740\n",
      "Epoch 21/50\n",
      "248/248 [==============================] - 164s 661ms/step - loss: 3.0838 - val_loss: 3.9804\n",
      "Epoch 22/50\n",
      "248/248 [==============================] - 163s 657ms/step - loss: 3.0302 - val_loss: 3.9734\n",
      "Epoch 23/50\n",
      "248/248 [==============================] - 163s 656ms/step - loss: 2.9791 - val_loss: 3.9741\n",
      "Epoch 24/50\n",
      "248/248 [==============================] - 164s 661ms/step - loss: 2.9290 - val_loss: 3.9783\n",
      "Epoch 00024: early stopping\n"
     ]
    }
   ],
   "source": [
    "model.compile(optimizer='rmsprop', loss='sparse_categorical_crossentropy')\n",
    "es = EarlyStopping(monitor='val_loss', patience=2, verbose=1)\n",
    "history = model.fit(x=[encoder_input_train, decoder_input_train], y=decoder_target_train, \\\n",
    "          validation_data=([encoder_input_test, decoder_input_test], decoder_target_test), \\\n",
    "          batch_size=256, callbacks=[es], epochs=50)"
   ]
  },
  {
   "cell_type": "code",
   "execution_count": 81,
   "metadata": {},
   "outputs": [
    {
     "data": {
      "image/png": "[encoded data removed]",
      "text/plain": [
       "<Figure size 432x288 with 1 Axes>"
      ]
     },
     "metadata": {
      "needs_background": "light"
     },
     "output_type": "display_data"
    }
   ],
   "source": [
    "# train, test loss \n",
    "plt.plot(history.history['loss'], label='train')\n",
    "plt.plot(history.history['val_loss'], label='test')\n",
    "plt.legend()\n",
    "plt.show()"
   ]
  },
  {
   "cell_type": "code",
   "execution_count": 82,
   "metadata": {},
   "outputs": [],
   "source": [
    "# 정수 인덱스로 되어있던 텍스트 데이터를 실제 데이터로 복원하기\n",
    "\n",
    "src_index_to_word = src_tokenizer.index_word # 원문 단어 집합에서 정수 -> 단어를 얻음\n",
    "tar_word_to_index = tar_tokenizer.word_index # 요약 단어 집합에서 단어 -> 정수를 얻음\n",
    "tar_index_to_word = tar_tokenizer.index_word # 요약 단어 집합에서 정수 -> 단어를 얻음"
   ]
  },
  {
   "cell_type": "code",
   "execution_count": 83,
   "metadata": {},
   "outputs": [],
   "source": [
    "# 인퍼런스 단계에서는 인코더 모델과 디코더 모델 분리해서 설계\n",
    "\n",
    "# 인코더 설계\n",
    "encoder_model = Model(inputs=encoder_inputs, outputs=[encoder_outputs, state_h, state_c])\n",
    "\n",
    "# 이전 시점의 상태들을 저장하는 텐서\n",
    "decoder_state_input_h = Input(shape=(hidden_size,))\n",
    "decoder_state_input_c = Input(shape=(hidden_size,))\n",
    "\n",
    "dec_emb2 = dec_emb_layer(decoder_inputs)\n",
    "\n",
    "# 문장의 다음 단어를 예측하기 위해서 초기 상태(initial_state)를 이전 시점의 상태로 사용. 이는 뒤의 함수 decode_sequence()에 구현\n",
    "# 훈련 과정에서와 달리 LSTM의 리턴하는 은닉 상태와 셀 상태인 state_h와 state_c를 버리지 않음.\n",
    "decoder_outputs2, state_h2, state_c2 = decoder_lstm(dec_emb2, initial_state=[decoder_state_input_h, decoder_state_input_c])\n"
   ]
  },
  {
   "cell_type": "code",
   "execution_count": 84,
   "metadata": {},
   "outputs": [],
   "source": [
    "# 어텐션 함수\n",
    "decoder_hidden_state_input = Input(shape=(text_max_len, hidden_size))\n",
    "attn_out_inf = attn_layer([decoder_outputs2, decoder_hidden_state_input])\n",
    "decoder_inf_concat = Concatenate(axis=-1, name='concat')([decoder_outputs2, attn_out_inf])\n",
    "\n",
    "# 디코더의 출력층\n",
    "decoder_outputs2 = decoder_softmax_layer(decoder_inf_concat) \n",
    "\n",
    "# 최종 디코더 모델\n",
    "decoder_model = Model(\n",
    "    [decoder_inputs] + [decoder_hidden_state_input,decoder_state_input_h, decoder_state_input_c],\n",
    "    [decoder_outputs2] + [state_h2, state_c2])"
   ]
  },
  {
   "cell_type": "code",
   "execution_count": 85,
   "metadata": {
    "scrolled": true
   },
   "outputs": [
    {
     "name": "stdout",
     "output_type": "stream",
     "text": [
      "원문 : former sprinter eight time olympic champion usain bolt sunday took twitter announce signed football club metre world record holder added reveal name team tuesday last year bolt lifelong manchester united fan said lot clubs reached \n",
      "실제 헤드라인 : signed football team usain bolt \n",
      "예측 헤드라인 :  usain bolt player retires record\n",
      "\n",
      "\n",
      "원문 : bombay high court recently dismissed man plea divorce allegations wife cook sufficient food spend quality time also alleged wife would abuse tried wake early morning bench observed allegations made amount cruelty \n",
      "실제 헤드라인 : mumbai man seeks divorce wife cook food \n",
      "예측 헤드라인 :  hc wife divorce man filing divorce\n",
      "\n",
      "\n",
      "원문 : egyptian lawyer sentenced three years jail saying raping harassing girls wearing revealing clothing national duty lawyer made remarks tv panel show october debate draft law prostitution also fined egyptian pounds \n",
      "실제 헤드라인 : egypt lawyer jailed calling rape women wear jeans \n",
      "예측 헤드라인 :  jailed yrs jail\n",
      "\n",
      "\n",
      "원문 : us navy destroyer stationed coast hawaii tuesday shot medium range ballistic missile test day north korea test launched similar missile describing test key milestone officials said us continue developing missile defence technologies stay ahead threat \n",
      "실제 헤드라인 : us conducts missile test amid korea tensions \n",
      "예측 헤드라인 :  us nuclear war nuclear war north korea\n",
      "\n",
      "\n",
      "원문 : organisation named karnataka rakshana vedike organised wedding goat sheep bengaluru support valentine day animals flowers marked ceremony interestingly another group earlier performed marriage rituals dog donkey chennai protest valentine day \n",
      "실제 헤드라인 : goat sheep married luru support valentine day \n",
      "예측 헤드라인 :  goa govt wedding wedding\n",
      "\n",
      "\n",
      "원문 : kerala police arrested driver suv claiming deliberately blocked way ambulance shifting newborn respiratory ailment another hospital comes video showing suv giving way ambulance surfaced online however driver claimed trying pilot ambulance \n",
      "실제 헤드라인 : suv driver arrested refusing give way ambulance \n",
      "예측 헤드라인 :  cop arrested masturbating train inside woman\n",
      "\n",
      "\n",
      "원문 : tom cruise starrer american made actor best incredible real life tale wrote hindustan times firstpost called film memorable movie team cruise edge tomorrow director doug times india called breath fresh air rated \n",
      "실제 헤드라인 : tom cruise starrer american made hits theatres \n",
      "예측 헤드라인 :  tom cruise starrer hits theatres\n",
      "\n",
      "\n",
      "원문 : former karnataka cm bjp cm candidate bs yeddyurappa announced son contest upcoming state elections supporters pelted stones party mysuru office bjp never announced candidature reports suggested cm siddaramaiah son contest elections constituency \n",
      "실제 헤드라인 : bjp office attacked ticket ex karnataka cm son \n",
      "예측 헤드라인 :  bjp yeddyurappa contest seats congress\n",
      "\n",
      "\n",
      "원문 : unidentified assailants saturday shot dead principal school village bihar bhagalpur district police said mandal principal government run secondary school died spot assailants fired entering school police suspected killing might outcome personal enmity \n",
      "실제 헤드라인 : principal shot dead school bihar \n",
      "예측 헤드라인 :  bihar school killed bihar school collision\n",
      "\n",
      "\n",
      "원문 : china tuesday briefed us president donald trump visit north korean leader kim jong un beijing week white house said see development evidence campaign maximum pressure creating appropriate atmosphere dialogue north korea white house added \n",
      "실제 헤드라인 : china us kim jong un visit white house \n",
      "예측 헤드라인 :  trump kim jong un meet kim jong un\n",
      "\n",
      "\n",
      "원문 : year old priest kerala james sentenced life imprisonment thrissur court friday pastor currently serving year jail term raping minor girl convicted second time raping another minor notably judge presiding case observed convicts deserve sympathy \n",
      "실제 헤드라인 : kerala priest gets life jail second child rape case \n",
      "예측 헤드라인 :  kerala man jailed life raping minor girl\n",
      "\n",
      "\n",
      "원문 : rss chief mohan bhagwat monday said doors hinduism open believe indians originally hindus convert people hinduism believe matter community represent today hindus added speaking event organised baba ramdev mark bhagwat birthday \n",
      "실제 헤드라인 : doors hinduism open us originally hindus rss \n",
      "예측 헤드라인 :  rss chief bhagwat president\n",
      "\n",
      "\n",
      "원문 : philippine president rodrigo duterte accused us central intelligence agency plotting kill ever airplane roadside bomb maybe ask cia duterte said also slammed us halting planned sale firearms country human rights concerns \n",
      "실제 헤드라인 : philippine prez duterte accuses cia kill \n",
      "예측 헤드라인 :  philippine prez duterte calls journalist\n",
      "\n",
      "\n",
      "원문 : anushka sharma completing years bollywood december said always made unconventional choices comes instincts adding successful unconventional choices made career unconventional choices created different standing film industry said \n",
      "실제 헤드라인 : choices made successful anushka sharma \n",
      "예측 헤드라인 :  anushka anushka sharma\n",
      "\n",
      "\n",
      "원문 : cristiano ronaldo transferred juventus real madrid reported million million add per fifa regulations club invested player age gets share transfer fee hence split former clubs manchester united sporting united making million \n",
      "실제 헤드라인 : man utd make million ronaldo move juventus \n",
      "예측 헤드라인 :  ronaldo ronaldo crore transfer transfer\n",
      "\n",
      "\n",
      "원문 : indian olympic association granted saina nehwal father access athletes village commonwealth games day shuttler posted tweets complaining name missing list team officials earlier said father extra official allowed accommodation village \n",
      "실제 헤드라인 : saina father gets access cwg village \n",
      "예측 헤드라인 :  cwg winning gold winning coach\n",
      "\n",
      "\n",
      "원문 : south sudan army captured rebel stronghold forcing large number civilians flee ethiopia nearby border rebels burned fleeing prevent government forces using ammunition residents said lakh people forced homes since civil war began country \n",
      "실제 헤드라인 : south sudan army captures rebel \n",
      "예측 헤드라인 :  myanmar army use militants civilians\n",
      "\n",
      "\n",
      "원문 : team engineers developed transparent test patch printed harmless molecules signal contamination happens incorporated directly food packaging monitor contents detect harmful like according result nearly million illnesses deaths per year globally \n",
      "실제 헤드라인 : disease developed \n",
      "예측 헤드라인 :  mit based tech maker introduces tech\n",
      "\n",
      "\n",
      "원문 : amitabh bachchan taapsee pannu set star film tentatively titled directed sujoy ghosh movie reportedly remake spanish film also known invisible guest film murder mystery revolves around duo taapsee love interest businessman reports said \n",
      "실제 헤드라인 : amitabh bachchan taapsee pannu star film titled \n",
      "예측 헤드라인 :  taapsee star opposite upcoming film reports\n",
      "\n",
      "\n",
      "원문 : addressing gathering poll bound karnataka pm narendra modi monday questioned people need government asked commission work government mission development adding state requires speedy governance pm modi said state downfall guaranteed congress government continued state \n",
      "실제 헤드라인 : taka need govt commission mission asks pm modi \n",
      "예측 헤드라인 :  pm modi wants states special status\n",
      "\n",
      "\n",
      "원문 : president ram nath kovind tuesday said introduction goods services tax milestone new regime reduced barriers states creating formal economy country recognised bright spot global economy world acknowledged change business environment added \n",
      "실제 헤드라인 : gst reduced states president kovind \n",
      "예측 헤드라인 :  president kovind unveils new president\n",
      "\n",
      "\n",
      "원문 : gurdwara dubai entered guinness book world records serving breakfast people countries maximum number people different nationalities gurdwara free breakfast diversity broke previous record serving breakfast people nationalities italy \n",
      "실제 헤드라인 : dubai serves breakfast record \n",
      "예측 헤드라인 :  world record world record\n",
      "\n",
      "\n",
      "원문 : french mayor apologised plane banner saying go home king tourists english spanish flown resort town week often spanish tourists mayor denounced stunt carried youtube prankster assured tourists welcome \n",
      "실제 헤드라인 : go home king tourists plane flown france \n",
      "예측 헤드라인 :  us apologises apologises\n",
      "\n",
      "\n",
      "원문 : section rbi act empowers government issue directions central bank matters public interest consultation governor never used rbi year history government reportedly sent letters rbi seeking consultations issues including capital requirement weak banks lending small medium enterprises \n",
      "실제 헤드라인 : sec rbi act never used \n",
      "예측 헤드라인 :  rbi governor panel panel panel panel panel panel\n",
      "\n",
      "\n",
      "원문 : five year old girl explained ordeal sexual assault barbie doll delhi high court thereby confirming jail term accused court reportedly adopted method observed minor answer embarrassing derogatory dirty vulgar questions posed defence counsel \n",
      "실제 헤드라인 : yr old explains sexual assault using barbie doll \n",
      "예측 헤드라인 :  girl sexually assaulted court\n",
      "\n",
      "\n",
      "원문 : banned indian cricketer sreesanth seen arguing bollywood actor reality show bigg boss host salman khan threaten quit bigg boss house sreesanth earlier walked task show threatened quit show afterwards seen explaining actions salman saturday \n",
      "실제 헤드라인 : sreesanth salman threatens quit bigg boss \n",
      "예측 헤드라인 :  sreesanth bigg boss bigg boss\n",
      "\n",
      "\n",
      "원문 : online furniture retailer narrowed losses crore fiscal compared crore previous fiscal according filings startup also posted revenue crore rise reported revenue crore last year founded backed investors including goldman sachs \n",
      "실제 헤드라인 : losses crore fiscal \n",
      "예측 헤드라인 :  mahindra profit rises crore fy\n",
      "\n",
      "\n",
      "원문 : sonakshi sinha said much learning acting happened film sets adding never wanted actor fat kid lost weight put film never went workshops acting dancing classes added sonakshi said unlike actors making debut today well prepared \n",
      "실제 헤드라인 : fat kid lost weight put film sonakshi \n",
      "예측 헤드라인 :  sonakshi sonakshi sonakshi\n",
      "\n",
      "\n",
      "원문 : responding game thrones inspired image us president donald trump promoting imposed us sanctions iran series producer hbo said would prefer trademark political purposes phrase sanctions coming written image tweeted trump version series winter coming tagline \n",
      "실제 헤드라인 : got trademark politics hbo tells trump \n",
      "예측 헤드라인 :  game thrones war game thrones war\n",
      "\n",
      "\n",
      "원문 : several dalit organisations called bharat bandh protest supreme court ruling barring automatic arrest registration cases sc st act court claimed ruling aimed preventing misuse act however dalit groups allege ruling dilute act aimed protect marginalised communities \n",
      "실제 헤드라인 : dalit called bharat bandh \n",
      "예측 헤드라인 :  uttarakhand hc stays two cattle cattle cattle\n",
      "\n",
      "\n",
      "원문 : levelling allegations aap donations sacked aap minister kapil mishra sunday threatened delhi cm arvind kejriwal resign else would drag collar tihar jail established kejriwal corrupt said also said kejriwal hand glove mafia hawala dealers \n",
      "실제 헤드라인 : tihar jail mishra kejriwal \n",
      "예측 헤드라인 :  kejriwal files defamation case kapil mishra\n",
      "\n",
      "\n",
      "원문 : national company law tribunal thursday admitted insolvency petition corporation subsidiary hindustan construction company company owes crore lenders developing private hill city near pune maharashtra value land according government registered amounts around crore \n",
      "실제 헤드라인 : hill city face insolvency proceedings \n",
      "예측 헤드라인 :  volkswagen moves sc crore\n",
      "\n",
      "\n",
      "원문 : rare saudi arabia region recently left sand snow following snowfall roads filled cars people visited region experience snowfall region home metre high al mountain witnesses snow \n",
      "실제 헤드라인 : saudi arabia witnesses rare \n",
      "예측 헤드라인 :  saudi arabia opens nuclear\n",
      "\n",
      "\n",
      "원문 : alwar police reportedly stopped tea taking lynching victim khan hospital allegedly beaten mob cow smuggling suspicion reports state police first arranged vehicles carry seized cows shelter took nearest hospital took three hours \n",
      "실제 헤드라인 : cops went tea taking lynching victim hospital report \n",
      "예측 헤드라인 :  mob lynching accused lynching man\n",
      "\n",
      "\n",
      "원문 : congress mp shashi tharoor shared chemistry teacher wedding invitation represented bride groom two atoms name unique symbols sa calling perfect chemistry wishing couple tharoor tweeted may chemistry always physics feature light heat biology result \n",
      "실제 헤드라인 : teacher uses chemistry wedding card tharoor shares \n",
      "예측 헤드라인 :  tharoor marry wedding wedding reports\n",
      "\n",
      "\n",
      "원문 : china opened metre wide strategic highway tibet links nepal highway allow china route south asia could reportedly used civilian well military purposes notably extension road railway connectivity south asia india \n",
      "실제 헤드라인 : new china nepal highway may used military reports \n",
      "예측 헤드라인 :  china opens indian navy\n",
      "\n",
      "\n",
      "원문 : south africa ended third day johannesburg test needing another runs win india day called early batsman dean hit helmet forcing umpires discuss pitch offered uneven bounce throughout day discussions going rain also came play \n",
      "실제 헤드라인 : rain force early day \n",
      "예측 헤드라인 :  raina st ever batsman hit day\n",
      "\n",
      "\n",
      "원문 : pakistan foreign affairs ministry spokesperson mohammad faisal said meeting kulbhushan jadhav sentenced death pakistan family last adding pakistan would decide consular access appropriate time faisal called jadhav face indian terror pakistan alleged jadhav confessed raw agent \n",
      "실제 헤드라인 : last meeting jadhav family pak \n",
      "예측 헤드라인 :  pak jadhav jadhav jadhav jadhav\n",
      "\n",
      "\n",
      "원문 : telangana government announced casual leave march female employees occasion international women day meanwhile national highways authority india also announced deploy women staff least one toll booths every state union territory \n",
      "실제 헤드라인 : telangana announces holiday female staff women day \n",
      "예측 헤드라인 :  telangana village staff leave leave leave\n",
      "\n",
      "\n",
      "원문 : hundreds maserati cars tuesday caught fire italian port city due floods north western area reason behind fire claimed salt water caused car batteries explode fire exact cost damage yet calculated \n",
      "실제 헤드라인 : cars catch fire battery damage italy flood \n",
      "예측 헤드라인 :  killed fire breaks collapses odisha\n",
      "\n",
      "\n",
      "원문 : delhi daredevils thursday named former australian captain ricky ponting new head coach indian premier league year old coached mumbai indians title winning season delhi daredevils announced retained rishabh pant chris morris shreyas iyer ipl \n",
      "실제 헤드라인 : delhi daredevils appoint ponting head coach ipl \n",
      "예측 헤드라인 :  dwayne johnson khan ipl ipl\n",
      "\n",
      "\n",
      "원문 : denise young smith apple vice president inclusion diversity stepping position technology giant confirmed smith took role may year previously served apple vice president worldwide talent human resources apple said former executive christie smith take role \n",
      "실제 헤드라인 : apple diversity chief young smith steps \n",
      "예측 헤드라인 :  steve jobs steve jobs apple wozniak\n",
      "\n",
      "\n",
      "원문 : huawei cfo meng argued released bail citing health concerns properties owns canada cancer survivor meng claims suffer severe sleep said worried health deteriorating meng also owns two homes vancouver worth around million million \n",
      "실제 헤드라인 : huawei cfo seeks bail health concerns homes canada \n",
      "예측 헤드라인 :  tata motors ceo accused sexual harassment case\n",
      "\n",
      "\n",
      "원문 : swiss skier landed world first stunt five simultaneously dipping one head body four times suzuki nine royals italy year old managed achieve trick flying metres snow feature said planned trick \n",
      "실제 헤드라인 : swiss performs world first \n",
      "예측 헤드라인 :  world largest house\n",
      "\n",
      "\n",
      "원문 : mumbai police reportedly refused probe money laundering case former ipl commissioner lalit modi returned chennai police saying fir filed chennai seven years fir chennai police june transferred case mumbai saying mumbai police territorial jurisdiction conduct speedy investigation case \n",
      "실제 헤드라인 : mumbai police probe lalit modi money laundering case \n",
      "예측 헤드라인 :  ed files fir fir filed filed police\n",
      "\n",
      "\n",
      "원문 : number people killed recent chemical attack took place syria province idlib climbed others injured according reports hospitals idlib province wounded people health authorities said war monitor medical workers blamed attack syrian government \n",
      "실제 헤드라인 : death toll syrian chemical attack rises reports \n",
      "예측 헤드라인 :  killed injured explosion syria\n",
      "\n",
      "\n",
      "원문 : american golfer thompson lost chance win inspiration tournament leading final round television viewer email alerted officials rule violation thompson thompson two shot lead wiped four shot penalty inch ball placement error thompson left tears asked joke \n",
      "실제 헤드라인 : golfer loses title tv spots rule breach \n",
      "예측 헤드라인 :  manchester time test cricket\n",
      "\n",
      "\n",
      "원문 : zlatan th minute penalty draw manchester united everton old trafford premier league tuesday united scored hitting post twice game besides goal draw united extended unbeaten run games draws \n",
      "실제 헤드라인 : zlatan injury time goal draw man utd \n",
      "예측 헤드라인 :  chelsea defeat chelsea goal scores\n",
      "\n",
      "\n",
      "원문 : evm machine found lying unattended national highway area constituency rajasthan police informed evm spotted locals area two officials suspended connection incident machine kept evm storage room \n",
      "실제 헤드라인 : evm machine found lying road rajasthan suspended \n",
      "예측 헤드라인 :  man falls kg accident\n",
      "\n",
      "\n",
      "원문 : australian vice captain david warner revealed south african wicketkeeper quinton de kock made vile disgusting comment wife triggered altercation near team dressing rooms emotional response something believe said always stick family warner added \n",
      "실제 헤드라인 : de kock made comment wife warner \n",
      "예측 헤드라인 :  warner asked marry warne warner\n",
      "\n",
      "\n"
     ]
    }
   ],
   "source": [
    "for i in range(50, 100):\n",
    "    print(\"원문 :\", seq2text(encoder_input_test[i]))\n",
    "    print(\"실제 헤드라인 :\", seq2summary(decoder_input_test[i]))\n",
    "    print(\"예측 헤드라인 :\", decode_sequence(encoder_input_test[i].reshape(1, text_max_len)))\n",
    "    print(\"\\n\")"
   ]
  },
  {
   "cell_type": "code",
   "execution_count": 86,
   "metadata": {},
   "outputs": [
    {
     "name": "stdout",
     "output_type": "stream",
     "text": [
      "원문 : ipl chairman rajeev shukla confirmed remaining matches scheduled chennai shifted due cauvery protests tamil nadu shukla said initially decided host matches chennai police assured adequate security would provided police informed csk would able provide security added \n",
      "실제 요약 : ipl matches shifted chennai \n",
      "예측 요약 :  ipl plant delhi govt\n"
     ]
    }
   ],
   "source": [
    "print(\"원문 :\", seq2text(encoder_input_test[100]))\n",
    "print(\"실제 요약 :\", seq2summary(decoder_input_test[100]))\n",
    "print(\"예측 요약 :\", decode_sequence(encoder_input_test[100].reshape(1, text_max_len)))"
   ]
  },
  {
   "cell_type": "markdown",
   "metadata": {},
   "source": [
    "## 5. Summa을 이용해서 추출적 요약해보기"
   ]
  },
  {
   "cell_type": "code",
   "execution_count": 87,
   "metadata": {},
   "outputs": [],
   "source": [
    "import requests\n",
    "from summa.summarizer import summarize"
   ]
  },
  {
   "cell_type": "code",
   "execution_count": 88,
   "metadata": {},
   "outputs": [],
   "source": [
    "urllib.request.urlretrieve(\"https://raw.githubusercontent.com/sunnysai12345/News_Summary/master/news_summary_more.csv\", filename=\"news_summary_more.csv\")\n",
    "data = pd.read_csv('news_summary_more.csv', encoding='iso-8859-1')"
   ]
  },
  {
   "cell_type": "code",
   "execution_count": 89,
   "metadata": {},
   "outputs": [
    {
     "data": {
      "text/plain": [
       "\"Saurav Kant, an alumnus of upGrad and IIIT-B's PG Program in Machine learning and Artificial Intelligence, was a Sr Systems Engineer at Infosys with almost 5 years of work experience. The program and upGrad's 360-degree career support helped him transition to a Data Scientist at Tech Mahindra with 90% salary hike. upGrad's Online Power Learning has powered 3 lakh+ careers.\""
      ]
     },
     "execution_count": 89,
     "metadata": {},
     "output_type": "execute_result"
    }
   ],
   "source": [
    "text = data['text']\n",
    "text[0]"
   ]
  },
  {
   "cell_type": "code",
   "execution_count": 90,
   "metadata": {},
   "outputs": [
    {
     "name": "stdout",
     "output_type": "stream",
     "text": [
      "Summary:\n",
      "upGrad's Online Power Learning has powered 3 lakh+ careers.\n"
     ]
    }
   ],
   "source": [
    "print('Summary:')\n",
    "print(summarize(text[0], words=5))"
   ]
  },
  {
   "cell_type": "code",
   "execution_count": 91,
   "metadata": {},
   "outputs": [
    {
     "name": "stdout",
     "output_type": "stream",
     "text": [
      "Summary:\n",
      "[\"upGrad's Online Power Learning has powered 3 lakh+ careers.\"]\n"
     ]
    }
   ],
   "source": [
    "# 리스트로 출력결과 받기\n",
    "print('Summary:')\n",
    "print(summarize(text[0], ratio=0.4, split=True))"
   ]
  },
  {
   "cell_type": "code",
   "execution_count": 92,
   "metadata": {},
   "outputs": [],
   "source": [
    "headlines = []\n",
    "for i in range(len(text)):\n",
    "    headline = summarize(text[i], ratio=0.4)\n",
    "    headlines.append(headline)"
   ]
  },
  {
   "cell_type": "code",
   "execution_count": 93,
   "metadata": {},
   "outputs": [
    {
     "data": {
      "text/plain": [
       "[\"upGrad's Online Power Learning has powered 3 lakh+ careers.\",\n",
       " 'Users get one CRED coin per rupee of bill paid, which can be used to avail rewards from brands like Ixigo, BookMyShow, UberEats, Cult.Fit and more.',\n",
       " 'The match witnessed India getting all out for 92, their seventh lowest total in ODI cricket history.',\n",
       " 'Also, customers have options to insure against Critical Illnesses, Disability and Accidental Death Benefit Rider with a life cover up to the age of 80 years.',\n",
       " 'Speaking about the sexual harassment allegations against Rajkumar Hirani, Sonam Kapoor said, \"I\\'ve known Hirani for many years...What if it\\'s not true, the [#MeToo] movement will get derailed.\" \"In the #MeToo movement, I always believe a woman.']"
      ]
     },
     "execution_count": 93,
     "metadata": {},
     "output_type": "execute_result"
    }
   ],
   "source": [
    "headlines[:5]"
   ]
  },
  {
   "cell_type": "code",
   "execution_count": 94,
   "metadata": {
    "scrolled": false
   },
   "outputs": [
    {
     "name": "stdout",
     "output_type": "stream",
     "text": [
      "원문 : Saurav Kant, an alumnus of upGrad and IIIT-B's PG Program in Machine learning and Artificial Intelligence, was a Sr Systems Engineer at Infosys with almost 5 years of work experience. The program and upGrad's 360-degree career support helped him transition to a Data Scientist at Tech Mahindra with 90% salary hike. upGrad's Online Power Learning has powered 3 lakh+ careers.\n",
      "실제 헤드라인 : upGrad learner switches to career in ML & Al with 90% salary hike\n",
      "예측 헤드라인 : upGrad's Online Power Learning has powered 3 lakh+ careers.\n",
      "\n",
      "\n",
      "원문 : Kunal Shah's credit card bill payment platform, CRED, gave users a chance to win free food from Swiggy for one year. Pranav Kaushik, a Delhi techie, bagged this reward after spending 2000 CRED coins. Users get one CRED coin per rupee of bill paid, which can be used to avail rewards from brands like Ixigo, BookMyShow, UberEats, Cult.Fit and more.\n",
      "실제 헤드라인 : Delhi techie wins free food from Swiggy for one year on CRED\n",
      "예측 헤드라인 : Users get one CRED coin per rupee of bill paid, which can be used to avail rewards from brands like Ixigo, BookMyShow, UberEats, Cult.Fit and more.\n",
      "\n",
      "\n",
      "원문 : New Zealand defeated India by 8 wickets in the fourth ODI at Hamilton on Thursday to win their first match of the five-match ODI series. India lost an international match under Rohit Sharma's captaincy after 12 consecutive victories dating back to March 2018. The match witnessed India getting all out for 92, their seventh lowest total in ODI cricket history.\n",
      "실제 헤드라인 : New Zealand end Rohit Sharma-led India's 12-match winning streak\n",
      "예측 헤드라인 : The match witnessed India getting all out for 92, their seventh lowest total in ODI cricket history.\n",
      "\n",
      "\n",
      "원문 : With Aegon Life iTerm Insurance plan, customers can enjoy tax benefits on your premiums paid and save up to Ã¢ÂÂ¹46,800^ on taxes. The plan provides life cover up to the age of 100 years. Also, customers have options to insure against Critical Illnesses, Disability and Accidental Death Benefit Rider with a life cover up to the age of 80 years.\n",
      "실제 헤드라인 : Aegon life iTerm insurance plan helps customers save tax\n",
      "예측 헤드라인 : Also, customers have options to insure against Critical Illnesses, Disability and Accidental Death Benefit Rider with a life cover up to the age of 80 years.\n",
      "\n",
      "\n",
      "원문 : Speaking about the sexual harassment allegations against Rajkumar Hirani, Sonam Kapoor said, \"I've known Hirani for many years...What if it's not true, the [#MeToo] movement will get derailed.\" \"In the #MeToo movement, I always believe a woman. But in this case, we need to reserve our judgment,\" she added. Hirani has been accused by an assistant who worked in 'Sanju'.\n",
      "실제 헤드라인 : Have known Hirani for yrs, what if MeToo claims are not true: Sonam\n",
      "예측 헤드라인 : Speaking about the sexual harassment allegations against Rajkumar Hirani, Sonam Kapoor said, \"I've known Hirani for many years...What if it's not true, the [#MeToo] movement will get derailed.\" \"In the #MeToo movement, I always believe a woman.\n",
      "\n",
      "\n",
      "원문 : Pakistani singer Rahat Fateh Ali Khan has denied receiving any notice from the Enforcement Directorate over allegedly smuggling foreign currency out of India. \"It would have been better if the authorities would have served the notice first if any and then publicised this,\" reads a press release issued on behalf of Rahat. The statement further called the allegation \"bizarre\".\n",
      "실제 헤드라인 : Rahat Fateh Ali Khan denies getting notice for smuggling currency\n",
      "예측 헤드라인 : Pakistani singer Rahat Fateh Ali Khan has denied receiving any notice from the Enforcement Directorate over allegedly smuggling foreign currency out of India.\n",
      "\n",
      "\n",
      "원문 : India recorded their lowest ODI total in New Zealand after getting all out for 92 runs in 30.5 overs in the fourth ODI at Hamilton on Thursday. Seven of India's batsmen were dismissed for single-digit scores, while their number ten batsman Yuzvendra Chahal top-scored with 18*(37). India's previous lowest ODI total in New Zealand was 108.\n",
      "실제 헤드라인 : India get all out for 92, their lowest ODI total in New Zealand\n",
      "예측 헤드라인 : India's previous lowest ODI total in New Zealand was 108.\n",
      "\n",
      "\n",
      "원문 : Weeks after ex-CBI Director Alok Verma told the Department of Personnel and Training to consider him retired, the Home Ministry asked him to join work on the last day of his fixed tenure as Director on Thursday. The ministry directed him to immediately join as DG, Fire Services, the post he was transferred to after his removal as CBI chief.\n",
      "실제 헤드라인 : Govt directs Alok Verma to join work 1 day before his retirement\n",
      "예측 헤드라인 : \n",
      "\n",
      "\n",
      "원문 : Andhra Pradesh CM N Chandrababu Naidu has said, \"When I met then US President Bill Clinton, I addressed him as Mr Clinton, not as 'sir'. (PM Narendra) Modi is my junior in politics...I addressed him as sir 10 times.\" \"I did this...to satisfy his ego in the hope that he will do justice to the state,\" he added.\n",
      "실제 헤드라인 : Called PM Modi 'sir' 10 times to satisfy his ego: Andhra CM\n",
      "예측 헤드라인 : \n",
      "\n",
      "\n",
      "원문 : Congress candidate Shafia Zubair won the Ramgarh Assembly seat in Rajasthan, by defeating BJP's Sukhwant Singh with a margin of 12,228 votes in the bypoll. With this victory, Congress has taken its total to 100 seats in the 200-member assembly. The election to the Ramgarh seat was delayed due to the death of sitting MLA and BSP candidate Laxman Singh.\n",
      "실제 헤드라인 : Cong wins Ramgarh bypoll in Rajasthan, takes total to 100 seats\n",
      "예측 헤드라인 : Congress candidate Shafia Zubair won the Ramgarh Assembly seat in Rajasthan, by defeating BJP's Sukhwant Singh with a margin of 12,228 votes in the bypoll.\n",
      "\n",
      "\n"
     ]
    }
   ],
   "source": [
    "for i in range(10):\n",
    "    print(\"원문 :\", data['text'][i])\n",
    "    print(\"실제 헤드라인 :\", data['headlines'][i])\n",
    "    print(\"예측 헤드라인 :\", headlines[i])\n",
    "    print(\"\\n\")"
   ]
  },
  {
   "cell_type": "markdown",
   "metadata": {},
   "source": [
    "## [결과 및 회고]\n",
    "\n",
    "이번 프로젝트에서는 어텐션 모델을 활용하여 뉴스 텍스트를 추상적으로 요약해보았습니다.    \n",
    "처음에는 아예 말도 안되는 문장들이 나오기도 했다가, max len과 단어집합의 크기를 조정하면서 어느 정도 실제 헤드라인과 얼추 비슷한 단어들을 포함한 문장을 뽑아낼 수 있었습니다. 그렇지만 아무리 조정해도 공통적으로 발견되는 문제점이 있었는데\n",
    "\n",
    "1. 똑같은 단어를 2번 정도 중복해서 뽑아낼 때가 있다.\n",
    "2. 그러다보니 문장이 맺어지지 않고 중간에서 끊기기도 한다.\n",
    "3. 문법적으로 어색한 문장이 있다.\n",
    "\n",
    "였습니다. 어텐션 모델의 성능을 올리기 위해 LSTM 층을 하나 더 추가하거나 헤드라인에서도 불용어를 제거해주기도 했습니다. 헤드라인에서 불용어를 제거하지 않고 요약봇을 만든 것과 제거하고 요약봇을 만든 것을 비교해보면, 제 생각에는 헤드라인에서도 불용어를 제거한 것이 더 좋은 결과를 나타냈다고 생각합니다.   \n",
    "또한 Summa를 이용한 추출적 요약도 시도했는데, 뉴스 원문 자체가 길지 않아 정확한 헤드라인을 뽑아낸다고 보기는 어려운 것 같습니다. ratio나 words를 변경하면서 살펴봤는데,\n",
    "1. 값을 적게 주면 아예 헤드라인을 뽑아내지 못하였고,   \n",
    "2. 큰 값을 주면 문장 전체를 통째로 뽑아내버려서 유의미한 요약이 아니었습니다.   \n",
    "\n",
    "그렇지만 그만큼 추상적 요약보다는 문법적으로 어색하지 않고 중복되는 단어를 가지지 않는 헤드라인을 만들 수 있었습니다.   \n",
    "\n",
    "\n"
   ]
  }
 ],
 "metadata": {
  "kernelspec": {
   "display_name": "Python 3 (ipykernel)",
   "language": "python",
   "name": "python3"
  },
  "language_info": {
   "codemirror_mode": {
    "name": "ipython",
    "version": 3
   },
   "file_extension": ".py",
   "mimetype": "text/x-python",
   "name": "python",
   "nbconvert_exporter": "python",
   "pygments_lexer": "ipython3",
   "version": "3.9.7"
  }
 },
 "nbformat": 4,
 "nbformat_minor": 4
}
